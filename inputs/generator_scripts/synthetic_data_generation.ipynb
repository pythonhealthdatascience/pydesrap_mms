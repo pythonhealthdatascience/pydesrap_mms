{
 "cells": [
  {
   "cell_type": "markdown",
   "metadata": {},
   "source": [
    "# Synthetic data generation\n",
    "\n",
    "This notebook creates a synthetic dataset for use in the discrete-event simulation templates.\n",
    "\n",
    "The structure of the dataset is based on the data dictionary from the [Emergency Care Data Set (ECDS)], ensuring that the fields and formats loosely mirror real NHS data. However, the content itself is entirely artificial and is designed for a simplified/non-specific scenario which we will call nurse consultations.\n",
    "\n",
    "All data values are entirely synthetic and reverse-engineered to be suitable for an M/M/s queueing model (i.e., Poisson arrivals and exponential service times).\n",
    "\n",
    "**Why did we make this data?** It allows us to illustrate a typical workflow: starting from raw data, processing it, and extracting parameters for use in the simulation model."
   ]
  },
  {
   "cell_type": "code",
   "execution_count": 1,
   "metadata": {},
   "outputs": [],
   "source": [
    "import numpy as np\n",
    "import pandas as pd\n",
    "\n",
    "from sim_tools.distributions import Poisson, Exponential"
   ]
  },
  {
   "cell_type": "markdown",
   "metadata": {},
   "source": [
    "Parameters."
   ]
  },
  {
   "cell_type": "code",
   "execution_count": 2,
   "metadata": {},
   "outputs": [],
   "source": [
    "# Generate data from one year\n",
    "hours = 365*24\n",
    "\n",
    "# Mean arrival rate (patients per hour)\n",
    "arrival_rate = 15\n",
    "\n",
    "# Mean wait time (in minutes)\n",
    "wait_time_mean = 5\n",
    "\n",
    "# Mean service time (in minutes)\n",
    "service_time_mean = 10\n",
    "\n",
    "# Random seeds\n",
    "seeds = [101, 202, 303]"
   ]
  },
  {
   "cell_type": "markdown",
   "metadata": {},
   "source": [
    "Generate arrival times."
   ]
  },
  {
   "cell_type": "code",
   "execution_count": 3,
   "metadata": {},
   "outputs": [],
   "source": [
    "# Sample patients per hour\n",
    "arrival_dist = Poisson(rate=arrival_rate, random_seed=seeds[0])\n",
    "hourly_counts = arrival_dist.sample(size=hours)\n",
    "\n",
    "# Generate precise arrival timestamps (in seconds)\n",
    "arrival_timestamps = []\n",
    "current_time = 0\n",
    "for hour, count in enumerate(hourly_counts):\n",
    "    if count > 0:\n",
    "        # Spread arrivals randomly within the hour\n",
    "        offsets = np.sort(np.random.uniform(0, 3600, count))  # seconds\n",
    "        arrival_timestamps.extend(hour * 3600 + offsets)\n",
    "\n",
    "# Convert to datetime format (starting from 2025-01-01)\n",
    "base_date = np.datetime64('2025-01-01')\n",
    "arrival_dates = base_date + np.array(arrival_timestamps).astype('timedelta64[s]')"
   ]
  },
  {
   "cell_type": "code",
   "execution_count": 4,
   "metadata": {},
   "outputs": [
    {
     "name": "stdout",
     "output_type": "stream",
     "text": [
      "Total patients: 131916\n"
     ]
    }
   ],
   "source": [
    "# Find total patients\n",
    "total_patients = hourly_counts.sum()\n",
    "print(f\"Total patients: {total_patients}\")"
   ]
  },
  {
   "cell_type": "markdown",
   "metadata": {},
   "source": [
    "Generate wait times and service durations."
   ]
  },
  {
   "cell_type": "code",
   "execution_count": 5,
   "metadata": {},
   "outputs": [],
   "source": [
    "# Generate wait times\n",
    "wait_dist = Exponential(mean=wait_time_mean, random_seed=seeds[1])\n",
    "wait_times = np.round(wait_dist.sample(size=total_patients), 1)\n",
    "\n",
    "# Generate service durations\n",
    "server_dist = Exponential(mean=service_time_mean, random_seed=seeds[2])\n",
    "service_durations = np.round(server_dist.sample(size=total_patients), 1)"
   ]
  },
  {
   "cell_type": "markdown",
   "metadata": {},
   "source": [
    "Calculate time first seen and departure times."
   ]
  },
  {
   "cell_type": "code",
   "execution_count": 6,
   "metadata": {},
   "outputs": [],
   "source": [
    "time_first_seen = [arr + pd.Timedelta(minutes=wt) \n",
    "                   for arr, wt in zip(arrival_dates, wait_times)]\n",
    "\n",
    "departure_times = [first_seen + pd.Timedelta(minutes=svc)\n",
    "                   for first_seen, svc in zip(time_first_seen, service_durations)]"
   ]
  },
  {
   "cell_type": "markdown",
   "metadata": {},
   "source": [
    "Create dataframe, and save to csv."
   ]
  },
  {
   "cell_type": "code",
   "execution_count": 7,
   "metadata": {},
   "outputs": [
    {
     "data": {
      "text/html": [
       "<div>\n",
       "<style scoped>\n",
       "    .dataframe tbody tr th:only-of-type {\n",
       "        vertical-align: middle;\n",
       "    }\n",
       "\n",
       "    .dataframe tbody tr th {\n",
       "        vertical-align: top;\n",
       "    }\n",
       "\n",
       "    .dataframe thead th {\n",
       "        text-align: right;\n",
       "    }\n",
       "</style>\n",
       "<table border=\"1\" class=\"dataframe\">\n",
       "  <thead>\n",
       "    <tr style=\"text-align: right;\">\n",
       "      <th></th>\n",
       "      <th>ARRIVAL_DATE</th>\n",
       "      <th>ARRIVAL_TIME</th>\n",
       "      <th>SERVICE_DATE</th>\n",
       "      <th>SERVICE_TIME</th>\n",
       "      <th>DEPARTURE_DATE</th>\n",
       "      <th>DEPARTURE_TIME</th>\n",
       "    </tr>\n",
       "  </thead>\n",
       "  <tbody>\n",
       "    <tr>\n",
       "      <th>0</th>\n",
       "      <td>2025-01-01</td>\n",
       "      <td>0001</td>\n",
       "      <td>2025-01-01</td>\n",
       "      <td>0007</td>\n",
       "      <td>2025-01-01</td>\n",
       "      <td>0012</td>\n",
       "    </tr>\n",
       "    <tr>\n",
       "      <th>1</th>\n",
       "      <td>2025-01-01</td>\n",
       "      <td>0002</td>\n",
       "      <td>2025-01-01</td>\n",
       "      <td>0004</td>\n",
       "      <td>2025-01-01</td>\n",
       "      <td>0007</td>\n",
       "    </tr>\n",
       "    <tr>\n",
       "      <th>2</th>\n",
       "      <td>2025-01-01</td>\n",
       "      <td>0003</td>\n",
       "      <td>2025-01-01</td>\n",
       "      <td>0010</td>\n",
       "      <td>2025-01-01</td>\n",
       "      <td>0030</td>\n",
       "    </tr>\n",
       "    <tr>\n",
       "      <th>3</th>\n",
       "      <td>2025-01-01</td>\n",
       "      <td>0007</td>\n",
       "      <td>2025-01-01</td>\n",
       "      <td>0014</td>\n",
       "      <td>2025-01-01</td>\n",
       "      <td>0022</td>\n",
       "    </tr>\n",
       "    <tr>\n",
       "      <th>4</th>\n",
       "      <td>2025-01-01</td>\n",
       "      <td>0010</td>\n",
       "      <td>2025-01-01</td>\n",
       "      <td>0012</td>\n",
       "      <td>2025-01-01</td>\n",
       "      <td>0031</td>\n",
       "    </tr>\n",
       "  </tbody>\n",
       "</table>\n",
       "</div>"
      ],
      "text/plain": [
       "  ARRIVAL_DATE ARRIVAL_TIME SERVICE_DATE SERVICE_TIME DEPARTURE_DATE  \\\n",
       "0   2025-01-01         0001   2025-01-01         0007     2025-01-01   \n",
       "1   2025-01-01         0002   2025-01-01         0004     2025-01-01   \n",
       "2   2025-01-01         0003   2025-01-01         0010     2025-01-01   \n",
       "3   2025-01-01         0007   2025-01-01         0014     2025-01-01   \n",
       "4   2025-01-01         0010   2025-01-01         0012     2025-01-01   \n",
       "\n",
       "  DEPARTURE_TIME  \n",
       "0           0012  \n",
       "1           0007  \n",
       "2           0030  \n",
       "3           0022  \n",
       "4           0031  "
      ]
     },
     "execution_count": 7,
     "metadata": {},
     "output_type": "execute_result"
    }
   ],
   "source": [
    "# Ensure all are pandas Series of datetime64\n",
    "arrival_series = pd.to_datetime(arrival_dates)\n",
    "service_series = pd.to_datetime(time_first_seen)\n",
    "departure_series = pd.to_datetime(departure_times)\n",
    "\n",
    "# Create dataframe\n",
    "df = pd.DataFrame({\n",
    "    \"ARRIVAL_DATE\": arrival_series.strftime(\"%Y-%m-%d\"),\n",
    "    \"ARRIVAL_TIME\": arrival_series.strftime(\"%H%M\"),\n",
    "    \"SERVICE_DATE\": service_series.strftime(\"%Y-%m-%d\"),\n",
    "    \"SERVICE_TIME\": service_series.strftime(\"%H%M\"),\n",
    "    \"DEPARTURE_DATE\": departure_series.strftime(\"%Y-%m-%d\"),\n",
    "    \"DEPARTURE_TIME\": departure_series.strftime(\"%H%M\"),\n",
    "})\n",
    "df.head()"
   ]
  },
  {
   "cell_type": "code",
   "execution_count": 8,
   "metadata": {},
   "outputs": [],
   "source": [
    "df.to_csv(\"../NHS_synthetic.csv\", index=False)"
   ]
  }
 ],
 "metadata": {
  "kernelspec": {
   "display_name": "template-des",
   "language": "python",
   "name": "python3"
  },
  "language_info": {
   "codemirror_mode": {
    "name": "ipython",
    "version": 3
   },
   "file_extension": ".py",
   "mimetype": "text/x-python",
   "name": "python",
   "nbconvert_exporter": "python",
   "pygments_lexer": "ipython3",
   "version": "3.13.1"
  }
 },
 "nbformat": 4,
 "nbformat_minor": 2
}
