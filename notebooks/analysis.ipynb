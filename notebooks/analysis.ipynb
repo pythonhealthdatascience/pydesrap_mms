{
 "cells": [
  {
   "cell_type": "markdown",
   "metadata": {},
   "source": [
    "# Analysis\n",
    "\n",
    "This notebook presents execution and results from:\n",
    "\n",
    "* Base case analysis\n",
    "* Scenario analysis\n",
    "* Sensitivity analysis\n",
    "\n",
    "The run time is provided at the end of the notebook.\n",
    "\n",
    "Credit:\n",
    "\n",
    "* Analysis of the spread of replication results was adapted from Tom Monks (2024) HPDM097 - Making a difference with health data (https://github.com/health-data-science-OR/stochastic_systems) (MIT License)."
   ]
  },
  {
   "cell_type": "markdown",
   "metadata": {},
   "source": [
    "## Set-up\n",
    "\n",
    "Load notebook linters."
   ]
  },
  {
   "cell_type": "code",
   "execution_count": 1,
   "metadata": {},
   "outputs": [],
   "source": [
    "%load_ext pycodestyle_magic"
   ]
  },
  {
   "cell_type": "code",
   "execution_count": 2,
   "metadata": {},
   "outputs": [],
   "source": [
    "%pycodestyle_on"
   ]
  },
  {
   "cell_type": "markdown",
   "metadata": {},
   "source": [
    "Load required packages."
   ]
  },
  {
   "cell_type": "code",
   "execution_count": 3,
   "metadata": {},
   "outputs": [],
   "source": [
    "# To ensure any updates to `simulation/` are fetched without needing to restart\n",
    "# the notebook environment, reload `simulation/` before execution of each cell\n",
    "%load_ext autoreload\n",
    "%autoreload 1\n",
    "%aimport simulation"
   ]
  },
  {
   "cell_type": "code",
   "execution_count": 4,
   "metadata": {},
   "outputs": [],
   "source": [
    "from great_tables import GT\n",
    "import itertools\n",
    "import os\n",
    "import plotly.express as px\n",
    "import polars as pl\n",
    "import time\n",
    "\n",
    "from simulation.logging import SimLogger\n",
    "from simulation.model import Defaults, Model, Trial, summary_stats\n",
    "\n",
    "import scipy.stats as st\n",
    "import numpy as np"
   ]
  },
  {
   "cell_type": "markdown",
   "metadata": {},
   "source": [
    "Start timer."
   ]
  },
  {
   "cell_type": "code",
   "execution_count": 5,
   "metadata": {},
   "outputs": [],
   "source": [
    "start_time = time.time()"
   ]
  },
  {
   "cell_type": "markdown",
   "metadata": {},
   "source": [
    "Define path to outputs folder."
   ]
  },
  {
   "cell_type": "code",
   "execution_count": 6,
   "metadata": {},
   "outputs": [],
   "source": [
    "output_dir = '../outputs/'"
   ]
  },
  {
   "cell_type": "markdown",
   "metadata": {},
   "source": [
    "## Default run"
   ]
  },
  {
   "cell_type": "markdown",
   "metadata": {},
   "source": [
    "Run with default parameters."
   ]
  },
  {
   "cell_type": "code",
   "execution_count": 7,
   "metadata": {},
   "outputs": [],
   "source": [
    "param = Defaults()\n",
    "trial = Trial(param)\n",
    "trial.run_trial()"
   ]
  },
  {
   "cell_type": "markdown",
   "metadata": {},
   "source": [
    "Preview results and save to `.csv` files.\n",
    "\n",
    "Patient-level results are a large file, so that could be compressed and saved as `.csv.gz`:\n",
    "\n",
    "```\n",
    "# (At start of file) import required library\n",
    "import gzip\n",
    "\n",
    "# Set path to file\n",
    "file_path = os.path.join(output_dir, 'example_patient.csv.gz')\n",
    "\n",
    "# Save file\n",
    "with gzip.open(file_path, 'wb') as f:\n",
    "    trial.patient_results_df.write_csv(f)\n",
    "\n",
    "# Load file\n",
    "with gzip.open(file_path, 'rb') as f:\n",
    "    patient_results = pl.read_csv(f)\n",
    "```\n",
    "\n",
    "However, in may cases, it may not be necessary to save this file - and may be more appropriate to just save the later results."
   ]
  },
  {
   "cell_type": "code",
   "execution_count": 8,
   "metadata": {},
   "outputs": [
    {
     "data": {
      "text/html": [
       "<div><style>\n",
       ".dataframe > thead > tr,\n",
       ".dataframe > tbody > tr {\n",
       "  text-align: right;\n",
       "  white-space: pre-wrap;\n",
       "}\n",
       "</style>\n",
       "<small>shape: (5, 6)</small><table border=\"1\" class=\"dataframe\"><thead><tr><th>run_number</th><th>scenario</th><th>arrivals</th><th>mean_q_time_nurse</th><th>mean_time_with_nurse</th><th>mean_nurse_utilisation</th></tr><tr><td>i64</td><td>i64</td><td>i64</td><td>f64</td><td>f64</td><td>f64</td></tr></thead><tbody><tr><td>0</td><td>0</td><td>10972</td><td>0.504541</td><td>9.842268</td><td>0.499639</td></tr><tr><td>1</td><td>0</td><td>10784</td><td>0.514151</td><td>10.060481</td><td>0.501991</td></tr><tr><td>2</td><td>0</td><td>10854</td><td>0.523235</td><td>9.925025</td><td>0.49813</td></tr><tr><td>3</td><td>0</td><td>10831</td><td>0.479149</td><td>9.937057</td><td>0.49822</td></tr><tr><td>4</td><td>0</td><td>10720</td><td>0.461457</td><td>10.015904</td><td>0.49687</td></tr></tbody></table></div>"
      ],
      "text/plain": [
       "shape: (5, 6)\n",
       "┌────────────┬──────────┬──────────┬───────────────────┬─────────────────────┬─────────────────────┐\n",
       "│ run_number ┆ scenario ┆ arrivals ┆ mean_q_time_nurse ┆ mean_time_with_nurs ┆ mean_nurse_utilisat │\n",
       "│ ---        ┆ ---      ┆ ---      ┆ ---               ┆ e                   ┆ ion                 │\n",
       "│ i64        ┆ i64      ┆ i64      ┆ f64               ┆ ---                 ┆ ---                 │\n",
       "│            ┆          ┆          ┆                   ┆ f64                 ┆ f64                 │\n",
       "╞════════════╪══════════╪══════════╪═══════════════════╪═════════════════════╪═════════════════════╡\n",
       "│ 0          ┆ 0        ┆ 10972    ┆ 0.504541          ┆ 9.842268            ┆ 0.499639            │\n",
       "│ 1          ┆ 0        ┆ 10784    ┆ 0.514151          ┆ 10.060481           ┆ 0.501991            │\n",
       "│ 2          ┆ 0        ┆ 10854    ┆ 0.523235          ┆ 9.925025            ┆ 0.49813             │\n",
       "│ 3          ┆ 0        ┆ 10831    ┆ 0.479149          ┆ 9.937057            ┆ 0.49822             │\n",
       "│ 4          ┆ 0        ┆ 10720    ┆ 0.461457          ┆ 10.015904           ┆ 0.49687             │\n",
       "└────────────┴──────────┴──────────┴───────────────────┴─────────────────────┴─────────────────────┘"
      ]
     },
     "metadata": {},
     "output_type": "display_data"
    }
   ],
   "source": [
    "display(trial.trial_results_df.head())\n",
    "trial.trial_results_df.write_csv(\n",
    "    os.path.join(output_dir, 'example_trial.csv'))"
   ]
  },
  {
   "cell_type": "code",
   "execution_count": 9,
   "metadata": {},
   "outputs": [
    {
     "data": {
      "text/html": [
       "<div><style>\n",
       ".dataframe > thead > tr,\n",
       ".dataframe > tbody > tr {\n",
       "  text-align: right;\n",
       "  white-space: pre-wrap;\n",
       "}\n",
       "</style>\n",
       "<small>shape: (5, 6)</small><table border=\"1\" class=\"dataframe\"><thead><tr><th>resource_name</th><th>simulation_time</th><th>utilisation</th><th>queue_length</th><th>running_mean_wait_time</th><th>run</th></tr><tr><td>str</td><td>i64</td><td>f64</td><td>i64</td><td>f64</td><td>i32</td></tr></thead><tbody><tr><td>&quot;nurse&quot;</td><td>18720</td><td>0.6</td><td>0</td><td>0.427625</td><td>0</td></tr><tr><td>&quot;nurse&quot;</td><td>18840</td><td>0.4</td><td>0</td><td>0.425181</td><td>0</td></tr><tr><td>&quot;nurse&quot;</td><td>18960</td><td>0.6</td><td>0</td><td>0.423041</td><td>0</td></tr><tr><td>&quot;nurse&quot;</td><td>19080</td><td>1.0</td><td>3</td><td>0.427408</td><td>0</td></tr><tr><td>&quot;nurse&quot;</td><td>19200</td><td>0.6</td><td>0</td><td>0.440854</td><td>0</td></tr></tbody></table></div>"
      ],
      "text/plain": [
       "shape: (5, 6)\n",
       "┌───────────────┬─────────────────┬─────────────┬──────────────┬────────────────────────┬─────┐\n",
       "│ resource_name ┆ simulation_time ┆ utilisation ┆ queue_length ┆ running_mean_wait_time ┆ run │\n",
       "│ ---           ┆ ---             ┆ ---         ┆ ---          ┆ ---                    ┆ --- │\n",
       "│ str           ┆ i64             ┆ f64         ┆ i64          ┆ f64                    ┆ i32 │\n",
       "╞═══════════════╪═════════════════╪═════════════╪══════════════╪════════════════════════╪═════╡\n",
       "│ nurse         ┆ 18720           ┆ 0.6         ┆ 0            ┆ 0.427625               ┆ 0   │\n",
       "│ nurse         ┆ 18840           ┆ 0.4         ┆ 0            ┆ 0.425181               ┆ 0   │\n",
       "│ nurse         ┆ 18960           ┆ 0.6         ┆ 0            ┆ 0.423041               ┆ 0   │\n",
       "│ nurse         ┆ 19080           ┆ 1.0         ┆ 3            ┆ 0.427408               ┆ 0   │\n",
       "│ nurse         ┆ 19200           ┆ 0.6         ┆ 0            ┆ 0.440854               ┆ 0   │\n",
       "└───────────────┴─────────────────┴─────────────┴──────────────┴────────────────────────┴─────┘"
      ]
     },
     "metadata": {},
     "output_type": "display_data"
    }
   ],
   "source": [
    "display(trial.interval_audit_df.head())\n",
    "trial.interval_audit_df.write_csv(\n",
    "    os.path.join(output_dir, 'example_interval_audit.csv'))"
   ]
  },
  {
   "cell_type": "code",
   "execution_count": 10,
   "metadata": {},
   "outputs": [
    {
     "data": {
      "text/html": [
       "<div><style>\n",
       ".dataframe > thead > tr,\n",
       ".dataframe > tbody > tr {\n",
       "  text-align: right;\n",
       "  white-space: pre-wrap;\n",
       "}\n",
       "</style>\n",
       "<small>shape: (4, 5)</small><table border=\"1\" class=\"dataframe\"><thead><tr><th>metric</th><th>arrivals</th><th>mean_q_time_nurse</th><th>mean_time_with_nurse</th><th>mean_nurse_utilisation</th></tr><tr><td>str</td><td>f64</td><td>f64</td><td>f64</td><td>f64</td></tr></thead><tbody><tr><td>&quot;mean&quot;</td><td>10776.741935</td><td>0.499037</td><td>9.978457</td><td>0.49767</td></tr><tr><td>&quot;std_dev&quot;</td><td>115.803272</td><td>0.067393</td><td>0.115138</td><td>0.007524</td></tr><tr><td>&quot;lower_95_ci&quot;</td><td>10734.264952</td><td>0.474317</td><td>9.936224</td><td>0.49491</td></tr><tr><td>&quot;upper_95_ci&quot;</td><td>10819.218919</td><td>0.523757</td><td>10.02069</td><td>0.50043</td></tr></tbody></table></div>"
      ],
      "text/plain": [
       "shape: (4, 5)\n",
       "┌─────────────┬──────────────┬───────────────────┬──────────────────────┬────────────────────────┐\n",
       "│ metric      ┆ arrivals     ┆ mean_q_time_nurse ┆ mean_time_with_nurse ┆ mean_nurse_utilisation │\n",
       "│ ---         ┆ ---          ┆ ---               ┆ ---                  ┆ ---                    │\n",
       "│ str         ┆ f64          ┆ f64               ┆ f64                  ┆ f64                    │\n",
       "╞═════════════╪══════════════╪═══════════════════╪══════════════════════╪════════════════════════╡\n",
       "│ mean        ┆ 10776.741935 ┆ 0.499037          ┆ 9.978457             ┆ 0.49767                │\n",
       "│ std_dev     ┆ 115.803272   ┆ 0.067393          ┆ 0.115138             ┆ 0.007524               │\n",
       "│ lower_95_ci ┆ 10734.264952 ┆ 0.474317          ┆ 9.936224             ┆ 0.49491                │\n",
       "│ upper_95_ci ┆ 10819.218919 ┆ 0.523757          ┆ 10.02069             ┆ 0.50043                │\n",
       "└─────────────┴──────────────┴───────────────────┴──────────────────────┴────────────────────────┘"
      ]
     },
     "metadata": {},
     "output_type": "display_data"
    }
   ],
   "source": [
    "display(trial.overall_results_df.head())\n",
    "trial.overall_results_df.write_csv(\n",
    "    os.path.join(output_dir, 'example_overall.csv'))"
   ]
  },
  {
   "cell_type": "markdown",
   "metadata": {},
   "source": [
    "## View spread of results across replications"
   ]
  },
  {
   "cell_type": "code",
   "execution_count": 11,
   "metadata": {},
   "outputs": [],
   "source": [
    "def plot_results_spread(column, x_label, file):\n",
    "    \"\"\"\n",
    "    Plot spread of results from across replications, for chosen column.\n",
    "    Show figure and save under specified file name.\n",
    "\n",
    "    Arguments:\n",
    "        column (str):\n",
    "            Name of column to plot.\n",
    "        x_label (str):\n",
    "            X axis label.\n",
    "        file (str):\n",
    "            Filename to save figure to.\n",
    "    \"\"\"\n",
    "    fig = px.histogram(trial.trial_results_df, x=column)\n",
    "    fig.update_layout(\n",
    "        xaxis_title=x_label,\n",
    "        yaxis_title='Frequency'\n",
    "    )\n",
    "\n",
    "    # Show figure\n",
    "    fig.show()\n",
    "\n",
    "    # Save figure\n",
    "    fig.write_image(os.path.join(output_dir, file))"
   ]
  },
  {
   "cell_type": "code",
   "execution_count": 12,
   "metadata": {},
   "outputs": [
    {
     "data": {
      "application/vnd.plotly.v1+json": {
       "config": {
        "plotlyServerURL": "https://plot.ly"
       },
       "data": [
        {
         "alignmentgroup": "True",
         "bingroup": "x",
         "hovertemplate": "arrivals=%{x}<br>count=%{y}<extra></extra>",
         "legendgroup": "",
         "marker": {
          "color": "#636efa",
          "pattern": {
           "shape": ""
          }
         },
         "name": "",
         "offsetgroup": "",
         "orientation": "v",
         "showlegend": false,
         "type": "histogram",
         "x": [
          10972,
          10784,
          10854,
          10831,
          10720,
          10772,
          10831,
          10781,
          10772,
          10705,
          10927,
          10688,
          11092,
          10640,
          10904,
          10849,
          10719,
          10713,
          10568,
          10707,
          10845,
          10726,
          10618,
          10914,
          10660,
          10685,
          10806,
          10748,
          10589,
          10863,
          10796
         ],
         "xaxis": "x",
         "yaxis": "y"
        }
       ],
       "layout": {
        "barmode": "relative",
        "legend": {
         "tracegroupgap": 0
        },
        "margin": {
         "t": 60
        },
        "template": {
         "data": {
          "bar": [
           {
            "error_x": {
             "color": "#2a3f5f"
            },
            "error_y": {
             "color": "#2a3f5f"
            },
            "marker": {
             "line": {
              "color": "#E5ECF6",
              "width": 0.5
             },
             "pattern": {
              "fillmode": "overlay",
              "size": 10,
              "solidity": 0.2
             }
            },
            "type": "bar"
           }
          ],
          "barpolar": [
           {
            "marker": {
             "line": {
              "color": "#E5ECF6",
              "width": 0.5
             },
             "pattern": {
              "fillmode": "overlay",
              "size": 10,
              "solidity": 0.2
             }
            },
            "type": "barpolar"
           }
          ],
          "carpet": [
           {
            "aaxis": {
             "endlinecolor": "#2a3f5f",
             "gridcolor": "white",
             "linecolor": "white",
             "minorgridcolor": "white",
             "startlinecolor": "#2a3f5f"
            },
            "baxis": {
             "endlinecolor": "#2a3f5f",
             "gridcolor": "white",
             "linecolor": "white",
             "minorgridcolor": "white",
             "startlinecolor": "#2a3f5f"
            },
            "type": "carpet"
           }
          ],
          "choropleth": [
           {
            "colorbar": {
             "outlinewidth": 0,
             "ticks": ""
            },
            "type": "choropleth"
           }
          ],
          "contour": [
           {
            "colorbar": {
             "outlinewidth": 0,
             "ticks": ""
            },
            "colorscale": [
             [
              0,
              "#0d0887"
             ],
             [
              0.1111111111111111,
              "#46039f"
             ],
             [
              0.2222222222222222,
              "#7201a8"
             ],
             [
              0.3333333333333333,
              "#9c179e"
             ],
             [
              0.4444444444444444,
              "#bd3786"
             ],
             [
              0.5555555555555556,
              "#d8576b"
             ],
             [
              0.6666666666666666,
              "#ed7953"
             ],
             [
              0.7777777777777778,
              "#fb9f3a"
             ],
             [
              0.8888888888888888,
              "#fdca26"
             ],
             [
              1,
              "#f0f921"
             ]
            ],
            "type": "contour"
           }
          ],
          "contourcarpet": [
           {
            "colorbar": {
             "outlinewidth": 0,
             "ticks": ""
            },
            "type": "contourcarpet"
           }
          ],
          "heatmap": [
           {
            "colorbar": {
             "outlinewidth": 0,
             "ticks": ""
            },
            "colorscale": [
             [
              0,
              "#0d0887"
             ],
             [
              0.1111111111111111,
              "#46039f"
             ],
             [
              0.2222222222222222,
              "#7201a8"
             ],
             [
              0.3333333333333333,
              "#9c179e"
             ],
             [
              0.4444444444444444,
              "#bd3786"
             ],
             [
              0.5555555555555556,
              "#d8576b"
             ],
             [
              0.6666666666666666,
              "#ed7953"
             ],
             [
              0.7777777777777778,
              "#fb9f3a"
             ],
             [
              0.8888888888888888,
              "#fdca26"
             ],
             [
              1,
              "#f0f921"
             ]
            ],
            "type": "heatmap"
           }
          ],
          "heatmapgl": [
           {
            "colorbar": {
             "outlinewidth": 0,
             "ticks": ""
            },
            "colorscale": [
             [
              0,
              "#0d0887"
             ],
             [
              0.1111111111111111,
              "#46039f"
             ],
             [
              0.2222222222222222,
              "#7201a8"
             ],
             [
              0.3333333333333333,
              "#9c179e"
             ],
             [
              0.4444444444444444,
              "#bd3786"
             ],
             [
              0.5555555555555556,
              "#d8576b"
             ],
             [
              0.6666666666666666,
              "#ed7953"
             ],
             [
              0.7777777777777778,
              "#fb9f3a"
             ],
             [
              0.8888888888888888,
              "#fdca26"
             ],
             [
              1,
              "#f0f921"
             ]
            ],
            "type": "heatmapgl"
           }
          ],
          "histogram": [
           {
            "marker": {
             "pattern": {
              "fillmode": "overlay",
              "size": 10,
              "solidity": 0.2
             }
            },
            "type": "histogram"
           }
          ],
          "histogram2d": [
           {
            "colorbar": {
             "outlinewidth": 0,
             "ticks": ""
            },
            "colorscale": [
             [
              0,
              "#0d0887"
             ],
             [
              0.1111111111111111,
              "#46039f"
             ],
             [
              0.2222222222222222,
              "#7201a8"
             ],
             [
              0.3333333333333333,
              "#9c179e"
             ],
             [
              0.4444444444444444,
              "#bd3786"
             ],
             [
              0.5555555555555556,
              "#d8576b"
             ],
             [
              0.6666666666666666,
              "#ed7953"
             ],
             [
              0.7777777777777778,
              "#fb9f3a"
             ],
             [
              0.8888888888888888,
              "#fdca26"
             ],
             [
              1,
              "#f0f921"
             ]
            ],
            "type": "histogram2d"
           }
          ],
          "histogram2dcontour": [
           {
            "colorbar": {
             "outlinewidth": 0,
             "ticks": ""
            },
            "colorscale": [
             [
              0,
              "#0d0887"
             ],
             [
              0.1111111111111111,
              "#46039f"
             ],
             [
              0.2222222222222222,
              "#7201a8"
             ],
             [
              0.3333333333333333,
              "#9c179e"
             ],
             [
              0.4444444444444444,
              "#bd3786"
             ],
             [
              0.5555555555555556,
              "#d8576b"
             ],
             [
              0.6666666666666666,
              "#ed7953"
             ],
             [
              0.7777777777777778,
              "#fb9f3a"
             ],
             [
              0.8888888888888888,
              "#fdca26"
             ],
             [
              1,
              "#f0f921"
             ]
            ],
            "type": "histogram2dcontour"
           }
          ],
          "mesh3d": [
           {
            "colorbar": {
             "outlinewidth": 0,
             "ticks": ""
            },
            "type": "mesh3d"
           }
          ],
          "parcoords": [
           {
            "line": {
             "colorbar": {
              "outlinewidth": 0,
              "ticks": ""
             }
            },
            "type": "parcoords"
           }
          ],
          "pie": [
           {
            "automargin": true,
            "type": "pie"
           }
          ],
          "scatter": [
           {
            "fillpattern": {
             "fillmode": "overlay",
             "size": 10,
             "solidity": 0.2
            },
            "type": "scatter"
           }
          ],
          "scatter3d": [
           {
            "line": {
             "colorbar": {
              "outlinewidth": 0,
              "ticks": ""
             }
            },
            "marker": {
             "colorbar": {
              "outlinewidth": 0,
              "ticks": ""
             }
            },
            "type": "scatter3d"
           }
          ],
          "scattercarpet": [
           {
            "marker": {
             "colorbar": {
              "outlinewidth": 0,
              "ticks": ""
             }
            },
            "type": "scattercarpet"
           }
          ],
          "scattergeo": [
           {
            "marker": {
             "colorbar": {
              "outlinewidth": 0,
              "ticks": ""
             }
            },
            "type": "scattergeo"
           }
          ],
          "scattergl": [
           {
            "marker": {
             "colorbar": {
              "outlinewidth": 0,
              "ticks": ""
             }
            },
            "type": "scattergl"
           }
          ],
          "scattermapbox": [
           {
            "marker": {
             "colorbar": {
              "outlinewidth": 0,
              "ticks": ""
             }
            },
            "type": "scattermapbox"
           }
          ],
          "scatterpolar": [
           {
            "marker": {
             "colorbar": {
              "outlinewidth": 0,
              "ticks": ""
             }
            },
            "type": "scatterpolar"
           }
          ],
          "scatterpolargl": [
           {
            "marker": {
             "colorbar": {
              "outlinewidth": 0,
              "ticks": ""
             }
            },
            "type": "scatterpolargl"
           }
          ],
          "scatterternary": [
           {
            "marker": {
             "colorbar": {
              "outlinewidth": 0,
              "ticks": ""
             }
            },
            "type": "scatterternary"
           }
          ],
          "surface": [
           {
            "colorbar": {
             "outlinewidth": 0,
             "ticks": ""
            },
            "colorscale": [
             [
              0,
              "#0d0887"
             ],
             [
              0.1111111111111111,
              "#46039f"
             ],
             [
              0.2222222222222222,
              "#7201a8"
             ],
             [
              0.3333333333333333,
              "#9c179e"
             ],
             [
              0.4444444444444444,
              "#bd3786"
             ],
             [
              0.5555555555555556,
              "#d8576b"
             ],
             [
              0.6666666666666666,
              "#ed7953"
             ],
             [
              0.7777777777777778,
              "#fb9f3a"
             ],
             [
              0.8888888888888888,
              "#fdca26"
             ],
             [
              1,
              "#f0f921"
             ]
            ],
            "type": "surface"
           }
          ],
          "table": [
           {
            "cells": {
             "fill": {
              "color": "#EBF0F8"
             },
             "line": {
              "color": "white"
             }
            },
            "header": {
             "fill": {
              "color": "#C8D4E3"
             },
             "line": {
              "color": "white"
             }
            },
            "type": "table"
           }
          ]
         },
         "layout": {
          "annotationdefaults": {
           "arrowcolor": "#2a3f5f",
           "arrowhead": 0,
           "arrowwidth": 1
          },
          "autotypenumbers": "strict",
          "coloraxis": {
           "colorbar": {
            "outlinewidth": 0,
            "ticks": ""
           }
          },
          "colorscale": {
           "diverging": [
            [
             0,
             "#8e0152"
            ],
            [
             0.1,
             "#c51b7d"
            ],
            [
             0.2,
             "#de77ae"
            ],
            [
             0.3,
             "#f1b6da"
            ],
            [
             0.4,
             "#fde0ef"
            ],
            [
             0.5,
             "#f7f7f7"
            ],
            [
             0.6,
             "#e6f5d0"
            ],
            [
             0.7,
             "#b8e186"
            ],
            [
             0.8,
             "#7fbc41"
            ],
            [
             0.9,
             "#4d9221"
            ],
            [
             1,
             "#276419"
            ]
           ],
           "sequential": [
            [
             0,
             "#0d0887"
            ],
            [
             0.1111111111111111,
             "#46039f"
            ],
            [
             0.2222222222222222,
             "#7201a8"
            ],
            [
             0.3333333333333333,
             "#9c179e"
            ],
            [
             0.4444444444444444,
             "#bd3786"
            ],
            [
             0.5555555555555556,
             "#d8576b"
            ],
            [
             0.6666666666666666,
             "#ed7953"
            ],
            [
             0.7777777777777778,
             "#fb9f3a"
            ],
            [
             0.8888888888888888,
             "#fdca26"
            ],
            [
             1,
             "#f0f921"
            ]
           ],
           "sequentialminus": [
            [
             0,
             "#0d0887"
            ],
            [
             0.1111111111111111,
             "#46039f"
            ],
            [
             0.2222222222222222,
             "#7201a8"
            ],
            [
             0.3333333333333333,
             "#9c179e"
            ],
            [
             0.4444444444444444,
             "#bd3786"
            ],
            [
             0.5555555555555556,
             "#d8576b"
            ],
            [
             0.6666666666666666,
             "#ed7953"
            ],
            [
             0.7777777777777778,
             "#fb9f3a"
            ],
            [
             0.8888888888888888,
             "#fdca26"
            ],
            [
             1,
             "#f0f921"
            ]
           ]
          },
          "colorway": [
           "#636efa",
           "#EF553B",
           "#00cc96",
           "#ab63fa",
           "#FFA15A",
           "#19d3f3",
           "#FF6692",
           "#B6E880",
           "#FF97FF",
           "#FECB52"
          ],
          "font": {
           "color": "#2a3f5f"
          },
          "geo": {
           "bgcolor": "white",
           "lakecolor": "white",
           "landcolor": "#E5ECF6",
           "showlakes": true,
           "showland": true,
           "subunitcolor": "white"
          },
          "hoverlabel": {
           "align": "left"
          },
          "hovermode": "closest",
          "mapbox": {
           "style": "light"
          },
          "paper_bgcolor": "white",
          "plot_bgcolor": "#E5ECF6",
          "polar": {
           "angularaxis": {
            "gridcolor": "white",
            "linecolor": "white",
            "ticks": ""
           },
           "bgcolor": "#E5ECF6",
           "radialaxis": {
            "gridcolor": "white",
            "linecolor": "white",
            "ticks": ""
           }
          },
          "scene": {
           "xaxis": {
            "backgroundcolor": "#E5ECF6",
            "gridcolor": "white",
            "gridwidth": 2,
            "linecolor": "white",
            "showbackground": true,
            "ticks": "",
            "zerolinecolor": "white"
           },
           "yaxis": {
            "backgroundcolor": "#E5ECF6",
            "gridcolor": "white",
            "gridwidth": 2,
            "linecolor": "white",
            "showbackground": true,
            "ticks": "",
            "zerolinecolor": "white"
           },
           "zaxis": {
            "backgroundcolor": "#E5ECF6",
            "gridcolor": "white",
            "gridwidth": 2,
            "linecolor": "white",
            "showbackground": true,
            "ticks": "",
            "zerolinecolor": "white"
           }
          },
          "shapedefaults": {
           "line": {
            "color": "#2a3f5f"
           }
          },
          "ternary": {
           "aaxis": {
            "gridcolor": "white",
            "linecolor": "white",
            "ticks": ""
           },
           "baxis": {
            "gridcolor": "white",
            "linecolor": "white",
            "ticks": ""
           },
           "bgcolor": "#E5ECF6",
           "caxis": {
            "gridcolor": "white",
            "linecolor": "white",
            "ticks": ""
           }
          },
          "title": {
           "x": 0.05
          },
          "xaxis": {
           "automargin": true,
           "gridcolor": "white",
           "linecolor": "white",
           "ticks": "",
           "title": {
            "standoff": 15
           },
           "zerolinecolor": "white",
           "zerolinewidth": 2
          },
          "yaxis": {
           "automargin": true,
           "gridcolor": "white",
           "linecolor": "white",
           "ticks": "",
           "title": {
            "standoff": 15
           },
           "zerolinecolor": "white",
           "zerolinewidth": 2
          }
         }
        },
        "xaxis": {
         "anchor": "y",
         "domain": [
          0,
          1
         ],
         "title": {
          "text": "Arrivals"
         }
        },
        "yaxis": {
         "anchor": "x",
         "domain": [
          0,
          1
         ],
         "title": {
          "text": "Frequency"
         }
        }
       }
      }
     },
     "metadata": {},
     "output_type": "display_data"
    },
    {
     "data": {
      "application/vnd.plotly.v1+json": {
       "config": {
        "plotlyServerURL": "https://plot.ly"
       },
       "data": [
        {
         "alignmentgroup": "True",
         "bingroup": "x",
         "hovertemplate": "mean_q_time_nurse=%{x}<br>count=%{y}<extra></extra>",
         "legendgroup": "",
         "marker": {
          "color": "#636efa",
          "pattern": {
           "shape": ""
          }
         },
         "name": "",
         "offsetgroup": "",
         "orientation": "v",
         "showlegend": false,
         "type": "histogram",
         "x": [
          0.504541081338615,
          0.514150649003393,
          0.5232349226016817,
          0.4791488631810612,
          0.46145745726579823,
          0.3882646868128185,
          0.4669381081669874,
          0.625888360901447,
          0.4684971326393017,
          0.5634349862001105,
          0.562585969190057,
          0.39781182403365434,
          0.44530362984867583,
          0.4397605749351992,
          0.6107822771635987,
          0.47670998312351787,
          0.428336230071242,
          0.505574486075843,
          0.3615821082986753,
          0.4191589720392036,
          0.6120142008002236,
          0.5173212645251098,
          0.5316566599495316,
          0.5270546197660896,
          0.5029697553047842,
          0.6270646900660448,
          0.5061794260886525,
          0.4925537687951073,
          0.4577189216542841,
          0.5422405738480466,
          0.5102078888697092
         ],
         "xaxis": "x",
         "yaxis": "y"
        }
       ],
       "layout": {
        "barmode": "relative",
        "legend": {
         "tracegroupgap": 0
        },
        "margin": {
         "t": 60
        },
        "template": {
         "data": {
          "bar": [
           {
            "error_x": {
             "color": "#2a3f5f"
            },
            "error_y": {
             "color": "#2a3f5f"
            },
            "marker": {
             "line": {
              "color": "#E5ECF6",
              "width": 0.5
             },
             "pattern": {
              "fillmode": "overlay",
              "size": 10,
              "solidity": 0.2
             }
            },
            "type": "bar"
           }
          ],
          "barpolar": [
           {
            "marker": {
             "line": {
              "color": "#E5ECF6",
              "width": 0.5
             },
             "pattern": {
              "fillmode": "overlay",
              "size": 10,
              "solidity": 0.2
             }
            },
            "type": "barpolar"
           }
          ],
          "carpet": [
           {
            "aaxis": {
             "endlinecolor": "#2a3f5f",
             "gridcolor": "white",
             "linecolor": "white",
             "minorgridcolor": "white",
             "startlinecolor": "#2a3f5f"
            },
            "baxis": {
             "endlinecolor": "#2a3f5f",
             "gridcolor": "white",
             "linecolor": "white",
             "minorgridcolor": "white",
             "startlinecolor": "#2a3f5f"
            },
            "type": "carpet"
           }
          ],
          "choropleth": [
           {
            "colorbar": {
             "outlinewidth": 0,
             "ticks": ""
            },
            "type": "choropleth"
           }
          ],
          "contour": [
           {
            "colorbar": {
             "outlinewidth": 0,
             "ticks": ""
            },
            "colorscale": [
             [
              0,
              "#0d0887"
             ],
             [
              0.1111111111111111,
              "#46039f"
             ],
             [
              0.2222222222222222,
              "#7201a8"
             ],
             [
              0.3333333333333333,
              "#9c179e"
             ],
             [
              0.4444444444444444,
              "#bd3786"
             ],
             [
              0.5555555555555556,
              "#d8576b"
             ],
             [
              0.6666666666666666,
              "#ed7953"
             ],
             [
              0.7777777777777778,
              "#fb9f3a"
             ],
             [
              0.8888888888888888,
              "#fdca26"
             ],
             [
              1,
              "#f0f921"
             ]
            ],
            "type": "contour"
           }
          ],
          "contourcarpet": [
           {
            "colorbar": {
             "outlinewidth": 0,
             "ticks": ""
            },
            "type": "contourcarpet"
           }
          ],
          "heatmap": [
           {
            "colorbar": {
             "outlinewidth": 0,
             "ticks": ""
            },
            "colorscale": [
             [
              0,
              "#0d0887"
             ],
             [
              0.1111111111111111,
              "#46039f"
             ],
             [
              0.2222222222222222,
              "#7201a8"
             ],
             [
              0.3333333333333333,
              "#9c179e"
             ],
             [
              0.4444444444444444,
              "#bd3786"
             ],
             [
              0.5555555555555556,
              "#d8576b"
             ],
             [
              0.6666666666666666,
              "#ed7953"
             ],
             [
              0.7777777777777778,
              "#fb9f3a"
             ],
             [
              0.8888888888888888,
              "#fdca26"
             ],
             [
              1,
              "#f0f921"
             ]
            ],
            "type": "heatmap"
           }
          ],
          "heatmapgl": [
           {
            "colorbar": {
             "outlinewidth": 0,
             "ticks": ""
            },
            "colorscale": [
             [
              0,
              "#0d0887"
             ],
             [
              0.1111111111111111,
              "#46039f"
             ],
             [
              0.2222222222222222,
              "#7201a8"
             ],
             [
              0.3333333333333333,
              "#9c179e"
             ],
             [
              0.4444444444444444,
              "#bd3786"
             ],
             [
              0.5555555555555556,
              "#d8576b"
             ],
             [
              0.6666666666666666,
              "#ed7953"
             ],
             [
              0.7777777777777778,
              "#fb9f3a"
             ],
             [
              0.8888888888888888,
              "#fdca26"
             ],
             [
              1,
              "#f0f921"
             ]
            ],
            "type": "heatmapgl"
           }
          ],
          "histogram": [
           {
            "marker": {
             "pattern": {
              "fillmode": "overlay",
              "size": 10,
              "solidity": 0.2
             }
            },
            "type": "histogram"
           }
          ],
          "histogram2d": [
           {
            "colorbar": {
             "outlinewidth": 0,
             "ticks": ""
            },
            "colorscale": [
             [
              0,
              "#0d0887"
             ],
             [
              0.1111111111111111,
              "#46039f"
             ],
             [
              0.2222222222222222,
              "#7201a8"
             ],
             [
              0.3333333333333333,
              "#9c179e"
             ],
             [
              0.4444444444444444,
              "#bd3786"
             ],
             [
              0.5555555555555556,
              "#d8576b"
             ],
             [
              0.6666666666666666,
              "#ed7953"
             ],
             [
              0.7777777777777778,
              "#fb9f3a"
             ],
             [
              0.8888888888888888,
              "#fdca26"
             ],
             [
              1,
              "#f0f921"
             ]
            ],
            "type": "histogram2d"
           }
          ],
          "histogram2dcontour": [
           {
            "colorbar": {
             "outlinewidth": 0,
             "ticks": ""
            },
            "colorscale": [
             [
              0,
              "#0d0887"
             ],
             [
              0.1111111111111111,
              "#46039f"
             ],
             [
              0.2222222222222222,
              "#7201a8"
             ],
             [
              0.3333333333333333,
              "#9c179e"
             ],
             [
              0.4444444444444444,
              "#bd3786"
             ],
             [
              0.5555555555555556,
              "#d8576b"
             ],
             [
              0.6666666666666666,
              "#ed7953"
             ],
             [
              0.7777777777777778,
              "#fb9f3a"
             ],
             [
              0.8888888888888888,
              "#fdca26"
             ],
             [
              1,
              "#f0f921"
             ]
            ],
            "type": "histogram2dcontour"
           }
          ],
          "mesh3d": [
           {
            "colorbar": {
             "outlinewidth": 0,
             "ticks": ""
            },
            "type": "mesh3d"
           }
          ],
          "parcoords": [
           {
            "line": {
             "colorbar": {
              "outlinewidth": 0,
              "ticks": ""
             }
            },
            "type": "parcoords"
           }
          ],
          "pie": [
           {
            "automargin": true,
            "type": "pie"
           }
          ],
          "scatter": [
           {
            "fillpattern": {
             "fillmode": "overlay",
             "size": 10,
             "solidity": 0.2
            },
            "type": "scatter"
           }
          ],
          "scatter3d": [
           {
            "line": {
             "colorbar": {
              "outlinewidth": 0,
              "ticks": ""
             }
            },
            "marker": {
             "colorbar": {
              "outlinewidth": 0,
              "ticks": ""
             }
            },
            "type": "scatter3d"
           }
          ],
          "scattercarpet": [
           {
            "marker": {
             "colorbar": {
              "outlinewidth": 0,
              "ticks": ""
             }
            },
            "type": "scattercarpet"
           }
          ],
          "scattergeo": [
           {
            "marker": {
             "colorbar": {
              "outlinewidth": 0,
              "ticks": ""
             }
            },
            "type": "scattergeo"
           }
          ],
          "scattergl": [
           {
            "marker": {
             "colorbar": {
              "outlinewidth": 0,
              "ticks": ""
             }
            },
            "type": "scattergl"
           }
          ],
          "scattermapbox": [
           {
            "marker": {
             "colorbar": {
              "outlinewidth": 0,
              "ticks": ""
             }
            },
            "type": "scattermapbox"
           }
          ],
          "scatterpolar": [
           {
            "marker": {
             "colorbar": {
              "outlinewidth": 0,
              "ticks": ""
             }
            },
            "type": "scatterpolar"
           }
          ],
          "scatterpolargl": [
           {
            "marker": {
             "colorbar": {
              "outlinewidth": 0,
              "ticks": ""
             }
            },
            "type": "scatterpolargl"
           }
          ],
          "scatterternary": [
           {
            "marker": {
             "colorbar": {
              "outlinewidth": 0,
              "ticks": ""
             }
            },
            "type": "scatterternary"
           }
          ],
          "surface": [
           {
            "colorbar": {
             "outlinewidth": 0,
             "ticks": ""
            },
            "colorscale": [
             [
              0,
              "#0d0887"
             ],
             [
              0.1111111111111111,
              "#46039f"
             ],
             [
              0.2222222222222222,
              "#7201a8"
             ],
             [
              0.3333333333333333,
              "#9c179e"
             ],
             [
              0.4444444444444444,
              "#bd3786"
             ],
             [
              0.5555555555555556,
              "#d8576b"
             ],
             [
              0.6666666666666666,
              "#ed7953"
             ],
             [
              0.7777777777777778,
              "#fb9f3a"
             ],
             [
              0.8888888888888888,
              "#fdca26"
             ],
             [
              1,
              "#f0f921"
             ]
            ],
            "type": "surface"
           }
          ],
          "table": [
           {
            "cells": {
             "fill": {
              "color": "#EBF0F8"
             },
             "line": {
              "color": "white"
             }
            },
            "header": {
             "fill": {
              "color": "#C8D4E3"
             },
             "line": {
              "color": "white"
             }
            },
            "type": "table"
           }
          ]
         },
         "layout": {
          "annotationdefaults": {
           "arrowcolor": "#2a3f5f",
           "arrowhead": 0,
           "arrowwidth": 1
          },
          "autotypenumbers": "strict",
          "coloraxis": {
           "colorbar": {
            "outlinewidth": 0,
            "ticks": ""
           }
          },
          "colorscale": {
           "diverging": [
            [
             0,
             "#8e0152"
            ],
            [
             0.1,
             "#c51b7d"
            ],
            [
             0.2,
             "#de77ae"
            ],
            [
             0.3,
             "#f1b6da"
            ],
            [
             0.4,
             "#fde0ef"
            ],
            [
             0.5,
             "#f7f7f7"
            ],
            [
             0.6,
             "#e6f5d0"
            ],
            [
             0.7,
             "#b8e186"
            ],
            [
             0.8,
             "#7fbc41"
            ],
            [
             0.9,
             "#4d9221"
            ],
            [
             1,
             "#276419"
            ]
           ],
           "sequential": [
            [
             0,
             "#0d0887"
            ],
            [
             0.1111111111111111,
             "#46039f"
            ],
            [
             0.2222222222222222,
             "#7201a8"
            ],
            [
             0.3333333333333333,
             "#9c179e"
            ],
            [
             0.4444444444444444,
             "#bd3786"
            ],
            [
             0.5555555555555556,
             "#d8576b"
            ],
            [
             0.6666666666666666,
             "#ed7953"
            ],
            [
             0.7777777777777778,
             "#fb9f3a"
            ],
            [
             0.8888888888888888,
             "#fdca26"
            ],
            [
             1,
             "#f0f921"
            ]
           ],
           "sequentialminus": [
            [
             0,
             "#0d0887"
            ],
            [
             0.1111111111111111,
             "#46039f"
            ],
            [
             0.2222222222222222,
             "#7201a8"
            ],
            [
             0.3333333333333333,
             "#9c179e"
            ],
            [
             0.4444444444444444,
             "#bd3786"
            ],
            [
             0.5555555555555556,
             "#d8576b"
            ],
            [
             0.6666666666666666,
             "#ed7953"
            ],
            [
             0.7777777777777778,
             "#fb9f3a"
            ],
            [
             0.8888888888888888,
             "#fdca26"
            ],
            [
             1,
             "#f0f921"
            ]
           ]
          },
          "colorway": [
           "#636efa",
           "#EF553B",
           "#00cc96",
           "#ab63fa",
           "#FFA15A",
           "#19d3f3",
           "#FF6692",
           "#B6E880",
           "#FF97FF",
           "#FECB52"
          ],
          "font": {
           "color": "#2a3f5f"
          },
          "geo": {
           "bgcolor": "white",
           "lakecolor": "white",
           "landcolor": "#E5ECF6",
           "showlakes": true,
           "showland": true,
           "subunitcolor": "white"
          },
          "hoverlabel": {
           "align": "left"
          },
          "hovermode": "closest",
          "mapbox": {
           "style": "light"
          },
          "paper_bgcolor": "white",
          "plot_bgcolor": "#E5ECF6",
          "polar": {
           "angularaxis": {
            "gridcolor": "white",
            "linecolor": "white",
            "ticks": ""
           },
           "bgcolor": "#E5ECF6",
           "radialaxis": {
            "gridcolor": "white",
            "linecolor": "white",
            "ticks": ""
           }
          },
          "scene": {
           "xaxis": {
            "backgroundcolor": "#E5ECF6",
            "gridcolor": "white",
            "gridwidth": 2,
            "linecolor": "white",
            "showbackground": true,
            "ticks": "",
            "zerolinecolor": "white"
           },
           "yaxis": {
            "backgroundcolor": "#E5ECF6",
            "gridcolor": "white",
            "gridwidth": 2,
            "linecolor": "white",
            "showbackground": true,
            "ticks": "",
            "zerolinecolor": "white"
           },
           "zaxis": {
            "backgroundcolor": "#E5ECF6",
            "gridcolor": "white",
            "gridwidth": 2,
            "linecolor": "white",
            "showbackground": true,
            "ticks": "",
            "zerolinecolor": "white"
           }
          },
          "shapedefaults": {
           "line": {
            "color": "#2a3f5f"
           }
          },
          "ternary": {
           "aaxis": {
            "gridcolor": "white",
            "linecolor": "white",
            "ticks": ""
           },
           "baxis": {
            "gridcolor": "white",
            "linecolor": "white",
            "ticks": ""
           },
           "bgcolor": "#E5ECF6",
           "caxis": {
            "gridcolor": "white",
            "linecolor": "white",
            "ticks": ""
           }
          },
          "title": {
           "x": 0.05
          },
          "xaxis": {
           "automargin": true,
           "gridcolor": "white",
           "linecolor": "white",
           "ticks": "",
           "title": {
            "standoff": 15
           },
           "zerolinecolor": "white",
           "zerolinewidth": 2
          },
          "yaxis": {
           "automargin": true,
           "gridcolor": "white",
           "linecolor": "white",
           "ticks": "",
           "title": {
            "standoff": 15
           },
           "zerolinecolor": "white",
           "zerolinewidth": 2
          }
         }
        },
        "xaxis": {
         "anchor": "y",
         "domain": [
          0,
          1
         ],
         "title": {
          "text": "Mean wait time for nurse"
         }
        },
        "yaxis": {
         "anchor": "x",
         "domain": [
          0,
          1
         ],
         "title": {
          "text": "Frequency"
         }
        }
       }
      }
     },
     "metadata": {},
     "output_type": "display_data"
    },
    {
     "data": {
      "application/vnd.plotly.v1+json": {
       "config": {
        "plotlyServerURL": "https://plot.ly"
       },
       "data": [
        {
         "alignmentgroup": "True",
         "bingroup": "x",
         "hovertemplate": "mean_time_with_nurse=%{x}<br>count=%{y}<extra></extra>",
         "legendgroup": "",
         "marker": {
          "color": "#636efa",
          "pattern": {
           "shape": ""
          }
         },
         "name": "",
         "offsetgroup": "",
         "orientation": "v",
         "showlegend": false,
         "type": "histogram",
         "x": [
          9.84226781662332,
          10.060480983450427,
          9.925024519746303,
          9.937057154394301,
          10.01590414797167,
          9.884995942861282,
          10.041799654744745,
          10.086979128063646,
          10.202270228377186,
          10.092602279013327,
          10.083553615426283,
          9.893334037740964,
          9.810905063859671,
          9.93387996376174,
          10.167683587926042,
          9.975581276412813,
          9.809804967118033,
          9.989154604862323,
          9.800182515281655,
          9.919390638196402,
          9.813774247048583,
          9.858186468091487,
          9.969891296475984,
          9.925291785145637,
          9.964546080278812,
          10.236338445072258,
          10.039653295082593,
          10.050997027592317,
          10.044180668559221,
          10.03438389292317,
          9.922063713004379
         ],
         "xaxis": "x",
         "yaxis": "y"
        }
       ],
       "layout": {
        "barmode": "relative",
        "legend": {
         "tracegroupgap": 0
        },
        "margin": {
         "t": 60
        },
        "template": {
         "data": {
          "bar": [
           {
            "error_x": {
             "color": "#2a3f5f"
            },
            "error_y": {
             "color": "#2a3f5f"
            },
            "marker": {
             "line": {
              "color": "#E5ECF6",
              "width": 0.5
             },
             "pattern": {
              "fillmode": "overlay",
              "size": 10,
              "solidity": 0.2
             }
            },
            "type": "bar"
           }
          ],
          "barpolar": [
           {
            "marker": {
             "line": {
              "color": "#E5ECF6",
              "width": 0.5
             },
             "pattern": {
              "fillmode": "overlay",
              "size": 10,
              "solidity": 0.2
             }
            },
            "type": "barpolar"
           }
          ],
          "carpet": [
           {
            "aaxis": {
             "endlinecolor": "#2a3f5f",
             "gridcolor": "white",
             "linecolor": "white",
             "minorgridcolor": "white",
             "startlinecolor": "#2a3f5f"
            },
            "baxis": {
             "endlinecolor": "#2a3f5f",
             "gridcolor": "white",
             "linecolor": "white",
             "minorgridcolor": "white",
             "startlinecolor": "#2a3f5f"
            },
            "type": "carpet"
           }
          ],
          "choropleth": [
           {
            "colorbar": {
             "outlinewidth": 0,
             "ticks": ""
            },
            "type": "choropleth"
           }
          ],
          "contour": [
           {
            "colorbar": {
             "outlinewidth": 0,
             "ticks": ""
            },
            "colorscale": [
             [
              0,
              "#0d0887"
             ],
             [
              0.1111111111111111,
              "#46039f"
             ],
             [
              0.2222222222222222,
              "#7201a8"
             ],
             [
              0.3333333333333333,
              "#9c179e"
             ],
             [
              0.4444444444444444,
              "#bd3786"
             ],
             [
              0.5555555555555556,
              "#d8576b"
             ],
             [
              0.6666666666666666,
              "#ed7953"
             ],
             [
              0.7777777777777778,
              "#fb9f3a"
             ],
             [
              0.8888888888888888,
              "#fdca26"
             ],
             [
              1,
              "#f0f921"
             ]
            ],
            "type": "contour"
           }
          ],
          "contourcarpet": [
           {
            "colorbar": {
             "outlinewidth": 0,
             "ticks": ""
            },
            "type": "contourcarpet"
           }
          ],
          "heatmap": [
           {
            "colorbar": {
             "outlinewidth": 0,
             "ticks": ""
            },
            "colorscale": [
             [
              0,
              "#0d0887"
             ],
             [
              0.1111111111111111,
              "#46039f"
             ],
             [
              0.2222222222222222,
              "#7201a8"
             ],
             [
              0.3333333333333333,
              "#9c179e"
             ],
             [
              0.4444444444444444,
              "#bd3786"
             ],
             [
              0.5555555555555556,
              "#d8576b"
             ],
             [
              0.6666666666666666,
              "#ed7953"
             ],
             [
              0.7777777777777778,
              "#fb9f3a"
             ],
             [
              0.8888888888888888,
              "#fdca26"
             ],
             [
              1,
              "#f0f921"
             ]
            ],
            "type": "heatmap"
           }
          ],
          "heatmapgl": [
           {
            "colorbar": {
             "outlinewidth": 0,
             "ticks": ""
            },
            "colorscale": [
             [
              0,
              "#0d0887"
             ],
             [
              0.1111111111111111,
              "#46039f"
             ],
             [
              0.2222222222222222,
              "#7201a8"
             ],
             [
              0.3333333333333333,
              "#9c179e"
             ],
             [
              0.4444444444444444,
              "#bd3786"
             ],
             [
              0.5555555555555556,
              "#d8576b"
             ],
             [
              0.6666666666666666,
              "#ed7953"
             ],
             [
              0.7777777777777778,
              "#fb9f3a"
             ],
             [
              0.8888888888888888,
              "#fdca26"
             ],
             [
              1,
              "#f0f921"
             ]
            ],
            "type": "heatmapgl"
           }
          ],
          "histogram": [
           {
            "marker": {
             "pattern": {
              "fillmode": "overlay",
              "size": 10,
              "solidity": 0.2
             }
            },
            "type": "histogram"
           }
          ],
          "histogram2d": [
           {
            "colorbar": {
             "outlinewidth": 0,
             "ticks": ""
            },
            "colorscale": [
             [
              0,
              "#0d0887"
             ],
             [
              0.1111111111111111,
              "#46039f"
             ],
             [
              0.2222222222222222,
              "#7201a8"
             ],
             [
              0.3333333333333333,
              "#9c179e"
             ],
             [
              0.4444444444444444,
              "#bd3786"
             ],
             [
              0.5555555555555556,
              "#d8576b"
             ],
             [
              0.6666666666666666,
              "#ed7953"
             ],
             [
              0.7777777777777778,
              "#fb9f3a"
             ],
             [
              0.8888888888888888,
              "#fdca26"
             ],
             [
              1,
              "#f0f921"
             ]
            ],
            "type": "histogram2d"
           }
          ],
          "histogram2dcontour": [
           {
            "colorbar": {
             "outlinewidth": 0,
             "ticks": ""
            },
            "colorscale": [
             [
              0,
              "#0d0887"
             ],
             [
              0.1111111111111111,
              "#46039f"
             ],
             [
              0.2222222222222222,
              "#7201a8"
             ],
             [
              0.3333333333333333,
              "#9c179e"
             ],
             [
              0.4444444444444444,
              "#bd3786"
             ],
             [
              0.5555555555555556,
              "#d8576b"
             ],
             [
              0.6666666666666666,
              "#ed7953"
             ],
             [
              0.7777777777777778,
              "#fb9f3a"
             ],
             [
              0.8888888888888888,
              "#fdca26"
             ],
             [
              1,
              "#f0f921"
             ]
            ],
            "type": "histogram2dcontour"
           }
          ],
          "mesh3d": [
           {
            "colorbar": {
             "outlinewidth": 0,
             "ticks": ""
            },
            "type": "mesh3d"
           }
          ],
          "parcoords": [
           {
            "line": {
             "colorbar": {
              "outlinewidth": 0,
              "ticks": ""
             }
            },
            "type": "parcoords"
           }
          ],
          "pie": [
           {
            "automargin": true,
            "type": "pie"
           }
          ],
          "scatter": [
           {
            "fillpattern": {
             "fillmode": "overlay",
             "size": 10,
             "solidity": 0.2
            },
            "type": "scatter"
           }
          ],
          "scatter3d": [
           {
            "line": {
             "colorbar": {
              "outlinewidth": 0,
              "ticks": ""
             }
            },
            "marker": {
             "colorbar": {
              "outlinewidth": 0,
              "ticks": ""
             }
            },
            "type": "scatter3d"
           }
          ],
          "scattercarpet": [
           {
            "marker": {
             "colorbar": {
              "outlinewidth": 0,
              "ticks": ""
             }
            },
            "type": "scattercarpet"
           }
          ],
          "scattergeo": [
           {
            "marker": {
             "colorbar": {
              "outlinewidth": 0,
              "ticks": ""
             }
            },
            "type": "scattergeo"
           }
          ],
          "scattergl": [
           {
            "marker": {
             "colorbar": {
              "outlinewidth": 0,
              "ticks": ""
             }
            },
            "type": "scattergl"
           }
          ],
          "scattermapbox": [
           {
            "marker": {
             "colorbar": {
              "outlinewidth": 0,
              "ticks": ""
             }
            },
            "type": "scattermapbox"
           }
          ],
          "scatterpolar": [
           {
            "marker": {
             "colorbar": {
              "outlinewidth": 0,
              "ticks": ""
             }
            },
            "type": "scatterpolar"
           }
          ],
          "scatterpolargl": [
           {
            "marker": {
             "colorbar": {
              "outlinewidth": 0,
              "ticks": ""
             }
            },
            "type": "scatterpolargl"
           }
          ],
          "scatterternary": [
           {
            "marker": {
             "colorbar": {
              "outlinewidth": 0,
              "ticks": ""
             }
            },
            "type": "scatterternary"
           }
          ],
          "surface": [
           {
            "colorbar": {
             "outlinewidth": 0,
             "ticks": ""
            },
            "colorscale": [
             [
              0,
              "#0d0887"
             ],
             [
              0.1111111111111111,
              "#46039f"
             ],
             [
              0.2222222222222222,
              "#7201a8"
             ],
             [
              0.3333333333333333,
              "#9c179e"
             ],
             [
              0.4444444444444444,
              "#bd3786"
             ],
             [
              0.5555555555555556,
              "#d8576b"
             ],
             [
              0.6666666666666666,
              "#ed7953"
             ],
             [
              0.7777777777777778,
              "#fb9f3a"
             ],
             [
              0.8888888888888888,
              "#fdca26"
             ],
             [
              1,
              "#f0f921"
             ]
            ],
            "type": "surface"
           }
          ],
          "table": [
           {
            "cells": {
             "fill": {
              "color": "#EBF0F8"
             },
             "line": {
              "color": "white"
             }
            },
            "header": {
             "fill": {
              "color": "#C8D4E3"
             },
             "line": {
              "color": "white"
             }
            },
            "type": "table"
           }
          ]
         },
         "layout": {
          "annotationdefaults": {
           "arrowcolor": "#2a3f5f",
           "arrowhead": 0,
           "arrowwidth": 1
          },
          "autotypenumbers": "strict",
          "coloraxis": {
           "colorbar": {
            "outlinewidth": 0,
            "ticks": ""
           }
          },
          "colorscale": {
           "diverging": [
            [
             0,
             "#8e0152"
            ],
            [
             0.1,
             "#c51b7d"
            ],
            [
             0.2,
             "#de77ae"
            ],
            [
             0.3,
             "#f1b6da"
            ],
            [
             0.4,
             "#fde0ef"
            ],
            [
             0.5,
             "#f7f7f7"
            ],
            [
             0.6,
             "#e6f5d0"
            ],
            [
             0.7,
             "#b8e186"
            ],
            [
             0.8,
             "#7fbc41"
            ],
            [
             0.9,
             "#4d9221"
            ],
            [
             1,
             "#276419"
            ]
           ],
           "sequential": [
            [
             0,
             "#0d0887"
            ],
            [
             0.1111111111111111,
             "#46039f"
            ],
            [
             0.2222222222222222,
             "#7201a8"
            ],
            [
             0.3333333333333333,
             "#9c179e"
            ],
            [
             0.4444444444444444,
             "#bd3786"
            ],
            [
             0.5555555555555556,
             "#d8576b"
            ],
            [
             0.6666666666666666,
             "#ed7953"
            ],
            [
             0.7777777777777778,
             "#fb9f3a"
            ],
            [
             0.8888888888888888,
             "#fdca26"
            ],
            [
             1,
             "#f0f921"
            ]
           ],
           "sequentialminus": [
            [
             0,
             "#0d0887"
            ],
            [
             0.1111111111111111,
             "#46039f"
            ],
            [
             0.2222222222222222,
             "#7201a8"
            ],
            [
             0.3333333333333333,
             "#9c179e"
            ],
            [
             0.4444444444444444,
             "#bd3786"
            ],
            [
             0.5555555555555556,
             "#d8576b"
            ],
            [
             0.6666666666666666,
             "#ed7953"
            ],
            [
             0.7777777777777778,
             "#fb9f3a"
            ],
            [
             0.8888888888888888,
             "#fdca26"
            ],
            [
             1,
             "#f0f921"
            ]
           ]
          },
          "colorway": [
           "#636efa",
           "#EF553B",
           "#00cc96",
           "#ab63fa",
           "#FFA15A",
           "#19d3f3",
           "#FF6692",
           "#B6E880",
           "#FF97FF",
           "#FECB52"
          ],
          "font": {
           "color": "#2a3f5f"
          },
          "geo": {
           "bgcolor": "white",
           "lakecolor": "white",
           "landcolor": "#E5ECF6",
           "showlakes": true,
           "showland": true,
           "subunitcolor": "white"
          },
          "hoverlabel": {
           "align": "left"
          },
          "hovermode": "closest",
          "mapbox": {
           "style": "light"
          },
          "paper_bgcolor": "white",
          "plot_bgcolor": "#E5ECF6",
          "polar": {
           "angularaxis": {
            "gridcolor": "white",
            "linecolor": "white",
            "ticks": ""
           },
           "bgcolor": "#E5ECF6",
           "radialaxis": {
            "gridcolor": "white",
            "linecolor": "white",
            "ticks": ""
           }
          },
          "scene": {
           "xaxis": {
            "backgroundcolor": "#E5ECF6",
            "gridcolor": "white",
            "gridwidth": 2,
            "linecolor": "white",
            "showbackground": true,
            "ticks": "",
            "zerolinecolor": "white"
           },
           "yaxis": {
            "backgroundcolor": "#E5ECF6",
            "gridcolor": "white",
            "gridwidth": 2,
            "linecolor": "white",
            "showbackground": true,
            "ticks": "",
            "zerolinecolor": "white"
           },
           "zaxis": {
            "backgroundcolor": "#E5ECF6",
            "gridcolor": "white",
            "gridwidth": 2,
            "linecolor": "white",
            "showbackground": true,
            "ticks": "",
            "zerolinecolor": "white"
           }
          },
          "shapedefaults": {
           "line": {
            "color": "#2a3f5f"
           }
          },
          "ternary": {
           "aaxis": {
            "gridcolor": "white",
            "linecolor": "white",
            "ticks": ""
           },
           "baxis": {
            "gridcolor": "white",
            "linecolor": "white",
            "ticks": ""
           },
           "bgcolor": "#E5ECF6",
           "caxis": {
            "gridcolor": "white",
            "linecolor": "white",
            "ticks": ""
           }
          },
          "title": {
           "x": 0.05
          },
          "xaxis": {
           "automargin": true,
           "gridcolor": "white",
           "linecolor": "white",
           "ticks": "",
           "title": {
            "standoff": 15
           },
           "zerolinecolor": "white",
           "zerolinewidth": 2
          },
          "yaxis": {
           "automargin": true,
           "gridcolor": "white",
           "linecolor": "white",
           "ticks": "",
           "title": {
            "standoff": 15
           },
           "zerolinecolor": "white",
           "zerolinewidth": 2
          }
         }
        },
        "xaxis": {
         "anchor": "y",
         "domain": [
          0,
          1
         ],
         "title": {
          "text": "Mean length of nurse consultation"
         }
        },
        "yaxis": {
         "anchor": "x",
         "domain": [
          0,
          1
         ],
         "title": {
          "text": "Frequency"
         }
        }
       }
      }
     },
     "metadata": {},
     "output_type": "display_data"
    },
    {
     "data": {
      "application/vnd.plotly.v1+json": {
       "config": {
        "plotlyServerURL": "https://plot.ly"
       },
       "data": [
        {
         "alignmentgroup": "True",
         "bingroup": "x",
         "hovertemplate": "mean_nurse_utilisation=%{x}<br>count=%{y}<extra></extra>",
         "legendgroup": "",
         "marker": {
          "color": "#636efa",
          "pattern": {
           "shape": ""
          }
         },
         "name": "",
         "offsetgroup": "",
         "orientation": "v",
         "showlegend": false,
         "type": "histogram",
         "x": [
          0.4996386466177992,
          0.5019905433327594,
          0.4981297032213408,
          0.49822049332297624,
          0.4968703372055205,
          0.492904233058074,
          0.503356251584998,
          0.5034489381047406,
          0.508790994907774,
          0.49997178325917613,
          0.5098373896503802,
          0.4895233535105571,
          0.5034276977164731,
          0.48925457544062534,
          0.513130373051619,
          0.5009629889699926,
          0.4866947365248423,
          0.4954087210793937,
          0.4793715775153063,
          0.4915291568180775,
          0.49261944375555833,
          0.48940978932654106,
          0.4892835610032433,
          0.5013818263178943,
          0.49160360886911897,
          0.5060501169430693,
          0.5022615440123254,
          0.4999546777219452,
          0.4923573694687436,
          0.5046064549261675,
          0.49578999982774674
         ],
         "xaxis": "x",
         "yaxis": "y"
        }
       ],
       "layout": {
        "barmode": "relative",
        "legend": {
         "tracegroupgap": 0
        },
        "margin": {
         "t": 60
        },
        "template": {
         "data": {
          "bar": [
           {
            "error_x": {
             "color": "#2a3f5f"
            },
            "error_y": {
             "color": "#2a3f5f"
            },
            "marker": {
             "line": {
              "color": "#E5ECF6",
              "width": 0.5
             },
             "pattern": {
              "fillmode": "overlay",
              "size": 10,
              "solidity": 0.2
             }
            },
            "type": "bar"
           }
          ],
          "barpolar": [
           {
            "marker": {
             "line": {
              "color": "#E5ECF6",
              "width": 0.5
             },
             "pattern": {
              "fillmode": "overlay",
              "size": 10,
              "solidity": 0.2
             }
            },
            "type": "barpolar"
           }
          ],
          "carpet": [
           {
            "aaxis": {
             "endlinecolor": "#2a3f5f",
             "gridcolor": "white",
             "linecolor": "white",
             "minorgridcolor": "white",
             "startlinecolor": "#2a3f5f"
            },
            "baxis": {
             "endlinecolor": "#2a3f5f",
             "gridcolor": "white",
             "linecolor": "white",
             "minorgridcolor": "white",
             "startlinecolor": "#2a3f5f"
            },
            "type": "carpet"
           }
          ],
          "choropleth": [
           {
            "colorbar": {
             "outlinewidth": 0,
             "ticks": ""
            },
            "type": "choropleth"
           }
          ],
          "contour": [
           {
            "colorbar": {
             "outlinewidth": 0,
             "ticks": ""
            },
            "colorscale": [
             [
              0,
              "#0d0887"
             ],
             [
              0.1111111111111111,
              "#46039f"
             ],
             [
              0.2222222222222222,
              "#7201a8"
             ],
             [
              0.3333333333333333,
              "#9c179e"
             ],
             [
              0.4444444444444444,
              "#bd3786"
             ],
             [
              0.5555555555555556,
              "#d8576b"
             ],
             [
              0.6666666666666666,
              "#ed7953"
             ],
             [
              0.7777777777777778,
              "#fb9f3a"
             ],
             [
              0.8888888888888888,
              "#fdca26"
             ],
             [
              1,
              "#f0f921"
             ]
            ],
            "type": "contour"
           }
          ],
          "contourcarpet": [
           {
            "colorbar": {
             "outlinewidth": 0,
             "ticks": ""
            },
            "type": "contourcarpet"
           }
          ],
          "heatmap": [
           {
            "colorbar": {
             "outlinewidth": 0,
             "ticks": ""
            },
            "colorscale": [
             [
              0,
              "#0d0887"
             ],
             [
              0.1111111111111111,
              "#46039f"
             ],
             [
              0.2222222222222222,
              "#7201a8"
             ],
             [
              0.3333333333333333,
              "#9c179e"
             ],
             [
              0.4444444444444444,
              "#bd3786"
             ],
             [
              0.5555555555555556,
              "#d8576b"
             ],
             [
              0.6666666666666666,
              "#ed7953"
             ],
             [
              0.7777777777777778,
              "#fb9f3a"
             ],
             [
              0.8888888888888888,
              "#fdca26"
             ],
             [
              1,
              "#f0f921"
             ]
            ],
            "type": "heatmap"
           }
          ],
          "heatmapgl": [
           {
            "colorbar": {
             "outlinewidth": 0,
             "ticks": ""
            },
            "colorscale": [
             [
              0,
              "#0d0887"
             ],
             [
              0.1111111111111111,
              "#46039f"
             ],
             [
              0.2222222222222222,
              "#7201a8"
             ],
             [
              0.3333333333333333,
              "#9c179e"
             ],
             [
              0.4444444444444444,
              "#bd3786"
             ],
             [
              0.5555555555555556,
              "#d8576b"
             ],
             [
              0.6666666666666666,
              "#ed7953"
             ],
             [
              0.7777777777777778,
              "#fb9f3a"
             ],
             [
              0.8888888888888888,
              "#fdca26"
             ],
             [
              1,
              "#f0f921"
             ]
            ],
            "type": "heatmapgl"
           }
          ],
          "histogram": [
           {
            "marker": {
             "pattern": {
              "fillmode": "overlay",
              "size": 10,
              "solidity": 0.2
             }
            },
            "type": "histogram"
           }
          ],
          "histogram2d": [
           {
            "colorbar": {
             "outlinewidth": 0,
             "ticks": ""
            },
            "colorscale": [
             [
              0,
              "#0d0887"
             ],
             [
              0.1111111111111111,
              "#46039f"
             ],
             [
              0.2222222222222222,
              "#7201a8"
             ],
             [
              0.3333333333333333,
              "#9c179e"
             ],
             [
              0.4444444444444444,
              "#bd3786"
             ],
             [
              0.5555555555555556,
              "#d8576b"
             ],
             [
              0.6666666666666666,
              "#ed7953"
             ],
             [
              0.7777777777777778,
              "#fb9f3a"
             ],
             [
              0.8888888888888888,
              "#fdca26"
             ],
             [
              1,
              "#f0f921"
             ]
            ],
            "type": "histogram2d"
           }
          ],
          "histogram2dcontour": [
           {
            "colorbar": {
             "outlinewidth": 0,
             "ticks": ""
            },
            "colorscale": [
             [
              0,
              "#0d0887"
             ],
             [
              0.1111111111111111,
              "#46039f"
             ],
             [
              0.2222222222222222,
              "#7201a8"
             ],
             [
              0.3333333333333333,
              "#9c179e"
             ],
             [
              0.4444444444444444,
              "#bd3786"
             ],
             [
              0.5555555555555556,
              "#d8576b"
             ],
             [
              0.6666666666666666,
              "#ed7953"
             ],
             [
              0.7777777777777778,
              "#fb9f3a"
             ],
             [
              0.8888888888888888,
              "#fdca26"
             ],
             [
              1,
              "#f0f921"
             ]
            ],
            "type": "histogram2dcontour"
           }
          ],
          "mesh3d": [
           {
            "colorbar": {
             "outlinewidth": 0,
             "ticks": ""
            },
            "type": "mesh3d"
           }
          ],
          "parcoords": [
           {
            "line": {
             "colorbar": {
              "outlinewidth": 0,
              "ticks": ""
             }
            },
            "type": "parcoords"
           }
          ],
          "pie": [
           {
            "automargin": true,
            "type": "pie"
           }
          ],
          "scatter": [
           {
            "fillpattern": {
             "fillmode": "overlay",
             "size": 10,
             "solidity": 0.2
            },
            "type": "scatter"
           }
          ],
          "scatter3d": [
           {
            "line": {
             "colorbar": {
              "outlinewidth": 0,
              "ticks": ""
             }
            },
            "marker": {
             "colorbar": {
              "outlinewidth": 0,
              "ticks": ""
             }
            },
            "type": "scatter3d"
           }
          ],
          "scattercarpet": [
           {
            "marker": {
             "colorbar": {
              "outlinewidth": 0,
              "ticks": ""
             }
            },
            "type": "scattercarpet"
           }
          ],
          "scattergeo": [
           {
            "marker": {
             "colorbar": {
              "outlinewidth": 0,
              "ticks": ""
             }
            },
            "type": "scattergeo"
           }
          ],
          "scattergl": [
           {
            "marker": {
             "colorbar": {
              "outlinewidth": 0,
              "ticks": ""
             }
            },
            "type": "scattergl"
           }
          ],
          "scattermapbox": [
           {
            "marker": {
             "colorbar": {
              "outlinewidth": 0,
              "ticks": ""
             }
            },
            "type": "scattermapbox"
           }
          ],
          "scatterpolar": [
           {
            "marker": {
             "colorbar": {
              "outlinewidth": 0,
              "ticks": ""
             }
            },
            "type": "scatterpolar"
           }
          ],
          "scatterpolargl": [
           {
            "marker": {
             "colorbar": {
              "outlinewidth": 0,
              "ticks": ""
             }
            },
            "type": "scatterpolargl"
           }
          ],
          "scatterternary": [
           {
            "marker": {
             "colorbar": {
              "outlinewidth": 0,
              "ticks": ""
             }
            },
            "type": "scatterternary"
           }
          ],
          "surface": [
           {
            "colorbar": {
             "outlinewidth": 0,
             "ticks": ""
            },
            "colorscale": [
             [
              0,
              "#0d0887"
             ],
             [
              0.1111111111111111,
              "#46039f"
             ],
             [
              0.2222222222222222,
              "#7201a8"
             ],
             [
              0.3333333333333333,
              "#9c179e"
             ],
             [
              0.4444444444444444,
              "#bd3786"
             ],
             [
              0.5555555555555556,
              "#d8576b"
             ],
             [
              0.6666666666666666,
              "#ed7953"
             ],
             [
              0.7777777777777778,
              "#fb9f3a"
             ],
             [
              0.8888888888888888,
              "#fdca26"
             ],
             [
              1,
              "#f0f921"
             ]
            ],
            "type": "surface"
           }
          ],
          "table": [
           {
            "cells": {
             "fill": {
              "color": "#EBF0F8"
             },
             "line": {
              "color": "white"
             }
            },
            "header": {
             "fill": {
              "color": "#C8D4E3"
             },
             "line": {
              "color": "white"
             }
            },
            "type": "table"
           }
          ]
         },
         "layout": {
          "annotationdefaults": {
           "arrowcolor": "#2a3f5f",
           "arrowhead": 0,
           "arrowwidth": 1
          },
          "autotypenumbers": "strict",
          "coloraxis": {
           "colorbar": {
            "outlinewidth": 0,
            "ticks": ""
           }
          },
          "colorscale": {
           "diverging": [
            [
             0,
             "#8e0152"
            ],
            [
             0.1,
             "#c51b7d"
            ],
            [
             0.2,
             "#de77ae"
            ],
            [
             0.3,
             "#f1b6da"
            ],
            [
             0.4,
             "#fde0ef"
            ],
            [
             0.5,
             "#f7f7f7"
            ],
            [
             0.6,
             "#e6f5d0"
            ],
            [
             0.7,
             "#b8e186"
            ],
            [
             0.8,
             "#7fbc41"
            ],
            [
             0.9,
             "#4d9221"
            ],
            [
             1,
             "#276419"
            ]
           ],
           "sequential": [
            [
             0,
             "#0d0887"
            ],
            [
             0.1111111111111111,
             "#46039f"
            ],
            [
             0.2222222222222222,
             "#7201a8"
            ],
            [
             0.3333333333333333,
             "#9c179e"
            ],
            [
             0.4444444444444444,
             "#bd3786"
            ],
            [
             0.5555555555555556,
             "#d8576b"
            ],
            [
             0.6666666666666666,
             "#ed7953"
            ],
            [
             0.7777777777777778,
             "#fb9f3a"
            ],
            [
             0.8888888888888888,
             "#fdca26"
            ],
            [
             1,
             "#f0f921"
            ]
           ],
           "sequentialminus": [
            [
             0,
             "#0d0887"
            ],
            [
             0.1111111111111111,
             "#46039f"
            ],
            [
             0.2222222222222222,
             "#7201a8"
            ],
            [
             0.3333333333333333,
             "#9c179e"
            ],
            [
             0.4444444444444444,
             "#bd3786"
            ],
            [
             0.5555555555555556,
             "#d8576b"
            ],
            [
             0.6666666666666666,
             "#ed7953"
            ],
            [
             0.7777777777777778,
             "#fb9f3a"
            ],
            [
             0.8888888888888888,
             "#fdca26"
            ],
            [
             1,
             "#f0f921"
            ]
           ]
          },
          "colorway": [
           "#636efa",
           "#EF553B",
           "#00cc96",
           "#ab63fa",
           "#FFA15A",
           "#19d3f3",
           "#FF6692",
           "#B6E880",
           "#FF97FF",
           "#FECB52"
          ],
          "font": {
           "color": "#2a3f5f"
          },
          "geo": {
           "bgcolor": "white",
           "lakecolor": "white",
           "landcolor": "#E5ECF6",
           "showlakes": true,
           "showland": true,
           "subunitcolor": "white"
          },
          "hoverlabel": {
           "align": "left"
          },
          "hovermode": "closest",
          "mapbox": {
           "style": "light"
          },
          "paper_bgcolor": "white",
          "plot_bgcolor": "#E5ECF6",
          "polar": {
           "angularaxis": {
            "gridcolor": "white",
            "linecolor": "white",
            "ticks": ""
           },
           "bgcolor": "#E5ECF6",
           "radialaxis": {
            "gridcolor": "white",
            "linecolor": "white",
            "ticks": ""
           }
          },
          "scene": {
           "xaxis": {
            "backgroundcolor": "#E5ECF6",
            "gridcolor": "white",
            "gridwidth": 2,
            "linecolor": "white",
            "showbackground": true,
            "ticks": "",
            "zerolinecolor": "white"
           },
           "yaxis": {
            "backgroundcolor": "#E5ECF6",
            "gridcolor": "white",
            "gridwidth": 2,
            "linecolor": "white",
            "showbackground": true,
            "ticks": "",
            "zerolinecolor": "white"
           },
           "zaxis": {
            "backgroundcolor": "#E5ECF6",
            "gridcolor": "white",
            "gridwidth": 2,
            "linecolor": "white",
            "showbackground": true,
            "ticks": "",
            "zerolinecolor": "white"
           }
          },
          "shapedefaults": {
           "line": {
            "color": "#2a3f5f"
           }
          },
          "ternary": {
           "aaxis": {
            "gridcolor": "white",
            "linecolor": "white",
            "ticks": ""
           },
           "baxis": {
            "gridcolor": "white",
            "linecolor": "white",
            "ticks": ""
           },
           "bgcolor": "#E5ECF6",
           "caxis": {
            "gridcolor": "white",
            "linecolor": "white",
            "ticks": ""
           }
          },
          "title": {
           "x": 0.05
          },
          "xaxis": {
           "automargin": true,
           "gridcolor": "white",
           "linecolor": "white",
           "ticks": "",
           "title": {
            "standoff": 15
           },
           "zerolinecolor": "white",
           "zerolinewidth": 2
          },
          "yaxis": {
           "automargin": true,
           "gridcolor": "white",
           "linecolor": "white",
           "ticks": "",
           "title": {
            "standoff": 15
           },
           "zerolinecolor": "white",
           "zerolinewidth": 2
          }
         }
        },
        "xaxis": {
         "anchor": "y",
         "domain": [
          0,
          1
         ],
         "title": {
          "text": "Mean nurse utilisation"
         }
        },
        "yaxis": {
         "anchor": "x",
         "domain": [
          0,
          1
         ],
         "title": {
          "text": "Frequency"
         }
        }
       }
      }
     },
     "metadata": {},
     "output_type": "display_data"
    }
   ],
   "source": [
    "plot_results_spread(\n",
    "    column='arrivals',\n",
    "    x_label='Arrivals',\n",
    "    file='spread_arrivals.png')\n",
    "\n",
    "plot_results_spread(\n",
    "    column='mean_q_time_nurse',\n",
    "    x_label='Mean wait time for nurse',\n",
    "    file='spread_nurse_wait.png')\n",
    "\n",
    "plot_results_spread(\n",
    "    column='mean_time_with_nurse',\n",
    "    x_label='Mean length of nurse consultation',\n",
    "    file='spread_nurse_time.png')\n",
    "\n",
    "plot_results_spread(\n",
    "    column='mean_nurse_utilisation',\n",
    "    x_label='Mean nurse utilisation',\n",
    "    file='spread_nurse_util.png')"
   ]
  },
  {
   "cell_type": "markdown",
   "metadata": {},
   "source": [
    "## Scenario analysis"
   ]
  },
  {
   "cell_type": "code",
   "execution_count": 13,
   "metadata": {},
   "outputs": [],
   "source": [
    "def run_scenarios(scenarios):\n",
    "    \"\"\"\n",
    "    Run a set of scenarios and return the scenario-level results.\n",
    "\n",
    "    Arguments:\n",
    "        scenarios (dict):\n",
    "            Dictionary where key is name of parameter and value is a list\n",
    "            with different values to run in scenarios.\n",
    "    \"\"\"\n",
    "    # Find every possible permutation of the scenarios\n",
    "    all_scenarios_tuples = list(itertools.product(*scenarios.values()))\n",
    "    # Convert back into dictionaries\n",
    "    all_scenarios_dicts = [\n",
    "        dict(zip(scenarios.keys(), p)) for p in all_scenarios_tuples]\n",
    "    # Preview some of the scenarios\n",
    "    print(f'There are {len(all_scenarios_dicts)} scenarios. Running:')\n",
    "\n",
    "    # Run the scenarios...\n",
    "    results = []\n",
    "    for index, scenario_to_run in enumerate(all_scenarios_dicts):\n",
    "        print(scenario_to_run)\n",
    "\n",
    "        # Overwrite defaults from the passed dictionary\n",
    "        param = Defaults()\n",
    "        param.scenario_name = index\n",
    "        for key in scenario_to_run:\n",
    "            setattr(param, key, scenario_to_run[key])\n",
    "\n",
    "        # Run trial and keep trial-level results, adding the scenario values to\n",
    "        # the results dataframe\n",
    "        scenario_trial = Trial(param)\n",
    "        scenario_trial.run_trial()\n",
    "        for key in scenario_to_run:\n",
    "            scenario_trial.trial_results_df = (\n",
    "                scenario_trial.trial_results_df.with_columns(\n",
    "                    pl.lit(scenario_to_run[key]).alias(key)))\n",
    "\n",
    "        results.append(scenario_trial.trial_results_df)\n",
    "    return pl.concat(results)"
   ]
  },
  {
   "cell_type": "code",
   "execution_count": 14,
   "metadata": {},
   "outputs": [
    {
     "name": "stdout",
     "output_type": "stream",
     "text": [
      "There are 20 scenarios. Running:\n",
      "{'patient_inter': 3, 'number_of_nurses': 5}\n",
      "{'patient_inter': 3, 'number_of_nurses': 6}\n",
      "{'patient_inter': 3, 'number_of_nurses': 7}\n",
      "{'patient_inter': 3, 'number_of_nurses': 8}\n",
      "{'patient_inter': 4, 'number_of_nurses': 5}\n",
      "{'patient_inter': 4, 'number_of_nurses': 6}\n",
      "{'patient_inter': 4, 'number_of_nurses': 7}\n",
      "{'patient_inter': 4, 'number_of_nurses': 8}\n",
      "{'patient_inter': 5, 'number_of_nurses': 5}\n",
      "{'patient_inter': 5, 'number_of_nurses': 6}\n",
      "{'patient_inter': 5, 'number_of_nurses': 7}\n",
      "{'patient_inter': 5, 'number_of_nurses': 8}\n",
      "{'patient_inter': 6, 'number_of_nurses': 5}\n",
      "{'patient_inter': 6, 'number_of_nurses': 6}\n",
      "{'patient_inter': 6, 'number_of_nurses': 7}\n",
      "{'patient_inter': 6, 'number_of_nurses': 8}\n",
      "{'patient_inter': 7, 'number_of_nurses': 5}\n",
      "{'patient_inter': 7, 'number_of_nurses': 6}\n",
      "{'patient_inter': 7, 'number_of_nurses': 7}\n",
      "{'patient_inter': 7, 'number_of_nurses': 8}\n"
     ]
    }
   ],
   "source": [
    "# Run scenarios\n",
    "scenario_results = run_scenarios({\n",
    "    'patient_inter': [3, 4, 5, 6, 7],\n",
    "    'number_of_nurses': [5, 6, 7, 8]\n",
    "    })"
   ]
  },
  {
   "cell_type": "code",
   "execution_count": 15,
   "metadata": {},
   "outputs": [
    {
     "data": {
      "text/html": [
       "<div><style>\n",
       ".dataframe > thead > tr,\n",
       ".dataframe > tbody > tr {\n",
       "  text-align: right;\n",
       "  white-space: pre-wrap;\n",
       "}\n",
       "</style>\n",
       "<small>shape: (5, 8)</small><table border=\"1\" class=\"dataframe\"><thead><tr><th>run_number</th><th>scenario</th><th>arrivals</th><th>mean_q_time_nurse</th><th>mean_time_with_nurse</th><th>mean_nurse_utilisation</th><th>patient_inter</th><th>number_of_nurses</th></tr><tr><td>i64</td><td>i64</td><td>i64</td><td>f64</td><td>f64</td><td>f64</td><td>i32</td><td>i32</td></tr></thead><tbody><tr><td>0</td><td>0</td><td>14491</td><td>1.906132</td><td>9.949058</td><td>0.667461</td><td>3</td><td>5</td></tr><tr><td>1</td><td>0</td><td>14406</td><td>1.918952</td><td>10.148115</td><td>0.676693</td><td>3</td><td>5</td></tr><tr><td>2</td><td>0</td><td>14465</td><td>1.976377</td><td>9.931685</td><td>0.665045</td><td>3</td><td>5</td></tr><tr><td>3</td><td>0</td><td>14424</td><td>1.959961</td><td>10.003235</td><td>0.667725</td><td>3</td><td>5</td></tr><tr><td>4</td><td>0</td><td>14387</td><td>1.780232</td><td>9.980463</td><td>0.664761</td><td>3</td><td>5</td></tr></tbody></table></div>"
      ],
      "text/plain": [
       "shape: (5, 8)\n",
       "┌────────────┬──────────┬──────────┬────────────┬────────────┬────────────┬────────────┬───────────┐\n",
       "│ run_number ┆ scenario ┆ arrivals ┆ mean_q_tim ┆ mean_time_ ┆ mean_nurse ┆ patient_in ┆ number_of │\n",
       "│ ---        ┆ ---      ┆ ---      ┆ e_nurse    ┆ with_nurse ┆ _utilisati ┆ ter        ┆ _nurses   │\n",
       "│ i64        ┆ i64      ┆ i64      ┆ ---        ┆ ---        ┆ on         ┆ ---        ┆ ---       │\n",
       "│            ┆          ┆          ┆ f64        ┆ f64        ┆ ---        ┆ i32        ┆ i32       │\n",
       "│            ┆          ┆          ┆            ┆            ┆ f64        ┆            ┆           │\n",
       "╞════════════╪══════════╪══════════╪════════════╪════════════╪════════════╪════════════╪═══════════╡\n",
       "│ 0          ┆ 0        ┆ 14491    ┆ 1.906132   ┆ 9.949058   ┆ 0.667461   ┆ 3          ┆ 5         │\n",
       "│ 1          ┆ 0        ┆ 14406    ┆ 1.918952   ┆ 10.148115  ┆ 0.676693   ┆ 3          ┆ 5         │\n",
       "│ 2          ┆ 0        ┆ 14465    ┆ 1.976377   ┆ 9.931685   ┆ 0.665045   ┆ 3          ┆ 5         │\n",
       "│ 3          ┆ 0        ┆ 14424    ┆ 1.959961   ┆ 10.003235  ┆ 0.667725   ┆ 3          ┆ 5         │\n",
       "│ 4          ┆ 0        ┆ 14387    ┆ 1.780232   ┆ 9.980463   ┆ 0.664761   ┆ 3          ┆ 5         │\n",
       "└────────────┴──────────┴──────────┴────────────┴────────────┴────────────┴────────────┴───────────┘"
      ]
     },
     "execution_count": 15,
     "metadata": {},
     "output_type": "execute_result"
    }
   ],
   "source": [
    "scenario_results.head()"
   ]
  },
  {
   "cell_type": "markdown",
   "metadata": {},
   "source": [
    "Example plots..."
   ]
  },
  {
   "cell_type": "code",
   "execution_count": 16,
   "metadata": {},
   "outputs": [],
   "source": [
    "def plot_scenario(results, x_var, result_var, colour_var, xaxis_title,\n",
    "                  yaxis_title, legend_title):\n",
    "    \"\"\"\n",
    "    Plot results from different model scenarios.\n",
    "\n",
    "    Arguments:\n",
    "        results (pl.DataFrame):\n",
    "            Contains results to plot.\n",
    "        x_var (str):\n",
    "            Name of variable to plot on X axis.\n",
    "        result_var (str):\n",
    "            Name of variable with results, to plot on Y axis.\n",
    "        colour_var (str|None):\n",
    "            Name of variable to colour lines with (or set to None).\n",
    "        xaxis_title (str):\n",
    "            Title for X axis.\n",
    "        yaxis_title (str):\n",
    "            Title for Y axis.\n",
    "        legend_title (str):\n",
    "            Title for figure legend.\n",
    "    \"\"\"\n",
    "    # If x_var and colour_var are provided, combine both in a list to use\n",
    "    # as grouping variables when calculating average results\n",
    "    if colour_var is not None:\n",
    "        group_vars = [x_var, colour_var]\n",
    "    else:\n",
    "        group_vars = [x_var]\n",
    "\n",
    "    # Calculate average results from each scenario\n",
    "    df = results.group_by(group_vars).agg([\n",
    "        # Mean\n",
    "        pl.mean(result_var).alias('mean'),\n",
    "        # Standard deviation\n",
    "        pl.std(result_var).alias('std_dev'),\n",
    "\n",
    "        # TODO: Use more official method for calculation?\n",
    "        # Lower 95% confidence interval\n",
    "        (pl.mean(result_var) - 1.96 * (\n",
    "            pl.std(result_var) /\n",
    "            pl.count(result_var).sqrt())).alias('ci_lower'),\n",
    "        # Upper 95% confidence interval\n",
    "        (pl.mean(result_var) + 1.96 * (\n",
    "            pl.std(result_var) /\n",
    "            pl.count(result_var).sqrt())).alias('ci_upper')])\n",
    "\n",
    "    # Sort dataframe\n",
    "    df = df.sort(group_vars)\n",
    "\n",
    "    # Plot mean line\n",
    "    fig = px.line(df, x=x_var, y='mean', color=colour_var)\n",
    "    fig.update_layout(\n",
    "        xaxis_title=xaxis_title,\n",
    "        yaxis_title=yaxis_title,\n",
    "        legend_title_text=legend_title\n",
    "    )\n",
    "\n",
    "    # Plot confidence interval lines\n",
    "    for ci in ['ci_upper', 'ci_lower']:\n",
    "        trace = (px.line(df, x=x_var, y=ci, color=colour_var)\n",
    "                 .update_traces(opacity=0.5, showlegend=False)\n",
    "                 .select_traces())\n",
    "        # Add to figure\n",
    "        fig.add_traces(list(trace))\n",
    "\n",
    "    return df, fig"
   ]
  },
  {
   "cell_type": "markdown",
   "metadata": {},
   "source": [
    "Mean wait time for nurse from scenarios with varying patient inter-arrival times and number of nurses."
   ]
  },
  {
   "cell_type": "code",
   "execution_count": 17,
   "metadata": {},
   "outputs": [
    {
     "data": {
      "application/vnd.plotly.v1+json": {
       "config": {
        "plotlyServerURL": "https://plot.ly"
       },
       "data": [
        {
         "hovertemplate": "number_of_nurses=5<br>patient_inter=%{x}<br>mean=%{y}<extra></extra>",
         "legendgroup": "5",
         "line": {
          "color": "#636efa",
          "dash": "solid"
         },
         "marker": {
          "symbol": "circle"
         },
         "mode": "lines",
         "name": "5",
         "orientation": "v",
         "showlegend": true,
         "type": "scatter",
         "x": [
          3,
          4,
          5,
          6,
          7
         ],
         "xaxis": "x",
         "y": [
          1.8462856166865094,
          0.499036905566402,
          0.194497876257302,
          0.09372843902830018,
          0.04938957697913878
         ],
         "yaxis": "y"
        },
        {
         "hovertemplate": "number_of_nurses=6<br>patient_inter=%{x}<br>mean=%{y}<extra></extra>",
         "legendgroup": "6",
         "line": {
          "color": "#EF553B",
          "dash": "solid"
         },
         "marker": {
          "symbol": "circle"
         },
         "mode": "lines",
         "name": "6",
         "orientation": "v",
         "showlegend": true,
         "type": "scatter",
         "x": [
          3,
          4,
          5,
          6,
          7
         ],
         "xaxis": "x",
         "y": [
          0.5209908642986794,
          0.12771103309436083,
          0.04427475966483545,
          0.0182765963497221,
          0.007970112406855504
         ],
         "yaxis": "y"
        },
        {
         "hovertemplate": "number_of_nurses=7<br>patient_inter=%{x}<br>mean=%{y}<extra></extra>",
         "legendgroup": "7",
         "line": {
          "color": "#00cc96",
          "dash": "solid"
         },
         "marker": {
          "symbol": "circle"
         },
         "mode": "lines",
         "name": "7",
         "orientation": "v",
         "showlegend": true,
         "type": "scatter",
         "x": [
          3,
          4,
          5,
          6,
          7
         ],
         "xaxis": "x",
         "y": [
          0.1558863386572927,
          0.03167317049201888,
          0.00958386104923847,
          0.0035324563258650344,
          0.0013379412503489918
         ],
         "yaxis": "y"
        },
        {
         "hovertemplate": "number_of_nurses=8<br>patient_inter=%{x}<br>mean=%{y}<extra></extra>",
         "legendgroup": "8",
         "line": {
          "color": "#ab63fa",
          "dash": "solid"
         },
         "marker": {
          "symbol": "circle"
         },
         "mode": "lines",
         "name": "8",
         "orientation": "v",
         "showlegend": true,
         "type": "scatter",
         "x": [
          3,
          4,
          5,
          6,
          7
         ],
         "xaxis": "x",
         "y": [
          0.04633029368960636,
          0.007822215694493134,
          0.001918494900705937,
          0.0007798073458787395,
          0.0002570374972292345
         ],
         "yaxis": "y"
        },
        {
         "hovertemplate": "number_of_nurses=5<br>patient_inter=%{x}<br>ci_upper=%{y}<extra></extra>",
         "legendgroup": "5",
         "line": {
          "color": "#636efa",
          "dash": "solid"
         },
         "marker": {
          "symbol": "circle"
         },
         "mode": "lines",
         "name": "5",
         "opacity": 0.5,
         "orientation": "v",
         "showlegend": false,
         "type": "scatter",
         "x": [
          3,
          4,
          5,
          6,
          7
         ],
         "xaxis": "x",
         "y": [
          1.9140961282455407,
          0.5227611855035442,
          0.2051994052625855,
          0.10097256255793137,
          0.054122562642933275
         ],
         "yaxis": "y"
        },
        {
         "hovertemplate": "number_of_nurses=6<br>patient_inter=%{x}<br>ci_upper=%{y}<extra></extra>",
         "legendgroup": "6",
         "line": {
          "color": "#EF553B",
          "dash": "solid"
         },
         "marker": {
          "symbol": "circle"
         },
         "mode": "lines",
         "name": "6",
         "opacity": 0.5,
         "orientation": "v",
         "showlegend": false,
         "type": "scatter",
         "x": [
          3,
          4,
          5,
          6,
          7
         ],
         "xaxis": "x",
         "y": [
          0.5420712860726514,
          0.13629130729002228,
          0.048425373646477185,
          0.021029904832162334,
          0.009405376448392571
         ],
         "yaxis": "y"
        },
        {
         "hovertemplate": "number_of_nurses=7<br>patient_inter=%{x}<br>ci_upper=%{y}<extra></extra>",
         "legendgroup": "7",
         "line": {
          "color": "#00cc96",
          "dash": "solid"
         },
         "marker": {
          "symbol": "circle"
         },
         "mode": "lines",
         "name": "7",
         "opacity": 0.5,
         "orientation": "v",
         "showlegend": false,
         "type": "scatter",
         "x": [
          3,
          4,
          5,
          6,
          7
         ],
         "xaxis": "x",
         "y": [
          0.1644160470561629,
          0.03498132323490534,
          0.011328259252122243,
          0.004654932531238536,
          0.0018687207751587084
         ],
         "yaxis": "y"
        },
        {
         "hovertemplate": "number_of_nurses=8<br>patient_inter=%{x}<br>ci_upper=%{y}<extra></extra>",
         "legendgroup": "8",
         "line": {
          "color": "#ab63fa",
          "dash": "solid"
         },
         "marker": {
          "symbol": "circle"
         },
         "mode": "lines",
         "name": "8",
         "opacity": 0.5,
         "orientation": "v",
         "showlegend": false,
         "type": "scatter",
         "x": [
          3,
          4,
          5,
          6,
          7
         ],
         "xaxis": "x",
         "y": [
          0.04986588155803854,
          0.009129719105651097,
          0.002562844099609723,
          0.001186754883849128,
          0.0004328476746961297
         ],
         "yaxis": "y"
        },
        {
         "hovertemplate": "number_of_nurses=5<br>patient_inter=%{x}<br>ci_lower=%{y}<extra></extra>",
         "legendgroup": "5",
         "line": {
          "color": "#636efa",
          "dash": "solid"
         },
         "marker": {
          "symbol": "circle"
         },
         "mode": "lines",
         "name": "5",
         "opacity": 0.5,
         "orientation": "v",
         "showlegend": false,
         "type": "scatter",
         "x": [
          3,
          4,
          5,
          6,
          7
         ],
         "xaxis": "x",
         "y": [
          1.778475105127478,
          0.47531262562925986,
          0.1837963472520185,
          0.08648431549866899,
          0.04465659131534429
         ],
         "yaxis": "y"
        },
        {
         "hovertemplate": "number_of_nurses=6<br>patient_inter=%{x}<br>ci_lower=%{y}<extra></extra>",
         "legendgroup": "6",
         "line": {
          "color": "#EF553B",
          "dash": "solid"
         },
         "marker": {
          "symbol": "circle"
         },
         "mode": "lines",
         "name": "6",
         "opacity": 0.5,
         "orientation": "v",
         "showlegend": false,
         "type": "scatter",
         "x": [
          3,
          4,
          5,
          6,
          7
         ],
         "xaxis": "x",
         "y": [
          0.4999104425247073,
          0.11913075889869937,
          0.04012414568319371,
          0.015523287867281866,
          0.006534848365318436
         ],
         "yaxis": "y"
        },
        {
         "hovertemplate": "number_of_nurses=7<br>patient_inter=%{x}<br>ci_lower=%{y}<extra></extra>",
         "legendgroup": "7",
         "line": {
          "color": "#00cc96",
          "dash": "solid"
         },
         "marker": {
          "symbol": "circle"
         },
         "mode": "lines",
         "name": "7",
         "opacity": 0.5,
         "orientation": "v",
         "showlegend": false,
         "type": "scatter",
         "x": [
          3,
          4,
          5,
          6,
          7
         ],
         "xaxis": "x",
         "y": [
          0.14735663025842252,
          0.02836501774913241,
          0.007839462846354697,
          0.0024099801204915325,
          0.0008071617255392751
         ],
         "yaxis": "y"
        },
        {
         "hovertemplate": "number_of_nurses=8<br>patient_inter=%{x}<br>ci_lower=%{y}<extra></extra>",
         "legendgroup": "8",
         "line": {
          "color": "#ab63fa",
          "dash": "solid"
         },
         "marker": {
          "symbol": "circle"
         },
         "mode": "lines",
         "name": "8",
         "opacity": 0.5,
         "orientation": "v",
         "showlegend": false,
         "type": "scatter",
         "x": [
          3,
          4,
          5,
          6,
          7
         ],
         "xaxis": "x",
         "y": [
          0.04279470582117418,
          0.006514712283335171,
          0.001274145701802151,
          0.00037285980790835113,
          0.00008122731976233931
         ],
         "yaxis": "y"
        }
       ],
       "layout": {
        "legend": {
         "title": {
          "text": "Nurses"
         },
         "tracegroupgap": 0
        },
        "margin": {
         "t": 60
        },
        "template": {
         "data": {
          "bar": [
           {
            "error_x": {
             "color": "#2a3f5f"
            },
            "error_y": {
             "color": "#2a3f5f"
            },
            "marker": {
             "line": {
              "color": "#E5ECF6",
              "width": 0.5
             },
             "pattern": {
              "fillmode": "overlay",
              "size": 10,
              "solidity": 0.2
             }
            },
            "type": "bar"
           }
          ],
          "barpolar": [
           {
            "marker": {
             "line": {
              "color": "#E5ECF6",
              "width": 0.5
             },
             "pattern": {
              "fillmode": "overlay",
              "size": 10,
              "solidity": 0.2
             }
            },
            "type": "barpolar"
           }
          ],
          "carpet": [
           {
            "aaxis": {
             "endlinecolor": "#2a3f5f",
             "gridcolor": "white",
             "linecolor": "white",
             "minorgridcolor": "white",
             "startlinecolor": "#2a3f5f"
            },
            "baxis": {
             "endlinecolor": "#2a3f5f",
             "gridcolor": "white",
             "linecolor": "white",
             "minorgridcolor": "white",
             "startlinecolor": "#2a3f5f"
            },
            "type": "carpet"
           }
          ],
          "choropleth": [
           {
            "colorbar": {
             "outlinewidth": 0,
             "ticks": ""
            },
            "type": "choropleth"
           }
          ],
          "contour": [
           {
            "colorbar": {
             "outlinewidth": 0,
             "ticks": ""
            },
            "colorscale": [
             [
              0,
              "#0d0887"
             ],
             [
              0.1111111111111111,
              "#46039f"
             ],
             [
              0.2222222222222222,
              "#7201a8"
             ],
             [
              0.3333333333333333,
              "#9c179e"
             ],
             [
              0.4444444444444444,
              "#bd3786"
             ],
             [
              0.5555555555555556,
              "#d8576b"
             ],
             [
              0.6666666666666666,
              "#ed7953"
             ],
             [
              0.7777777777777778,
              "#fb9f3a"
             ],
             [
              0.8888888888888888,
              "#fdca26"
             ],
             [
              1,
              "#f0f921"
             ]
            ],
            "type": "contour"
           }
          ],
          "contourcarpet": [
           {
            "colorbar": {
             "outlinewidth": 0,
             "ticks": ""
            },
            "type": "contourcarpet"
           }
          ],
          "heatmap": [
           {
            "colorbar": {
             "outlinewidth": 0,
             "ticks": ""
            },
            "colorscale": [
             [
              0,
              "#0d0887"
             ],
             [
              0.1111111111111111,
              "#46039f"
             ],
             [
              0.2222222222222222,
              "#7201a8"
             ],
             [
              0.3333333333333333,
              "#9c179e"
             ],
             [
              0.4444444444444444,
              "#bd3786"
             ],
             [
              0.5555555555555556,
              "#d8576b"
             ],
             [
              0.6666666666666666,
              "#ed7953"
             ],
             [
              0.7777777777777778,
              "#fb9f3a"
             ],
             [
              0.8888888888888888,
              "#fdca26"
             ],
             [
              1,
              "#f0f921"
             ]
            ],
            "type": "heatmap"
           }
          ],
          "heatmapgl": [
           {
            "colorbar": {
             "outlinewidth": 0,
             "ticks": ""
            },
            "colorscale": [
             [
              0,
              "#0d0887"
             ],
             [
              0.1111111111111111,
              "#46039f"
             ],
             [
              0.2222222222222222,
              "#7201a8"
             ],
             [
              0.3333333333333333,
              "#9c179e"
             ],
             [
              0.4444444444444444,
              "#bd3786"
             ],
             [
              0.5555555555555556,
              "#d8576b"
             ],
             [
              0.6666666666666666,
              "#ed7953"
             ],
             [
              0.7777777777777778,
              "#fb9f3a"
             ],
             [
              0.8888888888888888,
              "#fdca26"
             ],
             [
              1,
              "#f0f921"
             ]
            ],
            "type": "heatmapgl"
           }
          ],
          "histogram": [
           {
            "marker": {
             "pattern": {
              "fillmode": "overlay",
              "size": 10,
              "solidity": 0.2
             }
            },
            "type": "histogram"
           }
          ],
          "histogram2d": [
           {
            "colorbar": {
             "outlinewidth": 0,
             "ticks": ""
            },
            "colorscale": [
             [
              0,
              "#0d0887"
             ],
             [
              0.1111111111111111,
              "#46039f"
             ],
             [
              0.2222222222222222,
              "#7201a8"
             ],
             [
              0.3333333333333333,
              "#9c179e"
             ],
             [
              0.4444444444444444,
              "#bd3786"
             ],
             [
              0.5555555555555556,
              "#d8576b"
             ],
             [
              0.6666666666666666,
              "#ed7953"
             ],
             [
              0.7777777777777778,
              "#fb9f3a"
             ],
             [
              0.8888888888888888,
              "#fdca26"
             ],
             [
              1,
              "#f0f921"
             ]
            ],
            "type": "histogram2d"
           }
          ],
          "histogram2dcontour": [
           {
            "colorbar": {
             "outlinewidth": 0,
             "ticks": ""
            },
            "colorscale": [
             [
              0,
              "#0d0887"
             ],
             [
              0.1111111111111111,
              "#46039f"
             ],
             [
              0.2222222222222222,
              "#7201a8"
             ],
             [
              0.3333333333333333,
              "#9c179e"
             ],
             [
              0.4444444444444444,
              "#bd3786"
             ],
             [
              0.5555555555555556,
              "#d8576b"
             ],
             [
              0.6666666666666666,
              "#ed7953"
             ],
             [
              0.7777777777777778,
              "#fb9f3a"
             ],
             [
              0.8888888888888888,
              "#fdca26"
             ],
             [
              1,
              "#f0f921"
             ]
            ],
            "type": "histogram2dcontour"
           }
          ],
          "mesh3d": [
           {
            "colorbar": {
             "outlinewidth": 0,
             "ticks": ""
            },
            "type": "mesh3d"
           }
          ],
          "parcoords": [
           {
            "line": {
             "colorbar": {
              "outlinewidth": 0,
              "ticks": ""
             }
            },
            "type": "parcoords"
           }
          ],
          "pie": [
           {
            "automargin": true,
            "type": "pie"
           }
          ],
          "scatter": [
           {
            "fillpattern": {
             "fillmode": "overlay",
             "size": 10,
             "solidity": 0.2
            },
            "type": "scatter"
           }
          ],
          "scatter3d": [
           {
            "line": {
             "colorbar": {
              "outlinewidth": 0,
              "ticks": ""
             }
            },
            "marker": {
             "colorbar": {
              "outlinewidth": 0,
              "ticks": ""
             }
            },
            "type": "scatter3d"
           }
          ],
          "scattercarpet": [
           {
            "marker": {
             "colorbar": {
              "outlinewidth": 0,
              "ticks": ""
             }
            },
            "type": "scattercarpet"
           }
          ],
          "scattergeo": [
           {
            "marker": {
             "colorbar": {
              "outlinewidth": 0,
              "ticks": ""
             }
            },
            "type": "scattergeo"
           }
          ],
          "scattergl": [
           {
            "marker": {
             "colorbar": {
              "outlinewidth": 0,
              "ticks": ""
             }
            },
            "type": "scattergl"
           }
          ],
          "scattermapbox": [
           {
            "marker": {
             "colorbar": {
              "outlinewidth": 0,
              "ticks": ""
             }
            },
            "type": "scattermapbox"
           }
          ],
          "scatterpolar": [
           {
            "marker": {
             "colorbar": {
              "outlinewidth": 0,
              "ticks": ""
             }
            },
            "type": "scatterpolar"
           }
          ],
          "scatterpolargl": [
           {
            "marker": {
             "colorbar": {
              "outlinewidth": 0,
              "ticks": ""
             }
            },
            "type": "scatterpolargl"
           }
          ],
          "scatterternary": [
           {
            "marker": {
             "colorbar": {
              "outlinewidth": 0,
              "ticks": ""
             }
            },
            "type": "scatterternary"
           }
          ],
          "surface": [
           {
            "colorbar": {
             "outlinewidth": 0,
             "ticks": ""
            },
            "colorscale": [
             [
              0,
              "#0d0887"
             ],
             [
              0.1111111111111111,
              "#46039f"
             ],
             [
              0.2222222222222222,
              "#7201a8"
             ],
             [
              0.3333333333333333,
              "#9c179e"
             ],
             [
              0.4444444444444444,
              "#bd3786"
             ],
             [
              0.5555555555555556,
              "#d8576b"
             ],
             [
              0.6666666666666666,
              "#ed7953"
             ],
             [
              0.7777777777777778,
              "#fb9f3a"
             ],
             [
              0.8888888888888888,
              "#fdca26"
             ],
             [
              1,
              "#f0f921"
             ]
            ],
            "type": "surface"
           }
          ],
          "table": [
           {
            "cells": {
             "fill": {
              "color": "#EBF0F8"
             },
             "line": {
              "color": "white"
             }
            },
            "header": {
             "fill": {
              "color": "#C8D4E3"
             },
             "line": {
              "color": "white"
             }
            },
            "type": "table"
           }
          ]
         },
         "layout": {
          "annotationdefaults": {
           "arrowcolor": "#2a3f5f",
           "arrowhead": 0,
           "arrowwidth": 1
          },
          "autotypenumbers": "strict",
          "coloraxis": {
           "colorbar": {
            "outlinewidth": 0,
            "ticks": ""
           }
          },
          "colorscale": {
           "diverging": [
            [
             0,
             "#8e0152"
            ],
            [
             0.1,
             "#c51b7d"
            ],
            [
             0.2,
             "#de77ae"
            ],
            [
             0.3,
             "#f1b6da"
            ],
            [
             0.4,
             "#fde0ef"
            ],
            [
             0.5,
             "#f7f7f7"
            ],
            [
             0.6,
             "#e6f5d0"
            ],
            [
             0.7,
             "#b8e186"
            ],
            [
             0.8,
             "#7fbc41"
            ],
            [
             0.9,
             "#4d9221"
            ],
            [
             1,
             "#276419"
            ]
           ],
           "sequential": [
            [
             0,
             "#0d0887"
            ],
            [
             0.1111111111111111,
             "#46039f"
            ],
            [
             0.2222222222222222,
             "#7201a8"
            ],
            [
             0.3333333333333333,
             "#9c179e"
            ],
            [
             0.4444444444444444,
             "#bd3786"
            ],
            [
             0.5555555555555556,
             "#d8576b"
            ],
            [
             0.6666666666666666,
             "#ed7953"
            ],
            [
             0.7777777777777778,
             "#fb9f3a"
            ],
            [
             0.8888888888888888,
             "#fdca26"
            ],
            [
             1,
             "#f0f921"
            ]
           ],
           "sequentialminus": [
            [
             0,
             "#0d0887"
            ],
            [
             0.1111111111111111,
             "#46039f"
            ],
            [
             0.2222222222222222,
             "#7201a8"
            ],
            [
             0.3333333333333333,
             "#9c179e"
            ],
            [
             0.4444444444444444,
             "#bd3786"
            ],
            [
             0.5555555555555556,
             "#d8576b"
            ],
            [
             0.6666666666666666,
             "#ed7953"
            ],
            [
             0.7777777777777778,
             "#fb9f3a"
            ],
            [
             0.8888888888888888,
             "#fdca26"
            ],
            [
             1,
             "#f0f921"
            ]
           ]
          },
          "colorway": [
           "#636efa",
           "#EF553B",
           "#00cc96",
           "#ab63fa",
           "#FFA15A",
           "#19d3f3",
           "#FF6692",
           "#B6E880",
           "#FF97FF",
           "#FECB52"
          ],
          "font": {
           "color": "#2a3f5f"
          },
          "geo": {
           "bgcolor": "white",
           "lakecolor": "white",
           "landcolor": "#E5ECF6",
           "showlakes": true,
           "showland": true,
           "subunitcolor": "white"
          },
          "hoverlabel": {
           "align": "left"
          },
          "hovermode": "closest",
          "mapbox": {
           "style": "light"
          },
          "paper_bgcolor": "white",
          "plot_bgcolor": "#E5ECF6",
          "polar": {
           "angularaxis": {
            "gridcolor": "white",
            "linecolor": "white",
            "ticks": ""
           },
           "bgcolor": "#E5ECF6",
           "radialaxis": {
            "gridcolor": "white",
            "linecolor": "white",
            "ticks": ""
           }
          },
          "scene": {
           "xaxis": {
            "backgroundcolor": "#E5ECF6",
            "gridcolor": "white",
            "gridwidth": 2,
            "linecolor": "white",
            "showbackground": true,
            "ticks": "",
            "zerolinecolor": "white"
           },
           "yaxis": {
            "backgroundcolor": "#E5ECF6",
            "gridcolor": "white",
            "gridwidth": 2,
            "linecolor": "white",
            "showbackground": true,
            "ticks": "",
            "zerolinecolor": "white"
           },
           "zaxis": {
            "backgroundcolor": "#E5ECF6",
            "gridcolor": "white",
            "gridwidth": 2,
            "linecolor": "white",
            "showbackground": true,
            "ticks": "",
            "zerolinecolor": "white"
           }
          },
          "shapedefaults": {
           "line": {
            "color": "#2a3f5f"
           }
          },
          "ternary": {
           "aaxis": {
            "gridcolor": "white",
            "linecolor": "white",
            "ticks": ""
           },
           "baxis": {
            "gridcolor": "white",
            "linecolor": "white",
            "ticks": ""
           },
           "bgcolor": "#E5ECF6",
           "caxis": {
            "gridcolor": "white",
            "linecolor": "white",
            "ticks": ""
           }
          },
          "title": {
           "x": 0.05
          },
          "xaxis": {
           "automargin": true,
           "gridcolor": "white",
           "linecolor": "white",
           "ticks": "",
           "title": {
            "standoff": 15
           },
           "zerolinecolor": "white",
           "zerolinewidth": 2
          },
          "yaxis": {
           "automargin": true,
           "gridcolor": "white",
           "linecolor": "white",
           "ticks": "",
           "title": {
            "standoff": 15
           },
           "zerolinecolor": "white",
           "zerolinewidth": 2
          }
         }
        },
        "xaxis": {
         "anchor": "y",
         "domain": [
          0,
          1
         ],
         "title": {
          "text": "Patient inter-arrival time"
         }
        },
        "yaxis": {
         "anchor": "x",
         "domain": [
          0,
          1
         ],
         "title": {
          "text": "Mean wait time for nurse (minutes)"
         }
        }
       }
      }
     },
     "metadata": {},
     "output_type": "display_data"
    }
   ],
   "source": [
    "result, fig = plot_scenario(\n",
    "    results=scenario_results,\n",
    "    x_var='patient_inter',\n",
    "    result_var='mean_q_time_nurse',\n",
    "    colour_var='number_of_nurses',\n",
    "    xaxis_title='Patient inter-arrival time',\n",
    "    yaxis_title='Mean wait time for nurse (minutes)',\n",
    "    legend_title='Nurses')\n",
    "\n",
    "fig.show()\n",
    "\n",
    "fig.write_image(os.path.join(output_dir, 'scenario_nurse_wait.png'))"
   ]
  },
  {
   "cell_type": "markdown",
   "metadata": {},
   "source": [
    "Mean nurse utilisation with those varying scenarios."
   ]
  },
  {
   "cell_type": "code",
   "execution_count": 18,
   "metadata": {},
   "outputs": [
    {
     "data": {
      "application/vnd.plotly.v1+json": {
       "config": {
        "plotlyServerURL": "https://plot.ly"
       },
       "data": [
        {
         "hovertemplate": "number_of_nurses=5<br>patient_inter=%{x}<br>mean=%{y}<extra></extra>",
         "legendgroup": "5",
         "line": {
          "color": "#636efa",
          "dash": "solid"
         },
         "marker": {
          "symbol": "circle"
         },
         "mode": "lines",
         "name": "5",
         "orientation": "v",
         "showlegend": true,
         "type": "scatter",
         "x": [
          3,
          4,
          5,
          6,
          7
         ],
         "xaxis": "x",
         "y": [
          0.6631648808967006,
          0.49767035119563796,
          0.39967490251273563,
          0.3330896999785892,
          0.28578397443647
         ],
         "yaxis": "y"
        },
        {
         "hovertemplate": "number_of_nurses=6<br>patient_inter=%{x}<br>mean=%{y}<extra></extra>",
         "legendgroup": "6",
         "line": {
          "color": "#EF553B",
          "dash": "solid"
         },
         "marker": {
          "symbol": "circle"
         },
         "mode": "lines",
         "name": "6",
         "orientation": "v",
         "showlegend": true,
         "type": "scatter",
         "x": [
          3,
          4,
          5,
          6,
          7
         ],
         "xaxis": "x",
         "y": [
          0.5526433836201493,
          0.4147299909091961,
          0.3330657363281341,
          0.27757425087355947,
          0.23815194211392132
         ],
         "yaxis": "y"
        },
        {
         "hovertemplate": "number_of_nurses=7<br>patient_inter=%{x}<br>mean=%{y}<extra></extra>",
         "legendgroup": "7",
         "line": {
          "color": "#00cc96",
          "dash": "solid"
         },
         "marker": {
          "symbol": "circle"
         },
         "mode": "lines",
         "name": "7",
         "orientation": "v",
         "showlegend": true,
         "type": "scatter",
         "x": [
          3,
          4,
          5,
          6,
          7
         ],
         "xaxis": "x",
         "y": [
          0.47369946837908933,
          0.355484213624623,
          0.2854853321983711,
          0.23792078646305095,
          0.2041302360976468
         ],
         "yaxis": "y"
        },
        {
         "hovertemplate": "number_of_nurses=8<br>patient_inter=%{x}<br>mean=%{y}<extra></extra>",
         "legendgroup": "8",
         "line": {
          "color": "#ab63fa",
          "dash": "solid"
         },
         "marker": {
          "symbol": "circle"
         },
         "mode": "lines",
         "name": "8",
         "orientation": "v",
         "showlegend": true,
         "type": "scatter",
         "x": [
          3,
          4,
          5,
          6,
          7
         ],
         "xaxis": "x",
         "y": [
          0.41448870138132116,
          0.31104931562490445,
          0.24979966567357467,
          0.20818068815516955,
          0.1786139565854409
         ],
         "yaxis": "y"
        },
        {
         "hovertemplate": "number_of_nurses=5<br>patient_inter=%{x}<br>ci_upper=%{y}<extra></extra>",
         "legendgroup": "5",
         "line": {
          "color": "#636efa",
          "dash": "solid"
         },
         "marker": {
          "symbol": "circle"
         },
         "mode": "lines",
         "name": "5",
         "opacity": 0.5,
         "orientation": "v",
         "showlegend": false,
         "type": "scatter",
         "x": [
          3,
          4,
          5,
          6,
          7
         ],
         "xaxis": "x",
         "y": [
          0.6661945025015661,
          0.5003191616833319,
          0.40196813080365146,
          0.33469759636547625,
          0.28726640248911156
         ],
         "yaxis": "y"
        },
        {
         "hovertemplate": "number_of_nurses=6<br>patient_inter=%{x}<br>ci_upper=%{y}<extra></extra>",
         "legendgroup": "6",
         "line": {
          "color": "#EF553B",
          "dash": "solid"
         },
         "marker": {
          "symbol": "circle"
         },
         "mode": "lines",
         "name": "6",
         "opacity": 0.5,
         "orientation": "v",
         "showlegend": false,
         "type": "scatter",
         "x": [
          3,
          4,
          5,
          6,
          7
         ],
         "xaxis": "x",
         "y": [
          0.5551707438552765,
          0.4169380567975975,
          0.33497668720567997,
          0.2789144278899218,
          0.23938748590087858
         ],
         "yaxis": "y"
        },
        {
         "hovertemplate": "number_of_nurses=7<br>patient_inter=%{x}<br>ci_upper=%{y}<extra></extra>",
         "legendgroup": "7",
         "line": {
          "color": "#00cc96",
          "dash": "solid"
         },
         "marker": {
          "symbol": "circle"
         },
         "mode": "lines",
         "name": "7",
         "opacity": 0.5,
         "orientation": "v",
         "showlegend": false,
         "type": "scatter",
         "x": [
          3,
          4,
          5,
          6,
          7
         ],
         "xaxis": "x",
         "y": [
          0.4758655518602483,
          0.3573770374931595,
          0.28712337008682004,
          0.23906950961993295,
          0.20518927362932443
         ],
         "yaxis": "y"
        },
        {
         "hovertemplate": "number_of_nurses=8<br>patient_inter=%{x}<br>ci_upper=%{y}<extra></extra>",
         "legendgroup": "8",
         "line": {
          "color": "#ab63fa",
          "dash": "solid"
         },
         "marker": {
          "symbol": "circle"
         },
         "mode": "lines",
         "name": "8",
         "opacity": 0.5,
         "orientation": "v",
         "showlegend": false,
         "type": "scatter",
         "x": [
          3,
          4,
          5,
          6,
          7
         ],
         "xaxis": "x",
         "y": [
          0.4163840856986433,
          0.3127055619752632,
          0.25123294882596753,
          0.20918582091744128,
          0.17954061442565883
         ],
         "yaxis": "y"
        },
        {
         "hovertemplate": "number_of_nurses=5<br>patient_inter=%{x}<br>ci_lower=%{y}<extra></extra>",
         "legendgroup": "5",
         "line": {
          "color": "#636efa",
          "dash": "solid"
         },
         "marker": {
          "symbol": "circle"
         },
         "mode": "lines",
         "name": "5",
         "opacity": 0.5,
         "orientation": "v",
         "showlegend": false,
         "type": "scatter",
         "x": [
          3,
          4,
          5,
          6,
          7
         ],
         "xaxis": "x",
         "y": [
          0.660135259291835,
          0.495021540707944,
          0.3973816742218198,
          0.3314818035917022,
          0.2843015463838285
         ],
         "yaxis": "y"
        },
        {
         "hovertemplate": "number_of_nurses=6<br>patient_inter=%{x}<br>ci_lower=%{y}<extra></extra>",
         "legendgroup": "6",
         "line": {
          "color": "#EF553B",
          "dash": "solid"
         },
         "marker": {
          "symbol": "circle"
         },
         "mode": "lines",
         "name": "6",
         "opacity": 0.5,
         "orientation": "v",
         "showlegend": false,
         "type": "scatter",
         "x": [
          3,
          4,
          5,
          6,
          7
         ],
         "xaxis": "x",
         "y": [
          0.5501160233850221,
          0.4125219250207947,
          0.3311547854505882,
          0.2762340738571971,
          0.23691639832696407
         ],
         "yaxis": "y"
        },
        {
         "hovertemplate": "number_of_nurses=7<br>patient_inter=%{x}<br>ci_lower=%{y}<extra></extra>",
         "legendgroup": "7",
         "line": {
          "color": "#00cc96",
          "dash": "solid"
         },
         "marker": {
          "symbol": "circle"
         },
         "mode": "lines",
         "name": "7",
         "opacity": 0.5,
         "orientation": "v",
         "showlegend": false,
         "type": "scatter",
         "x": [
          3,
          4,
          5,
          6,
          7
         ],
         "xaxis": "x",
         "y": [
          0.47153338489793034,
          0.3535913897560865,
          0.2838472943099221,
          0.23677206330616896,
          0.20307119856596917
         ],
         "yaxis": "y"
        },
        {
         "hovertemplate": "number_of_nurses=8<br>patient_inter=%{x}<br>ci_lower=%{y}<extra></extra>",
         "legendgroup": "8",
         "line": {
          "color": "#ab63fa",
          "dash": "solid"
         },
         "marker": {
          "symbol": "circle"
         },
         "mode": "lines",
         "name": "8",
         "opacity": 0.5,
         "orientation": "v",
         "showlegend": false,
         "type": "scatter",
         "x": [
          3,
          4,
          5,
          6,
          7
         ],
         "xaxis": "x",
         "y": [
          0.412593317063999,
          0.3093930692745457,
          0.24836638252118184,
          0.2071755553928978,
          0.177687298745223
         ],
         "yaxis": "y"
        }
       ],
       "layout": {
        "legend": {
         "title": {
          "text": "Nurses"
         },
         "tracegroupgap": 0
        },
        "margin": {
         "t": 60
        },
        "template": {
         "data": {
          "bar": [
           {
            "error_x": {
             "color": "#2a3f5f"
            },
            "error_y": {
             "color": "#2a3f5f"
            },
            "marker": {
             "line": {
              "color": "#E5ECF6",
              "width": 0.5
             },
             "pattern": {
              "fillmode": "overlay",
              "size": 10,
              "solidity": 0.2
             }
            },
            "type": "bar"
           }
          ],
          "barpolar": [
           {
            "marker": {
             "line": {
              "color": "#E5ECF6",
              "width": 0.5
             },
             "pattern": {
              "fillmode": "overlay",
              "size": 10,
              "solidity": 0.2
             }
            },
            "type": "barpolar"
           }
          ],
          "carpet": [
           {
            "aaxis": {
             "endlinecolor": "#2a3f5f",
             "gridcolor": "white",
             "linecolor": "white",
             "minorgridcolor": "white",
             "startlinecolor": "#2a3f5f"
            },
            "baxis": {
             "endlinecolor": "#2a3f5f",
             "gridcolor": "white",
             "linecolor": "white",
             "minorgridcolor": "white",
             "startlinecolor": "#2a3f5f"
            },
            "type": "carpet"
           }
          ],
          "choropleth": [
           {
            "colorbar": {
             "outlinewidth": 0,
             "ticks": ""
            },
            "type": "choropleth"
           }
          ],
          "contour": [
           {
            "colorbar": {
             "outlinewidth": 0,
             "ticks": ""
            },
            "colorscale": [
             [
              0,
              "#0d0887"
             ],
             [
              0.1111111111111111,
              "#46039f"
             ],
             [
              0.2222222222222222,
              "#7201a8"
             ],
             [
              0.3333333333333333,
              "#9c179e"
             ],
             [
              0.4444444444444444,
              "#bd3786"
             ],
             [
              0.5555555555555556,
              "#d8576b"
             ],
             [
              0.6666666666666666,
              "#ed7953"
             ],
             [
              0.7777777777777778,
              "#fb9f3a"
             ],
             [
              0.8888888888888888,
              "#fdca26"
             ],
             [
              1,
              "#f0f921"
             ]
            ],
            "type": "contour"
           }
          ],
          "contourcarpet": [
           {
            "colorbar": {
             "outlinewidth": 0,
             "ticks": ""
            },
            "type": "contourcarpet"
           }
          ],
          "heatmap": [
           {
            "colorbar": {
             "outlinewidth": 0,
             "ticks": ""
            },
            "colorscale": [
             [
              0,
              "#0d0887"
             ],
             [
              0.1111111111111111,
              "#46039f"
             ],
             [
              0.2222222222222222,
              "#7201a8"
             ],
             [
              0.3333333333333333,
              "#9c179e"
             ],
             [
              0.4444444444444444,
              "#bd3786"
             ],
             [
              0.5555555555555556,
              "#d8576b"
             ],
             [
              0.6666666666666666,
              "#ed7953"
             ],
             [
              0.7777777777777778,
              "#fb9f3a"
             ],
             [
              0.8888888888888888,
              "#fdca26"
             ],
             [
              1,
              "#f0f921"
             ]
            ],
            "type": "heatmap"
           }
          ],
          "heatmapgl": [
           {
            "colorbar": {
             "outlinewidth": 0,
             "ticks": ""
            },
            "colorscale": [
             [
              0,
              "#0d0887"
             ],
             [
              0.1111111111111111,
              "#46039f"
             ],
             [
              0.2222222222222222,
              "#7201a8"
             ],
             [
              0.3333333333333333,
              "#9c179e"
             ],
             [
              0.4444444444444444,
              "#bd3786"
             ],
             [
              0.5555555555555556,
              "#d8576b"
             ],
             [
              0.6666666666666666,
              "#ed7953"
             ],
             [
              0.7777777777777778,
              "#fb9f3a"
             ],
             [
              0.8888888888888888,
              "#fdca26"
             ],
             [
              1,
              "#f0f921"
             ]
            ],
            "type": "heatmapgl"
           }
          ],
          "histogram": [
           {
            "marker": {
             "pattern": {
              "fillmode": "overlay",
              "size": 10,
              "solidity": 0.2
             }
            },
            "type": "histogram"
           }
          ],
          "histogram2d": [
           {
            "colorbar": {
             "outlinewidth": 0,
             "ticks": ""
            },
            "colorscale": [
             [
              0,
              "#0d0887"
             ],
             [
              0.1111111111111111,
              "#46039f"
             ],
             [
              0.2222222222222222,
              "#7201a8"
             ],
             [
              0.3333333333333333,
              "#9c179e"
             ],
             [
              0.4444444444444444,
              "#bd3786"
             ],
             [
              0.5555555555555556,
              "#d8576b"
             ],
             [
              0.6666666666666666,
              "#ed7953"
             ],
             [
              0.7777777777777778,
              "#fb9f3a"
             ],
             [
              0.8888888888888888,
              "#fdca26"
             ],
             [
              1,
              "#f0f921"
             ]
            ],
            "type": "histogram2d"
           }
          ],
          "histogram2dcontour": [
           {
            "colorbar": {
             "outlinewidth": 0,
             "ticks": ""
            },
            "colorscale": [
             [
              0,
              "#0d0887"
             ],
             [
              0.1111111111111111,
              "#46039f"
             ],
             [
              0.2222222222222222,
              "#7201a8"
             ],
             [
              0.3333333333333333,
              "#9c179e"
             ],
             [
              0.4444444444444444,
              "#bd3786"
             ],
             [
              0.5555555555555556,
              "#d8576b"
             ],
             [
              0.6666666666666666,
              "#ed7953"
             ],
             [
              0.7777777777777778,
              "#fb9f3a"
             ],
             [
              0.8888888888888888,
              "#fdca26"
             ],
             [
              1,
              "#f0f921"
             ]
            ],
            "type": "histogram2dcontour"
           }
          ],
          "mesh3d": [
           {
            "colorbar": {
             "outlinewidth": 0,
             "ticks": ""
            },
            "type": "mesh3d"
           }
          ],
          "parcoords": [
           {
            "line": {
             "colorbar": {
              "outlinewidth": 0,
              "ticks": ""
             }
            },
            "type": "parcoords"
           }
          ],
          "pie": [
           {
            "automargin": true,
            "type": "pie"
           }
          ],
          "scatter": [
           {
            "fillpattern": {
             "fillmode": "overlay",
             "size": 10,
             "solidity": 0.2
            },
            "type": "scatter"
           }
          ],
          "scatter3d": [
           {
            "line": {
             "colorbar": {
              "outlinewidth": 0,
              "ticks": ""
             }
            },
            "marker": {
             "colorbar": {
              "outlinewidth": 0,
              "ticks": ""
             }
            },
            "type": "scatter3d"
           }
          ],
          "scattercarpet": [
           {
            "marker": {
             "colorbar": {
              "outlinewidth": 0,
              "ticks": ""
             }
            },
            "type": "scattercarpet"
           }
          ],
          "scattergeo": [
           {
            "marker": {
             "colorbar": {
              "outlinewidth": 0,
              "ticks": ""
             }
            },
            "type": "scattergeo"
           }
          ],
          "scattergl": [
           {
            "marker": {
             "colorbar": {
              "outlinewidth": 0,
              "ticks": ""
             }
            },
            "type": "scattergl"
           }
          ],
          "scattermapbox": [
           {
            "marker": {
             "colorbar": {
              "outlinewidth": 0,
              "ticks": ""
             }
            },
            "type": "scattermapbox"
           }
          ],
          "scatterpolar": [
           {
            "marker": {
             "colorbar": {
              "outlinewidth": 0,
              "ticks": ""
             }
            },
            "type": "scatterpolar"
           }
          ],
          "scatterpolargl": [
           {
            "marker": {
             "colorbar": {
              "outlinewidth": 0,
              "ticks": ""
             }
            },
            "type": "scatterpolargl"
           }
          ],
          "scatterternary": [
           {
            "marker": {
             "colorbar": {
              "outlinewidth": 0,
              "ticks": ""
             }
            },
            "type": "scatterternary"
           }
          ],
          "surface": [
           {
            "colorbar": {
             "outlinewidth": 0,
             "ticks": ""
            },
            "colorscale": [
             [
              0,
              "#0d0887"
             ],
             [
              0.1111111111111111,
              "#46039f"
             ],
             [
              0.2222222222222222,
              "#7201a8"
             ],
             [
              0.3333333333333333,
              "#9c179e"
             ],
             [
              0.4444444444444444,
              "#bd3786"
             ],
             [
              0.5555555555555556,
              "#d8576b"
             ],
             [
              0.6666666666666666,
              "#ed7953"
             ],
             [
              0.7777777777777778,
              "#fb9f3a"
             ],
             [
              0.8888888888888888,
              "#fdca26"
             ],
             [
              1,
              "#f0f921"
             ]
            ],
            "type": "surface"
           }
          ],
          "table": [
           {
            "cells": {
             "fill": {
              "color": "#EBF0F8"
             },
             "line": {
              "color": "white"
             }
            },
            "header": {
             "fill": {
              "color": "#C8D4E3"
             },
             "line": {
              "color": "white"
             }
            },
            "type": "table"
           }
          ]
         },
         "layout": {
          "annotationdefaults": {
           "arrowcolor": "#2a3f5f",
           "arrowhead": 0,
           "arrowwidth": 1
          },
          "autotypenumbers": "strict",
          "coloraxis": {
           "colorbar": {
            "outlinewidth": 0,
            "ticks": ""
           }
          },
          "colorscale": {
           "diverging": [
            [
             0,
             "#8e0152"
            ],
            [
             0.1,
             "#c51b7d"
            ],
            [
             0.2,
             "#de77ae"
            ],
            [
             0.3,
             "#f1b6da"
            ],
            [
             0.4,
             "#fde0ef"
            ],
            [
             0.5,
             "#f7f7f7"
            ],
            [
             0.6,
             "#e6f5d0"
            ],
            [
             0.7,
             "#b8e186"
            ],
            [
             0.8,
             "#7fbc41"
            ],
            [
             0.9,
             "#4d9221"
            ],
            [
             1,
             "#276419"
            ]
           ],
           "sequential": [
            [
             0,
             "#0d0887"
            ],
            [
             0.1111111111111111,
             "#46039f"
            ],
            [
             0.2222222222222222,
             "#7201a8"
            ],
            [
             0.3333333333333333,
             "#9c179e"
            ],
            [
             0.4444444444444444,
             "#bd3786"
            ],
            [
             0.5555555555555556,
             "#d8576b"
            ],
            [
             0.6666666666666666,
             "#ed7953"
            ],
            [
             0.7777777777777778,
             "#fb9f3a"
            ],
            [
             0.8888888888888888,
             "#fdca26"
            ],
            [
             1,
             "#f0f921"
            ]
           ],
           "sequentialminus": [
            [
             0,
             "#0d0887"
            ],
            [
             0.1111111111111111,
             "#46039f"
            ],
            [
             0.2222222222222222,
             "#7201a8"
            ],
            [
             0.3333333333333333,
             "#9c179e"
            ],
            [
             0.4444444444444444,
             "#bd3786"
            ],
            [
             0.5555555555555556,
             "#d8576b"
            ],
            [
             0.6666666666666666,
             "#ed7953"
            ],
            [
             0.7777777777777778,
             "#fb9f3a"
            ],
            [
             0.8888888888888888,
             "#fdca26"
            ],
            [
             1,
             "#f0f921"
            ]
           ]
          },
          "colorway": [
           "#636efa",
           "#EF553B",
           "#00cc96",
           "#ab63fa",
           "#FFA15A",
           "#19d3f3",
           "#FF6692",
           "#B6E880",
           "#FF97FF",
           "#FECB52"
          ],
          "font": {
           "color": "#2a3f5f"
          },
          "geo": {
           "bgcolor": "white",
           "lakecolor": "white",
           "landcolor": "#E5ECF6",
           "showlakes": true,
           "showland": true,
           "subunitcolor": "white"
          },
          "hoverlabel": {
           "align": "left"
          },
          "hovermode": "closest",
          "mapbox": {
           "style": "light"
          },
          "paper_bgcolor": "white",
          "plot_bgcolor": "#E5ECF6",
          "polar": {
           "angularaxis": {
            "gridcolor": "white",
            "linecolor": "white",
            "ticks": ""
           },
           "bgcolor": "#E5ECF6",
           "radialaxis": {
            "gridcolor": "white",
            "linecolor": "white",
            "ticks": ""
           }
          },
          "scene": {
           "xaxis": {
            "backgroundcolor": "#E5ECF6",
            "gridcolor": "white",
            "gridwidth": 2,
            "linecolor": "white",
            "showbackground": true,
            "ticks": "",
            "zerolinecolor": "white"
           },
           "yaxis": {
            "backgroundcolor": "#E5ECF6",
            "gridcolor": "white",
            "gridwidth": 2,
            "linecolor": "white",
            "showbackground": true,
            "ticks": "",
            "zerolinecolor": "white"
           },
           "zaxis": {
            "backgroundcolor": "#E5ECF6",
            "gridcolor": "white",
            "gridwidth": 2,
            "linecolor": "white",
            "showbackground": true,
            "ticks": "",
            "zerolinecolor": "white"
           }
          },
          "shapedefaults": {
           "line": {
            "color": "#2a3f5f"
           }
          },
          "ternary": {
           "aaxis": {
            "gridcolor": "white",
            "linecolor": "white",
            "ticks": ""
           },
           "baxis": {
            "gridcolor": "white",
            "linecolor": "white",
            "ticks": ""
           },
           "bgcolor": "#E5ECF6",
           "caxis": {
            "gridcolor": "white",
            "linecolor": "white",
            "ticks": ""
           }
          },
          "title": {
           "x": 0.05
          },
          "xaxis": {
           "automargin": true,
           "gridcolor": "white",
           "linecolor": "white",
           "ticks": "",
           "title": {
            "standoff": 15
           },
           "zerolinecolor": "white",
           "zerolinewidth": 2
          },
          "yaxis": {
           "automargin": true,
           "gridcolor": "white",
           "linecolor": "white",
           "ticks": "",
           "title": {
            "standoff": 15
           },
           "zerolinecolor": "white",
           "zerolinewidth": 2
          }
         }
        },
        "xaxis": {
         "anchor": "y",
         "domain": [
          0,
          1
         ],
         "title": {
          "text": "Patient inter-arrival time"
         }
        },
        "yaxis": {
         "anchor": "x",
         "domain": [
          0,
          1
         ],
         "title": {
          "text": "Mean nurse utilisation"
         }
        }
       }
      }
     },
     "metadata": {},
     "output_type": "display_data"
    }
   ],
   "source": [
    "result, fig = plot_scenario(\n",
    "    results=scenario_results,\n",
    "    x_var='patient_inter',\n",
    "    result_var='mean_nurse_utilisation',\n",
    "    colour_var='number_of_nurses',\n",
    "    xaxis_title='Patient inter-arrival time',\n",
    "    yaxis_title='Mean nurse utilisation',\n",
    "    legend_title='Nurses')\n",
    "\n",
    "fig.show()\n",
    "\n",
    "fig.write_image(os.path.join(output_dir, 'scenario_nurse_util.png'))"
   ]
  },
  {
   "cell_type": "markdown",
   "metadata": {},
   "source": [
    "Example table..."
   ]
  },
  {
   "cell_type": "code",
   "execution_count": 19,
   "metadata": {},
   "outputs": [
    {
     "name": "stdout",
     "output_type": "stream",
     "text": [
      "\\begin{table}[!t]\n",
      "\n",
      "\n",
      "\\fontsize{12.0pt}{14.4pt}\\selectfont\n",
      "\n",
      "\\begin{tabular*}{\\linewidth}{@{\\extracolsep{\\fill}}rllll}\n",
      "\\toprule\n",
      "patient\\_inter & 5 nurses & 6 nurses & 7 nurses & 8 nurses \\\\ \n",
      "\\midrule\\addlinespace[2.5pt]\n",
      "3 & 0.66 (0.66, 0.67) & 0.55 (0.55, 0.56) & 0.47 (0.47, 0.48) & 0.41 (0.41, 0.42) \\\\\n",
      "4 & 0.5 (0.5, 0.5) & 0.41 (0.41, 0.42) & 0.36 (0.35, 0.36) & 0.31 (0.31, 0.31) \\\\\n",
      "5 & 0.4 (0.4, 0.4) & 0.33 (0.33, 0.33) & 0.29 (0.28, 0.29) & 0.25 (0.25, 0.25) \\\\\n",
      "6 & 0.33 (0.33, 0.33) & 0.28 (0.28, 0.28) & 0.24 (0.24, 0.24) & 0.21 (0.21, 0.21) \\\\\n",
      "7 & 0.29 (0.28, 0.29) & 0.24 (0.24, 0.24) & 0.2 (0.2, 0.21) & 0.18 (0.18, 0.18) \\\\\n",
      "\\bottomrule\n",
      "\\end{tabular*}\n",
      "\n",
      "\\end{table}\n",
      "\n"
     ]
    }
   ],
   "source": [
    "# Combine mean and CI into single column, and round, and label nurse column\n",
    "table = result.with_columns(\n",
    "    pl.format('{} ({}, {})',\n",
    "              pl.col('mean').round(2),\n",
    "              pl.col('ci_lower').round(2),\n",
    "              pl.col('ci_upper').round(2)).alias('mean_ci'),\n",
    "    pl.format('{} nurses', pl.col('number_of_nurses').alias('nurse_str')))\n",
    "\n",
    "# Convert from long to wide format\n",
    "table = table.pivot('nurse_str', index='patient_inter', values='mean_ci')\n",
    "\n",
    "# Convert to latex, display and save\n",
    "table_latex = GT(table).as_latex()\n",
    "print(table_latex)\n",
    "with open(os.path.join(output_dir, 'scenario_nurse_util.tex'), 'w') as f:\n",
    "    f.write(table_latex)"
   ]
  },
  {
   "cell_type": "markdown",
   "metadata": {},
   "source": [
    "## Sensitivity analysis\n",
    "\n",
    "Can use similar code to perform sensitivity analyses.\n",
    "\n",
    "**How does sensitivity analysis differ from scenario analysis?**\n",
    "\n",
    "* Scenario analysis focuses on a set of predefined situations which are plausible or relevant to the problem being studied. It can often involve varying multiple parameters simulatenously. The purpose is to understand how the system operates under different hypothetical scenarios.\n",
    "* Sensitivity analysis varies one (or a small group) of parameters and assesses the impact of small changes in that parameter on outcomes. The purpose is to understand how uncertainty in the inputs affects the model, and how robust results are to variation in those inputs."
   ]
  },
  {
   "cell_type": "code",
   "execution_count": 20,
   "metadata": {},
   "outputs": [
    {
     "name": "stdout",
     "output_type": "stream",
     "text": [
      "There are 8 scenarios. Running:\n",
      "{'mean_n_consult_time': 8}\n",
      "{'mean_n_consult_time': 9}\n",
      "{'mean_n_consult_time': 10}\n",
      "{'mean_n_consult_time': 11}\n",
      "{'mean_n_consult_time': 12}\n",
      "{'mean_n_consult_time': 13}\n",
      "{'mean_n_consult_time': 14}\n",
      "{'mean_n_consult_time': 15}\n"
     ]
    }
   ],
   "source": [
    "# Run scenarios\n",
    "sensitivity_consult = run_scenarios({\n",
    "    'mean_n_consult_time': [8, 9, 10, 11, 12, 13, 14, 15]\n",
    "})"
   ]
  },
  {
   "cell_type": "code",
   "execution_count": 21,
   "metadata": {},
   "outputs": [
    {
     "data": {
      "application/vnd.plotly.v1+json": {
       "config": {
        "plotlyServerURL": "https://plot.ly"
       },
       "data": [
        {
         "hovertemplate": "mean_n_consult_time=%{x}<br>mean=%{y}<extra></extra>",
         "legendgroup": "",
         "line": {
          "color": "#636efa",
          "dash": "solid"
         },
         "marker": {
          "symbol": "circle"
         },
         "mode": "lines",
         "name": "",
         "orientation": "v",
         "showlegend": false,
         "type": "scatter",
         "x": [
          8,
          9,
          10,
          11,
          12,
          13,
          14,
          15
         ],
         "xaxis": "x",
         "y": [
          0.15117881736778396,
          0.28394136348868726,
          0.499036905566402,
          0.8385104727236153,
          1.355692289891784,
          2.1482656075001905,
          3.3720354896743534,
          5.303240505365225
         ],
         "yaxis": "y"
        },
        {
         "hovertemplate": "mean_n_consult_time=%{x}<br>ci_upper=%{y}<extra></extra>",
         "legendgroup": "",
         "line": {
          "color": "#636efa",
          "dash": "solid"
         },
         "marker": {
          "symbol": "circle"
         },
         "mode": "lines",
         "name": "",
         "opacity": 0.5,
         "orientation": "v",
         "showlegend": false,
         "type": "scatter",
         "x": [
          8,
          9,
          10,
          11,
          12,
          13,
          14,
          15
         ],
         "xaxis": "x",
         "y": [
          0.15948164413765506,
          0.2985171915588403,
          0.5227611855035442,
          0.8773681389169283,
          1.4163791888045625,
          2.240105050625653,
          3.5143517591813387,
          5.534647616026633
         ],
         "yaxis": "y"
        },
        {
         "hovertemplate": "mean_n_consult_time=%{x}<br>ci_lower=%{y}<extra></extra>",
         "legendgroup": "",
         "line": {
          "color": "#636efa",
          "dash": "solid"
         },
         "marker": {
          "symbol": "circle"
         },
         "mode": "lines",
         "name": "",
         "opacity": 0.5,
         "orientation": "v",
         "showlegend": false,
         "type": "scatter",
         "x": [
          8,
          9,
          10,
          11,
          12,
          13,
          14,
          15
         ],
         "xaxis": "x",
         "y": [
          0.14287599059791287,
          0.2693655354185342,
          0.47531262562925986,
          0.7996528065303024,
          1.2950053909790056,
          2.056426164374728,
          3.229719220167368,
          5.071833394703817
         ],
         "yaxis": "y"
        }
       ],
       "layout": {
        "legend": {
         "title": {
          "text": "Nurses"
         },
         "tracegroupgap": 0
        },
        "margin": {
         "t": 60
        },
        "template": {
         "data": {
          "bar": [
           {
            "error_x": {
             "color": "#2a3f5f"
            },
            "error_y": {
             "color": "#2a3f5f"
            },
            "marker": {
             "line": {
              "color": "#E5ECF6",
              "width": 0.5
             },
             "pattern": {
              "fillmode": "overlay",
              "size": 10,
              "solidity": 0.2
             }
            },
            "type": "bar"
           }
          ],
          "barpolar": [
           {
            "marker": {
             "line": {
              "color": "#E5ECF6",
              "width": 0.5
             },
             "pattern": {
              "fillmode": "overlay",
              "size": 10,
              "solidity": 0.2
             }
            },
            "type": "barpolar"
           }
          ],
          "carpet": [
           {
            "aaxis": {
             "endlinecolor": "#2a3f5f",
             "gridcolor": "white",
             "linecolor": "white",
             "minorgridcolor": "white",
             "startlinecolor": "#2a3f5f"
            },
            "baxis": {
             "endlinecolor": "#2a3f5f",
             "gridcolor": "white",
             "linecolor": "white",
             "minorgridcolor": "white",
             "startlinecolor": "#2a3f5f"
            },
            "type": "carpet"
           }
          ],
          "choropleth": [
           {
            "colorbar": {
             "outlinewidth": 0,
             "ticks": ""
            },
            "type": "choropleth"
           }
          ],
          "contour": [
           {
            "colorbar": {
             "outlinewidth": 0,
             "ticks": ""
            },
            "colorscale": [
             [
              0,
              "#0d0887"
             ],
             [
              0.1111111111111111,
              "#46039f"
             ],
             [
              0.2222222222222222,
              "#7201a8"
             ],
             [
              0.3333333333333333,
              "#9c179e"
             ],
             [
              0.4444444444444444,
              "#bd3786"
             ],
             [
              0.5555555555555556,
              "#d8576b"
             ],
             [
              0.6666666666666666,
              "#ed7953"
             ],
             [
              0.7777777777777778,
              "#fb9f3a"
             ],
             [
              0.8888888888888888,
              "#fdca26"
             ],
             [
              1,
              "#f0f921"
             ]
            ],
            "type": "contour"
           }
          ],
          "contourcarpet": [
           {
            "colorbar": {
             "outlinewidth": 0,
             "ticks": ""
            },
            "type": "contourcarpet"
           }
          ],
          "heatmap": [
           {
            "colorbar": {
             "outlinewidth": 0,
             "ticks": ""
            },
            "colorscale": [
             [
              0,
              "#0d0887"
             ],
             [
              0.1111111111111111,
              "#46039f"
             ],
             [
              0.2222222222222222,
              "#7201a8"
             ],
             [
              0.3333333333333333,
              "#9c179e"
             ],
             [
              0.4444444444444444,
              "#bd3786"
             ],
             [
              0.5555555555555556,
              "#d8576b"
             ],
             [
              0.6666666666666666,
              "#ed7953"
             ],
             [
              0.7777777777777778,
              "#fb9f3a"
             ],
             [
              0.8888888888888888,
              "#fdca26"
             ],
             [
              1,
              "#f0f921"
             ]
            ],
            "type": "heatmap"
           }
          ],
          "heatmapgl": [
           {
            "colorbar": {
             "outlinewidth": 0,
             "ticks": ""
            },
            "colorscale": [
             [
              0,
              "#0d0887"
             ],
             [
              0.1111111111111111,
              "#46039f"
             ],
             [
              0.2222222222222222,
              "#7201a8"
             ],
             [
              0.3333333333333333,
              "#9c179e"
             ],
             [
              0.4444444444444444,
              "#bd3786"
             ],
             [
              0.5555555555555556,
              "#d8576b"
             ],
             [
              0.6666666666666666,
              "#ed7953"
             ],
             [
              0.7777777777777778,
              "#fb9f3a"
             ],
             [
              0.8888888888888888,
              "#fdca26"
             ],
             [
              1,
              "#f0f921"
             ]
            ],
            "type": "heatmapgl"
           }
          ],
          "histogram": [
           {
            "marker": {
             "pattern": {
              "fillmode": "overlay",
              "size": 10,
              "solidity": 0.2
             }
            },
            "type": "histogram"
           }
          ],
          "histogram2d": [
           {
            "colorbar": {
             "outlinewidth": 0,
             "ticks": ""
            },
            "colorscale": [
             [
              0,
              "#0d0887"
             ],
             [
              0.1111111111111111,
              "#46039f"
             ],
             [
              0.2222222222222222,
              "#7201a8"
             ],
             [
              0.3333333333333333,
              "#9c179e"
             ],
             [
              0.4444444444444444,
              "#bd3786"
             ],
             [
              0.5555555555555556,
              "#d8576b"
             ],
             [
              0.6666666666666666,
              "#ed7953"
             ],
             [
              0.7777777777777778,
              "#fb9f3a"
             ],
             [
              0.8888888888888888,
              "#fdca26"
             ],
             [
              1,
              "#f0f921"
             ]
            ],
            "type": "histogram2d"
           }
          ],
          "histogram2dcontour": [
           {
            "colorbar": {
             "outlinewidth": 0,
             "ticks": ""
            },
            "colorscale": [
             [
              0,
              "#0d0887"
             ],
             [
              0.1111111111111111,
              "#46039f"
             ],
             [
              0.2222222222222222,
              "#7201a8"
             ],
             [
              0.3333333333333333,
              "#9c179e"
             ],
             [
              0.4444444444444444,
              "#bd3786"
             ],
             [
              0.5555555555555556,
              "#d8576b"
             ],
             [
              0.6666666666666666,
              "#ed7953"
             ],
             [
              0.7777777777777778,
              "#fb9f3a"
             ],
             [
              0.8888888888888888,
              "#fdca26"
             ],
             [
              1,
              "#f0f921"
             ]
            ],
            "type": "histogram2dcontour"
           }
          ],
          "mesh3d": [
           {
            "colorbar": {
             "outlinewidth": 0,
             "ticks": ""
            },
            "type": "mesh3d"
           }
          ],
          "parcoords": [
           {
            "line": {
             "colorbar": {
              "outlinewidth": 0,
              "ticks": ""
             }
            },
            "type": "parcoords"
           }
          ],
          "pie": [
           {
            "automargin": true,
            "type": "pie"
           }
          ],
          "scatter": [
           {
            "fillpattern": {
             "fillmode": "overlay",
             "size": 10,
             "solidity": 0.2
            },
            "type": "scatter"
           }
          ],
          "scatter3d": [
           {
            "line": {
             "colorbar": {
              "outlinewidth": 0,
              "ticks": ""
             }
            },
            "marker": {
             "colorbar": {
              "outlinewidth": 0,
              "ticks": ""
             }
            },
            "type": "scatter3d"
           }
          ],
          "scattercarpet": [
           {
            "marker": {
             "colorbar": {
              "outlinewidth": 0,
              "ticks": ""
             }
            },
            "type": "scattercarpet"
           }
          ],
          "scattergeo": [
           {
            "marker": {
             "colorbar": {
              "outlinewidth": 0,
              "ticks": ""
             }
            },
            "type": "scattergeo"
           }
          ],
          "scattergl": [
           {
            "marker": {
             "colorbar": {
              "outlinewidth": 0,
              "ticks": ""
             }
            },
            "type": "scattergl"
           }
          ],
          "scattermapbox": [
           {
            "marker": {
             "colorbar": {
              "outlinewidth": 0,
              "ticks": ""
             }
            },
            "type": "scattermapbox"
           }
          ],
          "scatterpolar": [
           {
            "marker": {
             "colorbar": {
              "outlinewidth": 0,
              "ticks": ""
             }
            },
            "type": "scatterpolar"
           }
          ],
          "scatterpolargl": [
           {
            "marker": {
             "colorbar": {
              "outlinewidth": 0,
              "ticks": ""
             }
            },
            "type": "scatterpolargl"
           }
          ],
          "scatterternary": [
           {
            "marker": {
             "colorbar": {
              "outlinewidth": 0,
              "ticks": ""
             }
            },
            "type": "scatterternary"
           }
          ],
          "surface": [
           {
            "colorbar": {
             "outlinewidth": 0,
             "ticks": ""
            },
            "colorscale": [
             [
              0,
              "#0d0887"
             ],
             [
              0.1111111111111111,
              "#46039f"
             ],
             [
              0.2222222222222222,
              "#7201a8"
             ],
             [
              0.3333333333333333,
              "#9c179e"
             ],
             [
              0.4444444444444444,
              "#bd3786"
             ],
             [
              0.5555555555555556,
              "#d8576b"
             ],
             [
              0.6666666666666666,
              "#ed7953"
             ],
             [
              0.7777777777777778,
              "#fb9f3a"
             ],
             [
              0.8888888888888888,
              "#fdca26"
             ],
             [
              1,
              "#f0f921"
             ]
            ],
            "type": "surface"
           }
          ],
          "table": [
           {
            "cells": {
             "fill": {
              "color": "#EBF0F8"
             },
             "line": {
              "color": "white"
             }
            },
            "header": {
             "fill": {
              "color": "#C8D4E3"
             },
             "line": {
              "color": "white"
             }
            },
            "type": "table"
           }
          ]
         },
         "layout": {
          "annotationdefaults": {
           "arrowcolor": "#2a3f5f",
           "arrowhead": 0,
           "arrowwidth": 1
          },
          "autotypenumbers": "strict",
          "coloraxis": {
           "colorbar": {
            "outlinewidth": 0,
            "ticks": ""
           }
          },
          "colorscale": {
           "diverging": [
            [
             0,
             "#8e0152"
            ],
            [
             0.1,
             "#c51b7d"
            ],
            [
             0.2,
             "#de77ae"
            ],
            [
             0.3,
             "#f1b6da"
            ],
            [
             0.4,
             "#fde0ef"
            ],
            [
             0.5,
             "#f7f7f7"
            ],
            [
             0.6,
             "#e6f5d0"
            ],
            [
             0.7,
             "#b8e186"
            ],
            [
             0.8,
             "#7fbc41"
            ],
            [
             0.9,
             "#4d9221"
            ],
            [
             1,
             "#276419"
            ]
           ],
           "sequential": [
            [
             0,
             "#0d0887"
            ],
            [
             0.1111111111111111,
             "#46039f"
            ],
            [
             0.2222222222222222,
             "#7201a8"
            ],
            [
             0.3333333333333333,
             "#9c179e"
            ],
            [
             0.4444444444444444,
             "#bd3786"
            ],
            [
             0.5555555555555556,
             "#d8576b"
            ],
            [
             0.6666666666666666,
             "#ed7953"
            ],
            [
             0.7777777777777778,
             "#fb9f3a"
            ],
            [
             0.8888888888888888,
             "#fdca26"
            ],
            [
             1,
             "#f0f921"
            ]
           ],
           "sequentialminus": [
            [
             0,
             "#0d0887"
            ],
            [
             0.1111111111111111,
             "#46039f"
            ],
            [
             0.2222222222222222,
             "#7201a8"
            ],
            [
             0.3333333333333333,
             "#9c179e"
            ],
            [
             0.4444444444444444,
             "#bd3786"
            ],
            [
             0.5555555555555556,
             "#d8576b"
            ],
            [
             0.6666666666666666,
             "#ed7953"
            ],
            [
             0.7777777777777778,
             "#fb9f3a"
            ],
            [
             0.8888888888888888,
             "#fdca26"
            ],
            [
             1,
             "#f0f921"
            ]
           ]
          },
          "colorway": [
           "#636efa",
           "#EF553B",
           "#00cc96",
           "#ab63fa",
           "#FFA15A",
           "#19d3f3",
           "#FF6692",
           "#B6E880",
           "#FF97FF",
           "#FECB52"
          ],
          "font": {
           "color": "#2a3f5f"
          },
          "geo": {
           "bgcolor": "white",
           "lakecolor": "white",
           "landcolor": "#E5ECF6",
           "showlakes": true,
           "showland": true,
           "subunitcolor": "white"
          },
          "hoverlabel": {
           "align": "left"
          },
          "hovermode": "closest",
          "mapbox": {
           "style": "light"
          },
          "paper_bgcolor": "white",
          "plot_bgcolor": "#E5ECF6",
          "polar": {
           "angularaxis": {
            "gridcolor": "white",
            "linecolor": "white",
            "ticks": ""
           },
           "bgcolor": "#E5ECF6",
           "radialaxis": {
            "gridcolor": "white",
            "linecolor": "white",
            "ticks": ""
           }
          },
          "scene": {
           "xaxis": {
            "backgroundcolor": "#E5ECF6",
            "gridcolor": "white",
            "gridwidth": 2,
            "linecolor": "white",
            "showbackground": true,
            "ticks": "",
            "zerolinecolor": "white"
           },
           "yaxis": {
            "backgroundcolor": "#E5ECF6",
            "gridcolor": "white",
            "gridwidth": 2,
            "linecolor": "white",
            "showbackground": true,
            "ticks": "",
            "zerolinecolor": "white"
           },
           "zaxis": {
            "backgroundcolor": "#E5ECF6",
            "gridcolor": "white",
            "gridwidth": 2,
            "linecolor": "white",
            "showbackground": true,
            "ticks": "",
            "zerolinecolor": "white"
           }
          },
          "shapedefaults": {
           "line": {
            "color": "#2a3f5f"
           }
          },
          "ternary": {
           "aaxis": {
            "gridcolor": "white",
            "linecolor": "white",
            "ticks": ""
           },
           "baxis": {
            "gridcolor": "white",
            "linecolor": "white",
            "ticks": ""
           },
           "bgcolor": "#E5ECF6",
           "caxis": {
            "gridcolor": "white",
            "linecolor": "white",
            "ticks": ""
           }
          },
          "title": {
           "x": 0.05
          },
          "xaxis": {
           "automargin": true,
           "gridcolor": "white",
           "linecolor": "white",
           "ticks": "",
           "title": {
            "standoff": 15
           },
           "zerolinecolor": "white",
           "zerolinewidth": 2
          },
          "yaxis": {
           "automargin": true,
           "gridcolor": "white",
           "linecolor": "white",
           "ticks": "",
           "title": {
            "standoff": 15
           },
           "zerolinecolor": "white",
           "zerolinewidth": 2
          }
         }
        },
        "xaxis": {
         "anchor": "y",
         "domain": [
          0,
          1
         ],
         "title": {
          "text": "Mean nurse consultation time (minutes)"
         }
        },
        "yaxis": {
         "anchor": "x",
         "domain": [
          0,
          1
         ],
         "title": {
          "text": "Mean wait time for nurse (minutes)"
         }
        }
       }
      }
     },
     "metadata": {},
     "output_type": "display_data"
    }
   ],
   "source": [
    "result, fig = plot_scenario(\n",
    "    results=sensitivity_consult,\n",
    "    x_var='mean_n_consult_time',\n",
    "    result_var='mean_q_time_nurse',\n",
    "    colour_var=None,\n",
    "    xaxis_title='Mean nurse consultation time (minutes)',\n",
    "    yaxis_title='Mean wait time for nurse (minutes)',\n",
    "    legend_title='Nurses'\n",
    ")\n",
    "\n",
    "fig.show()\n",
    "\n",
    "fig.write_image(os.path.join(output_dir, 'sensitivity_consult_time.png'))"
   ]
  },
  {
   "cell_type": "code",
   "execution_count": 22,
   "metadata": {},
   "outputs": [
    {
     "name": "stdout",
     "output_type": "stream",
     "text": [
      "\\begin{table}[!t]\n",
      "\n",
      "\n",
      "\\fontsize{12.0pt}{14.4pt}\\selectfont\n",
      "\n",
      "\\begin{tabular*}{\\linewidth}{@{\\extracolsep{\\fill}}rl}\n",
      "\\toprule\n",
      "Mean nurse consultation time & Mean wait time for nurse (95 percent confidence interval) \\\\ \n",
      "\\midrule\\addlinespace[2.5pt]\n",
      "8 & 0.15 (0.14, 0.16) \\\\\n",
      "9 & 0.28 (0.27, 0.3) \\\\\n",
      "10 & 0.5 (0.48, 0.52) \\\\\n",
      "11 & 0.84 (0.8, 0.88) \\\\\n",
      "12 & 1.36 (1.3, 1.42) \\\\\n",
      "13 & 2.15 (2.06, 2.24) \\\\\n",
      "14 & 3.37 (3.23, 3.51) \\\\\n",
      "15 & 5.3 (5.07, 5.53) \\\\\n",
      "\\bottomrule\n",
      "\\end{tabular*}\n",
      "\n",
      "\\end{table}\n",
      "\n"
     ]
    }
   ],
   "source": [
    "# Combine mean and CI into single column\n",
    "table = result.with_columns(\n",
    "    pl.format('{} ({}, {})',\n",
    "              pl.col('mean').round(2),\n",
    "              pl.col('ci_lower').round(2),\n",
    "              pl.col('ci_upper').round(2)).alias('mean_ci'))\n",
    "\n",
    "# Filter and rename columns\n",
    "cols = {\n",
    "    'mean_n_consult_time': 'Mean nurse consultation time',\n",
    "    'mean_ci': 'Mean wait time for nurse (95 percent confidence interval)'\n",
    "}\n",
    "table = table.select(cols.keys()).rename(cols)\n",
    "\n",
    "# Convert to latex, display and save\n",
    "table_latex = GT(table).as_latex()\n",
    "print(table_latex)\n",
    "with open(os.path.join(output_dir, 'sensitivity_consult_time.tex'), 'w') as f:\n",
    "    f.write(table_latex)"
   ]
  },
  {
   "cell_type": "markdown",
   "metadata": {},
   "source": [
    "## NaN results\n",
    "\n",
    "Note: In this model, if patients are still waiting to be seen at the end of the simulation, they will have NaN results."
   ]
  },
  {
   "cell_type": "code",
   "execution_count": 23,
   "metadata": {},
   "outputs": [
    {
     "data": {
      "text/html": [
       "<div><style>\n",
       ".dataframe > thead > tr,\n",
       ".dataframe > tbody > tr {\n",
       "  text-align: right;\n",
       "  white-space: pre-wrap;\n",
       "}\n",
       "</style>\n",
       "<small>shape: (5, 5)</small><table border=\"1\" class=\"dataframe\"><thead><tr><th>patient_id</th><th>arrival_time</th><th>q_time_nurse</th><th>time_with_nurse</th><th>run</th></tr><tr><td>i64</td><td>f64</td><td>f64</td><td>f64</td><td>i32</td></tr></thead><tbody><tr><td>21586</td><td>61913.030043</td><td>NaN</td><td>NaN</td><td>30</td></tr><tr><td>21587</td><td>61915.384561</td><td>NaN</td><td>NaN</td><td>30</td></tr><tr><td>21588</td><td>61915.421934</td><td>NaN</td><td>NaN</td><td>30</td></tr><tr><td>21589</td><td>61917.81791</td><td>NaN</td><td>NaN</td><td>30</td></tr><tr><td>21590</td><td>61919.845349</td><td>NaN</td><td>NaN</td><td>30</td></tr></tbody></table></div>"
      ],
      "text/plain": [
       "shape: (5, 5)\n",
       "┌────────────┬──────────────┬──────────────┬─────────────────┬─────┐\n",
       "│ patient_id ┆ arrival_time ┆ q_time_nurse ┆ time_with_nurse ┆ run │\n",
       "│ ---        ┆ ---          ┆ ---          ┆ ---             ┆ --- │\n",
       "│ i64        ┆ f64          ┆ f64          ┆ f64             ┆ i32 │\n",
       "╞════════════╪══════════════╪══════════════╪═════════════════╪═════╡\n",
       "│ 21586      ┆ 61913.030043 ┆ NaN          ┆ NaN             ┆ 30  │\n",
       "│ 21587      ┆ 61915.384561 ┆ NaN          ┆ NaN             ┆ 30  │\n",
       "│ 21588      ┆ 61915.421934 ┆ NaN          ┆ NaN             ┆ 30  │\n",
       "│ 21589      ┆ 61917.81791  ┆ NaN          ┆ NaN             ┆ 30  │\n",
       "│ 21590      ┆ 61919.845349 ┆ NaN          ┆ NaN             ┆ 30  │\n",
       "└────────────┴──────────────┴──────────────┴─────────────────┴─────┘"
      ]
     },
     "execution_count": 23,
     "metadata": {},
     "output_type": "execute_result"
    }
   ],
   "source": [
    "param = Defaults()\n",
    "param.patient_inter = 2\n",
    "trial = Trial(param)\n",
    "trial.run_trial()\n",
    "trial.patient_results_df.tail()"
   ]
  },
  {
   "cell_type": "markdown",
   "metadata": {},
   "source": [
    "## Example run with logs\n",
    "\n",
    "The `SimLogger` class is used to log events during the simulation. These can be print to the console (`log_to_console`) or saved to a file (`log_to_file`).\n",
    "\n",
    "This will output lots of information to the screen - currently set to give information on each patient as they arrive and then see the nurse. Therefore, it is only best used when running the simulation for a short time with few patients.\n",
    "\n",
    "The logs in `model.py` can be altered to print your desired information during the simulation run, which can be helpful during development."
   ]
  },
  {
   "cell_type": "code",
   "execution_count": 24,
   "metadata": {},
   "outputs": [
    {
     "name": "stdout",
     "output_type": "stream",
     "text": [
      "2025-01-23 13:46:24,431 - INFO - logging.py:log():128 - Initialised model: {'param': <simulation.model.Defaults object at 0x77de0a279b20>, 'run_number': 0, 'env': <simpy.core.Environment object at 0x77de28160050>, 'nurse': <simpy.resources.resource.Resource object at 0x77de0a9f3b60>, 'patients': [], 'nurse_time_used': 0, 'nurse_consult_count': 0, 'running_mean_nurse_wait': 0, 'audit_list': [], 'results_list': [], 'patient_inter_arrival_dist': <simulation.model.Exponential object at 0x77de0a9f3cb0>, 'nurse_consult_time_dist': <simulation.model.Exponential object at 0x77de0a36f110>}\n",
      "2025-01-23 13:46:24,433 - INFO - logging.py:log():128 - Parameters: {'_initialising': False, 'patient_inter': 4, 'mean_n_consult_time': 10, 'number_of_nurses': 5, 'warm_up_period': 50, 'data_collection_period': 100, 'number_of_runs': 1, 'audit_interval': 120, 'scenario_name': 0, 'cores': 0, 'logger': <simulation.logging.SimLogger object at 0x77de0a3c50f0>}\n",
      "2025-01-23 13:46:24,433 - INFO - logging.py:log():128 - Patient X (warm-up) arrives at: 0.000\n",
      "2025-01-23 13:46:24,434 - INFO - logging.py:log():128 - Patient X (warm-up) is seen by nurse after 0.000 minutes. Consultation length: 8.031 minutes.\n",
      "2025-01-23 13:46:24,434 - INFO - logging.py:log():128 - Patient X (warm-up) arrives at: 13.174\n",
      "2025-01-23 13:46:24,434 - INFO - logging.py:log():128 - Patient X (warm-up) is seen by nurse after 13.174 minutes. Consultation length: 3.820 minutes.\n",
      "2025-01-23 13:46:24,434 - INFO - logging.py:log():128 - Patient X (warm-up) arrives at: 16.227\n",
      "2025-01-23 13:46:24,435 - INFO - logging.py:log():128 - Patient X (warm-up) is seen by nurse after 16.227 minutes. Consultation length: 3.642 minutes.\n",
      "2025-01-23 13:46:24,435 - INFO - logging.py:log():128 - Patient X (warm-up) arrives at: 21.236\n",
      "2025-01-23 13:46:24,435 - INFO - logging.py:log():128 - Patient X (warm-up) is seen by nurse after 21.236 minutes. Consultation length: 5.295 minutes.\n",
      "2025-01-23 13:46:24,435 - INFO - logging.py:log():128 - Patient X (warm-up) arrives at: 22.140\n",
      "2025-01-23 13:46:24,436 - INFO - logging.py:log():128 - Patient X (warm-up) is seen by nurse after 22.140 minutes. Consultation length: 27.884 minutes.\n",
      "2025-01-23 13:46:24,436 - INFO - logging.py:log():128 - Patient X (warm-up) arrives at: 23.023\n",
      "2025-01-23 13:46:24,436 - INFO - logging.py:log():128 - Patient X (warm-up) is seen by nurse after 23.023 minutes. Consultation length: 19.610 minutes.\n",
      "2025-01-23 13:46:24,436 - INFO - logging.py:log():128 - Patient X (warm-up) arrives at: 30.223\n",
      "2025-01-23 13:46:24,437 - INFO - logging.py:log():128 - Patient X (warm-up) is seen by nurse after 30.223 minutes. Consultation length: 9.490 minutes.\n",
      "2025-01-23 13:46:24,437 - INFO - logging.py:log():128 - Patient X (warm-up) arrives at: 30.487\n",
      "2025-01-23 13:46:24,437 - INFO - logging.py:log():128 - Patient X (warm-up) is seen by nurse after 30.487 minutes. Consultation length: 41.665 minutes.\n",
      "2025-01-23 13:46:24,437 - INFO - logging.py:log():128 - Patient X (warm-up) arrives at: 34.089\n",
      "2025-01-23 13:46:24,437 - INFO - logging.py:log():128 - Patient X (warm-up) is seen by nurse after 34.089 minutes. Consultation length: 5.874 minutes.\n",
      "2025-01-23 13:46:24,437 - INFO - logging.py:log():128 - Patient X (warm-up) arrives at: 35.270\n",
      "2025-01-23 13:46:24,438 - INFO - logging.py:log():128 - Patient X (warm-up) is seen by nurse after 35.270 minutes. Consultation length: 27.882 minutes.\n",
      "2025-01-23 13:46:24,438 - INFO - logging.py:log():128 - Patient X (warm-up) arrives at: 44.470\n",
      "2025-01-23 13:46:24,438 - INFO - logging.py:log():128 - Patient X (warm-up) is seen by nurse after 44.470 minutes. Consultation length: 24.915 minutes.\n",
      "2025-01-23 13:46:24,438 - INFO - logging.py:log():128 - Patient 1 arrives at: 51.904\n",
      "2025-01-23 13:46:24,439 - INFO - logging.py:log():128 - Patient 1 is seen by nurse after 51.904 minutes. Consultation length: 18.079 minutes.\n",
      "2025-01-23 13:46:24,439 - INFO - logging.py:log():128 - Patient 2 arrives at: 51.963\n",
      "2025-01-23 13:46:24,439 - INFO - logging.py:log():128 - Patient 2 is seen by nurse after 51.963 minutes. Consultation length: 3.102 minutes.\n",
      "2025-01-23 13:46:24,439 - INFO - logging.py:log():128 - Patient 3 arrives at: 74.349\n",
      "2025-01-23 13:46:24,439 - INFO - logging.py:log():128 - Patient 3 is seen by nurse after 74.349 minutes. Consultation length: 26.745 minutes.\n",
      "2025-01-23 13:46:24,439 - INFO - logging.py:log():128 - Patient 4 arrives at: 77.534\n",
      "2025-01-23 13:46:24,440 - INFO - logging.py:log():128 - Patient 4 is seen by nurse after 77.534 minutes. Consultation length: 0.748 minutes.\n",
      "2025-01-23 13:46:24,440 - INFO - logging.py:log():128 - Patient 5 arrives at: 78.932\n",
      "2025-01-23 13:46:24,440 - INFO - logging.py:log():128 - Patient 5 is seen by nurse after 78.932 minutes. Consultation length: 0.528 minutes.\n",
      "2025-01-23 13:46:24,440 - INFO - logging.py:log():128 - Patient 6 arrives at: 86.815\n",
      "2025-01-23 13:46:24,441 - INFO - logging.py:log():128 - Patient 6 is seen by nurse after 86.815 minutes. Consultation length: 2.435 minutes.\n",
      "2025-01-23 13:46:24,441 - INFO - logging.py:log():128 - Patient 7 arrives at: 89.783\n",
      "2025-01-23 13:46:24,441 - INFO - logging.py:log():128 - Patient 7 is seen by nurse after 89.783 minutes. Consultation length: 9.666 minutes.\n",
      "2025-01-23 13:46:24,441 - INFO - logging.py:log():128 - Patient 8 arrives at: 89.807\n",
      "2025-01-23 13:46:24,442 - INFO - logging.py:log():128 - Patient 8 is seen by nurse after 89.807 minutes. Consultation length: 7.005 minutes.\n",
      "2025-01-23 13:46:24,442 - INFO - logging.py:log():128 - Patient 9 arrives at: 93.118\n",
      "2025-01-23 13:46:24,442 - INFO - logging.py:log():128 - Patient 9 is seen by nurse after 93.118 minutes. Consultation length: 20.185 minutes.\n",
      "2025-01-23 13:46:24,442 - INFO - logging.py:log():128 - Patient 10 arrives at: 95.598\n",
      "2025-01-23 13:46:24,443 - INFO - logging.py:log():128 - Patient 10 is seen by nurse after 95.598 minutes. Consultation length: 7.651 minutes.\n",
      "2025-01-23 13:46:24,443 - INFO - logging.py:log():128 - Patient 11 arrives at: 98.019\n",
      "2025-01-23 13:46:24,443 - INFO - logging.py:log():128 - Patient 11 is seen by nurse after 98.019 minutes. Consultation length: 27.908 minutes.\n",
      "2025-01-23 13:46:24,443 - INFO - logging.py:log():128 - Patient 12 arrives at: 109.379\n",
      "2025-01-23 13:46:24,443 - INFO - logging.py:log():128 - Patient 12 is seen by nurse after 109.379 minutes. Consultation length: 16.811 minutes.\n",
      "2025-01-23 13:46:24,444 - INFO - logging.py:log():128 - Patient 13 arrives at: 110.322\n",
      "2025-01-23 13:46:24,444 - INFO - logging.py:log():128 - Patient 13 is seen by nurse after 110.322 minutes. Consultation length: 24.157 minutes.\n",
      "2025-01-23 13:46:24,444 - INFO - logging.py:log():128 - Patient 14 arrives at: 120.342\n",
      "2025-01-23 13:46:24,444 - INFO - logging.py:log():128 - Patient 14 is seen by nurse after 120.342 minutes. Consultation length: 1.451 minutes.\n",
      "2025-01-23 13:46:24,445 - INFO - logging.py:log():128 - Patient 15 arrives at: 121.643\n",
      "2025-01-23 13:46:24,445 - INFO - logging.py:log():128 - Patient 15 is seen by nurse after 121.643 minutes. Consultation length: 1.343 minutes.\n",
      "2025-01-23 13:46:24,445 - INFO - logging.py:log():128 - Patient 16 arrives at: 127.827\n",
      "2025-01-23 13:46:24,445 - INFO - logging.py:log():128 - Patient 16 is seen by nurse after 127.827 minutes. Consultation length: 1.554 minutes.\n",
      "2025-01-23 13:46:24,445 - INFO - logging.py:log():128 - Patient 17 arrives at: 132.055\n",
      "2025-01-23 13:46:24,445 - INFO - logging.py:log():128 - Patient 17 is seen by nurse after 132.055 minutes. Consultation length: 15.623 minutes.\n",
      "2025-01-23 13:46:24,446 - INFO - logging.py:log():128 - Patient 18 arrives at: 133.617\n",
      "2025-01-23 13:46:24,446 - INFO - logging.py:log():128 - Patient 18 is seen by nurse after 133.617 minutes. Consultation length: 4.688 minutes.\n",
      "2025-01-23 13:46:24,446 - INFO - logging.py:log():128 - Patient 19 arrives at: 136.346\n",
      "2025-01-23 13:46:24,446 - INFO - logging.py:log():128 - Patient 19 is seen by nurse after 136.346 minutes. Consultation length: 2.612 minutes.\n",
      "2025-01-23 13:46:24,446 - INFO - logging.py:log():128 - Patient 20 arrives at: 144.142\n",
      "2025-01-23 13:46:24,447 - INFO - logging.py:log():128 - Patient 20 is seen by nurse after 144.142 minutes. Consultation length: 6.348 minutes.\n"
     ]
    }
   ],
   "source": [
    "# Mini run of simulation with logger enabled\n",
    "param = Defaults()\n",
    "param.warm_up_period = 50\n",
    "param.data_collection_period = 100\n",
    "param.number_of_runs = 1\n",
    "param.cores = 0\n",
    "param.logger = SimLogger(log_to_console=True, log_to_file=False)\n",
    "\n",
    "model = Model(param, run_number=0)\n",
    "model.run()"
   ]
  },
  {
   "cell_type": "markdown",
   "metadata": {},
   "source": [
    "This will align with the recorded results of each patient (though we only save those that arrive after the warm-up period)."
   ]
  },
  {
   "cell_type": "code",
   "execution_count": 25,
   "metadata": {},
   "outputs": [
    {
     "data": {
      "text/plain": [
       "[{'patient_id': 1,\n",
       "  'arrival_time': 51.90400587259546,\n",
       "  'q_time_nurse': 0.0,\n",
       "  'time_with_nurse': 18.07891954142075},\n",
       " {'patient_id': 2,\n",
       "  'arrival_time': 51.963434706622714,\n",
       "  'q_time_nurse': 0.0,\n",
       "  'time_with_nurse': 3.1020092355006064},\n",
       " {'patient_id': 3,\n",
       "  'arrival_time': 74.3494580155259,\n",
       "  'q_time_nurse': 0.0,\n",
       "  'time_with_nurse': 26.744513862017026},\n",
       " {'patient_id': 4,\n",
       "  'arrival_time': 77.53382703300574,\n",
       "  'q_time_nurse': 0.0,\n",
       "  'time_with_nurse': 0.7481033661053572},\n",
       " {'patient_id': 5,\n",
       "  'arrival_time': 78.93233230430721,\n",
       "  'q_time_nurse': 0.0,\n",
       "  'time_with_nurse': 0.5277574384602378},\n",
       " {'patient_id': 6,\n",
       "  'arrival_time': 86.81473043550623,\n",
       "  'q_time_nurse': 0.0,\n",
       "  'time_with_nurse': 2.4349563515001904},\n",
       " {'patient_id': 7,\n",
       "  'arrival_time': 89.78326290873765,\n",
       "  'q_time_nurse': 0.0,\n",
       "  'time_with_nurse': 9.665598479334754},\n",
       " {'patient_id': 8,\n",
       "  'arrival_time': 89.80720556833339,\n",
       "  'q_time_nurse': 0.0,\n",
       "  'time_with_nurse': 7.004542644523265},\n",
       " {'patient_id': 9,\n",
       "  'arrival_time': 93.11795080803735,\n",
       "  'q_time_nurse': 0.0,\n",
       "  'time_with_nurse': 20.185457901243318},\n",
       " {'patient_id': 10,\n",
       "  'arrival_time': 95.5976129513721,\n",
       "  'q_time_nurse': 0.0,\n",
       "  'time_with_nurse': 7.651056296080149},\n",
       " {'patient_id': 11,\n",
       "  'arrival_time': 98.01876244811595,\n",
       "  'q_time_nurse': 0.0,\n",
       "  'time_with_nurse': 27.908241618400943},\n",
       " {'patient_id': 12,\n",
       "  'arrival_time': 109.3788794635365,\n",
       "  'q_time_nurse': 0.0,\n",
       "  'time_with_nurse': 16.81120548341985},\n",
       " {'patient_id': 13,\n",
       "  'arrival_time': 110.32175512279903,\n",
       "  'q_time_nurse': 0.0,\n",
       "  'time_with_nurse': 24.156692772991306},\n",
       " {'patient_id': 14,\n",
       "  'arrival_time': 120.3416606997885,\n",
       "  'q_time_nurse': 0.0,\n",
       "  'time_with_nurse': 1.4511207498950371},\n",
       " {'patient_id': 15,\n",
       "  'arrival_time': 121.64300082175524,\n",
       "  'q_time_nurse': 0.0,\n",
       "  'time_with_nurse': 1.3431449546382932},\n",
       " {'patient_id': 16,\n",
       "  'arrival_time': 127.826666746174,\n",
       "  'q_time_nurse': 0.0,\n",
       "  'time_with_nurse': 1.553948790248819},\n",
       " {'patient_id': 17,\n",
       "  'arrival_time': 132.0550651782585,\n",
       "  'q_time_nurse': 0.0,\n",
       "  'time_with_nurse': 15.623013920647606},\n",
       " {'patient_id': 18,\n",
       "  'arrival_time': 133.6173285469348,\n",
       "  'q_time_nurse': 0.0,\n",
       "  'time_with_nurse': 4.687792366565003},\n",
       " {'patient_id': 19,\n",
       "  'arrival_time': 136.3456071646416,\n",
       "  'q_time_nurse': 0.0,\n",
       "  'time_with_nurse': 2.6115609358702656},\n",
       " {'patient_id': 20,\n",
       "  'arrival_time': 144.14241169590065,\n",
       "  'q_time_nurse': 0.0,\n",
       "  'time_with_nurse': 6.348067933102151}]"
      ]
     },
     "execution_count": 25,
     "metadata": {},
     "output_type": "execute_result"
    }
   ],
   "source": [
    "# Compare to patient-level results\n",
    "model.results_list"
   ]
  },
  {
   "cell_type": "markdown",
   "metadata": {},
   "source": [
    "## Run time"
   ]
  },
  {
   "cell_type": "code",
   "execution_count": 26,
   "metadata": {},
   "outputs": [
    {
     "name": "stdout",
     "output_type": "stream",
     "text": [
      "Notebook run time: 0m 22s\n"
     ]
    }
   ],
   "source": [
    "# Get run time in seconds\n",
    "end_time = time.time()\n",
    "runtime = round(end_time - start_time)\n",
    "\n",
    "# Display converted to minutes and seconds\n",
    "print(f'Notebook run time: {runtime // 60}m {runtime % 60}s')"
   ]
  }
 ],
 "metadata": {
  "kernelspec": {
   "display_name": "template-des",
   "language": "python",
   "name": "python3"
  },
  "language_info": {
   "codemirror_mode": {
    "name": "ipython",
    "version": 3
   },
   "file_extension": ".py",
   "mimetype": "text/x-python",
   "name": "python",
   "nbconvert_exporter": "python",
   "pygments_lexer": "ipython3",
   "version": "3.13.0"
  }
 },
 "nbformat": 4,
 "nbformat_minor": 2
}
