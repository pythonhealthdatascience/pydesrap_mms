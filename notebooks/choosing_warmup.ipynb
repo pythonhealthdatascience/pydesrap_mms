{
 "cells": [
  {
   "cell_type": "markdown",
   "metadata": {},
   "source": [
    "# Choosing warm-up length\n",
    "\n",
    "A suitable length for the warm-up period can be determined using the **time series inspection approach**. This involves looking at performance measures over time to identify when the system is exhibiting **steady state behaviour** (even though the system will never truly reach a \"steady state\").\n",
    "\n",
    "If we simply plot the mean result at regular intervals, this would vary too much. Therefore, we plot the **cumulative mean** of the performance measure, and look for the point at which this **smoothes out and stabilises**. This indicates the point for the warm-up period to end.\n",
    "\n",
    "This should be assessed when running the model using the base case parameters. If these change, you should reassess the appropriate warm-up period.\n",
    "\n",
    "The run time is provided at the end of the notebook.\n",
    "\n",
    "Credit:\n",
    "\n",
    "* Code for choice of warm-up period was adapted from Tom Monks (2024) [HPDM097 - Making a difference with health data](https://github.com/health-data-science-OR/stochastic_systems) (MIT Licence)."
   ]
  },
  {
   "cell_type": "markdown",
   "metadata": {},
   "source": [
    "## Set-up\n",
    "\n",
    "Load required packages."
   ]
  },
  {
   "cell_type": "code",
   "execution_count": 1,
   "metadata": {},
   "outputs": [],
   "source": [
    "# pylint: disable=missing-module-docstring\n",
    "# To ensure any updates to `simulation/` are fetched without needing to restart\n",
    "# the notebook environment, reload `simulation/` before execution of each cell\n",
    "%load_ext autoreload\n",
    "%autoreload 1\n",
    "%aimport simulation"
   ]
  },
  {
   "cell_type": "code",
   "execution_count": 2,
   "metadata": {},
   "outputs": [],
   "source": [
    "# pylint: disable=wrong-import-position\n",
    "import os\n",
    "import time\n",
    "\n",
    "import plotly.io as pio\n",
    "import plotly.graph_objects as go\n",
    "import plotly.subplots as sp\n",
    "\n",
    "from simulation.model import Param, Runner"
   ]
  },
  {
   "cell_type": "markdown",
   "metadata": {},
   "source": [
    "Display plotly express figures as non-interactive figures. This means they will be visible when browsing the notebooks on GitHub. To switch these back to interactive figures, simply remove this line."
   ]
  },
  {
   "cell_type": "code",
   "execution_count": 3,
   "metadata": {},
   "outputs": [],
   "source": [
    "pio.renderers.default = 'svg'"
   ]
  },
  {
   "cell_type": "markdown",
   "metadata": {},
   "source": [
    "Start timer."
   ]
  },
  {
   "cell_type": "code",
   "execution_count": 4,
   "metadata": {},
   "outputs": [],
   "source": [
    "notebook_start_time = time.time()"
   ]
  },
  {
   "cell_type": "markdown",
   "metadata": {},
   "source": [
    "Define path to outputs folder"
   ]
  },
  {
   "cell_type": "code",
   "execution_count": 5,
   "metadata": {},
   "outputs": [],
   "source": [
    "# pylint: disable=duplicate-code\n",
    "OUTPUT_DIR = '../outputs/'"
   ]
  },
  {
   "cell_type": "markdown",
   "metadata": {},
   "source": [
    "Define labels for variables in the dataset."
   ]
  },
  {
   "cell_type": "code",
   "execution_count": 6,
   "metadata": {},
   "outputs": [],
   "source": [
    "LABELS = {\n",
    "    'arrivals': 'Patient arrivals (n)',\n",
    "    'mean_q_time_nurse': 'Mean wait time for nurse (minutes)',\n",
    "    'mean_n_consult_time': 'Mean consultation time with nurse (minutes)',\n",
    "    'mean_time_with_nurse': 'Mean consultation time with nurse (minutes)',\n",
    "    'mean_nurse_utilisation': 'Mean nurse utilisation',\n",
    "    'adj_mean_nurse_utilisation': 'Mean nurse utilisation (*100 - %)',\n",
    "    'adj_mean_q_time_nurse': 'Mean wait time for nurse (*100) (minutes)',\n",
    "    'mean_nurse_utilisation_tw': 'Time-weighted mean nurse utilisation',\n",
    "    'mean_nurse_q_length': 'Time-weighted mean queue length for nurse (n)',\n",
    "    'patient_inter': 'Patient inter-arrival time',\n",
    "    'number_of_nurses': 'Number of nurses',\n",
    "    'utilisation': 'Utilisation',\n",
    "    'running_mean_wait_time': 'Running mean nurse wait time (minutes)'\n",
    "}"
   ]
  },
  {
   "cell_type": "markdown",
   "metadata": {},
   "source": [
    "## Determining appropriate warm-up length"
   ]
  },
  {
   "cell_type": "code",
   "execution_count": 7,
   "metadata": {},
   "outputs": [],
   "source": [
    "def time_series_inspection(\n",
    "    file, data_collection_period, warm_up=None, path=OUTPUT_DIR, labels=None\n",
    "):\n",
    "    \"\"\"\n",
    "    Time series inspection method for determining length of warm-up.\n",
    "\n",
    "    Arguments:\n",
    "        file (str):\n",
    "            Filename to save figure to.\n",
    "        data_collection_period (float):\n",
    "            Length of time to run the simulation for.\n",
    "        warm_up (float, optional):\n",
    "            Location on X axis to plot vertical red line indicating the chosen\n",
    "            warm-up period. Defaults to None, which will not plot a line.\n",
    "        path (str):\n",
    "            Path to save file to (exc. filename)\n",
    "        labels (dict):\n",
    "            Contains mappings from variable names to full labels. If none\n",
    "            provided, will default to using variable names.\n",
    "    \"\"\"\n",
    "    # Use default parameters, but with no warm-up and specified run length,\n",
    "    # and with no replications\n",
    "    param = Param(warm_up_period=0,\n",
    "                  data_collection_period=data_collection_period,\n",
    "                  number_of_runs=1)\n",
    "    # display(param.__dict__)\n",
    "\n",
    "    # Run model\n",
    "    choose_warmup = Runner(param)\n",
    "    choose_warmup.run_reps()\n",
    "\n",
    "    # Filter to nurse results\n",
    "    nurse = choose_warmup.interval_audit_df[\n",
    "        choose_warmup.interval_audit_df['resource_name'] == 'nurse']\n",
    "\n",
    "    # Define columns to analyse\n",
    "    plot = ['utilisation', 'running_mean_wait_time']\n",
    "\n",
    "    # Create 1x2 subplot\n",
    "    full_figure = sp.make_subplots(rows=2, cols=1, shared_xaxes=True)\n",
    "\n",
    "    counter = 1\n",
    "    for var in plot:\n",
    "        # Reformat so index is simulation time and columns are each run\n",
    "        reformat = (\n",
    "            nurse[['simulation_time', var, 'run']]\n",
    "            .pivot(index='simulation_time',\n",
    "                   columns='run',\n",
    "                   values=var))\n",
    "\n",
    "        # For utilisation, calculate cumulative mean (not necessary\n",
    "        # for wait time as that is already a running mean)\n",
    "        if var == 'utilisation':\n",
    "            cumulative = reformat.expanding().mean()\n",
    "        elif var == 'running_mean_wait_time':\n",
    "            cumulative = reformat.copy()\n",
    "        else:\n",
    "            print('Expected var to be utilisation or running_mean_wait_time.')\n",
    "            break\n",
    "\n",
    "        # Create plot (using go.Scatter instead of px.express, for sub-plots)\n",
    "        full_figure.add_trace(\n",
    "            go.Scatter(\n",
    "                x=cumulative.index,\n",
    "                y=cumulative[0],\n",
    "                mode='lines',\n",
    "                line={'color': 'royalblue'}\n",
    "            ),\n",
    "            row=counter, col=1\n",
    "        )\n",
    "\n",
    "        # Add y axis label\n",
    "        full_figure.update_yaxes(title_text=labels.get(var, var),\n",
    "                                 row=counter, col=1)\n",
    "\n",
    "        # Add vertical line for warm-up period specified\n",
    "        if warm_up is not None:\n",
    "            full_figure.add_vline(\n",
    "                x=warm_up, line_color='red', line_dash='dash',\n",
    "                annotation_text='Suggested warm-up length',\n",
    "                annotation_position='top left',\n",
    "                annotation_font_color='red')\n",
    "        counter += 1\n",
    "\n",
    "    # Add x axis title\n",
    "    full_figure.update_xaxes(title_text='Run time (minutes)')\n",
    "\n",
    "    # Set figure dimensions and hide legend\n",
    "    full_figure.update_layout(\n",
    "        width=1400,\n",
    "        height=800,\n",
    "        showlegend=False,\n",
    "        template='plotly_white'\n",
    "    )\n",
    "\n",
    "    # Show figure\n",
    "    full_figure.show()\n",
    "\n",
    "    # Save figure\n",
    "    full_figure.write_image(os.path.join(path, file))"
   ]
  },
  {
   "cell_type": "markdown",
   "metadata": {},
   "source": [
    "Having run the model for three days, it appears to reach a steady state at around 2500 minutes."
   ]
  },
  {
   "cell_type": "code",
   "execution_count": 8,
   "metadata": {},
   "outputs": [
    {
     "data": {
      "image/svg+xml": [
       "<svg class=\"main-svg\" xmlns=\"http://www.w3.org/2000/svg\" xmlns:xlink=\"http://www.w3.org/1999/xlink\" width=\"1400\" height=\"800\" style=\"\" viewBox=\"0 0 1400 800\"><rect x=\"0\" y=\"0\" width=\"1400\" height=\"800\" style=\"fill: rgb(255, 255, 255); fill-opacity: 1;\"/><defs id=\"defs-5dd604\"><g class=\"clips\"><clipPath id=\"clip5dd604xyplot\" class=\"plotclip\"><rect width=\"1240\" height=\"263.5\"/></clipPath><clipPath id=\"clip5dd604x2y2plot\" class=\"plotclip\"><rect width=\"1240\" height=\"263.5\"/></clipPath><clipPath class=\"axesclip\" id=\"clip5dd604x\"><rect x=\"80\" y=\"0\" width=\"1240\" height=\"800\"/></clipPath><clipPath class=\"axesclip\" id=\"clip5dd604y\"><rect x=\"0\" y=\"100\" width=\"1400\" height=\"263.5\"/></clipPath><clipPath class=\"axesclip\" id=\"clip5dd604xy\"><rect x=\"80\" y=\"100\" width=\"1240\" height=\"263.5\"/></clipPath><clipPath class=\"axesclip\" id=\"clip5dd604y2\"><rect x=\"0\" y=\"456.5\" width=\"1400\" height=\"263.5\"/></clipPath><clipPath class=\"axesclip\" id=\"clip5dd604xy2\"><rect x=\"80\" y=\"456.5\" width=\"1240\" height=\"263.5\"/></clipPath><clipPath class=\"axesclip\" id=\"clip5dd604x2\"><rect x=\"80\" y=\"0\" width=\"1240\" height=\"800\"/></clipPath><clipPath class=\"axesclip\" id=\"clip5dd604x2y\"><rect x=\"80\" y=\"100\" width=\"1240\" height=\"263.5\"/></clipPath><clipPath class=\"axesclip\" id=\"clip5dd604x2y2\"><rect x=\"80\" y=\"456.5\" width=\"1240\" height=\"263.5\"/></clipPath></g><g class=\"gradients\"/><g class=\"patterns\"/></defs><g class=\"bglayer\"/><g class=\"layer-below\"><g class=\"imagelayer\"/><g class=\"shapelayer\"/></g><g class=\"cartesianlayer\"><g class=\"subplot xy\"><g class=\"layer-subplot\"><g class=\"shapelayer\"/><g class=\"imagelayer\"/></g><g class=\"minor-gridlayer\"><g class=\"x\"/><g class=\"y\"/></g><g class=\"gridlayer\"><g class=\"x\"><path class=\"xgrid crisp\" transform=\"translate(227.62,0)\" d=\"M0,100v263.5\" style=\"stroke: rgb(235, 240, 248); stroke-opacity: 1; stroke-width: 1px;\"/><path class=\"xgrid crisp\" transform=\"translate(375.24,0)\" d=\"M0,100v263.5\" style=\"stroke: rgb(235, 240, 248); stroke-opacity: 1; stroke-width: 1px;\"/><path class=\"xgrid crisp\" transform=\"translate(522.86,0)\" d=\"M0,100v263.5\" style=\"stroke: rgb(235, 240, 248); stroke-opacity: 1; stroke-width: 1px;\"/><path class=\"xgrid crisp\" transform=\"translate(670.48,0)\" d=\"M0,100v263.5\" style=\"stroke: rgb(235, 240, 248); stroke-opacity: 1; stroke-width: 1px;\"/><path class=\"xgrid crisp\" transform=\"translate(818.1,0)\" d=\"M0,100v263.5\" style=\"stroke: rgb(235, 240, 248); stroke-opacity: 1; stroke-width: 1px;\"/><path class=\"xgrid crisp\" transform=\"translate(965.71,0)\" d=\"M0,100v263.5\" style=\"stroke: rgb(235, 240, 248); stroke-opacity: 1; stroke-width: 1px;\"/><path class=\"xgrid crisp\" transform=\"translate(1113.33,0)\" d=\"M0,100v263.5\" style=\"stroke: rgb(235, 240, 248); stroke-opacity: 1; stroke-width: 1px;\"/><path class=\"xgrid crisp\" transform=\"translate(1260.95,0)\" d=\"M0,100v263.5\" style=\"stroke: rgb(235, 240, 248); stroke-opacity: 1; stroke-width: 1px;\"/></g><g class=\"y\"><path class=\"ygrid crisp\" transform=\"translate(0,297.34000000000003)\" d=\"M80,0h1240\" style=\"stroke: rgb(235, 240, 248); stroke-opacity: 1; stroke-width: 1px;\"/><path class=\"ygrid crisp\" transform=\"translate(0,244.36)\" d=\"M80,0h1240\" style=\"stroke: rgb(235, 240, 248); stroke-opacity: 1; stroke-width: 1px;\"/><path class=\"ygrid crisp\" transform=\"translate(0,191.38)\" d=\"M80,0h1240\" style=\"stroke: rgb(235, 240, 248); stroke-opacity: 1; stroke-width: 1px;\"/><path class=\"ygrid crisp\" transform=\"translate(0,138.4)\" d=\"M80,0h1240\" style=\"stroke: rgb(235, 240, 248); stroke-opacity: 1; stroke-width: 1px;\"/></g></g><g class=\"zerolinelayer\"><path class=\"xzl zl crisp\" transform=\"translate(80,0)\" d=\"M0,100v263.5\" style=\"stroke: rgb(235, 240, 248); stroke-opacity: 1; stroke-width: 2px;\"/><path class=\"yzl zl crisp\" transform=\"translate(0,350.33000000000004)\" d=\"M80,0h1240\" style=\"stroke: rgb(235, 240, 248); stroke-opacity: 1; stroke-width: 2px;\"/></g><g class=\"layer-between\"><g class=\"shapelayer\"/><g class=\"imagelayer\"/></g><path class=\"xlines-below\"/><path class=\"ylines-below\"/><g class=\"overlines-below\"/><g class=\"xaxislayer-below\"/><g class=\"yaxislayer-below\"/><g class=\"overaxes-below\"/><g class=\"overplot\"><g class=\"xy\" transform=\"translate(80,100)\" clip-path=\"url(#clip5dd604xyplot)\"><g class=\"scatterlayer mlayer\"><g class=\"trace scatter trace3698e6\" style=\"stroke-miterlimit: 2; opacity: 1;\"><g class=\"fills\"/><g class=\"errorbars\"/><g class=\"lines\"><path class=\"js-line\" d=\"M0,250.33L70.86,38.4L106.29,64.89L141.71,80.79L177.14,109.04L212.57,98.95L248,91.38L283.43,85.5L318.86,70.19L354.29,76.93L389.71,82.55L425.14,62.86L460.57,61.11L496,59.6L531.43,38.4L566.86,38.4L602.29,44.29L637.71,32.83L673.14,22.51L708.57,13.17L744,14.32L779.43,24.58L814.86,29.57L885.71,30.25L921.14,26.63L992,27.44L1027.43,20.74L1062.86,21.31L1098.29,25.16L1133.71,22.35L1169.14,22.82L1204.57,20.24L1240,20.74\" style=\"vector-effect: none; fill: none; stroke: rgb(65, 105, 225); stroke-opacity: 1; stroke-width: 2px; opacity: 1;\"/></g><g class=\"points\"/><g class=\"text\"/></g></g></g></g><path class=\"xlines-above crisp\" d=\"M0,0\" style=\"fill: none;\"/><path class=\"ylines-above crisp\" d=\"M0,0\" style=\"fill: none;\"/><g class=\"overlines-above\"/><g class=\"xaxislayer-above\"/><g class=\"yaxislayer-above\"><g class=\"ytick\"><text text-anchor=\"end\" x=\"79\" y=\"4.199999999999999\" transform=\"translate(0,350.33000000000004)\" style=\"font-family: 'Open Sans', verdana, arial, sans-serif; font-size: 12px; fill: rgb(42, 63, 95); fill-opacity: 1; white-space: pre; opacity: 1;\">0</text></g><g class=\"ytick\"><text text-anchor=\"end\" x=\"79\" y=\"4.199999999999999\" style=\"font-family: 'Open Sans', verdana, arial, sans-serif; font-size: 12px; fill: rgb(42, 63, 95); fill-opacity: 1; white-space: pre; opacity: 1;\" transform=\"translate(0,297.34000000000003)\">0.1</text></g><g class=\"ytick\"><text text-anchor=\"end\" x=\"79\" y=\"4.199999999999999\" style=\"font-family: 'Open Sans', verdana, arial, sans-serif; font-size: 12px; fill: rgb(42, 63, 95); fill-opacity: 1; white-space: pre; opacity: 1;\" transform=\"translate(0,244.36)\">0.2</text></g><g class=\"ytick\"><text text-anchor=\"end\" x=\"79\" y=\"4.199999999999999\" style=\"font-family: 'Open Sans', verdana, arial, sans-serif; font-size: 12px; fill: rgb(42, 63, 95); fill-opacity: 1; white-space: pre; opacity: 1;\" transform=\"translate(0,191.38)\">0.3</text></g><g class=\"ytick\"><text text-anchor=\"end\" x=\"79\" y=\"4.199999999999999\" style=\"font-family: 'Open Sans', verdana, arial, sans-serif; font-size: 12px; fill: rgb(42, 63, 95); fill-opacity: 1; white-space: pre; opacity: 1;\" transform=\"translate(0,138.4)\">0.4</text></g></g><g class=\"overaxes-above\"/></g><g class=\"subplot x2y2\"><g class=\"layer-subplot\"><g class=\"shapelayer\"/><g class=\"imagelayer\"/></g><g class=\"minor-gridlayer\"><g class=\"x2\"/><g class=\"y2\"/></g><g class=\"gridlayer\"><g class=\"x2\"><path class=\"x2grid crisp\" transform=\"translate(227.62,0)\" d=\"M0,456.5v263.5\" style=\"stroke: rgb(235, 240, 248); stroke-opacity: 1; stroke-width: 1px;\"/><path class=\"x2grid crisp\" transform=\"translate(375.24,0)\" d=\"M0,456.5v263.5\" style=\"stroke: rgb(235, 240, 248); stroke-opacity: 1; stroke-width: 1px;\"/><path class=\"x2grid crisp\" transform=\"translate(522.86,0)\" d=\"M0,456.5v263.5\" style=\"stroke: rgb(235, 240, 248); stroke-opacity: 1; stroke-width: 1px;\"/><path class=\"x2grid crisp\" transform=\"translate(670.48,0)\" d=\"M0,456.5v263.5\" style=\"stroke: rgb(235, 240, 248); stroke-opacity: 1; stroke-width: 1px;\"/><path class=\"x2grid crisp\" transform=\"translate(818.1,0)\" d=\"M0,456.5v263.5\" style=\"stroke: rgb(235, 240, 248); stroke-opacity: 1; stroke-width: 1px;\"/><path class=\"x2grid crisp\" transform=\"translate(965.71,0)\" d=\"M0,456.5v263.5\" style=\"stroke: rgb(235, 240, 248); stroke-opacity: 1; stroke-width: 1px;\"/><path class=\"x2grid crisp\" transform=\"translate(1113.33,0)\" d=\"M0,456.5v263.5\" style=\"stroke: rgb(235, 240, 248); stroke-opacity: 1; stroke-width: 1px;\"/><path class=\"x2grid crisp\" transform=\"translate(1260.95,0)\" d=\"M0,456.5v263.5\" style=\"stroke: rgb(235, 240, 248); stroke-opacity: 1; stroke-width: 1px;\"/></g><g class=\"y2\"><path class=\"y2grid crisp\" transform=\"translate(0,671.23)\" d=\"M80,0h1240\" style=\"stroke: rgb(235, 240, 248); stroke-opacity: 1; stroke-width: 1px;\"/><path class=\"y2grid crisp\" transform=\"translate(0,635.63)\" d=\"M80,0h1240\" style=\"stroke: rgb(235, 240, 248); stroke-opacity: 1; stroke-width: 1px;\"/><path class=\"y2grid crisp\" transform=\"translate(0,600.04)\" d=\"M80,0h1240\" style=\"stroke: rgb(235, 240, 248); stroke-opacity: 1; stroke-width: 1px;\"/><path class=\"y2grid crisp\" transform=\"translate(0,564.44)\" d=\"M80,0h1240\" style=\"stroke: rgb(235, 240, 248); stroke-opacity: 1; stroke-width: 1px;\"/><path class=\"y2grid crisp\" transform=\"translate(0,528.85)\" d=\"M80,0h1240\" style=\"stroke: rgb(235, 240, 248); stroke-opacity: 1; stroke-width: 1px;\"/><path class=\"y2grid crisp\" transform=\"translate(0,493.25)\" d=\"M80,0h1240\" style=\"stroke: rgb(235, 240, 248); stroke-opacity: 1; stroke-width: 1px;\"/><path class=\"y2grid crisp\" transform=\"translate(0,457.66)\" d=\"M80,0h1240\" style=\"stroke: rgb(235, 240, 248); stroke-opacity: 1; stroke-width: 1px;\"/></g></g><g class=\"zerolinelayer\"><path class=\"x2zl zl crisp\" transform=\"translate(80,0)\" d=\"M0,456.5v263.5\" style=\"stroke: rgb(235, 240, 248); stroke-opacity: 1; stroke-width: 2px;\"/><path class=\"y2zl zl crisp\" transform=\"translate(0,706.83)\" d=\"M80,0h1240\" style=\"stroke: rgb(235, 240, 248); stroke-opacity: 1; stroke-width: 2px;\"/></g><g class=\"layer-between\"><g class=\"shapelayer\"/><g class=\"imagelayer\"/></g><path class=\"xlines-below\"/><path class=\"ylines-below\"/><g class=\"overlines-below\"/><g class=\"xaxislayer-below\"/><g class=\"yaxislayer-below\"/><g class=\"overaxes-below\"/><g class=\"overplot\"><g class=\"x2y2\" transform=\"translate(80,456.5)\" clip-path=\"url(#clip5dd604x2y2plot)\"><g class=\"scatterlayer mlayer\"><g class=\"trace scatter trace628599\" style=\"stroke-miterlimit: 2; opacity: 1;\"><g class=\"fills\"/><g class=\"errorbars\"/><g class=\"lines\"><path class=\"js-line\" d=\"M0,250.33L177.14,250.33L212.57,13.18L248,55.16L283.43,65.79L318.86,67.66L354.29,81.56L389.71,76.6L425.14,85.49L460.57,94.85L496,102.68L531.43,92.68L566.86,89.61L602.29,96.61L637.71,105.32L673.14,112.03L708.57,116.96L744,111.79L779.43,116.75L814.86,123.55L850.29,97.53L885.71,102.64L921.14,102.37L956.57,106.61L992,112.06L1027.43,115.62L1062.86,114.74L1098.29,118.46L1133.71,116.9L1169.14,97.72L1204.57,102.2L1240,105.22\" style=\"vector-effect: none; fill: none; stroke: rgb(65, 105, 225); stroke-opacity: 1; stroke-width: 2px; opacity: 1;\"/></g><g class=\"points\"/><g class=\"text\"/></g></g></g></g><path class=\"xlines-above crisp\" d=\"M0,0\" style=\"fill: none;\"/><path class=\"ylines-above crisp\" d=\"M0,0\" style=\"fill: none;\"/><g class=\"overlines-above\"/><g class=\"xaxislayer-above\"><g class=\"x2tick\"><text text-anchor=\"middle\" x=\"0\" y=\"733\" transform=\"translate(80,0)\" style=\"font-family: 'Open Sans', verdana, arial, sans-serif; font-size: 12px; fill: rgb(42, 63, 95); fill-opacity: 1; white-space: pre; opacity: 1;\">0</text></g><g class=\"x2tick\"><text text-anchor=\"middle\" x=\"0\" y=\"733\" style=\"font-family: 'Open Sans', verdana, arial, sans-serif; font-size: 12px; fill: rgb(42, 63, 95); fill-opacity: 1; white-space: pre; opacity: 1;\" transform=\"translate(227.62,0)\">500</text></g><g class=\"x2tick\"><text text-anchor=\"middle\" x=\"0\" y=\"733\" style=\"font-family: 'Open Sans', verdana, arial, sans-serif; font-size: 12px; fill: rgb(42, 63, 95); fill-opacity: 1; white-space: pre; opacity: 1;\" transform=\"translate(375.24,0)\">1000</text></g><g class=\"x2tick\"><text text-anchor=\"middle\" x=\"0\" y=\"733\" style=\"font-family: 'Open Sans', verdana, arial, sans-serif; font-size: 12px; fill: rgb(42, 63, 95); fill-opacity: 1; white-space: pre; opacity: 1;\" transform=\"translate(522.86,0)\">1500</text></g><g class=\"x2tick\"><text text-anchor=\"middle\" x=\"0\" y=\"733\" style=\"font-family: 'Open Sans', verdana, arial, sans-serif; font-size: 12px; fill: rgb(42, 63, 95); fill-opacity: 1; white-space: pre; opacity: 1;\" transform=\"translate(670.48,0)\">2000</text></g><g class=\"x2tick\"><text text-anchor=\"middle\" x=\"0\" y=\"733\" style=\"font-family: 'Open Sans', verdana, arial, sans-serif; font-size: 12px; fill: rgb(42, 63, 95); fill-opacity: 1; white-space: pre; opacity: 1;\" transform=\"translate(818.1,0)\">2500</text></g><g class=\"x2tick\"><text text-anchor=\"middle\" x=\"0\" y=\"733\" style=\"font-family: 'Open Sans', verdana, arial, sans-serif; font-size: 12px; fill: rgb(42, 63, 95); fill-opacity: 1; white-space: pre; opacity: 1;\" transform=\"translate(965.71,0)\">3000</text></g><g class=\"x2tick\"><text text-anchor=\"middle\" x=\"0\" y=\"733\" style=\"font-family: 'Open Sans', verdana, arial, sans-serif; font-size: 12px; fill: rgb(42, 63, 95); fill-opacity: 1; white-space: pre; opacity: 1;\" transform=\"translate(1113.33,0)\">3500</text></g><g class=\"x2tick\"><text text-anchor=\"middle\" x=\"0\" y=\"733\" style=\"font-family: 'Open Sans', verdana, arial, sans-serif; font-size: 12px; fill: rgb(42, 63, 95); fill-opacity: 1; white-space: pre; opacity: 1;\" transform=\"translate(1260.95,0)\">4000</text></g></g><g class=\"yaxislayer-above\"><g class=\"y2tick\"><text text-anchor=\"end\" x=\"79\" y=\"4.199999999999999\" transform=\"translate(0,706.83)\" style=\"font-family: 'Open Sans', verdana, arial, sans-serif; font-size: 12px; fill: rgb(42, 63, 95); fill-opacity: 1; white-space: pre; opacity: 1;\">0</text></g><g class=\"y2tick\"><text text-anchor=\"end\" x=\"79\" y=\"4.199999999999999\" style=\"font-family: 'Open Sans', verdana, arial, sans-serif; font-size: 12px; fill: rgb(42, 63, 95); fill-opacity: 1; white-space: pre; opacity: 1;\" transform=\"translate(0,671.23)\">0.1</text></g><g class=\"y2tick\"><text text-anchor=\"end\" x=\"79\" y=\"4.199999999999999\" style=\"font-family: 'Open Sans', verdana, arial, sans-serif; font-size: 12px; fill: rgb(42, 63, 95); fill-opacity: 1; white-space: pre; opacity: 1;\" transform=\"translate(0,635.63)\">0.2</text></g><g class=\"y2tick\"><text text-anchor=\"end\" x=\"79\" y=\"4.199999999999999\" style=\"font-family: 'Open Sans', verdana, arial, sans-serif; font-size: 12px; fill: rgb(42, 63, 95); fill-opacity: 1; white-space: pre; opacity: 1;\" transform=\"translate(0,600.04)\">0.3</text></g><g class=\"y2tick\"><text text-anchor=\"end\" x=\"79\" y=\"4.199999999999999\" style=\"font-family: 'Open Sans', verdana, arial, sans-serif; font-size: 12px; fill: rgb(42, 63, 95); fill-opacity: 1; white-space: pre; opacity: 1;\" transform=\"translate(0,564.44)\">0.4</text></g><g class=\"y2tick\"><text text-anchor=\"end\" x=\"79\" y=\"4.199999999999999\" style=\"font-family: 'Open Sans', verdana, arial, sans-serif; font-size: 12px; fill: rgb(42, 63, 95); fill-opacity: 1; white-space: pre; opacity: 1;\" transform=\"translate(0,528.85)\">0.5</text></g><g class=\"y2tick\"><text text-anchor=\"end\" x=\"79\" y=\"4.199999999999999\" style=\"font-family: 'Open Sans', verdana, arial, sans-serif; font-size: 12px; fill: rgb(42, 63, 95); fill-opacity: 1; white-space: pre; opacity: 1;\" transform=\"translate(0,493.25)\">0.6</text></g><g class=\"y2tick\"><text text-anchor=\"end\" x=\"79\" y=\"4.199999999999999\" style=\"font-family: 'Open Sans', verdana, arial, sans-serif; font-size: 12px; fill: rgb(42, 63, 95); fill-opacity: 1; white-space: pre; opacity: 1;\" transform=\"translate(0,457.66)\">0.7</text></g></g><g class=\"overaxes-above\"/></g></g><g class=\"polarlayer\"/><g class=\"smithlayer\"/><g class=\"ternarylayer\"/><g class=\"geolayer\"/><g class=\"funnelarealayer\"/><g class=\"pielayer\"/><g class=\"iciclelayer\"/><g class=\"treemaplayer\"/><g class=\"sunburstlayer\"/><g class=\"glimages\"/><defs id=\"topdefs-5dd604\"><g class=\"clips\"/></defs><g class=\"layer-above\"><g class=\"imagelayer\"/><g class=\"shapelayer\"><g class=\"shape-group\" data-index=\"0\" clip-path=\"url(#clip5dd604x)\"><path data-index=\"0\" fill-rule=\"evenodd\" d=\"M824,363.5L824,100\" style=\"opacity: 1; stroke: rgb(255, 0, 0); stroke-opacity: 1; fill: rgb(0, 0, 0); fill-opacity: 0; stroke-dasharray: 9px, 9px; stroke-width: 2px;\"/></g><g class=\"shape-group\" data-index=\"1\" clip-path=\"url(#clip5dd604x)\"><path data-index=\"1\" fill-rule=\"evenodd\" d=\"M824,363.5L824,100\" style=\"opacity: 1; stroke: rgb(255, 0, 0); stroke-opacity: 1; fill: rgb(0, 0, 0); fill-opacity: 0; stroke-dasharray: 9px, 9px; stroke-width: 2px;\"/></g><g class=\"shape-group\" data-index=\"2\" clip-path=\"url(#clip5dd604x2)\"><path data-index=\"2\" fill-rule=\"evenodd\" d=\"M824,720L824,456.5\" style=\"opacity: 1; stroke: rgb(255, 0, 0); stroke-opacity: 1; fill: rgb(0, 0, 0); fill-opacity: 0; stroke-dasharray: 9px, 9px; stroke-width: 2px;\"/></g></g></g><g class=\"infolayer\"><g class=\"g-gtitle\"/><g class=\"g-xtitle\"><text class=\"xtitle\" x=\"700\" y=\"388.8\" text-anchor=\"middle\" style=\"opacity: 1; font-family: 'Open Sans', verdana, arial, sans-serif; font-size: 14px; fill: rgb(42, 63, 95); fill-opacity: 1; white-space: pre;\">Run time (minutes)</text></g><g class=\"g-x2title\"><text class=\"x2title\" x=\"700\" y=\"760.3\" text-anchor=\"middle\" style=\"opacity: 1; font-family: 'Open Sans', verdana, arial, sans-serif; font-size: 14px; fill: rgb(42, 63, 95); fill-opacity: 1; white-space: pre;\">Run time (minutes)</text></g><g class=\"g-ytitle\"><text class=\"ytitle\" transform=\"rotate(-90,39.975,231.75)\" x=\"39.975\" y=\"231.75\" text-anchor=\"middle\" style=\"opacity: 1; font-family: 'Open Sans', verdana, arial, sans-serif; font-size: 14px; fill: rgb(42, 63, 95); fill-opacity: 1; white-space: pre;\">Utilisation</text></g><g class=\"g-y2title\"><text class=\"y2title\" transform=\"rotate(-90,39.975,588.25)\" x=\"39.975\" y=\"588.25\" text-anchor=\"middle\" style=\"opacity: 1; font-family: 'Open Sans', verdana, arial, sans-serif; font-size: 14px; fill: rgb(42, 63, 95); fill-opacity: 1; white-space: pre;\">Running mean nurse wait time (minutes)</text></g><g class=\"annotation\" data-index=\"0\" style=\"opacity: 1;\"><g class=\"annotation-text-g\" transform=\"rotate(0,740,109.5)\"><g class=\"cursor-pointer\" transform=\"translate(656,100)\"><rect class=\"bg\" x=\"0.5\" y=\"0.5\" width=\"167\" height=\"18\" style=\"stroke-width: 1px; stroke: rgb(0, 0, 0); stroke-opacity: 0; fill: rgb(0, 0, 0); fill-opacity: 0;\"/><text class=\"annotation-text\" text-anchor=\"middle\" x=\"84\" y=\"14\" style=\"font-family: 'Open Sans', verdana, arial, sans-serif; font-size: 12px; fill: rgb(255, 0, 0); fill-opacity: 1; white-space: pre;\">Suggested warm-up length</text></g></g></g><g class=\"annotation\" data-index=\"1\" style=\"opacity: 1;\"><g class=\"annotation-text-g\" transform=\"rotate(0,740,109.5)\"><g class=\"cursor-pointer\" transform=\"translate(656,100)\"><rect class=\"bg\" x=\"0.5\" y=\"0.5\" width=\"167\" height=\"18\" style=\"stroke-width: 1px; stroke: rgb(0, 0, 0); stroke-opacity: 0; fill: rgb(0, 0, 0); fill-opacity: 0;\"/><text class=\"annotation-text\" text-anchor=\"middle\" x=\"84\" y=\"14\" style=\"font-family: 'Open Sans', verdana, arial, sans-serif; font-size: 12px; fill: rgb(255, 0, 0); fill-opacity: 1; white-space: pre;\">Suggested warm-up length</text></g></g></g><g class=\"annotation\" data-index=\"2\" style=\"opacity: 1;\"><g class=\"annotation-text-g\" transform=\"rotate(0,740,466)\"><g class=\"cursor-pointer\" transform=\"translate(656,457)\"><rect class=\"bg\" x=\"0.5\" y=\"0.5\" width=\"167\" height=\"18\" style=\"stroke-width: 1px; stroke: rgb(0, 0, 0); stroke-opacity: 0; fill: rgb(0, 0, 0); fill-opacity: 0;\"/><text class=\"annotation-text\" text-anchor=\"middle\" x=\"84\" y=\"14\" style=\"font-family: 'Open Sans', verdana, arial, sans-serif; font-size: 12px; fill: rgb(255, 0, 0); fill-opacity: 1; white-space: pre;\">Suggested warm-up length</text></g></g></g></g></svg>"
      ]
     },
     "metadata": {},
     "output_type": "display_data"
    }
   ],
   "source": [
    "time_series_inspection(\n",
    "    file='choose_param_time_series_1.png',\n",
    "    data_collection_period=1440*3, warm_up=2520,\n",
    "    labels=LABELS)"
   ]
  },
  {
   "cell_type": "markdown",
   "metadata": {},
   "source": [
    "However, it is important to look far ahead - so we run it for more days, and find actually a later warm-up is more appropriate."
   ]
  },
  {
   "cell_type": "code",
   "execution_count": 9,
   "metadata": {},
   "outputs": [
    {
     "data": {
      "image/svg+xml": [
       "<svg class=\"main-svg\" xmlns=\"http://www.w3.org/2000/svg\" xmlns:xlink=\"http://www.w3.org/1999/xlink\" width=\"1400\" height=\"800\" style=\"\" viewBox=\"0 0 1400 800\"><rect x=\"0\" y=\"0\" width=\"1400\" height=\"800\" style=\"fill: rgb(255, 255, 255); fill-opacity: 1;\"/><defs id=\"defs-9bcb02\"><g class=\"clips\"><clipPath id=\"clip9bcb02xyplot\" class=\"plotclip\"><rect width=\"1240\" height=\"263.5\"/></clipPath><clipPath id=\"clip9bcb02x2y2plot\" class=\"plotclip\"><rect width=\"1240\" height=\"263.5\"/></clipPath><clipPath class=\"axesclip\" id=\"clip9bcb02x\"><rect x=\"80\" y=\"0\" width=\"1240\" height=\"800\"/></clipPath><clipPath class=\"axesclip\" id=\"clip9bcb02y\"><rect x=\"0\" y=\"100\" width=\"1400\" height=\"263.5\"/></clipPath><clipPath class=\"axesclip\" id=\"clip9bcb02xy\"><rect x=\"80\" y=\"100\" width=\"1240\" height=\"263.5\"/></clipPath><clipPath class=\"axesclip\" id=\"clip9bcb02y2\"><rect x=\"0\" y=\"456.5\" width=\"1400\" height=\"263.5\"/></clipPath><clipPath class=\"axesclip\" id=\"clip9bcb02xy2\"><rect x=\"80\" y=\"456.5\" width=\"1240\" height=\"263.5\"/></clipPath><clipPath class=\"axesclip\" id=\"clip9bcb02x2\"><rect x=\"80\" y=\"0\" width=\"1240\" height=\"800\"/></clipPath><clipPath class=\"axesclip\" id=\"clip9bcb02x2y\"><rect x=\"80\" y=\"100\" width=\"1240\" height=\"263.5\"/></clipPath><clipPath class=\"axesclip\" id=\"clip9bcb02x2y2\"><rect x=\"80\" y=\"456.5\" width=\"1240\" height=\"263.5\"/></clipPath></g><g class=\"gradients\"/><g class=\"patterns\"/></defs><g class=\"bglayer\"/><g class=\"layer-below\"><g class=\"imagelayer\"/><g class=\"shapelayer\"/></g><g class=\"cartesianlayer\"><g class=\"subplot xy\"><g class=\"layer-subplot\"><g class=\"shapelayer\"/><g class=\"imagelayer\"/></g><g class=\"minor-gridlayer\"><g class=\"x\"/><g class=\"y\"/></g><g class=\"gridlayer\"><g class=\"x\"><path class=\"xgrid crisp\" transform=\"translate(295.73,0)\" d=\"M0,100v263.5\" style=\"stroke: rgb(235, 240, 248); stroke-opacity: 1; stroke-width: 1px;\"/><path class=\"xgrid crisp\" transform=\"translate(511.45,0)\" d=\"M0,100v263.5\" style=\"stroke: rgb(235, 240, 248); stroke-opacity: 1; stroke-width: 1px;\"/><path class=\"xgrid crisp\" transform=\"translate(727.18,0)\" d=\"M0,100v263.5\" style=\"stroke: rgb(235, 240, 248); stroke-opacity: 1; stroke-width: 1px;\"/><path class=\"xgrid crisp\" transform=\"translate(942.91,0)\" d=\"M0,100v263.5\" style=\"stroke: rgb(235, 240, 248); stroke-opacity: 1; stroke-width: 1px;\"/><path class=\"xgrid crisp\" transform=\"translate(1158.64,0)\" d=\"M0,100v263.5\" style=\"stroke: rgb(235, 240, 248); stroke-opacity: 1; stroke-width: 1px;\"/></g><g class=\"y\"><path class=\"ygrid crisp\" transform=\"translate(0,301.57)\" d=\"M80,0h1240\" style=\"stroke: rgb(235, 240, 248); stroke-opacity: 1; stroke-width: 1px;\"/><path class=\"ygrid crisp\" transform=\"translate(0,252.81)\" d=\"M80,0h1240\" style=\"stroke: rgb(235, 240, 248); stroke-opacity: 1; stroke-width: 1px;\"/><path class=\"ygrid crisp\" transform=\"translate(0,204.05)\" d=\"M80,0h1240\" style=\"stroke: rgb(235, 240, 248); stroke-opacity: 1; stroke-width: 1px;\"/><path class=\"ygrid crisp\" transform=\"translate(0,155.29)\" d=\"M80,0h1240\" style=\"stroke: rgb(235, 240, 248); stroke-opacity: 1; stroke-width: 1px;\"/><path class=\"ygrid crisp\" transform=\"translate(0,106.53)\" d=\"M80,0h1240\" style=\"stroke: rgb(235, 240, 248); stroke-opacity: 1; stroke-width: 1px;\"/></g></g><g class=\"zerolinelayer\"><path class=\"xzl zl crisp\" transform=\"translate(80,0)\" d=\"M0,100v263.5\" style=\"stroke: rgb(235, 240, 248); stroke-opacity: 1; stroke-width: 2px;\"/><path class=\"yzl zl crisp\" transform=\"translate(0,350.33000000000004)\" d=\"M80,0h1240\" style=\"stroke: rgb(235, 240, 248); stroke-opacity: 1; stroke-width: 2px;\"/></g><g class=\"layer-between\"><g class=\"shapelayer\"/><g class=\"imagelayer\"/></g><path class=\"xlines-below\"/><path class=\"ylines-below\"/><g class=\"overlines-below\"/><g class=\"xaxislayer-below\"/><g class=\"yaxislayer-below\"/><g class=\"overaxes-below\"/><g class=\"overplot\"><g class=\"xy\" transform=\"translate(80,100)\" clip-path=\"url(#clip9bcb02xyplot)\"><g class=\"scatterlayer mlayer\"><g class=\"trace scatter trace22acb8\" style=\"stroke-miterlimit: 2; opacity: 1;\"><g class=\"fills\"/><g class=\"errorbars\"/><g class=\"lines\"><path class=\"js-line\" d=\"M0,250.33L5.18,55.29L7.77,79.67L10.35,94.3L12.94,120.3L18.12,104.05L20.71,98.63L23.3,84.54L25.89,90.75L28.48,95.92L31.06,77.79L36.24,74.79L38.83,55.29L41.42,55.29L44.01,60.71L51.77,32.07L54.36,33.13L56.95,42.57L59.54,47.16L64.72,47.79L67.31,44.45L72.48,45.2L75.07,39.04L77.66,39.56L80.25,43.1L82.84,40.51L85.43,40.95L88.02,38.57L90.61,39.04L93.19,34.2L95.78,34.76L98.37,32.79L100.96,26.03L103.55,24.37L106.14,18.14L108.73,23.54L111.32,17.61L113.9,20.62L116.49,25.61L124.26,33.4L126.85,37.74L129.44,38.08L132.03,40.29L134.61,42.41L137.2,42.65L139.79,41.11L142.38,44.84L144.97,41.6L147.56,45.2L150.15,45.37L152.73,42.29L155.32,39.3L157.91,42.71L160.5,39.81L163.09,38.53L165.68,37.29L168.27,39.04L176.03,35.5L178.62,37.18L181.21,37.43L183.8,36.33L186.39,36.59L188.98,38.16L191.57,34.49L194.15,34.76L196.74,33.76L199.33,35.29L201.92,31.84L204.51,32.13L207.1,32.42L209.69,35.07L212.28,32.97L214.86,33.23L227.81,34.47L230.4,33.62L232.99,34.93L235.57,34.09L238.16,34.32L240.75,32.47L243.34,33.73L245.93,32.94L248.52,30.16L251.11,30.41L256.28,26.03L258.87,26.32L264.05,28.78L266.64,28.1L271.82,30.45L274.41,28.86L279.58,29.34L282.17,28.69L284.76,28.05L287.35,26.56L289.94,26.81L292.53,26.21L305.47,32.34L308.06,30.1L310.65,31.11L313.24,31.31L315.82,30.71L318.41,30.91L321,28.76L323.59,28.98L328.77,32.43L331.36,32.61L333.95,33.54L336.53,32.21L341.71,30.36L344.3,32L349.48,35.21L352.07,33.22L354.66,33.38L357.24,31.44L362.42,32.47L365.01,31.25L367.6,30.74L370.19,31.59L377.95,30.74L380.54,32.23L385.72,29.28L388.31,30.1L390.9,30.27L393.49,29.16L396.08,27.43L398.66,26.98L401.25,25.28L403.84,25.48L409.02,25.24L411.61,23.6L414.2,23.19L416.78,23.99L424.55,21.6L427.14,22.39L429.73,23.76L432.32,23.36L437.49,24.31L440.08,24.49L450.44,24.64L453.03,23.15L460.79,24.24L463.38,24.95L465.97,23.5L468.56,23.68L481.5,26.61L484.09,26.76L489.27,26.03L491.86,24.66L494.45,24.31L497.04,22.95L507.39,21.63L509.98,20.32L517.75,17.45L520.33,17.63L522.92,17.82L525.51,17.05L535.87,17.78L538.46,16.56L541.04,16.75L543.63,17.85L548.81,19.58L551.4,18.38L559.16,16.64L561.75,16.82L572.11,18.83L574.7,17.68L577.29,18.29L579.87,17.15L595.41,18.14L598,17.46L603.17,17.37L605.76,16.7L608.35,17.69L610.94,17.85L616.12,18.57L618.71,17.5L621.29,17.66L623.88,18.62L626.47,17.97L629.06,18.92L642,18.08L644.59,18.62L652.36,17.13L654.95,17.28L657.54,18.19L660.13,17.2L675.66,18.07L678.25,17.1L680.84,17.61L683.42,16.65L696.37,17L698.96,16.79L704.13,17.07L706.72,17.56L709.31,16.64L711.9,16.78L722.25,16.28L724.84,16.77L727.43,15.87L730.02,16.01L732.61,15.12L735.2,15.6L745.55,15.14L748.14,15.95L750.73,16.08L753.32,15.21L758.5,15.49L761.09,15.95L771.44,17.13L774.03,17.26L781.8,16.35L784.38,16.8L810.27,17.71L812.86,16.9L823.22,17.38L825.8,16.59L836.16,16.46L838.75,16.28L849.1,16.76L851.69,17.17L854.28,16.4L856.87,16.52L862.05,17.33L864.63,17.74L869.81,17.96L872.4,17.78L874.99,18.18L877.58,17.43L890.52,18.54L893.11,18.93L898.29,18.02L900.88,18.69L903.47,18.23L906.05,18.62L921.59,18.14L924.18,18.52L929.35,17.91L931.94,18.28L937.12,17.68L939.71,17.78L952.65,16.97L955.24,16.55L957.83,16.12L960.42,16.75L963.01,16.86L965.59,16.18L970.77,15.87L973.36,15.71L978.54,15.66L981.13,15L986.3,15.21L988.89,15.06L994.07,15.27L996.66,14.62L1004.43,14.43L1007.01,15.03L1014.78,14.84L1017.37,14.7L1019.96,15.05L1022.55,14.41L1032.9,15.55L1035.49,16.14L1040.67,16.33L1043.26,16.91L1045.85,17.25L1048.43,16.62L1058.79,14.86L1061.38,14.48L1063.97,15.05L1066.56,14.68L1071.73,14.17L1074.32,14.27L1079.5,14.93L1082.09,15.03L1087.27,14.75L1089.85,14.39L1095.03,14.58L1097.62,14.91L1102.8,13.95L1105.39,14.05L1113.15,14.34L1115.74,14.43L1133.86,14.86L1136.45,14.29L1144.22,14.57L1146.81,14.66L1151.98,14.62L1154.57,14.93L1175.28,15.21L1177.87,14.87L1183.05,14.62L1185.64,14.92L1195.99,15.69L1198.58,15.57L1208.94,14.03L1211.52,14.12L1219.29,13.56L1221.88,13.64L1237.41,13.55L1240,13.84\" style=\"vector-effect: none; fill: none; stroke: rgb(65, 105, 225); stroke-opacity: 1; stroke-width: 2px; opacity: 1;\"/></g><g class=\"points\"/><g class=\"text\"/></g></g></g></g><path class=\"xlines-above crisp\" d=\"M0,0\" style=\"fill: none;\"/><path class=\"ylines-above crisp\" d=\"M0,0\" style=\"fill: none;\"/><g class=\"overlines-above\"/><g class=\"xaxislayer-above\"/><g class=\"yaxislayer-above\"><g class=\"ytick\"><text text-anchor=\"end\" x=\"79\" y=\"4.199999999999999\" transform=\"translate(0,350.33000000000004)\" style=\"font-family: 'Open Sans', verdana, arial, sans-serif; font-size: 12px; fill: rgb(42, 63, 95); fill-opacity: 1; white-space: pre; opacity: 1;\">0</text></g><g class=\"ytick\"><text text-anchor=\"end\" x=\"79\" y=\"4.199999999999999\" style=\"font-family: 'Open Sans', verdana, arial, sans-serif; font-size: 12px; fill: rgb(42, 63, 95); fill-opacity: 1; white-space: pre; opacity: 1;\" transform=\"translate(0,301.57)\">0.1</text></g><g class=\"ytick\"><text text-anchor=\"end\" x=\"79\" y=\"4.199999999999999\" style=\"font-family: 'Open Sans', verdana, arial, sans-serif; font-size: 12px; fill: rgb(42, 63, 95); fill-opacity: 1; white-space: pre; opacity: 1;\" transform=\"translate(0,252.81)\">0.2</text></g><g class=\"ytick\"><text text-anchor=\"end\" x=\"79\" y=\"4.199999999999999\" style=\"font-family: 'Open Sans', verdana, arial, sans-serif; font-size: 12px; fill: rgb(42, 63, 95); fill-opacity: 1; white-space: pre; opacity: 1;\" transform=\"translate(0,204.05)\">0.3</text></g><g class=\"ytick\"><text text-anchor=\"end\" x=\"79\" y=\"4.199999999999999\" style=\"font-family: 'Open Sans', verdana, arial, sans-serif; font-size: 12px; fill: rgb(42, 63, 95); fill-opacity: 1; white-space: pre; opacity: 1;\" transform=\"translate(0,155.29)\">0.4</text></g><g class=\"ytick\"><text text-anchor=\"end\" x=\"79\" y=\"4.199999999999999\" style=\"font-family: 'Open Sans', verdana, arial, sans-serif; font-size: 12px; fill: rgb(42, 63, 95); fill-opacity: 1; white-space: pre; opacity: 1;\" transform=\"translate(0,106.53)\">0.5</text></g></g><g class=\"overaxes-above\"/></g><g class=\"subplot x2y2\"><g class=\"layer-subplot\"><g class=\"shapelayer\"/><g class=\"imagelayer\"/></g><g class=\"minor-gridlayer\"><g class=\"x2\"/><g class=\"y2\"/></g><g class=\"gridlayer\"><g class=\"x2\"><path class=\"x2grid crisp\" transform=\"translate(295.73,0)\" d=\"M0,456.5v263.5\" style=\"stroke: rgb(235, 240, 248); stroke-opacity: 1; stroke-width: 1px;\"/><path class=\"x2grid crisp\" transform=\"translate(511.45,0)\" d=\"M0,456.5v263.5\" style=\"stroke: rgb(235, 240, 248); stroke-opacity: 1; stroke-width: 1px;\"/><path class=\"x2grid crisp\" transform=\"translate(727.18,0)\" d=\"M0,456.5v263.5\" style=\"stroke: rgb(235, 240, 248); stroke-opacity: 1; stroke-width: 1px;\"/><path class=\"x2grid crisp\" transform=\"translate(942.91,0)\" d=\"M0,456.5v263.5\" style=\"stroke: rgb(235, 240, 248); stroke-opacity: 1; stroke-width: 1px;\"/><path class=\"x2grid crisp\" transform=\"translate(1158.64,0)\" d=\"M0,456.5v263.5\" style=\"stroke: rgb(235, 240, 248); stroke-opacity: 1; stroke-width: 1px;\"/></g><g class=\"y2\"><path class=\"y2grid crisp\" transform=\"translate(0,671.23)\" d=\"M80,0h1240\" style=\"stroke: rgb(235, 240, 248); stroke-opacity: 1; stroke-width: 1px;\"/><path class=\"y2grid crisp\" transform=\"translate(0,635.63)\" d=\"M80,0h1240\" style=\"stroke: rgb(235, 240, 248); stroke-opacity: 1; stroke-width: 1px;\"/><path class=\"y2grid crisp\" transform=\"translate(0,600.04)\" d=\"M80,0h1240\" style=\"stroke: rgb(235, 240, 248); stroke-opacity: 1; stroke-width: 1px;\"/><path class=\"y2grid crisp\" transform=\"translate(0,564.44)\" d=\"M80,0h1240\" style=\"stroke: rgb(235, 240, 248); stroke-opacity: 1; stroke-width: 1px;\"/><path class=\"y2grid crisp\" transform=\"translate(0,528.85)\" d=\"M80,0h1240\" style=\"stroke: rgb(235, 240, 248); stroke-opacity: 1; stroke-width: 1px;\"/><path class=\"y2grid crisp\" transform=\"translate(0,493.25)\" d=\"M80,0h1240\" style=\"stroke: rgb(235, 240, 248); stroke-opacity: 1; stroke-width: 1px;\"/><path class=\"y2grid crisp\" transform=\"translate(0,457.66)\" d=\"M80,0h1240\" style=\"stroke: rgb(235, 240, 248); stroke-opacity: 1; stroke-width: 1px;\"/></g></g><g class=\"zerolinelayer\"><path class=\"x2zl zl crisp\" transform=\"translate(80,0)\" d=\"M0,456.5v263.5\" style=\"stroke: rgb(235, 240, 248); stroke-opacity: 1; stroke-width: 2px;\"/><path class=\"y2zl zl crisp\" transform=\"translate(0,706.83)\" d=\"M80,0h1240\" style=\"stroke: rgb(235, 240, 248); stroke-opacity: 1; stroke-width: 2px;\"/></g><g class=\"layer-between\"><g class=\"shapelayer\"/><g class=\"imagelayer\"/></g><path class=\"xlines-below\"/><path class=\"ylines-below\"/><g class=\"overlines-below\"/><g class=\"xaxislayer-below\"/><g class=\"yaxislayer-below\"/><g class=\"overaxes-below\"/><g class=\"overplot\"><g class=\"x2y2\" transform=\"translate(80,456.5)\" clip-path=\"url(#clip9bcb02x2y2plot)\"><g class=\"scatterlayer mlayer\"><g class=\"trace scatter tracec00d9c\" style=\"stroke-miterlimit: 2; opacity: 1;\"><g class=\"fills\"/><g class=\"errorbars\"/><g class=\"lines\"><path class=\"js-line\" d=\"M0,250.33L12.94,250.33L15.53,13.18L18.12,55.16L20.71,65.79L23.3,67.66L25.89,81.56L28.48,76.6L31.06,85.49L36.24,102.68L38.83,92.68L41.42,89.61L44.01,96.61L49.19,112.03L51.77,116.96L54.36,111.79L56.95,116.75L59.54,123.55L62.13,97.53L64.72,102.64L67.31,102.37L75.07,115.62L77.66,114.74L80.25,118.46L82.84,116.9L85.43,97.72L88.02,102.2L93.19,107.17L95.78,109.7L100.96,115.25L103.55,118.57L111.32,125.24L113.9,118.88L116.49,120.62L119.08,118.15L124.26,123.16L126.85,124.41L134.61,129.07L137.2,130.9L139.79,132.97L142.38,133.19L144.97,134.94L147.56,131.71L150.15,124.91L152.73,126.96L155.32,126.15L157.91,127.85L160.5,127.81L163.09,129.5L165.68,131.41L168.27,132.17L170.86,127.36L173.44,112.25L176.03,109.41L178.62,108.88L183.8,111.59L186.39,112.93L191.57,116.17L194.15,116.53L199.33,119.67L201.92,119.36L204.51,114.44L207.1,115.96L209.69,117.38L212.28,101.16L217.45,104.34L220.04,105.31L222.63,94.48L225.22,94.49L227.81,94.18L230.4,95.9L235.57,99.02L238.16,98.67L245.93,102.7L248.52,102.06L251.11,102.59L253.7,95.99L256.28,87.06L258.87,88.64L266.64,92.67L269.23,91.25L284.76,97.55L287.35,98.33L289.94,98.08L292.53,99.29L295.11,98.48L297.7,99.32L305.47,103.32L308.06,101.37L310.65,99.57L313.24,100.46L323.59,104.76L326.18,104.81L328.77,105.03L331.36,106.43L333.95,106.78L336.53,107.96L339.12,108.83L341.71,107.49L357.24,111.93L359.83,108.89L365.01,110.67L367.6,110.66L370.19,110.87L372.78,112.05L375.37,110.64L377.95,111.31L383.13,111.6L385.72,105.51L398.66,109.32L401.25,110.04L409.02,112.12L411.61,110.47L414.2,106.51L416.78,107.33L424.55,109.74L427.14,108.64L434.91,110.79L437.49,104.23L447.85,106.85L450.44,104.99L465.97,109.48L468.56,108.71L473.74,109.9L476.33,110.46L478.91,105.97L481.5,106.44L491.86,108.84L494.45,109.08L497.04,109.52L499.62,106.71L504.8,107.87L507.39,93.33L515.16,94.89L517.75,93.35L520.33,93.92L522.92,90.08L525.51,83.54L528.1,83.73L541.04,86.76L543.63,87.35L548.81,87.74L551.4,84.05L572.11,89.23L574.7,89.83L577.29,90.16L579.87,88.23L585.05,88.89L587.64,87.06L592.82,88.06L595.41,83.5L598,84.14L600.58,82.79L608.35,84.33L610.94,84.26L616.12,84.75L618.71,78.96L623.88,79.83L626.47,80.76L647.18,83.95L649.77,84.13L657.54,85.86L660.13,84.31L662.71,83.29L665.3,83.73L670.48,84.44L673.07,85.11L675.66,85.61L678.25,82.71L680.84,81.99L683.42,82.41L688.6,82.51L691.19,82.48L693.78,82.42L696.37,81.05L701.54,82.32L704.13,82.45L714.49,82.8L717.08,83.52L719.67,82.79L722.25,83.26L727.43,83.86L730.02,83.17L735.2,80.38L737.79,81.12L763.67,85.38L766.26,85.01L776.62,87.19L779.21,83.99L784.38,84.66L786.97,83.53L797.33,85.21L799.92,82.61L807.68,84L810.27,83.52L812.86,82.64L815.45,80.81L818.04,79.21L820.63,79.7L828.39,80.93L830.98,81.24L851.69,84.28L854.28,83.8L856.87,83.23L859.46,83.72L862.05,82.67L864.63,82.99L867.22,81.24L869.81,81.31L872.4,81.46L874.99,78.68L903.47,82.57L906.05,82.12L913.82,83.07L916.41,83.44L934.53,85.76L937.12,80.61L942.3,80.69L944.89,81.13L973.36,85.6L975.95,82.32L978.54,82.61L981.13,79.27L991.48,80.73L994.07,79.36L1019.96,81.74L1022.55,81.46L1025.14,80.22L1027.72,80.55L1045.85,83.21L1048.43,82.32L1061.38,82.88L1063.97,83.16L1069.14,83.4L1071.73,82.71L1084.68,84.36L1087.27,84.33L1092.44,84.66L1095.03,84.99L1097.62,84.37L1100.21,84.55L1107.97,83.86L1110.56,84.14L1120.92,85L1123.51,85.23L1128.68,85.56L1131.27,85.88L1136.45,86.16L1139.04,84.32L1144.22,84.33L1146.81,82.89L1175.28,85.14L1177.87,83.36L1183.05,83.38L1185.64,83.78L1190.81,84.37L1193.4,83.07L1195.99,83.46L1198.58,82.69L1201.17,82.91L1203.76,81.3L1214.11,81.44L1216.7,81.69L1224.47,82.43L1227.06,81.77L1234.82,82.23L1237.41,81.32L1240,81.67\" style=\"vector-effect: none; fill: none; stroke: rgb(65, 105, 225); stroke-opacity: 1; stroke-width: 2px; opacity: 1;\"/></g><g class=\"points\"/><g class=\"text\"/></g></g></g></g><path class=\"xlines-above crisp\" d=\"M0,0\" style=\"fill: none;\"/><path class=\"ylines-above crisp\" d=\"M0,0\" style=\"fill: none;\"/><g class=\"overlines-above\"/><g class=\"xaxislayer-above\"><g class=\"x2tick\"><text text-anchor=\"middle\" x=\"0\" y=\"733\" transform=\"translate(80,0)\" style=\"font-family: 'Open Sans', verdana, arial, sans-serif; font-size: 12px; fill: rgb(42, 63, 95); fill-opacity: 1; white-space: pre; opacity: 1;\">0</text></g><g class=\"x2tick\"><text text-anchor=\"middle\" x=\"0\" y=\"733\" style=\"font-family: 'Open Sans', verdana, arial, sans-serif; font-size: 12px; fill: rgb(42, 63, 95); fill-opacity: 1; white-space: pre; opacity: 1;\" transform=\"translate(295.73,0)\">10k</text></g><g class=\"x2tick\"><text text-anchor=\"middle\" x=\"0\" y=\"733\" style=\"font-family: 'Open Sans', verdana, arial, sans-serif; font-size: 12px; fill: rgb(42, 63, 95); fill-opacity: 1; white-space: pre; opacity: 1;\" transform=\"translate(511.45,0)\">20k</text></g><g class=\"x2tick\"><text text-anchor=\"middle\" x=\"0\" y=\"733\" style=\"font-family: 'Open Sans', verdana, arial, sans-serif; font-size: 12px; fill: rgb(42, 63, 95); fill-opacity: 1; white-space: pre; opacity: 1;\" transform=\"translate(727.18,0)\">30k</text></g><g class=\"x2tick\"><text text-anchor=\"middle\" x=\"0\" y=\"733\" style=\"font-family: 'Open Sans', verdana, arial, sans-serif; font-size: 12px; fill: rgb(42, 63, 95); fill-opacity: 1; white-space: pre; opacity: 1;\" transform=\"translate(942.91,0)\">40k</text></g><g class=\"x2tick\"><text text-anchor=\"middle\" x=\"0\" y=\"733\" style=\"font-family: 'Open Sans', verdana, arial, sans-serif; font-size: 12px; fill: rgb(42, 63, 95); fill-opacity: 1; white-space: pre; opacity: 1;\" transform=\"translate(1158.64,0)\">50k</text></g></g><g class=\"yaxislayer-above\"><g class=\"y2tick\"><text text-anchor=\"end\" x=\"79\" y=\"4.199999999999999\" transform=\"translate(0,706.83)\" style=\"font-family: 'Open Sans', verdana, arial, sans-serif; font-size: 12px; fill: rgb(42, 63, 95); fill-opacity: 1; white-space: pre; opacity: 1;\">0</text></g><g class=\"y2tick\"><text text-anchor=\"end\" x=\"79\" y=\"4.199999999999999\" style=\"font-family: 'Open Sans', verdana, arial, sans-serif; font-size: 12px; fill: rgb(42, 63, 95); fill-opacity: 1; white-space: pre; opacity: 1;\" transform=\"translate(0,671.23)\">0.1</text></g><g class=\"y2tick\"><text text-anchor=\"end\" x=\"79\" y=\"4.199999999999999\" style=\"font-family: 'Open Sans', verdana, arial, sans-serif; font-size: 12px; fill: rgb(42, 63, 95); fill-opacity: 1; white-space: pre; opacity: 1;\" transform=\"translate(0,635.63)\">0.2</text></g><g class=\"y2tick\"><text text-anchor=\"end\" x=\"79\" y=\"4.199999999999999\" style=\"font-family: 'Open Sans', verdana, arial, sans-serif; font-size: 12px; fill: rgb(42, 63, 95); fill-opacity: 1; white-space: pre; opacity: 1;\" transform=\"translate(0,600.04)\">0.3</text></g><g class=\"y2tick\"><text text-anchor=\"end\" x=\"79\" y=\"4.199999999999999\" style=\"font-family: 'Open Sans', verdana, arial, sans-serif; font-size: 12px; fill: rgb(42, 63, 95); fill-opacity: 1; white-space: pre; opacity: 1;\" transform=\"translate(0,564.44)\">0.4</text></g><g class=\"y2tick\"><text text-anchor=\"end\" x=\"79\" y=\"4.199999999999999\" style=\"font-family: 'Open Sans', verdana, arial, sans-serif; font-size: 12px; fill: rgb(42, 63, 95); fill-opacity: 1; white-space: pre; opacity: 1;\" transform=\"translate(0,528.85)\">0.5</text></g><g class=\"y2tick\"><text text-anchor=\"end\" x=\"79\" y=\"4.199999999999999\" style=\"font-family: 'Open Sans', verdana, arial, sans-serif; font-size: 12px; fill: rgb(42, 63, 95); fill-opacity: 1; white-space: pre; opacity: 1;\" transform=\"translate(0,493.25)\">0.6</text></g><g class=\"y2tick\"><text text-anchor=\"end\" x=\"79\" y=\"4.199999999999999\" style=\"font-family: 'Open Sans', verdana, arial, sans-serif; font-size: 12px; fill: rgb(42, 63, 95); fill-opacity: 1; white-space: pre; opacity: 1;\" transform=\"translate(0,457.66)\">0.7</text></g></g><g class=\"overaxes-above\"/></g></g><g class=\"polarlayer\"/><g class=\"smithlayer\"/><g class=\"ternarylayer\"/><g class=\"geolayer\"/><g class=\"funnelarealayer\"/><g class=\"pielayer\"/><g class=\"iciclelayer\"/><g class=\"treemaplayer\"/><g class=\"sunburstlayer\"/><g class=\"glimages\"/><defs id=\"topdefs-9bcb02\"><g class=\"clips\"/></defs><g class=\"layer-above\"><g class=\"imagelayer\"/><g class=\"shapelayer\"><g class=\"shape-group\" data-index=\"0\" clip-path=\"url(#clip9bcb02x)\"><path data-index=\"0\" fill-rule=\"evenodd\" d=\"M483.84,363.5L483.84,100\" style=\"opacity: 1; stroke: rgb(255, 0, 0); stroke-opacity: 1; fill: rgb(0, 0, 0); fill-opacity: 0; stroke-dasharray: 9px, 9px; stroke-width: 2px;\"/></g><g class=\"shape-group\" data-index=\"1\" clip-path=\"url(#clip9bcb02x)\"><path data-index=\"1\" fill-rule=\"evenodd\" d=\"M483.84,363.5L483.84,100\" style=\"opacity: 1; stroke: rgb(255, 0, 0); stroke-opacity: 1; fill: rgb(0, 0, 0); fill-opacity: 0; stroke-dasharray: 9px, 9px; stroke-width: 2px;\"/></g><g class=\"shape-group\" data-index=\"2\" clip-path=\"url(#clip9bcb02x2)\"><path data-index=\"2\" fill-rule=\"evenodd\" d=\"M483.84,720L483.84,456.5\" style=\"opacity: 1; stroke: rgb(255, 0, 0); stroke-opacity: 1; fill: rgb(0, 0, 0); fill-opacity: 0; stroke-dasharray: 9px, 9px; stroke-width: 2px;\"/></g></g></g><g class=\"infolayer\"><g class=\"g-gtitle\"/><g class=\"g-xtitle\"><text class=\"xtitle\" x=\"700\" y=\"388.8\" text-anchor=\"middle\" style=\"opacity: 1; font-family: 'Open Sans', verdana, arial, sans-serif; font-size: 14px; fill: rgb(42, 63, 95); fill-opacity: 1; white-space: pre;\">Run time (minutes)</text></g><g class=\"g-x2title\"><text class=\"x2title\" x=\"700\" y=\"760.3\" text-anchor=\"middle\" style=\"opacity: 1; font-family: 'Open Sans', verdana, arial, sans-serif; font-size: 14px; fill: rgb(42, 63, 95); fill-opacity: 1; white-space: pre;\">Run time (minutes)</text></g><g class=\"g-ytitle\"><text class=\"ytitle\" transform=\"rotate(-90,39.975,231.75)\" x=\"39.975\" y=\"231.75\" text-anchor=\"middle\" style=\"opacity: 1; font-family: 'Open Sans', verdana, arial, sans-serif; font-size: 14px; fill: rgb(42, 63, 95); fill-opacity: 1; white-space: pre;\">Utilisation</text></g><g class=\"g-y2title\"><text class=\"y2title\" transform=\"rotate(-90,39.975,588.25)\" x=\"39.975\" y=\"588.25\" text-anchor=\"middle\" style=\"opacity: 1; font-family: 'Open Sans', verdana, arial, sans-serif; font-size: 14px; fill: rgb(42, 63, 95); fill-opacity: 1; white-space: pre;\">Running mean nurse wait time (minutes)</text></g><g class=\"annotation\" data-index=\"0\" style=\"opacity: 1;\"><g class=\"annotation-text-g\" transform=\"rotate(0,399.84,109.5)\"><g class=\"cursor-pointer\" transform=\"translate(316,100)\"><rect class=\"bg\" x=\"0.5\" y=\"0.5\" width=\"167\" height=\"18\" style=\"stroke-width: 1px; stroke: rgb(0, 0, 0); stroke-opacity: 0; fill: rgb(0, 0, 0); fill-opacity: 0;\"/><text class=\"annotation-text\" text-anchor=\"middle\" x=\"84\" y=\"14\" style=\"font-family: 'Open Sans', verdana, arial, sans-serif; font-size: 12px; fill: rgb(255, 0, 0); fill-opacity: 1; white-space: pre;\">Suggested warm-up length</text></g></g></g><g class=\"annotation\" data-index=\"1\" style=\"opacity: 1;\"><g class=\"annotation-text-g\" transform=\"rotate(0,399.84,109.5)\"><g class=\"cursor-pointer\" transform=\"translate(316,100)\"><rect class=\"bg\" x=\"0.5\" y=\"0.5\" width=\"167\" height=\"18\" style=\"stroke-width: 1px; stroke: rgb(0, 0, 0); stroke-opacity: 0; fill: rgb(0, 0, 0); fill-opacity: 0;\"/><text class=\"annotation-text\" text-anchor=\"middle\" x=\"84\" y=\"14\" style=\"font-family: 'Open Sans', verdana, arial, sans-serif; font-size: 12px; fill: rgb(255, 0, 0); fill-opacity: 1; white-space: pre;\">Suggested warm-up length</text></g></g></g><g class=\"annotation\" data-index=\"2\" style=\"opacity: 1;\"><g class=\"annotation-text-g\" transform=\"rotate(0,399.84,466)\"><g class=\"cursor-pointer\" transform=\"translate(316,457)\"><rect class=\"bg\" x=\"0.5\" y=\"0.5\" width=\"167\" height=\"18\" style=\"stroke-width: 1px; stroke: rgb(0, 0, 0); stroke-opacity: 0; fill: rgb(0, 0, 0); fill-opacity: 0;\"/><text class=\"annotation-text\" text-anchor=\"middle\" x=\"84\" y=\"14\" style=\"font-family: 'Open Sans', verdana, arial, sans-serif; font-size: 12px; fill: rgb(255, 0, 0); fill-opacity: 1; white-space: pre;\">Suggested warm-up length</text></g></g></g></g></svg>"
      ]
     },
     "metadata": {},
     "output_type": "display_data"
    }
   ],
   "source": [
    "time_series_inspection(\n",
    "    file='choose_param_time_series_2.png',\n",
    "    data_collection_period=1440*40, warm_up=1440*13,\n",
    "    labels=LABELS)"
   ]
  },
  {
   "cell_type": "markdown",
   "metadata": {},
   "source": [
    "## Run time"
   ]
  },
  {
   "cell_type": "code",
   "execution_count": 10,
   "metadata": {},
   "outputs": [
    {
     "name": "stdout",
     "output_type": "stream",
     "text": [
      "Notebook run time: 0m 2s\n"
     ]
    }
   ],
   "source": [
    "# Get run time in seconds\n",
    "notebook_end_time = time.time()\n",
    "runtime = round(notebook_end_time - notebook_start_time)\n",
    "\n",
    "# Display converted to minutes and seconds\n",
    "print(f'Notebook run time: {runtime // 60}m {runtime % 60}s')"
   ]
  }
 ],
 "metadata": {
  "kernelspec": {
   "display_name": "template-des",
   "language": "python",
   "name": "python3"
  },
  "language_info": {
   "codemirror_mode": {
    "name": "ipython",
    "version": 3
   },
   "file_extension": ".py",
   "mimetype": "text/x-python",
   "name": "python",
   "nbconvert_exporter": "python",
   "pygments_lexer": "ipython3",
   "version": "3.13.1"
  }
 },
 "nbformat": 4,
 "nbformat_minor": 2
}
