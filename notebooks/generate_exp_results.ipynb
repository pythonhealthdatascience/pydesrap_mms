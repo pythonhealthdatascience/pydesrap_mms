{
 "cells": [
  {
   "cell_type": "markdown",
   "metadata": {},
   "source": [
    "## Generate expected results\n",
    "\n",
    "This notebook is used to run a specific version of the model and save each results dataframe as a csv. These are used in `test_backtest.py` to verify that the model produces consistent results.\n",
    "\n",
    "The notebook is provided as it is possible that results may change due to alterations to the model structure and operations. Once it has been confirmed that changes are intentional and not any introduced errors, this script can be run to regenerate the `.csv` files used in the test.\n",
    "\n",
    "The run time is provided at the end of this notebook."
   ]
  },
  {
   "cell_type": "markdown",
   "metadata": {},
   "source": [
    "## Set-up\n",
    "\n",
    "Load notebook linters."
   ]
  },
  {
   "cell_type": "code",
   "execution_count": 1,
   "metadata": {},
   "outputs": [],
   "source": [
    "%load_ext pycodestyle_magic"
   ]
  },
  {
   "cell_type": "code",
   "execution_count": 2,
   "metadata": {},
   "outputs": [],
   "source": [
    "%pycodestyle_on"
   ]
  },
  {
   "cell_type": "markdown",
   "metadata": {},
   "source": [
    "Load required packages."
   ]
  },
  {
   "cell_type": "code",
   "execution_count": 3,
   "metadata": {},
   "outputs": [],
   "source": [
    "# To ensure any updates to `simulation/` are fetched without needing to restart\n",
    "# the notebook environment, reload `simulation/` before execution of each cell\n",
    "%load_ext autoreload\n",
    "%autoreload 1\n",
    "%aimport simulation"
   ]
  },
  {
   "cell_type": "code",
   "execution_count": 4,
   "metadata": {},
   "outputs": [],
   "source": [
    "# Import required packages\n",
    "from simulation.model import Defaults, Trial\n",
    "import os\n",
    "import time"
   ]
  },
  {
   "cell_type": "markdown",
   "metadata": {},
   "source": [
    "Start timer."
   ]
  },
  {
   "cell_type": "code",
   "execution_count": 5,
   "metadata": {},
   "outputs": [],
   "source": [
    "# Start timer\n",
    "start_time = time.time()"
   ]
  },
  {
   "cell_type": "markdown",
   "metadata": {},
   "source": [
    "Define path to expected results."
   ]
  },
  {
   "cell_type": "code",
   "execution_count": 6,
   "metadata": {},
   "outputs": [],
   "source": [
    "# Define path to folder for expected results for tests\n",
    "tests = '../tests/exp_results/'"
   ]
  },
  {
   "cell_type": "markdown",
   "metadata": {},
   "source": [
    "## Run model and save results"
   ]
  },
  {
   "cell_type": "code",
   "execution_count": 7,
   "metadata": {},
   "outputs": [],
   "source": [
    "# Define model parameters\n",
    "param = Defaults()\n",
    "param.patient_inter = 4\n",
    "param.mean_n_consult_time = 10\n",
    "param.number_of_nurses = 4\n",
    "param.warm_up_period = 500\n",
    "param.data_collection_period = 1500\n",
    "param.number_of_runs = 5\n",
    "param.audit_interval = 50\n",
    "param.scenario_name = 0\n",
    "param.cores = 1\n",
    "\n",
    "# Run the trial\n",
    "trial = Trial(param)\n",
    "trial.run_trial()"
   ]
  },
  {
   "cell_type": "code",
   "execution_count": 8,
   "metadata": {},
   "outputs": [
    {
     "data": {
      "text/html": [
       "<div><style>\n",
       ".dataframe > thead > tr,\n",
       ".dataframe > tbody > tr {\n",
       "  text-align: right;\n",
       "  white-space: pre-wrap;\n",
       "}\n",
       "</style>\n",
       "<small>shape: (1_890, 5)</small><table border=\"1\" class=\"dataframe\"><thead><tr><th>patient_id</th><th>arrival_time</th><th>q_time_nurse</th><th>time_with_nurse</th><th>run</th></tr><tr><td>i64</td><td>f64</td><td>f64</td><td>f64</td><td>i32</td></tr></thead><tbody><tr><td>1</td><td>504.513444</td><td>0.0</td><td>29.462508</td><td>0</td></tr><tr><td>2</td><td>507.230909</td><td>0.0</td><td>7.345594</td><td>0</td></tr><tr><td>3</td><td>508.394374</td><td>0.0</td><td>7.986073</td><td>0</td></tr><tr><td>4</td><td>512.975372</td><td>0.0</td><td>7.127312</td><td>0</td></tr><tr><td>5</td><td>521.933116</td><td>0.0</td><td>6.654871</td><td>0</td></tr><tr><td>&hellip;</td><td>&hellip;</td><td>&hellip;</td><td>&hellip;</td><td>&hellip;</td></tr><tr><td>365</td><td>1978.104484</td><td>0.0</td><td>11.023619</td><td>4</td></tr><tr><td>366</td><td>1980.171724</td><td>0.0</td><td>8.212316</td><td>4</td></tr><tr><td>367</td><td>1986.506388</td><td>0.0</td><td>24.89816</td><td>4</td></tr><tr><td>368</td><td>1988.648731</td><td>0.0</td><td>3.353385</td><td>4</td></tr><tr><td>369</td><td>1993.658168</td><td>0.0</td><td>7.20042</td><td>4</td></tr></tbody></table></div>"
      ],
      "text/plain": [
       "shape: (1_890, 5)\n",
       "┌────────────┬──────────────┬──────────────┬─────────────────┬─────┐\n",
       "│ patient_id ┆ arrival_time ┆ q_time_nurse ┆ time_with_nurse ┆ run │\n",
       "│ ---        ┆ ---          ┆ ---          ┆ ---             ┆ --- │\n",
       "│ i64        ┆ f64          ┆ f64          ┆ f64             ┆ i32 │\n",
       "╞════════════╪══════════════╪══════════════╪═════════════════╪═════╡\n",
       "│ 1          ┆ 504.513444   ┆ 0.0          ┆ 29.462508       ┆ 0   │\n",
       "│ 2          ┆ 507.230909   ┆ 0.0          ┆ 7.345594        ┆ 0   │\n",
       "│ 3          ┆ 508.394374   ┆ 0.0          ┆ 7.986073        ┆ 0   │\n",
       "│ 4          ┆ 512.975372   ┆ 0.0          ┆ 7.127312        ┆ 0   │\n",
       "│ 5          ┆ 521.933116   ┆ 0.0          ┆ 6.654871        ┆ 0   │\n",
       "│ …          ┆ …            ┆ …            ┆ …               ┆ …   │\n",
       "│ 365        ┆ 1978.104484  ┆ 0.0          ┆ 11.023619       ┆ 4   │\n",
       "│ 366        ┆ 1980.171724  ┆ 0.0          ┆ 8.212316        ┆ 4   │\n",
       "│ 367        ┆ 1986.506388  ┆ 0.0          ┆ 24.89816        ┆ 4   │\n",
       "│ 368        ┆ 1988.648731  ┆ 0.0          ┆ 3.353385        ┆ 4   │\n",
       "│ 369        ┆ 1993.658168  ┆ 0.0          ┆ 7.20042         ┆ 4   │\n",
       "└────────────┴──────────────┴──────────────┴─────────────────┴─────┘"
      ]
     },
     "metadata": {},
     "output_type": "display_data"
    }
   ],
   "source": [
    "# Patient-level results\n",
    "display(trial.patient_results_df)\n",
    "trial.patient_results_df.write_csv(os.path.join(tests, 'patient.csv'))"
   ]
  },
  {
   "cell_type": "code",
   "execution_count": 9,
   "metadata": {},
   "outputs": [
    {
     "data": {
      "text/html": [
       "<div><style>\n",
       ".dataframe > thead > tr,\n",
       ".dataframe > tbody > tr {\n",
       "  text-align: right;\n",
       "  white-space: pre-wrap;\n",
       "}\n",
       "</style>\n",
       "<small>shape: (5, 6)</small><table border=\"1\" class=\"dataframe\"><thead><tr><th>run_number</th><th>scenario</th><th>arrivals</th><th>mean_q_time_nurse</th><th>mean_time_with_nurse</th><th>mean_nurse_utilisation</th></tr><tr><td>i64</td><td>i64</td><td>i64</td><td>f64</td><td>f64</td><td>f64</td></tr></thead><tbody><tr><td>0</td><td>0</td><td>403</td><td>2.065396</td><td>9.622971</td><td>0.643006</td></tr><tr><td>1</td><td>0</td><td>382</td><td>1.396755</td><td>10.186235</td><td>0.64564</td></tr><tr><td>2</td><td>0</td><td>369</td><td>3.484284</td><td>10.733822</td><td>0.66079</td></tr><tr><td>3</td><td>0</td><td>367</td><td>2.050522</td><td>10.511447</td><td>0.634541</td></tr><tr><td>4</td><td>0</td><td>369</td><td>1.836706</td><td>9.742127</td><td>0.597097</td></tr></tbody></table></div>"
      ],
      "text/plain": [
       "shape: (5, 6)\n",
       "┌────────────┬──────────┬──────────┬───────────────────┬─────────────────────┬─────────────────────┐\n",
       "│ run_number ┆ scenario ┆ arrivals ┆ mean_q_time_nurse ┆ mean_time_with_nurs ┆ mean_nurse_utilisat │\n",
       "│ ---        ┆ ---      ┆ ---      ┆ ---               ┆ e                   ┆ ion                 │\n",
       "│ i64        ┆ i64      ┆ i64      ┆ f64               ┆ ---                 ┆ ---                 │\n",
       "│            ┆          ┆          ┆                   ┆ f64                 ┆ f64                 │\n",
       "╞════════════╪══════════╪══════════╪═══════════════════╪═════════════════════╪═════════════════════╡\n",
       "│ 0          ┆ 0        ┆ 403      ┆ 2.065396          ┆ 9.622971            ┆ 0.643006            │\n",
       "│ 1          ┆ 0        ┆ 382      ┆ 1.396755          ┆ 10.186235           ┆ 0.64564             │\n",
       "│ 2          ┆ 0        ┆ 369      ┆ 3.484284          ┆ 10.733822           ┆ 0.66079             │\n",
       "│ 3          ┆ 0        ┆ 367      ┆ 2.050522          ┆ 10.511447           ┆ 0.634541            │\n",
       "│ 4          ┆ 0        ┆ 369      ┆ 1.836706          ┆ 9.742127            ┆ 0.597097            │\n",
       "└────────────┴──────────┴──────────┴───────────────────┴─────────────────────┴─────────────────────┘"
      ]
     },
     "metadata": {},
     "output_type": "display_data"
    }
   ],
   "source": [
    "# Trial-level results\n",
    "display(trial.trial_results_df)\n",
    "trial.trial_results_df.write_csv(os.path.join(tests, 'trial.csv'))"
   ]
  },
  {
   "cell_type": "code",
   "execution_count": 10,
   "metadata": {},
   "outputs": [
    {
     "data": {
      "text/html": [
       "<div><style>\n",
       ".dataframe > thead > tr,\n",
       ".dataframe > tbody > tr {\n",
       "  text-align: right;\n",
       "  white-space: pre-wrap;\n",
       "}\n",
       "</style>\n",
       "<small>shape: (150, 6)</small><table border=\"1\" class=\"dataframe\"><thead><tr><th>resource_name</th><th>simulation_time</th><th>utilisation</th><th>queue_length</th><th>running_mean_wait_time</th><th>run</th></tr><tr><td>str</td><td>i64</td><td>f64</td><td>i64</td><td>f64</td><td>i32</td></tr></thead><tbody><tr><td>&quot;nurse&quot;</td><td>500</td><td>0.0</td><td>0</td><td>0.651192</td><td>0</td></tr><tr><td>&quot;nurse&quot;</td><td>550</td><td>0.0</td><td>0</td><td>0.599917</td><td>0</td></tr><tr><td>&quot;nurse&quot;</td><td>600</td><td>0.0</td><td>0</td><td>0.556127</td><td>0</td></tr><tr><td>&quot;nurse&quot;</td><td>650</td><td>1.0</td><td>0</td><td>0.514799</td><td>0</td></tr><tr><td>&quot;nurse&quot;</td><td>700</td><td>1.0</td><td>2</td><td>1.912841</td><td>0</td></tr><tr><td>&hellip;</td><td>&hellip;</td><td>&hellip;</td><td>&hellip;</td><td>&hellip;</td><td>&hellip;</td></tr><tr><td>&quot;nurse&quot;</td><td>1750</td><td>1.0</td><td>1</td><td>2.365482</td><td>4</td></tr><tr><td>&quot;nurse&quot;</td><td>1800</td><td>0.75</td><td>0</td><td>2.305149</td><td>4</td></tr><tr><td>&quot;nurse&quot;</td><td>1850</td><td>1.0</td><td>2</td><td>2.248533</td><td>4</td></tr><tr><td>&quot;nurse&quot;</td><td>1900</td><td>0.75</td><td>0</td><td>2.258437</td><td>4</td></tr><tr><td>&quot;nurse&quot;</td><td>1950</td><td>0.5</td><td>0</td><td>2.207035</td><td>4</td></tr></tbody></table></div>"
      ],
      "text/plain": [
       "shape: (150, 6)\n",
       "┌───────────────┬─────────────────┬─────────────┬──────────────┬────────────────────────┬─────┐\n",
       "│ resource_name ┆ simulation_time ┆ utilisation ┆ queue_length ┆ running_mean_wait_time ┆ run │\n",
       "│ ---           ┆ ---             ┆ ---         ┆ ---          ┆ ---                    ┆ --- │\n",
       "│ str           ┆ i64             ┆ f64         ┆ i64          ┆ f64                    ┆ i32 │\n",
       "╞═══════════════╪═════════════════╪═════════════╪══════════════╪════════════════════════╪═════╡\n",
       "│ nurse         ┆ 500             ┆ 0.0         ┆ 0            ┆ 0.651192               ┆ 0   │\n",
       "│ nurse         ┆ 550             ┆ 0.0         ┆ 0            ┆ 0.599917               ┆ 0   │\n",
       "│ nurse         ┆ 600             ┆ 0.0         ┆ 0            ┆ 0.556127               ┆ 0   │\n",
       "│ nurse         ┆ 650             ┆ 1.0         ┆ 0            ┆ 0.514799               ┆ 0   │\n",
       "│ nurse         ┆ 700             ┆ 1.0         ┆ 2            ┆ 1.912841               ┆ 0   │\n",
       "│ …             ┆ …               ┆ …           ┆ …            ┆ …                      ┆ …   │\n",
       "│ nurse         ┆ 1750            ┆ 1.0         ┆ 1            ┆ 2.365482               ┆ 4   │\n",
       "│ nurse         ┆ 1800            ┆ 0.75        ┆ 0            ┆ 2.305149               ┆ 4   │\n",
       "│ nurse         ┆ 1850            ┆ 1.0         ┆ 2            ┆ 2.248533               ┆ 4   │\n",
       "│ nurse         ┆ 1900            ┆ 0.75        ┆ 0            ┆ 2.258437               ┆ 4   │\n",
       "│ nurse         ┆ 1950            ┆ 0.5         ┆ 0            ┆ 2.207035               ┆ 4   │\n",
       "└───────────────┴─────────────────┴─────────────┴──────────────┴────────────────────────┴─────┘"
      ]
     },
     "metadata": {},
     "output_type": "display_data"
    }
   ],
   "source": [
    "# Interval audit results\n",
    "display(trial.interval_audit_df)\n",
    "trial.interval_audit_df.write_csv(os.path.join(tests, 'interval.csv'))"
   ]
  },
  {
   "cell_type": "code",
   "execution_count": 11,
   "metadata": {},
   "outputs": [
    {
     "data": {
      "text/html": [
       "<div><style>\n",
       ".dataframe > thead > tr,\n",
       ".dataframe > tbody > tr {\n",
       "  text-align: right;\n",
       "  white-space: pre-wrap;\n",
       "}\n",
       "</style>\n",
       "<small>shape: (4, 5)</small><table border=\"1\" class=\"dataframe\"><thead><tr><th>metric</th><th>arrivals</th><th>mean_q_time_nurse</th><th>mean_time_with_nurse</th><th>mean_nurse_utilisation</th></tr><tr><td>str</td><td>f64</td><td>f64</td><td>f64</td><td>f64</td></tr></thead><tbody><tr><td>&quot;mean&quot;</td><td>378.0</td><td>2.166733</td><td>10.15932</td><td>0.636215</td></tr><tr><td>&quot;std_dev&quot;</td><td>15.198684</td><td>0.784458</td><td>0.478668</td><td>0.023832</td></tr><tr><td>&quot;lower_95_ci&quot;</td><td>359.128341</td><td>1.192699</td><td>9.564976</td><td>0.606623</td></tr><tr><td>&quot;upper_95_ci&quot;</td><td>396.871659</td><td>3.140766</td><td>10.753665</td><td>0.665806</td></tr></tbody></table></div>"
      ],
      "text/plain": [
       "shape: (4, 5)\n",
       "┌─────────────┬────────────┬───────────────────┬──────────────────────┬────────────────────────┐\n",
       "│ metric      ┆ arrivals   ┆ mean_q_time_nurse ┆ mean_time_with_nurse ┆ mean_nurse_utilisation │\n",
       "│ ---         ┆ ---        ┆ ---               ┆ ---                  ┆ ---                    │\n",
       "│ str         ┆ f64        ┆ f64               ┆ f64                  ┆ f64                    │\n",
       "╞═════════════╪════════════╪═══════════════════╪══════════════════════╪════════════════════════╡\n",
       "│ mean        ┆ 378.0      ┆ 2.166733          ┆ 10.15932             ┆ 0.636215               │\n",
       "│ std_dev     ┆ 15.198684  ┆ 0.784458          ┆ 0.478668             ┆ 0.023832               │\n",
       "│ lower_95_ci ┆ 359.128341 ┆ 1.192699          ┆ 9.564976             ┆ 0.606623               │\n",
       "│ upper_95_ci ┆ 396.871659 ┆ 3.140766          ┆ 10.753665            ┆ 0.665806               │\n",
       "└─────────────┴────────────┴───────────────────┴──────────────────────┴────────────────────────┘"
      ]
     },
     "metadata": {},
     "output_type": "display_data"
    }
   ],
   "source": [
    "# Overall results\n",
    "display(trial.overall_results_df)\n",
    "trial.overall_results_df.write_csv(os.path.join(tests, 'overall.csv'))"
   ]
  },
  {
   "cell_type": "code",
   "execution_count": 12,
   "metadata": {},
   "outputs": [
    {
     "name": "stdout",
     "output_type": "stream",
     "text": [
      "Notebook run time: 0m 0s\n"
     ]
    }
   ],
   "source": [
    "# Get run time in seconds\n",
    "end_time = time.time()\n",
    "runtime = round(end_time - start_time)\n",
    "\n",
    "# Display converted to minutes and seconds\n",
    "print(f'Notebook run time: {runtime // 60}m {runtime % 60}s')"
   ]
  }
 ],
 "metadata": {
  "kernelspec": {
   "display_name": "template-des",
   "language": "python",
   "name": "python3"
  },
  "language_info": {
   "codemirror_mode": {
    "name": "ipython",
    "version": 3
   },
   "file_extension": ".py",
   "mimetype": "text/x-python",
   "name": "python",
   "nbconvert_exporter": "python",
   "pygments_lexer": "ipython3",
   "version": "3.13.0"
  }
 },
 "nbformat": 4,
 "nbformat_minor": 2
}
