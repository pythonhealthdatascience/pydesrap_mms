{
 "cells": [
  {
   "cell_type": "markdown",
   "metadata": {},
   "source": [
    "# Choosing parameters\n",
    "\n",
    "This notebook documents the choice of simulation parameters including:\n",
    "\n",
    "* Length of warm-up period\n",
    "* Number of replications\n",
    "* Number of CPU cores\n",
    "* Sampling distributions\n",
    "\n",
    "The run time is provided at the end of the notebook.\n",
    "\n",
    "Credit:\n",
    "\n",
    "* Code for choice of warm-up period, replication number and distributions was adapted from Tom Monks (2024) [HPDM097 - Making a difference with health data](https://github.com/health-data-science-OR/stochastic_systems) (MIT License).\n",
    "* Code for running the model with a varying number of CPU cores was adapted from Sammi Rosser and Dan Chalk (2024) [HSMA - the\n",
    "    little book of DES](https://github.com/hsma-programme/hsma6_des_book) (MIT License).\n",
    "\n",
    "License:\n",
    "\n",
    "* This project is licensed under the MIT License. See the `LICENSE` file for more details."
   ]
  },
  {
   "cell_type": "markdown",
   "metadata": {},
   "source": [
    "## Set-up\n",
    "\n",
    "Load notebook linters."
   ]
  },
  {
   "cell_type": "code",
   "execution_count": 1,
   "metadata": {},
   "outputs": [],
   "source": [
    "%load_ext pycodestyle_magic"
   ]
  },
  {
   "cell_type": "code",
   "execution_count": 2,
   "metadata": {},
   "outputs": [],
   "source": [
    "%pycodestyle_on"
   ]
  },
  {
   "cell_type": "markdown",
   "metadata": {},
   "source": [
    "Load required packages."
   ]
  },
  {
   "cell_type": "code",
   "execution_count": 3,
   "metadata": {},
   "outputs": [],
   "source": [
    "# To ensure any updates to `simulation/` are fetched without needing to restart\n",
    "# the notebook environment, reload `simulation/` before execution of each cell\n",
    "%load_ext autoreload\n",
    "%autoreload 1\n",
    "%aimport simulation"
   ]
  },
  {
   "cell_type": "code",
   "execution_count": 4,
   "metadata": {},
   "outputs": [],
   "source": [
    "from simulation.model import Defaults, Trial, summary_stats\n",
    "import time\n",
    "from IPython.display import display\n",
    "import numpy as np\n",
    "import plotly.express as px\n",
    "import polars as pl\n",
    "import warnings"
   ]
  },
  {
   "cell_type": "markdown",
   "metadata": {},
   "source": [
    "Start timer."
   ]
  },
  {
   "cell_type": "code",
   "execution_count": 5,
   "metadata": {},
   "outputs": [],
   "source": [
    "notebook_start_time = time.time()"
   ]
  },
  {
   "cell_type": "markdown",
   "metadata": {},
   "source": [
    "## Choosing length of warm-up period\n",
    "\n",
    "A suitable length for the warm-up period can be determined using the **time series inspection approach**. This involves looking at performance measures over time to identify when the system is exhibiting **steady state behaviour** (even though the system will never truly reach a \"steady state\").\n",
    "\n",
    "If we simply plot the mean result at regular intervals, this would vary too much. Therefore, we plot the **cumulative mean** of the performance measure, and look for the point at which this **smoothes out and stabilises**. This indicates the point for the warm-up period to end.\n",
    "\n",
    "This should be assessed when running the model using the base case parameters. If these change, you should reassess the appropriate warm-up period."
   ]
  },
  {
   "cell_type": "code",
   "execution_count": 6,
   "metadata": {},
   "outputs": [],
   "source": [
    "def cum_mean(x):\n",
    "    \"\"\"\n",
    "    Calculate cumulative/rolling mean for a polars Series.\n",
    "\n",
    "    Arguments:\n",
    "        x (pl.Series):\n",
    "            Series to apply calculation to\n",
    "\n",
    "    Returns:\n",
    "        pl.Series with cumulative mean.\n",
    "    \"\"\"\n",
    "    return pl.col(x).cum_sum().truediv(pl.col(x).cum_count())"
   ]
  },
  {
   "cell_type": "code",
   "execution_count": 7,
   "metadata": {},
   "outputs": [],
   "source": [
    "def time_series_inspection(data_collection_period, warm_up=None):\n",
    "    \"\"\"\n",
    "    Time series inspection method for determining length of warm-up.\n",
    "\n",
    "    Arguments:\n",
    "        data_collection_period (float):\n",
    "            Length of time to run the simulation for.\n",
    "        warm_up (float, optional):\n",
    "            Location on X axis to plot vertical red line indicating the chosen\n",
    "            warm-up period. Defaults to None, which will not plot a line.\n",
    "    \"\"\"\n",
    "    # Use default parameters, but with no warm-up and specified run length,\n",
    "    # and with no replications\n",
    "    param = Defaults()\n",
    "    param.warm_up_period = 0\n",
    "    param.data_collection_period = data_collection_period\n",
    "    param.number_of_runs = 1\n",
    "    # display(param.__dict__)\n",
    "\n",
    "    # Run model\n",
    "    choose_warmup = Trial(param)\n",
    "    choose_warmup.run_trial()\n",
    "\n",
    "    # Filter to nurse results\n",
    "    nurse = choose_warmup.interval_audit_df.filter(\n",
    "        pl.col('resource_name') == 'nurse')\n",
    "\n",
    "    # Define columns to analyse\n",
    "    plot = {\n",
    "        'utilisation': 'Cumulative mean nurse utilisation',\n",
    "        'running_mean_wait_time': 'Running mean nurse wait time'\n",
    "    }\n",
    "    for var, label in plot.items():\n",
    "        # Filter to relevant columns\n",
    "        df = nurse.select(['simulation_time', var])\n",
    "\n",
    "        # For utilisation, calculate cumulative mean (not necessary\n",
    "        # for wait time as that is already a running mean)\n",
    "        if var == 'utilisation':\n",
    "            cumulative = df.with_columns(cum_mean(var))\n",
    "        elif var == 'running_mean_wait_time':\n",
    "            cumulative = df\n",
    "\n",
    "        # Create plot. If specified, add vertical line to indicate suggested\n",
    "        # warm-up length\n",
    "        fig = px.line(cumulative, x='simulation_time', y=var)\n",
    "        fig.update_layout(\n",
    "            xaxis_title='Run time (minutes)',\n",
    "            yaxis_title=label,\n",
    "            showlegend=False\n",
    "        )\n",
    "        if warm_up is not None:\n",
    "            fig.add_vline(x=warm_up, line_color='red', line_dash='dash')\n",
    "        fig.show()"
   ]
  },
  {
   "cell_type": "markdown",
   "metadata": {},
   "source": [
    "Having run the model for three days, it appears to reach a steady state at around 2500 minutes."
   ]
  },
  {
   "cell_type": "code",
   "execution_count": 8,
   "metadata": {},
   "outputs": [
    {
     "data": {
      "application/vnd.plotly.v1+json": {
       "config": {
        "plotlyServerURL": "https://plot.ly"
       },
       "data": [
        {
         "hovertemplate": "simulation_time=%{x}<br>utilisation=%{y}<extra></extra>",
         "legendgroup": "",
         "line": {
          "color": "#636efa",
          "dash": "solid"
         },
         "marker": {
          "symbol": "circle"
         },
         "mode": "lines",
         "name": "",
         "orientation": "v",
         "showlegend": false,
         "type": "scatter",
         "x": [
          0,
          120,
          240,
          360,
          480,
          600,
          720,
          840,
          960,
          1080,
          1200,
          1320,
          1440,
          1560,
          1680,
          1800,
          1920,
          2040,
          2160,
          2280,
          2400,
          2520,
          2640,
          2760,
          2880,
          3000,
          3120,
          3240,
          3360,
          3480,
          3600,
          3720,
          3840,
          3960,
          4080,
          4200
         ],
         "xaxis": "x",
         "y": [
          0,
          0.3,
          0.39999999999999997,
          0.35,
          0.31999999999999995,
          0.26666666666666666,
          0.2571428571428571,
          0.24999999999999997,
          0.26666666666666666,
          0.27999999999999997,
          0.2909090909090909,
          0.2833333333333333,
          0.3384615384615385,
          0.35714285714285715,
          0.3466666666666667,
          0.3875,
          0.3764705882352941,
          0.3777777777777778,
          0.38947368421052636,
          0.39,
          0.4,
          0.4090909090909091,
          0.39999999999999997,
          0.39999999999999997,
          0.4,
          0.4,
          0.41481481481481486,
          0.4,
          0.40689655172413797,
          0.42000000000000004,
          0.42580645161290326,
          0.41875,
          0.43030303030303035,
          0.4294117647058824,
          0.43428571428571433,
          0.4222222222222223
         ],
         "yaxis": "y"
        }
       ],
       "layout": {
        "legend": {
         "tracegroupgap": 0
        },
        "margin": {
         "t": 60
        },
        "shapes": [
         {
          "line": {
           "color": "red",
           "dash": "dash"
          },
          "type": "line",
          "x0": 2520,
          "x1": 2520,
          "xref": "x",
          "y0": 0,
          "y1": 1,
          "yref": "y domain"
         }
        ],
        "showlegend": false,
        "template": {
         "data": {
          "bar": [
           {
            "error_x": {
             "color": "#2a3f5f"
            },
            "error_y": {
             "color": "#2a3f5f"
            },
            "marker": {
             "line": {
              "color": "#E5ECF6",
              "width": 0.5
             },
             "pattern": {
              "fillmode": "overlay",
              "size": 10,
              "solidity": 0.2
             }
            },
            "type": "bar"
           }
          ],
          "barpolar": [
           {
            "marker": {
             "line": {
              "color": "#E5ECF6",
              "width": 0.5
             },
             "pattern": {
              "fillmode": "overlay",
              "size": 10,
              "solidity": 0.2
             }
            },
            "type": "barpolar"
           }
          ],
          "carpet": [
           {
            "aaxis": {
             "endlinecolor": "#2a3f5f",
             "gridcolor": "white",
             "linecolor": "white",
             "minorgridcolor": "white",
             "startlinecolor": "#2a3f5f"
            },
            "baxis": {
             "endlinecolor": "#2a3f5f",
             "gridcolor": "white",
             "linecolor": "white",
             "minorgridcolor": "white",
             "startlinecolor": "#2a3f5f"
            },
            "type": "carpet"
           }
          ],
          "choropleth": [
           {
            "colorbar": {
             "outlinewidth": 0,
             "ticks": ""
            },
            "type": "choropleth"
           }
          ],
          "contour": [
           {
            "colorbar": {
             "outlinewidth": 0,
             "ticks": ""
            },
            "colorscale": [
             [
              0,
              "#0d0887"
             ],
             [
              0.1111111111111111,
              "#46039f"
             ],
             [
              0.2222222222222222,
              "#7201a8"
             ],
             [
              0.3333333333333333,
              "#9c179e"
             ],
             [
              0.4444444444444444,
              "#bd3786"
             ],
             [
              0.5555555555555556,
              "#d8576b"
             ],
             [
              0.6666666666666666,
              "#ed7953"
             ],
             [
              0.7777777777777778,
              "#fb9f3a"
             ],
             [
              0.8888888888888888,
              "#fdca26"
             ],
             [
              1,
              "#f0f921"
             ]
            ],
            "type": "contour"
           }
          ],
          "contourcarpet": [
           {
            "colorbar": {
             "outlinewidth": 0,
             "ticks": ""
            },
            "type": "contourcarpet"
           }
          ],
          "heatmap": [
           {
            "colorbar": {
             "outlinewidth": 0,
             "ticks": ""
            },
            "colorscale": [
             [
              0,
              "#0d0887"
             ],
             [
              0.1111111111111111,
              "#46039f"
             ],
             [
              0.2222222222222222,
              "#7201a8"
             ],
             [
              0.3333333333333333,
              "#9c179e"
             ],
             [
              0.4444444444444444,
              "#bd3786"
             ],
             [
              0.5555555555555556,
              "#d8576b"
             ],
             [
              0.6666666666666666,
              "#ed7953"
             ],
             [
              0.7777777777777778,
              "#fb9f3a"
             ],
             [
              0.8888888888888888,
              "#fdca26"
             ],
             [
              1,
              "#f0f921"
             ]
            ],
            "type": "heatmap"
           }
          ],
          "heatmapgl": [
           {
            "colorbar": {
             "outlinewidth": 0,
             "ticks": ""
            },
            "colorscale": [
             [
              0,
              "#0d0887"
             ],
             [
              0.1111111111111111,
              "#46039f"
             ],
             [
              0.2222222222222222,
              "#7201a8"
             ],
             [
              0.3333333333333333,
              "#9c179e"
             ],
             [
              0.4444444444444444,
              "#bd3786"
             ],
             [
              0.5555555555555556,
              "#d8576b"
             ],
             [
              0.6666666666666666,
              "#ed7953"
             ],
             [
              0.7777777777777778,
              "#fb9f3a"
             ],
             [
              0.8888888888888888,
              "#fdca26"
             ],
             [
              1,
              "#f0f921"
             ]
            ],
            "type": "heatmapgl"
           }
          ],
          "histogram": [
           {
            "marker": {
             "pattern": {
              "fillmode": "overlay",
              "size": 10,
              "solidity": 0.2
             }
            },
            "type": "histogram"
           }
          ],
          "histogram2d": [
           {
            "colorbar": {
             "outlinewidth": 0,
             "ticks": ""
            },
            "colorscale": [
             [
              0,
              "#0d0887"
             ],
             [
              0.1111111111111111,
              "#46039f"
             ],
             [
              0.2222222222222222,
              "#7201a8"
             ],
             [
              0.3333333333333333,
              "#9c179e"
             ],
             [
              0.4444444444444444,
              "#bd3786"
             ],
             [
              0.5555555555555556,
              "#d8576b"
             ],
             [
              0.6666666666666666,
              "#ed7953"
             ],
             [
              0.7777777777777778,
              "#fb9f3a"
             ],
             [
              0.8888888888888888,
              "#fdca26"
             ],
             [
              1,
              "#f0f921"
             ]
            ],
            "type": "histogram2d"
           }
          ],
          "histogram2dcontour": [
           {
            "colorbar": {
             "outlinewidth": 0,
             "ticks": ""
            },
            "colorscale": [
             [
              0,
              "#0d0887"
             ],
             [
              0.1111111111111111,
              "#46039f"
             ],
             [
              0.2222222222222222,
              "#7201a8"
             ],
             [
              0.3333333333333333,
              "#9c179e"
             ],
             [
              0.4444444444444444,
              "#bd3786"
             ],
             [
              0.5555555555555556,
              "#d8576b"
             ],
             [
              0.6666666666666666,
              "#ed7953"
             ],
             [
              0.7777777777777778,
              "#fb9f3a"
             ],
             [
              0.8888888888888888,
              "#fdca26"
             ],
             [
              1,
              "#f0f921"
             ]
            ],
            "type": "histogram2dcontour"
           }
          ],
          "mesh3d": [
           {
            "colorbar": {
             "outlinewidth": 0,
             "ticks": ""
            },
            "type": "mesh3d"
           }
          ],
          "parcoords": [
           {
            "line": {
             "colorbar": {
              "outlinewidth": 0,
              "ticks": ""
             }
            },
            "type": "parcoords"
           }
          ],
          "pie": [
           {
            "automargin": true,
            "type": "pie"
           }
          ],
          "scatter": [
           {
            "fillpattern": {
             "fillmode": "overlay",
             "size": 10,
             "solidity": 0.2
            },
            "type": "scatter"
           }
          ],
          "scatter3d": [
           {
            "line": {
             "colorbar": {
              "outlinewidth": 0,
              "ticks": ""
             }
            },
            "marker": {
             "colorbar": {
              "outlinewidth": 0,
              "ticks": ""
             }
            },
            "type": "scatter3d"
           }
          ],
          "scattercarpet": [
           {
            "marker": {
             "colorbar": {
              "outlinewidth": 0,
              "ticks": ""
             }
            },
            "type": "scattercarpet"
           }
          ],
          "scattergeo": [
           {
            "marker": {
             "colorbar": {
              "outlinewidth": 0,
              "ticks": ""
             }
            },
            "type": "scattergeo"
           }
          ],
          "scattergl": [
           {
            "marker": {
             "colorbar": {
              "outlinewidth": 0,
              "ticks": ""
             }
            },
            "type": "scattergl"
           }
          ],
          "scattermapbox": [
           {
            "marker": {
             "colorbar": {
              "outlinewidth": 0,
              "ticks": ""
             }
            },
            "type": "scattermapbox"
           }
          ],
          "scatterpolar": [
           {
            "marker": {
             "colorbar": {
              "outlinewidth": 0,
              "ticks": ""
             }
            },
            "type": "scatterpolar"
           }
          ],
          "scatterpolargl": [
           {
            "marker": {
             "colorbar": {
              "outlinewidth": 0,
              "ticks": ""
             }
            },
            "type": "scatterpolargl"
           }
          ],
          "scatterternary": [
           {
            "marker": {
             "colorbar": {
              "outlinewidth": 0,
              "ticks": ""
             }
            },
            "type": "scatterternary"
           }
          ],
          "surface": [
           {
            "colorbar": {
             "outlinewidth": 0,
             "ticks": ""
            },
            "colorscale": [
             [
              0,
              "#0d0887"
             ],
             [
              0.1111111111111111,
              "#46039f"
             ],
             [
              0.2222222222222222,
              "#7201a8"
             ],
             [
              0.3333333333333333,
              "#9c179e"
             ],
             [
              0.4444444444444444,
              "#bd3786"
             ],
             [
              0.5555555555555556,
              "#d8576b"
             ],
             [
              0.6666666666666666,
              "#ed7953"
             ],
             [
              0.7777777777777778,
              "#fb9f3a"
             ],
             [
              0.8888888888888888,
              "#fdca26"
             ],
             [
              1,
              "#f0f921"
             ]
            ],
            "type": "surface"
           }
          ],
          "table": [
           {
            "cells": {
             "fill": {
              "color": "#EBF0F8"
             },
             "line": {
              "color": "white"
             }
            },
            "header": {
             "fill": {
              "color": "#C8D4E3"
             },
             "line": {
              "color": "white"
             }
            },
            "type": "table"
           }
          ]
         },
         "layout": {
          "annotationdefaults": {
           "arrowcolor": "#2a3f5f",
           "arrowhead": 0,
           "arrowwidth": 1
          },
          "autotypenumbers": "strict",
          "coloraxis": {
           "colorbar": {
            "outlinewidth": 0,
            "ticks": ""
           }
          },
          "colorscale": {
           "diverging": [
            [
             0,
             "#8e0152"
            ],
            [
             0.1,
             "#c51b7d"
            ],
            [
             0.2,
             "#de77ae"
            ],
            [
             0.3,
             "#f1b6da"
            ],
            [
             0.4,
             "#fde0ef"
            ],
            [
             0.5,
             "#f7f7f7"
            ],
            [
             0.6,
             "#e6f5d0"
            ],
            [
             0.7,
             "#b8e186"
            ],
            [
             0.8,
             "#7fbc41"
            ],
            [
             0.9,
             "#4d9221"
            ],
            [
             1,
             "#276419"
            ]
           ],
           "sequential": [
            [
             0,
             "#0d0887"
            ],
            [
             0.1111111111111111,
             "#46039f"
            ],
            [
             0.2222222222222222,
             "#7201a8"
            ],
            [
             0.3333333333333333,
             "#9c179e"
            ],
            [
             0.4444444444444444,
             "#bd3786"
            ],
            [
             0.5555555555555556,
             "#d8576b"
            ],
            [
             0.6666666666666666,
             "#ed7953"
            ],
            [
             0.7777777777777778,
             "#fb9f3a"
            ],
            [
             0.8888888888888888,
             "#fdca26"
            ],
            [
             1,
             "#f0f921"
            ]
           ],
           "sequentialminus": [
            [
             0,
             "#0d0887"
            ],
            [
             0.1111111111111111,
             "#46039f"
            ],
            [
             0.2222222222222222,
             "#7201a8"
            ],
            [
             0.3333333333333333,
             "#9c179e"
            ],
            [
             0.4444444444444444,
             "#bd3786"
            ],
            [
             0.5555555555555556,
             "#d8576b"
            ],
            [
             0.6666666666666666,
             "#ed7953"
            ],
            [
             0.7777777777777778,
             "#fb9f3a"
            ],
            [
             0.8888888888888888,
             "#fdca26"
            ],
            [
             1,
             "#f0f921"
            ]
           ]
          },
          "colorway": [
           "#636efa",
           "#EF553B",
           "#00cc96",
           "#ab63fa",
           "#FFA15A",
           "#19d3f3",
           "#FF6692",
           "#B6E880",
           "#FF97FF",
           "#FECB52"
          ],
          "font": {
           "color": "#2a3f5f"
          },
          "geo": {
           "bgcolor": "white",
           "lakecolor": "white",
           "landcolor": "#E5ECF6",
           "showlakes": true,
           "showland": true,
           "subunitcolor": "white"
          },
          "hoverlabel": {
           "align": "left"
          },
          "hovermode": "closest",
          "mapbox": {
           "style": "light"
          },
          "paper_bgcolor": "white",
          "plot_bgcolor": "#E5ECF6",
          "polar": {
           "angularaxis": {
            "gridcolor": "white",
            "linecolor": "white",
            "ticks": ""
           },
           "bgcolor": "#E5ECF6",
           "radialaxis": {
            "gridcolor": "white",
            "linecolor": "white",
            "ticks": ""
           }
          },
          "scene": {
           "xaxis": {
            "backgroundcolor": "#E5ECF6",
            "gridcolor": "white",
            "gridwidth": 2,
            "linecolor": "white",
            "showbackground": true,
            "ticks": "",
            "zerolinecolor": "white"
           },
           "yaxis": {
            "backgroundcolor": "#E5ECF6",
            "gridcolor": "white",
            "gridwidth": 2,
            "linecolor": "white",
            "showbackground": true,
            "ticks": "",
            "zerolinecolor": "white"
           },
           "zaxis": {
            "backgroundcolor": "#E5ECF6",
            "gridcolor": "white",
            "gridwidth": 2,
            "linecolor": "white",
            "showbackground": true,
            "ticks": "",
            "zerolinecolor": "white"
           }
          },
          "shapedefaults": {
           "line": {
            "color": "#2a3f5f"
           }
          },
          "ternary": {
           "aaxis": {
            "gridcolor": "white",
            "linecolor": "white",
            "ticks": ""
           },
           "baxis": {
            "gridcolor": "white",
            "linecolor": "white",
            "ticks": ""
           },
           "bgcolor": "#E5ECF6",
           "caxis": {
            "gridcolor": "white",
            "linecolor": "white",
            "ticks": ""
           }
          },
          "title": {
           "x": 0.05
          },
          "xaxis": {
           "automargin": true,
           "gridcolor": "white",
           "linecolor": "white",
           "ticks": "",
           "title": {
            "standoff": 15
           },
           "zerolinecolor": "white",
           "zerolinewidth": 2
          },
          "yaxis": {
           "automargin": true,
           "gridcolor": "white",
           "linecolor": "white",
           "ticks": "",
           "title": {
            "standoff": 15
           },
           "zerolinecolor": "white",
           "zerolinewidth": 2
          }
         }
        },
        "xaxis": {
         "anchor": "y",
         "domain": [
          0,
          1
         ],
         "title": {
          "text": "Run time (minutes)"
         }
        },
        "yaxis": {
         "anchor": "x",
         "domain": [
          0,
          1
         ],
         "title": {
          "text": "Cumulative mean nurse utilisation"
         }
        }
       }
      }
     },
     "metadata": {},
     "output_type": "display_data"
    },
    {
     "data": {
      "application/vnd.plotly.v1+json": {
       "config": {
        "plotlyServerURL": "https://plot.ly"
       },
       "data": [
        {
         "hovertemplate": "simulation_time=%{x}<br>running_mean_wait_time=%{y}<extra></extra>",
         "legendgroup": "",
         "line": {
          "color": "#636efa",
          "dash": "solid"
         },
         "marker": {
          "symbol": "circle"
         },
         "mode": "lines",
         "name": "",
         "orientation": "v",
         "showlegend": false,
         "type": "scatter",
         "x": [
          0,
          120,
          240,
          360,
          480,
          600,
          720,
          840,
          960,
          1080,
          1200,
          1320,
          1440,
          1560,
          1680,
          1800,
          1920,
          2040,
          2160,
          2280,
          2400,
          2520,
          2640,
          2760,
          2880,
          3000,
          3120,
          3240,
          3360,
          3480,
          3600,
          3720,
          3840,
          3960,
          4080,
          4200
         ],
         "xaxis": "x",
         "y": [
          0,
          0.1850812125177364,
          0.27293124698759036,
          0.16748053792420323,
          0.12815902032460771,
          0.10757873968853933,
          0.7775449421583632,
          0.6405489285399849,
          0.5855465140647299,
          0.5957191187844486,
          0.548688662038308,
          0.5817940262693283,
          0.5353593851431566,
          0.4954821346023178,
          0.47245100669119877,
          0.4868107775118521,
          0.46015274287212593,
          0.44014610187768555,
          0.4227129753701152,
          0.4000169766925251,
          0.3857768901436003,
          0.4124383536388688,
          0.3977084124374807,
          0.37748595078811714,
          0.45739615362189323,
          0.44211042098157305,
          0.44090411421823766,
          0.428276788751367,
          0.412287664630186,
          0.4016807112895885,
          0.4117119594328106,
          0.40236404193605335,
          0.3973051982695963,
          0.4218534759267196,
          0.40954103826584787,
          0.401190803936053
         ],
         "yaxis": "y"
        }
       ],
       "layout": {
        "legend": {
         "tracegroupgap": 0
        },
        "margin": {
         "t": 60
        },
        "shapes": [
         {
          "line": {
           "color": "red",
           "dash": "dash"
          },
          "type": "line",
          "x0": 2520,
          "x1": 2520,
          "xref": "x",
          "y0": 0,
          "y1": 1,
          "yref": "y domain"
         }
        ],
        "showlegend": false,
        "template": {
         "data": {
          "bar": [
           {
            "error_x": {
             "color": "#2a3f5f"
            },
            "error_y": {
             "color": "#2a3f5f"
            },
            "marker": {
             "line": {
              "color": "#E5ECF6",
              "width": 0.5
             },
             "pattern": {
              "fillmode": "overlay",
              "size": 10,
              "solidity": 0.2
             }
            },
            "type": "bar"
           }
          ],
          "barpolar": [
           {
            "marker": {
             "line": {
              "color": "#E5ECF6",
              "width": 0.5
             },
             "pattern": {
              "fillmode": "overlay",
              "size": 10,
              "solidity": 0.2
             }
            },
            "type": "barpolar"
           }
          ],
          "carpet": [
           {
            "aaxis": {
             "endlinecolor": "#2a3f5f",
             "gridcolor": "white",
             "linecolor": "white",
             "minorgridcolor": "white",
             "startlinecolor": "#2a3f5f"
            },
            "baxis": {
             "endlinecolor": "#2a3f5f",
             "gridcolor": "white",
             "linecolor": "white",
             "minorgridcolor": "white",
             "startlinecolor": "#2a3f5f"
            },
            "type": "carpet"
           }
          ],
          "choropleth": [
           {
            "colorbar": {
             "outlinewidth": 0,
             "ticks": ""
            },
            "type": "choropleth"
           }
          ],
          "contour": [
           {
            "colorbar": {
             "outlinewidth": 0,
             "ticks": ""
            },
            "colorscale": [
             [
              0,
              "#0d0887"
             ],
             [
              0.1111111111111111,
              "#46039f"
             ],
             [
              0.2222222222222222,
              "#7201a8"
             ],
             [
              0.3333333333333333,
              "#9c179e"
             ],
             [
              0.4444444444444444,
              "#bd3786"
             ],
             [
              0.5555555555555556,
              "#d8576b"
             ],
             [
              0.6666666666666666,
              "#ed7953"
             ],
             [
              0.7777777777777778,
              "#fb9f3a"
             ],
             [
              0.8888888888888888,
              "#fdca26"
             ],
             [
              1,
              "#f0f921"
             ]
            ],
            "type": "contour"
           }
          ],
          "contourcarpet": [
           {
            "colorbar": {
             "outlinewidth": 0,
             "ticks": ""
            },
            "type": "contourcarpet"
           }
          ],
          "heatmap": [
           {
            "colorbar": {
             "outlinewidth": 0,
             "ticks": ""
            },
            "colorscale": [
             [
              0,
              "#0d0887"
             ],
             [
              0.1111111111111111,
              "#46039f"
             ],
             [
              0.2222222222222222,
              "#7201a8"
             ],
             [
              0.3333333333333333,
              "#9c179e"
             ],
             [
              0.4444444444444444,
              "#bd3786"
             ],
             [
              0.5555555555555556,
              "#d8576b"
             ],
             [
              0.6666666666666666,
              "#ed7953"
             ],
             [
              0.7777777777777778,
              "#fb9f3a"
             ],
             [
              0.8888888888888888,
              "#fdca26"
             ],
             [
              1,
              "#f0f921"
             ]
            ],
            "type": "heatmap"
           }
          ],
          "heatmapgl": [
           {
            "colorbar": {
             "outlinewidth": 0,
             "ticks": ""
            },
            "colorscale": [
             [
              0,
              "#0d0887"
             ],
             [
              0.1111111111111111,
              "#46039f"
             ],
             [
              0.2222222222222222,
              "#7201a8"
             ],
             [
              0.3333333333333333,
              "#9c179e"
             ],
             [
              0.4444444444444444,
              "#bd3786"
             ],
             [
              0.5555555555555556,
              "#d8576b"
             ],
             [
              0.6666666666666666,
              "#ed7953"
             ],
             [
              0.7777777777777778,
              "#fb9f3a"
             ],
             [
              0.8888888888888888,
              "#fdca26"
             ],
             [
              1,
              "#f0f921"
             ]
            ],
            "type": "heatmapgl"
           }
          ],
          "histogram": [
           {
            "marker": {
             "pattern": {
              "fillmode": "overlay",
              "size": 10,
              "solidity": 0.2
             }
            },
            "type": "histogram"
           }
          ],
          "histogram2d": [
           {
            "colorbar": {
             "outlinewidth": 0,
             "ticks": ""
            },
            "colorscale": [
             [
              0,
              "#0d0887"
             ],
             [
              0.1111111111111111,
              "#46039f"
             ],
             [
              0.2222222222222222,
              "#7201a8"
             ],
             [
              0.3333333333333333,
              "#9c179e"
             ],
             [
              0.4444444444444444,
              "#bd3786"
             ],
             [
              0.5555555555555556,
              "#d8576b"
             ],
             [
              0.6666666666666666,
              "#ed7953"
             ],
             [
              0.7777777777777778,
              "#fb9f3a"
             ],
             [
              0.8888888888888888,
              "#fdca26"
             ],
             [
              1,
              "#f0f921"
             ]
            ],
            "type": "histogram2d"
           }
          ],
          "histogram2dcontour": [
           {
            "colorbar": {
             "outlinewidth": 0,
             "ticks": ""
            },
            "colorscale": [
             [
              0,
              "#0d0887"
             ],
             [
              0.1111111111111111,
              "#46039f"
             ],
             [
              0.2222222222222222,
              "#7201a8"
             ],
             [
              0.3333333333333333,
              "#9c179e"
             ],
             [
              0.4444444444444444,
              "#bd3786"
             ],
             [
              0.5555555555555556,
              "#d8576b"
             ],
             [
              0.6666666666666666,
              "#ed7953"
             ],
             [
              0.7777777777777778,
              "#fb9f3a"
             ],
             [
              0.8888888888888888,
              "#fdca26"
             ],
             [
              1,
              "#f0f921"
             ]
            ],
            "type": "histogram2dcontour"
           }
          ],
          "mesh3d": [
           {
            "colorbar": {
             "outlinewidth": 0,
             "ticks": ""
            },
            "type": "mesh3d"
           }
          ],
          "parcoords": [
           {
            "line": {
             "colorbar": {
              "outlinewidth": 0,
              "ticks": ""
             }
            },
            "type": "parcoords"
           }
          ],
          "pie": [
           {
            "automargin": true,
            "type": "pie"
           }
          ],
          "scatter": [
           {
            "fillpattern": {
             "fillmode": "overlay",
             "size": 10,
             "solidity": 0.2
            },
            "type": "scatter"
           }
          ],
          "scatter3d": [
           {
            "line": {
             "colorbar": {
              "outlinewidth": 0,
              "ticks": ""
             }
            },
            "marker": {
             "colorbar": {
              "outlinewidth": 0,
              "ticks": ""
             }
            },
            "type": "scatter3d"
           }
          ],
          "scattercarpet": [
           {
            "marker": {
             "colorbar": {
              "outlinewidth": 0,
              "ticks": ""
             }
            },
            "type": "scattercarpet"
           }
          ],
          "scattergeo": [
           {
            "marker": {
             "colorbar": {
              "outlinewidth": 0,
              "ticks": ""
             }
            },
            "type": "scattergeo"
           }
          ],
          "scattergl": [
           {
            "marker": {
             "colorbar": {
              "outlinewidth": 0,
              "ticks": ""
             }
            },
            "type": "scattergl"
           }
          ],
          "scattermapbox": [
           {
            "marker": {
             "colorbar": {
              "outlinewidth": 0,
              "ticks": ""
             }
            },
            "type": "scattermapbox"
           }
          ],
          "scatterpolar": [
           {
            "marker": {
             "colorbar": {
              "outlinewidth": 0,
              "ticks": ""
             }
            },
            "type": "scatterpolar"
           }
          ],
          "scatterpolargl": [
           {
            "marker": {
             "colorbar": {
              "outlinewidth": 0,
              "ticks": ""
             }
            },
            "type": "scatterpolargl"
           }
          ],
          "scatterternary": [
           {
            "marker": {
             "colorbar": {
              "outlinewidth": 0,
              "ticks": ""
             }
            },
            "type": "scatterternary"
           }
          ],
          "surface": [
           {
            "colorbar": {
             "outlinewidth": 0,
             "ticks": ""
            },
            "colorscale": [
             [
              0,
              "#0d0887"
             ],
             [
              0.1111111111111111,
              "#46039f"
             ],
             [
              0.2222222222222222,
              "#7201a8"
             ],
             [
              0.3333333333333333,
              "#9c179e"
             ],
             [
              0.4444444444444444,
              "#bd3786"
             ],
             [
              0.5555555555555556,
              "#d8576b"
             ],
             [
              0.6666666666666666,
              "#ed7953"
             ],
             [
              0.7777777777777778,
              "#fb9f3a"
             ],
             [
              0.8888888888888888,
              "#fdca26"
             ],
             [
              1,
              "#f0f921"
             ]
            ],
            "type": "surface"
           }
          ],
          "table": [
           {
            "cells": {
             "fill": {
              "color": "#EBF0F8"
             },
             "line": {
              "color": "white"
             }
            },
            "header": {
             "fill": {
              "color": "#C8D4E3"
             },
             "line": {
              "color": "white"
             }
            },
            "type": "table"
           }
          ]
         },
         "layout": {
          "annotationdefaults": {
           "arrowcolor": "#2a3f5f",
           "arrowhead": 0,
           "arrowwidth": 1
          },
          "autotypenumbers": "strict",
          "coloraxis": {
           "colorbar": {
            "outlinewidth": 0,
            "ticks": ""
           }
          },
          "colorscale": {
           "diverging": [
            [
             0,
             "#8e0152"
            ],
            [
             0.1,
             "#c51b7d"
            ],
            [
             0.2,
             "#de77ae"
            ],
            [
             0.3,
             "#f1b6da"
            ],
            [
             0.4,
             "#fde0ef"
            ],
            [
             0.5,
             "#f7f7f7"
            ],
            [
             0.6,
             "#e6f5d0"
            ],
            [
             0.7,
             "#b8e186"
            ],
            [
             0.8,
             "#7fbc41"
            ],
            [
             0.9,
             "#4d9221"
            ],
            [
             1,
             "#276419"
            ]
           ],
           "sequential": [
            [
             0,
             "#0d0887"
            ],
            [
             0.1111111111111111,
             "#46039f"
            ],
            [
             0.2222222222222222,
             "#7201a8"
            ],
            [
             0.3333333333333333,
             "#9c179e"
            ],
            [
             0.4444444444444444,
             "#bd3786"
            ],
            [
             0.5555555555555556,
             "#d8576b"
            ],
            [
             0.6666666666666666,
             "#ed7953"
            ],
            [
             0.7777777777777778,
             "#fb9f3a"
            ],
            [
             0.8888888888888888,
             "#fdca26"
            ],
            [
             1,
             "#f0f921"
            ]
           ],
           "sequentialminus": [
            [
             0,
             "#0d0887"
            ],
            [
             0.1111111111111111,
             "#46039f"
            ],
            [
             0.2222222222222222,
             "#7201a8"
            ],
            [
             0.3333333333333333,
             "#9c179e"
            ],
            [
             0.4444444444444444,
             "#bd3786"
            ],
            [
             0.5555555555555556,
             "#d8576b"
            ],
            [
             0.6666666666666666,
             "#ed7953"
            ],
            [
             0.7777777777777778,
             "#fb9f3a"
            ],
            [
             0.8888888888888888,
             "#fdca26"
            ],
            [
             1,
             "#f0f921"
            ]
           ]
          },
          "colorway": [
           "#636efa",
           "#EF553B",
           "#00cc96",
           "#ab63fa",
           "#FFA15A",
           "#19d3f3",
           "#FF6692",
           "#B6E880",
           "#FF97FF",
           "#FECB52"
          ],
          "font": {
           "color": "#2a3f5f"
          },
          "geo": {
           "bgcolor": "white",
           "lakecolor": "white",
           "landcolor": "#E5ECF6",
           "showlakes": true,
           "showland": true,
           "subunitcolor": "white"
          },
          "hoverlabel": {
           "align": "left"
          },
          "hovermode": "closest",
          "mapbox": {
           "style": "light"
          },
          "paper_bgcolor": "white",
          "plot_bgcolor": "#E5ECF6",
          "polar": {
           "angularaxis": {
            "gridcolor": "white",
            "linecolor": "white",
            "ticks": ""
           },
           "bgcolor": "#E5ECF6",
           "radialaxis": {
            "gridcolor": "white",
            "linecolor": "white",
            "ticks": ""
           }
          },
          "scene": {
           "xaxis": {
            "backgroundcolor": "#E5ECF6",
            "gridcolor": "white",
            "gridwidth": 2,
            "linecolor": "white",
            "showbackground": true,
            "ticks": "",
            "zerolinecolor": "white"
           },
           "yaxis": {
            "backgroundcolor": "#E5ECF6",
            "gridcolor": "white",
            "gridwidth": 2,
            "linecolor": "white",
            "showbackground": true,
            "ticks": "",
            "zerolinecolor": "white"
           },
           "zaxis": {
            "backgroundcolor": "#E5ECF6",
            "gridcolor": "white",
            "gridwidth": 2,
            "linecolor": "white",
            "showbackground": true,
            "ticks": "",
            "zerolinecolor": "white"
           }
          },
          "shapedefaults": {
           "line": {
            "color": "#2a3f5f"
           }
          },
          "ternary": {
           "aaxis": {
            "gridcolor": "white",
            "linecolor": "white",
            "ticks": ""
           },
           "baxis": {
            "gridcolor": "white",
            "linecolor": "white",
            "ticks": ""
           },
           "bgcolor": "#E5ECF6",
           "caxis": {
            "gridcolor": "white",
            "linecolor": "white",
            "ticks": ""
           }
          },
          "title": {
           "x": 0.05
          },
          "xaxis": {
           "automargin": true,
           "gridcolor": "white",
           "linecolor": "white",
           "ticks": "",
           "title": {
            "standoff": 15
           },
           "zerolinecolor": "white",
           "zerolinewidth": 2
          },
          "yaxis": {
           "automargin": true,
           "gridcolor": "white",
           "linecolor": "white",
           "ticks": "",
           "title": {
            "standoff": 15
           },
           "zerolinecolor": "white",
           "zerolinewidth": 2
          }
         }
        },
        "xaxis": {
         "anchor": "y",
         "domain": [
          0,
          1
         ],
         "title": {
          "text": "Run time (minutes)"
         }
        },
        "yaxis": {
         "anchor": "x",
         "domain": [
          0,
          1
         ],
         "title": {
          "text": "Running mean nurse wait time"
         }
        }
       }
      }
     },
     "metadata": {},
     "output_type": "display_data"
    }
   ],
   "source": [
    "time_series_inspection(data_collection_period=1440*3, warm_up=2520)"
   ]
  },
  {
   "cell_type": "markdown",
   "metadata": {},
   "source": [
    "However, it is important to look far ahead - so we run it for more days, and find actually a later warm-up is more appropriate."
   ]
  },
  {
   "cell_type": "code",
   "execution_count": 9,
   "metadata": {},
   "outputs": [
    {
     "data": {
      "application/vnd.plotly.v1+json": {
       "config": {
        "plotlyServerURL": "https://plot.ly"
       },
       "data": [
        {
         "hovertemplate": "simulation_time=%{x}<br>utilisation=%{y}<extra></extra>",
         "legendgroup": "",
         "line": {
          "color": "#636efa",
          "dash": "solid"
         },
         "marker": {
          "symbol": "circle"
         },
         "mode": "lines",
         "name": "",
         "orientation": "v",
         "showlegend": false,
         "type": "scatter",
         "x": [
          0,
          120,
          240,
          360,
          480,
          600,
          720,
          840,
          960,
          1080,
          1200,
          1320,
          1440,
          1560,
          1680,
          1800,
          1920,
          2040,
          2160,
          2280,
          2400,
          2520,
          2640,
          2760,
          2880,
          3000,
          3120,
          3240,
          3360,
          3480,
          3600,
          3720,
          3840,
          3960,
          4080,
          4200,
          4320,
          4440,
          4560,
          4680,
          4800,
          4920,
          5040,
          5160,
          5280,
          5400,
          5520,
          5640,
          5760,
          5880,
          6000,
          6120,
          6240,
          6360,
          6480,
          6600,
          6720,
          6840,
          6960,
          7080,
          7200,
          7320,
          7440,
          7560,
          7680,
          7800,
          7920,
          8040,
          8160,
          8280,
          8400,
          8520,
          8640,
          8760,
          8880,
          9000,
          9120,
          9240,
          9360,
          9480,
          9600,
          9720,
          9840,
          9960,
          10080,
          10200,
          10320,
          10440,
          10560,
          10680,
          10800,
          10920,
          11040,
          11160,
          11280,
          11400,
          11520,
          11640,
          11760,
          11880,
          12000,
          12120,
          12240,
          12360,
          12480,
          12600,
          12720,
          12840,
          12960,
          13080,
          13200,
          13320,
          13440,
          13560,
          13680,
          13800,
          13920,
          14040,
          14160,
          14280,
          14400,
          14520,
          14640,
          14760,
          14880,
          15000,
          15120,
          15240,
          15360,
          15480,
          15600,
          15720,
          15840,
          15960,
          16080,
          16200,
          16320,
          16440,
          16560,
          16680,
          16800,
          16920,
          17040,
          17160,
          17280,
          17400,
          17520,
          17640,
          17760,
          17880,
          18000,
          18120,
          18240,
          18360,
          18480,
          18600,
          18720,
          18840,
          18960,
          19080,
          19200,
          19320,
          19440,
          19560,
          19680,
          19800,
          19920,
          20040,
          20160,
          20280,
          20400,
          20520,
          20640,
          20760,
          20880,
          21000,
          21120,
          21240,
          21360,
          21480,
          21600,
          21720,
          21840,
          21960,
          22080,
          22200,
          22320,
          22440,
          22560,
          22680,
          22800,
          22920,
          23040,
          23160,
          23280,
          23400,
          23520,
          23640,
          23760,
          23880,
          24000,
          24120,
          24240,
          24360,
          24480,
          24600,
          24720,
          24840,
          24960,
          25080,
          25200,
          25320,
          25440,
          25560,
          25680,
          25800,
          25920,
          26040,
          26160,
          26280,
          26400,
          26520,
          26640,
          26760,
          26880,
          27000,
          27120,
          27240,
          27360,
          27480,
          27600,
          27720,
          27840,
          27960,
          28080,
          28200,
          28320,
          28440,
          28560,
          28680,
          28800,
          28920,
          29040,
          29160,
          29280,
          29400,
          29520,
          29640,
          29760,
          29880,
          30000,
          30120,
          30240,
          30360,
          30480,
          30600,
          30720,
          30840,
          30960,
          31080,
          31200,
          31320,
          31440,
          31560,
          31680,
          31800,
          31920,
          32040,
          32160,
          32280,
          32400,
          32520,
          32640,
          32760,
          32880,
          33000,
          33120,
          33240,
          33360,
          33480,
          33600,
          33720,
          33840,
          33960,
          34080,
          34200,
          34320,
          34440,
          34560,
          34680,
          34800,
          34920,
          35040,
          35160,
          35280,
          35400,
          35520,
          35640,
          35760,
          35880,
          36000,
          36120,
          36240,
          36360,
          36480,
          36600,
          36720,
          36840,
          36960,
          37080,
          37200,
          37320,
          37440,
          37560,
          37680,
          37800,
          37920,
          38040,
          38160,
          38280,
          38400,
          38520,
          38640,
          38760,
          38880,
          39000,
          39120,
          39240,
          39360,
          39480,
          39600,
          39720,
          39840,
          39960,
          40080,
          40200,
          40320,
          40440,
          40560,
          40680,
          40800,
          40920,
          41040,
          41160,
          41280,
          41400,
          41520,
          41640,
          41760,
          41880,
          42000,
          42120,
          42240,
          42360,
          42480,
          42600,
          42720,
          42840,
          42960,
          43080,
          43200,
          43320,
          43440,
          43560,
          43680,
          43800,
          43920,
          44040,
          44160,
          44280,
          44400,
          44520,
          44640,
          44760,
          44880,
          45000,
          45120,
          45240,
          45360,
          45480,
          45600,
          45720,
          45840,
          45960,
          46080,
          46200,
          46320,
          46440,
          46560,
          46680,
          46800,
          46920,
          47040,
          47160,
          47280,
          47400,
          47520,
          47640,
          47760,
          47880,
          48000,
          48120,
          48240,
          48360,
          48480,
          48600,
          48720,
          48840,
          48960,
          49080,
          49200,
          49320,
          49440,
          49560,
          49680,
          49800,
          49920,
          50040,
          50160,
          50280,
          50400,
          50520,
          50640,
          50760,
          50880,
          51000,
          51120,
          51240,
          51360,
          51480,
          51600,
          51720,
          51840,
          51960,
          52080,
          52200,
          52320,
          52440,
          52560,
          52680,
          52800,
          52920,
          53040,
          53160,
          53280,
          53400,
          53520,
          53640,
          53760,
          53880,
          54000,
          54120,
          54240,
          54360,
          54480,
          54600,
          54720,
          54840,
          54960,
          55080,
          55200,
          55320,
          55440,
          55560,
          55680,
          55800,
          55920,
          56040,
          56160,
          56280,
          56400,
          56520,
          56640,
          56760,
          56880,
          57000,
          57120,
          57240,
          57360,
          57480
         ],
         "xaxis": "x",
         "y": [
          0,
          0.3,
          0.39999999999999997,
          0.35,
          0.31999999999999995,
          0.26666666666666666,
          0.2571428571428571,
          0.24999999999999997,
          0.26666666666666666,
          0.27999999999999997,
          0.2909090909090909,
          0.2833333333333333,
          0.3384615384615385,
          0.35714285714285715,
          0.3466666666666667,
          0.3875,
          0.3764705882352941,
          0.3777777777777778,
          0.38947368421052636,
          0.39,
          0.4,
          0.4090909090909091,
          0.39999999999999997,
          0.39999999999999997,
          0.4,
          0.4,
          0.41481481481481486,
          0.4,
          0.40689655172413797,
          0.42000000000000004,
          0.42580645161290326,
          0.41875,
          0.43030303030303035,
          0.4294117647058824,
          0.43428571428571433,
          0.4222222222222223,
          0.43243243243243246,
          0.4263157894736842,
          0.4307692307692308,
          0.44000000000000006,
          0.43414634146341463,
          0.44761904761904764,
          0.4372093023255814,
          0.45,
          0.4444444444444444,
          0.43478260869565216,
          0.4297872340425532,
          0.42916666666666664,
          0.4244897959183673,
          0.41999999999999993,
          0.41568627450980383,
          0.4153846153846153,
          0.411320754716981,
          0.4074074074074073,
          0.4109090909090908,
          0.40357142857142847,
          0.40701754385964906,
          0.3999999999999999,
          0.3999999999999999,
          0.39666666666666656,
          0.3999999999999999,
          0.396774193548387,
          0.40634920634920624,
          0.4124999999999999,
          0.41538461538461535,
          0.41212121212121205,
          0.41791044776119396,
          0.4205882352941176,
          0.42318840579710143,
          0.41714285714285715,
          0.4140845070422535,
          0.41944444444444445,
          0.4164383561643835,
          0.4135135135135135,
          0.4213333333333333,
          0.4184210526315789,
          0.4233766233766233,
          0.42051282051282046,
          0.42784810126582273,
          0.42749999999999994,
          0.4296296296296296,
          0.4268292682926829,
          0.42891566265060244,
          0.430952380952381,
          0.4329411764705883,
          0.43255813953488376,
          0.4344827586206897,
          0.43409090909090914,
          0.4337078651685393,
          0.4355555555555556,
          0.4351648351648352,
          0.43478260869565216,
          0.4344086021505376,
          0.4382978723404255,
          0.4357894736842105,
          0.4375,
          0.44329896907216493,
          0.44285714285714284,
          0.4484848484848485,
          0.45,
          0.4514851485148515,
          0.44901960784313727,
          0.4466019417475729,
          0.45000000000000007,
          0.4476190476190477,
          0.4471698113207548,
          0.4504672897196262,
          0.45,
          0.44770642201834865,
          0.4472727272727273,
          0.4486486486486487,
          0.4517857142857143,
          0.45132743362831856,
          0.45438596491228067,
          0.4504347826086956,
          0.446551724137931,
          0.4427350427350427,
          0.4406779661016949,
          0.4403361344537815,
          0.445,
          0.4413223140495868,
          0.4426229508196721,
          0.44390243902439025,
          0.4435483870967742,
          0.448,
          0.4492063492063492,
          0.447244094488189,
          0.44375000000000003,
          0.44496124031007755,
          0.44307692307692315,
          0.4458015267175573,
          0.446969696969697,
          0.44812030075187975,
          0.4447761194029851,
          0.44296296296296306,
          0.4397058823529413,
          0.4437956204379563,
          0.44347826086956527,
          0.4474820143884893,
          0.44714285714285723,
          0.4468085106382979,
          0.4507042253521127,
          0.45174825174825173,
          0.44999999999999996,
          0.45241379310344826,
          0.4520547945205479,
          0.45306122448979586,
          0.44999999999999996,
          0.4536912751677852,
          0.45599999999999996,
          0.45430463576158936,
          0.4526315789473684,
          0.45490196078431366,
          0.4584415584415584,
          0.45806451612903226,
          0.46153846153846156,
          0.46242038216560505,
          0.4620253164556962,
          0.46289308176100624,
          0.46624999999999994,
          0.4670807453416148,
          0.4666666666666666,
          0.46871165644171775,
          0.46829268292682924,
          0.4678787878787879,
          0.46746987951807234,
          0.4646706586826348,
          0.46428571428571436,
          0.46272189349112436,
          0.46352941176470597,
          0.4631578947368422,
          0.4627906976744187,
          0.46358381502890184,
          0.4643678160919541,
          0.4628571428571429,
          0.465909090909091,
          0.46440677966101707,
          0.4640449438202248,
          0.463687150837989,
          0.4622222222222224,
          0.465193370165746,
          0.46593406593406606,
          0.4644808743169401,
          0.4641304347826089,
          0.4616216216216218,
          0.4602150537634411,
          0.4598930481283425,
          0.4606382978723406,
          0.4592592592592595,
          0.46105263157894755,
          0.4638743455497384,
          0.4656250000000002,
          0.4683937823834199,
          0.4690721649484538,
          0.4697435897435899,
          0.46938775510204095,
          0.4700507614213199,
          0.47272727272727283,
          0.47336683417085434,
          0.4750000000000001,
          0.4756218905472637,
          0.47524752475247534,
          0.4729064039408868,
          0.4735294117647059,
          0.47317073170731716,
          0.4728155339805826,
          0.4714975845410629,
          0.46923076923076934,
          0.4708133971291867,
          0.4704761904761906,
          0.46919431279620866,
          0.46792452830188697,
          0.46572769953051657,
          0.4682242990654207,
          0.46976744186046526,
          0.4722222222222224,
          0.4737327188940093,
          0.4724770642201836,
          0.4712328767123289,
          0.47090909090909105,
          0.47058823529411786,
          0.47027027027027046,
          0.4726457399103141,
          0.4705357142857145,
          0.4728888888888891,
          0.4734513274336285,
          0.4722466960352425,
          0.47192982456140375,
          0.4707423580786029,
          0.4695652173913046,
          0.46839826839826865,
          0.47068965517241407,
          0.47124463519313325,
          0.47264957264957286,
          0.4748936170212768,
          0.4728813559322036,
          0.4725738396624475,
          0.4714285714285717,
          0.47196652719665294,
          0.4741666666666669,
          0.4730290456431538,
          0.47107438016528946,
          0.47160493827160516,
          0.4704918032786887,
          0.4702040816326533,
          0.4691056910569108,
          0.4696356275303646,
          0.4709677419354841,
          0.4714859437751006,
          0.4704000000000002,
          0.47171314741035875,
          0.4722222222222224,
          0.47430830039525707,
          0.4732283464566931,
          0.471372549019608,
          0.4734375000000002,
          0.4739299610894943,
          0.47286821705426374,
          0.47258687258687276,
          0.47230769230769254,
          0.4720306513409964,
          0.47175572519083997,
          0.4737642585551333,
          0.4719696969696972,
          0.47396226415094367,
          0.47443609022556416,
          0.4749063670411987,
          0.47537313432835837,
          0.4736059479553905,
          0.47333333333333355,
          0.47453874538745405,
          0.47352941176470603,
          0.4725274725274726,
          0.47226277372262787,
          0.4741818181818183,
          0.4746376811594204,
          0.47436823104693154,
          0.47338129496402886,
          0.47311827956989255,
          0.4742857142857144,
          0.47402135231316744,
          0.4758865248226952,
          0.47632508833922277,
          0.4781690140845072,
          0.47719298245614045,
          0.47692307692307706,
          0.4766550522648085,
          0.47708333333333347,
          0.47750865051903124,
          0.47586206896551736,
          0.4762886597938145,
          0.4773972602739727,
          0.4778156996587032,
          0.4768707482993198,
          0.4766101694915255,
          0.4756756756756757,
          0.47542087542087547,
          0.4751677852348994,
          0.47424749163879604,
          0.47400000000000003,
          0.47508305647840543,
          0.4754966887417219,
          0.4745874587458746,
          0.47302631578947374,
          0.4727868852459017,
          0.47254901960784323,
          0.472312703583062,
          0.4733766233766235,
          0.4737864077669904,
          0.47290322580645167,
          0.4726688102893892,
          0.47243589743589753,
          0.4734824281150161,
          0.472611464968153,
          0.4742857142857144,
          0.47468354430379756,
          0.47444794952681396,
          0.4735849056603774,
          0.4752351097178684,
          0.4756250000000001,
          0.47538940809968855,
          0.47515527950310565,
          0.47554179566563476,
          0.475925925925926,
          0.476923076923077,
          0.47607361963190187,
          0.4770642201834863,
          0.477439024390244,
          0.4759878419452888,
          0.4757575757575758,
          0.47734138972809675,
          0.4771084337349399,
          0.47627627627627633,
          0.4754491017964072,
          0.4740298507462687,
          0.47380952380952385,
          0.4741839762611276,
          0.47455621301775147,
          0.4731563421828909,
          0.4747058823529412,
          0.47448680351906164,
          0.47368421052631576,
          0.4728862973760933,
          0.47267441860465115,
          0.47130434782608693,
          0.46994219653179187,
          0.47031700288184436,
          0.4718390804597701,
          0.47048710601719196,
          0.4714285714285714,
          0.47065527065527063,
          0.4710227272727272,
          0.4713881019830028,
          0.47175141242937846,
          0.4715492957746478,
          0.4724719101123595,
          0.4722689075630252,
          0.4715083798882681,
          0.47186629526462387,
          0.47222222222222215,
          0.47146814404432125,
          0.47292817679558,
          0.47217630853994474,
          0.47197802197802186,
          0.47232876712328753,
          0.47158469945355175,
          0.47084468664850115,
          0.47119565217391285,
          0.4720867208672085,
          0.4729729729729728,
          0.47385444743935295,
          0.4725806451612902,
          0.47238605898123315,
          0.4737967914438502,
          0.4751999999999999,
          0.47446808510638283,
          0.4748010610079574,
          0.47460317460317447,
          0.47493403693931385,
          0.4763157894736841,
          0.47559055118110216,
          0.47591623036649194,
          0.4767624020887727,
          0.47708333333333314,
          0.47688311688311674,
          0.47823834196891174,
          0.4785529715762272,
          0.4798969072164947,
          0.47969151670951143,
          0.4789743589743588,
          0.47877237851662385,
          0.4785714285714284,
          0.4793893129770991,
          0.47969543147208105,
          0.4794936708860758,
          0.4808080808080807,
          0.48010075566750615,
          0.4793969849246229,
          0.4786967418546364,
          0.47799999999999976,
          0.47680798004987507,
          0.4761194029850744,
          0.47593052109181117,
          0.4747524752475245,
          0.47456790123456766,
          0.475862068965517,
          0.47665847665847644,
          0.47794117647058804,
          0.4792176039119802,
          0.47902439024390225,
          0.47980535279805336,
          0.47912621359223284,
          0.479418886198547,
          0.48067632850241526,
          0.4804819277108432,
          0.48076923076923056,
          0.48009592326139067,
          0.48038277511961697,
          0.4801909307875893,
          0.4804761904761902,
          0.48028503562945346,
          0.48151658767772487,
          0.4813238770685577,
          0.4801886792452828,
          0.4799999999999998,
          0.4812206572769951,
          0.48149882903981245,
          0.48130841121495305,
          0.48111888111888096,
          0.4809302325581394,
          0.4798143851508119,
          0.47916666666666646,
          0.4785219399538104,
          0.4783410138248846,
          0.4781609195402297,
          0.4775229357798163,
          0.477803203661327,
          0.4771689497716892,
          0.4774487471526193,
          0.47863636363636336,
          0.47891156462585005,
          0.47828054298642503,
          0.4776523702031599,
          0.47747747747747715,
          0.47820224719101095,
          0.4775784753363225,
          0.4769574944071585,
          0.4772321428571425,
          0.4770601336302892,
          0.477333333333333,
          0.4776053215077602,
          0.4769911504424775,
          0.47770419426048527,
          0.47753303964757676,
          0.477362637362637,
          0.4780701754385962,
          0.47921225382932137,
          0.47903930131004335,
          0.4784313725490193,
          0.4782608695652171,
          0.47852494577006477,
          0.4774891774891772,
          0.47775377969762384,
          0.47801724137931,
          0.4791397849462362,
          0.48025751072961337,
          0.4813704496788005,
          0.4811965811965809,
          0.48059701492537277,
          0.4812765957446805,
          0.4806794055201695,
          0.4813559322033895,
          0.48118393234672274,
          0.4810126582278478,
          0.4812631578947365,
          0.4810924369747896,
          0.4817610062893079,
          0.4815899581589956,
          0.48100208768267194,
          0.4804166666666664
         ],
         "yaxis": "y"
        }
       ],
       "layout": {
        "legend": {
         "tracegroupgap": 0
        },
        "margin": {
         "t": 60
        },
        "shapes": [
         {
          "line": {
           "color": "red",
           "dash": "dash"
          },
          "type": "line",
          "x0": 18720,
          "x1": 18720,
          "xref": "x",
          "y0": 0,
          "y1": 1,
          "yref": "y domain"
         }
        ],
        "showlegend": false,
        "template": {
         "data": {
          "bar": [
           {
            "error_x": {
             "color": "#2a3f5f"
            },
            "error_y": {
             "color": "#2a3f5f"
            },
            "marker": {
             "line": {
              "color": "#E5ECF6",
              "width": 0.5
             },
             "pattern": {
              "fillmode": "overlay",
              "size": 10,
              "solidity": 0.2
             }
            },
            "type": "bar"
           }
          ],
          "barpolar": [
           {
            "marker": {
             "line": {
              "color": "#E5ECF6",
              "width": 0.5
             },
             "pattern": {
              "fillmode": "overlay",
              "size": 10,
              "solidity": 0.2
             }
            },
            "type": "barpolar"
           }
          ],
          "carpet": [
           {
            "aaxis": {
             "endlinecolor": "#2a3f5f",
             "gridcolor": "white",
             "linecolor": "white",
             "minorgridcolor": "white",
             "startlinecolor": "#2a3f5f"
            },
            "baxis": {
             "endlinecolor": "#2a3f5f",
             "gridcolor": "white",
             "linecolor": "white",
             "minorgridcolor": "white",
             "startlinecolor": "#2a3f5f"
            },
            "type": "carpet"
           }
          ],
          "choropleth": [
           {
            "colorbar": {
             "outlinewidth": 0,
             "ticks": ""
            },
            "type": "choropleth"
           }
          ],
          "contour": [
           {
            "colorbar": {
             "outlinewidth": 0,
             "ticks": ""
            },
            "colorscale": [
             [
              0,
              "#0d0887"
             ],
             [
              0.1111111111111111,
              "#46039f"
             ],
             [
              0.2222222222222222,
              "#7201a8"
             ],
             [
              0.3333333333333333,
              "#9c179e"
             ],
             [
              0.4444444444444444,
              "#bd3786"
             ],
             [
              0.5555555555555556,
              "#d8576b"
             ],
             [
              0.6666666666666666,
              "#ed7953"
             ],
             [
              0.7777777777777778,
              "#fb9f3a"
             ],
             [
              0.8888888888888888,
              "#fdca26"
             ],
             [
              1,
              "#f0f921"
             ]
            ],
            "type": "contour"
           }
          ],
          "contourcarpet": [
           {
            "colorbar": {
             "outlinewidth": 0,
             "ticks": ""
            },
            "type": "contourcarpet"
           }
          ],
          "heatmap": [
           {
            "colorbar": {
             "outlinewidth": 0,
             "ticks": ""
            },
            "colorscale": [
             [
              0,
              "#0d0887"
             ],
             [
              0.1111111111111111,
              "#46039f"
             ],
             [
              0.2222222222222222,
              "#7201a8"
             ],
             [
              0.3333333333333333,
              "#9c179e"
             ],
             [
              0.4444444444444444,
              "#bd3786"
             ],
             [
              0.5555555555555556,
              "#d8576b"
             ],
             [
              0.6666666666666666,
              "#ed7953"
             ],
             [
              0.7777777777777778,
              "#fb9f3a"
             ],
             [
              0.8888888888888888,
              "#fdca26"
             ],
             [
              1,
              "#f0f921"
             ]
            ],
            "type": "heatmap"
           }
          ],
          "heatmapgl": [
           {
            "colorbar": {
             "outlinewidth": 0,
             "ticks": ""
            },
            "colorscale": [
             [
              0,
              "#0d0887"
             ],
             [
              0.1111111111111111,
              "#46039f"
             ],
             [
              0.2222222222222222,
              "#7201a8"
             ],
             [
              0.3333333333333333,
              "#9c179e"
             ],
             [
              0.4444444444444444,
              "#bd3786"
             ],
             [
              0.5555555555555556,
              "#d8576b"
             ],
             [
              0.6666666666666666,
              "#ed7953"
             ],
             [
              0.7777777777777778,
              "#fb9f3a"
             ],
             [
              0.8888888888888888,
              "#fdca26"
             ],
             [
              1,
              "#f0f921"
             ]
            ],
            "type": "heatmapgl"
           }
          ],
          "histogram": [
           {
            "marker": {
             "pattern": {
              "fillmode": "overlay",
              "size": 10,
              "solidity": 0.2
             }
            },
            "type": "histogram"
           }
          ],
          "histogram2d": [
           {
            "colorbar": {
             "outlinewidth": 0,
             "ticks": ""
            },
            "colorscale": [
             [
              0,
              "#0d0887"
             ],
             [
              0.1111111111111111,
              "#46039f"
             ],
             [
              0.2222222222222222,
              "#7201a8"
             ],
             [
              0.3333333333333333,
              "#9c179e"
             ],
             [
              0.4444444444444444,
              "#bd3786"
             ],
             [
              0.5555555555555556,
              "#d8576b"
             ],
             [
              0.6666666666666666,
              "#ed7953"
             ],
             [
              0.7777777777777778,
              "#fb9f3a"
             ],
             [
              0.8888888888888888,
              "#fdca26"
             ],
             [
              1,
              "#f0f921"
             ]
            ],
            "type": "histogram2d"
           }
          ],
          "histogram2dcontour": [
           {
            "colorbar": {
             "outlinewidth": 0,
             "ticks": ""
            },
            "colorscale": [
             [
              0,
              "#0d0887"
             ],
             [
              0.1111111111111111,
              "#46039f"
             ],
             [
              0.2222222222222222,
              "#7201a8"
             ],
             [
              0.3333333333333333,
              "#9c179e"
             ],
             [
              0.4444444444444444,
              "#bd3786"
             ],
             [
              0.5555555555555556,
              "#d8576b"
             ],
             [
              0.6666666666666666,
              "#ed7953"
             ],
             [
              0.7777777777777778,
              "#fb9f3a"
             ],
             [
              0.8888888888888888,
              "#fdca26"
             ],
             [
              1,
              "#f0f921"
             ]
            ],
            "type": "histogram2dcontour"
           }
          ],
          "mesh3d": [
           {
            "colorbar": {
             "outlinewidth": 0,
             "ticks": ""
            },
            "type": "mesh3d"
           }
          ],
          "parcoords": [
           {
            "line": {
             "colorbar": {
              "outlinewidth": 0,
              "ticks": ""
             }
            },
            "type": "parcoords"
           }
          ],
          "pie": [
           {
            "automargin": true,
            "type": "pie"
           }
          ],
          "scatter": [
           {
            "fillpattern": {
             "fillmode": "overlay",
             "size": 10,
             "solidity": 0.2
            },
            "type": "scatter"
           }
          ],
          "scatter3d": [
           {
            "line": {
             "colorbar": {
              "outlinewidth": 0,
              "ticks": ""
             }
            },
            "marker": {
             "colorbar": {
              "outlinewidth": 0,
              "ticks": ""
             }
            },
            "type": "scatter3d"
           }
          ],
          "scattercarpet": [
           {
            "marker": {
             "colorbar": {
              "outlinewidth": 0,
              "ticks": ""
             }
            },
            "type": "scattercarpet"
           }
          ],
          "scattergeo": [
           {
            "marker": {
             "colorbar": {
              "outlinewidth": 0,
              "ticks": ""
             }
            },
            "type": "scattergeo"
           }
          ],
          "scattergl": [
           {
            "marker": {
             "colorbar": {
              "outlinewidth": 0,
              "ticks": ""
             }
            },
            "type": "scattergl"
           }
          ],
          "scattermapbox": [
           {
            "marker": {
             "colorbar": {
              "outlinewidth": 0,
              "ticks": ""
             }
            },
            "type": "scattermapbox"
           }
          ],
          "scatterpolar": [
           {
            "marker": {
             "colorbar": {
              "outlinewidth": 0,
              "ticks": ""
             }
            },
            "type": "scatterpolar"
           }
          ],
          "scatterpolargl": [
           {
            "marker": {
             "colorbar": {
              "outlinewidth": 0,
              "ticks": ""
             }
            },
            "type": "scatterpolargl"
           }
          ],
          "scatterternary": [
           {
            "marker": {
             "colorbar": {
              "outlinewidth": 0,
              "ticks": ""
             }
            },
            "type": "scatterternary"
           }
          ],
          "surface": [
           {
            "colorbar": {
             "outlinewidth": 0,
             "ticks": ""
            },
            "colorscale": [
             [
              0,
              "#0d0887"
             ],
             [
              0.1111111111111111,
              "#46039f"
             ],
             [
              0.2222222222222222,
              "#7201a8"
             ],
             [
              0.3333333333333333,
              "#9c179e"
             ],
             [
              0.4444444444444444,
              "#bd3786"
             ],
             [
              0.5555555555555556,
              "#d8576b"
             ],
             [
              0.6666666666666666,
              "#ed7953"
             ],
             [
              0.7777777777777778,
              "#fb9f3a"
             ],
             [
              0.8888888888888888,
              "#fdca26"
             ],
             [
              1,
              "#f0f921"
             ]
            ],
            "type": "surface"
           }
          ],
          "table": [
           {
            "cells": {
             "fill": {
              "color": "#EBF0F8"
             },
             "line": {
              "color": "white"
             }
            },
            "header": {
             "fill": {
              "color": "#C8D4E3"
             },
             "line": {
              "color": "white"
             }
            },
            "type": "table"
           }
          ]
         },
         "layout": {
          "annotationdefaults": {
           "arrowcolor": "#2a3f5f",
           "arrowhead": 0,
           "arrowwidth": 1
          },
          "autotypenumbers": "strict",
          "coloraxis": {
           "colorbar": {
            "outlinewidth": 0,
            "ticks": ""
           }
          },
          "colorscale": {
           "diverging": [
            [
             0,
             "#8e0152"
            ],
            [
             0.1,
             "#c51b7d"
            ],
            [
             0.2,
             "#de77ae"
            ],
            [
             0.3,
             "#f1b6da"
            ],
            [
             0.4,
             "#fde0ef"
            ],
            [
             0.5,
             "#f7f7f7"
            ],
            [
             0.6,
             "#e6f5d0"
            ],
            [
             0.7,
             "#b8e186"
            ],
            [
             0.8,
             "#7fbc41"
            ],
            [
             0.9,
             "#4d9221"
            ],
            [
             1,
             "#276419"
            ]
           ],
           "sequential": [
            [
             0,
             "#0d0887"
            ],
            [
             0.1111111111111111,
             "#46039f"
            ],
            [
             0.2222222222222222,
             "#7201a8"
            ],
            [
             0.3333333333333333,
             "#9c179e"
            ],
            [
             0.4444444444444444,
             "#bd3786"
            ],
            [
             0.5555555555555556,
             "#d8576b"
            ],
            [
             0.6666666666666666,
             "#ed7953"
            ],
            [
             0.7777777777777778,
             "#fb9f3a"
            ],
            [
             0.8888888888888888,
             "#fdca26"
            ],
            [
             1,
             "#f0f921"
            ]
           ],
           "sequentialminus": [
            [
             0,
             "#0d0887"
            ],
            [
             0.1111111111111111,
             "#46039f"
            ],
            [
             0.2222222222222222,
             "#7201a8"
            ],
            [
             0.3333333333333333,
             "#9c179e"
            ],
            [
             0.4444444444444444,
             "#bd3786"
            ],
            [
             0.5555555555555556,
             "#d8576b"
            ],
            [
             0.6666666666666666,
             "#ed7953"
            ],
            [
             0.7777777777777778,
             "#fb9f3a"
            ],
            [
             0.8888888888888888,
             "#fdca26"
            ],
            [
             1,
             "#f0f921"
            ]
           ]
          },
          "colorway": [
           "#636efa",
           "#EF553B",
           "#00cc96",
           "#ab63fa",
           "#FFA15A",
           "#19d3f3",
           "#FF6692",
           "#B6E880",
           "#FF97FF",
           "#FECB52"
          ],
          "font": {
           "color": "#2a3f5f"
          },
          "geo": {
           "bgcolor": "white",
           "lakecolor": "white",
           "landcolor": "#E5ECF6",
           "showlakes": true,
           "showland": true,
           "subunitcolor": "white"
          },
          "hoverlabel": {
           "align": "left"
          },
          "hovermode": "closest",
          "mapbox": {
           "style": "light"
          },
          "paper_bgcolor": "white",
          "plot_bgcolor": "#E5ECF6",
          "polar": {
           "angularaxis": {
            "gridcolor": "white",
            "linecolor": "white",
            "ticks": ""
           },
           "bgcolor": "#E5ECF6",
           "radialaxis": {
            "gridcolor": "white",
            "linecolor": "white",
            "ticks": ""
           }
          },
          "scene": {
           "xaxis": {
            "backgroundcolor": "#E5ECF6",
            "gridcolor": "white",
            "gridwidth": 2,
            "linecolor": "white",
            "showbackground": true,
            "ticks": "",
            "zerolinecolor": "white"
           },
           "yaxis": {
            "backgroundcolor": "#E5ECF6",
            "gridcolor": "white",
            "gridwidth": 2,
            "linecolor": "white",
            "showbackground": true,
            "ticks": "",
            "zerolinecolor": "white"
           },
           "zaxis": {
            "backgroundcolor": "#E5ECF6",
            "gridcolor": "white",
            "gridwidth": 2,
            "linecolor": "white",
            "showbackground": true,
            "ticks": "",
            "zerolinecolor": "white"
           }
          },
          "shapedefaults": {
           "line": {
            "color": "#2a3f5f"
           }
          },
          "ternary": {
           "aaxis": {
            "gridcolor": "white",
            "linecolor": "white",
            "ticks": ""
           },
           "baxis": {
            "gridcolor": "white",
            "linecolor": "white",
            "ticks": ""
           },
           "bgcolor": "#E5ECF6",
           "caxis": {
            "gridcolor": "white",
            "linecolor": "white",
            "ticks": ""
           }
          },
          "title": {
           "x": 0.05
          },
          "xaxis": {
           "automargin": true,
           "gridcolor": "white",
           "linecolor": "white",
           "ticks": "",
           "title": {
            "standoff": 15
           },
           "zerolinecolor": "white",
           "zerolinewidth": 2
          },
          "yaxis": {
           "automargin": true,
           "gridcolor": "white",
           "linecolor": "white",
           "ticks": "",
           "title": {
            "standoff": 15
           },
           "zerolinecolor": "white",
           "zerolinewidth": 2
          }
         }
        },
        "xaxis": {
         "anchor": "y",
         "domain": [
          0,
          1
         ],
         "title": {
          "text": "Run time (minutes)"
         }
        },
        "yaxis": {
         "anchor": "x",
         "domain": [
          0,
          1
         ],
         "title": {
          "text": "Cumulative mean nurse utilisation"
         }
        }
       }
      }
     },
     "metadata": {},
     "output_type": "display_data"
    },
    {
     "data": {
      "application/vnd.plotly.v1+json": {
       "config": {
        "plotlyServerURL": "https://plot.ly"
       },
       "data": [
        {
         "hovertemplate": "simulation_time=%{x}<br>running_mean_wait_time=%{y}<extra></extra>",
         "legendgroup": "",
         "line": {
          "color": "#636efa",
          "dash": "solid"
         },
         "marker": {
          "symbol": "circle"
         },
         "mode": "lines",
         "name": "",
         "orientation": "v",
         "showlegend": false,
         "type": "scatter",
         "x": [
          0,
          120,
          240,
          360,
          480,
          600,
          720,
          840,
          960,
          1080,
          1200,
          1320,
          1440,
          1560,
          1680,
          1800,
          1920,
          2040,
          2160,
          2280,
          2400,
          2520,
          2640,
          2760,
          2880,
          3000,
          3120,
          3240,
          3360,
          3480,
          3600,
          3720,
          3840,
          3960,
          4080,
          4200,
          4320,
          4440,
          4560,
          4680,
          4800,
          4920,
          5040,
          5160,
          5280,
          5400,
          5520,
          5640,
          5760,
          5880,
          6000,
          6120,
          6240,
          6360,
          6480,
          6600,
          6720,
          6840,
          6960,
          7080,
          7200,
          7320,
          7440,
          7560,
          7680,
          7800,
          7920,
          8040,
          8160,
          8280,
          8400,
          8520,
          8640,
          8760,
          8880,
          9000,
          9120,
          9240,
          9360,
          9480,
          9600,
          9720,
          9840,
          9960,
          10080,
          10200,
          10320,
          10440,
          10560,
          10680,
          10800,
          10920,
          11040,
          11160,
          11280,
          11400,
          11520,
          11640,
          11760,
          11880,
          12000,
          12120,
          12240,
          12360,
          12480,
          12600,
          12720,
          12840,
          12960,
          13080,
          13200,
          13320,
          13440,
          13560,
          13680,
          13800,
          13920,
          14040,
          14160,
          14280,
          14400,
          14520,
          14640,
          14760,
          14880,
          15000,
          15120,
          15240,
          15360,
          15480,
          15600,
          15720,
          15840,
          15960,
          16080,
          16200,
          16320,
          16440,
          16560,
          16680,
          16800,
          16920,
          17040,
          17160,
          17280,
          17400,
          17520,
          17640,
          17760,
          17880,
          18000,
          18120,
          18240,
          18360,
          18480,
          18600,
          18720,
          18840,
          18960,
          19080,
          19200,
          19320,
          19440,
          19560,
          19680,
          19800,
          19920,
          20040,
          20160,
          20280,
          20400,
          20520,
          20640,
          20760,
          20880,
          21000,
          21120,
          21240,
          21360,
          21480,
          21600,
          21720,
          21840,
          21960,
          22080,
          22200,
          22320,
          22440,
          22560,
          22680,
          22800,
          22920,
          23040,
          23160,
          23280,
          23400,
          23520,
          23640,
          23760,
          23880,
          24000,
          24120,
          24240,
          24360,
          24480,
          24600,
          24720,
          24840,
          24960,
          25080,
          25200,
          25320,
          25440,
          25560,
          25680,
          25800,
          25920,
          26040,
          26160,
          26280,
          26400,
          26520,
          26640,
          26760,
          26880,
          27000,
          27120,
          27240,
          27360,
          27480,
          27600,
          27720,
          27840,
          27960,
          28080,
          28200,
          28320,
          28440,
          28560,
          28680,
          28800,
          28920,
          29040,
          29160,
          29280,
          29400,
          29520,
          29640,
          29760,
          29880,
          30000,
          30120,
          30240,
          30360,
          30480,
          30600,
          30720,
          30840,
          30960,
          31080,
          31200,
          31320,
          31440,
          31560,
          31680,
          31800,
          31920,
          32040,
          32160,
          32280,
          32400,
          32520,
          32640,
          32760,
          32880,
          33000,
          33120,
          33240,
          33360,
          33480,
          33600,
          33720,
          33840,
          33960,
          34080,
          34200,
          34320,
          34440,
          34560,
          34680,
          34800,
          34920,
          35040,
          35160,
          35280,
          35400,
          35520,
          35640,
          35760,
          35880,
          36000,
          36120,
          36240,
          36360,
          36480,
          36600,
          36720,
          36840,
          36960,
          37080,
          37200,
          37320,
          37440,
          37560,
          37680,
          37800,
          37920,
          38040,
          38160,
          38280,
          38400,
          38520,
          38640,
          38760,
          38880,
          39000,
          39120,
          39240,
          39360,
          39480,
          39600,
          39720,
          39840,
          39960,
          40080,
          40200,
          40320,
          40440,
          40560,
          40680,
          40800,
          40920,
          41040,
          41160,
          41280,
          41400,
          41520,
          41640,
          41760,
          41880,
          42000,
          42120,
          42240,
          42360,
          42480,
          42600,
          42720,
          42840,
          42960,
          43080,
          43200,
          43320,
          43440,
          43560,
          43680,
          43800,
          43920,
          44040,
          44160,
          44280,
          44400,
          44520,
          44640,
          44760,
          44880,
          45000,
          45120,
          45240,
          45360,
          45480,
          45600,
          45720,
          45840,
          45960,
          46080,
          46200,
          46320,
          46440,
          46560,
          46680,
          46800,
          46920,
          47040,
          47160,
          47280,
          47400,
          47520,
          47640,
          47760,
          47880,
          48000,
          48120,
          48240,
          48360,
          48480,
          48600,
          48720,
          48840,
          48960,
          49080,
          49200,
          49320,
          49440,
          49560,
          49680,
          49800,
          49920,
          50040,
          50160,
          50280,
          50400,
          50520,
          50640,
          50760,
          50880,
          51000,
          51120,
          51240,
          51360,
          51480,
          51600,
          51720,
          51840,
          51960,
          52080,
          52200,
          52320,
          52440,
          52560,
          52680,
          52800,
          52920,
          53040,
          53160,
          53280,
          53400,
          53520,
          53640,
          53760,
          53880,
          54000,
          54120,
          54240,
          54360,
          54480,
          54600,
          54720,
          54840,
          54960,
          55080,
          55200,
          55320,
          55440,
          55560,
          55680,
          55800,
          55920,
          56040,
          56160,
          56280,
          56400,
          56520,
          56640,
          56760,
          56880,
          57000,
          57120,
          57240,
          57360,
          57480
         ],
         "xaxis": "x",
         "y": [
          0,
          0.1850812125177364,
          0.27293124698759036,
          0.16748053792420323,
          0.12815902032460771,
          0.10757873968853933,
          0.7775449421583632,
          0.6405489285399849,
          0.5855465140647299,
          0.5957191187844486,
          0.548688662038308,
          0.5817940262693283,
          0.5353593851431566,
          0.4954821346023178,
          0.47245100669119877,
          0.4868107775118521,
          0.46015274287212593,
          0.44014610187768555,
          0.4227129753701152,
          0.4000169766925251,
          0.3857768901436003,
          0.4124383536388688,
          0.3977084124374807,
          0.37748595078811714,
          0.45739615362189323,
          0.44211042098157305,
          0.44090411421823766,
          0.428276788751367,
          0.412287664630186,
          0.4016807112895885,
          0.4117119594328106,
          0.40236404193605335,
          0.3973051982695963,
          0.4218534759267196,
          0.40954103826584787,
          0.401190803936053,
          0.3936752248630797,
          0.38673209920411894,
          0.37741325344016424,
          0.3790608189493043,
          0.3704521229859087,
          0.3666684112093553,
          0.35982012959921933,
          0.3541981683964747,
          0.38523896779470446,
          0.3801402167503627,
          0.396941843930088,
          0.3886027295618088,
          0.3819165160456043,
          0.38628700852869746,
          0.3791352962464029,
          0.375115528085878,
          0.3700852432264889,
          0.36449905087590034,
          0.3581912799089502,
          0.3514575445073871,
          0.3462087759215539,
          0.35781845886993224,
          0.3884708700783271,
          0.3822807037955309,
          0.3857614550170858,
          0.3805001149322918,
          0.3841437176412842,
          0.38140246619005375,
          0.3780264734740002,
          0.38048338443571317,
          0.3910980358329828,
          0.44307813054061207,
          0.44115445318264646,
          0.44361513727966445,
          0.43838714241240806,
          0.4377580524118717,
          0.4335060084245224,
          0.4285505213597702,
          0.42626413266078583,
          0.4250180083345155,
          0.42150248228749787,
          0.41589355757239915,
          0.42145016535205815,
          0.44027556960662306,
          0.4353471117378922,
          0.4305277710175466,
          0.46993365458393677,
          0.4647376423044281,
          0.46157742166213167,
          0.45787482017504816,
          0.4831754631715794,
          0.4833357962795798,
          0.48300620316176707,
          0.4798689908515143,
          0.47494426312936056,
          0.470272680213334,
          0.4698121041492425,
          0.4643084479771,
          0.45909333027430366,
          0.4549415297222578,
          0.4568906748912471,
          0.4543350074193327,
          0.4783073604122729,
          0.49286863973483025,
          0.48783439662715994,
          0.4843709933532162,
          0.4808041204907635,
          0.4776979100144966,
          0.477423508162683,
          0.47412057823199766,
          0.4702082937379254,
          0.4671531037105441,
          0.4643660927444776,
          0.46107846702166944,
          0.45760448659224656,
          0.45396324793944076,
          0.45613929588140695,
          0.45251594754695623,
          0.4535325408966958,
          0.45102974732218604,
          0.4487611252072768,
          0.4447886537962473,
          0.44082916200063704,
          0.44801743945307104,
          0.44918327131031816,
          0.44633406688667304,
          0.4438855084699072,
          0.4407493608557178,
          0.4401384555583535,
          0.43717335065370905,
          0.4373158525933378,
          0.4403461307322662,
          0.4361043169241189,
          0.4371090202310064,
          0.4335279939515921,
          0.4308804947518877,
          0.43355005344792485,
          0.43168599160180954,
          0.4285749345052756,
          0.4260134935335736,
          0.4230884376682131,
          0.42458741107824094,
          0.4216793375678051,
          0.4324950783003846,
          0.42940509203007926,
          0.42747013885075374,
          0.4291093930183234,
          0.4271522789084772,
          0.4235114969873499,
          0.42852405654047804,
          0.4259734270383347,
          0.4249648373783751,
          0.42682623018822213,
          0.44001310808118466,
          0.4392556508851206,
          0.43775646943895313,
          0.4374400111857146,
          0.4349150070337013,
          0.43269200986280654,
          0.43046641872763575,
          0.4276253586934529,
          0.4251812679473218,
          0.423041235915345,
          0.42740773620080935,
          0.44085442604884445,
          0.43881341201899193,
          0.43620624362141963,
          0.43493662689076,
          0.43170676992779433,
          0.4321484491946318,
          0.42998943416068586,
          0.4274269226341025,
          0.4256683537664904,
          0.4475974503427971,
          0.44506766549385124,
          0.44329239040217233,
          0.44141859156509083,
          0.4389676746293473,
          0.4453810304867603,
          0.44276857789544727,
          0.44062679583749054,
          0.4379382425140786,
          0.43541339863869505,
          0.43323794309405317,
          0.432677344808932,
          0.4338988889218631,
          0.43319477000587975,
          0.43078509306240736,
          0.42891738011385233,
          0.4409065434818109,
          0.43964020054183256,
          0.4374575896171569,
          0.4350662679317166,
          0.4329287252922907,
          0.4319952677678144,
          0.4304895655907654,
          0.42853847084935937,
          0.4320731023635356,
          0.4300110524460004,
          0.42897982369652776,
          0.4702039412350683,
          0.46752021889127243,
          0.4667678551466583,
          0.4644704386332219,
          0.4651659138109862,
          0.4634852355216379,
          0.4740068171219543,
          0.4916165075017119,
          0.4913272753204745,
          0.48884989133338885,
          0.48689823894064926,
          0.48449972544833086,
          0.48272512618668323,
          0.4814299356650332,
          0.4798479764450189,
          0.47910418079672934,
          0.47846891365760524,
          0.4875642507877192,
          0.4852917417368004,
          0.4835037463727102,
          0.4820067862774509,
          0.47973213102176504,
          0.4777636407006733,
          0.4758177034101442,
          0.47405531663541983,
          0.4726362017824475,
          0.4715104481002665,
          0.47064351006274896,
          0.475988542712476,
          0.4757559011157227,
          0.4740494468811493,
          0.4764058202237804,
          0.4746096265860458,
          0.47323712911182353,
          0.4864835499625991,
          0.48490769808510664,
          0.489296257258989,
          0.48730420618338044,
          0.48494115216582767,
          0.48371085748802856,
          0.48398807536897026,
          0.4822293486101174,
          0.4806935112100291,
          0.4993371227786035,
          0.4995618700065461,
          0.4977769849412486,
          0.4953273340570725,
          0.4940444524666848,
          0.4917685909046258,
          0.4904376880875632,
          0.49152302465222514,
          0.4894756927870687,
          0.49015693546541594,
          0.4890430187610261,
          0.48736045709796055,
          0.4863903055455151,
          0.48447513174759327,
          0.4827643249784086,
          0.48106678643229467,
          0.4836437561810941,
          0.4884427620789517,
          0.4871763378330814,
          0.486797742126044,
          0.48531015327960864,
          0.4833896374149022,
          0.48186166410154124,
          0.49146212751730006,
          0.49264009260729813,
          0.49191858525866405,
          0.4907014022394553,
          0.49261296328031845,
          0.4921015679229963,
          0.4914086624541346,
          0.4969362948105312,
          0.49451781910881315,
          0.49301818962340316,
          0.493139981657704,
          0.492699364995897,
          0.49277356882964113,
          0.49317461759100745,
          0.4914723962258396,
          0.48976342816070856,
          0.4904248212924081,
          0.48903797132056664,
          0.4884068002214369,
          0.48711895935448624,
          0.4873226837541425,
          0.49158019503215583,
          0.4958158729868385,
          0.4936455005443202,
          0.49222795660754004,
          0.49185825796855026,
          0.4907109054163872,
          0.489343917739968,
          0.4877925556819155,
          0.48619612366354564,
          0.486287440867833,
          0.4847623458471903,
          0.483160359919501,
          0.4821317832100534,
          0.48108965522126484,
          0.4792856353384454,
          0.477915193622972,
          0.4771715317521856,
          0.47540095092935736,
          0.4832525754428418,
          0.4828573167794596,
          0.48157811585936067,
          0.48387973537706797,
          0.48284036316059925,
          0.48154741017441516,
          0.47963204375218293,
          0.47850950572257184,
          0.4856936495040175,
          0.4844622267712798,
          0.48303053978035587,
          0.4813567786869736,
          0.48213279108769436,
          0.4855192338311378,
          0.4914412137579184,
          0.4968012766088033,
          0.495368245214444,
          0.4936459148090579,
          0.49241085423502734,
          0.49115649742270767,
          0.4907057306199548,
          0.48909422038328926,
          0.4881543204958327,
          0.48697222951693037,
          0.4856003387405469,
          0.48418757692037484,
          0.4832180383202139,
          0.4824021237355283,
          0.4814407803243376,
          0.4842048046699344,
          0.48344188875529487,
          0.48204287246278493,
          0.4848959388377649,
          0.4840799682843253,
          0.4890862181258771,
          0.48878797611411606,
          0.48885375143389437,
          0.494892473360869,
          0.49399723385099115,
          0.4931123704338077,
          0.49249891976792615,
          0.4912199550454755,
          0.4903288743555896,
          0.48902157969914734,
          0.4879992996959754,
          0.4868712140054762,
          0.4861915279175096,
          0.48536695995645,
          0.4843236658508559,
          0.48663843454464756,
          0.486050464733403,
          0.4847361313084035,
          0.4835651623021766,
          0.482489278006705,
          0.48176911227708563,
          0.48052394198005355,
          0.4811855868054409,
          0.48144254344162696,
          0.48103156880001835,
          0.47967457738744224,
          0.47884700811625347,
          0.49196555461057123,
          0.49222525048814225,
          0.4912501081638973,
          0.48997058120712045,
          0.48894659574253924,
          0.48794089267492363,
          0.4865485163091667,
          0.4853580213651703,
          0.48396950274010103,
          0.4829846935245811,
          0.48181967470630627,
          0.48051324701195713,
          0.47923740727072767,
          0.4779798963621191,
          0.47689537962371126,
          0.4828739824522451,
          0.4820358050829477,
          0.4926867231089775,
          0.49178039062325446,
          0.4904923907821662,
          0.4892820364317005,
          0.4881507969229101,
          0.48747610260278873,
          0.4863261927316303,
          0.4851703372527671,
          0.48501728577287934,
          0.48415710816953234,
          0.4829742475008788,
          0.48281871650789765,
          0.482582448609397,
          0.4840848163873462,
          0.483277806607589,
          0.4822728203186862,
          0.4843148414272392,
          0.4865297696253941,
          0.4860132381985209,
          0.48506136086802726,
          0.48394444326076536,
          0.4826077646158507,
          0.4813446001738657,
          0.4802286137100032,
          0.479251029202003,
          0.4783551600804453,
          0.48054923966902224,
          0.48106999550397506,
          0.4806279758469445,
          0.4808429110366816,
          0.48097972273284084,
          0.47994751232637756,
          0.4792573468104413,
          0.4784162090657402,
          0.4780298724945213,
          0.48064337121961886,
          0.4793879310383423,
          0.4792118622596814,
          0.4782301802222758,
          0.47721498918005556,
          0.47616674098855616,
          0.475723113180055,
          0.476021897541076,
          0.47535215376141815,
          0.47439147315529323,
          0.47528448022802533,
          0.4749294823095646,
          0.47453056976025687,
          0.47647632372478615,
          0.47690981877366473,
          0.476106817395047,
          0.4750524380361729,
          0.47462257108108463,
          0.47437313071250126,
          0.47536192894997076,
          0.4742479117291173,
          0.47446809107028376,
          0.47332565473362087,
          0.47240146826448026,
          0.47119475722708776,
          0.4710887899426334,
          0.47556882534238837,
          0.4747551009722891,
          0.47492126514372707,
          0.4793202224319916,
          0.47849867906699817,
          0.4773686452861756,
          0.47777444860024504,
          0.4764105697587513,
          0.47691942462908943,
          0.4761460279284954,
          0.47556841158595875,
          0.4745197957457272,
          0.47365822301759564,
          0.4727020046022226,
          0.4719453417259112,
          0.47917328952650773,
          0.4790636246109847,
          0.47877874028183864,
          0.4776654887343246,
          0.4767082432659191,
          0.4758907955781238,
          0.4793678981448613,
          0.47824310145552823,
          0.47998150657581995,
          0.4793904205834992,
          0.4835712940840089,
          0.48347625611477696,
          0.4844570699566931,
          0.48367645396895276,
          0.4828934391793077,
          0.4822635791446351,
          0.48137682439925916,
          0.48095402954096433,
          0.4801528289642319,
          0.484079412380386,
          0.4833123031027946,
          0.4825960272491216,
          0.48270616964234175,
          0.48574094851801636,
          0.4847409328403097
         ],
         "yaxis": "y"
        }
       ],
       "layout": {
        "legend": {
         "tracegroupgap": 0
        },
        "margin": {
         "t": 60
        },
        "shapes": [
         {
          "line": {
           "color": "red",
           "dash": "dash"
          },
          "type": "line",
          "x0": 18720,
          "x1": 18720,
          "xref": "x",
          "y0": 0,
          "y1": 1,
          "yref": "y domain"
         }
        ],
        "showlegend": false,
        "template": {
         "data": {
          "bar": [
           {
            "error_x": {
             "color": "#2a3f5f"
            },
            "error_y": {
             "color": "#2a3f5f"
            },
            "marker": {
             "line": {
              "color": "#E5ECF6",
              "width": 0.5
             },
             "pattern": {
              "fillmode": "overlay",
              "size": 10,
              "solidity": 0.2
             }
            },
            "type": "bar"
           }
          ],
          "barpolar": [
           {
            "marker": {
             "line": {
              "color": "#E5ECF6",
              "width": 0.5
             },
             "pattern": {
              "fillmode": "overlay",
              "size": 10,
              "solidity": 0.2
             }
            },
            "type": "barpolar"
           }
          ],
          "carpet": [
           {
            "aaxis": {
             "endlinecolor": "#2a3f5f",
             "gridcolor": "white",
             "linecolor": "white",
             "minorgridcolor": "white",
             "startlinecolor": "#2a3f5f"
            },
            "baxis": {
             "endlinecolor": "#2a3f5f",
             "gridcolor": "white",
             "linecolor": "white",
             "minorgridcolor": "white",
             "startlinecolor": "#2a3f5f"
            },
            "type": "carpet"
           }
          ],
          "choropleth": [
           {
            "colorbar": {
             "outlinewidth": 0,
             "ticks": ""
            },
            "type": "choropleth"
           }
          ],
          "contour": [
           {
            "colorbar": {
             "outlinewidth": 0,
             "ticks": ""
            },
            "colorscale": [
             [
              0,
              "#0d0887"
             ],
             [
              0.1111111111111111,
              "#46039f"
             ],
             [
              0.2222222222222222,
              "#7201a8"
             ],
             [
              0.3333333333333333,
              "#9c179e"
             ],
             [
              0.4444444444444444,
              "#bd3786"
             ],
             [
              0.5555555555555556,
              "#d8576b"
             ],
             [
              0.6666666666666666,
              "#ed7953"
             ],
             [
              0.7777777777777778,
              "#fb9f3a"
             ],
             [
              0.8888888888888888,
              "#fdca26"
             ],
             [
              1,
              "#f0f921"
             ]
            ],
            "type": "contour"
           }
          ],
          "contourcarpet": [
           {
            "colorbar": {
             "outlinewidth": 0,
             "ticks": ""
            },
            "type": "contourcarpet"
           }
          ],
          "heatmap": [
           {
            "colorbar": {
             "outlinewidth": 0,
             "ticks": ""
            },
            "colorscale": [
             [
              0,
              "#0d0887"
             ],
             [
              0.1111111111111111,
              "#46039f"
             ],
             [
              0.2222222222222222,
              "#7201a8"
             ],
             [
              0.3333333333333333,
              "#9c179e"
             ],
             [
              0.4444444444444444,
              "#bd3786"
             ],
             [
              0.5555555555555556,
              "#d8576b"
             ],
             [
              0.6666666666666666,
              "#ed7953"
             ],
             [
              0.7777777777777778,
              "#fb9f3a"
             ],
             [
              0.8888888888888888,
              "#fdca26"
             ],
             [
              1,
              "#f0f921"
             ]
            ],
            "type": "heatmap"
           }
          ],
          "heatmapgl": [
           {
            "colorbar": {
             "outlinewidth": 0,
             "ticks": ""
            },
            "colorscale": [
             [
              0,
              "#0d0887"
             ],
             [
              0.1111111111111111,
              "#46039f"
             ],
             [
              0.2222222222222222,
              "#7201a8"
             ],
             [
              0.3333333333333333,
              "#9c179e"
             ],
             [
              0.4444444444444444,
              "#bd3786"
             ],
             [
              0.5555555555555556,
              "#d8576b"
             ],
             [
              0.6666666666666666,
              "#ed7953"
             ],
             [
              0.7777777777777778,
              "#fb9f3a"
             ],
             [
              0.8888888888888888,
              "#fdca26"
             ],
             [
              1,
              "#f0f921"
             ]
            ],
            "type": "heatmapgl"
           }
          ],
          "histogram": [
           {
            "marker": {
             "pattern": {
              "fillmode": "overlay",
              "size": 10,
              "solidity": 0.2
             }
            },
            "type": "histogram"
           }
          ],
          "histogram2d": [
           {
            "colorbar": {
             "outlinewidth": 0,
             "ticks": ""
            },
            "colorscale": [
             [
              0,
              "#0d0887"
             ],
             [
              0.1111111111111111,
              "#46039f"
             ],
             [
              0.2222222222222222,
              "#7201a8"
             ],
             [
              0.3333333333333333,
              "#9c179e"
             ],
             [
              0.4444444444444444,
              "#bd3786"
             ],
             [
              0.5555555555555556,
              "#d8576b"
             ],
             [
              0.6666666666666666,
              "#ed7953"
             ],
             [
              0.7777777777777778,
              "#fb9f3a"
             ],
             [
              0.8888888888888888,
              "#fdca26"
             ],
             [
              1,
              "#f0f921"
             ]
            ],
            "type": "histogram2d"
           }
          ],
          "histogram2dcontour": [
           {
            "colorbar": {
             "outlinewidth": 0,
             "ticks": ""
            },
            "colorscale": [
             [
              0,
              "#0d0887"
             ],
             [
              0.1111111111111111,
              "#46039f"
             ],
             [
              0.2222222222222222,
              "#7201a8"
             ],
             [
              0.3333333333333333,
              "#9c179e"
             ],
             [
              0.4444444444444444,
              "#bd3786"
             ],
             [
              0.5555555555555556,
              "#d8576b"
             ],
             [
              0.6666666666666666,
              "#ed7953"
             ],
             [
              0.7777777777777778,
              "#fb9f3a"
             ],
             [
              0.8888888888888888,
              "#fdca26"
             ],
             [
              1,
              "#f0f921"
             ]
            ],
            "type": "histogram2dcontour"
           }
          ],
          "mesh3d": [
           {
            "colorbar": {
             "outlinewidth": 0,
             "ticks": ""
            },
            "type": "mesh3d"
           }
          ],
          "parcoords": [
           {
            "line": {
             "colorbar": {
              "outlinewidth": 0,
              "ticks": ""
             }
            },
            "type": "parcoords"
           }
          ],
          "pie": [
           {
            "automargin": true,
            "type": "pie"
           }
          ],
          "scatter": [
           {
            "fillpattern": {
             "fillmode": "overlay",
             "size": 10,
             "solidity": 0.2
            },
            "type": "scatter"
           }
          ],
          "scatter3d": [
           {
            "line": {
             "colorbar": {
              "outlinewidth": 0,
              "ticks": ""
             }
            },
            "marker": {
             "colorbar": {
              "outlinewidth": 0,
              "ticks": ""
             }
            },
            "type": "scatter3d"
           }
          ],
          "scattercarpet": [
           {
            "marker": {
             "colorbar": {
              "outlinewidth": 0,
              "ticks": ""
             }
            },
            "type": "scattercarpet"
           }
          ],
          "scattergeo": [
           {
            "marker": {
             "colorbar": {
              "outlinewidth": 0,
              "ticks": ""
             }
            },
            "type": "scattergeo"
           }
          ],
          "scattergl": [
           {
            "marker": {
             "colorbar": {
              "outlinewidth": 0,
              "ticks": ""
             }
            },
            "type": "scattergl"
           }
          ],
          "scattermapbox": [
           {
            "marker": {
             "colorbar": {
              "outlinewidth": 0,
              "ticks": ""
             }
            },
            "type": "scattermapbox"
           }
          ],
          "scatterpolar": [
           {
            "marker": {
             "colorbar": {
              "outlinewidth": 0,
              "ticks": ""
             }
            },
            "type": "scatterpolar"
           }
          ],
          "scatterpolargl": [
           {
            "marker": {
             "colorbar": {
              "outlinewidth": 0,
              "ticks": ""
             }
            },
            "type": "scatterpolargl"
           }
          ],
          "scatterternary": [
           {
            "marker": {
             "colorbar": {
              "outlinewidth": 0,
              "ticks": ""
             }
            },
            "type": "scatterternary"
           }
          ],
          "surface": [
           {
            "colorbar": {
             "outlinewidth": 0,
             "ticks": ""
            },
            "colorscale": [
             [
              0,
              "#0d0887"
             ],
             [
              0.1111111111111111,
              "#46039f"
             ],
             [
              0.2222222222222222,
              "#7201a8"
             ],
             [
              0.3333333333333333,
              "#9c179e"
             ],
             [
              0.4444444444444444,
              "#bd3786"
             ],
             [
              0.5555555555555556,
              "#d8576b"
             ],
             [
              0.6666666666666666,
              "#ed7953"
             ],
             [
              0.7777777777777778,
              "#fb9f3a"
             ],
             [
              0.8888888888888888,
              "#fdca26"
             ],
             [
              1,
              "#f0f921"
             ]
            ],
            "type": "surface"
           }
          ],
          "table": [
           {
            "cells": {
             "fill": {
              "color": "#EBF0F8"
             },
             "line": {
              "color": "white"
             }
            },
            "header": {
             "fill": {
              "color": "#C8D4E3"
             },
             "line": {
              "color": "white"
             }
            },
            "type": "table"
           }
          ]
         },
         "layout": {
          "annotationdefaults": {
           "arrowcolor": "#2a3f5f",
           "arrowhead": 0,
           "arrowwidth": 1
          },
          "autotypenumbers": "strict",
          "coloraxis": {
           "colorbar": {
            "outlinewidth": 0,
            "ticks": ""
           }
          },
          "colorscale": {
           "diverging": [
            [
             0,
             "#8e0152"
            ],
            [
             0.1,
             "#c51b7d"
            ],
            [
             0.2,
             "#de77ae"
            ],
            [
             0.3,
             "#f1b6da"
            ],
            [
             0.4,
             "#fde0ef"
            ],
            [
             0.5,
             "#f7f7f7"
            ],
            [
             0.6,
             "#e6f5d0"
            ],
            [
             0.7,
             "#b8e186"
            ],
            [
             0.8,
             "#7fbc41"
            ],
            [
             0.9,
             "#4d9221"
            ],
            [
             1,
             "#276419"
            ]
           ],
           "sequential": [
            [
             0,
             "#0d0887"
            ],
            [
             0.1111111111111111,
             "#46039f"
            ],
            [
             0.2222222222222222,
             "#7201a8"
            ],
            [
             0.3333333333333333,
             "#9c179e"
            ],
            [
             0.4444444444444444,
             "#bd3786"
            ],
            [
             0.5555555555555556,
             "#d8576b"
            ],
            [
             0.6666666666666666,
             "#ed7953"
            ],
            [
             0.7777777777777778,
             "#fb9f3a"
            ],
            [
             0.8888888888888888,
             "#fdca26"
            ],
            [
             1,
             "#f0f921"
            ]
           ],
           "sequentialminus": [
            [
             0,
             "#0d0887"
            ],
            [
             0.1111111111111111,
             "#46039f"
            ],
            [
             0.2222222222222222,
             "#7201a8"
            ],
            [
             0.3333333333333333,
             "#9c179e"
            ],
            [
             0.4444444444444444,
             "#bd3786"
            ],
            [
             0.5555555555555556,
             "#d8576b"
            ],
            [
             0.6666666666666666,
             "#ed7953"
            ],
            [
             0.7777777777777778,
             "#fb9f3a"
            ],
            [
             0.8888888888888888,
             "#fdca26"
            ],
            [
             1,
             "#f0f921"
            ]
           ]
          },
          "colorway": [
           "#636efa",
           "#EF553B",
           "#00cc96",
           "#ab63fa",
           "#FFA15A",
           "#19d3f3",
           "#FF6692",
           "#B6E880",
           "#FF97FF",
           "#FECB52"
          ],
          "font": {
           "color": "#2a3f5f"
          },
          "geo": {
           "bgcolor": "white",
           "lakecolor": "white",
           "landcolor": "#E5ECF6",
           "showlakes": true,
           "showland": true,
           "subunitcolor": "white"
          },
          "hoverlabel": {
           "align": "left"
          },
          "hovermode": "closest",
          "mapbox": {
           "style": "light"
          },
          "paper_bgcolor": "white",
          "plot_bgcolor": "#E5ECF6",
          "polar": {
           "angularaxis": {
            "gridcolor": "white",
            "linecolor": "white",
            "ticks": ""
           },
           "bgcolor": "#E5ECF6",
           "radialaxis": {
            "gridcolor": "white",
            "linecolor": "white",
            "ticks": ""
           }
          },
          "scene": {
           "xaxis": {
            "backgroundcolor": "#E5ECF6",
            "gridcolor": "white",
            "gridwidth": 2,
            "linecolor": "white",
            "showbackground": true,
            "ticks": "",
            "zerolinecolor": "white"
           },
           "yaxis": {
            "backgroundcolor": "#E5ECF6",
            "gridcolor": "white",
            "gridwidth": 2,
            "linecolor": "white",
            "showbackground": true,
            "ticks": "",
            "zerolinecolor": "white"
           },
           "zaxis": {
            "backgroundcolor": "#E5ECF6",
            "gridcolor": "white",
            "gridwidth": 2,
            "linecolor": "white",
            "showbackground": true,
            "ticks": "",
            "zerolinecolor": "white"
           }
          },
          "shapedefaults": {
           "line": {
            "color": "#2a3f5f"
           }
          },
          "ternary": {
           "aaxis": {
            "gridcolor": "white",
            "linecolor": "white",
            "ticks": ""
           },
           "baxis": {
            "gridcolor": "white",
            "linecolor": "white",
            "ticks": ""
           },
           "bgcolor": "#E5ECF6",
           "caxis": {
            "gridcolor": "white",
            "linecolor": "white",
            "ticks": ""
           }
          },
          "title": {
           "x": 0.05
          },
          "xaxis": {
           "automargin": true,
           "gridcolor": "white",
           "linecolor": "white",
           "ticks": "",
           "title": {
            "standoff": 15
           },
           "zerolinecolor": "white",
           "zerolinewidth": 2
          },
          "yaxis": {
           "automargin": true,
           "gridcolor": "white",
           "linecolor": "white",
           "ticks": "",
           "title": {
            "standoff": 15
           },
           "zerolinecolor": "white",
           "zerolinewidth": 2
          }
         }
        },
        "xaxis": {
         "anchor": "y",
         "domain": [
          0,
          1
         ],
         "title": {
          "text": "Run time (minutes)"
         }
        },
        "yaxis": {
         "anchor": "x",
         "domain": [
          0,
          1
         ],
         "title": {
          "text": "Running mean nurse wait time"
         }
        }
       }
      }
     },
     "metadata": {},
     "output_type": "display_data"
    }
   ],
   "source": [
    "time_series_inspection(data_collection_period=1440*40, warm_up=1440*13)"
   ]
  },
  {
   "cell_type": "markdown",
   "metadata": {},
   "source": [
    "## Choosing the number of replications\n",
    "\n",
    "The **confidence interval method** can be used to select the number of replications to run. The more replications you run, the narrower your confidence interval becomes, leading to a more precise estimate of the model's mean performance.\n",
    "\n",
    "First, you select a desired confidence interval - for example, 95%. Then, run the model with an increasing number of replications, and identify the number required to achieve that precision in the estimate of a given metric - and also, to maintain that precision (as the intervals may converge or expand again later on).\n",
    "\n",
    "This method is less useful for values very close to zero - so, for example, when using utilisation (which ranges from 0 to 1) it is recommended to multiple values by 100.\n",
    "\n",
    "When selecting the number of replications you should repeat the analysis for all performance measures and select the highest value as your number of replications."
   ]
  },
  {
   "cell_type": "code",
   "execution_count": 10,
   "metadata": {},
   "outputs": [],
   "source": [
    "def confidence_interval_method(replications, metric, desired_precision,\n",
    "                               min_rep=None):\n",
    "    \"\"\"\n",
    "    Use the confidence interval method to select the number of replications.\n",
    "\n",
    "    Arguments:\n",
    "        replications (int):\n",
    "            Number of times to run the model.\n",
    "        metric (string):\n",
    "            Name of performance metric to assess.\n",
    "        desired_precision (float):\n",
    "            Desired mean deviation from confidence interval.\n",
    "        min_rep (int):\n",
    "            A suggested minimum number of replications.\n",
    "    \"\"\"\n",
    "    param = Defaults()\n",
    "    param.number_of_runs = replications\n",
    "    choose_rep = Trial(param)\n",
    "    choose_rep.run_trial()\n",
    "\n",
    "    # If mean of metric is less than 1, multiply by 100\n",
    "    if choose_rep.trial_results_df.select(pl.mean(metric)).item() < 1:\n",
    "        choose_rep.trial_results_df = choose_rep.trial_results_df.with_columns(\n",
    "            (pl.col(metric)*100).alias(f'adj_{metric}')\n",
    "        )\n",
    "\n",
    "    # Initialise list to store the results\n",
    "    cumulative_list = []\n",
    "\n",
    "    # For each row in the dataframe, filter to rows up to the i-th replication\n",
    "    # then perform calculations\n",
    "    for i in range(1, replications+1):\n",
    "        mean, std_dev, ci_lower, ci_upper = summary_stats(\n",
    "            choose_rep\n",
    "            .trial_results_df\n",
    "            .with_row_index()\n",
    "            .filter(pl.col('index') < i)\n",
    "            .select(metric))\n",
    "        deviation = ((\n",
    "            ci_upper.item()-mean.item())/mean.item())*100 if i > 1 else np.nan\n",
    "        cumulative_list.append({\n",
    "            'replications': i,\n",
    "            'cumulative_mean': mean.item(),\n",
    "            'cumulative_std': std_dev.item() if i > 1 else np.nan,\n",
    "            'lower_ci': ci_lower.item() if i > 1 else np.nan,\n",
    "            'upper_ci': ci_upper.item() if i > 1 else np.nan,\n",
    "            'perc_deviation': deviation\n",
    "        })\n",
    "    cumulative = pl.DataFrame(cumulative_list)\n",
    "    display(cumulative)\n",
    "\n",
    "    # Get minimum number of replications where deviation is less than target\n",
    "    try:\n",
    "        n_reps = (cumulative\n",
    "                  .filter(pl.col('perc_deviation') <= desired_precision*100)\n",
    "                  .head(1)\n",
    "                  .select('replications')\n",
    "                  .item())\n",
    "        print(f'Reached desired precision ({desired_precision}) in {n_reps} ' +\n",
    "              'replications.')\n",
    "    except IndexError:\n",
    "        warnings.warn(f'Running {replications} replications did not reach' +\n",
    "                      f'desired precision ({desired_precision}).')\n",
    "\n",
    "    # Plot the cumulative mean and confidence interval\n",
    "    fig = px.line(cumulative,\n",
    "                  x='replications',\n",
    "                  y=['cumulative_mean', 'lower_ci', 'upper_ci'])\n",
    "    fig.update_layout(\n",
    "        xaxis_title='Number of replications',\n",
    "        yaxis_title=metric\n",
    "    )\n",
    "    if min_rep is not None:\n",
    "        fig.add_vline(x=min_rep, line_color='red', line_dash='dash')\n",
    "    fig.show()"
   ]
  },
  {
   "cell_type": "code",
   "execution_count": 11,
   "metadata": {},
   "outputs": [
    {
     "data": {
      "text/html": [
       "<div><style>\n",
       ".dataframe > thead > tr,\n",
       ".dataframe > tbody > tr {\n",
       "  text-align: right;\n",
       "  white-space: pre-wrap;\n",
       "}\n",
       "</style>\n",
       "<small>shape: (20, 6)</small><table border=\"1\" class=\"dataframe\"><thead><tr><th>replications</th><th>cumulative_mean</th><th>cumulative_std</th><th>lower_ci</th><th>upper_ci</th><th>perc_deviation</th></tr><tr><td>i64</td><td>f64</td><td>f64</td><td>f64</td><td>f64</td><td>f64</td></tr></thead><tbody><tr><td>1</td><td>9.842268</td><td>NaN</td><td>NaN</td><td>NaN</td><td>NaN</td></tr><tr><td>2</td><td>9.951374</td><td>0.1543</td><td>8.565044</td><td>11.337705</td><td>13.931046</td></tr><tr><td>3</td><td>9.942591</td><td>0.110162</td><td>9.668933</td><td>10.216249</td><td>2.752379</td></tr><tr><td>4</td><td>9.941208</td><td>0.08999</td><td>9.798014</td><td>10.084401</td><td>1.440402</td></tr><tr><td>5</td><td>9.956147</td><td>0.084791</td><td>9.850865</td><td>10.061429</td><td>1.057456</td></tr><tr><td>&hellip;</td><td>&hellip;</td><td>&hellip;</td><td>&hellip;</td><td>&hellip;</td><td>&hellip;</td></tr><tr><td>16</td><td>9.997145</td><td>0.114738</td><td>9.936005</td><td>10.058284</td><td>0.611569</td></tr><tr><td>17</td><td>9.986125</td><td>0.120027</td><td>9.924413</td><td>10.047837</td><td>0.617979</td></tr><tr><td>18</td><td>9.986293</td><td>0.116445</td><td>9.928386</td><td>10.0442</td><td>0.579864</td></tr><tr><td>19</td><td>9.976498</td><td>0.120951</td><td>9.918201</td><td>10.034795</td><td>0.58434</td></tr><tr><td>20</td><td>9.973643</td><td>0.118416</td><td>9.918222</td><td>10.029063</td><td>0.555668</td></tr></tbody></table></div>"
      ],
      "text/plain": [
       "shape: (20, 6)\n",
       "┌──────────────┬─────────────────┬────────────────┬──────────┬───────────┬────────────────┐\n",
       "│ replications ┆ cumulative_mean ┆ cumulative_std ┆ lower_ci ┆ upper_ci  ┆ perc_deviation │\n",
       "│ ---          ┆ ---             ┆ ---            ┆ ---      ┆ ---       ┆ ---            │\n",
       "│ i64          ┆ f64             ┆ f64            ┆ f64      ┆ f64       ┆ f64            │\n",
       "╞══════════════╪═════════════════╪════════════════╪══════════╪═══════════╪════════════════╡\n",
       "│ 1            ┆ 9.842268        ┆ NaN            ┆ NaN      ┆ NaN       ┆ NaN            │\n",
       "│ 2            ┆ 9.951374        ┆ 0.1543         ┆ 8.565044 ┆ 11.337705 ┆ 13.931046      │\n",
       "│ 3            ┆ 9.942591        ┆ 0.110162       ┆ 9.668933 ┆ 10.216249 ┆ 2.752379       │\n",
       "│ 4            ┆ 9.941208        ┆ 0.08999        ┆ 9.798014 ┆ 10.084401 ┆ 1.440402       │\n",
       "│ 5            ┆ 9.956147        ┆ 0.084791       ┆ 9.850865 ┆ 10.061429 ┆ 1.057456       │\n",
       "│ …            ┆ …               ┆ …              ┆ …        ┆ …         ┆ …              │\n",
       "│ 16           ┆ 9.997145        ┆ 0.114738       ┆ 9.936005 ┆ 10.058284 ┆ 0.611569       │\n",
       "│ 17           ┆ 9.986125        ┆ 0.120027       ┆ 9.924413 ┆ 10.047837 ┆ 0.617979       │\n",
       "│ 18           ┆ 9.986293        ┆ 0.116445       ┆ 9.928386 ┆ 10.0442   ┆ 0.579864       │\n",
       "│ 19           ┆ 9.976498        ┆ 0.120951       ┆ 9.918201 ┆ 10.034795 ┆ 0.58434        │\n",
       "│ 20           ┆ 9.973643        ┆ 0.118416       ┆ 9.918222 ┆ 10.029063 ┆ 0.555668       │\n",
       "└──────────────┴─────────────────┴────────────────┴──────────┴───────────┴────────────────┘"
      ]
     },
     "metadata": {},
     "output_type": "display_data"
    },
    {
     "name": "stdout",
     "output_type": "stream",
     "text": [
      "Reached desired precision (0.05) in 3 replications.\n"
     ]
    },
    {
     "data": {
      "application/vnd.plotly.v1+json": {
       "config": {
        "plotlyServerURL": "https://plot.ly"
       },
       "data": [
        {
         "hovertemplate": "variable=cumulative_mean<br>replications=%{x}<br>value=%{y}<extra></extra>",
         "legendgroup": "cumulative_mean",
         "line": {
          "color": "#636efa",
          "dash": "solid"
         },
         "marker": {
          "symbol": "circle"
         },
         "mode": "lines",
         "name": "cumulative_mean",
         "orientation": "v",
         "showlegend": true,
         "type": "scatter",
         "x": [
          1,
          2,
          3,
          4,
          5,
          6,
          7,
          8,
          9,
          10,
          11,
          12,
          13,
          14,
          15,
          16,
          17,
          18,
          19,
          20
         ],
         "xaxis": "x",
         "y": [
          9.84226781662332,
          9.951374400036872,
          9.942591106606683,
          9.941207618553587,
          9.956146924437203,
          9.944288427507884,
          9.958218602827435,
          9.974313668481962,
          9.999642175136987,
          10.008938185524622,
          10.015721406424772,
          10.005522459034454,
          9.990551890174856,
          9.986503895431062,
          9.998582541597393,
          9.997144962523357,
          9.986124962793632,
          9.986293276241893,
          9.97649797303346,
          9.973642606291607
         ],
         "yaxis": "y"
        },
        {
         "hovertemplate": "variable=lower_ci<br>replications=%{x}<br>value=%{y}<extra></extra>",
         "legendgroup": "lower_ci",
         "line": {
          "color": "#EF553B",
          "dash": "solid"
         },
         "marker": {
          "symbol": "circle"
         },
         "mode": "lines",
         "name": "lower_ci",
         "orientation": "v",
         "showlegend": true,
         "type": "scatter",
         "x": [
          1,
          2,
          3,
          4,
          5,
          6,
          7,
          8,
          9,
          10,
          11,
          12,
          13,
          14,
          15,
          16,
          17,
          18,
          19,
          20
         ],
         "xaxis": "x",
         "y": [
          null,
          8.565043813091654,
          9.668933313439394,
          9.798014217052517,
          9.850865099446205,
          9.859061957546787,
          9.881649039803216,
          9.89978266327813,
          9.912922219809905,
          9.92999589179406,
          9.943783596856044,
          9.936878667457163,
          9.920046111022701,
          9.921192666323249,
          9.932895347421631,
          9.936005476017742,
          9.924412811154433,
          9.928386334642774,
          9.918201270401944,
          9.918222229071448
         ],
         "yaxis": "y"
        },
        {
         "hovertemplate": "variable=upper_ci<br>replications=%{x}<br>value=%{y}<extra></extra>",
         "legendgroup": "upper_ci",
         "line": {
          "color": "#00cc96",
          "dash": "solid"
         },
         "marker": {
          "symbol": "circle"
         },
         "mode": "lines",
         "name": "upper_ci",
         "orientation": "v",
         "showlegend": true,
         "type": "scatter",
         "x": [
          1,
          2,
          3,
          4,
          5,
          6,
          7,
          8,
          9,
          10,
          11,
          12,
          13,
          14,
          15,
          16,
          17,
          18,
          19,
          20
         ],
         "xaxis": "x",
         "y": [
          null,
          11.337704986982091,
          10.216248899773971,
          10.084401020054658,
          10.0614287494282,
          10.02951489746898,
          10.034788165851653,
          10.048844673685794,
          10.08636213046407,
          10.087880479255183,
          10.0876592159935,
          10.074166250611745,
          10.061057669327012,
          10.051815124538875,
          10.064269735773156,
          10.058284449028973,
          10.04783711443283,
          10.044200217841013,
          10.034794675664976,
          10.029062983511766
         ],
         "yaxis": "y"
        }
       ],
       "layout": {
        "legend": {
         "title": {
          "text": "variable"
         },
         "tracegroupgap": 0
        },
        "margin": {
         "t": 60
        },
        "shapes": [
         {
          "line": {
           "color": "red",
           "dash": "dash"
          },
          "type": "line",
          "x0": 3,
          "x1": 3,
          "xref": "x",
          "y0": 0,
          "y1": 1,
          "yref": "y domain"
         }
        ],
        "template": {
         "data": {
          "bar": [
           {
            "error_x": {
             "color": "#2a3f5f"
            },
            "error_y": {
             "color": "#2a3f5f"
            },
            "marker": {
             "line": {
              "color": "#E5ECF6",
              "width": 0.5
             },
             "pattern": {
              "fillmode": "overlay",
              "size": 10,
              "solidity": 0.2
             }
            },
            "type": "bar"
           }
          ],
          "barpolar": [
           {
            "marker": {
             "line": {
              "color": "#E5ECF6",
              "width": 0.5
             },
             "pattern": {
              "fillmode": "overlay",
              "size": 10,
              "solidity": 0.2
             }
            },
            "type": "barpolar"
           }
          ],
          "carpet": [
           {
            "aaxis": {
             "endlinecolor": "#2a3f5f",
             "gridcolor": "white",
             "linecolor": "white",
             "minorgridcolor": "white",
             "startlinecolor": "#2a3f5f"
            },
            "baxis": {
             "endlinecolor": "#2a3f5f",
             "gridcolor": "white",
             "linecolor": "white",
             "minorgridcolor": "white",
             "startlinecolor": "#2a3f5f"
            },
            "type": "carpet"
           }
          ],
          "choropleth": [
           {
            "colorbar": {
             "outlinewidth": 0,
             "ticks": ""
            },
            "type": "choropleth"
           }
          ],
          "contour": [
           {
            "colorbar": {
             "outlinewidth": 0,
             "ticks": ""
            },
            "colorscale": [
             [
              0,
              "#0d0887"
             ],
             [
              0.1111111111111111,
              "#46039f"
             ],
             [
              0.2222222222222222,
              "#7201a8"
             ],
             [
              0.3333333333333333,
              "#9c179e"
             ],
             [
              0.4444444444444444,
              "#bd3786"
             ],
             [
              0.5555555555555556,
              "#d8576b"
             ],
             [
              0.6666666666666666,
              "#ed7953"
             ],
             [
              0.7777777777777778,
              "#fb9f3a"
             ],
             [
              0.8888888888888888,
              "#fdca26"
             ],
             [
              1,
              "#f0f921"
             ]
            ],
            "type": "contour"
           }
          ],
          "contourcarpet": [
           {
            "colorbar": {
             "outlinewidth": 0,
             "ticks": ""
            },
            "type": "contourcarpet"
           }
          ],
          "heatmap": [
           {
            "colorbar": {
             "outlinewidth": 0,
             "ticks": ""
            },
            "colorscale": [
             [
              0,
              "#0d0887"
             ],
             [
              0.1111111111111111,
              "#46039f"
             ],
             [
              0.2222222222222222,
              "#7201a8"
             ],
             [
              0.3333333333333333,
              "#9c179e"
             ],
             [
              0.4444444444444444,
              "#bd3786"
             ],
             [
              0.5555555555555556,
              "#d8576b"
             ],
             [
              0.6666666666666666,
              "#ed7953"
             ],
             [
              0.7777777777777778,
              "#fb9f3a"
             ],
             [
              0.8888888888888888,
              "#fdca26"
             ],
             [
              1,
              "#f0f921"
             ]
            ],
            "type": "heatmap"
           }
          ],
          "heatmapgl": [
           {
            "colorbar": {
             "outlinewidth": 0,
             "ticks": ""
            },
            "colorscale": [
             [
              0,
              "#0d0887"
             ],
             [
              0.1111111111111111,
              "#46039f"
             ],
             [
              0.2222222222222222,
              "#7201a8"
             ],
             [
              0.3333333333333333,
              "#9c179e"
             ],
             [
              0.4444444444444444,
              "#bd3786"
             ],
             [
              0.5555555555555556,
              "#d8576b"
             ],
             [
              0.6666666666666666,
              "#ed7953"
             ],
             [
              0.7777777777777778,
              "#fb9f3a"
             ],
             [
              0.8888888888888888,
              "#fdca26"
             ],
             [
              1,
              "#f0f921"
             ]
            ],
            "type": "heatmapgl"
           }
          ],
          "histogram": [
           {
            "marker": {
             "pattern": {
              "fillmode": "overlay",
              "size": 10,
              "solidity": 0.2
             }
            },
            "type": "histogram"
           }
          ],
          "histogram2d": [
           {
            "colorbar": {
             "outlinewidth": 0,
             "ticks": ""
            },
            "colorscale": [
             [
              0,
              "#0d0887"
             ],
             [
              0.1111111111111111,
              "#46039f"
             ],
             [
              0.2222222222222222,
              "#7201a8"
             ],
             [
              0.3333333333333333,
              "#9c179e"
             ],
             [
              0.4444444444444444,
              "#bd3786"
             ],
             [
              0.5555555555555556,
              "#d8576b"
             ],
             [
              0.6666666666666666,
              "#ed7953"
             ],
             [
              0.7777777777777778,
              "#fb9f3a"
             ],
             [
              0.8888888888888888,
              "#fdca26"
             ],
             [
              1,
              "#f0f921"
             ]
            ],
            "type": "histogram2d"
           }
          ],
          "histogram2dcontour": [
           {
            "colorbar": {
             "outlinewidth": 0,
             "ticks": ""
            },
            "colorscale": [
             [
              0,
              "#0d0887"
             ],
             [
              0.1111111111111111,
              "#46039f"
             ],
             [
              0.2222222222222222,
              "#7201a8"
             ],
             [
              0.3333333333333333,
              "#9c179e"
             ],
             [
              0.4444444444444444,
              "#bd3786"
             ],
             [
              0.5555555555555556,
              "#d8576b"
             ],
             [
              0.6666666666666666,
              "#ed7953"
             ],
             [
              0.7777777777777778,
              "#fb9f3a"
             ],
             [
              0.8888888888888888,
              "#fdca26"
             ],
             [
              1,
              "#f0f921"
             ]
            ],
            "type": "histogram2dcontour"
           }
          ],
          "mesh3d": [
           {
            "colorbar": {
             "outlinewidth": 0,
             "ticks": ""
            },
            "type": "mesh3d"
           }
          ],
          "parcoords": [
           {
            "line": {
             "colorbar": {
              "outlinewidth": 0,
              "ticks": ""
             }
            },
            "type": "parcoords"
           }
          ],
          "pie": [
           {
            "automargin": true,
            "type": "pie"
           }
          ],
          "scatter": [
           {
            "fillpattern": {
             "fillmode": "overlay",
             "size": 10,
             "solidity": 0.2
            },
            "type": "scatter"
           }
          ],
          "scatter3d": [
           {
            "line": {
             "colorbar": {
              "outlinewidth": 0,
              "ticks": ""
             }
            },
            "marker": {
             "colorbar": {
              "outlinewidth": 0,
              "ticks": ""
             }
            },
            "type": "scatter3d"
           }
          ],
          "scattercarpet": [
           {
            "marker": {
             "colorbar": {
              "outlinewidth": 0,
              "ticks": ""
             }
            },
            "type": "scattercarpet"
           }
          ],
          "scattergeo": [
           {
            "marker": {
             "colorbar": {
              "outlinewidth": 0,
              "ticks": ""
             }
            },
            "type": "scattergeo"
           }
          ],
          "scattergl": [
           {
            "marker": {
             "colorbar": {
              "outlinewidth": 0,
              "ticks": ""
             }
            },
            "type": "scattergl"
           }
          ],
          "scattermapbox": [
           {
            "marker": {
             "colorbar": {
              "outlinewidth": 0,
              "ticks": ""
             }
            },
            "type": "scattermapbox"
           }
          ],
          "scatterpolar": [
           {
            "marker": {
             "colorbar": {
              "outlinewidth": 0,
              "ticks": ""
             }
            },
            "type": "scatterpolar"
           }
          ],
          "scatterpolargl": [
           {
            "marker": {
             "colorbar": {
              "outlinewidth": 0,
              "ticks": ""
             }
            },
            "type": "scatterpolargl"
           }
          ],
          "scatterternary": [
           {
            "marker": {
             "colorbar": {
              "outlinewidth": 0,
              "ticks": ""
             }
            },
            "type": "scatterternary"
           }
          ],
          "surface": [
           {
            "colorbar": {
             "outlinewidth": 0,
             "ticks": ""
            },
            "colorscale": [
             [
              0,
              "#0d0887"
             ],
             [
              0.1111111111111111,
              "#46039f"
             ],
             [
              0.2222222222222222,
              "#7201a8"
             ],
             [
              0.3333333333333333,
              "#9c179e"
             ],
             [
              0.4444444444444444,
              "#bd3786"
             ],
             [
              0.5555555555555556,
              "#d8576b"
             ],
             [
              0.6666666666666666,
              "#ed7953"
             ],
             [
              0.7777777777777778,
              "#fb9f3a"
             ],
             [
              0.8888888888888888,
              "#fdca26"
             ],
             [
              1,
              "#f0f921"
             ]
            ],
            "type": "surface"
           }
          ],
          "table": [
           {
            "cells": {
             "fill": {
              "color": "#EBF0F8"
             },
             "line": {
              "color": "white"
             }
            },
            "header": {
             "fill": {
              "color": "#C8D4E3"
             },
             "line": {
              "color": "white"
             }
            },
            "type": "table"
           }
          ]
         },
         "layout": {
          "annotationdefaults": {
           "arrowcolor": "#2a3f5f",
           "arrowhead": 0,
           "arrowwidth": 1
          },
          "autotypenumbers": "strict",
          "coloraxis": {
           "colorbar": {
            "outlinewidth": 0,
            "ticks": ""
           }
          },
          "colorscale": {
           "diverging": [
            [
             0,
             "#8e0152"
            ],
            [
             0.1,
             "#c51b7d"
            ],
            [
             0.2,
             "#de77ae"
            ],
            [
             0.3,
             "#f1b6da"
            ],
            [
             0.4,
             "#fde0ef"
            ],
            [
             0.5,
             "#f7f7f7"
            ],
            [
             0.6,
             "#e6f5d0"
            ],
            [
             0.7,
             "#b8e186"
            ],
            [
             0.8,
             "#7fbc41"
            ],
            [
             0.9,
             "#4d9221"
            ],
            [
             1,
             "#276419"
            ]
           ],
           "sequential": [
            [
             0,
             "#0d0887"
            ],
            [
             0.1111111111111111,
             "#46039f"
            ],
            [
             0.2222222222222222,
             "#7201a8"
            ],
            [
             0.3333333333333333,
             "#9c179e"
            ],
            [
             0.4444444444444444,
             "#bd3786"
            ],
            [
             0.5555555555555556,
             "#d8576b"
            ],
            [
             0.6666666666666666,
             "#ed7953"
            ],
            [
             0.7777777777777778,
             "#fb9f3a"
            ],
            [
             0.8888888888888888,
             "#fdca26"
            ],
            [
             1,
             "#f0f921"
            ]
           ],
           "sequentialminus": [
            [
             0,
             "#0d0887"
            ],
            [
             0.1111111111111111,
             "#46039f"
            ],
            [
             0.2222222222222222,
             "#7201a8"
            ],
            [
             0.3333333333333333,
             "#9c179e"
            ],
            [
             0.4444444444444444,
             "#bd3786"
            ],
            [
             0.5555555555555556,
             "#d8576b"
            ],
            [
             0.6666666666666666,
             "#ed7953"
            ],
            [
             0.7777777777777778,
             "#fb9f3a"
            ],
            [
             0.8888888888888888,
             "#fdca26"
            ],
            [
             1,
             "#f0f921"
            ]
           ]
          },
          "colorway": [
           "#636efa",
           "#EF553B",
           "#00cc96",
           "#ab63fa",
           "#FFA15A",
           "#19d3f3",
           "#FF6692",
           "#B6E880",
           "#FF97FF",
           "#FECB52"
          ],
          "font": {
           "color": "#2a3f5f"
          },
          "geo": {
           "bgcolor": "white",
           "lakecolor": "white",
           "landcolor": "#E5ECF6",
           "showlakes": true,
           "showland": true,
           "subunitcolor": "white"
          },
          "hoverlabel": {
           "align": "left"
          },
          "hovermode": "closest",
          "mapbox": {
           "style": "light"
          },
          "paper_bgcolor": "white",
          "plot_bgcolor": "#E5ECF6",
          "polar": {
           "angularaxis": {
            "gridcolor": "white",
            "linecolor": "white",
            "ticks": ""
           },
           "bgcolor": "#E5ECF6",
           "radialaxis": {
            "gridcolor": "white",
            "linecolor": "white",
            "ticks": ""
           }
          },
          "scene": {
           "xaxis": {
            "backgroundcolor": "#E5ECF6",
            "gridcolor": "white",
            "gridwidth": 2,
            "linecolor": "white",
            "showbackground": true,
            "ticks": "",
            "zerolinecolor": "white"
           },
           "yaxis": {
            "backgroundcolor": "#E5ECF6",
            "gridcolor": "white",
            "gridwidth": 2,
            "linecolor": "white",
            "showbackground": true,
            "ticks": "",
            "zerolinecolor": "white"
           },
           "zaxis": {
            "backgroundcolor": "#E5ECF6",
            "gridcolor": "white",
            "gridwidth": 2,
            "linecolor": "white",
            "showbackground": true,
            "ticks": "",
            "zerolinecolor": "white"
           }
          },
          "shapedefaults": {
           "line": {
            "color": "#2a3f5f"
           }
          },
          "ternary": {
           "aaxis": {
            "gridcolor": "white",
            "linecolor": "white",
            "ticks": ""
           },
           "baxis": {
            "gridcolor": "white",
            "linecolor": "white",
            "ticks": ""
           },
           "bgcolor": "#E5ECF6",
           "caxis": {
            "gridcolor": "white",
            "linecolor": "white",
            "ticks": ""
           }
          },
          "title": {
           "x": 0.05
          },
          "xaxis": {
           "automargin": true,
           "gridcolor": "white",
           "linecolor": "white",
           "ticks": "",
           "title": {
            "standoff": 15
           },
           "zerolinecolor": "white",
           "zerolinewidth": 2
          },
          "yaxis": {
           "automargin": true,
           "gridcolor": "white",
           "linecolor": "white",
           "ticks": "",
           "title": {
            "standoff": 15
           },
           "zerolinecolor": "white",
           "zerolinewidth": 2
          }
         }
        },
        "xaxis": {
         "anchor": "y",
         "domain": [
          0,
          1
         ],
         "title": {
          "text": "Number of replications"
         }
        },
        "yaxis": {
         "anchor": "x",
         "domain": [
          0,
          1
         ],
         "title": {
          "text": "mean_time_with_nurse"
         }
        }
       }
      }
     },
     "metadata": {},
     "output_type": "display_data"
    }
   ],
   "source": [
    "confidence_interval_method(\n",
    "    replications=20,\n",
    "    metric='mean_time_with_nurse',\n",
    "    desired_precision=0.05,\n",
    "    min_rep=3\n",
    ")"
   ]
  },
  {
   "cell_type": "markdown",
   "metadata": {},
   "source": [
    "It is important to check ahead 10-20 replications, to check that the 5% precision is maintained. For this example, 3 replications is < 5, but then it quickly goes back up, and is not stable until 31 replications."
   ]
  },
  {
   "cell_type": "code",
   "execution_count": 12,
   "metadata": {},
   "outputs": [
    {
     "data": {
      "text/html": [
       "<div><style>\n",
       ".dataframe > thead > tr,\n",
       ".dataframe > tbody > tr {\n",
       "  text-align: right;\n",
       "  white-space: pre-wrap;\n",
       "}\n",
       "</style>\n",
       "<small>shape: (50, 6)</small><table border=\"1\" class=\"dataframe\"><thead><tr><th>replications</th><th>cumulative_mean</th><th>cumulative_std</th><th>lower_ci</th><th>upper_ci</th><th>perc_deviation</th></tr><tr><td>i64</td><td>f64</td><td>f64</td><td>f64</td><td>f64</td><td>f64</td></tr></thead><tbody><tr><td>1</td><td>0.504541</td><td>NaN</td><td>NaN</td><td>NaN</td><td>NaN</td></tr><tr><td>2</td><td>0.509346</td><td>0.006795</td><td>0.448295</td><td>0.570396</td><td>11.986073</td></tr><tr><td>3</td><td>0.513976</td><td>0.009348</td><td>0.490753</td><td>0.537198</td><td>4.518132</td></tr><tr><td>4</td><td>0.505269</td><td>0.019013</td><td>0.475015</td><td>0.535522</td><td>5.987597</td></tr><tr><td>5</td><td>0.496507</td><td>0.025593</td><td>0.464729</td><td>0.528284</td><td>6.400293</td></tr><tr><td>&hellip;</td><td>&hellip;</td><td>&hellip;</td><td>&hellip;</td><td>&hellip;</td><td>&hellip;</td></tr><tr><td>46</td><td>0.521207</td><td>0.076469</td><td>0.498499</td><td>0.543916</td><td>4.356909</td></tr><tr><td>47</td><td>0.519995</td><td>0.076089</td><td>0.497654</td><td>0.542335</td><td>4.296302</td></tr><tr><td>48</td><td>0.520911</td><td>0.075542</td><td>0.498976</td><td>0.542846</td><td>4.210927</td></tr><tr><td>49</td><td>0.520119</td><td>0.074957</td><td>0.498588</td><td>0.541649</td><td>4.139448</td></tr><tr><td>50</td><td>0.519557</td><td>0.074294</td><td>0.498443</td><td>0.540671</td><td>4.06386</td></tr></tbody></table></div>"
      ],
      "text/plain": [
       "shape: (50, 6)\n",
       "┌──────────────┬─────────────────┬────────────────┬──────────┬──────────┬────────────────┐\n",
       "│ replications ┆ cumulative_mean ┆ cumulative_std ┆ lower_ci ┆ upper_ci ┆ perc_deviation │\n",
       "│ ---          ┆ ---             ┆ ---            ┆ ---      ┆ ---      ┆ ---            │\n",
       "│ i64          ┆ f64             ┆ f64            ┆ f64      ┆ f64      ┆ f64            │\n",
       "╞══════════════╪═════════════════╪════════════════╪══════════╪══════════╪════════════════╡\n",
       "│ 1            ┆ 0.504541        ┆ NaN            ┆ NaN      ┆ NaN      ┆ NaN            │\n",
       "│ 2            ┆ 0.509346        ┆ 0.006795       ┆ 0.448295 ┆ 0.570396 ┆ 11.986073      │\n",
       "│ 3            ┆ 0.513976        ┆ 0.009348       ┆ 0.490753 ┆ 0.537198 ┆ 4.518132       │\n",
       "│ 4            ┆ 0.505269        ┆ 0.019013       ┆ 0.475015 ┆ 0.535522 ┆ 5.987597       │\n",
       "│ 5            ┆ 0.496507        ┆ 0.025593       ┆ 0.464729 ┆ 0.528284 ┆ 6.400293       │\n",
       "│ …            ┆ …               ┆ …              ┆ …        ┆ …        ┆ …              │\n",
       "│ 46           ┆ 0.521207        ┆ 0.076469       ┆ 0.498499 ┆ 0.543916 ┆ 4.356909       │\n",
       "│ 47           ┆ 0.519995        ┆ 0.076089       ┆ 0.497654 ┆ 0.542335 ┆ 4.296302       │\n",
       "│ 48           ┆ 0.520911        ┆ 0.075542       ┆ 0.498976 ┆ 0.542846 ┆ 4.210927       │\n",
       "│ 49           ┆ 0.520119        ┆ 0.074957       ┆ 0.498588 ┆ 0.541649 ┆ 4.139448       │\n",
       "│ 50           ┆ 0.519557        ┆ 0.074294       ┆ 0.498443 ┆ 0.540671 ┆ 4.06386        │\n",
       "└──────────────┴─────────────────┴────────────────┴──────────┴──────────┴────────────────┘"
      ]
     },
     "metadata": {},
     "output_type": "display_data"
    },
    {
     "name": "stdout",
     "output_type": "stream",
     "text": [
      "Reached desired precision (0.05) in 3 replications.\n"
     ]
    },
    {
     "data": {
      "application/vnd.plotly.v1+json": {
       "config": {
        "plotlyServerURL": "https://plot.ly"
       },
       "data": [
        {
         "hovertemplate": "variable=cumulative_mean<br>replications=%{x}<br>value=%{y}<extra></extra>",
         "legendgroup": "cumulative_mean",
         "line": {
          "color": "#636efa",
          "dash": "solid"
         },
         "marker": {
          "symbol": "circle"
         },
         "mode": "lines",
         "name": "cumulative_mean",
         "orientation": "v",
         "showlegend": true,
         "type": "scatter",
         "x": [
          1,
          2,
          3,
          4,
          5,
          6,
          7,
          8,
          9,
          10,
          11,
          12,
          13,
          14,
          15,
          16,
          17,
          18,
          19,
          20,
          21,
          22,
          23,
          24,
          25,
          26,
          27,
          28,
          29,
          30,
          31,
          32,
          33,
          34,
          35,
          36,
          37,
          38,
          39,
          40,
          41,
          42,
          43,
          44,
          45,
          46,
          47,
          48,
          49,
          50
         ],
         "xaxis": "x",
         "y": [
          0.504541081338615,
          0.509345865171004,
          0.5139755509812299,
          0.5052688790311877,
          0.4965065946781098,
          0.47846627670056124,
          0.4768193954814793,
          0.4954530161589752,
          0.49245791799012256,
          0.49955562481112137,
          0.5052856561182973,
          0.4963295034445771,
          0.49240443624489233,
          0.48864416043705716,
          0.4967867015521599,
          0.49553190665036984,
          0.4915792197927741,
          0.49235673458627793,
          0.48547385951850935,
          0.4821581151445441,
          0.488341738271005,
          0.4896589894643734,
          0.49148497513764117,
          0.4929670436638265,
          0.4933671521294648,
          0.49850936512702554,
          0.4987934414589376,
          0.49857059600665793,
          0.497161917580714,
          0.49866453945629174,
          0.499036905566402,
          0.4985041110323885,
          0.4995569502030413,
          0.5007824042065231,
          0.5000286466905622,
          0.49888925678471746,
          0.5030890719744651,
          0.5061793289147638,
          0.507265255561364,
          0.5110730687690195,
          0.5125330458745601,
          0.5115810130039442,
          0.5130901029331203,
          0.5143298146439346,
          0.5176215758519751,
          0.5212072087132887,
          0.5199945607918535,
          0.520910679408715,
          0.5201185242028412,
          0.5195571927478934
         ],
         "yaxis": "y"
        },
        {
         "hovertemplate": "variable=lower_ci<br>replications=%{x}<br>value=%{y}<extra></extra>",
         "legendgroup": "lower_ci",
         "line": {
          "color": "#EF553B",
          "dash": "solid"
         },
         "marker": {
          "symbol": "circle"
         },
         "mode": "lines",
         "name": "lower_ci",
         "orientation": "v",
         "showlegend": true,
         "type": "scatter",
         "x": [
          1,
          2,
          3,
          4,
          5,
          6,
          7,
          8,
          9,
          10,
          11,
          12,
          13,
          14,
          15,
          16,
          17,
          18,
          19,
          20,
          21,
          22,
          23,
          24,
          25,
          26,
          27,
          28,
          29,
          30,
          31,
          32,
          33,
          34,
          35,
          36,
          37,
          38,
          39,
          40,
          41,
          42,
          43,
          44,
          45,
          46,
          47,
          48,
          49,
          50
         ],
         "xaxis": "x",
         "y": [
          null,
          0.44829529808237023,
          0.49075345752234434,
          0.4750154139555323,
          0.4647287157316492,
          0.4262393869662339,
          0.434610364730809,
          0.4389794919564979,
          0.44339902860357433,
          0.4536133327371766,
          0.4624092400613055,
          0.4529307245587065,
          0.45197077539910213,
          0.4506481819033541,
          0.4575666846800609,
          0.45897510744809206,
          0.4564131775138992,
          0.4593189225382797,
          0.4511592958132439,
          0.4489926173551309,
          0.4543583690969252,
          0.4572398046297012,
          0.46036164702345517,
          0.46308596241232014,
          0.4647602404720858,
          0.4691090716288039,
          0.47055202888986714,
          0.47140161380313855,
          0.47083167883362503,
          0.47308131427466976,
          0.47431678135150124,
          0.47457660185107176,
          0.4762961158346719,
          0.47810539533671187,
          0.477980382800845,
          0.47736010374950877,
          0.4805030030909722,
          0.4833411693347067,
          0.4849316819482628,
          0.4879998522853197,
          0.4898548173310081,
          0.48938270953705815,
          0.4912167971323389,
          0.49282827808990354,
          0.4955943211647074,
          0.49849868285567484,
          0.49765402314539803,
          0.4989755103181366,
          0.4985884893297665,
          0.49844311439129946
         ],
         "yaxis": "y"
        },
        {
         "hovertemplate": "variable=upper_ci<br>replications=%{x}<br>value=%{y}<extra></extra>",
         "legendgroup": "upper_ci",
         "line": {
          "color": "#00cc96",
          "dash": "solid"
         },
         "marker": {
          "symbol": "circle"
         },
         "mode": "lines",
         "name": "upper_ci",
         "orientation": "v",
         "showlegend": true,
         "type": "scatter",
         "x": [
          1,
          2,
          3,
          4,
          5,
          6,
          7,
          8,
          9,
          10,
          11,
          12,
          13,
          14,
          15,
          16,
          17,
          18,
          19,
          20,
          21,
          22,
          23,
          24,
          25,
          26,
          27,
          28,
          29,
          30,
          31,
          32,
          33,
          34,
          35,
          36,
          37,
          38,
          39,
          40,
          41,
          42,
          43,
          44,
          45,
          46,
          47,
          48,
          49,
          50
         ],
         "xaxis": "x",
         "y": [
          null,
          0.5703964322596378,
          0.5371976444401155,
          0.535522344106843,
          0.5282844736245704,
          0.5306931664348886,
          0.5190284262321496,
          0.5519265403614525,
          0.5415168073766709,
          0.5454979168850661,
          0.5481620721752892,
          0.5397282823304478,
          0.5328380970906825,
          0.5266401389707602,
          0.536006718424259,
          0.5320887058526476,
          0.526745262071649,
          0.5253945466342761,
          0.5197884232237748,
          0.5153236129339572,
          0.5223251074450849,
          0.5220781742990457,
          0.5226083032518272,
          0.5228481249153328,
          0.5219740637868437,
          0.5279096586252472,
          0.5270348540280081,
          0.5257395782101772,
          0.5234921563278029,
          0.5242477646379137,
          0.5237570297813028,
          0.5224316202137053,
          0.5228177845714107,
          0.5234594130763343,
          0.5220769105802795,
          0.5204184098199262,
          0.525675140857958,
          0.5290174884948209,
          0.5295988291744653,
          0.5341462852527192,
          0.535211274418112,
          0.5337793164708303,
          0.5349634087339017,
          0.5358313511979657,
          0.5396488305392428,
          0.5439157345709026,
          0.542335098438309,
          0.5428458484992935,
          0.5416485590759159,
          0.5406712711044872
         ],
         "yaxis": "y"
        }
       ],
       "layout": {
        "legend": {
         "title": {
          "text": "variable"
         },
         "tracegroupgap": 0
        },
        "margin": {
         "t": 60
        },
        "shapes": [
         {
          "line": {
           "color": "red",
           "dash": "dash"
          },
          "type": "line",
          "x0": 31,
          "x1": 31,
          "xref": "x",
          "y0": 0,
          "y1": 1,
          "yref": "y domain"
         }
        ],
        "template": {
         "data": {
          "bar": [
           {
            "error_x": {
             "color": "#2a3f5f"
            },
            "error_y": {
             "color": "#2a3f5f"
            },
            "marker": {
             "line": {
              "color": "#E5ECF6",
              "width": 0.5
             },
             "pattern": {
              "fillmode": "overlay",
              "size": 10,
              "solidity": 0.2
             }
            },
            "type": "bar"
           }
          ],
          "barpolar": [
           {
            "marker": {
             "line": {
              "color": "#E5ECF6",
              "width": 0.5
             },
             "pattern": {
              "fillmode": "overlay",
              "size": 10,
              "solidity": 0.2
             }
            },
            "type": "barpolar"
           }
          ],
          "carpet": [
           {
            "aaxis": {
             "endlinecolor": "#2a3f5f",
             "gridcolor": "white",
             "linecolor": "white",
             "minorgridcolor": "white",
             "startlinecolor": "#2a3f5f"
            },
            "baxis": {
             "endlinecolor": "#2a3f5f",
             "gridcolor": "white",
             "linecolor": "white",
             "minorgridcolor": "white",
             "startlinecolor": "#2a3f5f"
            },
            "type": "carpet"
           }
          ],
          "choropleth": [
           {
            "colorbar": {
             "outlinewidth": 0,
             "ticks": ""
            },
            "type": "choropleth"
           }
          ],
          "contour": [
           {
            "colorbar": {
             "outlinewidth": 0,
             "ticks": ""
            },
            "colorscale": [
             [
              0,
              "#0d0887"
             ],
             [
              0.1111111111111111,
              "#46039f"
             ],
             [
              0.2222222222222222,
              "#7201a8"
             ],
             [
              0.3333333333333333,
              "#9c179e"
             ],
             [
              0.4444444444444444,
              "#bd3786"
             ],
             [
              0.5555555555555556,
              "#d8576b"
             ],
             [
              0.6666666666666666,
              "#ed7953"
             ],
             [
              0.7777777777777778,
              "#fb9f3a"
             ],
             [
              0.8888888888888888,
              "#fdca26"
             ],
             [
              1,
              "#f0f921"
             ]
            ],
            "type": "contour"
           }
          ],
          "contourcarpet": [
           {
            "colorbar": {
             "outlinewidth": 0,
             "ticks": ""
            },
            "type": "contourcarpet"
           }
          ],
          "heatmap": [
           {
            "colorbar": {
             "outlinewidth": 0,
             "ticks": ""
            },
            "colorscale": [
             [
              0,
              "#0d0887"
             ],
             [
              0.1111111111111111,
              "#46039f"
             ],
             [
              0.2222222222222222,
              "#7201a8"
             ],
             [
              0.3333333333333333,
              "#9c179e"
             ],
             [
              0.4444444444444444,
              "#bd3786"
             ],
             [
              0.5555555555555556,
              "#d8576b"
             ],
             [
              0.6666666666666666,
              "#ed7953"
             ],
             [
              0.7777777777777778,
              "#fb9f3a"
             ],
             [
              0.8888888888888888,
              "#fdca26"
             ],
             [
              1,
              "#f0f921"
             ]
            ],
            "type": "heatmap"
           }
          ],
          "heatmapgl": [
           {
            "colorbar": {
             "outlinewidth": 0,
             "ticks": ""
            },
            "colorscale": [
             [
              0,
              "#0d0887"
             ],
             [
              0.1111111111111111,
              "#46039f"
             ],
             [
              0.2222222222222222,
              "#7201a8"
             ],
             [
              0.3333333333333333,
              "#9c179e"
             ],
             [
              0.4444444444444444,
              "#bd3786"
             ],
             [
              0.5555555555555556,
              "#d8576b"
             ],
             [
              0.6666666666666666,
              "#ed7953"
             ],
             [
              0.7777777777777778,
              "#fb9f3a"
             ],
             [
              0.8888888888888888,
              "#fdca26"
             ],
             [
              1,
              "#f0f921"
             ]
            ],
            "type": "heatmapgl"
           }
          ],
          "histogram": [
           {
            "marker": {
             "pattern": {
              "fillmode": "overlay",
              "size": 10,
              "solidity": 0.2
             }
            },
            "type": "histogram"
           }
          ],
          "histogram2d": [
           {
            "colorbar": {
             "outlinewidth": 0,
             "ticks": ""
            },
            "colorscale": [
             [
              0,
              "#0d0887"
             ],
             [
              0.1111111111111111,
              "#46039f"
             ],
             [
              0.2222222222222222,
              "#7201a8"
             ],
             [
              0.3333333333333333,
              "#9c179e"
             ],
             [
              0.4444444444444444,
              "#bd3786"
             ],
             [
              0.5555555555555556,
              "#d8576b"
             ],
             [
              0.6666666666666666,
              "#ed7953"
             ],
             [
              0.7777777777777778,
              "#fb9f3a"
             ],
             [
              0.8888888888888888,
              "#fdca26"
             ],
             [
              1,
              "#f0f921"
             ]
            ],
            "type": "histogram2d"
           }
          ],
          "histogram2dcontour": [
           {
            "colorbar": {
             "outlinewidth": 0,
             "ticks": ""
            },
            "colorscale": [
             [
              0,
              "#0d0887"
             ],
             [
              0.1111111111111111,
              "#46039f"
             ],
             [
              0.2222222222222222,
              "#7201a8"
             ],
             [
              0.3333333333333333,
              "#9c179e"
             ],
             [
              0.4444444444444444,
              "#bd3786"
             ],
             [
              0.5555555555555556,
              "#d8576b"
             ],
             [
              0.6666666666666666,
              "#ed7953"
             ],
             [
              0.7777777777777778,
              "#fb9f3a"
             ],
             [
              0.8888888888888888,
              "#fdca26"
             ],
             [
              1,
              "#f0f921"
             ]
            ],
            "type": "histogram2dcontour"
           }
          ],
          "mesh3d": [
           {
            "colorbar": {
             "outlinewidth": 0,
             "ticks": ""
            },
            "type": "mesh3d"
           }
          ],
          "parcoords": [
           {
            "line": {
             "colorbar": {
              "outlinewidth": 0,
              "ticks": ""
             }
            },
            "type": "parcoords"
           }
          ],
          "pie": [
           {
            "automargin": true,
            "type": "pie"
           }
          ],
          "scatter": [
           {
            "fillpattern": {
             "fillmode": "overlay",
             "size": 10,
             "solidity": 0.2
            },
            "type": "scatter"
           }
          ],
          "scatter3d": [
           {
            "line": {
             "colorbar": {
              "outlinewidth": 0,
              "ticks": ""
             }
            },
            "marker": {
             "colorbar": {
              "outlinewidth": 0,
              "ticks": ""
             }
            },
            "type": "scatter3d"
           }
          ],
          "scattercarpet": [
           {
            "marker": {
             "colorbar": {
              "outlinewidth": 0,
              "ticks": ""
             }
            },
            "type": "scattercarpet"
           }
          ],
          "scattergeo": [
           {
            "marker": {
             "colorbar": {
              "outlinewidth": 0,
              "ticks": ""
             }
            },
            "type": "scattergeo"
           }
          ],
          "scattergl": [
           {
            "marker": {
             "colorbar": {
              "outlinewidth": 0,
              "ticks": ""
             }
            },
            "type": "scattergl"
           }
          ],
          "scattermapbox": [
           {
            "marker": {
             "colorbar": {
              "outlinewidth": 0,
              "ticks": ""
             }
            },
            "type": "scattermapbox"
           }
          ],
          "scatterpolar": [
           {
            "marker": {
             "colorbar": {
              "outlinewidth": 0,
              "ticks": ""
             }
            },
            "type": "scatterpolar"
           }
          ],
          "scatterpolargl": [
           {
            "marker": {
             "colorbar": {
              "outlinewidth": 0,
              "ticks": ""
             }
            },
            "type": "scatterpolargl"
           }
          ],
          "scatterternary": [
           {
            "marker": {
             "colorbar": {
              "outlinewidth": 0,
              "ticks": ""
             }
            },
            "type": "scatterternary"
           }
          ],
          "surface": [
           {
            "colorbar": {
             "outlinewidth": 0,
             "ticks": ""
            },
            "colorscale": [
             [
              0,
              "#0d0887"
             ],
             [
              0.1111111111111111,
              "#46039f"
             ],
             [
              0.2222222222222222,
              "#7201a8"
             ],
             [
              0.3333333333333333,
              "#9c179e"
             ],
             [
              0.4444444444444444,
              "#bd3786"
             ],
             [
              0.5555555555555556,
              "#d8576b"
             ],
             [
              0.6666666666666666,
              "#ed7953"
             ],
             [
              0.7777777777777778,
              "#fb9f3a"
             ],
             [
              0.8888888888888888,
              "#fdca26"
             ],
             [
              1,
              "#f0f921"
             ]
            ],
            "type": "surface"
           }
          ],
          "table": [
           {
            "cells": {
             "fill": {
              "color": "#EBF0F8"
             },
             "line": {
              "color": "white"
             }
            },
            "header": {
             "fill": {
              "color": "#C8D4E3"
             },
             "line": {
              "color": "white"
             }
            },
            "type": "table"
           }
          ]
         },
         "layout": {
          "annotationdefaults": {
           "arrowcolor": "#2a3f5f",
           "arrowhead": 0,
           "arrowwidth": 1
          },
          "autotypenumbers": "strict",
          "coloraxis": {
           "colorbar": {
            "outlinewidth": 0,
            "ticks": ""
           }
          },
          "colorscale": {
           "diverging": [
            [
             0,
             "#8e0152"
            ],
            [
             0.1,
             "#c51b7d"
            ],
            [
             0.2,
             "#de77ae"
            ],
            [
             0.3,
             "#f1b6da"
            ],
            [
             0.4,
             "#fde0ef"
            ],
            [
             0.5,
             "#f7f7f7"
            ],
            [
             0.6,
             "#e6f5d0"
            ],
            [
             0.7,
             "#b8e186"
            ],
            [
             0.8,
             "#7fbc41"
            ],
            [
             0.9,
             "#4d9221"
            ],
            [
             1,
             "#276419"
            ]
           ],
           "sequential": [
            [
             0,
             "#0d0887"
            ],
            [
             0.1111111111111111,
             "#46039f"
            ],
            [
             0.2222222222222222,
             "#7201a8"
            ],
            [
             0.3333333333333333,
             "#9c179e"
            ],
            [
             0.4444444444444444,
             "#bd3786"
            ],
            [
             0.5555555555555556,
             "#d8576b"
            ],
            [
             0.6666666666666666,
             "#ed7953"
            ],
            [
             0.7777777777777778,
             "#fb9f3a"
            ],
            [
             0.8888888888888888,
             "#fdca26"
            ],
            [
             1,
             "#f0f921"
            ]
           ],
           "sequentialminus": [
            [
             0,
             "#0d0887"
            ],
            [
             0.1111111111111111,
             "#46039f"
            ],
            [
             0.2222222222222222,
             "#7201a8"
            ],
            [
             0.3333333333333333,
             "#9c179e"
            ],
            [
             0.4444444444444444,
             "#bd3786"
            ],
            [
             0.5555555555555556,
             "#d8576b"
            ],
            [
             0.6666666666666666,
             "#ed7953"
            ],
            [
             0.7777777777777778,
             "#fb9f3a"
            ],
            [
             0.8888888888888888,
             "#fdca26"
            ],
            [
             1,
             "#f0f921"
            ]
           ]
          },
          "colorway": [
           "#636efa",
           "#EF553B",
           "#00cc96",
           "#ab63fa",
           "#FFA15A",
           "#19d3f3",
           "#FF6692",
           "#B6E880",
           "#FF97FF",
           "#FECB52"
          ],
          "font": {
           "color": "#2a3f5f"
          },
          "geo": {
           "bgcolor": "white",
           "lakecolor": "white",
           "landcolor": "#E5ECF6",
           "showlakes": true,
           "showland": true,
           "subunitcolor": "white"
          },
          "hoverlabel": {
           "align": "left"
          },
          "hovermode": "closest",
          "mapbox": {
           "style": "light"
          },
          "paper_bgcolor": "white",
          "plot_bgcolor": "#E5ECF6",
          "polar": {
           "angularaxis": {
            "gridcolor": "white",
            "linecolor": "white",
            "ticks": ""
           },
           "bgcolor": "#E5ECF6",
           "radialaxis": {
            "gridcolor": "white",
            "linecolor": "white",
            "ticks": ""
           }
          },
          "scene": {
           "xaxis": {
            "backgroundcolor": "#E5ECF6",
            "gridcolor": "white",
            "gridwidth": 2,
            "linecolor": "white",
            "showbackground": true,
            "ticks": "",
            "zerolinecolor": "white"
           },
           "yaxis": {
            "backgroundcolor": "#E5ECF6",
            "gridcolor": "white",
            "gridwidth": 2,
            "linecolor": "white",
            "showbackground": true,
            "ticks": "",
            "zerolinecolor": "white"
           },
           "zaxis": {
            "backgroundcolor": "#E5ECF6",
            "gridcolor": "white",
            "gridwidth": 2,
            "linecolor": "white",
            "showbackground": true,
            "ticks": "",
            "zerolinecolor": "white"
           }
          },
          "shapedefaults": {
           "line": {
            "color": "#2a3f5f"
           }
          },
          "ternary": {
           "aaxis": {
            "gridcolor": "white",
            "linecolor": "white",
            "ticks": ""
           },
           "baxis": {
            "gridcolor": "white",
            "linecolor": "white",
            "ticks": ""
           },
           "bgcolor": "#E5ECF6",
           "caxis": {
            "gridcolor": "white",
            "linecolor": "white",
            "ticks": ""
           }
          },
          "title": {
           "x": 0.05
          },
          "xaxis": {
           "automargin": true,
           "gridcolor": "white",
           "linecolor": "white",
           "ticks": "",
           "title": {
            "standoff": 15
           },
           "zerolinecolor": "white",
           "zerolinewidth": 2
          },
          "yaxis": {
           "automargin": true,
           "gridcolor": "white",
           "linecolor": "white",
           "ticks": "",
           "title": {
            "standoff": 15
           },
           "zerolinecolor": "white",
           "zerolinewidth": 2
          }
         }
        },
        "xaxis": {
         "anchor": "y",
         "domain": [
          0,
          1
         ],
         "title": {
          "text": "Number of replications"
         }
        },
        "yaxis": {
         "anchor": "x",
         "domain": [
          0,
          1
         ],
         "title": {
          "text": "mean_q_time_nurse"
         }
        }
       }
      }
     },
     "metadata": {},
     "output_type": "display_data"
    }
   ],
   "source": [
    "confidence_interval_method(\n",
    "    replications=50,\n",
    "    metric='mean_q_time_nurse',\n",
    "    desired_precision=0.05,\n",
    "    min_rep=31\n",
    ")"
   ]
  },
  {
   "cell_type": "code",
   "execution_count": 13,
   "metadata": {},
   "outputs": [
    {
     "data": {
      "text/html": [
       "<div><style>\n",
       ".dataframe > thead > tr,\n",
       ".dataframe > tbody > tr {\n",
       "  text-align: right;\n",
       "  white-space: pre-wrap;\n",
       "}\n",
       "</style>\n",
       "<small>shape: (20, 6)</small><table border=\"1\" class=\"dataframe\"><thead><tr><th>replications</th><th>cumulative_mean</th><th>cumulative_std</th><th>lower_ci</th><th>upper_ci</th><th>perc_deviation</th></tr><tr><td>i64</td><td>f64</td><td>f64</td><td>f64</td><td>f64</td><td>f64</td></tr></thead><tbody><tr><td>1</td><td>0.499639</td><td>NaN</td><td>NaN</td><td>NaN</td><td>NaN</td></tr><tr><td>2</td><td>0.500815</td><td>0.001663</td><td>0.485873</td><td>0.515756</td><td>2.983507</td></tr><tr><td>3</td><td>0.49992</td><td>0.001946</td><td>0.495086</td><td>0.504753</td><td>0.966831</td></tr><tr><td>4</td><td>0.499495</td><td>0.001802</td><td>0.496628</td><td>0.502362</td><td>0.573914</td></tr><tr><td>5</td><td>0.49897</td><td>0.001952</td><td>0.496546</td><td>0.501394</td><td>0.485842</td></tr><tr><td>&hellip;</td><td>&hellip;</td><td>&hellip;</td><td>&hellip;</td><td>&hellip;</td><td>&hellip;</td></tr><tr><td>16</td><td>0.500591</td><td>0.006697</td><td>0.497022</td><td>0.50416</td><td>0.712919</td></tr><tr><td>17</td><td>0.499774</td><td>0.007308</td><td>0.496016</td><td>0.503531</td><td>0.751859</td></tr><tr><td>18</td><td>0.499531</td><td>0.007164</td><td>0.495968</td><td>0.503094</td><td>0.71322</td></tr><tr><td>19</td><td>0.49847</td><td>0.008359</td><td>0.494441</td><td>0.502499</td><td>0.808219</td></tr><tr><td>20</td><td>0.498123</td><td>0.008282</td><td>0.494247</td><td>0.501999</td><td>0.778179</td></tr></tbody></table></div>"
      ],
      "text/plain": [
       "shape: (20, 6)\n",
       "┌──────────────┬─────────────────┬────────────────┬──────────┬──────────┬────────────────┐\n",
       "│ replications ┆ cumulative_mean ┆ cumulative_std ┆ lower_ci ┆ upper_ci ┆ perc_deviation │\n",
       "│ ---          ┆ ---             ┆ ---            ┆ ---      ┆ ---      ┆ ---            │\n",
       "│ i64          ┆ f64             ┆ f64            ┆ f64      ┆ f64      ┆ f64            │\n",
       "╞══════════════╪═════════════════╪════════════════╪══════════╪══════════╪════════════════╡\n",
       "│ 1            ┆ 0.499639        ┆ NaN            ┆ NaN      ┆ NaN      ┆ NaN            │\n",
       "│ 2            ┆ 0.500815        ┆ 0.001663       ┆ 0.485873 ┆ 0.515756 ┆ 2.983507       │\n",
       "│ 3            ┆ 0.49992         ┆ 0.001946       ┆ 0.495086 ┆ 0.504753 ┆ 0.966831       │\n",
       "│ 4            ┆ 0.499495        ┆ 0.001802       ┆ 0.496628 ┆ 0.502362 ┆ 0.573914       │\n",
       "│ 5            ┆ 0.49897         ┆ 0.001952       ┆ 0.496546 ┆ 0.501394 ┆ 0.485842       │\n",
       "│ …            ┆ …               ┆ …              ┆ …        ┆ …        ┆ …              │\n",
       "│ 16           ┆ 0.500591        ┆ 0.006697       ┆ 0.497022 ┆ 0.50416  ┆ 0.712919       │\n",
       "│ 17           ┆ 0.499774        ┆ 0.007308       ┆ 0.496016 ┆ 0.503531 ┆ 0.751859       │\n",
       "│ 18           ┆ 0.499531        ┆ 0.007164       ┆ 0.495968 ┆ 0.503094 ┆ 0.71322        │\n",
       "│ 19           ┆ 0.49847         ┆ 0.008359       ┆ 0.494441 ┆ 0.502499 ┆ 0.808219       │\n",
       "│ 20           ┆ 0.498123        ┆ 0.008282       ┆ 0.494247 ┆ 0.501999 ┆ 0.778179       │\n",
       "└──────────────┴─────────────────┴────────────────┴──────────┴──────────┴────────────────┘"
      ]
     },
     "metadata": {},
     "output_type": "display_data"
    },
    {
     "name": "stdout",
     "output_type": "stream",
     "text": [
      "Reached desired precision (0.05) in 2 replications.\n"
     ]
    },
    {
     "data": {
      "application/vnd.plotly.v1+json": {
       "config": {
        "plotlyServerURL": "https://plot.ly"
       },
       "data": [
        {
         "hovertemplate": "variable=cumulative_mean<br>replications=%{x}<br>value=%{y}<extra></extra>",
         "legendgroup": "cumulative_mean",
         "line": {
          "color": "#636efa",
          "dash": "solid"
         },
         "marker": {
          "symbol": "circle"
         },
         "mode": "lines",
         "name": "cumulative_mean",
         "orientation": "v",
         "showlegend": true,
         "type": "scatter",
         "x": [
          1,
          2,
          3,
          4,
          5,
          6,
          7,
          8,
          9,
          10,
          11,
          12,
          13,
          14,
          15,
          16,
          17,
          18,
          19,
          20
         ],
         "xaxis": "x",
         "y": [
          0.4996386466177992,
          0.5008145949752794,
          0.4999196310572998,
          0.4994948466237189,
          0.49896994474007916,
          0.4979589927930783,
          0.4987300297633525,
          0.49931989330602605,
          0.5003722379284424,
          0.5003321924615158,
          0.5011963012968672,
          0.500223555648008,
          0.500470028114813,
          0.49966892435237104,
          0.5005663542656543,
          0.5005911439346754,
          0.49977370820468525,
          0.4995312089199468,
          0.49847017568812363,
          0.4981231247446214
         ],
         "yaxis": "y"
        },
        {
         "hovertemplate": "variable=lower_ci<br>replications=%{x}<br>value=%{y}<extra></extra>",
         "legendgroup": "lower_ci",
         "line": {
          "color": "#EF553B",
          "dash": "solid"
         },
         "marker": {
          "symbol": "circle"
         },
         "mode": "lines",
         "name": "lower_ci",
         "orientation": "v",
         "showlegend": true,
         "type": "scatter",
         "x": [
          1,
          2,
          3,
          4,
          5,
          6,
          7,
          8,
          9,
          10,
          11,
          12,
          13,
          14,
          15,
          16,
          17,
          18,
          19,
          20
         ],
         "xaxis": "x",
         "y": [
          null,
          0.4858727543856664,
          0.4950862524233853,
          0.49662817470526655,
          0.49654573981970024,
          0.49477908406885307,
          0.4955513566624957,
          0.4963161717576598,
          0.49682784952539144,
          0.4972209549587158,
          0.4978213317706882,
          0.49650254121402054,
          0.4970393819199659,
          0.49607543306906726,
          0.4967276821439326,
          0.4970223325079497,
          0.4960161152965111,
          0.495968450336042,
          0.49444144478502855,
          0.49424683530191693
         ],
         "yaxis": "y"
        },
        {
         "hovertemplate": "variable=upper_ci<br>replications=%{x}<br>value=%{y}<extra></extra>",
         "legendgroup": "upper_ci",
         "line": {
          "color": "#00cc96",
          "dash": "solid"
         },
         "marker": {
          "symbol": "circle"
         },
         "mode": "lines",
         "name": "upper_ci",
         "orientation": "v",
         "showlegend": true,
         "type": "scatter",
         "x": [
          1,
          2,
          3,
          4,
          5,
          6,
          7,
          8,
          9,
          10,
          11,
          12,
          13,
          14,
          15,
          16,
          17,
          18,
          19,
          20
         ],
         "xaxis": "x",
         "y": [
          null,
          0.5157564355648924,
          0.5047530096912143,
          0.5023615185421713,
          0.5013941496604581,
          0.5011389015173036,
          0.5019087028642093,
          0.5023236148543924,
          0.5039166263314934,
          0.5034434299643159,
          0.5045712708230462,
          0.5039445700819954,
          0.5039006743096601,
          0.5032624156356749,
          0.504405026387376,
          0.5041599553614011,
          0.5035313011128595,
          0.5030939675038516,
          0.5024989065912187,
          0.5019994141873259
         ],
         "yaxis": "y"
        }
       ],
       "layout": {
        "legend": {
         "title": {
          "text": "variable"
         },
         "tracegroupgap": 0
        },
        "margin": {
         "t": 60
        },
        "shapes": [
         {
          "line": {
           "color": "red",
           "dash": "dash"
          },
          "type": "line",
          "x0": 3,
          "x1": 3,
          "xref": "x",
          "y0": 0,
          "y1": 1,
          "yref": "y domain"
         }
        ],
        "template": {
         "data": {
          "bar": [
           {
            "error_x": {
             "color": "#2a3f5f"
            },
            "error_y": {
             "color": "#2a3f5f"
            },
            "marker": {
             "line": {
              "color": "#E5ECF6",
              "width": 0.5
             },
             "pattern": {
              "fillmode": "overlay",
              "size": 10,
              "solidity": 0.2
             }
            },
            "type": "bar"
           }
          ],
          "barpolar": [
           {
            "marker": {
             "line": {
              "color": "#E5ECF6",
              "width": 0.5
             },
             "pattern": {
              "fillmode": "overlay",
              "size": 10,
              "solidity": 0.2
             }
            },
            "type": "barpolar"
           }
          ],
          "carpet": [
           {
            "aaxis": {
             "endlinecolor": "#2a3f5f",
             "gridcolor": "white",
             "linecolor": "white",
             "minorgridcolor": "white",
             "startlinecolor": "#2a3f5f"
            },
            "baxis": {
             "endlinecolor": "#2a3f5f",
             "gridcolor": "white",
             "linecolor": "white",
             "minorgridcolor": "white",
             "startlinecolor": "#2a3f5f"
            },
            "type": "carpet"
           }
          ],
          "choropleth": [
           {
            "colorbar": {
             "outlinewidth": 0,
             "ticks": ""
            },
            "type": "choropleth"
           }
          ],
          "contour": [
           {
            "colorbar": {
             "outlinewidth": 0,
             "ticks": ""
            },
            "colorscale": [
             [
              0,
              "#0d0887"
             ],
             [
              0.1111111111111111,
              "#46039f"
             ],
             [
              0.2222222222222222,
              "#7201a8"
             ],
             [
              0.3333333333333333,
              "#9c179e"
             ],
             [
              0.4444444444444444,
              "#bd3786"
             ],
             [
              0.5555555555555556,
              "#d8576b"
             ],
             [
              0.6666666666666666,
              "#ed7953"
             ],
             [
              0.7777777777777778,
              "#fb9f3a"
             ],
             [
              0.8888888888888888,
              "#fdca26"
             ],
             [
              1,
              "#f0f921"
             ]
            ],
            "type": "contour"
           }
          ],
          "contourcarpet": [
           {
            "colorbar": {
             "outlinewidth": 0,
             "ticks": ""
            },
            "type": "contourcarpet"
           }
          ],
          "heatmap": [
           {
            "colorbar": {
             "outlinewidth": 0,
             "ticks": ""
            },
            "colorscale": [
             [
              0,
              "#0d0887"
             ],
             [
              0.1111111111111111,
              "#46039f"
             ],
             [
              0.2222222222222222,
              "#7201a8"
             ],
             [
              0.3333333333333333,
              "#9c179e"
             ],
             [
              0.4444444444444444,
              "#bd3786"
             ],
             [
              0.5555555555555556,
              "#d8576b"
             ],
             [
              0.6666666666666666,
              "#ed7953"
             ],
             [
              0.7777777777777778,
              "#fb9f3a"
             ],
             [
              0.8888888888888888,
              "#fdca26"
             ],
             [
              1,
              "#f0f921"
             ]
            ],
            "type": "heatmap"
           }
          ],
          "heatmapgl": [
           {
            "colorbar": {
             "outlinewidth": 0,
             "ticks": ""
            },
            "colorscale": [
             [
              0,
              "#0d0887"
             ],
             [
              0.1111111111111111,
              "#46039f"
             ],
             [
              0.2222222222222222,
              "#7201a8"
             ],
             [
              0.3333333333333333,
              "#9c179e"
             ],
             [
              0.4444444444444444,
              "#bd3786"
             ],
             [
              0.5555555555555556,
              "#d8576b"
             ],
             [
              0.6666666666666666,
              "#ed7953"
             ],
             [
              0.7777777777777778,
              "#fb9f3a"
             ],
             [
              0.8888888888888888,
              "#fdca26"
             ],
             [
              1,
              "#f0f921"
             ]
            ],
            "type": "heatmapgl"
           }
          ],
          "histogram": [
           {
            "marker": {
             "pattern": {
              "fillmode": "overlay",
              "size": 10,
              "solidity": 0.2
             }
            },
            "type": "histogram"
           }
          ],
          "histogram2d": [
           {
            "colorbar": {
             "outlinewidth": 0,
             "ticks": ""
            },
            "colorscale": [
             [
              0,
              "#0d0887"
             ],
             [
              0.1111111111111111,
              "#46039f"
             ],
             [
              0.2222222222222222,
              "#7201a8"
             ],
             [
              0.3333333333333333,
              "#9c179e"
             ],
             [
              0.4444444444444444,
              "#bd3786"
             ],
             [
              0.5555555555555556,
              "#d8576b"
             ],
             [
              0.6666666666666666,
              "#ed7953"
             ],
             [
              0.7777777777777778,
              "#fb9f3a"
             ],
             [
              0.8888888888888888,
              "#fdca26"
             ],
             [
              1,
              "#f0f921"
             ]
            ],
            "type": "histogram2d"
           }
          ],
          "histogram2dcontour": [
           {
            "colorbar": {
             "outlinewidth": 0,
             "ticks": ""
            },
            "colorscale": [
             [
              0,
              "#0d0887"
             ],
             [
              0.1111111111111111,
              "#46039f"
             ],
             [
              0.2222222222222222,
              "#7201a8"
             ],
             [
              0.3333333333333333,
              "#9c179e"
             ],
             [
              0.4444444444444444,
              "#bd3786"
             ],
             [
              0.5555555555555556,
              "#d8576b"
             ],
             [
              0.6666666666666666,
              "#ed7953"
             ],
             [
              0.7777777777777778,
              "#fb9f3a"
             ],
             [
              0.8888888888888888,
              "#fdca26"
             ],
             [
              1,
              "#f0f921"
             ]
            ],
            "type": "histogram2dcontour"
           }
          ],
          "mesh3d": [
           {
            "colorbar": {
             "outlinewidth": 0,
             "ticks": ""
            },
            "type": "mesh3d"
           }
          ],
          "parcoords": [
           {
            "line": {
             "colorbar": {
              "outlinewidth": 0,
              "ticks": ""
             }
            },
            "type": "parcoords"
           }
          ],
          "pie": [
           {
            "automargin": true,
            "type": "pie"
           }
          ],
          "scatter": [
           {
            "fillpattern": {
             "fillmode": "overlay",
             "size": 10,
             "solidity": 0.2
            },
            "type": "scatter"
           }
          ],
          "scatter3d": [
           {
            "line": {
             "colorbar": {
              "outlinewidth": 0,
              "ticks": ""
             }
            },
            "marker": {
             "colorbar": {
              "outlinewidth": 0,
              "ticks": ""
             }
            },
            "type": "scatter3d"
           }
          ],
          "scattercarpet": [
           {
            "marker": {
             "colorbar": {
              "outlinewidth": 0,
              "ticks": ""
             }
            },
            "type": "scattercarpet"
           }
          ],
          "scattergeo": [
           {
            "marker": {
             "colorbar": {
              "outlinewidth": 0,
              "ticks": ""
             }
            },
            "type": "scattergeo"
           }
          ],
          "scattergl": [
           {
            "marker": {
             "colorbar": {
              "outlinewidth": 0,
              "ticks": ""
             }
            },
            "type": "scattergl"
           }
          ],
          "scattermapbox": [
           {
            "marker": {
             "colorbar": {
              "outlinewidth": 0,
              "ticks": ""
             }
            },
            "type": "scattermapbox"
           }
          ],
          "scatterpolar": [
           {
            "marker": {
             "colorbar": {
              "outlinewidth": 0,
              "ticks": ""
             }
            },
            "type": "scatterpolar"
           }
          ],
          "scatterpolargl": [
           {
            "marker": {
             "colorbar": {
              "outlinewidth": 0,
              "ticks": ""
             }
            },
            "type": "scatterpolargl"
           }
          ],
          "scatterternary": [
           {
            "marker": {
             "colorbar": {
              "outlinewidth": 0,
              "ticks": ""
             }
            },
            "type": "scatterternary"
           }
          ],
          "surface": [
           {
            "colorbar": {
             "outlinewidth": 0,
             "ticks": ""
            },
            "colorscale": [
             [
              0,
              "#0d0887"
             ],
             [
              0.1111111111111111,
              "#46039f"
             ],
             [
              0.2222222222222222,
              "#7201a8"
             ],
             [
              0.3333333333333333,
              "#9c179e"
             ],
             [
              0.4444444444444444,
              "#bd3786"
             ],
             [
              0.5555555555555556,
              "#d8576b"
             ],
             [
              0.6666666666666666,
              "#ed7953"
             ],
             [
              0.7777777777777778,
              "#fb9f3a"
             ],
             [
              0.8888888888888888,
              "#fdca26"
             ],
             [
              1,
              "#f0f921"
             ]
            ],
            "type": "surface"
           }
          ],
          "table": [
           {
            "cells": {
             "fill": {
              "color": "#EBF0F8"
             },
             "line": {
              "color": "white"
             }
            },
            "header": {
             "fill": {
              "color": "#C8D4E3"
             },
             "line": {
              "color": "white"
             }
            },
            "type": "table"
           }
          ]
         },
         "layout": {
          "annotationdefaults": {
           "arrowcolor": "#2a3f5f",
           "arrowhead": 0,
           "arrowwidth": 1
          },
          "autotypenumbers": "strict",
          "coloraxis": {
           "colorbar": {
            "outlinewidth": 0,
            "ticks": ""
           }
          },
          "colorscale": {
           "diverging": [
            [
             0,
             "#8e0152"
            ],
            [
             0.1,
             "#c51b7d"
            ],
            [
             0.2,
             "#de77ae"
            ],
            [
             0.3,
             "#f1b6da"
            ],
            [
             0.4,
             "#fde0ef"
            ],
            [
             0.5,
             "#f7f7f7"
            ],
            [
             0.6,
             "#e6f5d0"
            ],
            [
             0.7,
             "#b8e186"
            ],
            [
             0.8,
             "#7fbc41"
            ],
            [
             0.9,
             "#4d9221"
            ],
            [
             1,
             "#276419"
            ]
           ],
           "sequential": [
            [
             0,
             "#0d0887"
            ],
            [
             0.1111111111111111,
             "#46039f"
            ],
            [
             0.2222222222222222,
             "#7201a8"
            ],
            [
             0.3333333333333333,
             "#9c179e"
            ],
            [
             0.4444444444444444,
             "#bd3786"
            ],
            [
             0.5555555555555556,
             "#d8576b"
            ],
            [
             0.6666666666666666,
             "#ed7953"
            ],
            [
             0.7777777777777778,
             "#fb9f3a"
            ],
            [
             0.8888888888888888,
             "#fdca26"
            ],
            [
             1,
             "#f0f921"
            ]
           ],
           "sequentialminus": [
            [
             0,
             "#0d0887"
            ],
            [
             0.1111111111111111,
             "#46039f"
            ],
            [
             0.2222222222222222,
             "#7201a8"
            ],
            [
             0.3333333333333333,
             "#9c179e"
            ],
            [
             0.4444444444444444,
             "#bd3786"
            ],
            [
             0.5555555555555556,
             "#d8576b"
            ],
            [
             0.6666666666666666,
             "#ed7953"
            ],
            [
             0.7777777777777778,
             "#fb9f3a"
            ],
            [
             0.8888888888888888,
             "#fdca26"
            ],
            [
             1,
             "#f0f921"
            ]
           ]
          },
          "colorway": [
           "#636efa",
           "#EF553B",
           "#00cc96",
           "#ab63fa",
           "#FFA15A",
           "#19d3f3",
           "#FF6692",
           "#B6E880",
           "#FF97FF",
           "#FECB52"
          ],
          "font": {
           "color": "#2a3f5f"
          },
          "geo": {
           "bgcolor": "white",
           "lakecolor": "white",
           "landcolor": "#E5ECF6",
           "showlakes": true,
           "showland": true,
           "subunitcolor": "white"
          },
          "hoverlabel": {
           "align": "left"
          },
          "hovermode": "closest",
          "mapbox": {
           "style": "light"
          },
          "paper_bgcolor": "white",
          "plot_bgcolor": "#E5ECF6",
          "polar": {
           "angularaxis": {
            "gridcolor": "white",
            "linecolor": "white",
            "ticks": ""
           },
           "bgcolor": "#E5ECF6",
           "radialaxis": {
            "gridcolor": "white",
            "linecolor": "white",
            "ticks": ""
           }
          },
          "scene": {
           "xaxis": {
            "backgroundcolor": "#E5ECF6",
            "gridcolor": "white",
            "gridwidth": 2,
            "linecolor": "white",
            "showbackground": true,
            "ticks": "",
            "zerolinecolor": "white"
           },
           "yaxis": {
            "backgroundcolor": "#E5ECF6",
            "gridcolor": "white",
            "gridwidth": 2,
            "linecolor": "white",
            "showbackground": true,
            "ticks": "",
            "zerolinecolor": "white"
           },
           "zaxis": {
            "backgroundcolor": "#E5ECF6",
            "gridcolor": "white",
            "gridwidth": 2,
            "linecolor": "white",
            "showbackground": true,
            "ticks": "",
            "zerolinecolor": "white"
           }
          },
          "shapedefaults": {
           "line": {
            "color": "#2a3f5f"
           }
          },
          "ternary": {
           "aaxis": {
            "gridcolor": "white",
            "linecolor": "white",
            "ticks": ""
           },
           "baxis": {
            "gridcolor": "white",
            "linecolor": "white",
            "ticks": ""
           },
           "bgcolor": "#E5ECF6",
           "caxis": {
            "gridcolor": "white",
            "linecolor": "white",
            "ticks": ""
           }
          },
          "title": {
           "x": 0.05
          },
          "xaxis": {
           "automargin": true,
           "gridcolor": "white",
           "linecolor": "white",
           "ticks": "",
           "title": {
            "standoff": 15
           },
           "zerolinecolor": "white",
           "zerolinewidth": 2
          },
          "yaxis": {
           "automargin": true,
           "gridcolor": "white",
           "linecolor": "white",
           "ticks": "",
           "title": {
            "standoff": 15
           },
           "zerolinecolor": "white",
           "zerolinewidth": 2
          }
         }
        },
        "xaxis": {
         "anchor": "y",
         "domain": [
          0,
          1
         ],
         "title": {
          "text": "Number of replications"
         }
        },
        "yaxis": {
         "anchor": "x",
         "domain": [
          0,
          1
         ],
         "title": {
          "text": "mean_nurse_utilisation"
         }
        }
       }
      }
     },
     "metadata": {},
     "output_type": "display_data"
    }
   ],
   "source": [
    "confidence_interval_method(\n",
    "    replications=20,\n",
    "    metric='mean_nurse_utilisation',\n",
    "    desired_precision=0.05,\n",
    "    min_rep=3\n",
    ")"
   ]
  },
  {
   "cell_type": "markdown",
   "metadata": {},
   "source": [
    "## Run time with varying number of CPU cores"
   ]
  },
  {
   "cell_type": "code",
   "execution_count": 14,
   "metadata": {},
   "outputs": [
    {
     "name": "stdout",
     "output_type": "stream",
     "text": [
      "shape: (8, 2)\n",
      "┌───────┬──────────┐\n",
      "│ cores ┆ run_time │\n",
      "│ ---   ┆ ---      │\n",
      "│ i64   ┆ f64      │\n",
      "╞═══════╪══════════╡\n",
      "│ 1     ┆ 4.237    │\n",
      "│ 2     ┆ 2.939    │\n",
      "│ 3     ┆ 2.114    │\n",
      "│ 4     ┆ 1.761    │\n",
      "│ 5     ┆ 1.662    │\n",
      "│ 6     ┆ 1.648    │\n",
      "│ 7     ┆ 1.495    │\n",
      "│ 8     ┆ 0.935    │\n",
      "└───────┴──────────┘\n"
     ]
    },
    {
     "data": {
      "application/vnd.plotly.v1+json": {
       "config": {
        "plotlyServerURL": "https://plot.ly"
       },
       "data": [
        {
         "hovertemplate": "cores=%{x}<br>run_time=%{y}<extra></extra>",
         "legendgroup": "",
         "line": {
          "color": "#636efa",
          "dash": "solid"
         },
         "marker": {
          "symbol": "circle"
         },
         "mode": "lines",
         "name": "",
         "orientation": "v",
         "showlegend": false,
         "type": "scatter",
         "x": [
          1,
          2,
          3,
          4,
          5,
          6,
          7,
          8
         ],
         "xaxis": "x",
         "y": [
          4.237,
          2.939,
          2.114,
          1.761,
          1.662,
          1.648,
          1.495,
          0.935
         ],
         "yaxis": "y"
        }
       ],
       "layout": {
        "legend": {
         "tracegroupgap": 0
        },
        "margin": {
         "t": 60
        },
        "template": {
         "data": {
          "bar": [
           {
            "error_x": {
             "color": "#2a3f5f"
            },
            "error_y": {
             "color": "#2a3f5f"
            },
            "marker": {
             "line": {
              "color": "#E5ECF6",
              "width": 0.5
             },
             "pattern": {
              "fillmode": "overlay",
              "size": 10,
              "solidity": 0.2
             }
            },
            "type": "bar"
           }
          ],
          "barpolar": [
           {
            "marker": {
             "line": {
              "color": "#E5ECF6",
              "width": 0.5
             },
             "pattern": {
              "fillmode": "overlay",
              "size": 10,
              "solidity": 0.2
             }
            },
            "type": "barpolar"
           }
          ],
          "carpet": [
           {
            "aaxis": {
             "endlinecolor": "#2a3f5f",
             "gridcolor": "white",
             "linecolor": "white",
             "minorgridcolor": "white",
             "startlinecolor": "#2a3f5f"
            },
            "baxis": {
             "endlinecolor": "#2a3f5f",
             "gridcolor": "white",
             "linecolor": "white",
             "minorgridcolor": "white",
             "startlinecolor": "#2a3f5f"
            },
            "type": "carpet"
           }
          ],
          "choropleth": [
           {
            "colorbar": {
             "outlinewidth": 0,
             "ticks": ""
            },
            "type": "choropleth"
           }
          ],
          "contour": [
           {
            "colorbar": {
             "outlinewidth": 0,
             "ticks": ""
            },
            "colorscale": [
             [
              0,
              "#0d0887"
             ],
             [
              0.1111111111111111,
              "#46039f"
             ],
             [
              0.2222222222222222,
              "#7201a8"
             ],
             [
              0.3333333333333333,
              "#9c179e"
             ],
             [
              0.4444444444444444,
              "#bd3786"
             ],
             [
              0.5555555555555556,
              "#d8576b"
             ],
             [
              0.6666666666666666,
              "#ed7953"
             ],
             [
              0.7777777777777778,
              "#fb9f3a"
             ],
             [
              0.8888888888888888,
              "#fdca26"
             ],
             [
              1,
              "#f0f921"
             ]
            ],
            "type": "contour"
           }
          ],
          "contourcarpet": [
           {
            "colorbar": {
             "outlinewidth": 0,
             "ticks": ""
            },
            "type": "contourcarpet"
           }
          ],
          "heatmap": [
           {
            "colorbar": {
             "outlinewidth": 0,
             "ticks": ""
            },
            "colorscale": [
             [
              0,
              "#0d0887"
             ],
             [
              0.1111111111111111,
              "#46039f"
             ],
             [
              0.2222222222222222,
              "#7201a8"
             ],
             [
              0.3333333333333333,
              "#9c179e"
             ],
             [
              0.4444444444444444,
              "#bd3786"
             ],
             [
              0.5555555555555556,
              "#d8576b"
             ],
             [
              0.6666666666666666,
              "#ed7953"
             ],
             [
              0.7777777777777778,
              "#fb9f3a"
             ],
             [
              0.8888888888888888,
              "#fdca26"
             ],
             [
              1,
              "#f0f921"
             ]
            ],
            "type": "heatmap"
           }
          ],
          "heatmapgl": [
           {
            "colorbar": {
             "outlinewidth": 0,
             "ticks": ""
            },
            "colorscale": [
             [
              0,
              "#0d0887"
             ],
             [
              0.1111111111111111,
              "#46039f"
             ],
             [
              0.2222222222222222,
              "#7201a8"
             ],
             [
              0.3333333333333333,
              "#9c179e"
             ],
             [
              0.4444444444444444,
              "#bd3786"
             ],
             [
              0.5555555555555556,
              "#d8576b"
             ],
             [
              0.6666666666666666,
              "#ed7953"
             ],
             [
              0.7777777777777778,
              "#fb9f3a"
             ],
             [
              0.8888888888888888,
              "#fdca26"
             ],
             [
              1,
              "#f0f921"
             ]
            ],
            "type": "heatmapgl"
           }
          ],
          "histogram": [
           {
            "marker": {
             "pattern": {
              "fillmode": "overlay",
              "size": 10,
              "solidity": 0.2
             }
            },
            "type": "histogram"
           }
          ],
          "histogram2d": [
           {
            "colorbar": {
             "outlinewidth": 0,
             "ticks": ""
            },
            "colorscale": [
             [
              0,
              "#0d0887"
             ],
             [
              0.1111111111111111,
              "#46039f"
             ],
             [
              0.2222222222222222,
              "#7201a8"
             ],
             [
              0.3333333333333333,
              "#9c179e"
             ],
             [
              0.4444444444444444,
              "#bd3786"
             ],
             [
              0.5555555555555556,
              "#d8576b"
             ],
             [
              0.6666666666666666,
              "#ed7953"
             ],
             [
              0.7777777777777778,
              "#fb9f3a"
             ],
             [
              0.8888888888888888,
              "#fdca26"
             ],
             [
              1,
              "#f0f921"
             ]
            ],
            "type": "histogram2d"
           }
          ],
          "histogram2dcontour": [
           {
            "colorbar": {
             "outlinewidth": 0,
             "ticks": ""
            },
            "colorscale": [
             [
              0,
              "#0d0887"
             ],
             [
              0.1111111111111111,
              "#46039f"
             ],
             [
              0.2222222222222222,
              "#7201a8"
             ],
             [
              0.3333333333333333,
              "#9c179e"
             ],
             [
              0.4444444444444444,
              "#bd3786"
             ],
             [
              0.5555555555555556,
              "#d8576b"
             ],
             [
              0.6666666666666666,
              "#ed7953"
             ],
             [
              0.7777777777777778,
              "#fb9f3a"
             ],
             [
              0.8888888888888888,
              "#fdca26"
             ],
             [
              1,
              "#f0f921"
             ]
            ],
            "type": "histogram2dcontour"
           }
          ],
          "mesh3d": [
           {
            "colorbar": {
             "outlinewidth": 0,
             "ticks": ""
            },
            "type": "mesh3d"
           }
          ],
          "parcoords": [
           {
            "line": {
             "colorbar": {
              "outlinewidth": 0,
              "ticks": ""
             }
            },
            "type": "parcoords"
           }
          ],
          "pie": [
           {
            "automargin": true,
            "type": "pie"
           }
          ],
          "scatter": [
           {
            "fillpattern": {
             "fillmode": "overlay",
             "size": 10,
             "solidity": 0.2
            },
            "type": "scatter"
           }
          ],
          "scatter3d": [
           {
            "line": {
             "colorbar": {
              "outlinewidth": 0,
              "ticks": ""
             }
            },
            "marker": {
             "colorbar": {
              "outlinewidth": 0,
              "ticks": ""
             }
            },
            "type": "scatter3d"
           }
          ],
          "scattercarpet": [
           {
            "marker": {
             "colorbar": {
              "outlinewidth": 0,
              "ticks": ""
             }
            },
            "type": "scattercarpet"
           }
          ],
          "scattergeo": [
           {
            "marker": {
             "colorbar": {
              "outlinewidth": 0,
              "ticks": ""
             }
            },
            "type": "scattergeo"
           }
          ],
          "scattergl": [
           {
            "marker": {
             "colorbar": {
              "outlinewidth": 0,
              "ticks": ""
             }
            },
            "type": "scattergl"
           }
          ],
          "scattermapbox": [
           {
            "marker": {
             "colorbar": {
              "outlinewidth": 0,
              "ticks": ""
             }
            },
            "type": "scattermapbox"
           }
          ],
          "scatterpolar": [
           {
            "marker": {
             "colorbar": {
              "outlinewidth": 0,
              "ticks": ""
             }
            },
            "type": "scatterpolar"
           }
          ],
          "scatterpolargl": [
           {
            "marker": {
             "colorbar": {
              "outlinewidth": 0,
              "ticks": ""
             }
            },
            "type": "scatterpolargl"
           }
          ],
          "scatterternary": [
           {
            "marker": {
             "colorbar": {
              "outlinewidth": 0,
              "ticks": ""
             }
            },
            "type": "scatterternary"
           }
          ],
          "surface": [
           {
            "colorbar": {
             "outlinewidth": 0,
             "ticks": ""
            },
            "colorscale": [
             [
              0,
              "#0d0887"
             ],
             [
              0.1111111111111111,
              "#46039f"
             ],
             [
              0.2222222222222222,
              "#7201a8"
             ],
             [
              0.3333333333333333,
              "#9c179e"
             ],
             [
              0.4444444444444444,
              "#bd3786"
             ],
             [
              0.5555555555555556,
              "#d8576b"
             ],
             [
              0.6666666666666666,
              "#ed7953"
             ],
             [
              0.7777777777777778,
              "#fb9f3a"
             ],
             [
              0.8888888888888888,
              "#fdca26"
             ],
             [
              1,
              "#f0f921"
             ]
            ],
            "type": "surface"
           }
          ],
          "table": [
           {
            "cells": {
             "fill": {
              "color": "#EBF0F8"
             },
             "line": {
              "color": "white"
             }
            },
            "header": {
             "fill": {
              "color": "#C8D4E3"
             },
             "line": {
              "color": "white"
             }
            },
            "type": "table"
           }
          ]
         },
         "layout": {
          "annotationdefaults": {
           "arrowcolor": "#2a3f5f",
           "arrowhead": 0,
           "arrowwidth": 1
          },
          "autotypenumbers": "strict",
          "coloraxis": {
           "colorbar": {
            "outlinewidth": 0,
            "ticks": ""
           }
          },
          "colorscale": {
           "diverging": [
            [
             0,
             "#8e0152"
            ],
            [
             0.1,
             "#c51b7d"
            ],
            [
             0.2,
             "#de77ae"
            ],
            [
             0.3,
             "#f1b6da"
            ],
            [
             0.4,
             "#fde0ef"
            ],
            [
             0.5,
             "#f7f7f7"
            ],
            [
             0.6,
             "#e6f5d0"
            ],
            [
             0.7,
             "#b8e186"
            ],
            [
             0.8,
             "#7fbc41"
            ],
            [
             0.9,
             "#4d9221"
            ],
            [
             1,
             "#276419"
            ]
           ],
           "sequential": [
            [
             0,
             "#0d0887"
            ],
            [
             0.1111111111111111,
             "#46039f"
            ],
            [
             0.2222222222222222,
             "#7201a8"
            ],
            [
             0.3333333333333333,
             "#9c179e"
            ],
            [
             0.4444444444444444,
             "#bd3786"
            ],
            [
             0.5555555555555556,
             "#d8576b"
            ],
            [
             0.6666666666666666,
             "#ed7953"
            ],
            [
             0.7777777777777778,
             "#fb9f3a"
            ],
            [
             0.8888888888888888,
             "#fdca26"
            ],
            [
             1,
             "#f0f921"
            ]
           ],
           "sequentialminus": [
            [
             0,
             "#0d0887"
            ],
            [
             0.1111111111111111,
             "#46039f"
            ],
            [
             0.2222222222222222,
             "#7201a8"
            ],
            [
             0.3333333333333333,
             "#9c179e"
            ],
            [
             0.4444444444444444,
             "#bd3786"
            ],
            [
             0.5555555555555556,
             "#d8576b"
            ],
            [
             0.6666666666666666,
             "#ed7953"
            ],
            [
             0.7777777777777778,
             "#fb9f3a"
            ],
            [
             0.8888888888888888,
             "#fdca26"
            ],
            [
             1,
             "#f0f921"
            ]
           ]
          },
          "colorway": [
           "#636efa",
           "#EF553B",
           "#00cc96",
           "#ab63fa",
           "#FFA15A",
           "#19d3f3",
           "#FF6692",
           "#B6E880",
           "#FF97FF",
           "#FECB52"
          ],
          "font": {
           "color": "#2a3f5f"
          },
          "geo": {
           "bgcolor": "white",
           "lakecolor": "white",
           "landcolor": "#E5ECF6",
           "showlakes": true,
           "showland": true,
           "subunitcolor": "white"
          },
          "hoverlabel": {
           "align": "left"
          },
          "hovermode": "closest",
          "mapbox": {
           "style": "light"
          },
          "paper_bgcolor": "white",
          "plot_bgcolor": "#E5ECF6",
          "polar": {
           "angularaxis": {
            "gridcolor": "white",
            "linecolor": "white",
            "ticks": ""
           },
           "bgcolor": "#E5ECF6",
           "radialaxis": {
            "gridcolor": "white",
            "linecolor": "white",
            "ticks": ""
           }
          },
          "scene": {
           "xaxis": {
            "backgroundcolor": "#E5ECF6",
            "gridcolor": "white",
            "gridwidth": 2,
            "linecolor": "white",
            "showbackground": true,
            "ticks": "",
            "zerolinecolor": "white"
           },
           "yaxis": {
            "backgroundcolor": "#E5ECF6",
            "gridcolor": "white",
            "gridwidth": 2,
            "linecolor": "white",
            "showbackground": true,
            "ticks": "",
            "zerolinecolor": "white"
           },
           "zaxis": {
            "backgroundcolor": "#E5ECF6",
            "gridcolor": "white",
            "gridwidth": 2,
            "linecolor": "white",
            "showbackground": true,
            "ticks": "",
            "zerolinecolor": "white"
           }
          },
          "shapedefaults": {
           "line": {
            "color": "#2a3f5f"
           }
          },
          "ternary": {
           "aaxis": {
            "gridcolor": "white",
            "linecolor": "white",
            "ticks": ""
           },
           "baxis": {
            "gridcolor": "white",
            "linecolor": "white",
            "ticks": ""
           },
           "bgcolor": "#E5ECF6",
           "caxis": {
            "gridcolor": "white",
            "linecolor": "white",
            "ticks": ""
           }
          },
          "title": {
           "x": 0.05
          },
          "xaxis": {
           "automargin": true,
           "gridcolor": "white",
           "linecolor": "white",
           "ticks": "",
           "title": {
            "standoff": 15
           },
           "zerolinecolor": "white",
           "zerolinewidth": 2
          },
          "yaxis": {
           "automargin": true,
           "gridcolor": "white",
           "linecolor": "white",
           "ticks": "",
           "title": {
            "standoff": 15
           },
           "zerolinecolor": "white",
           "zerolinewidth": 2
          }
         }
        },
        "xaxis": {
         "anchor": "y",
         "domain": [
          0,
          1
         ],
         "title": {
          "text": "Number of cores"
         }
        },
        "yaxis": {
         "anchor": "x",
         "domain": [
          0,
          1
         ],
         "title": {
          "text": "Run time (seconds)"
         }
        }
       }
      }
     },
     "metadata": {},
     "output_type": "display_data"
    }
   ],
   "source": [
    "# Run with 1 to 8 cores\n",
    "speed = []\n",
    "for i in range(1, 9):\n",
    "    start_time = time.time()\n",
    "\n",
    "    param = Defaults()\n",
    "    param.cores = i\n",
    "    my_trial = Trial(param)\n",
    "    my_trial.run_trial()\n",
    "\n",
    "    run_time = round((time.time() - start_time), 3)\n",
    "    speed.append({'cores': i, 'run_time': run_time})\n",
    "\n",
    "# Display and plot time by number of cores\n",
    "timing_results = pl.DataFrame(speed)\n",
    "print(timing_results)\n",
    "fig = px.line(timing_results, x='cores', y='run_time')\n",
    "fig.update_layout(\n",
    "    xaxis_title='Number of cores',\n",
    "    yaxis_title='Run time (seconds)'\n",
    ")\n",
    "fig.show()"
   ]
  },
  {
   "cell_type": "markdown",
   "metadata": {},
   "source": [
    "## Run time"
   ]
  },
  {
   "cell_type": "code",
   "execution_count": 15,
   "metadata": {},
   "outputs": [
    {
     "name": "stdout",
     "output_type": "stream",
     "text": [
      "Notebook run time: 0m 21s\n"
     ]
    }
   ],
   "source": [
    "# Get run time in seconds\n",
    "notebook_end_time = time.time()\n",
    "runtime = round(notebook_end_time - notebook_start_time)\n",
    "\n",
    "# Display converted to minutes and seconds\n",
    "print(f'Notebook run time: {runtime // 60}m {runtime % 60}s')"
   ]
  }
 ],
 "metadata": {
  "kernelspec": {
   "display_name": "template-des",
   "language": "python",
   "name": "python3"
  },
  "language_info": {
   "codemirror_mode": {
    "name": "ipython",
    "version": 3
   },
   "file_extension": ".py",
   "mimetype": "text/x-python",
   "name": "python",
   "nbconvert_exporter": "python",
   "pygments_lexer": "ipython3",
   "version": "3.13.0"
  }
 },
 "nbformat": 4,
 "nbformat_minor": 2
}
