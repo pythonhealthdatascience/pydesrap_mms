{
 "cells": [
  {
   "cell_type": "markdown",
   "metadata": {},
   "source": [
    "# Get parameters\n",
    "\n",
    "Process the synthetic data to obtain parameters for our simulation.\n",
    "\n",
    "The mean inter-arrival time was 3.98 mins and the mean service time was 9.99 mins. We will round these to 4 and 10 mins, respectively."
   ]
  },
  {
   "cell_type": "code",
   "execution_count": 1,
   "metadata": {},
   "outputs": [],
   "source": [
    "# pylint: disable=missing-module-docstring\n",
    "import pandas as pd"
   ]
  },
  {
   "cell_type": "markdown",
   "metadata": {},
   "source": [
    "## Import data"
   ]
  },
  {
   "cell_type": "code",
   "execution_count": 2,
   "metadata": {},
   "outputs": [
    {
     "data": {
      "text/html": [
       "<div>\n",
       "<style scoped>\n",
       "    .dataframe tbody tr th:only-of-type {\n",
       "        vertical-align: middle;\n",
       "    }\n",
       "\n",
       "    .dataframe tbody tr th {\n",
       "        vertical-align: top;\n",
       "    }\n",
       "\n",
       "    .dataframe thead th {\n",
       "        text-align: right;\n",
       "    }\n",
       "</style>\n",
       "<table border=\"1\" class=\"dataframe\">\n",
       "  <thead>\n",
       "    <tr style=\"text-align: right;\">\n",
       "      <th></th>\n",
       "      <th>ARRIVAL_DATE</th>\n",
       "      <th>ARRIVAL_TIME</th>\n",
       "      <th>SERVICE_DATE</th>\n",
       "      <th>SERVICE_TIME</th>\n",
       "      <th>DEPARTURE_DATE</th>\n",
       "      <th>DEPARTURE_TIME</th>\n",
       "    </tr>\n",
       "  </thead>\n",
       "  <tbody>\n",
       "    <tr>\n",
       "      <th>0</th>\n",
       "      <td>2025-01-01</td>\n",
       "      <td>0001</td>\n",
       "      <td>2025-01-01</td>\n",
       "      <td>0007</td>\n",
       "      <td>2025-01-01</td>\n",
       "      <td>0012</td>\n",
       "    </tr>\n",
       "    <tr>\n",
       "      <th>1</th>\n",
       "      <td>2025-01-01</td>\n",
       "      <td>0002</td>\n",
       "      <td>2025-01-01</td>\n",
       "      <td>0004</td>\n",
       "      <td>2025-01-01</td>\n",
       "      <td>0007</td>\n",
       "    </tr>\n",
       "    <tr>\n",
       "      <th>2</th>\n",
       "      <td>2025-01-01</td>\n",
       "      <td>0003</td>\n",
       "      <td>2025-01-01</td>\n",
       "      <td>0010</td>\n",
       "      <td>2025-01-01</td>\n",
       "      <td>0030</td>\n",
       "    </tr>\n",
       "    <tr>\n",
       "      <th>3</th>\n",
       "      <td>2025-01-01</td>\n",
       "      <td>0007</td>\n",
       "      <td>2025-01-01</td>\n",
       "      <td>0014</td>\n",
       "      <td>2025-01-01</td>\n",
       "      <td>0022</td>\n",
       "    </tr>\n",
       "    <tr>\n",
       "      <th>4</th>\n",
       "      <td>2025-01-01</td>\n",
       "      <td>0010</td>\n",
       "      <td>2025-01-01</td>\n",
       "      <td>0012</td>\n",
       "      <td>2025-01-01</td>\n",
       "      <td>0031</td>\n",
       "    </tr>\n",
       "  </tbody>\n",
       "</table>\n",
       "</div>"
      ],
      "text/plain": [
       "  ARRIVAL_DATE ARRIVAL_TIME SERVICE_DATE SERVICE_TIME DEPARTURE_DATE  \\\n",
       "0   2025-01-01         0001   2025-01-01         0007     2025-01-01   \n",
       "1   2025-01-01         0002   2025-01-01         0004     2025-01-01   \n",
       "2   2025-01-01         0003   2025-01-01         0010     2025-01-01   \n",
       "3   2025-01-01         0007   2025-01-01         0014     2025-01-01   \n",
       "4   2025-01-01         0010   2025-01-01         0012     2025-01-01   \n",
       "\n",
       "  DEPARTURE_TIME  \n",
       "0           0012  \n",
       "1           0007  \n",
       "2           0030  \n",
       "3           0022  \n",
       "4           0031  "
      ]
     },
     "execution_count": 2,
     "metadata": {},
     "output_type": "execute_result"
    }
   ],
   "source": [
    "# Import the dataset\n",
    "df = pd.read_csv(\"../inputs/NHS_synthetic.csv\", dtype={\n",
    "    \"ARRIVAL_TIME\": str,\n",
    "    \"SERVICE_TIME\": str,\n",
    "    \"DEPARTURE_TIME\": str\n",
    "})\n",
    "df.head()"
   ]
  },
  {
   "cell_type": "markdown",
   "metadata": {},
   "source": [
    "## Arrival times"
   ]
  },
  {
   "cell_type": "code",
   "execution_count": 3,
   "metadata": {},
   "outputs": [
    {
     "name": "stdout",
     "output_type": "stream",
     "text": [
      "Mean inter-arrival time (mins): 3.9843611416442406\n"
     ]
    }
   ],
   "source": [
    "# Combine date/time and convert to datetime\n",
    "df[\"arrival_datetime\"] = pd.to_datetime(\n",
    "    df[\"ARRIVAL_DATE\"] + \" \" + df[\"ARRIVAL_TIME\"].str.zfill(4),\n",
    "    format=\"%Y-%m-%d %H%M\"\n",
    ")\n",
    "\n",
    "# Sort by arrival time and calculate inter-arrival times\n",
    "df_sorted = df.sort_values(\"arrival_datetime\")\n",
    "df_sorted[\"iat_mins\"] = (\n",
    "    df_sorted[\"arrival_datetime\"].diff().dt.total_seconds() / 60\n",
    ")\n",
    "\n",
    "# Get mean inter-arrival time\n",
    "print(f\"Mean inter-arrival time (mins): {df_sorted[\"iat_mins\"].mean()}\")"
   ]
  },
  {
   "cell_type": "markdown",
   "metadata": {},
   "source": [
    "## Length of service"
   ]
  },
  {
   "cell_type": "code",
   "execution_count": 4,
   "metadata": {},
   "outputs": [
    {
     "name": "stdout",
     "output_type": "stream",
     "text": [
      "Mean service length (mins): 9.991570393280572\n"
     ]
    }
   ],
   "source": [
    "# Combine dates with times\n",
    "df[\"service_datetime\"] = pd.to_datetime(\n",
    "    df[\"SERVICE_DATE\"] + \" \" + df[\"SERVICE_TIME\"].str.zfill(4)\n",
    ")\n",
    "df[\"departure_datetime\"] = pd.to_datetime(\n",
    "    df[\"DEPARTURE_DATE\"] + \" \" + df[\"DEPARTURE_TIME\"].str.zfill(4)\n",
    ")\n",
    "\n",
    "# Calculate time difference in minutes\n",
    "time_delta = df[\"departure_datetime\"] - df[\"service_datetime\"]\n",
    "df[\"service_mins\"] = time_delta / pd.Timedelta(minutes=1)\n",
    "\n",
    "# Find the mean length of service\n",
    "print(f\"Mean service length (mins): {df[\"service_mins\"].mean()}\")"
   ]
  }
 ],
 "metadata": {
  "kernelspec": {
   "display_name": "template-des",
   "language": "python",
   "name": "python3"
  },
  "language_info": {
   "codemirror_mode": {
    "name": "ipython",
    "version": 3
   },
   "file_extension": ".py",
   "mimetype": "text/x-python",
   "name": "python",
   "nbconvert_exporter": "python",
   "pygments_lexer": "ipython3",
   "version": "3.13.1"
  }
 },
 "nbformat": 4,
 "nbformat_minor": 2
}
