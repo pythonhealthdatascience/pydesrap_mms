{
 "cells": [
  {
   "cell_type": "markdown",
   "metadata": {},
   "source": [
    "# Analysis\n",
    "\n",
    "In this analysis, unit of time used in simulation is minutes.\n",
    "\n",
    "Credit:\n",
    "\n",
    "* Analysis of the warm-up period, number of replications and spread of results across replications is adapted from Tom Monks (2024) HPDM097 - Making a difference with health data (https://github.com/health-data-science-OR/stochastic_systems) (MIT License). \n",
    "\n",
    "License:\n",
    "\n",
    "* This project is licensed under the MIT License. See the LICENSE file for more details.\n",
    "\n",
    "TODO: Create Latex-formatted table.\n",
    "\n",
    "TODO: Mention alternative methods for choosing warm-up period length (or keep it simple?)\n",
    "\n",
    "TODO: Mention alternative methods for choosing number of replications (or keep it simple?)\n",
    "\n",
    "TODO: Consider whether to add time unit to model docstrings etc."
   ]
  },
  {
   "cell_type": "code",
   "execution_count": 1,
   "metadata": {},
   "outputs": [],
   "source": [
    "# Model code\n",
    "from model import Defaults, Trial\n",
    "\n",
    "# Other dependencies\n",
    "import numpy as np\n",
    "import time\n",
    "import itertools\n",
    "from IPython.display import display\n",
    "import pandas as pd\n",
    "import plotly.express as px\n",
    "import scipy.stats as st\n",
    "import warnings"
   ]
  },
  {
   "cell_type": "markdown",
   "metadata": {},
   "source": [
    "## Choosing length of warm-up period\n",
    "\n",
    "A suitable length for the warm-up period can be determined using the **time series inspection approach**. This involves looking at performance measures over time to identify when the system is exhibiting **steady state behaviour** (even though the system will never truly reach a \"steady state\").\n",
    "\n",
    "If we simply plot the mean result at regular intervals, this would vary too much. Therefore, we plot the **cumulative mean** of the performance measure, and look for the point at which this **smoothes out and stabilises**. This indicates the point for the warm-up period to end.\n",
    "\n",
    "This should be assessed when running the model using the base case parameters. If these change, you should reassess the appropriate warm-up period."
   ]
  },
  {
   "cell_type": "code",
   "execution_count": 2,
   "metadata": {},
   "outputs": [],
   "source": [
    "def time_series_inspection(data_collection_period, warm_up=None):\n",
    "    \"\"\"\n",
    "    Time series inspection method for determining length of warm-up.\n",
    "\n",
    "    Arguments:\n",
    "        data_collection_period (float):\n",
    "            Length of time to run the simulation for.\n",
    "        warm_up (float, optional):\n",
    "            Location on X axis to plot vertical red line indicating the chosen\n",
    "            warm-up period. Defaults to None, which will not plot a line.\n",
    "    \"\"\"\n",
    "    # Use default parameters, but with no warm-up and specified run length,\n",
    "    # and with no replications\n",
    "    param = Defaults()\n",
    "    param.warm_up_period = 0\n",
    "    param.data_collection_period = data_collection_period\n",
    "    param.number_of_runs = 1\n",
    "    # display(param.__dict__)\n",
    "\n",
    "    # Run model\n",
    "    choose_warmup = Trial(param)\n",
    "    choose_warmup.run_trial()\n",
    "\n",
    "    # Filter to nurse results\n",
    "    nurse = choose_warmup.interval_audit_df[\n",
    "        choose_warmup.interval_audit_df['resource_name'] == 'nurse']\n",
    "\n",
    "    # Define columns to analyse\n",
    "    plot = {\n",
    "        'utilisation': 'Cumulative mean nurse utilisation',\n",
    "        'running_mean_wait_time': 'Running mean nurse wait time'\n",
    "    }\n",
    "    for var, label in plot.items():\n",
    "        # Reformat so index is simulation time and columns are each run\n",
    "        reformat = (\n",
    "            nurse[['simulation_time', var, 'run']]\n",
    "            .pivot(index='simulation_time',\n",
    "                columns='run',\n",
    "                values=var))\n",
    "\n",
    "        # For utilisation, calculate cumulative mean (not necessary\n",
    "        # for wait time as that is already a running mean)\n",
    "        if var == 'utilisation':\n",
    "            cumulative = reformat.expanding().mean()\n",
    "        elif var == 'running_mean_wait_time':\n",
    "            cumulative = reformat.copy()\n",
    "\n",
    "        # Create plot. If specified, add vertical line to indicate suggested\n",
    "        # warm-up length\n",
    "        fig = px.line(cumulative)\n",
    "        fig.update_layout(\n",
    "            xaxis_title = 'Run time (minutes)',\n",
    "            yaxis_title = label,\n",
    "            showlegend=False\n",
    "        )\n",
    "        if warm_up is not None:\n",
    "            fig.add_vline(x=warm_up, line_color='red', line_dash='dash')\n",
    "        fig.show()"
   ]
  },
  {
   "cell_type": "markdown",
   "metadata": {},
   "source": [
    "Having run the model for three days, it appears to reach a steady state at around 2500 minutes."
   ]
  },
  {
   "cell_type": "code",
   "execution_count": 3,
   "metadata": {},
   "outputs": [
    {
     "name": "stderr",
     "output_type": "stream",
     "text": [
      "/home/amy/Documents/stars/rap_template_python_des/model.py:501: SmallSampleWarning: One or more sample arguments is too small; all returned values will be NaN. See documentation for sample size requirements.\n",
      "  confidence=0.95, df=len(data)-1, loc=mean, scale=st.sem(data))\n"
     ]
    },
    {
     "data": {
      "application/vnd.plotly.v1+json": {
       "config": {
        "plotlyServerURL": "https://plot.ly"
       },
       "data": [
        {
         "hovertemplate": "run=0<br>simulation_time=%{x}<br>value=%{y}<extra></extra>",
         "legendgroup": "0",
         "line": {
          "color": "#636efa",
          "dash": "solid"
         },
         "marker": {
          "symbol": "circle"
         },
         "mode": "lines",
         "name": "0",
         "orientation": "v",
         "showlegend": true,
         "type": "scatter",
         "x": [
          0,
          120,
          240,
          360,
          480,
          600,
          720,
          840,
          960,
          1080,
          1200,
          1320,
          1440,
          1560,
          1680,
          1800,
          1920,
          2040,
          2160,
          2280,
          2400,
          2520,
          2640,
          2760,
          2880,
          3000,
          3120,
          3240,
          3360,
          3480,
          3600,
          3720,
          3840,
          3960,
          4080,
          4200
         ],
         "xaxis": "x",
         "y": [
          0,
          0.3,
          0.39999999999999997,
          0.35,
          0.32,
          0.26666666666666666,
          0.2571428571428572,
          0.25,
          0.26666666666666666,
          0.27999999999999997,
          0.29090909090909095,
          0.2833333333333333,
          0.3384615384615385,
          0.35714285714285715,
          0.3466666666666667,
          0.3875,
          0.3764705882352941,
          0.37777777777777777,
          0.38947368421052636,
          0.39,
          0.4,
          0.4090909090909091,
          0.39999999999999997,
          0.39999999999999997,
          0.4,
          0.4,
          0.4148148148148148,
          0.39999999999999997,
          0.40689655172413797,
          0.42,
          0.4258064516129032,
          0.41875,
          0.4303030303030303,
          0.4294117647058823,
          0.4342857142857143,
          0.4222222222222222
         ],
         "yaxis": "y"
        }
       ],
       "layout": {
        "legend": {
         "title": {
          "text": "run"
         },
         "tracegroupgap": 0
        },
        "margin": {
         "t": 60
        },
        "shapes": [
         {
          "line": {
           "color": "red",
           "dash": "dash"
          },
          "type": "line",
          "x0": 2520,
          "x1": 2520,
          "xref": "x",
          "y0": 0,
          "y1": 1,
          "yref": "y domain"
         }
        ],
        "showlegend": false,
        "template": {
         "data": {
          "bar": [
           {
            "error_x": {
             "color": "#2a3f5f"
            },
            "error_y": {
             "color": "#2a3f5f"
            },
            "marker": {
             "line": {
              "color": "#E5ECF6",
              "width": 0.5
             },
             "pattern": {
              "fillmode": "overlay",
              "size": 10,
              "solidity": 0.2
             }
            },
            "type": "bar"
           }
          ],
          "barpolar": [
           {
            "marker": {
             "line": {
              "color": "#E5ECF6",
              "width": 0.5
             },
             "pattern": {
              "fillmode": "overlay",
              "size": 10,
              "solidity": 0.2
             }
            },
            "type": "barpolar"
           }
          ],
          "carpet": [
           {
            "aaxis": {
             "endlinecolor": "#2a3f5f",
             "gridcolor": "white",
             "linecolor": "white",
             "minorgridcolor": "white",
             "startlinecolor": "#2a3f5f"
            },
            "baxis": {
             "endlinecolor": "#2a3f5f",
             "gridcolor": "white",
             "linecolor": "white",
             "minorgridcolor": "white",
             "startlinecolor": "#2a3f5f"
            },
            "type": "carpet"
           }
          ],
          "choropleth": [
           {
            "colorbar": {
             "outlinewidth": 0,
             "ticks": ""
            },
            "type": "choropleth"
           }
          ],
          "contour": [
           {
            "colorbar": {
             "outlinewidth": 0,
             "ticks": ""
            },
            "colorscale": [
             [
              0,
              "#0d0887"
             ],
             [
              0.1111111111111111,
              "#46039f"
             ],
             [
              0.2222222222222222,
              "#7201a8"
             ],
             [
              0.3333333333333333,
              "#9c179e"
             ],
             [
              0.4444444444444444,
              "#bd3786"
             ],
             [
              0.5555555555555556,
              "#d8576b"
             ],
             [
              0.6666666666666666,
              "#ed7953"
             ],
             [
              0.7777777777777778,
              "#fb9f3a"
             ],
             [
              0.8888888888888888,
              "#fdca26"
             ],
             [
              1,
              "#f0f921"
             ]
            ],
            "type": "contour"
           }
          ],
          "contourcarpet": [
           {
            "colorbar": {
             "outlinewidth": 0,
             "ticks": ""
            },
            "type": "contourcarpet"
           }
          ],
          "heatmap": [
           {
            "colorbar": {
             "outlinewidth": 0,
             "ticks": ""
            },
            "colorscale": [
             [
              0,
              "#0d0887"
             ],
             [
              0.1111111111111111,
              "#46039f"
             ],
             [
              0.2222222222222222,
              "#7201a8"
             ],
             [
              0.3333333333333333,
              "#9c179e"
             ],
             [
              0.4444444444444444,
              "#bd3786"
             ],
             [
              0.5555555555555556,
              "#d8576b"
             ],
             [
              0.6666666666666666,
              "#ed7953"
             ],
             [
              0.7777777777777778,
              "#fb9f3a"
             ],
             [
              0.8888888888888888,
              "#fdca26"
             ],
             [
              1,
              "#f0f921"
             ]
            ],
            "type": "heatmap"
           }
          ],
          "heatmapgl": [
           {
            "colorbar": {
             "outlinewidth": 0,
             "ticks": ""
            },
            "colorscale": [
             [
              0,
              "#0d0887"
             ],
             [
              0.1111111111111111,
              "#46039f"
             ],
             [
              0.2222222222222222,
              "#7201a8"
             ],
             [
              0.3333333333333333,
              "#9c179e"
             ],
             [
              0.4444444444444444,
              "#bd3786"
             ],
             [
              0.5555555555555556,
              "#d8576b"
             ],
             [
              0.6666666666666666,
              "#ed7953"
             ],
             [
              0.7777777777777778,
              "#fb9f3a"
             ],
             [
              0.8888888888888888,
              "#fdca26"
             ],
             [
              1,
              "#f0f921"
             ]
            ],
            "type": "heatmapgl"
           }
          ],
          "histogram": [
           {
            "marker": {
             "pattern": {
              "fillmode": "overlay",
              "size": 10,
              "solidity": 0.2
             }
            },
            "type": "histogram"
           }
          ],
          "histogram2d": [
           {
            "colorbar": {
             "outlinewidth": 0,
             "ticks": ""
            },
            "colorscale": [
             [
              0,
              "#0d0887"
             ],
             [
              0.1111111111111111,
              "#46039f"
             ],
             [
              0.2222222222222222,
              "#7201a8"
             ],
             [
              0.3333333333333333,
              "#9c179e"
             ],
             [
              0.4444444444444444,
              "#bd3786"
             ],
             [
              0.5555555555555556,
              "#d8576b"
             ],
             [
              0.6666666666666666,
              "#ed7953"
             ],
             [
              0.7777777777777778,
              "#fb9f3a"
             ],
             [
              0.8888888888888888,
              "#fdca26"
             ],
             [
              1,
              "#f0f921"
             ]
            ],
            "type": "histogram2d"
           }
          ],
          "histogram2dcontour": [
           {
            "colorbar": {
             "outlinewidth": 0,
             "ticks": ""
            },
            "colorscale": [
             [
              0,
              "#0d0887"
             ],
             [
              0.1111111111111111,
              "#46039f"
             ],
             [
              0.2222222222222222,
              "#7201a8"
             ],
             [
              0.3333333333333333,
              "#9c179e"
             ],
             [
              0.4444444444444444,
              "#bd3786"
             ],
             [
              0.5555555555555556,
              "#d8576b"
             ],
             [
              0.6666666666666666,
              "#ed7953"
             ],
             [
              0.7777777777777778,
              "#fb9f3a"
             ],
             [
              0.8888888888888888,
              "#fdca26"
             ],
             [
              1,
              "#f0f921"
             ]
            ],
            "type": "histogram2dcontour"
           }
          ],
          "mesh3d": [
           {
            "colorbar": {
             "outlinewidth": 0,
             "ticks": ""
            },
            "type": "mesh3d"
           }
          ],
          "parcoords": [
           {
            "line": {
             "colorbar": {
              "outlinewidth": 0,
              "ticks": ""
             }
            },
            "type": "parcoords"
           }
          ],
          "pie": [
           {
            "automargin": true,
            "type": "pie"
           }
          ],
          "scatter": [
           {
            "fillpattern": {
             "fillmode": "overlay",
             "size": 10,
             "solidity": 0.2
            },
            "type": "scatter"
           }
          ],
          "scatter3d": [
           {
            "line": {
             "colorbar": {
              "outlinewidth": 0,
              "ticks": ""
             }
            },
            "marker": {
             "colorbar": {
              "outlinewidth": 0,
              "ticks": ""
             }
            },
            "type": "scatter3d"
           }
          ],
          "scattercarpet": [
           {
            "marker": {
             "colorbar": {
              "outlinewidth": 0,
              "ticks": ""
             }
            },
            "type": "scattercarpet"
           }
          ],
          "scattergeo": [
           {
            "marker": {
             "colorbar": {
              "outlinewidth": 0,
              "ticks": ""
             }
            },
            "type": "scattergeo"
           }
          ],
          "scattergl": [
           {
            "marker": {
             "colorbar": {
              "outlinewidth": 0,
              "ticks": ""
             }
            },
            "type": "scattergl"
           }
          ],
          "scattermapbox": [
           {
            "marker": {
             "colorbar": {
              "outlinewidth": 0,
              "ticks": ""
             }
            },
            "type": "scattermapbox"
           }
          ],
          "scatterpolar": [
           {
            "marker": {
             "colorbar": {
              "outlinewidth": 0,
              "ticks": ""
             }
            },
            "type": "scatterpolar"
           }
          ],
          "scatterpolargl": [
           {
            "marker": {
             "colorbar": {
              "outlinewidth": 0,
              "ticks": ""
             }
            },
            "type": "scatterpolargl"
           }
          ],
          "scatterternary": [
           {
            "marker": {
             "colorbar": {
              "outlinewidth": 0,
              "ticks": ""
             }
            },
            "type": "scatterternary"
           }
          ],
          "surface": [
           {
            "colorbar": {
             "outlinewidth": 0,
             "ticks": ""
            },
            "colorscale": [
             [
              0,
              "#0d0887"
             ],
             [
              0.1111111111111111,
              "#46039f"
             ],
             [
              0.2222222222222222,
              "#7201a8"
             ],
             [
              0.3333333333333333,
              "#9c179e"
             ],
             [
              0.4444444444444444,
              "#bd3786"
             ],
             [
              0.5555555555555556,
              "#d8576b"
             ],
             [
              0.6666666666666666,
              "#ed7953"
             ],
             [
              0.7777777777777778,
              "#fb9f3a"
             ],
             [
              0.8888888888888888,
              "#fdca26"
             ],
             [
              1,
              "#f0f921"
             ]
            ],
            "type": "surface"
           }
          ],
          "table": [
           {
            "cells": {
             "fill": {
              "color": "#EBF0F8"
             },
             "line": {
              "color": "white"
             }
            },
            "header": {
             "fill": {
              "color": "#C8D4E3"
             },
             "line": {
              "color": "white"
             }
            },
            "type": "table"
           }
          ]
         },
         "layout": {
          "annotationdefaults": {
           "arrowcolor": "#2a3f5f",
           "arrowhead": 0,
           "arrowwidth": 1
          },
          "autotypenumbers": "strict",
          "coloraxis": {
           "colorbar": {
            "outlinewidth": 0,
            "ticks": ""
           }
          },
          "colorscale": {
           "diverging": [
            [
             0,
             "#8e0152"
            ],
            [
             0.1,
             "#c51b7d"
            ],
            [
             0.2,
             "#de77ae"
            ],
            [
             0.3,
             "#f1b6da"
            ],
            [
             0.4,
             "#fde0ef"
            ],
            [
             0.5,
             "#f7f7f7"
            ],
            [
             0.6,
             "#e6f5d0"
            ],
            [
             0.7,
             "#b8e186"
            ],
            [
             0.8,
             "#7fbc41"
            ],
            [
             0.9,
             "#4d9221"
            ],
            [
             1,
             "#276419"
            ]
           ],
           "sequential": [
            [
             0,
             "#0d0887"
            ],
            [
             0.1111111111111111,
             "#46039f"
            ],
            [
             0.2222222222222222,
             "#7201a8"
            ],
            [
             0.3333333333333333,
             "#9c179e"
            ],
            [
             0.4444444444444444,
             "#bd3786"
            ],
            [
             0.5555555555555556,
             "#d8576b"
            ],
            [
             0.6666666666666666,
             "#ed7953"
            ],
            [
             0.7777777777777778,
             "#fb9f3a"
            ],
            [
             0.8888888888888888,
             "#fdca26"
            ],
            [
             1,
             "#f0f921"
            ]
           ],
           "sequentialminus": [
            [
             0,
             "#0d0887"
            ],
            [
             0.1111111111111111,
             "#46039f"
            ],
            [
             0.2222222222222222,
             "#7201a8"
            ],
            [
             0.3333333333333333,
             "#9c179e"
            ],
            [
             0.4444444444444444,
             "#bd3786"
            ],
            [
             0.5555555555555556,
             "#d8576b"
            ],
            [
             0.6666666666666666,
             "#ed7953"
            ],
            [
             0.7777777777777778,
             "#fb9f3a"
            ],
            [
             0.8888888888888888,
             "#fdca26"
            ],
            [
             1,
             "#f0f921"
            ]
           ]
          },
          "colorway": [
           "#636efa",
           "#EF553B",
           "#00cc96",
           "#ab63fa",
           "#FFA15A",
           "#19d3f3",
           "#FF6692",
           "#B6E880",
           "#FF97FF",
           "#FECB52"
          ],
          "font": {
           "color": "#2a3f5f"
          },
          "geo": {
           "bgcolor": "white",
           "lakecolor": "white",
           "landcolor": "#E5ECF6",
           "showlakes": true,
           "showland": true,
           "subunitcolor": "white"
          },
          "hoverlabel": {
           "align": "left"
          },
          "hovermode": "closest",
          "mapbox": {
           "style": "light"
          },
          "paper_bgcolor": "white",
          "plot_bgcolor": "#E5ECF6",
          "polar": {
           "angularaxis": {
            "gridcolor": "white",
            "linecolor": "white",
            "ticks": ""
           },
           "bgcolor": "#E5ECF6",
           "radialaxis": {
            "gridcolor": "white",
            "linecolor": "white",
            "ticks": ""
           }
          },
          "scene": {
           "xaxis": {
            "backgroundcolor": "#E5ECF6",
            "gridcolor": "white",
            "gridwidth": 2,
            "linecolor": "white",
            "showbackground": true,
            "ticks": "",
            "zerolinecolor": "white"
           },
           "yaxis": {
            "backgroundcolor": "#E5ECF6",
            "gridcolor": "white",
            "gridwidth": 2,
            "linecolor": "white",
            "showbackground": true,
            "ticks": "",
            "zerolinecolor": "white"
           },
           "zaxis": {
            "backgroundcolor": "#E5ECF6",
            "gridcolor": "white",
            "gridwidth": 2,
            "linecolor": "white",
            "showbackground": true,
            "ticks": "",
            "zerolinecolor": "white"
           }
          },
          "shapedefaults": {
           "line": {
            "color": "#2a3f5f"
           }
          },
          "ternary": {
           "aaxis": {
            "gridcolor": "white",
            "linecolor": "white",
            "ticks": ""
           },
           "baxis": {
            "gridcolor": "white",
            "linecolor": "white",
            "ticks": ""
           },
           "bgcolor": "#E5ECF6",
           "caxis": {
            "gridcolor": "white",
            "linecolor": "white",
            "ticks": ""
           }
          },
          "title": {
           "x": 0.05
          },
          "xaxis": {
           "automargin": true,
           "gridcolor": "white",
           "linecolor": "white",
           "ticks": "",
           "title": {
            "standoff": 15
           },
           "zerolinecolor": "white",
           "zerolinewidth": 2
          },
          "yaxis": {
           "automargin": true,
           "gridcolor": "white",
           "linecolor": "white",
           "ticks": "",
           "title": {
            "standoff": 15
           },
           "zerolinecolor": "white",
           "zerolinewidth": 2
          }
         }
        },
        "xaxis": {
         "anchor": "y",
         "domain": [
          0,
          1
         ],
         "title": {
          "text": "Run time (minutes)"
         }
        },
        "yaxis": {
         "anchor": "x",
         "domain": [
          0,
          1
         ],
         "title": {
          "text": "Cumulative mean nurse utilisation"
         }
        }
       }
      }
     },
     "metadata": {},
     "output_type": "display_data"
    },
    {
     "data": {
      "application/vnd.plotly.v1+json": {
       "config": {
        "plotlyServerURL": "https://plot.ly"
       },
       "data": [
        {
         "hovertemplate": "run=0<br>simulation_time=%{x}<br>value=%{y}<extra></extra>",
         "legendgroup": "0",
         "line": {
          "color": "#636efa",
          "dash": "solid"
         },
         "marker": {
          "symbol": "circle"
         },
         "mode": "lines",
         "name": "0",
         "orientation": "v",
         "showlegend": true,
         "type": "scatter",
         "x": [
          0,
          120,
          240,
          360,
          480,
          600,
          720,
          840,
          960,
          1080,
          1200,
          1320,
          1440,
          1560,
          1680,
          1800,
          1920,
          2040,
          2160,
          2280,
          2400,
          2520,
          2640,
          2760,
          2880,
          3000,
          3120,
          3240,
          3360,
          3480,
          3600,
          3720,
          3840,
          3960,
          4080,
          4200
         ],
         "xaxis": "x",
         "y": [
          0,
          0.1850812125177364,
          0.27293124698759036,
          0.16748053792420323,
          0.12815902032460771,
          0.10757873968853933,
          0.7775449421583632,
          0.6405489285399849,
          0.5855465140647299,
          0.5957191187844486,
          0.548688662038308,
          0.5817940262693283,
          0.5353593851431566,
          0.4954821346023178,
          0.47245100669119877,
          0.4868107775118521,
          0.46015274287212593,
          0.44014610187768555,
          0.4227129753701152,
          0.4000169766925251,
          0.3857768901436003,
          0.4124383536388688,
          0.3977084124374807,
          0.37748595078811714,
          0.45739615362189323,
          0.44211042098157305,
          0.44090411421823766,
          0.428276788751367,
          0.412287664630186,
          0.4016807112895885,
          0.4117119594328106,
          0.40236404193605335,
          0.3973051982695963,
          0.4218534759267196,
          0.40954103826584787,
          0.401190803936053
         ],
         "yaxis": "y"
        }
       ],
       "layout": {
        "legend": {
         "title": {
          "text": "run"
         },
         "tracegroupgap": 0
        },
        "margin": {
         "t": 60
        },
        "shapes": [
         {
          "line": {
           "color": "red",
           "dash": "dash"
          },
          "type": "line",
          "x0": 2520,
          "x1": 2520,
          "xref": "x",
          "y0": 0,
          "y1": 1,
          "yref": "y domain"
         }
        ],
        "showlegend": false,
        "template": {
         "data": {
          "bar": [
           {
            "error_x": {
             "color": "#2a3f5f"
            },
            "error_y": {
             "color": "#2a3f5f"
            },
            "marker": {
             "line": {
              "color": "#E5ECF6",
              "width": 0.5
             },
             "pattern": {
              "fillmode": "overlay",
              "size": 10,
              "solidity": 0.2
             }
            },
            "type": "bar"
           }
          ],
          "barpolar": [
           {
            "marker": {
             "line": {
              "color": "#E5ECF6",
              "width": 0.5
             },
             "pattern": {
              "fillmode": "overlay",
              "size": 10,
              "solidity": 0.2
             }
            },
            "type": "barpolar"
           }
          ],
          "carpet": [
           {
            "aaxis": {
             "endlinecolor": "#2a3f5f",
             "gridcolor": "white",
             "linecolor": "white",
             "minorgridcolor": "white",
             "startlinecolor": "#2a3f5f"
            },
            "baxis": {
             "endlinecolor": "#2a3f5f",
             "gridcolor": "white",
             "linecolor": "white",
             "minorgridcolor": "white",
             "startlinecolor": "#2a3f5f"
            },
            "type": "carpet"
           }
          ],
          "choropleth": [
           {
            "colorbar": {
             "outlinewidth": 0,
             "ticks": ""
            },
            "type": "choropleth"
           }
          ],
          "contour": [
           {
            "colorbar": {
             "outlinewidth": 0,
             "ticks": ""
            },
            "colorscale": [
             [
              0,
              "#0d0887"
             ],
             [
              0.1111111111111111,
              "#46039f"
             ],
             [
              0.2222222222222222,
              "#7201a8"
             ],
             [
              0.3333333333333333,
              "#9c179e"
             ],
             [
              0.4444444444444444,
              "#bd3786"
             ],
             [
              0.5555555555555556,
              "#d8576b"
             ],
             [
              0.6666666666666666,
              "#ed7953"
             ],
             [
              0.7777777777777778,
              "#fb9f3a"
             ],
             [
              0.8888888888888888,
              "#fdca26"
             ],
             [
              1,
              "#f0f921"
             ]
            ],
            "type": "contour"
           }
          ],
          "contourcarpet": [
           {
            "colorbar": {
             "outlinewidth": 0,
             "ticks": ""
            },
            "type": "contourcarpet"
           }
          ],
          "heatmap": [
           {
            "colorbar": {
             "outlinewidth": 0,
             "ticks": ""
            },
            "colorscale": [
             [
              0,
              "#0d0887"
             ],
             [
              0.1111111111111111,
              "#46039f"
             ],
             [
              0.2222222222222222,
              "#7201a8"
             ],
             [
              0.3333333333333333,
              "#9c179e"
             ],
             [
              0.4444444444444444,
              "#bd3786"
             ],
             [
              0.5555555555555556,
              "#d8576b"
             ],
             [
              0.6666666666666666,
              "#ed7953"
             ],
             [
              0.7777777777777778,
              "#fb9f3a"
             ],
             [
              0.8888888888888888,
              "#fdca26"
             ],
             [
              1,
              "#f0f921"
             ]
            ],
            "type": "heatmap"
           }
          ],
          "heatmapgl": [
           {
            "colorbar": {
             "outlinewidth": 0,
             "ticks": ""
            },
            "colorscale": [
             [
              0,
              "#0d0887"
             ],
             [
              0.1111111111111111,
              "#46039f"
             ],
             [
              0.2222222222222222,
              "#7201a8"
             ],
             [
              0.3333333333333333,
              "#9c179e"
             ],
             [
              0.4444444444444444,
              "#bd3786"
             ],
             [
              0.5555555555555556,
              "#d8576b"
             ],
             [
              0.6666666666666666,
              "#ed7953"
             ],
             [
              0.7777777777777778,
              "#fb9f3a"
             ],
             [
              0.8888888888888888,
              "#fdca26"
             ],
             [
              1,
              "#f0f921"
             ]
            ],
            "type": "heatmapgl"
           }
          ],
          "histogram": [
           {
            "marker": {
             "pattern": {
              "fillmode": "overlay",
              "size": 10,
              "solidity": 0.2
             }
            },
            "type": "histogram"
           }
          ],
          "histogram2d": [
           {
            "colorbar": {
             "outlinewidth": 0,
             "ticks": ""
            },
            "colorscale": [
             [
              0,
              "#0d0887"
             ],
             [
              0.1111111111111111,
              "#46039f"
             ],
             [
              0.2222222222222222,
              "#7201a8"
             ],
             [
              0.3333333333333333,
              "#9c179e"
             ],
             [
              0.4444444444444444,
              "#bd3786"
             ],
             [
              0.5555555555555556,
              "#d8576b"
             ],
             [
              0.6666666666666666,
              "#ed7953"
             ],
             [
              0.7777777777777778,
              "#fb9f3a"
             ],
             [
              0.8888888888888888,
              "#fdca26"
             ],
             [
              1,
              "#f0f921"
             ]
            ],
            "type": "histogram2d"
           }
          ],
          "histogram2dcontour": [
           {
            "colorbar": {
             "outlinewidth": 0,
             "ticks": ""
            },
            "colorscale": [
             [
              0,
              "#0d0887"
             ],
             [
              0.1111111111111111,
              "#46039f"
             ],
             [
              0.2222222222222222,
              "#7201a8"
             ],
             [
              0.3333333333333333,
              "#9c179e"
             ],
             [
              0.4444444444444444,
              "#bd3786"
             ],
             [
              0.5555555555555556,
              "#d8576b"
             ],
             [
              0.6666666666666666,
              "#ed7953"
             ],
             [
              0.7777777777777778,
              "#fb9f3a"
             ],
             [
              0.8888888888888888,
              "#fdca26"
             ],
             [
              1,
              "#f0f921"
             ]
            ],
            "type": "histogram2dcontour"
           }
          ],
          "mesh3d": [
           {
            "colorbar": {
             "outlinewidth": 0,
             "ticks": ""
            },
            "type": "mesh3d"
           }
          ],
          "parcoords": [
           {
            "line": {
             "colorbar": {
              "outlinewidth": 0,
              "ticks": ""
             }
            },
            "type": "parcoords"
           }
          ],
          "pie": [
           {
            "automargin": true,
            "type": "pie"
           }
          ],
          "scatter": [
           {
            "fillpattern": {
             "fillmode": "overlay",
             "size": 10,
             "solidity": 0.2
            },
            "type": "scatter"
           }
          ],
          "scatter3d": [
           {
            "line": {
             "colorbar": {
              "outlinewidth": 0,
              "ticks": ""
             }
            },
            "marker": {
             "colorbar": {
              "outlinewidth": 0,
              "ticks": ""
             }
            },
            "type": "scatter3d"
           }
          ],
          "scattercarpet": [
           {
            "marker": {
             "colorbar": {
              "outlinewidth": 0,
              "ticks": ""
             }
            },
            "type": "scattercarpet"
           }
          ],
          "scattergeo": [
           {
            "marker": {
             "colorbar": {
              "outlinewidth": 0,
              "ticks": ""
             }
            },
            "type": "scattergeo"
           }
          ],
          "scattergl": [
           {
            "marker": {
             "colorbar": {
              "outlinewidth": 0,
              "ticks": ""
             }
            },
            "type": "scattergl"
           }
          ],
          "scattermapbox": [
           {
            "marker": {
             "colorbar": {
              "outlinewidth": 0,
              "ticks": ""
             }
            },
            "type": "scattermapbox"
           }
          ],
          "scatterpolar": [
           {
            "marker": {
             "colorbar": {
              "outlinewidth": 0,
              "ticks": ""
             }
            },
            "type": "scatterpolar"
           }
          ],
          "scatterpolargl": [
           {
            "marker": {
             "colorbar": {
              "outlinewidth": 0,
              "ticks": ""
             }
            },
            "type": "scatterpolargl"
           }
          ],
          "scatterternary": [
           {
            "marker": {
             "colorbar": {
              "outlinewidth": 0,
              "ticks": ""
             }
            },
            "type": "scatterternary"
           }
          ],
          "surface": [
           {
            "colorbar": {
             "outlinewidth": 0,
             "ticks": ""
            },
            "colorscale": [
             [
              0,
              "#0d0887"
             ],
             [
              0.1111111111111111,
              "#46039f"
             ],
             [
              0.2222222222222222,
              "#7201a8"
             ],
             [
              0.3333333333333333,
              "#9c179e"
             ],
             [
              0.4444444444444444,
              "#bd3786"
             ],
             [
              0.5555555555555556,
              "#d8576b"
             ],
             [
              0.6666666666666666,
              "#ed7953"
             ],
             [
              0.7777777777777778,
              "#fb9f3a"
             ],
             [
              0.8888888888888888,
              "#fdca26"
             ],
             [
              1,
              "#f0f921"
             ]
            ],
            "type": "surface"
           }
          ],
          "table": [
           {
            "cells": {
             "fill": {
              "color": "#EBF0F8"
             },
             "line": {
              "color": "white"
             }
            },
            "header": {
             "fill": {
              "color": "#C8D4E3"
             },
             "line": {
              "color": "white"
             }
            },
            "type": "table"
           }
          ]
         },
         "layout": {
          "annotationdefaults": {
           "arrowcolor": "#2a3f5f",
           "arrowhead": 0,
           "arrowwidth": 1
          },
          "autotypenumbers": "strict",
          "coloraxis": {
           "colorbar": {
            "outlinewidth": 0,
            "ticks": ""
           }
          },
          "colorscale": {
           "diverging": [
            [
             0,
             "#8e0152"
            ],
            [
             0.1,
             "#c51b7d"
            ],
            [
             0.2,
             "#de77ae"
            ],
            [
             0.3,
             "#f1b6da"
            ],
            [
             0.4,
             "#fde0ef"
            ],
            [
             0.5,
             "#f7f7f7"
            ],
            [
             0.6,
             "#e6f5d0"
            ],
            [
             0.7,
             "#b8e186"
            ],
            [
             0.8,
             "#7fbc41"
            ],
            [
             0.9,
             "#4d9221"
            ],
            [
             1,
             "#276419"
            ]
           ],
           "sequential": [
            [
             0,
             "#0d0887"
            ],
            [
             0.1111111111111111,
             "#46039f"
            ],
            [
             0.2222222222222222,
             "#7201a8"
            ],
            [
             0.3333333333333333,
             "#9c179e"
            ],
            [
             0.4444444444444444,
             "#bd3786"
            ],
            [
             0.5555555555555556,
             "#d8576b"
            ],
            [
             0.6666666666666666,
             "#ed7953"
            ],
            [
             0.7777777777777778,
             "#fb9f3a"
            ],
            [
             0.8888888888888888,
             "#fdca26"
            ],
            [
             1,
             "#f0f921"
            ]
           ],
           "sequentialminus": [
            [
             0,
             "#0d0887"
            ],
            [
             0.1111111111111111,
             "#46039f"
            ],
            [
             0.2222222222222222,
             "#7201a8"
            ],
            [
             0.3333333333333333,
             "#9c179e"
            ],
            [
             0.4444444444444444,
             "#bd3786"
            ],
            [
             0.5555555555555556,
             "#d8576b"
            ],
            [
             0.6666666666666666,
             "#ed7953"
            ],
            [
             0.7777777777777778,
             "#fb9f3a"
            ],
            [
             0.8888888888888888,
             "#fdca26"
            ],
            [
             1,
             "#f0f921"
            ]
           ]
          },
          "colorway": [
           "#636efa",
           "#EF553B",
           "#00cc96",
           "#ab63fa",
           "#FFA15A",
           "#19d3f3",
           "#FF6692",
           "#B6E880",
           "#FF97FF",
           "#FECB52"
          ],
          "font": {
           "color": "#2a3f5f"
          },
          "geo": {
           "bgcolor": "white",
           "lakecolor": "white",
           "landcolor": "#E5ECF6",
           "showlakes": true,
           "showland": true,
           "subunitcolor": "white"
          },
          "hoverlabel": {
           "align": "left"
          },
          "hovermode": "closest",
          "mapbox": {
           "style": "light"
          },
          "paper_bgcolor": "white",
          "plot_bgcolor": "#E5ECF6",
          "polar": {
           "angularaxis": {
            "gridcolor": "white",
            "linecolor": "white",
            "ticks": ""
           },
           "bgcolor": "#E5ECF6",
           "radialaxis": {
            "gridcolor": "white",
            "linecolor": "white",
            "ticks": ""
           }
          },
          "scene": {
           "xaxis": {
            "backgroundcolor": "#E5ECF6",
            "gridcolor": "white",
            "gridwidth": 2,
            "linecolor": "white",
            "showbackground": true,
            "ticks": "",
            "zerolinecolor": "white"
           },
           "yaxis": {
            "backgroundcolor": "#E5ECF6",
            "gridcolor": "white",
            "gridwidth": 2,
            "linecolor": "white",
            "showbackground": true,
            "ticks": "",
            "zerolinecolor": "white"
           },
           "zaxis": {
            "backgroundcolor": "#E5ECF6",
            "gridcolor": "white",
            "gridwidth": 2,
            "linecolor": "white",
            "showbackground": true,
            "ticks": "",
            "zerolinecolor": "white"
           }
          },
          "shapedefaults": {
           "line": {
            "color": "#2a3f5f"
           }
          },
          "ternary": {
           "aaxis": {
            "gridcolor": "white",
            "linecolor": "white",
            "ticks": ""
           },
           "baxis": {
            "gridcolor": "white",
            "linecolor": "white",
            "ticks": ""
           },
           "bgcolor": "#E5ECF6",
           "caxis": {
            "gridcolor": "white",
            "linecolor": "white",
            "ticks": ""
           }
          },
          "title": {
           "x": 0.05
          },
          "xaxis": {
           "automargin": true,
           "gridcolor": "white",
           "linecolor": "white",
           "ticks": "",
           "title": {
            "standoff": 15
           },
           "zerolinecolor": "white",
           "zerolinewidth": 2
          },
          "yaxis": {
           "automargin": true,
           "gridcolor": "white",
           "linecolor": "white",
           "ticks": "",
           "title": {
            "standoff": 15
           },
           "zerolinecolor": "white",
           "zerolinewidth": 2
          }
         }
        },
        "xaxis": {
         "anchor": "y",
         "domain": [
          0,
          1
         ],
         "title": {
          "text": "Run time (minutes)"
         }
        },
        "yaxis": {
         "anchor": "x",
         "domain": [
          0,
          1
         ],
         "title": {
          "text": "Running mean nurse wait time"
         }
        }
       }
      }
     },
     "metadata": {},
     "output_type": "display_data"
    }
   ],
   "source": [
    "time_series_inspection(data_collection_period=1440*3, warm_up=2520)"
   ]
  },
  {
   "cell_type": "markdown",
   "metadata": {},
   "source": [
    "However, it is important to look far ahead - so we run it for more days, and find actually a later warm-up is more appropriate."
   ]
  },
  {
   "cell_type": "code",
   "execution_count": 4,
   "metadata": {},
   "outputs": [
    {
     "name": "stderr",
     "output_type": "stream",
     "text": [
      "/home/amy/Documents/stars/rap_template_python_des/model.py:501: SmallSampleWarning:\n",
      "\n",
      "One or more sample arguments is too small; all returned values will be NaN. See documentation for sample size requirements.\n",
      "\n"
     ]
    },
    {
     "data": {
      "application/vnd.plotly.v1+json": {
       "config": {
        "plotlyServerURL": "https://plot.ly"
       },
       "data": [
        {
         "hovertemplate": "run=0<br>simulation_time=%{x}<br>value=%{y}<extra></extra>",
         "legendgroup": "0",
         "line": {
          "color": "#636efa",
          "dash": "solid"
         },
         "marker": {
          "symbol": "circle"
         },
         "mode": "lines",
         "name": "0",
         "orientation": "v",
         "showlegend": true,
         "type": "scatter",
         "x": [
          0,
          120,
          240,
          360,
          480,
          600,
          720,
          840,
          960,
          1080,
          1200,
          1320,
          1440,
          1560,
          1680,
          1800,
          1920,
          2040,
          2160,
          2280,
          2400,
          2520,
          2640,
          2760,
          2880,
          3000,
          3120,
          3240,
          3360,
          3480,
          3600,
          3720,
          3840,
          3960,
          4080,
          4200,
          4320,
          4440,
          4560,
          4680,
          4800,
          4920,
          5040,
          5160,
          5280,
          5400,
          5520,
          5640,
          5760,
          5880,
          6000,
          6120,
          6240,
          6360,
          6480,
          6600,
          6720,
          6840,
          6960,
          7080,
          7200,
          7320,
          7440,
          7560,
          7680,
          7800,
          7920,
          8040,
          8160,
          8280,
          8400,
          8520,
          8640,
          8760,
          8880,
          9000,
          9120,
          9240,
          9360,
          9480,
          9600,
          9720,
          9840,
          9960,
          10080,
          10200,
          10320,
          10440,
          10560,
          10680,
          10800,
          10920,
          11040,
          11160,
          11280,
          11400,
          11520,
          11640,
          11760,
          11880,
          12000,
          12120,
          12240,
          12360,
          12480,
          12600,
          12720,
          12840,
          12960,
          13080,
          13200,
          13320,
          13440,
          13560,
          13680,
          13800,
          13920,
          14040,
          14160,
          14280,
          14400,
          14520,
          14640,
          14760,
          14880,
          15000,
          15120,
          15240,
          15360,
          15480,
          15600,
          15720,
          15840,
          15960,
          16080,
          16200,
          16320,
          16440,
          16560,
          16680,
          16800,
          16920,
          17040,
          17160,
          17280,
          17400,
          17520,
          17640,
          17760,
          17880,
          18000,
          18120,
          18240,
          18360,
          18480,
          18600,
          18720,
          18840,
          18960,
          19080,
          19200,
          19320,
          19440,
          19560,
          19680,
          19800,
          19920,
          20040,
          20160,
          20280,
          20400,
          20520,
          20640,
          20760,
          20880,
          21000,
          21120,
          21240,
          21360,
          21480,
          21600,
          21720,
          21840,
          21960,
          22080,
          22200,
          22320,
          22440,
          22560,
          22680,
          22800,
          22920,
          23040,
          23160,
          23280,
          23400,
          23520,
          23640,
          23760,
          23880,
          24000,
          24120,
          24240,
          24360,
          24480,
          24600,
          24720,
          24840,
          24960,
          25080,
          25200,
          25320,
          25440,
          25560,
          25680,
          25800,
          25920,
          26040,
          26160,
          26280,
          26400,
          26520,
          26640,
          26760,
          26880,
          27000,
          27120,
          27240,
          27360,
          27480,
          27600,
          27720,
          27840,
          27960,
          28080,
          28200,
          28320,
          28440,
          28560,
          28680,
          28800,
          28920,
          29040,
          29160,
          29280,
          29400,
          29520,
          29640,
          29760,
          29880,
          30000,
          30120,
          30240,
          30360,
          30480,
          30600,
          30720,
          30840,
          30960,
          31080,
          31200,
          31320,
          31440,
          31560,
          31680,
          31800,
          31920,
          32040,
          32160,
          32280,
          32400,
          32520,
          32640,
          32760,
          32880,
          33000,
          33120,
          33240,
          33360,
          33480,
          33600,
          33720,
          33840,
          33960,
          34080,
          34200,
          34320,
          34440,
          34560,
          34680,
          34800,
          34920,
          35040,
          35160,
          35280,
          35400,
          35520,
          35640,
          35760,
          35880,
          36000,
          36120,
          36240,
          36360,
          36480,
          36600,
          36720,
          36840,
          36960,
          37080,
          37200,
          37320,
          37440,
          37560,
          37680,
          37800,
          37920,
          38040,
          38160,
          38280,
          38400,
          38520,
          38640,
          38760,
          38880,
          39000,
          39120,
          39240,
          39360,
          39480,
          39600,
          39720,
          39840,
          39960,
          40080,
          40200,
          40320,
          40440,
          40560,
          40680,
          40800,
          40920,
          41040,
          41160,
          41280,
          41400,
          41520,
          41640,
          41760,
          41880,
          42000,
          42120,
          42240,
          42360,
          42480,
          42600,
          42720,
          42840,
          42960,
          43080,
          43200,
          43320,
          43440,
          43560,
          43680,
          43800,
          43920,
          44040,
          44160,
          44280,
          44400,
          44520,
          44640,
          44760,
          44880,
          45000,
          45120,
          45240,
          45360,
          45480,
          45600,
          45720,
          45840,
          45960,
          46080,
          46200,
          46320,
          46440,
          46560,
          46680,
          46800,
          46920,
          47040,
          47160,
          47280,
          47400,
          47520,
          47640,
          47760,
          47880,
          48000,
          48120,
          48240,
          48360,
          48480,
          48600,
          48720,
          48840,
          48960,
          49080,
          49200,
          49320,
          49440,
          49560,
          49680,
          49800,
          49920,
          50040,
          50160,
          50280,
          50400,
          50520,
          50640,
          50760,
          50880,
          51000,
          51120,
          51240,
          51360,
          51480,
          51600,
          51720,
          51840,
          51960,
          52080,
          52200,
          52320,
          52440,
          52560,
          52680,
          52800,
          52920,
          53040,
          53160,
          53280,
          53400,
          53520,
          53640,
          53760,
          53880,
          54000,
          54120,
          54240,
          54360,
          54480,
          54600,
          54720,
          54840,
          54960,
          55080,
          55200,
          55320,
          55440,
          55560,
          55680,
          55800,
          55920,
          56040,
          56160,
          56280,
          56400,
          56520,
          56640,
          56760,
          56880,
          57000,
          57120,
          57240,
          57360,
          57480
         ],
         "xaxis": "x",
         "y": [
          0,
          0.3,
          0.39999999999999997,
          0.35,
          0.32,
          0.26666666666666666,
          0.2571428571428572,
          0.25,
          0.26666666666666666,
          0.27999999999999997,
          0.29090909090909095,
          0.2833333333333333,
          0.3384615384615385,
          0.35714285714285715,
          0.3466666666666667,
          0.3875,
          0.3764705882352941,
          0.37777777777777777,
          0.38947368421052636,
          0.39,
          0.4,
          0.4090909090909091,
          0.39999999999999997,
          0.39999999999999997,
          0.4,
          0.4,
          0.4148148148148148,
          0.39999999999999997,
          0.40689655172413797,
          0.42,
          0.4258064516129032,
          0.41875,
          0.4303030303030303,
          0.4294117647058823,
          0.4342857142857143,
          0.4222222222222222,
          0.43243243243243246,
          0.4263157894736842,
          0.4307692307692308,
          0.44000000000000006,
          0.43414634146341463,
          0.44761904761904764,
          0.4372093023255814,
          0.45,
          0.4444444444444444,
          0.43478260869565216,
          0.4297872340425532,
          0.4291666666666667,
          0.4244897959183674,
          0.42,
          0.4156862745098039,
          0.4153846153846154,
          0.41132075471698115,
          0.4074074074074074,
          0.41090909090909095,
          0.4035714285714286,
          0.4070175438596491,
          0.39999999999999997,
          0.4,
          0.39666666666666667,
          0.39999999999999997,
          0.3967741935483871,
          0.40634920634920635,
          0.4125,
          0.4153846153846154,
          0.4121212121212121,
          0.417910447761194,
          0.42058823529411765,
          0.42318840579710143,
          0.41714285714285715,
          0.4140845070422535,
          0.41944444444444445,
          0.41643835616438357,
          0.4135135135135135,
          0.42133333333333334,
          0.41842105263157897,
          0.4233766233766234,
          0.42051282051282046,
          0.42784810126582273,
          0.42750000000000005,
          0.4296296296296296,
          0.4268292682926829,
          0.42891566265060244,
          0.430952380952381,
          0.4329411764705882,
          0.43255813953488376,
          0.43448275862068964,
          0.43409090909090914,
          0.4337078651685393,
          0.4355555555555556,
          0.4351648351648352,
          0.43478260869565216,
          0.4344086021505376,
          0.43829787234042555,
          0.4357894736842105,
          0.4375,
          0.44329896907216493,
          0.44285714285714284,
          0.4484848484848485,
          0.45,
          0.4514851485148515,
          0.44901960784313727,
          0.44660194174757284,
          0.45000000000000007,
          0.44761904761904764,
          0.44716981132075473,
          0.4504672897196262,
          0.45,
          0.44770642201834865,
          0.4472727272727273,
          0.4486486486486487,
          0.4517857142857143,
          0.45132743362831856,
          0.4543859649122807,
          0.4504347826086957,
          0.4465517241379311,
          0.44273504273504277,
          0.4406779661016949,
          0.4403361344537815,
          0.445,
          0.4413223140495868,
          0.4426229508196721,
          0.44390243902439025,
          0.4435483870967742,
          0.448,
          0.4492063492063492,
          0.447244094488189,
          0.44375000000000003,
          0.4449612403100775,
          0.4430769230769231,
          0.44580152671755724,
          0.44696969696969696,
          0.4481203007518797,
          0.44477611940298506,
          0.442962962962963,
          0.4397058823529412,
          0.4437956204379562,
          0.4434782608695652,
          0.4474820143884892,
          0.4471428571428572,
          0.44680851063829785,
          0.4507042253521127,
          0.45174825174825173,
          0.44999999999999996,
          0.45241379310344826,
          0.4520547945205479,
          0.45306122448979586,
          0.44999999999999996,
          0.4536912751677852,
          0.456,
          0.45430463576158936,
          0.4526315789473684,
          0.45490196078431366,
          0.4584415584415584,
          0.45806451612903226,
          0.46153846153846156,
          0.46242038216560505,
          0.4620253164556962,
          0.46289308176100624,
          0.46624999999999994,
          0.4670807453416149,
          0.4666666666666666,
          0.4687116564417178,
          0.46829268292682924,
          0.4678787878787879,
          0.46746987951807223,
          0.4646706586826347,
          0.4642857142857143,
          0.4627218934911243,
          0.46352941176470586,
          0.4631578947368421,
          0.46279069767441855,
          0.4635838150289017,
          0.464367816091954,
          0.46285714285714286,
          0.4659090909090909,
          0.46440677966101696,
          0.4640449438202247,
          0.46368715083798884,
          0.46222222222222226,
          0.46519337016574586,
          0.46593406593406594,
          0.4644808743169399,
          0.46413043478260874,
          0.4616216216216216,
          0.46021505376344085,
          0.45989304812834225,
          0.4606382978723404,
          0.45925925925925926,
          0.4610526315789473,
          0.46387434554973817,
          0.465625,
          0.4683937823834197,
          0.4690721649484536,
          0.4697435897435897,
          0.46938775510204084,
          0.47005076142131974,
          0.4727272727272727,
          0.4733668341708543,
          0.475,
          0.47562189054726367,
          0.4752475247524752,
          0.4729064039408867,
          0.47352941176470587,
          0.47317073170731705,
          0.47281553398058257,
          0.4714975845410628,
          0.46923076923076923,
          0.47081339712918663,
          0.47047619047619044,
          0.46919431279620855,
          0.4679245283018868,
          0.46572769953051646,
          0.46822429906542057,
          0.4697674418604651,
          0.4722222222222222,
          0.4737327188940092,
          0.4724770642201835,
          0.4712328767123288,
          0.4709090909090909,
          0.47058823529411764,
          0.4702702702702703,
          0.47264573991031394,
          0.47053571428571433,
          0.4728888888888889,
          0.47345132743362833,
          0.47224669603524233,
          0.47192982456140353,
          0.4707423580786026,
          0.46956521739130436,
          0.4683982683982684,
          0.4706896551724138,
          0.47124463519313303,
          0.4726495726495727,
          0.47489361702127664,
          0.47288135593220343,
          0.47257383966244726,
          0.4714285714285714,
          0.4719665271966527,
          0.4741666666666667,
          0.4730290456431535,
          0.47107438016528924,
          0.471604938271605,
          0.4704918032786885,
          0.4702040816326531,
          0.4691056910569106,
          0.46963562753036436,
          0.47096774193548385,
          0.47148594377510045,
          0.47040000000000004,
          0.4717131474103586,
          0.4722222222222222,
          0.4743083003952569,
          0.4732283464566929,
          0.47137254901960784,
          0.4734375,
          0.47392996108949415,
          0.4728682170542636,
          0.4725868725868726,
          0.4723076923076923,
          0.4720306513409962,
          0.47175572519083975,
          0.4737642585551331,
          0.471969696969697,
          0.47396226415094345,
          0.47443609022556393,
          0.4749063670411985,
          0.4753731343283582,
          0.47360594795539035,
          0.47333333333333333,
          0.47453874538745383,
          0.4735294117647059,
          0.4725274725274725,
          0.47226277372262776,
          0.4741818181818182,
          0.4746376811594203,
          0.47436823104693143,
          0.47338129496402875,
          0.4731182795698925,
          0.4742857142857143,
          0.4740213523131672,
          0.475886524822695,
          0.47632508833922266,
          0.47816901408450707,
          0.47719298245614034,
          0.47692307692307695,
          0.4766550522648084,
          0.47708333333333336,
          0.47750865051903113,
          0.47586206896551725,
          0.4762886597938144,
          0.4773972602739726,
          0.4778156996587031,
          0.4768707482993197,
          0.4766101694915254,
          0.4756756756756757,
          0.47542087542087536,
          0.47516778523489933,
          0.47424749163879604,
          0.474,
          0.4750830564784053,
          0.47549668874172185,
          0.4745874587458746,
          0.47302631578947374,
          0.4727868852459016,
          0.4725490196078431,
          0.4723127035830619,
          0.4733766233766234,
          0.4737864077669903,
          0.4729032258064516,
          0.47266881028938906,
          0.4724358974358975,
          0.47348242811501595,
          0.4726114649681529,
          0.4742857142857143,
          0.47468354430379744,
          0.4744479495268139,
          0.47358490566037736,
          0.4752351097178683,
          0.47562499999999996,
          0.47538940809968844,
          0.4751552795031056,
          0.47554179566563465,
          0.47592592592592586,
          0.47692307692307695,
          0.4760736196319018,
          0.47706422018348627,
          0.4774390243902439,
          0.47598784194528876,
          0.47575757575757577,
          0.4773413897280967,
          0.4771084337349398,
          0.4762762762762763,
          0.4754491017964072,
          0.4740298507462687,
          0.4738095238095238,
          0.4741839762611276,
          0.47455621301775147,
          0.4731563421828909,
          0.4747058823529412,
          0.47448680351906164,
          0.47368421052631576,
          0.4728862973760933,
          0.47267441860465115,
          0.47130434782608693,
          0.46994219653179187,
          0.47031700288184436,
          0.4718390804597701,
          0.47048710601719196,
          0.4714285714285714,
          0.47065527065527063,
          0.4710227272727273,
          0.47138810198300285,
          0.4717514124293785,
          0.4715492957746479,
          0.4724719101123595,
          0.4722689075630252,
          0.4715083798882682,
          0.471866295264624,
          0.4722222222222222,
          0.4714681440443213,
          0.4729281767955801,
          0.4721763085399449,
          0.471978021978022,
          0.4723287671232877,
          0.4715846994535519,
          0.4708446866485014,
          0.47119565217391307,
          0.47208672086720865,
          0.47297297297297297,
          0.4738544474393531,
          0.47258064516129034,
          0.4723860589812332,
          0.47379679144385023,
          0.47519999999999996,
          0.474468085106383,
          0.47480106100795755,
          0.47460317460317464,
          0.47493403693931396,
          0.4763157894736842,
          0.4755905511811024,
          0.47591623036649217,
          0.47676240208877285,
          0.47708333333333336,
          0.47688311688311685,
          0.4782383419689119,
          0.47855297157622745,
          0.4798969072164949,
          0.47969151670951155,
          0.478974358974359,
          0.4787723785166241,
          0.47857142857142854,
          0.47938931297709925,
          0.4796954314720812,
          0.479493670886076,
          0.4808080808080808,
          0.48010075566750626,
          0.4793969849246231,
          0.47869674185463656,
          0.47800000000000004,
          0.47680798004987535,
          0.47611940298507466,
          0.47593052109181144,
          0.4747524752475248,
          0.47456790123456793,
          0.4758620689655173,
          0.47665847665847666,
          0.47794117647058826,
          0.4792176039119804,
          0.4790243902439025,
          0.4798053527980536,
          0.479126213592233,
          0.4794188861985472,
          0.4806763285024155,
          0.48048192771084336,
          0.4807692307692308,
          0.48009592326139094,
          0.48038277511961724,
          0.48019093078758956,
          0.4804761904761905,
          0.48028503562945374,
          0.48151658767772515,
          0.4813238770685579,
          0.480188679245283,
          0.48,
          0.4812206572769953,
          0.4814988290398126,
          0.48130841121495327,
          0.4811188811188811,
          0.48093023255813955,
          0.4798143851508121,
          0.4791666666666667,
          0.47852193995381065,
          0.47834101382488475,
          0.4781609195402299,
          0.4775229357798165,
          0.4778032036613273,
          0.4771689497716895,
          0.4774487471526196,
          0.47863636363636364,
          0.4789115646258504,
          0.47828054298642536,
          0.47765237020316026,
          0.4774774774774775,
          0.4782022471910113,
          0.47757847533632286,
          0.4769574944071589,
          0.4772321428571429,
          0.4770601336302896,
          0.47733333333333333,
          0.4776053215077605,
          0.47699115044247786,
          0.47770419426048566,
          0.4775330396475771,
          0.4773626373626374,
          0.4780701754385965,
          0.47921225382932164,
          0.4790393013100437,
          0.4784313725490196,
          0.4782608695652174,
          0.47852494577006505,
          0.47748917748917746,
          0.4777537796976242,
          0.47801724137931034,
          0.4791397849462366,
          0.48025751072961376,
          0.4813704496788009,
          0.4811965811965812,
          0.48059701492537316,
          0.4812765957446809,
          0.48067940552016986,
          0.48135593220338985,
          0.481183932346723,
          0.4810126582278481,
          0.48126315789473684,
          0.4810924369747899,
          0.4817610062893082,
          0.48158995815899586,
          0.4810020876826722,
          0.48041666666666666
         ],
         "yaxis": "y"
        }
       ],
       "layout": {
        "legend": {
         "title": {
          "text": "run"
         },
         "tracegroupgap": 0
        },
        "margin": {
         "t": 60
        },
        "shapes": [
         {
          "line": {
           "color": "red",
           "dash": "dash"
          },
          "type": "line",
          "x0": 18720,
          "x1": 18720,
          "xref": "x",
          "y0": 0,
          "y1": 1,
          "yref": "y domain"
         }
        ],
        "showlegend": false,
        "template": {
         "data": {
          "bar": [
           {
            "error_x": {
             "color": "#2a3f5f"
            },
            "error_y": {
             "color": "#2a3f5f"
            },
            "marker": {
             "line": {
              "color": "#E5ECF6",
              "width": 0.5
             },
             "pattern": {
              "fillmode": "overlay",
              "size": 10,
              "solidity": 0.2
             }
            },
            "type": "bar"
           }
          ],
          "barpolar": [
           {
            "marker": {
             "line": {
              "color": "#E5ECF6",
              "width": 0.5
             },
             "pattern": {
              "fillmode": "overlay",
              "size": 10,
              "solidity": 0.2
             }
            },
            "type": "barpolar"
           }
          ],
          "carpet": [
           {
            "aaxis": {
             "endlinecolor": "#2a3f5f",
             "gridcolor": "white",
             "linecolor": "white",
             "minorgridcolor": "white",
             "startlinecolor": "#2a3f5f"
            },
            "baxis": {
             "endlinecolor": "#2a3f5f",
             "gridcolor": "white",
             "linecolor": "white",
             "minorgridcolor": "white",
             "startlinecolor": "#2a3f5f"
            },
            "type": "carpet"
           }
          ],
          "choropleth": [
           {
            "colorbar": {
             "outlinewidth": 0,
             "ticks": ""
            },
            "type": "choropleth"
           }
          ],
          "contour": [
           {
            "colorbar": {
             "outlinewidth": 0,
             "ticks": ""
            },
            "colorscale": [
             [
              0,
              "#0d0887"
             ],
             [
              0.1111111111111111,
              "#46039f"
             ],
             [
              0.2222222222222222,
              "#7201a8"
             ],
             [
              0.3333333333333333,
              "#9c179e"
             ],
             [
              0.4444444444444444,
              "#bd3786"
             ],
             [
              0.5555555555555556,
              "#d8576b"
             ],
             [
              0.6666666666666666,
              "#ed7953"
             ],
             [
              0.7777777777777778,
              "#fb9f3a"
             ],
             [
              0.8888888888888888,
              "#fdca26"
             ],
             [
              1,
              "#f0f921"
             ]
            ],
            "type": "contour"
           }
          ],
          "contourcarpet": [
           {
            "colorbar": {
             "outlinewidth": 0,
             "ticks": ""
            },
            "type": "contourcarpet"
           }
          ],
          "heatmap": [
           {
            "colorbar": {
             "outlinewidth": 0,
             "ticks": ""
            },
            "colorscale": [
             [
              0,
              "#0d0887"
             ],
             [
              0.1111111111111111,
              "#46039f"
             ],
             [
              0.2222222222222222,
              "#7201a8"
             ],
             [
              0.3333333333333333,
              "#9c179e"
             ],
             [
              0.4444444444444444,
              "#bd3786"
             ],
             [
              0.5555555555555556,
              "#d8576b"
             ],
             [
              0.6666666666666666,
              "#ed7953"
             ],
             [
              0.7777777777777778,
              "#fb9f3a"
             ],
             [
              0.8888888888888888,
              "#fdca26"
             ],
             [
              1,
              "#f0f921"
             ]
            ],
            "type": "heatmap"
           }
          ],
          "heatmapgl": [
           {
            "colorbar": {
             "outlinewidth": 0,
             "ticks": ""
            },
            "colorscale": [
             [
              0,
              "#0d0887"
             ],
             [
              0.1111111111111111,
              "#46039f"
             ],
             [
              0.2222222222222222,
              "#7201a8"
             ],
             [
              0.3333333333333333,
              "#9c179e"
             ],
             [
              0.4444444444444444,
              "#bd3786"
             ],
             [
              0.5555555555555556,
              "#d8576b"
             ],
             [
              0.6666666666666666,
              "#ed7953"
             ],
             [
              0.7777777777777778,
              "#fb9f3a"
             ],
             [
              0.8888888888888888,
              "#fdca26"
             ],
             [
              1,
              "#f0f921"
             ]
            ],
            "type": "heatmapgl"
           }
          ],
          "histogram": [
           {
            "marker": {
             "pattern": {
              "fillmode": "overlay",
              "size": 10,
              "solidity": 0.2
             }
            },
            "type": "histogram"
           }
          ],
          "histogram2d": [
           {
            "colorbar": {
             "outlinewidth": 0,
             "ticks": ""
            },
            "colorscale": [
             [
              0,
              "#0d0887"
             ],
             [
              0.1111111111111111,
              "#46039f"
             ],
             [
              0.2222222222222222,
              "#7201a8"
             ],
             [
              0.3333333333333333,
              "#9c179e"
             ],
             [
              0.4444444444444444,
              "#bd3786"
             ],
             [
              0.5555555555555556,
              "#d8576b"
             ],
             [
              0.6666666666666666,
              "#ed7953"
             ],
             [
              0.7777777777777778,
              "#fb9f3a"
             ],
             [
              0.8888888888888888,
              "#fdca26"
             ],
             [
              1,
              "#f0f921"
             ]
            ],
            "type": "histogram2d"
           }
          ],
          "histogram2dcontour": [
           {
            "colorbar": {
             "outlinewidth": 0,
             "ticks": ""
            },
            "colorscale": [
             [
              0,
              "#0d0887"
             ],
             [
              0.1111111111111111,
              "#46039f"
             ],
             [
              0.2222222222222222,
              "#7201a8"
             ],
             [
              0.3333333333333333,
              "#9c179e"
             ],
             [
              0.4444444444444444,
              "#bd3786"
             ],
             [
              0.5555555555555556,
              "#d8576b"
             ],
             [
              0.6666666666666666,
              "#ed7953"
             ],
             [
              0.7777777777777778,
              "#fb9f3a"
             ],
             [
              0.8888888888888888,
              "#fdca26"
             ],
             [
              1,
              "#f0f921"
             ]
            ],
            "type": "histogram2dcontour"
           }
          ],
          "mesh3d": [
           {
            "colorbar": {
             "outlinewidth": 0,
             "ticks": ""
            },
            "type": "mesh3d"
           }
          ],
          "parcoords": [
           {
            "line": {
             "colorbar": {
              "outlinewidth": 0,
              "ticks": ""
             }
            },
            "type": "parcoords"
           }
          ],
          "pie": [
           {
            "automargin": true,
            "type": "pie"
           }
          ],
          "scatter": [
           {
            "fillpattern": {
             "fillmode": "overlay",
             "size": 10,
             "solidity": 0.2
            },
            "type": "scatter"
           }
          ],
          "scatter3d": [
           {
            "line": {
             "colorbar": {
              "outlinewidth": 0,
              "ticks": ""
             }
            },
            "marker": {
             "colorbar": {
              "outlinewidth": 0,
              "ticks": ""
             }
            },
            "type": "scatter3d"
           }
          ],
          "scattercarpet": [
           {
            "marker": {
             "colorbar": {
              "outlinewidth": 0,
              "ticks": ""
             }
            },
            "type": "scattercarpet"
           }
          ],
          "scattergeo": [
           {
            "marker": {
             "colorbar": {
              "outlinewidth": 0,
              "ticks": ""
             }
            },
            "type": "scattergeo"
           }
          ],
          "scattergl": [
           {
            "marker": {
             "colorbar": {
              "outlinewidth": 0,
              "ticks": ""
             }
            },
            "type": "scattergl"
           }
          ],
          "scattermapbox": [
           {
            "marker": {
             "colorbar": {
              "outlinewidth": 0,
              "ticks": ""
             }
            },
            "type": "scattermapbox"
           }
          ],
          "scatterpolar": [
           {
            "marker": {
             "colorbar": {
              "outlinewidth": 0,
              "ticks": ""
             }
            },
            "type": "scatterpolar"
           }
          ],
          "scatterpolargl": [
           {
            "marker": {
             "colorbar": {
              "outlinewidth": 0,
              "ticks": ""
             }
            },
            "type": "scatterpolargl"
           }
          ],
          "scatterternary": [
           {
            "marker": {
             "colorbar": {
              "outlinewidth": 0,
              "ticks": ""
             }
            },
            "type": "scatterternary"
           }
          ],
          "surface": [
           {
            "colorbar": {
             "outlinewidth": 0,
             "ticks": ""
            },
            "colorscale": [
             [
              0,
              "#0d0887"
             ],
             [
              0.1111111111111111,
              "#46039f"
             ],
             [
              0.2222222222222222,
              "#7201a8"
             ],
             [
              0.3333333333333333,
              "#9c179e"
             ],
             [
              0.4444444444444444,
              "#bd3786"
             ],
             [
              0.5555555555555556,
              "#d8576b"
             ],
             [
              0.6666666666666666,
              "#ed7953"
             ],
             [
              0.7777777777777778,
              "#fb9f3a"
             ],
             [
              0.8888888888888888,
              "#fdca26"
             ],
             [
              1,
              "#f0f921"
             ]
            ],
            "type": "surface"
           }
          ],
          "table": [
           {
            "cells": {
             "fill": {
              "color": "#EBF0F8"
             },
             "line": {
              "color": "white"
             }
            },
            "header": {
             "fill": {
              "color": "#C8D4E3"
             },
             "line": {
              "color": "white"
             }
            },
            "type": "table"
           }
          ]
         },
         "layout": {
          "annotationdefaults": {
           "arrowcolor": "#2a3f5f",
           "arrowhead": 0,
           "arrowwidth": 1
          },
          "autotypenumbers": "strict",
          "coloraxis": {
           "colorbar": {
            "outlinewidth": 0,
            "ticks": ""
           }
          },
          "colorscale": {
           "diverging": [
            [
             0,
             "#8e0152"
            ],
            [
             0.1,
             "#c51b7d"
            ],
            [
             0.2,
             "#de77ae"
            ],
            [
             0.3,
             "#f1b6da"
            ],
            [
             0.4,
             "#fde0ef"
            ],
            [
             0.5,
             "#f7f7f7"
            ],
            [
             0.6,
             "#e6f5d0"
            ],
            [
             0.7,
             "#b8e186"
            ],
            [
             0.8,
             "#7fbc41"
            ],
            [
             0.9,
             "#4d9221"
            ],
            [
             1,
             "#276419"
            ]
           ],
           "sequential": [
            [
             0,
             "#0d0887"
            ],
            [
             0.1111111111111111,
             "#46039f"
            ],
            [
             0.2222222222222222,
             "#7201a8"
            ],
            [
             0.3333333333333333,
             "#9c179e"
            ],
            [
             0.4444444444444444,
             "#bd3786"
            ],
            [
             0.5555555555555556,
             "#d8576b"
            ],
            [
             0.6666666666666666,
             "#ed7953"
            ],
            [
             0.7777777777777778,
             "#fb9f3a"
            ],
            [
             0.8888888888888888,
             "#fdca26"
            ],
            [
             1,
             "#f0f921"
            ]
           ],
           "sequentialminus": [
            [
             0,
             "#0d0887"
            ],
            [
             0.1111111111111111,
             "#46039f"
            ],
            [
             0.2222222222222222,
             "#7201a8"
            ],
            [
             0.3333333333333333,
             "#9c179e"
            ],
            [
             0.4444444444444444,
             "#bd3786"
            ],
            [
             0.5555555555555556,
             "#d8576b"
            ],
            [
             0.6666666666666666,
             "#ed7953"
            ],
            [
             0.7777777777777778,
             "#fb9f3a"
            ],
            [
             0.8888888888888888,
             "#fdca26"
            ],
            [
             1,
             "#f0f921"
            ]
           ]
          },
          "colorway": [
           "#636efa",
           "#EF553B",
           "#00cc96",
           "#ab63fa",
           "#FFA15A",
           "#19d3f3",
           "#FF6692",
           "#B6E880",
           "#FF97FF",
           "#FECB52"
          ],
          "font": {
           "color": "#2a3f5f"
          },
          "geo": {
           "bgcolor": "white",
           "lakecolor": "white",
           "landcolor": "#E5ECF6",
           "showlakes": true,
           "showland": true,
           "subunitcolor": "white"
          },
          "hoverlabel": {
           "align": "left"
          },
          "hovermode": "closest",
          "mapbox": {
           "style": "light"
          },
          "paper_bgcolor": "white",
          "plot_bgcolor": "#E5ECF6",
          "polar": {
           "angularaxis": {
            "gridcolor": "white",
            "linecolor": "white",
            "ticks": ""
           },
           "bgcolor": "#E5ECF6",
           "radialaxis": {
            "gridcolor": "white",
            "linecolor": "white",
            "ticks": ""
           }
          },
          "scene": {
           "xaxis": {
            "backgroundcolor": "#E5ECF6",
            "gridcolor": "white",
            "gridwidth": 2,
            "linecolor": "white",
            "showbackground": true,
            "ticks": "",
            "zerolinecolor": "white"
           },
           "yaxis": {
            "backgroundcolor": "#E5ECF6",
            "gridcolor": "white",
            "gridwidth": 2,
            "linecolor": "white",
            "showbackground": true,
            "ticks": "",
            "zerolinecolor": "white"
           },
           "zaxis": {
            "backgroundcolor": "#E5ECF6",
            "gridcolor": "white",
            "gridwidth": 2,
            "linecolor": "white",
            "showbackground": true,
            "ticks": "",
            "zerolinecolor": "white"
           }
          },
          "shapedefaults": {
           "line": {
            "color": "#2a3f5f"
           }
          },
          "ternary": {
           "aaxis": {
            "gridcolor": "white",
            "linecolor": "white",
            "ticks": ""
           },
           "baxis": {
            "gridcolor": "white",
            "linecolor": "white",
            "ticks": ""
           },
           "bgcolor": "#E5ECF6",
           "caxis": {
            "gridcolor": "white",
            "linecolor": "white",
            "ticks": ""
           }
          },
          "title": {
           "x": 0.05
          },
          "xaxis": {
           "automargin": true,
           "gridcolor": "white",
           "linecolor": "white",
           "ticks": "",
           "title": {
            "standoff": 15
           },
           "zerolinecolor": "white",
           "zerolinewidth": 2
          },
          "yaxis": {
           "automargin": true,
           "gridcolor": "white",
           "linecolor": "white",
           "ticks": "",
           "title": {
            "standoff": 15
           },
           "zerolinecolor": "white",
           "zerolinewidth": 2
          }
         }
        },
        "xaxis": {
         "anchor": "y",
         "domain": [
          0,
          1
         ],
         "title": {
          "text": "Run time (minutes)"
         }
        },
        "yaxis": {
         "anchor": "x",
         "domain": [
          0,
          1
         ],
         "title": {
          "text": "Cumulative mean nurse utilisation"
         }
        }
       }
      }
     },
     "metadata": {},
     "output_type": "display_data"
    },
    {
     "data": {
      "application/vnd.plotly.v1+json": {
       "config": {
        "plotlyServerURL": "https://plot.ly"
       },
       "data": [
        {
         "hovertemplate": "run=0<br>simulation_time=%{x}<br>value=%{y}<extra></extra>",
         "legendgroup": "0",
         "line": {
          "color": "#636efa",
          "dash": "solid"
         },
         "marker": {
          "symbol": "circle"
         },
         "mode": "lines",
         "name": "0",
         "orientation": "v",
         "showlegend": true,
         "type": "scatter",
         "x": [
          0,
          120,
          240,
          360,
          480,
          600,
          720,
          840,
          960,
          1080,
          1200,
          1320,
          1440,
          1560,
          1680,
          1800,
          1920,
          2040,
          2160,
          2280,
          2400,
          2520,
          2640,
          2760,
          2880,
          3000,
          3120,
          3240,
          3360,
          3480,
          3600,
          3720,
          3840,
          3960,
          4080,
          4200,
          4320,
          4440,
          4560,
          4680,
          4800,
          4920,
          5040,
          5160,
          5280,
          5400,
          5520,
          5640,
          5760,
          5880,
          6000,
          6120,
          6240,
          6360,
          6480,
          6600,
          6720,
          6840,
          6960,
          7080,
          7200,
          7320,
          7440,
          7560,
          7680,
          7800,
          7920,
          8040,
          8160,
          8280,
          8400,
          8520,
          8640,
          8760,
          8880,
          9000,
          9120,
          9240,
          9360,
          9480,
          9600,
          9720,
          9840,
          9960,
          10080,
          10200,
          10320,
          10440,
          10560,
          10680,
          10800,
          10920,
          11040,
          11160,
          11280,
          11400,
          11520,
          11640,
          11760,
          11880,
          12000,
          12120,
          12240,
          12360,
          12480,
          12600,
          12720,
          12840,
          12960,
          13080,
          13200,
          13320,
          13440,
          13560,
          13680,
          13800,
          13920,
          14040,
          14160,
          14280,
          14400,
          14520,
          14640,
          14760,
          14880,
          15000,
          15120,
          15240,
          15360,
          15480,
          15600,
          15720,
          15840,
          15960,
          16080,
          16200,
          16320,
          16440,
          16560,
          16680,
          16800,
          16920,
          17040,
          17160,
          17280,
          17400,
          17520,
          17640,
          17760,
          17880,
          18000,
          18120,
          18240,
          18360,
          18480,
          18600,
          18720,
          18840,
          18960,
          19080,
          19200,
          19320,
          19440,
          19560,
          19680,
          19800,
          19920,
          20040,
          20160,
          20280,
          20400,
          20520,
          20640,
          20760,
          20880,
          21000,
          21120,
          21240,
          21360,
          21480,
          21600,
          21720,
          21840,
          21960,
          22080,
          22200,
          22320,
          22440,
          22560,
          22680,
          22800,
          22920,
          23040,
          23160,
          23280,
          23400,
          23520,
          23640,
          23760,
          23880,
          24000,
          24120,
          24240,
          24360,
          24480,
          24600,
          24720,
          24840,
          24960,
          25080,
          25200,
          25320,
          25440,
          25560,
          25680,
          25800,
          25920,
          26040,
          26160,
          26280,
          26400,
          26520,
          26640,
          26760,
          26880,
          27000,
          27120,
          27240,
          27360,
          27480,
          27600,
          27720,
          27840,
          27960,
          28080,
          28200,
          28320,
          28440,
          28560,
          28680,
          28800,
          28920,
          29040,
          29160,
          29280,
          29400,
          29520,
          29640,
          29760,
          29880,
          30000,
          30120,
          30240,
          30360,
          30480,
          30600,
          30720,
          30840,
          30960,
          31080,
          31200,
          31320,
          31440,
          31560,
          31680,
          31800,
          31920,
          32040,
          32160,
          32280,
          32400,
          32520,
          32640,
          32760,
          32880,
          33000,
          33120,
          33240,
          33360,
          33480,
          33600,
          33720,
          33840,
          33960,
          34080,
          34200,
          34320,
          34440,
          34560,
          34680,
          34800,
          34920,
          35040,
          35160,
          35280,
          35400,
          35520,
          35640,
          35760,
          35880,
          36000,
          36120,
          36240,
          36360,
          36480,
          36600,
          36720,
          36840,
          36960,
          37080,
          37200,
          37320,
          37440,
          37560,
          37680,
          37800,
          37920,
          38040,
          38160,
          38280,
          38400,
          38520,
          38640,
          38760,
          38880,
          39000,
          39120,
          39240,
          39360,
          39480,
          39600,
          39720,
          39840,
          39960,
          40080,
          40200,
          40320,
          40440,
          40560,
          40680,
          40800,
          40920,
          41040,
          41160,
          41280,
          41400,
          41520,
          41640,
          41760,
          41880,
          42000,
          42120,
          42240,
          42360,
          42480,
          42600,
          42720,
          42840,
          42960,
          43080,
          43200,
          43320,
          43440,
          43560,
          43680,
          43800,
          43920,
          44040,
          44160,
          44280,
          44400,
          44520,
          44640,
          44760,
          44880,
          45000,
          45120,
          45240,
          45360,
          45480,
          45600,
          45720,
          45840,
          45960,
          46080,
          46200,
          46320,
          46440,
          46560,
          46680,
          46800,
          46920,
          47040,
          47160,
          47280,
          47400,
          47520,
          47640,
          47760,
          47880,
          48000,
          48120,
          48240,
          48360,
          48480,
          48600,
          48720,
          48840,
          48960,
          49080,
          49200,
          49320,
          49440,
          49560,
          49680,
          49800,
          49920,
          50040,
          50160,
          50280,
          50400,
          50520,
          50640,
          50760,
          50880,
          51000,
          51120,
          51240,
          51360,
          51480,
          51600,
          51720,
          51840,
          51960,
          52080,
          52200,
          52320,
          52440,
          52560,
          52680,
          52800,
          52920,
          53040,
          53160,
          53280,
          53400,
          53520,
          53640,
          53760,
          53880,
          54000,
          54120,
          54240,
          54360,
          54480,
          54600,
          54720,
          54840,
          54960,
          55080,
          55200,
          55320,
          55440,
          55560,
          55680,
          55800,
          55920,
          56040,
          56160,
          56280,
          56400,
          56520,
          56640,
          56760,
          56880,
          57000,
          57120,
          57240,
          57360,
          57480
         ],
         "xaxis": "x",
         "y": [
          0,
          0.1850812125177364,
          0.27293124698759036,
          0.16748053792420323,
          0.12815902032460771,
          0.10757873968853933,
          0.7775449421583632,
          0.6405489285399849,
          0.5855465140647299,
          0.5957191187844486,
          0.548688662038308,
          0.5817940262693283,
          0.5353593851431566,
          0.4954821346023178,
          0.47245100669119877,
          0.4868107775118521,
          0.46015274287212593,
          0.44014610187768555,
          0.4227129753701152,
          0.4000169766925251,
          0.3857768901436003,
          0.4124383536388688,
          0.3977084124374807,
          0.37748595078811714,
          0.45739615362189323,
          0.44211042098157305,
          0.44090411421823766,
          0.428276788751367,
          0.412287664630186,
          0.4016807112895885,
          0.4117119594328106,
          0.40236404193605335,
          0.3973051982695963,
          0.4218534759267196,
          0.40954103826584787,
          0.401190803936053,
          0.3936752248630797,
          0.38673209920411894,
          0.37741325344016424,
          0.3790608189493043,
          0.3704521229859087,
          0.3666684112093553,
          0.35982012959921933,
          0.3541981683964747,
          0.38523896779470446,
          0.3801402167503627,
          0.396941843930088,
          0.3886027295618088,
          0.3819165160456043,
          0.38628700852869746,
          0.3791352962464029,
          0.375115528085878,
          0.3700852432264889,
          0.36449905087590034,
          0.3581912799089502,
          0.3514575445073871,
          0.3462087759215539,
          0.35781845886993224,
          0.3884708700783271,
          0.3822807037955309,
          0.3857614550170858,
          0.3805001149322918,
          0.3841437176412842,
          0.38140246619005375,
          0.3780264734740002,
          0.38048338443571317,
          0.3910980358329828,
          0.44307813054061207,
          0.44115445318264646,
          0.44361513727966445,
          0.43838714241240806,
          0.4377580524118717,
          0.4335060084245224,
          0.4285505213597702,
          0.42626413266078583,
          0.4250180083345155,
          0.42150248228749787,
          0.41589355757239915,
          0.42145016535205815,
          0.44027556960662306,
          0.4353471117378922,
          0.4305277710175466,
          0.46993365458393677,
          0.4647376423044281,
          0.46157742166213167,
          0.45787482017504816,
          0.4831754631715794,
          0.4833357962795798,
          0.48300620316176707,
          0.4798689908515143,
          0.47494426312936056,
          0.470272680213334,
          0.4698121041492425,
          0.4643084479771,
          0.45909333027430366,
          0.4549415297222578,
          0.4568906748912471,
          0.4543350074193327,
          0.4783073604122729,
          0.49286863973483025,
          0.48783439662715994,
          0.4843709933532162,
          0.4808041204907635,
          0.4776979100144966,
          0.477423508162683,
          0.47412057823199766,
          0.4702082937379254,
          0.4671531037105441,
          0.4643660927444776,
          0.46107846702166944,
          0.45760448659224656,
          0.45396324793944076,
          0.45613929588140695,
          0.45251594754695623,
          0.4535325408966958,
          0.45102974732218604,
          0.4487611252072768,
          0.4447886537962473,
          0.44082916200063704,
          0.44801743945307104,
          0.44918327131031816,
          0.44633406688667304,
          0.4438855084699072,
          0.4407493608557178,
          0.4401384555583535,
          0.43717335065370905,
          0.4373158525933378,
          0.4403461307322662,
          0.4361043169241189,
          0.4371090202310064,
          0.4335279939515921,
          0.4308804947518877,
          0.43355005344792485,
          0.43168599160180954,
          0.4285749345052756,
          0.4260134935335736,
          0.4230884376682131,
          0.42458741107824094,
          0.4216793375678051,
          0.4324950783003846,
          0.42940509203007926,
          0.42747013885075374,
          0.4291093930183234,
          0.4271522789084772,
          0.4235114969873499,
          0.42852405654047804,
          0.4259734270383347,
          0.4249648373783751,
          0.42682623018822213,
          0.44001310808118466,
          0.4392556508851206,
          0.43775646943895313,
          0.4374400111857146,
          0.4349150070337013,
          0.43269200986280654,
          0.43046641872763575,
          0.4276253586934529,
          0.4251812679473218,
          0.423041235915345,
          0.42740773620080935,
          0.44085442604884445,
          0.43881341201899193,
          0.43620624362141963,
          0.43493662689076,
          0.43170676992779433,
          0.4321484491946318,
          0.42998943416068586,
          0.4274269226341025,
          0.4256683537664904,
          0.4475974503427971,
          0.44506766549385124,
          0.44329239040217233,
          0.44141859156509083,
          0.4389676746293473,
          0.4453810304867603,
          0.44276857789544727,
          0.44062679583749054,
          0.4379382425140786,
          0.43541339863869505,
          0.43323794309405317,
          0.432677344808932,
          0.4338988889218631,
          0.43319477000587975,
          0.43078509306240736,
          0.42891738011385233,
          0.4409065434818109,
          0.43964020054183256,
          0.4374575896171569,
          0.4350662679317166,
          0.4329287252922907,
          0.4319952677678144,
          0.4304895655907654,
          0.42853847084935937,
          0.4320731023635356,
          0.4300110524460004,
          0.42897982369652776,
          0.4702039412350683,
          0.46752021889127243,
          0.4667678551466583,
          0.4644704386332219,
          0.4651659138109862,
          0.4634852355216379,
          0.4740068171219543,
          0.4916165075017119,
          0.4913272753204745,
          0.48884989133338885,
          0.48689823894064926,
          0.48449972544833086,
          0.48272512618668323,
          0.4814299356650332,
          0.4798479764450189,
          0.47910418079672934,
          0.47846891365760524,
          0.4875642507877192,
          0.4852917417368004,
          0.4835037463727102,
          0.4820067862774509,
          0.47973213102176504,
          0.4777636407006733,
          0.4758177034101442,
          0.47405531663541983,
          0.4726362017824475,
          0.4715104481002665,
          0.47064351006274896,
          0.475988542712476,
          0.4757559011157227,
          0.4740494468811493,
          0.4764058202237804,
          0.4746096265860458,
          0.47323712911182353,
          0.4864835499625991,
          0.48490769808510664,
          0.489296257258989,
          0.48730420618338044,
          0.48494115216582767,
          0.48371085748802856,
          0.48398807536897026,
          0.4822293486101174,
          0.4806935112100291,
          0.4993371227786035,
          0.4995618700065461,
          0.4977769849412486,
          0.4953273340570725,
          0.4940444524666848,
          0.4917685909046258,
          0.4904376880875632,
          0.49152302465222514,
          0.4894756927870687,
          0.49015693546541594,
          0.4890430187610261,
          0.48736045709796055,
          0.4863903055455151,
          0.48447513174759327,
          0.4827643249784086,
          0.48106678643229467,
          0.4836437561810941,
          0.4884427620789517,
          0.4871763378330814,
          0.486797742126044,
          0.48531015327960864,
          0.4833896374149022,
          0.48186166410154124,
          0.49146212751730006,
          0.49264009260729813,
          0.49191858525866405,
          0.4907014022394553,
          0.49261296328031845,
          0.4921015679229963,
          0.4914086624541346,
          0.4969362948105312,
          0.49451781910881315,
          0.49301818962340316,
          0.493139981657704,
          0.492699364995897,
          0.49277356882964113,
          0.49317461759100745,
          0.4914723962258396,
          0.48976342816070856,
          0.4904248212924081,
          0.48903797132056664,
          0.4884068002214369,
          0.48711895935448624,
          0.4873226837541425,
          0.49158019503215583,
          0.4958158729868385,
          0.4936455005443202,
          0.49222795660754004,
          0.49185825796855026,
          0.4907109054163872,
          0.489343917739968,
          0.4877925556819155,
          0.48619612366354564,
          0.486287440867833,
          0.4847623458471903,
          0.483160359919501,
          0.4821317832100534,
          0.48108965522126484,
          0.4792856353384454,
          0.477915193622972,
          0.4771715317521856,
          0.47540095092935736,
          0.4832525754428418,
          0.4828573167794596,
          0.48157811585936067,
          0.48387973537706797,
          0.48284036316059925,
          0.48154741017441516,
          0.47963204375218293,
          0.47850950572257184,
          0.4856936495040175,
          0.4844622267712798,
          0.48303053978035587,
          0.4813567786869736,
          0.48213279108769436,
          0.4855192338311378,
          0.4914412137579184,
          0.4968012766088033,
          0.495368245214444,
          0.4936459148090579,
          0.49241085423502734,
          0.49115649742270767,
          0.4907057306199548,
          0.48909422038328926,
          0.4881543204958327,
          0.48697222951693037,
          0.4856003387405469,
          0.48418757692037484,
          0.4832180383202139,
          0.4824021237355283,
          0.4814407803243376,
          0.4842048046699344,
          0.48344188875529487,
          0.48204287246278493,
          0.4848959388377649,
          0.4840799682843253,
          0.4890862181258771,
          0.48878797611411606,
          0.48885375143389437,
          0.494892473360869,
          0.49399723385099115,
          0.4931123704338077,
          0.49249891976792615,
          0.4912199550454755,
          0.4903288743555896,
          0.48902157969914734,
          0.4879992996959754,
          0.4868712140054762,
          0.4861915279175096,
          0.48536695995645,
          0.4843236658508559,
          0.48663843454464756,
          0.486050464733403,
          0.4847361313084035,
          0.4835651623021766,
          0.482489278006705,
          0.48176911227708563,
          0.48052394198005355,
          0.4811855868054409,
          0.48144254344162696,
          0.48103156880001835,
          0.47967457738744224,
          0.47884700811625347,
          0.49196555461057123,
          0.49222525048814225,
          0.4912501081638973,
          0.48997058120712045,
          0.48894659574253924,
          0.48794089267492363,
          0.4865485163091667,
          0.4853580213651703,
          0.48396950274010103,
          0.4829846935245811,
          0.48181967470630627,
          0.48051324701195713,
          0.47923740727072767,
          0.4779798963621191,
          0.47689537962371126,
          0.4828739824522451,
          0.4820358050829477,
          0.4926867231089775,
          0.49178039062325446,
          0.4904923907821662,
          0.4892820364317005,
          0.4881507969229101,
          0.48747610260278873,
          0.4863261927316303,
          0.4851703372527671,
          0.48501728577287934,
          0.48415710816953234,
          0.4829742475008788,
          0.48281871650789765,
          0.482582448609397,
          0.4840848163873462,
          0.483277806607589,
          0.4822728203186862,
          0.4843148414272392,
          0.4865297696253941,
          0.4860132381985209,
          0.48506136086802726,
          0.48394444326076536,
          0.4826077646158507,
          0.4813446001738657,
          0.4802286137100032,
          0.479251029202003,
          0.4783551600804453,
          0.48054923966902224,
          0.48106999550397506,
          0.4806279758469445,
          0.4808429110366816,
          0.48097972273284084,
          0.47994751232637756,
          0.4792573468104413,
          0.4784162090657402,
          0.4780298724945213,
          0.48064337121961886,
          0.4793879310383423,
          0.4792118622596814,
          0.4782301802222758,
          0.47721498918005556,
          0.47616674098855616,
          0.475723113180055,
          0.476021897541076,
          0.47535215376141815,
          0.47439147315529323,
          0.47528448022802533,
          0.4749294823095646,
          0.47453056976025687,
          0.47647632372478615,
          0.47690981877366473,
          0.476106817395047,
          0.4750524380361729,
          0.47462257108108463,
          0.47437313071250126,
          0.47536192894997076,
          0.4742479117291173,
          0.47446809107028376,
          0.47332565473362087,
          0.47240146826448026,
          0.47119475722708776,
          0.4710887899426334,
          0.47556882534238837,
          0.4747551009722891,
          0.47492126514372707,
          0.4793202224319916,
          0.47849867906699817,
          0.4773686452861756,
          0.47777444860024504,
          0.4764105697587513,
          0.47691942462908943,
          0.4761460279284954,
          0.47556841158595875,
          0.4745197957457272,
          0.47365822301759564,
          0.4727020046022226,
          0.4719453417259112,
          0.47917328952650773,
          0.4790636246109847,
          0.47877874028183864,
          0.4776654887343246,
          0.4767082432659191,
          0.4758907955781238,
          0.4793678981448613,
          0.47824310145552823,
          0.47998150657581995,
          0.4793904205834992,
          0.4835712940840089,
          0.48347625611477696,
          0.4844570699566931,
          0.48367645396895276,
          0.4828934391793077,
          0.4822635791446351,
          0.48137682439925916,
          0.48095402954096433,
          0.4801528289642319,
          0.484079412380386,
          0.4833123031027946,
          0.4825960272491216,
          0.48270616964234175,
          0.48574094851801636,
          0.4847409328403097
         ],
         "yaxis": "y"
        }
       ],
       "layout": {
        "legend": {
         "title": {
          "text": "run"
         },
         "tracegroupgap": 0
        },
        "margin": {
         "t": 60
        },
        "shapes": [
         {
          "line": {
           "color": "red",
           "dash": "dash"
          },
          "type": "line",
          "x0": 18720,
          "x1": 18720,
          "xref": "x",
          "y0": 0,
          "y1": 1,
          "yref": "y domain"
         }
        ],
        "showlegend": false,
        "template": {
         "data": {
          "bar": [
           {
            "error_x": {
             "color": "#2a3f5f"
            },
            "error_y": {
             "color": "#2a3f5f"
            },
            "marker": {
             "line": {
              "color": "#E5ECF6",
              "width": 0.5
             },
             "pattern": {
              "fillmode": "overlay",
              "size": 10,
              "solidity": 0.2
             }
            },
            "type": "bar"
           }
          ],
          "barpolar": [
           {
            "marker": {
             "line": {
              "color": "#E5ECF6",
              "width": 0.5
             },
             "pattern": {
              "fillmode": "overlay",
              "size": 10,
              "solidity": 0.2
             }
            },
            "type": "barpolar"
           }
          ],
          "carpet": [
           {
            "aaxis": {
             "endlinecolor": "#2a3f5f",
             "gridcolor": "white",
             "linecolor": "white",
             "minorgridcolor": "white",
             "startlinecolor": "#2a3f5f"
            },
            "baxis": {
             "endlinecolor": "#2a3f5f",
             "gridcolor": "white",
             "linecolor": "white",
             "minorgridcolor": "white",
             "startlinecolor": "#2a3f5f"
            },
            "type": "carpet"
           }
          ],
          "choropleth": [
           {
            "colorbar": {
             "outlinewidth": 0,
             "ticks": ""
            },
            "type": "choropleth"
           }
          ],
          "contour": [
           {
            "colorbar": {
             "outlinewidth": 0,
             "ticks": ""
            },
            "colorscale": [
             [
              0,
              "#0d0887"
             ],
             [
              0.1111111111111111,
              "#46039f"
             ],
             [
              0.2222222222222222,
              "#7201a8"
             ],
             [
              0.3333333333333333,
              "#9c179e"
             ],
             [
              0.4444444444444444,
              "#bd3786"
             ],
             [
              0.5555555555555556,
              "#d8576b"
             ],
             [
              0.6666666666666666,
              "#ed7953"
             ],
             [
              0.7777777777777778,
              "#fb9f3a"
             ],
             [
              0.8888888888888888,
              "#fdca26"
             ],
             [
              1,
              "#f0f921"
             ]
            ],
            "type": "contour"
           }
          ],
          "contourcarpet": [
           {
            "colorbar": {
             "outlinewidth": 0,
             "ticks": ""
            },
            "type": "contourcarpet"
           }
          ],
          "heatmap": [
           {
            "colorbar": {
             "outlinewidth": 0,
             "ticks": ""
            },
            "colorscale": [
             [
              0,
              "#0d0887"
             ],
             [
              0.1111111111111111,
              "#46039f"
             ],
             [
              0.2222222222222222,
              "#7201a8"
             ],
             [
              0.3333333333333333,
              "#9c179e"
             ],
             [
              0.4444444444444444,
              "#bd3786"
             ],
             [
              0.5555555555555556,
              "#d8576b"
             ],
             [
              0.6666666666666666,
              "#ed7953"
             ],
             [
              0.7777777777777778,
              "#fb9f3a"
             ],
             [
              0.8888888888888888,
              "#fdca26"
             ],
             [
              1,
              "#f0f921"
             ]
            ],
            "type": "heatmap"
           }
          ],
          "heatmapgl": [
           {
            "colorbar": {
             "outlinewidth": 0,
             "ticks": ""
            },
            "colorscale": [
             [
              0,
              "#0d0887"
             ],
             [
              0.1111111111111111,
              "#46039f"
             ],
             [
              0.2222222222222222,
              "#7201a8"
             ],
             [
              0.3333333333333333,
              "#9c179e"
             ],
             [
              0.4444444444444444,
              "#bd3786"
             ],
             [
              0.5555555555555556,
              "#d8576b"
             ],
             [
              0.6666666666666666,
              "#ed7953"
             ],
             [
              0.7777777777777778,
              "#fb9f3a"
             ],
             [
              0.8888888888888888,
              "#fdca26"
             ],
             [
              1,
              "#f0f921"
             ]
            ],
            "type": "heatmapgl"
           }
          ],
          "histogram": [
           {
            "marker": {
             "pattern": {
              "fillmode": "overlay",
              "size": 10,
              "solidity": 0.2
             }
            },
            "type": "histogram"
           }
          ],
          "histogram2d": [
           {
            "colorbar": {
             "outlinewidth": 0,
             "ticks": ""
            },
            "colorscale": [
             [
              0,
              "#0d0887"
             ],
             [
              0.1111111111111111,
              "#46039f"
             ],
             [
              0.2222222222222222,
              "#7201a8"
             ],
             [
              0.3333333333333333,
              "#9c179e"
             ],
             [
              0.4444444444444444,
              "#bd3786"
             ],
             [
              0.5555555555555556,
              "#d8576b"
             ],
             [
              0.6666666666666666,
              "#ed7953"
             ],
             [
              0.7777777777777778,
              "#fb9f3a"
             ],
             [
              0.8888888888888888,
              "#fdca26"
             ],
             [
              1,
              "#f0f921"
             ]
            ],
            "type": "histogram2d"
           }
          ],
          "histogram2dcontour": [
           {
            "colorbar": {
             "outlinewidth": 0,
             "ticks": ""
            },
            "colorscale": [
             [
              0,
              "#0d0887"
             ],
             [
              0.1111111111111111,
              "#46039f"
             ],
             [
              0.2222222222222222,
              "#7201a8"
             ],
             [
              0.3333333333333333,
              "#9c179e"
             ],
             [
              0.4444444444444444,
              "#bd3786"
             ],
             [
              0.5555555555555556,
              "#d8576b"
             ],
             [
              0.6666666666666666,
              "#ed7953"
             ],
             [
              0.7777777777777778,
              "#fb9f3a"
             ],
             [
              0.8888888888888888,
              "#fdca26"
             ],
             [
              1,
              "#f0f921"
             ]
            ],
            "type": "histogram2dcontour"
           }
          ],
          "mesh3d": [
           {
            "colorbar": {
             "outlinewidth": 0,
             "ticks": ""
            },
            "type": "mesh3d"
           }
          ],
          "parcoords": [
           {
            "line": {
             "colorbar": {
              "outlinewidth": 0,
              "ticks": ""
             }
            },
            "type": "parcoords"
           }
          ],
          "pie": [
           {
            "automargin": true,
            "type": "pie"
           }
          ],
          "scatter": [
           {
            "fillpattern": {
             "fillmode": "overlay",
             "size": 10,
             "solidity": 0.2
            },
            "type": "scatter"
           }
          ],
          "scatter3d": [
           {
            "line": {
             "colorbar": {
              "outlinewidth": 0,
              "ticks": ""
             }
            },
            "marker": {
             "colorbar": {
              "outlinewidth": 0,
              "ticks": ""
             }
            },
            "type": "scatter3d"
           }
          ],
          "scattercarpet": [
           {
            "marker": {
             "colorbar": {
              "outlinewidth": 0,
              "ticks": ""
             }
            },
            "type": "scattercarpet"
           }
          ],
          "scattergeo": [
           {
            "marker": {
             "colorbar": {
              "outlinewidth": 0,
              "ticks": ""
             }
            },
            "type": "scattergeo"
           }
          ],
          "scattergl": [
           {
            "marker": {
             "colorbar": {
              "outlinewidth": 0,
              "ticks": ""
             }
            },
            "type": "scattergl"
           }
          ],
          "scattermapbox": [
           {
            "marker": {
             "colorbar": {
              "outlinewidth": 0,
              "ticks": ""
             }
            },
            "type": "scattermapbox"
           }
          ],
          "scatterpolar": [
           {
            "marker": {
             "colorbar": {
              "outlinewidth": 0,
              "ticks": ""
             }
            },
            "type": "scatterpolar"
           }
          ],
          "scatterpolargl": [
           {
            "marker": {
             "colorbar": {
              "outlinewidth": 0,
              "ticks": ""
             }
            },
            "type": "scatterpolargl"
           }
          ],
          "scatterternary": [
           {
            "marker": {
             "colorbar": {
              "outlinewidth": 0,
              "ticks": ""
             }
            },
            "type": "scatterternary"
           }
          ],
          "surface": [
           {
            "colorbar": {
             "outlinewidth": 0,
             "ticks": ""
            },
            "colorscale": [
             [
              0,
              "#0d0887"
             ],
             [
              0.1111111111111111,
              "#46039f"
             ],
             [
              0.2222222222222222,
              "#7201a8"
             ],
             [
              0.3333333333333333,
              "#9c179e"
             ],
             [
              0.4444444444444444,
              "#bd3786"
             ],
             [
              0.5555555555555556,
              "#d8576b"
             ],
             [
              0.6666666666666666,
              "#ed7953"
             ],
             [
              0.7777777777777778,
              "#fb9f3a"
             ],
             [
              0.8888888888888888,
              "#fdca26"
             ],
             [
              1,
              "#f0f921"
             ]
            ],
            "type": "surface"
           }
          ],
          "table": [
           {
            "cells": {
             "fill": {
              "color": "#EBF0F8"
             },
             "line": {
              "color": "white"
             }
            },
            "header": {
             "fill": {
              "color": "#C8D4E3"
             },
             "line": {
              "color": "white"
             }
            },
            "type": "table"
           }
          ]
         },
         "layout": {
          "annotationdefaults": {
           "arrowcolor": "#2a3f5f",
           "arrowhead": 0,
           "arrowwidth": 1
          },
          "autotypenumbers": "strict",
          "coloraxis": {
           "colorbar": {
            "outlinewidth": 0,
            "ticks": ""
           }
          },
          "colorscale": {
           "diverging": [
            [
             0,
             "#8e0152"
            ],
            [
             0.1,
             "#c51b7d"
            ],
            [
             0.2,
             "#de77ae"
            ],
            [
             0.3,
             "#f1b6da"
            ],
            [
             0.4,
             "#fde0ef"
            ],
            [
             0.5,
             "#f7f7f7"
            ],
            [
             0.6,
             "#e6f5d0"
            ],
            [
             0.7,
             "#b8e186"
            ],
            [
             0.8,
             "#7fbc41"
            ],
            [
             0.9,
             "#4d9221"
            ],
            [
             1,
             "#276419"
            ]
           ],
           "sequential": [
            [
             0,
             "#0d0887"
            ],
            [
             0.1111111111111111,
             "#46039f"
            ],
            [
             0.2222222222222222,
             "#7201a8"
            ],
            [
             0.3333333333333333,
             "#9c179e"
            ],
            [
             0.4444444444444444,
             "#bd3786"
            ],
            [
             0.5555555555555556,
             "#d8576b"
            ],
            [
             0.6666666666666666,
             "#ed7953"
            ],
            [
             0.7777777777777778,
             "#fb9f3a"
            ],
            [
             0.8888888888888888,
             "#fdca26"
            ],
            [
             1,
             "#f0f921"
            ]
           ],
           "sequentialminus": [
            [
             0,
             "#0d0887"
            ],
            [
             0.1111111111111111,
             "#46039f"
            ],
            [
             0.2222222222222222,
             "#7201a8"
            ],
            [
             0.3333333333333333,
             "#9c179e"
            ],
            [
             0.4444444444444444,
             "#bd3786"
            ],
            [
             0.5555555555555556,
             "#d8576b"
            ],
            [
             0.6666666666666666,
             "#ed7953"
            ],
            [
             0.7777777777777778,
             "#fb9f3a"
            ],
            [
             0.8888888888888888,
             "#fdca26"
            ],
            [
             1,
             "#f0f921"
            ]
           ]
          },
          "colorway": [
           "#636efa",
           "#EF553B",
           "#00cc96",
           "#ab63fa",
           "#FFA15A",
           "#19d3f3",
           "#FF6692",
           "#B6E880",
           "#FF97FF",
           "#FECB52"
          ],
          "font": {
           "color": "#2a3f5f"
          },
          "geo": {
           "bgcolor": "white",
           "lakecolor": "white",
           "landcolor": "#E5ECF6",
           "showlakes": true,
           "showland": true,
           "subunitcolor": "white"
          },
          "hoverlabel": {
           "align": "left"
          },
          "hovermode": "closest",
          "mapbox": {
           "style": "light"
          },
          "paper_bgcolor": "white",
          "plot_bgcolor": "#E5ECF6",
          "polar": {
           "angularaxis": {
            "gridcolor": "white",
            "linecolor": "white",
            "ticks": ""
           },
           "bgcolor": "#E5ECF6",
           "radialaxis": {
            "gridcolor": "white",
            "linecolor": "white",
            "ticks": ""
           }
          },
          "scene": {
           "xaxis": {
            "backgroundcolor": "#E5ECF6",
            "gridcolor": "white",
            "gridwidth": 2,
            "linecolor": "white",
            "showbackground": true,
            "ticks": "",
            "zerolinecolor": "white"
           },
           "yaxis": {
            "backgroundcolor": "#E5ECF6",
            "gridcolor": "white",
            "gridwidth": 2,
            "linecolor": "white",
            "showbackground": true,
            "ticks": "",
            "zerolinecolor": "white"
           },
           "zaxis": {
            "backgroundcolor": "#E5ECF6",
            "gridcolor": "white",
            "gridwidth": 2,
            "linecolor": "white",
            "showbackground": true,
            "ticks": "",
            "zerolinecolor": "white"
           }
          },
          "shapedefaults": {
           "line": {
            "color": "#2a3f5f"
           }
          },
          "ternary": {
           "aaxis": {
            "gridcolor": "white",
            "linecolor": "white",
            "ticks": ""
           },
           "baxis": {
            "gridcolor": "white",
            "linecolor": "white",
            "ticks": ""
           },
           "bgcolor": "#E5ECF6",
           "caxis": {
            "gridcolor": "white",
            "linecolor": "white",
            "ticks": ""
           }
          },
          "title": {
           "x": 0.05
          },
          "xaxis": {
           "automargin": true,
           "gridcolor": "white",
           "linecolor": "white",
           "ticks": "",
           "title": {
            "standoff": 15
           },
           "zerolinecolor": "white",
           "zerolinewidth": 2
          },
          "yaxis": {
           "automargin": true,
           "gridcolor": "white",
           "linecolor": "white",
           "ticks": "",
           "title": {
            "standoff": 15
           },
           "zerolinecolor": "white",
           "zerolinewidth": 2
          }
         }
        },
        "xaxis": {
         "anchor": "y",
         "domain": [
          0,
          1
         ],
         "title": {
          "text": "Run time (minutes)"
         }
        },
        "yaxis": {
         "anchor": "x",
         "domain": [
          0,
          1
         ],
         "title": {
          "text": "Running mean nurse wait time"
         }
        }
       }
      }
     },
     "metadata": {},
     "output_type": "display_data"
    }
   ],
   "source": [
    "time_series_inspection(data_collection_period=1440*40, warm_up=1440*13)"
   ]
  },
  {
   "cell_type": "markdown",
   "metadata": {},
   "source": [
    "## Choosing the number of replications\n",
    "\n",
    "The **confidence interval method** can be used to select the number of replications to run. The more replications you run, the narrower your confidence interval becomes, leading to a more precise estimate of the model's mean performance.\n",
    "\n",
    "First, you select a desired confidence interval - for example, 95%. Then, run the model with an increasing number of replications, and identify the number required to achieve that precision in the estimate of a given metric - and also, to maintain that precision (as the intervals may converge or expand again later on).\n",
    "\n",
    "This method is less useful for values very close to zero - so, for example, when using utilisation (which ranges from 0 to 1) it is recommended to multiple values by 100."
   ]
  },
  {
   "cell_type": "code",
   "execution_count": 5,
   "metadata": {},
   "outputs": [],
   "source": [
    "def confidence_interval_method(replications, metric, desired_precision):\n",
    "    \"\"\"\n",
    "    Use the confidence interval method to select the number of replications.\n",
    "\n",
    "    Arguments:\n",
    "        replications (int):\n",
    "            Number of times to run the model.\n",
    "        metric (string):\n",
    "            Name of performance metric to assess.\n",
    "        desired_precision (float):\n",
    "            Desired mean deviation from confidence interval.\n",
    "    \"\"\"\n",
    "    param = Defaults()\n",
    "    param.number_of_runs = replications\n",
    "    choose_rep = Trial(param)\n",
    "    choose_rep.run_trial()\n",
    "\n",
    "    # If mean of metric is less than 1, multiply by 100\n",
    "    if choose_rep.trial_results_df[metric].mean() < 1:\n",
    "        choose_rep.trial_results_df[f'adj_{metric}'] = (\n",
    "            choose_rep.trial_results_df[metric]*100)\n",
    "        metric = f'adj_{metric}'\n",
    "\n",
    "    # Initialise list to store the results\n",
    "    cumulative_list = []\n",
    "\n",
    "    # For each row in the dataframe...\n",
    "    for i in range(1, replications+1):\n",
    "        # Filter to rows up to the i-th replication then perform calculations\n",
    "        data = choose_rep.trial_results_df[metric].iloc[:i]\n",
    "\n",
    "        mean = data.mean()\n",
    "        std = data.std()\n",
    "        lower, upper = st.t.interval(\n",
    "            confidence=0.95, df=len(data)-1, loc=mean, scale=st.sem(data))\n",
    "        deviation = ((upper-mean)/mean)*100\n",
    "\n",
    "        cumulative_list.append({\n",
    "            'replications': i,\n",
    "            'cumulative_mean': mean,\n",
    "            'cumulative_std': std,\n",
    "            'lower_ci': lower,\n",
    "            'upper_ci': upper,\n",
    "            'perc_deviation': deviation\n",
    "        })\n",
    "    cumulative = pd.DataFrame(cumulative_list)\n",
    "    display(cumulative.head())\n",
    "\n",
    "    # Get the minimum number of replications where deviation is less than target\n",
    "    try:\n",
    "        n_reps = cumulative[cumulative['perc_deviation']\n",
    "                            <= desired_precision*100].iloc[0].name + 1\n",
    "        print(f'Reached desired precision ({desired_precision}) in {n_reps} ' +\n",
    "            'replications.')\n",
    "    except:\n",
    "        warnings.warn(f'Running {replications} replications did not reach' +\n",
    "                    f'desired precision ({desired_precision}).')\n",
    "\n",
    "    # Plot the cumulative mean and confidence interval\n",
    "    fig = px.line(cumulative,\n",
    "                x='replications',\n",
    "                y=['cumulative_mean', 'lower_ci', 'upper_ci'])\n",
    "    fig.update_layout(\n",
    "        xaxis_title = 'Number of replications',\n",
    "        yaxis_title = metric\n",
    "    )\n",
    "    fig.show()"
   ]
  },
  {
   "cell_type": "code",
   "execution_count": 6,
   "metadata": {},
   "outputs": [
    {
     "name": "stderr",
     "output_type": "stream",
     "text": [
      "/tmp/ipykernel_43342/1889860093.py:35: SmallSampleWarning:\n",
      "\n",
      "One or more sample arguments is too small; all returned values will be NaN. See documentation for sample size requirements.\n",
      "\n"
     ]
    },
    {
     "data": {
      "text/html": [
       "<div>\n",
       "<style scoped>\n",
       "    .dataframe tbody tr th:only-of-type {\n",
       "        vertical-align: middle;\n",
       "    }\n",
       "\n",
       "    .dataframe tbody tr th {\n",
       "        vertical-align: top;\n",
       "    }\n",
       "\n",
       "    .dataframe thead th {\n",
       "        text-align: right;\n",
       "    }\n",
       "</style>\n",
       "<table border=\"1\" class=\"dataframe\">\n",
       "  <thead>\n",
       "    <tr style=\"text-align: right;\">\n",
       "      <th></th>\n",
       "      <th>replications</th>\n",
       "      <th>cumulative_mean</th>\n",
       "      <th>cumulative_std</th>\n",
       "      <th>lower_ci</th>\n",
       "      <th>upper_ci</th>\n",
       "      <th>perc_deviation</th>\n",
       "    </tr>\n",
       "  </thead>\n",
       "  <tbody>\n",
       "    <tr>\n",
       "      <th>0</th>\n",
       "      <td>1</td>\n",
       "      <td>9.842268</td>\n",
       "      <td>NaN</td>\n",
       "      <td>NaN</td>\n",
       "      <td>NaN</td>\n",
       "      <td>NaN</td>\n",
       "    </tr>\n",
       "    <tr>\n",
       "      <th>1</th>\n",
       "      <td>2</td>\n",
       "      <td>9.951374</td>\n",
       "      <td>0.154300</td>\n",
       "      <td>8.565044</td>\n",
       "      <td>11.337705</td>\n",
       "      <td>13.931046</td>\n",
       "    </tr>\n",
       "    <tr>\n",
       "      <th>2</th>\n",
       "      <td>3</td>\n",
       "      <td>9.942591</td>\n",
       "      <td>0.110162</td>\n",
       "      <td>9.668933</td>\n",
       "      <td>10.216249</td>\n",
       "      <td>2.752379</td>\n",
       "    </tr>\n",
       "    <tr>\n",
       "      <th>3</th>\n",
       "      <td>4</td>\n",
       "      <td>9.941208</td>\n",
       "      <td>0.089990</td>\n",
       "      <td>9.798014</td>\n",
       "      <td>10.084401</td>\n",
       "      <td>1.440402</td>\n",
       "    </tr>\n",
       "    <tr>\n",
       "      <th>4</th>\n",
       "      <td>5</td>\n",
       "      <td>9.956147</td>\n",
       "      <td>0.084791</td>\n",
       "      <td>9.850865</td>\n",
       "      <td>10.061429</td>\n",
       "      <td>1.057456</td>\n",
       "    </tr>\n",
       "  </tbody>\n",
       "</table>\n",
       "</div>"
      ],
      "text/plain": [
       "   replications  cumulative_mean  cumulative_std  lower_ci   upper_ci  \\\n",
       "0             1         9.842268             NaN       NaN        NaN   \n",
       "1             2         9.951374        0.154300  8.565044  11.337705   \n",
       "2             3         9.942591        0.110162  9.668933  10.216249   \n",
       "3             4         9.941208        0.089990  9.798014  10.084401   \n",
       "4             5         9.956147        0.084791  9.850865  10.061429   \n",
       "\n",
       "   perc_deviation  \n",
       "0             NaN  \n",
       "1       13.931046  \n",
       "2        2.752379  \n",
       "3        1.440402  \n",
       "4        1.057456  "
      ]
     },
     "metadata": {},
     "output_type": "display_data"
    },
    {
     "name": "stdout",
     "output_type": "stream",
     "text": [
      "Reached desired precision (0.05) in 3 replications.\n"
     ]
    },
    {
     "data": {
      "application/vnd.plotly.v1+json": {
       "config": {
        "plotlyServerURL": "https://plot.ly"
       },
       "data": [
        {
         "hovertemplate": "variable=cumulative_mean<br>replications=%{x}<br>value=%{y}<extra></extra>",
         "legendgroup": "cumulative_mean",
         "line": {
          "color": "#636efa",
          "dash": "solid"
         },
         "marker": {
          "symbol": "circle"
         },
         "mode": "lines",
         "name": "cumulative_mean",
         "orientation": "v",
         "showlegend": true,
         "type": "scatter",
         "x": [
          1,
          2,
          3,
          4,
          5,
          6,
          7,
          8,
          9,
          10,
          11,
          12,
          13,
          14,
          15,
          16,
          17,
          18,
          19,
          20
         ],
         "xaxis": "x",
         "y": [
          9.84226781662332,
          9.951374400036872,
          9.942591106606683,
          9.941207618553587,
          9.956146924437203,
          9.944288427507884,
          9.958218602827435,
          9.974313668481962,
          9.999642175136987,
          10.008938185524622,
          10.015721406424772,
          10.005522459034454,
          9.990551890174856,
          9.986503895431062,
          9.998582541597393,
          9.997144962523357,
          9.986124962793632,
          9.986293276241893,
          9.97649797303346,
          9.973642606291607
         ],
         "yaxis": "y"
        },
        {
         "hovertemplate": "variable=lower_ci<br>replications=%{x}<br>value=%{y}<extra></extra>",
         "legendgroup": "lower_ci",
         "line": {
          "color": "#EF553B",
          "dash": "solid"
         },
         "marker": {
          "symbol": "circle"
         },
         "mode": "lines",
         "name": "lower_ci",
         "orientation": "v",
         "showlegend": true,
         "type": "scatter",
         "x": [
          1,
          2,
          3,
          4,
          5,
          6,
          7,
          8,
          9,
          10,
          11,
          12,
          13,
          14,
          15,
          16,
          17,
          18,
          19,
          20
         ],
         "xaxis": "x",
         "y": [
          null,
          8.565043813091666,
          9.668933313439396,
          9.798014217052518,
          9.850865099446205,
          9.859061957546787,
          9.881649039803216,
          9.89978266327813,
          9.912922219809905,
          9.92999589179406,
          9.943783596856044,
          9.936878667457163,
          9.9200461110227,
          9.921192666323249,
          9.932895347421631,
          9.936005476017742,
          9.924412811154433,
          9.928386334642774,
          9.918201270401944,
          9.918222229071448
         ],
         "yaxis": "y"
        },
        {
         "hovertemplate": "variable=upper_ci<br>replications=%{x}<br>value=%{y}<extra></extra>",
         "legendgroup": "upper_ci",
         "line": {
          "color": "#00cc96",
          "dash": "solid"
         },
         "marker": {
          "symbol": "circle"
         },
         "mode": "lines",
         "name": "upper_ci",
         "orientation": "v",
         "showlegend": true,
         "type": "scatter",
         "x": [
          1,
          2,
          3,
          4,
          5,
          6,
          7,
          8,
          9,
          10,
          11,
          12,
          13,
          14,
          15,
          16,
          17,
          18,
          19,
          20
         ],
         "xaxis": "x",
         "y": [
          null,
          11.337704986982079,
          10.21624889977397,
          10.084401020054656,
          10.0614287494282,
          10.02951489746898,
          10.034788165851653,
          10.048844673685794,
          10.08636213046407,
          10.087880479255183,
          10.0876592159935,
          10.074166250611745,
          10.061057669327013,
          10.051815124538875,
          10.064269735773156,
          10.058284449028973,
          10.04783711443283,
          10.044200217841013,
          10.034794675664976,
          10.029062983511766
         ],
         "yaxis": "y"
        }
       ],
       "layout": {
        "legend": {
         "title": {
          "text": "variable"
         },
         "tracegroupgap": 0
        },
        "margin": {
         "t": 60
        },
        "template": {
         "data": {
          "bar": [
           {
            "error_x": {
             "color": "#2a3f5f"
            },
            "error_y": {
             "color": "#2a3f5f"
            },
            "marker": {
             "line": {
              "color": "#E5ECF6",
              "width": 0.5
             },
             "pattern": {
              "fillmode": "overlay",
              "size": 10,
              "solidity": 0.2
             }
            },
            "type": "bar"
           }
          ],
          "barpolar": [
           {
            "marker": {
             "line": {
              "color": "#E5ECF6",
              "width": 0.5
             },
             "pattern": {
              "fillmode": "overlay",
              "size": 10,
              "solidity": 0.2
             }
            },
            "type": "barpolar"
           }
          ],
          "carpet": [
           {
            "aaxis": {
             "endlinecolor": "#2a3f5f",
             "gridcolor": "white",
             "linecolor": "white",
             "minorgridcolor": "white",
             "startlinecolor": "#2a3f5f"
            },
            "baxis": {
             "endlinecolor": "#2a3f5f",
             "gridcolor": "white",
             "linecolor": "white",
             "minorgridcolor": "white",
             "startlinecolor": "#2a3f5f"
            },
            "type": "carpet"
           }
          ],
          "choropleth": [
           {
            "colorbar": {
             "outlinewidth": 0,
             "ticks": ""
            },
            "type": "choropleth"
           }
          ],
          "contour": [
           {
            "colorbar": {
             "outlinewidth": 0,
             "ticks": ""
            },
            "colorscale": [
             [
              0,
              "#0d0887"
             ],
             [
              0.1111111111111111,
              "#46039f"
             ],
             [
              0.2222222222222222,
              "#7201a8"
             ],
             [
              0.3333333333333333,
              "#9c179e"
             ],
             [
              0.4444444444444444,
              "#bd3786"
             ],
             [
              0.5555555555555556,
              "#d8576b"
             ],
             [
              0.6666666666666666,
              "#ed7953"
             ],
             [
              0.7777777777777778,
              "#fb9f3a"
             ],
             [
              0.8888888888888888,
              "#fdca26"
             ],
             [
              1,
              "#f0f921"
             ]
            ],
            "type": "contour"
           }
          ],
          "contourcarpet": [
           {
            "colorbar": {
             "outlinewidth": 0,
             "ticks": ""
            },
            "type": "contourcarpet"
           }
          ],
          "heatmap": [
           {
            "colorbar": {
             "outlinewidth": 0,
             "ticks": ""
            },
            "colorscale": [
             [
              0,
              "#0d0887"
             ],
             [
              0.1111111111111111,
              "#46039f"
             ],
             [
              0.2222222222222222,
              "#7201a8"
             ],
             [
              0.3333333333333333,
              "#9c179e"
             ],
             [
              0.4444444444444444,
              "#bd3786"
             ],
             [
              0.5555555555555556,
              "#d8576b"
             ],
             [
              0.6666666666666666,
              "#ed7953"
             ],
             [
              0.7777777777777778,
              "#fb9f3a"
             ],
             [
              0.8888888888888888,
              "#fdca26"
             ],
             [
              1,
              "#f0f921"
             ]
            ],
            "type": "heatmap"
           }
          ],
          "heatmapgl": [
           {
            "colorbar": {
             "outlinewidth": 0,
             "ticks": ""
            },
            "colorscale": [
             [
              0,
              "#0d0887"
             ],
             [
              0.1111111111111111,
              "#46039f"
             ],
             [
              0.2222222222222222,
              "#7201a8"
             ],
             [
              0.3333333333333333,
              "#9c179e"
             ],
             [
              0.4444444444444444,
              "#bd3786"
             ],
             [
              0.5555555555555556,
              "#d8576b"
             ],
             [
              0.6666666666666666,
              "#ed7953"
             ],
             [
              0.7777777777777778,
              "#fb9f3a"
             ],
             [
              0.8888888888888888,
              "#fdca26"
             ],
             [
              1,
              "#f0f921"
             ]
            ],
            "type": "heatmapgl"
           }
          ],
          "histogram": [
           {
            "marker": {
             "pattern": {
              "fillmode": "overlay",
              "size": 10,
              "solidity": 0.2
             }
            },
            "type": "histogram"
           }
          ],
          "histogram2d": [
           {
            "colorbar": {
             "outlinewidth": 0,
             "ticks": ""
            },
            "colorscale": [
             [
              0,
              "#0d0887"
             ],
             [
              0.1111111111111111,
              "#46039f"
             ],
             [
              0.2222222222222222,
              "#7201a8"
             ],
             [
              0.3333333333333333,
              "#9c179e"
             ],
             [
              0.4444444444444444,
              "#bd3786"
             ],
             [
              0.5555555555555556,
              "#d8576b"
             ],
             [
              0.6666666666666666,
              "#ed7953"
             ],
             [
              0.7777777777777778,
              "#fb9f3a"
             ],
             [
              0.8888888888888888,
              "#fdca26"
             ],
             [
              1,
              "#f0f921"
             ]
            ],
            "type": "histogram2d"
           }
          ],
          "histogram2dcontour": [
           {
            "colorbar": {
             "outlinewidth": 0,
             "ticks": ""
            },
            "colorscale": [
             [
              0,
              "#0d0887"
             ],
             [
              0.1111111111111111,
              "#46039f"
             ],
             [
              0.2222222222222222,
              "#7201a8"
             ],
             [
              0.3333333333333333,
              "#9c179e"
             ],
             [
              0.4444444444444444,
              "#bd3786"
             ],
             [
              0.5555555555555556,
              "#d8576b"
             ],
             [
              0.6666666666666666,
              "#ed7953"
             ],
             [
              0.7777777777777778,
              "#fb9f3a"
             ],
             [
              0.8888888888888888,
              "#fdca26"
             ],
             [
              1,
              "#f0f921"
             ]
            ],
            "type": "histogram2dcontour"
           }
          ],
          "mesh3d": [
           {
            "colorbar": {
             "outlinewidth": 0,
             "ticks": ""
            },
            "type": "mesh3d"
           }
          ],
          "parcoords": [
           {
            "line": {
             "colorbar": {
              "outlinewidth": 0,
              "ticks": ""
             }
            },
            "type": "parcoords"
           }
          ],
          "pie": [
           {
            "automargin": true,
            "type": "pie"
           }
          ],
          "scatter": [
           {
            "fillpattern": {
             "fillmode": "overlay",
             "size": 10,
             "solidity": 0.2
            },
            "type": "scatter"
           }
          ],
          "scatter3d": [
           {
            "line": {
             "colorbar": {
              "outlinewidth": 0,
              "ticks": ""
             }
            },
            "marker": {
             "colorbar": {
              "outlinewidth": 0,
              "ticks": ""
             }
            },
            "type": "scatter3d"
           }
          ],
          "scattercarpet": [
           {
            "marker": {
             "colorbar": {
              "outlinewidth": 0,
              "ticks": ""
             }
            },
            "type": "scattercarpet"
           }
          ],
          "scattergeo": [
           {
            "marker": {
             "colorbar": {
              "outlinewidth": 0,
              "ticks": ""
             }
            },
            "type": "scattergeo"
           }
          ],
          "scattergl": [
           {
            "marker": {
             "colorbar": {
              "outlinewidth": 0,
              "ticks": ""
             }
            },
            "type": "scattergl"
           }
          ],
          "scattermapbox": [
           {
            "marker": {
             "colorbar": {
              "outlinewidth": 0,
              "ticks": ""
             }
            },
            "type": "scattermapbox"
           }
          ],
          "scatterpolar": [
           {
            "marker": {
             "colorbar": {
              "outlinewidth": 0,
              "ticks": ""
             }
            },
            "type": "scatterpolar"
           }
          ],
          "scatterpolargl": [
           {
            "marker": {
             "colorbar": {
              "outlinewidth": 0,
              "ticks": ""
             }
            },
            "type": "scatterpolargl"
           }
          ],
          "scatterternary": [
           {
            "marker": {
             "colorbar": {
              "outlinewidth": 0,
              "ticks": ""
             }
            },
            "type": "scatterternary"
           }
          ],
          "surface": [
           {
            "colorbar": {
             "outlinewidth": 0,
             "ticks": ""
            },
            "colorscale": [
             [
              0,
              "#0d0887"
             ],
             [
              0.1111111111111111,
              "#46039f"
             ],
             [
              0.2222222222222222,
              "#7201a8"
             ],
             [
              0.3333333333333333,
              "#9c179e"
             ],
             [
              0.4444444444444444,
              "#bd3786"
             ],
             [
              0.5555555555555556,
              "#d8576b"
             ],
             [
              0.6666666666666666,
              "#ed7953"
             ],
             [
              0.7777777777777778,
              "#fb9f3a"
             ],
             [
              0.8888888888888888,
              "#fdca26"
             ],
             [
              1,
              "#f0f921"
             ]
            ],
            "type": "surface"
           }
          ],
          "table": [
           {
            "cells": {
             "fill": {
              "color": "#EBF0F8"
             },
             "line": {
              "color": "white"
             }
            },
            "header": {
             "fill": {
              "color": "#C8D4E3"
             },
             "line": {
              "color": "white"
             }
            },
            "type": "table"
           }
          ]
         },
         "layout": {
          "annotationdefaults": {
           "arrowcolor": "#2a3f5f",
           "arrowhead": 0,
           "arrowwidth": 1
          },
          "autotypenumbers": "strict",
          "coloraxis": {
           "colorbar": {
            "outlinewidth": 0,
            "ticks": ""
           }
          },
          "colorscale": {
           "diverging": [
            [
             0,
             "#8e0152"
            ],
            [
             0.1,
             "#c51b7d"
            ],
            [
             0.2,
             "#de77ae"
            ],
            [
             0.3,
             "#f1b6da"
            ],
            [
             0.4,
             "#fde0ef"
            ],
            [
             0.5,
             "#f7f7f7"
            ],
            [
             0.6,
             "#e6f5d0"
            ],
            [
             0.7,
             "#b8e186"
            ],
            [
             0.8,
             "#7fbc41"
            ],
            [
             0.9,
             "#4d9221"
            ],
            [
             1,
             "#276419"
            ]
           ],
           "sequential": [
            [
             0,
             "#0d0887"
            ],
            [
             0.1111111111111111,
             "#46039f"
            ],
            [
             0.2222222222222222,
             "#7201a8"
            ],
            [
             0.3333333333333333,
             "#9c179e"
            ],
            [
             0.4444444444444444,
             "#bd3786"
            ],
            [
             0.5555555555555556,
             "#d8576b"
            ],
            [
             0.6666666666666666,
             "#ed7953"
            ],
            [
             0.7777777777777778,
             "#fb9f3a"
            ],
            [
             0.8888888888888888,
             "#fdca26"
            ],
            [
             1,
             "#f0f921"
            ]
           ],
           "sequentialminus": [
            [
             0,
             "#0d0887"
            ],
            [
             0.1111111111111111,
             "#46039f"
            ],
            [
             0.2222222222222222,
             "#7201a8"
            ],
            [
             0.3333333333333333,
             "#9c179e"
            ],
            [
             0.4444444444444444,
             "#bd3786"
            ],
            [
             0.5555555555555556,
             "#d8576b"
            ],
            [
             0.6666666666666666,
             "#ed7953"
            ],
            [
             0.7777777777777778,
             "#fb9f3a"
            ],
            [
             0.8888888888888888,
             "#fdca26"
            ],
            [
             1,
             "#f0f921"
            ]
           ]
          },
          "colorway": [
           "#636efa",
           "#EF553B",
           "#00cc96",
           "#ab63fa",
           "#FFA15A",
           "#19d3f3",
           "#FF6692",
           "#B6E880",
           "#FF97FF",
           "#FECB52"
          ],
          "font": {
           "color": "#2a3f5f"
          },
          "geo": {
           "bgcolor": "white",
           "lakecolor": "white",
           "landcolor": "#E5ECF6",
           "showlakes": true,
           "showland": true,
           "subunitcolor": "white"
          },
          "hoverlabel": {
           "align": "left"
          },
          "hovermode": "closest",
          "mapbox": {
           "style": "light"
          },
          "paper_bgcolor": "white",
          "plot_bgcolor": "#E5ECF6",
          "polar": {
           "angularaxis": {
            "gridcolor": "white",
            "linecolor": "white",
            "ticks": ""
           },
           "bgcolor": "#E5ECF6",
           "radialaxis": {
            "gridcolor": "white",
            "linecolor": "white",
            "ticks": ""
           }
          },
          "scene": {
           "xaxis": {
            "backgroundcolor": "#E5ECF6",
            "gridcolor": "white",
            "gridwidth": 2,
            "linecolor": "white",
            "showbackground": true,
            "ticks": "",
            "zerolinecolor": "white"
           },
           "yaxis": {
            "backgroundcolor": "#E5ECF6",
            "gridcolor": "white",
            "gridwidth": 2,
            "linecolor": "white",
            "showbackground": true,
            "ticks": "",
            "zerolinecolor": "white"
           },
           "zaxis": {
            "backgroundcolor": "#E5ECF6",
            "gridcolor": "white",
            "gridwidth": 2,
            "linecolor": "white",
            "showbackground": true,
            "ticks": "",
            "zerolinecolor": "white"
           }
          },
          "shapedefaults": {
           "line": {
            "color": "#2a3f5f"
           }
          },
          "ternary": {
           "aaxis": {
            "gridcolor": "white",
            "linecolor": "white",
            "ticks": ""
           },
           "baxis": {
            "gridcolor": "white",
            "linecolor": "white",
            "ticks": ""
           },
           "bgcolor": "#E5ECF6",
           "caxis": {
            "gridcolor": "white",
            "linecolor": "white",
            "ticks": ""
           }
          },
          "title": {
           "x": 0.05
          },
          "xaxis": {
           "automargin": true,
           "gridcolor": "white",
           "linecolor": "white",
           "ticks": "",
           "title": {
            "standoff": 15
           },
           "zerolinecolor": "white",
           "zerolinewidth": 2
          },
          "yaxis": {
           "automargin": true,
           "gridcolor": "white",
           "linecolor": "white",
           "ticks": "",
           "title": {
            "standoff": 15
           },
           "zerolinecolor": "white",
           "zerolinewidth": 2
          }
         }
        },
        "xaxis": {
         "anchor": "y",
         "domain": [
          0,
          1
         ],
         "title": {
          "text": "Number of replications"
         }
        },
        "yaxis": {
         "anchor": "x",
         "domain": [
          0,
          1
         ],
         "title": {
          "text": "mean_time_with_nurse"
         }
        }
       }
      }
     },
     "metadata": {},
     "output_type": "display_data"
    }
   ],
   "source": [
    "confidence_interval_method(\n",
    "    replications = 20,\n",
    "    metric = 'mean_time_with_nurse',\n",
    "    desired_precision = 0.05\n",
    ")"
   ]
  },
  {
   "cell_type": "code",
   "execution_count": 7,
   "metadata": {},
   "outputs": [
    {
     "name": "stderr",
     "output_type": "stream",
     "text": [
      "/tmp/ipykernel_43342/1889860093.py:35: SmallSampleWarning:\n",
      "\n",
      "One or more sample arguments is too small; all returned values will be NaN. See documentation for sample size requirements.\n",
      "\n"
     ]
    },
    {
     "data": {
      "text/html": [
       "<div>\n",
       "<style scoped>\n",
       "    .dataframe tbody tr th:only-of-type {\n",
       "        vertical-align: middle;\n",
       "    }\n",
       "\n",
       "    .dataframe tbody tr th {\n",
       "        vertical-align: top;\n",
       "    }\n",
       "\n",
       "    .dataframe thead th {\n",
       "        text-align: right;\n",
       "    }\n",
       "</style>\n",
       "<table border=\"1\" class=\"dataframe\">\n",
       "  <thead>\n",
       "    <tr style=\"text-align: right;\">\n",
       "      <th></th>\n",
       "      <th>replications</th>\n",
       "      <th>cumulative_mean</th>\n",
       "      <th>cumulative_std</th>\n",
       "      <th>lower_ci</th>\n",
       "      <th>upper_ci</th>\n",
       "      <th>perc_deviation</th>\n",
       "    </tr>\n",
       "  </thead>\n",
       "  <tbody>\n",
       "    <tr>\n",
       "      <th>0</th>\n",
       "      <td>1</td>\n",
       "      <td>50.454108</td>\n",
       "      <td>NaN</td>\n",
       "      <td>NaN</td>\n",
       "      <td>NaN</td>\n",
       "      <td>NaN</td>\n",
       "    </tr>\n",
       "    <tr>\n",
       "      <th>1</th>\n",
       "      <td>2</td>\n",
       "      <td>50.934587</td>\n",
       "      <td>0.679499</td>\n",
       "      <td>44.829530</td>\n",
       "      <td>57.039643</td>\n",
       "      <td>11.986073</td>\n",
       "    </tr>\n",
       "    <tr>\n",
       "      <th>2</th>\n",
       "      <td>3</td>\n",
       "      <td>51.397555</td>\n",
       "      <td>0.934815</td>\n",
       "      <td>49.075346</td>\n",
       "      <td>53.719764</td>\n",
       "      <td>4.518132</td>\n",
       "    </tr>\n",
       "    <tr>\n",
       "      <th>3</th>\n",
       "      <td>4</td>\n",
       "      <td>50.526888</td>\n",
       "      <td>1.901271</td>\n",
       "      <td>47.501541</td>\n",
       "      <td>53.552234</td>\n",
       "      <td>5.987597</td>\n",
       "    </tr>\n",
       "    <tr>\n",
       "      <th>4</th>\n",
       "      <td>5</td>\n",
       "      <td>49.650659</td>\n",
       "      <td>2.559298</td>\n",
       "      <td>46.472872</td>\n",
       "      <td>52.828447</td>\n",
       "      <td>6.400293</td>\n",
       "    </tr>\n",
       "  </tbody>\n",
       "</table>\n",
       "</div>"
      ],
      "text/plain": [
       "   replications  cumulative_mean  cumulative_std   lower_ci   upper_ci  \\\n",
       "0             1        50.454108             NaN        NaN        NaN   \n",
       "1             2        50.934587        0.679499  44.829530  57.039643   \n",
       "2             3        51.397555        0.934815  49.075346  53.719764   \n",
       "3             4        50.526888        1.901271  47.501541  53.552234   \n",
       "4             5        49.650659        2.559298  46.472872  52.828447   \n",
       "\n",
       "   perc_deviation  \n",
       "0             NaN  \n",
       "1       11.986073  \n",
       "2        4.518132  \n",
       "3        5.987597  \n",
       "4        6.400293  "
      ]
     },
     "metadata": {},
     "output_type": "display_data"
    },
    {
     "name": "stdout",
     "output_type": "stream",
     "text": [
      "Reached desired precision (0.05) in 3 replications.\n"
     ]
    },
    {
     "data": {
      "application/vnd.plotly.v1+json": {
       "config": {
        "plotlyServerURL": "https://plot.ly"
       },
       "data": [
        {
         "hovertemplate": "variable=cumulative_mean<br>replications=%{x}<br>value=%{y}<extra></extra>",
         "legendgroup": "cumulative_mean",
         "line": {
          "color": "#636efa",
          "dash": "solid"
         },
         "marker": {
          "symbol": "circle"
         },
         "mode": "lines",
         "name": "cumulative_mean",
         "orientation": "v",
         "showlegend": true,
         "type": "scatter",
         "x": [
          1,
          2,
          3,
          4,
          5,
          6,
          7,
          8,
          9,
          10,
          11,
          12,
          13,
          14,
          15,
          16,
          17,
          18,
          19,
          20
         ],
         "xaxis": "x",
         "y": [
          50.454108133861496,
          50.9345865171004,
          51.397555098122986,
          50.52688790311877,
          49.65065946781098,
          47.84662767005613,
          47.68193954814792,
          49.54530161589753,
          49.24579179901227,
          49.955562481112146,
          50.52856561182975,
          49.63295034445772,
          49.240443624489245,
          48.86441604370572,
          49.67867015521599,
          49.55319066503698,
          49.157921979277404,
          49.23567345862779,
          48.547385951850934,
          48.21581151445441
         ],
         "yaxis": "y"
        },
        {
         "hovertemplate": "variable=lower_ci<br>replications=%{x}<br>value=%{y}<extra></extra>",
         "legendgroup": "lower_ci",
         "line": {
          "color": "#EF553B",
          "dash": "solid"
         },
         "marker": {
          "symbol": "circle"
         },
         "mode": "lines",
         "name": "lower_ci",
         "orientation": "v",
         "showlegend": true,
         "type": "scatter",
         "x": [
          1,
          2,
          3,
          4,
          5,
          6,
          7,
          8,
          9,
          10,
          11,
          12,
          13,
          14,
          15,
          16,
          17,
          18,
          19,
          20
         ],
         "xaxis": "x",
         "y": [
          null,
          44.82952980823701,
          49.075345752234426,
          47.50154139555324,
          46.47287157316492,
          42.6239386966234,
          43.461036473080895,
          43.8979491956498,
          44.33990286035744,
          45.36133327371767,
          46.24092400613056,
          45.29307245587066,
          45.197077539910225,
          45.06481819033541,
          45.75666846800609,
          45.8975107448092,
          45.64131775138991,
          45.93189225382797,
          45.11592958132439,
          44.89926173551309
         ],
         "yaxis": "y"
        },
        {
         "hovertemplate": "variable=upper_ci<br>replications=%{x}<br>value=%{y}<extra></extra>",
         "legendgroup": "upper_ci",
         "line": {
          "color": "#00cc96",
          "dash": "solid"
         },
         "marker": {
          "symbol": "circle"
         },
         "mode": "lines",
         "name": "upper_ci",
         "orientation": "v",
         "showlegend": true,
         "type": "scatter",
         "x": [
          1,
          2,
          3,
          4,
          5,
          6,
          7,
          8,
          9,
          10,
          11,
          12,
          13,
          14,
          15,
          16,
          17,
          18,
          19,
          20
         ],
         "xaxis": "x",
         "y": [
          null,
          57.039643225963786,
          53.719764444011545,
          53.5522344106843,
          52.82844736245704,
          53.06931664348886,
          51.90284262321495,
          55.19265403614526,
          54.15168073766709,
          54.54979168850662,
          54.816207217528934,
          53.97282823304478,
          53.283809709068265,
          52.664013897076025,
          53.60067184242589,
          53.208870585264755,
          52.674526207164895,
          52.539454663427605,
          51.97884232237748,
          51.532361293395724
         ],
         "yaxis": "y"
        }
       ],
       "layout": {
        "legend": {
         "title": {
          "text": "variable"
         },
         "tracegroupgap": 0
        },
        "margin": {
         "t": 60
        },
        "template": {
         "data": {
          "bar": [
           {
            "error_x": {
             "color": "#2a3f5f"
            },
            "error_y": {
             "color": "#2a3f5f"
            },
            "marker": {
             "line": {
              "color": "#E5ECF6",
              "width": 0.5
             },
             "pattern": {
              "fillmode": "overlay",
              "size": 10,
              "solidity": 0.2
             }
            },
            "type": "bar"
           }
          ],
          "barpolar": [
           {
            "marker": {
             "line": {
              "color": "#E5ECF6",
              "width": 0.5
             },
             "pattern": {
              "fillmode": "overlay",
              "size": 10,
              "solidity": 0.2
             }
            },
            "type": "barpolar"
           }
          ],
          "carpet": [
           {
            "aaxis": {
             "endlinecolor": "#2a3f5f",
             "gridcolor": "white",
             "linecolor": "white",
             "minorgridcolor": "white",
             "startlinecolor": "#2a3f5f"
            },
            "baxis": {
             "endlinecolor": "#2a3f5f",
             "gridcolor": "white",
             "linecolor": "white",
             "minorgridcolor": "white",
             "startlinecolor": "#2a3f5f"
            },
            "type": "carpet"
           }
          ],
          "choropleth": [
           {
            "colorbar": {
             "outlinewidth": 0,
             "ticks": ""
            },
            "type": "choropleth"
           }
          ],
          "contour": [
           {
            "colorbar": {
             "outlinewidth": 0,
             "ticks": ""
            },
            "colorscale": [
             [
              0,
              "#0d0887"
             ],
             [
              0.1111111111111111,
              "#46039f"
             ],
             [
              0.2222222222222222,
              "#7201a8"
             ],
             [
              0.3333333333333333,
              "#9c179e"
             ],
             [
              0.4444444444444444,
              "#bd3786"
             ],
             [
              0.5555555555555556,
              "#d8576b"
             ],
             [
              0.6666666666666666,
              "#ed7953"
             ],
             [
              0.7777777777777778,
              "#fb9f3a"
             ],
             [
              0.8888888888888888,
              "#fdca26"
             ],
             [
              1,
              "#f0f921"
             ]
            ],
            "type": "contour"
           }
          ],
          "contourcarpet": [
           {
            "colorbar": {
             "outlinewidth": 0,
             "ticks": ""
            },
            "type": "contourcarpet"
           }
          ],
          "heatmap": [
           {
            "colorbar": {
             "outlinewidth": 0,
             "ticks": ""
            },
            "colorscale": [
             [
              0,
              "#0d0887"
             ],
             [
              0.1111111111111111,
              "#46039f"
             ],
             [
              0.2222222222222222,
              "#7201a8"
             ],
             [
              0.3333333333333333,
              "#9c179e"
             ],
             [
              0.4444444444444444,
              "#bd3786"
             ],
             [
              0.5555555555555556,
              "#d8576b"
             ],
             [
              0.6666666666666666,
              "#ed7953"
             ],
             [
              0.7777777777777778,
              "#fb9f3a"
             ],
             [
              0.8888888888888888,
              "#fdca26"
             ],
             [
              1,
              "#f0f921"
             ]
            ],
            "type": "heatmap"
           }
          ],
          "heatmapgl": [
           {
            "colorbar": {
             "outlinewidth": 0,
             "ticks": ""
            },
            "colorscale": [
             [
              0,
              "#0d0887"
             ],
             [
              0.1111111111111111,
              "#46039f"
             ],
             [
              0.2222222222222222,
              "#7201a8"
             ],
             [
              0.3333333333333333,
              "#9c179e"
             ],
             [
              0.4444444444444444,
              "#bd3786"
             ],
             [
              0.5555555555555556,
              "#d8576b"
             ],
             [
              0.6666666666666666,
              "#ed7953"
             ],
             [
              0.7777777777777778,
              "#fb9f3a"
             ],
             [
              0.8888888888888888,
              "#fdca26"
             ],
             [
              1,
              "#f0f921"
             ]
            ],
            "type": "heatmapgl"
           }
          ],
          "histogram": [
           {
            "marker": {
             "pattern": {
              "fillmode": "overlay",
              "size": 10,
              "solidity": 0.2
             }
            },
            "type": "histogram"
           }
          ],
          "histogram2d": [
           {
            "colorbar": {
             "outlinewidth": 0,
             "ticks": ""
            },
            "colorscale": [
             [
              0,
              "#0d0887"
             ],
             [
              0.1111111111111111,
              "#46039f"
             ],
             [
              0.2222222222222222,
              "#7201a8"
             ],
             [
              0.3333333333333333,
              "#9c179e"
             ],
             [
              0.4444444444444444,
              "#bd3786"
             ],
             [
              0.5555555555555556,
              "#d8576b"
             ],
             [
              0.6666666666666666,
              "#ed7953"
             ],
             [
              0.7777777777777778,
              "#fb9f3a"
             ],
             [
              0.8888888888888888,
              "#fdca26"
             ],
             [
              1,
              "#f0f921"
             ]
            ],
            "type": "histogram2d"
           }
          ],
          "histogram2dcontour": [
           {
            "colorbar": {
             "outlinewidth": 0,
             "ticks": ""
            },
            "colorscale": [
             [
              0,
              "#0d0887"
             ],
             [
              0.1111111111111111,
              "#46039f"
             ],
             [
              0.2222222222222222,
              "#7201a8"
             ],
             [
              0.3333333333333333,
              "#9c179e"
             ],
             [
              0.4444444444444444,
              "#bd3786"
             ],
             [
              0.5555555555555556,
              "#d8576b"
             ],
             [
              0.6666666666666666,
              "#ed7953"
             ],
             [
              0.7777777777777778,
              "#fb9f3a"
             ],
             [
              0.8888888888888888,
              "#fdca26"
             ],
             [
              1,
              "#f0f921"
             ]
            ],
            "type": "histogram2dcontour"
           }
          ],
          "mesh3d": [
           {
            "colorbar": {
             "outlinewidth": 0,
             "ticks": ""
            },
            "type": "mesh3d"
           }
          ],
          "parcoords": [
           {
            "line": {
             "colorbar": {
              "outlinewidth": 0,
              "ticks": ""
             }
            },
            "type": "parcoords"
           }
          ],
          "pie": [
           {
            "automargin": true,
            "type": "pie"
           }
          ],
          "scatter": [
           {
            "fillpattern": {
             "fillmode": "overlay",
             "size": 10,
             "solidity": 0.2
            },
            "type": "scatter"
           }
          ],
          "scatter3d": [
           {
            "line": {
             "colorbar": {
              "outlinewidth": 0,
              "ticks": ""
             }
            },
            "marker": {
             "colorbar": {
              "outlinewidth": 0,
              "ticks": ""
             }
            },
            "type": "scatter3d"
           }
          ],
          "scattercarpet": [
           {
            "marker": {
             "colorbar": {
              "outlinewidth": 0,
              "ticks": ""
             }
            },
            "type": "scattercarpet"
           }
          ],
          "scattergeo": [
           {
            "marker": {
             "colorbar": {
              "outlinewidth": 0,
              "ticks": ""
             }
            },
            "type": "scattergeo"
           }
          ],
          "scattergl": [
           {
            "marker": {
             "colorbar": {
              "outlinewidth": 0,
              "ticks": ""
             }
            },
            "type": "scattergl"
           }
          ],
          "scattermapbox": [
           {
            "marker": {
             "colorbar": {
              "outlinewidth": 0,
              "ticks": ""
             }
            },
            "type": "scattermapbox"
           }
          ],
          "scatterpolar": [
           {
            "marker": {
             "colorbar": {
              "outlinewidth": 0,
              "ticks": ""
             }
            },
            "type": "scatterpolar"
           }
          ],
          "scatterpolargl": [
           {
            "marker": {
             "colorbar": {
              "outlinewidth": 0,
              "ticks": ""
             }
            },
            "type": "scatterpolargl"
           }
          ],
          "scatterternary": [
           {
            "marker": {
             "colorbar": {
              "outlinewidth": 0,
              "ticks": ""
             }
            },
            "type": "scatterternary"
           }
          ],
          "surface": [
           {
            "colorbar": {
             "outlinewidth": 0,
             "ticks": ""
            },
            "colorscale": [
             [
              0,
              "#0d0887"
             ],
             [
              0.1111111111111111,
              "#46039f"
             ],
             [
              0.2222222222222222,
              "#7201a8"
             ],
             [
              0.3333333333333333,
              "#9c179e"
             ],
             [
              0.4444444444444444,
              "#bd3786"
             ],
             [
              0.5555555555555556,
              "#d8576b"
             ],
             [
              0.6666666666666666,
              "#ed7953"
             ],
             [
              0.7777777777777778,
              "#fb9f3a"
             ],
             [
              0.8888888888888888,
              "#fdca26"
             ],
             [
              1,
              "#f0f921"
             ]
            ],
            "type": "surface"
           }
          ],
          "table": [
           {
            "cells": {
             "fill": {
              "color": "#EBF0F8"
             },
             "line": {
              "color": "white"
             }
            },
            "header": {
             "fill": {
              "color": "#C8D4E3"
             },
             "line": {
              "color": "white"
             }
            },
            "type": "table"
           }
          ]
         },
         "layout": {
          "annotationdefaults": {
           "arrowcolor": "#2a3f5f",
           "arrowhead": 0,
           "arrowwidth": 1
          },
          "autotypenumbers": "strict",
          "coloraxis": {
           "colorbar": {
            "outlinewidth": 0,
            "ticks": ""
           }
          },
          "colorscale": {
           "diverging": [
            [
             0,
             "#8e0152"
            ],
            [
             0.1,
             "#c51b7d"
            ],
            [
             0.2,
             "#de77ae"
            ],
            [
             0.3,
             "#f1b6da"
            ],
            [
             0.4,
             "#fde0ef"
            ],
            [
             0.5,
             "#f7f7f7"
            ],
            [
             0.6,
             "#e6f5d0"
            ],
            [
             0.7,
             "#b8e186"
            ],
            [
             0.8,
             "#7fbc41"
            ],
            [
             0.9,
             "#4d9221"
            ],
            [
             1,
             "#276419"
            ]
           ],
           "sequential": [
            [
             0,
             "#0d0887"
            ],
            [
             0.1111111111111111,
             "#46039f"
            ],
            [
             0.2222222222222222,
             "#7201a8"
            ],
            [
             0.3333333333333333,
             "#9c179e"
            ],
            [
             0.4444444444444444,
             "#bd3786"
            ],
            [
             0.5555555555555556,
             "#d8576b"
            ],
            [
             0.6666666666666666,
             "#ed7953"
            ],
            [
             0.7777777777777778,
             "#fb9f3a"
            ],
            [
             0.8888888888888888,
             "#fdca26"
            ],
            [
             1,
             "#f0f921"
            ]
           ],
           "sequentialminus": [
            [
             0,
             "#0d0887"
            ],
            [
             0.1111111111111111,
             "#46039f"
            ],
            [
             0.2222222222222222,
             "#7201a8"
            ],
            [
             0.3333333333333333,
             "#9c179e"
            ],
            [
             0.4444444444444444,
             "#bd3786"
            ],
            [
             0.5555555555555556,
             "#d8576b"
            ],
            [
             0.6666666666666666,
             "#ed7953"
            ],
            [
             0.7777777777777778,
             "#fb9f3a"
            ],
            [
             0.8888888888888888,
             "#fdca26"
            ],
            [
             1,
             "#f0f921"
            ]
           ]
          },
          "colorway": [
           "#636efa",
           "#EF553B",
           "#00cc96",
           "#ab63fa",
           "#FFA15A",
           "#19d3f3",
           "#FF6692",
           "#B6E880",
           "#FF97FF",
           "#FECB52"
          ],
          "font": {
           "color": "#2a3f5f"
          },
          "geo": {
           "bgcolor": "white",
           "lakecolor": "white",
           "landcolor": "#E5ECF6",
           "showlakes": true,
           "showland": true,
           "subunitcolor": "white"
          },
          "hoverlabel": {
           "align": "left"
          },
          "hovermode": "closest",
          "mapbox": {
           "style": "light"
          },
          "paper_bgcolor": "white",
          "plot_bgcolor": "#E5ECF6",
          "polar": {
           "angularaxis": {
            "gridcolor": "white",
            "linecolor": "white",
            "ticks": ""
           },
           "bgcolor": "#E5ECF6",
           "radialaxis": {
            "gridcolor": "white",
            "linecolor": "white",
            "ticks": ""
           }
          },
          "scene": {
           "xaxis": {
            "backgroundcolor": "#E5ECF6",
            "gridcolor": "white",
            "gridwidth": 2,
            "linecolor": "white",
            "showbackground": true,
            "ticks": "",
            "zerolinecolor": "white"
           },
           "yaxis": {
            "backgroundcolor": "#E5ECF6",
            "gridcolor": "white",
            "gridwidth": 2,
            "linecolor": "white",
            "showbackground": true,
            "ticks": "",
            "zerolinecolor": "white"
           },
           "zaxis": {
            "backgroundcolor": "#E5ECF6",
            "gridcolor": "white",
            "gridwidth": 2,
            "linecolor": "white",
            "showbackground": true,
            "ticks": "",
            "zerolinecolor": "white"
           }
          },
          "shapedefaults": {
           "line": {
            "color": "#2a3f5f"
           }
          },
          "ternary": {
           "aaxis": {
            "gridcolor": "white",
            "linecolor": "white",
            "ticks": ""
           },
           "baxis": {
            "gridcolor": "white",
            "linecolor": "white",
            "ticks": ""
           },
           "bgcolor": "#E5ECF6",
           "caxis": {
            "gridcolor": "white",
            "linecolor": "white",
            "ticks": ""
           }
          },
          "title": {
           "x": 0.05
          },
          "xaxis": {
           "automargin": true,
           "gridcolor": "white",
           "linecolor": "white",
           "ticks": "",
           "title": {
            "standoff": 15
           },
           "zerolinecolor": "white",
           "zerolinewidth": 2
          },
          "yaxis": {
           "automargin": true,
           "gridcolor": "white",
           "linecolor": "white",
           "ticks": "",
           "title": {
            "standoff": 15
           },
           "zerolinecolor": "white",
           "zerolinewidth": 2
          }
         }
        },
        "xaxis": {
         "anchor": "y",
         "domain": [
          0,
          1
         ],
         "title": {
          "text": "Number of replications"
         }
        },
        "yaxis": {
         "anchor": "x",
         "domain": [
          0,
          1
         ],
         "title": {
          "text": "adj_mean_q_time_nurse"
         }
        }
       }
      }
     },
     "metadata": {},
     "output_type": "display_data"
    }
   ],
   "source": [
    "confidence_interval_method(\n",
    "    replications = 20,\n",
    "    metric = 'mean_q_time_nurse',\n",
    "    desired_precision = 0.05\n",
    ")"
   ]
  },
  {
   "cell_type": "code",
   "execution_count": 8,
   "metadata": {},
   "outputs": [
    {
     "name": "stderr",
     "output_type": "stream",
     "text": [
      "/tmp/ipykernel_43342/1889860093.py:35: SmallSampleWarning:\n",
      "\n",
      "One or more sample arguments is too small; all returned values will be NaN. See documentation for sample size requirements.\n",
      "\n"
     ]
    },
    {
     "data": {
      "text/html": [
       "<div>\n",
       "<style scoped>\n",
       "    .dataframe tbody tr th:only-of-type {\n",
       "        vertical-align: middle;\n",
       "    }\n",
       "\n",
       "    .dataframe tbody tr th {\n",
       "        vertical-align: top;\n",
       "    }\n",
       "\n",
       "    .dataframe thead th {\n",
       "        text-align: right;\n",
       "    }\n",
       "</style>\n",
       "<table border=\"1\" class=\"dataframe\">\n",
       "  <thead>\n",
       "    <tr style=\"text-align: right;\">\n",
       "      <th></th>\n",
       "      <th>replications</th>\n",
       "      <th>cumulative_mean</th>\n",
       "      <th>cumulative_std</th>\n",
       "      <th>lower_ci</th>\n",
       "      <th>upper_ci</th>\n",
       "      <th>perc_deviation</th>\n",
       "    </tr>\n",
       "  </thead>\n",
       "  <tbody>\n",
       "    <tr>\n",
       "      <th>0</th>\n",
       "      <td>1</td>\n",
       "      <td>49.963865</td>\n",
       "      <td>NaN</td>\n",
       "      <td>NaN</td>\n",
       "      <td>NaN</td>\n",
       "      <td>NaN</td>\n",
       "    </tr>\n",
       "    <tr>\n",
       "      <th>1</th>\n",
       "      <td>2</td>\n",
       "      <td>50.081459</td>\n",
       "      <td>0.166304</td>\n",
       "      <td>48.587275</td>\n",
       "      <td>51.575644</td>\n",
       "      <td>2.983507</td>\n",
       "    </tr>\n",
       "    <tr>\n",
       "      <th>2</th>\n",
       "      <td>3</td>\n",
       "      <td>49.991963</td>\n",
       "      <td>0.194570</td>\n",
       "      <td>49.508625</td>\n",
       "      <td>50.475301</td>\n",
       "      <td>0.966831</td>\n",
       "    </tr>\n",
       "    <tr>\n",
       "      <th>3</th>\n",
       "      <td>4</td>\n",
       "      <td>49.949485</td>\n",
       "      <td>0.180155</td>\n",
       "      <td>49.662817</td>\n",
       "      <td>50.236152</td>\n",
       "      <td>0.573914</td>\n",
       "    </tr>\n",
       "    <tr>\n",
       "      <th>4</th>\n",
       "      <td>5</td>\n",
       "      <td>49.896994</td>\n",
       "      <td>0.195238</td>\n",
       "      <td>49.654574</td>\n",
       "      <td>50.139415</td>\n",
       "      <td>0.485842</td>\n",
       "    </tr>\n",
       "  </tbody>\n",
       "</table>\n",
       "</div>"
      ],
      "text/plain": [
       "   replications  cumulative_mean  cumulative_std   lower_ci   upper_ci  \\\n",
       "0             1        49.963865             NaN        NaN        NaN   \n",
       "1             2        50.081459        0.166304  48.587275  51.575644   \n",
       "2             3        49.991963        0.194570  49.508625  50.475301   \n",
       "3             4        49.949485        0.180155  49.662817  50.236152   \n",
       "4             5        49.896994        0.195238  49.654574  50.139415   \n",
       "\n",
       "   perc_deviation  \n",
       "0             NaN  \n",
       "1        2.983507  \n",
       "2        0.966831  \n",
       "3        0.573914  \n",
       "4        0.485842  "
      ]
     },
     "metadata": {},
     "output_type": "display_data"
    },
    {
     "name": "stdout",
     "output_type": "stream",
     "text": [
      "Reached desired precision (0.05) in 2 replications.\n"
     ]
    },
    {
     "data": {
      "application/vnd.plotly.v1+json": {
       "config": {
        "plotlyServerURL": "https://plot.ly"
       },
       "data": [
        {
         "hovertemplate": "variable=cumulative_mean<br>replications=%{x}<br>value=%{y}<extra></extra>",
         "legendgroup": "cumulative_mean",
         "line": {
          "color": "#636efa",
          "dash": "solid"
         },
         "marker": {
          "symbol": "circle"
         },
         "mode": "lines",
         "name": "cumulative_mean",
         "orientation": "v",
         "showlegend": true,
         "type": "scatter",
         "x": [
          1,
          2,
          3,
          4,
          5,
          6,
          7,
          8,
          9,
          10,
          11,
          12,
          13,
          14,
          15,
          16,
          17,
          18,
          19,
          20
         ],
         "xaxis": "x",
         "y": [
          49.96386466177992,
          50.08145949752793,
          49.99196310572998,
          49.94948466237189,
          49.89699447400792,
          49.79589927930783,
          49.87300297633526,
          49.931989330602605,
          50.037223792844244,
          50.03321924615158,
          50.119630129686705,
          50.02235556480079,
          50.04700281148129,
          49.96689243523709,
          50.056635426565414,
          50.05911439346754,
          49.97737082046852,
          49.95312089199468,
          49.84701756881236,
          49.81231247446213
         ],
         "yaxis": "y"
        },
        {
         "hovertemplate": "variable=lower_ci<br>replications=%{x}<br>value=%{y}<extra></extra>",
         "legendgroup": "lower_ci",
         "line": {
          "color": "#EF553B",
          "dash": "solid"
         },
         "marker": {
          "symbol": "circle"
         },
         "mode": "lines",
         "name": "lower_ci",
         "orientation": "v",
         "showlegend": true,
         "type": "scatter",
         "x": [
          1,
          2,
          3,
          4,
          5,
          6,
          7,
          8,
          9,
          10,
          11,
          12,
          13,
          14,
          15,
          16,
          17,
          18,
          19,
          20
         ],
         "xaxis": "x",
         "y": [
          null,
          48.587275438566635,
          49.50862524233853,
          49.662817470526655,
          49.654573981970024,
          49.477908406885305,
          49.555135666249576,
          49.63161717576598,
          49.682784952539144,
          49.72209549587158,
          49.78213317706881,
          49.65025412140204,
          49.703938191996585,
          49.60754330690671,
          49.67276821439324,
          49.70223325079497,
          49.6016115296511,
          49.5968450336042,
          49.44414447850286,
          49.424683530191686
         ],
         "yaxis": "y"
        },
        {
         "hovertemplate": "variable=upper_ci<br>replications=%{x}<br>value=%{y}<extra></extra>",
         "legendgroup": "upper_ci",
         "line": {
          "color": "#00cc96",
          "dash": "solid"
         },
         "marker": {
          "symbol": "circle"
         },
         "mode": "lines",
         "name": "upper_ci",
         "orientation": "v",
         "showlegend": true,
         "type": "scatter",
         "x": [
          1,
          2,
          3,
          4,
          5,
          6,
          7,
          8,
          9,
          10,
          11,
          12,
          13,
          14,
          15,
          16,
          17,
          18,
          19,
          20
         ],
         "xaxis": "x",
         "y": [
          null,
          51.575643556489226,
          50.47530096912143,
          50.23615185421712,
          50.13941496604581,
          50.11389015173036,
          50.19087028642094,
          50.23236148543923,
          50.391662633149345,
          50.344342996431585,
          50.4571270823046,
          50.39445700819954,
          50.390067430966,
          50.32624156356747,
          50.44050263873759,
          50.41599553614011,
          50.35313011128594,
          50.30939675038516,
          50.24989065912187,
          50.19994141873258
         ],
         "yaxis": "y"
        }
       ],
       "layout": {
        "legend": {
         "title": {
          "text": "variable"
         },
         "tracegroupgap": 0
        },
        "margin": {
         "t": 60
        },
        "template": {
         "data": {
          "bar": [
           {
            "error_x": {
             "color": "#2a3f5f"
            },
            "error_y": {
             "color": "#2a3f5f"
            },
            "marker": {
             "line": {
              "color": "#E5ECF6",
              "width": 0.5
             },
             "pattern": {
              "fillmode": "overlay",
              "size": 10,
              "solidity": 0.2
             }
            },
            "type": "bar"
           }
          ],
          "barpolar": [
           {
            "marker": {
             "line": {
              "color": "#E5ECF6",
              "width": 0.5
             },
             "pattern": {
              "fillmode": "overlay",
              "size": 10,
              "solidity": 0.2
             }
            },
            "type": "barpolar"
           }
          ],
          "carpet": [
           {
            "aaxis": {
             "endlinecolor": "#2a3f5f",
             "gridcolor": "white",
             "linecolor": "white",
             "minorgridcolor": "white",
             "startlinecolor": "#2a3f5f"
            },
            "baxis": {
             "endlinecolor": "#2a3f5f",
             "gridcolor": "white",
             "linecolor": "white",
             "minorgridcolor": "white",
             "startlinecolor": "#2a3f5f"
            },
            "type": "carpet"
           }
          ],
          "choropleth": [
           {
            "colorbar": {
             "outlinewidth": 0,
             "ticks": ""
            },
            "type": "choropleth"
           }
          ],
          "contour": [
           {
            "colorbar": {
             "outlinewidth": 0,
             "ticks": ""
            },
            "colorscale": [
             [
              0,
              "#0d0887"
             ],
             [
              0.1111111111111111,
              "#46039f"
             ],
             [
              0.2222222222222222,
              "#7201a8"
             ],
             [
              0.3333333333333333,
              "#9c179e"
             ],
             [
              0.4444444444444444,
              "#bd3786"
             ],
             [
              0.5555555555555556,
              "#d8576b"
             ],
             [
              0.6666666666666666,
              "#ed7953"
             ],
             [
              0.7777777777777778,
              "#fb9f3a"
             ],
             [
              0.8888888888888888,
              "#fdca26"
             ],
             [
              1,
              "#f0f921"
             ]
            ],
            "type": "contour"
           }
          ],
          "contourcarpet": [
           {
            "colorbar": {
             "outlinewidth": 0,
             "ticks": ""
            },
            "type": "contourcarpet"
           }
          ],
          "heatmap": [
           {
            "colorbar": {
             "outlinewidth": 0,
             "ticks": ""
            },
            "colorscale": [
             [
              0,
              "#0d0887"
             ],
             [
              0.1111111111111111,
              "#46039f"
             ],
             [
              0.2222222222222222,
              "#7201a8"
             ],
             [
              0.3333333333333333,
              "#9c179e"
             ],
             [
              0.4444444444444444,
              "#bd3786"
             ],
             [
              0.5555555555555556,
              "#d8576b"
             ],
             [
              0.6666666666666666,
              "#ed7953"
             ],
             [
              0.7777777777777778,
              "#fb9f3a"
             ],
             [
              0.8888888888888888,
              "#fdca26"
             ],
             [
              1,
              "#f0f921"
             ]
            ],
            "type": "heatmap"
           }
          ],
          "heatmapgl": [
           {
            "colorbar": {
             "outlinewidth": 0,
             "ticks": ""
            },
            "colorscale": [
             [
              0,
              "#0d0887"
             ],
             [
              0.1111111111111111,
              "#46039f"
             ],
             [
              0.2222222222222222,
              "#7201a8"
             ],
             [
              0.3333333333333333,
              "#9c179e"
             ],
             [
              0.4444444444444444,
              "#bd3786"
             ],
             [
              0.5555555555555556,
              "#d8576b"
             ],
             [
              0.6666666666666666,
              "#ed7953"
             ],
             [
              0.7777777777777778,
              "#fb9f3a"
             ],
             [
              0.8888888888888888,
              "#fdca26"
             ],
             [
              1,
              "#f0f921"
             ]
            ],
            "type": "heatmapgl"
           }
          ],
          "histogram": [
           {
            "marker": {
             "pattern": {
              "fillmode": "overlay",
              "size": 10,
              "solidity": 0.2
             }
            },
            "type": "histogram"
           }
          ],
          "histogram2d": [
           {
            "colorbar": {
             "outlinewidth": 0,
             "ticks": ""
            },
            "colorscale": [
             [
              0,
              "#0d0887"
             ],
             [
              0.1111111111111111,
              "#46039f"
             ],
             [
              0.2222222222222222,
              "#7201a8"
             ],
             [
              0.3333333333333333,
              "#9c179e"
             ],
             [
              0.4444444444444444,
              "#bd3786"
             ],
             [
              0.5555555555555556,
              "#d8576b"
             ],
             [
              0.6666666666666666,
              "#ed7953"
             ],
             [
              0.7777777777777778,
              "#fb9f3a"
             ],
             [
              0.8888888888888888,
              "#fdca26"
             ],
             [
              1,
              "#f0f921"
             ]
            ],
            "type": "histogram2d"
           }
          ],
          "histogram2dcontour": [
           {
            "colorbar": {
             "outlinewidth": 0,
             "ticks": ""
            },
            "colorscale": [
             [
              0,
              "#0d0887"
             ],
             [
              0.1111111111111111,
              "#46039f"
             ],
             [
              0.2222222222222222,
              "#7201a8"
             ],
             [
              0.3333333333333333,
              "#9c179e"
             ],
             [
              0.4444444444444444,
              "#bd3786"
             ],
             [
              0.5555555555555556,
              "#d8576b"
             ],
             [
              0.6666666666666666,
              "#ed7953"
             ],
             [
              0.7777777777777778,
              "#fb9f3a"
             ],
             [
              0.8888888888888888,
              "#fdca26"
             ],
             [
              1,
              "#f0f921"
             ]
            ],
            "type": "histogram2dcontour"
           }
          ],
          "mesh3d": [
           {
            "colorbar": {
             "outlinewidth": 0,
             "ticks": ""
            },
            "type": "mesh3d"
           }
          ],
          "parcoords": [
           {
            "line": {
             "colorbar": {
              "outlinewidth": 0,
              "ticks": ""
             }
            },
            "type": "parcoords"
           }
          ],
          "pie": [
           {
            "automargin": true,
            "type": "pie"
           }
          ],
          "scatter": [
           {
            "fillpattern": {
             "fillmode": "overlay",
             "size": 10,
             "solidity": 0.2
            },
            "type": "scatter"
           }
          ],
          "scatter3d": [
           {
            "line": {
             "colorbar": {
              "outlinewidth": 0,
              "ticks": ""
             }
            },
            "marker": {
             "colorbar": {
              "outlinewidth": 0,
              "ticks": ""
             }
            },
            "type": "scatter3d"
           }
          ],
          "scattercarpet": [
           {
            "marker": {
             "colorbar": {
              "outlinewidth": 0,
              "ticks": ""
             }
            },
            "type": "scattercarpet"
           }
          ],
          "scattergeo": [
           {
            "marker": {
             "colorbar": {
              "outlinewidth": 0,
              "ticks": ""
             }
            },
            "type": "scattergeo"
           }
          ],
          "scattergl": [
           {
            "marker": {
             "colorbar": {
              "outlinewidth": 0,
              "ticks": ""
             }
            },
            "type": "scattergl"
           }
          ],
          "scattermapbox": [
           {
            "marker": {
             "colorbar": {
              "outlinewidth": 0,
              "ticks": ""
             }
            },
            "type": "scattermapbox"
           }
          ],
          "scatterpolar": [
           {
            "marker": {
             "colorbar": {
              "outlinewidth": 0,
              "ticks": ""
             }
            },
            "type": "scatterpolar"
           }
          ],
          "scatterpolargl": [
           {
            "marker": {
             "colorbar": {
              "outlinewidth": 0,
              "ticks": ""
             }
            },
            "type": "scatterpolargl"
           }
          ],
          "scatterternary": [
           {
            "marker": {
             "colorbar": {
              "outlinewidth": 0,
              "ticks": ""
             }
            },
            "type": "scatterternary"
           }
          ],
          "surface": [
           {
            "colorbar": {
             "outlinewidth": 0,
             "ticks": ""
            },
            "colorscale": [
             [
              0,
              "#0d0887"
             ],
             [
              0.1111111111111111,
              "#46039f"
             ],
             [
              0.2222222222222222,
              "#7201a8"
             ],
             [
              0.3333333333333333,
              "#9c179e"
             ],
             [
              0.4444444444444444,
              "#bd3786"
             ],
             [
              0.5555555555555556,
              "#d8576b"
             ],
             [
              0.6666666666666666,
              "#ed7953"
             ],
             [
              0.7777777777777778,
              "#fb9f3a"
             ],
             [
              0.8888888888888888,
              "#fdca26"
             ],
             [
              1,
              "#f0f921"
             ]
            ],
            "type": "surface"
           }
          ],
          "table": [
           {
            "cells": {
             "fill": {
              "color": "#EBF0F8"
             },
             "line": {
              "color": "white"
             }
            },
            "header": {
             "fill": {
              "color": "#C8D4E3"
             },
             "line": {
              "color": "white"
             }
            },
            "type": "table"
           }
          ]
         },
         "layout": {
          "annotationdefaults": {
           "arrowcolor": "#2a3f5f",
           "arrowhead": 0,
           "arrowwidth": 1
          },
          "autotypenumbers": "strict",
          "coloraxis": {
           "colorbar": {
            "outlinewidth": 0,
            "ticks": ""
           }
          },
          "colorscale": {
           "diverging": [
            [
             0,
             "#8e0152"
            ],
            [
             0.1,
             "#c51b7d"
            ],
            [
             0.2,
             "#de77ae"
            ],
            [
             0.3,
             "#f1b6da"
            ],
            [
             0.4,
             "#fde0ef"
            ],
            [
             0.5,
             "#f7f7f7"
            ],
            [
             0.6,
             "#e6f5d0"
            ],
            [
             0.7,
             "#b8e186"
            ],
            [
             0.8,
             "#7fbc41"
            ],
            [
             0.9,
             "#4d9221"
            ],
            [
             1,
             "#276419"
            ]
           ],
           "sequential": [
            [
             0,
             "#0d0887"
            ],
            [
             0.1111111111111111,
             "#46039f"
            ],
            [
             0.2222222222222222,
             "#7201a8"
            ],
            [
             0.3333333333333333,
             "#9c179e"
            ],
            [
             0.4444444444444444,
             "#bd3786"
            ],
            [
             0.5555555555555556,
             "#d8576b"
            ],
            [
             0.6666666666666666,
             "#ed7953"
            ],
            [
             0.7777777777777778,
             "#fb9f3a"
            ],
            [
             0.8888888888888888,
             "#fdca26"
            ],
            [
             1,
             "#f0f921"
            ]
           ],
           "sequentialminus": [
            [
             0,
             "#0d0887"
            ],
            [
             0.1111111111111111,
             "#46039f"
            ],
            [
             0.2222222222222222,
             "#7201a8"
            ],
            [
             0.3333333333333333,
             "#9c179e"
            ],
            [
             0.4444444444444444,
             "#bd3786"
            ],
            [
             0.5555555555555556,
             "#d8576b"
            ],
            [
             0.6666666666666666,
             "#ed7953"
            ],
            [
             0.7777777777777778,
             "#fb9f3a"
            ],
            [
             0.8888888888888888,
             "#fdca26"
            ],
            [
             1,
             "#f0f921"
            ]
           ]
          },
          "colorway": [
           "#636efa",
           "#EF553B",
           "#00cc96",
           "#ab63fa",
           "#FFA15A",
           "#19d3f3",
           "#FF6692",
           "#B6E880",
           "#FF97FF",
           "#FECB52"
          ],
          "font": {
           "color": "#2a3f5f"
          },
          "geo": {
           "bgcolor": "white",
           "lakecolor": "white",
           "landcolor": "#E5ECF6",
           "showlakes": true,
           "showland": true,
           "subunitcolor": "white"
          },
          "hoverlabel": {
           "align": "left"
          },
          "hovermode": "closest",
          "mapbox": {
           "style": "light"
          },
          "paper_bgcolor": "white",
          "plot_bgcolor": "#E5ECF6",
          "polar": {
           "angularaxis": {
            "gridcolor": "white",
            "linecolor": "white",
            "ticks": ""
           },
           "bgcolor": "#E5ECF6",
           "radialaxis": {
            "gridcolor": "white",
            "linecolor": "white",
            "ticks": ""
           }
          },
          "scene": {
           "xaxis": {
            "backgroundcolor": "#E5ECF6",
            "gridcolor": "white",
            "gridwidth": 2,
            "linecolor": "white",
            "showbackground": true,
            "ticks": "",
            "zerolinecolor": "white"
           },
           "yaxis": {
            "backgroundcolor": "#E5ECF6",
            "gridcolor": "white",
            "gridwidth": 2,
            "linecolor": "white",
            "showbackground": true,
            "ticks": "",
            "zerolinecolor": "white"
           },
           "zaxis": {
            "backgroundcolor": "#E5ECF6",
            "gridcolor": "white",
            "gridwidth": 2,
            "linecolor": "white",
            "showbackground": true,
            "ticks": "",
            "zerolinecolor": "white"
           }
          },
          "shapedefaults": {
           "line": {
            "color": "#2a3f5f"
           }
          },
          "ternary": {
           "aaxis": {
            "gridcolor": "white",
            "linecolor": "white",
            "ticks": ""
           },
           "baxis": {
            "gridcolor": "white",
            "linecolor": "white",
            "ticks": ""
           },
           "bgcolor": "#E5ECF6",
           "caxis": {
            "gridcolor": "white",
            "linecolor": "white",
            "ticks": ""
           }
          },
          "title": {
           "x": 0.05
          },
          "xaxis": {
           "automargin": true,
           "gridcolor": "white",
           "linecolor": "white",
           "ticks": "",
           "title": {
            "standoff": 15
           },
           "zerolinecolor": "white",
           "zerolinewidth": 2
          },
          "yaxis": {
           "automargin": true,
           "gridcolor": "white",
           "linecolor": "white",
           "ticks": "",
           "title": {
            "standoff": 15
           },
           "zerolinecolor": "white",
           "zerolinewidth": 2
          }
         }
        },
        "xaxis": {
         "anchor": "y",
         "domain": [
          0,
          1
         ],
         "title": {
          "text": "Number of replications"
         }
        },
        "yaxis": {
         "anchor": "x",
         "domain": [
          0,
          1
         ],
         "title": {
          "text": "adj_mean_nurse_utilisation"
         }
        }
       }
      }
     },
     "metadata": {},
     "output_type": "display_data"
    }
   ],
   "source": [
    "confidence_interval_method(\n",
    "    replications = 20,\n",
    "    metric = 'mean_nurse_utilisation',\n",
    "    desired_precision = 0.05\n",
    ")"
   ]
  },
  {
   "cell_type": "markdown",
   "metadata": {},
   "source": [
    "## Spread of replication results"
   ]
  },
  {
   "cell_type": "code",
   "execution_count": 9,
   "metadata": {},
   "outputs": [
    {
     "data": {
      "text/plain": [
       "{'_initialising': False,\n",
       " 'patient_inter': 4,\n",
       " 'mean_n_consult_time': 10,\n",
       " 'number_of_nurses': 5,\n",
       " 'warm_up_period': 18720,\n",
       " 'data_collection_period': 43200,\n",
       " 'number_of_runs': 50,\n",
       " 'audit_interval': 120,\n",
       " 'scenario_name': 0}"
      ]
     },
     "metadata": {},
     "output_type": "display_data"
    }
   ],
   "source": [
    "# Set model parameters\n",
    "param = Defaults()\n",
    "param.number_of_runs = 50\n",
    "display(param.__dict__)\n",
    "\n",
    "# Run trial\n",
    "trial = Trial(param)\n",
    "trial.run_trial()"
   ]
  },
  {
   "cell_type": "code",
   "execution_count": 10,
   "metadata": {},
   "outputs": [
    {
     "data": {
      "application/vnd.plotly.v1+json": {
       "config": {
        "plotlyServerURL": "https://plot.ly"
       },
       "data": [
        {
         "alignmentgroup": "True",
         "bingroup": "x",
         "hovertemplate": "variable=arrivals<br>value=%{x}<br>count=%{y}<extra></extra>",
         "legendgroup": "arrivals",
         "marker": {
          "color": "#636efa",
          "pattern": {
           "shape": ""
          }
         },
         "name": "arrivals",
         "offsetgroup": "arrivals",
         "orientation": "v",
         "showlegend": true,
         "type": "histogram",
         "x": [
          10972,
          10784,
          10854,
          10831,
          10720,
          10772,
          10831,
          10781,
          10772,
          10705,
          10927,
          10688,
          11092,
          10640,
          10904,
          10849,
          10719,
          10713,
          10568,
          10707,
          10845,
          10726,
          10618,
          10914,
          10660,
          10685,
          10806,
          10748,
          10589,
          10863,
          10796,
          10763,
          10777,
          10734,
          10822,
          10650,
          10909,
          10849,
          10750,
          11008,
          10784,
          10924,
          10854,
          10755,
          10928,
          10898,
          10762,
          10890,
          10718,
          10952
         ],
         "xaxis": "x",
         "yaxis": "y"
        }
       ],
       "layout": {
        "barmode": "relative",
        "legend": {
         "title": {
          "text": "variable"
         },
         "tracegroupgap": 0
        },
        "margin": {
         "t": 60
        },
        "template": {
         "data": {
          "bar": [
           {
            "error_x": {
             "color": "#2a3f5f"
            },
            "error_y": {
             "color": "#2a3f5f"
            },
            "marker": {
             "line": {
              "color": "#E5ECF6",
              "width": 0.5
             },
             "pattern": {
              "fillmode": "overlay",
              "size": 10,
              "solidity": 0.2
             }
            },
            "type": "bar"
           }
          ],
          "barpolar": [
           {
            "marker": {
             "line": {
              "color": "#E5ECF6",
              "width": 0.5
             },
             "pattern": {
              "fillmode": "overlay",
              "size": 10,
              "solidity": 0.2
             }
            },
            "type": "barpolar"
           }
          ],
          "carpet": [
           {
            "aaxis": {
             "endlinecolor": "#2a3f5f",
             "gridcolor": "white",
             "linecolor": "white",
             "minorgridcolor": "white",
             "startlinecolor": "#2a3f5f"
            },
            "baxis": {
             "endlinecolor": "#2a3f5f",
             "gridcolor": "white",
             "linecolor": "white",
             "minorgridcolor": "white",
             "startlinecolor": "#2a3f5f"
            },
            "type": "carpet"
           }
          ],
          "choropleth": [
           {
            "colorbar": {
             "outlinewidth": 0,
             "ticks": ""
            },
            "type": "choropleth"
           }
          ],
          "contour": [
           {
            "colorbar": {
             "outlinewidth": 0,
             "ticks": ""
            },
            "colorscale": [
             [
              0,
              "#0d0887"
             ],
             [
              0.1111111111111111,
              "#46039f"
             ],
             [
              0.2222222222222222,
              "#7201a8"
             ],
             [
              0.3333333333333333,
              "#9c179e"
             ],
             [
              0.4444444444444444,
              "#bd3786"
             ],
             [
              0.5555555555555556,
              "#d8576b"
             ],
             [
              0.6666666666666666,
              "#ed7953"
             ],
             [
              0.7777777777777778,
              "#fb9f3a"
             ],
             [
              0.8888888888888888,
              "#fdca26"
             ],
             [
              1,
              "#f0f921"
             ]
            ],
            "type": "contour"
           }
          ],
          "contourcarpet": [
           {
            "colorbar": {
             "outlinewidth": 0,
             "ticks": ""
            },
            "type": "contourcarpet"
           }
          ],
          "heatmap": [
           {
            "colorbar": {
             "outlinewidth": 0,
             "ticks": ""
            },
            "colorscale": [
             [
              0,
              "#0d0887"
             ],
             [
              0.1111111111111111,
              "#46039f"
             ],
             [
              0.2222222222222222,
              "#7201a8"
             ],
             [
              0.3333333333333333,
              "#9c179e"
             ],
             [
              0.4444444444444444,
              "#bd3786"
             ],
             [
              0.5555555555555556,
              "#d8576b"
             ],
             [
              0.6666666666666666,
              "#ed7953"
             ],
             [
              0.7777777777777778,
              "#fb9f3a"
             ],
             [
              0.8888888888888888,
              "#fdca26"
             ],
             [
              1,
              "#f0f921"
             ]
            ],
            "type": "heatmap"
           }
          ],
          "heatmapgl": [
           {
            "colorbar": {
             "outlinewidth": 0,
             "ticks": ""
            },
            "colorscale": [
             [
              0,
              "#0d0887"
             ],
             [
              0.1111111111111111,
              "#46039f"
             ],
             [
              0.2222222222222222,
              "#7201a8"
             ],
             [
              0.3333333333333333,
              "#9c179e"
             ],
             [
              0.4444444444444444,
              "#bd3786"
             ],
             [
              0.5555555555555556,
              "#d8576b"
             ],
             [
              0.6666666666666666,
              "#ed7953"
             ],
             [
              0.7777777777777778,
              "#fb9f3a"
             ],
             [
              0.8888888888888888,
              "#fdca26"
             ],
             [
              1,
              "#f0f921"
             ]
            ],
            "type": "heatmapgl"
           }
          ],
          "histogram": [
           {
            "marker": {
             "pattern": {
              "fillmode": "overlay",
              "size": 10,
              "solidity": 0.2
             }
            },
            "type": "histogram"
           }
          ],
          "histogram2d": [
           {
            "colorbar": {
             "outlinewidth": 0,
             "ticks": ""
            },
            "colorscale": [
             [
              0,
              "#0d0887"
             ],
             [
              0.1111111111111111,
              "#46039f"
             ],
             [
              0.2222222222222222,
              "#7201a8"
             ],
             [
              0.3333333333333333,
              "#9c179e"
             ],
             [
              0.4444444444444444,
              "#bd3786"
             ],
             [
              0.5555555555555556,
              "#d8576b"
             ],
             [
              0.6666666666666666,
              "#ed7953"
             ],
             [
              0.7777777777777778,
              "#fb9f3a"
             ],
             [
              0.8888888888888888,
              "#fdca26"
             ],
             [
              1,
              "#f0f921"
             ]
            ],
            "type": "histogram2d"
           }
          ],
          "histogram2dcontour": [
           {
            "colorbar": {
             "outlinewidth": 0,
             "ticks": ""
            },
            "colorscale": [
             [
              0,
              "#0d0887"
             ],
             [
              0.1111111111111111,
              "#46039f"
             ],
             [
              0.2222222222222222,
              "#7201a8"
             ],
             [
              0.3333333333333333,
              "#9c179e"
             ],
             [
              0.4444444444444444,
              "#bd3786"
             ],
             [
              0.5555555555555556,
              "#d8576b"
             ],
             [
              0.6666666666666666,
              "#ed7953"
             ],
             [
              0.7777777777777778,
              "#fb9f3a"
             ],
             [
              0.8888888888888888,
              "#fdca26"
             ],
             [
              1,
              "#f0f921"
             ]
            ],
            "type": "histogram2dcontour"
           }
          ],
          "mesh3d": [
           {
            "colorbar": {
             "outlinewidth": 0,
             "ticks": ""
            },
            "type": "mesh3d"
           }
          ],
          "parcoords": [
           {
            "line": {
             "colorbar": {
              "outlinewidth": 0,
              "ticks": ""
             }
            },
            "type": "parcoords"
           }
          ],
          "pie": [
           {
            "automargin": true,
            "type": "pie"
           }
          ],
          "scatter": [
           {
            "fillpattern": {
             "fillmode": "overlay",
             "size": 10,
             "solidity": 0.2
            },
            "type": "scatter"
           }
          ],
          "scatter3d": [
           {
            "line": {
             "colorbar": {
              "outlinewidth": 0,
              "ticks": ""
             }
            },
            "marker": {
             "colorbar": {
              "outlinewidth": 0,
              "ticks": ""
             }
            },
            "type": "scatter3d"
           }
          ],
          "scattercarpet": [
           {
            "marker": {
             "colorbar": {
              "outlinewidth": 0,
              "ticks": ""
             }
            },
            "type": "scattercarpet"
           }
          ],
          "scattergeo": [
           {
            "marker": {
             "colorbar": {
              "outlinewidth": 0,
              "ticks": ""
             }
            },
            "type": "scattergeo"
           }
          ],
          "scattergl": [
           {
            "marker": {
             "colorbar": {
              "outlinewidth": 0,
              "ticks": ""
             }
            },
            "type": "scattergl"
           }
          ],
          "scattermapbox": [
           {
            "marker": {
             "colorbar": {
              "outlinewidth": 0,
              "ticks": ""
             }
            },
            "type": "scattermapbox"
           }
          ],
          "scatterpolar": [
           {
            "marker": {
             "colorbar": {
              "outlinewidth": 0,
              "ticks": ""
             }
            },
            "type": "scatterpolar"
           }
          ],
          "scatterpolargl": [
           {
            "marker": {
             "colorbar": {
              "outlinewidth": 0,
              "ticks": ""
             }
            },
            "type": "scatterpolargl"
           }
          ],
          "scatterternary": [
           {
            "marker": {
             "colorbar": {
              "outlinewidth": 0,
              "ticks": ""
             }
            },
            "type": "scatterternary"
           }
          ],
          "surface": [
           {
            "colorbar": {
             "outlinewidth": 0,
             "ticks": ""
            },
            "colorscale": [
             [
              0,
              "#0d0887"
             ],
             [
              0.1111111111111111,
              "#46039f"
             ],
             [
              0.2222222222222222,
              "#7201a8"
             ],
             [
              0.3333333333333333,
              "#9c179e"
             ],
             [
              0.4444444444444444,
              "#bd3786"
             ],
             [
              0.5555555555555556,
              "#d8576b"
             ],
             [
              0.6666666666666666,
              "#ed7953"
             ],
             [
              0.7777777777777778,
              "#fb9f3a"
             ],
             [
              0.8888888888888888,
              "#fdca26"
             ],
             [
              1,
              "#f0f921"
             ]
            ],
            "type": "surface"
           }
          ],
          "table": [
           {
            "cells": {
             "fill": {
              "color": "#EBF0F8"
             },
             "line": {
              "color": "white"
             }
            },
            "header": {
             "fill": {
              "color": "#C8D4E3"
             },
             "line": {
              "color": "white"
             }
            },
            "type": "table"
           }
          ]
         },
         "layout": {
          "annotationdefaults": {
           "arrowcolor": "#2a3f5f",
           "arrowhead": 0,
           "arrowwidth": 1
          },
          "autotypenumbers": "strict",
          "coloraxis": {
           "colorbar": {
            "outlinewidth": 0,
            "ticks": ""
           }
          },
          "colorscale": {
           "diverging": [
            [
             0,
             "#8e0152"
            ],
            [
             0.1,
             "#c51b7d"
            ],
            [
             0.2,
             "#de77ae"
            ],
            [
             0.3,
             "#f1b6da"
            ],
            [
             0.4,
             "#fde0ef"
            ],
            [
             0.5,
             "#f7f7f7"
            ],
            [
             0.6,
             "#e6f5d0"
            ],
            [
             0.7,
             "#b8e186"
            ],
            [
             0.8,
             "#7fbc41"
            ],
            [
             0.9,
             "#4d9221"
            ],
            [
             1,
             "#276419"
            ]
           ],
           "sequential": [
            [
             0,
             "#0d0887"
            ],
            [
             0.1111111111111111,
             "#46039f"
            ],
            [
             0.2222222222222222,
             "#7201a8"
            ],
            [
             0.3333333333333333,
             "#9c179e"
            ],
            [
             0.4444444444444444,
             "#bd3786"
            ],
            [
             0.5555555555555556,
             "#d8576b"
            ],
            [
             0.6666666666666666,
             "#ed7953"
            ],
            [
             0.7777777777777778,
             "#fb9f3a"
            ],
            [
             0.8888888888888888,
             "#fdca26"
            ],
            [
             1,
             "#f0f921"
            ]
           ],
           "sequentialminus": [
            [
             0,
             "#0d0887"
            ],
            [
             0.1111111111111111,
             "#46039f"
            ],
            [
             0.2222222222222222,
             "#7201a8"
            ],
            [
             0.3333333333333333,
             "#9c179e"
            ],
            [
             0.4444444444444444,
             "#bd3786"
            ],
            [
             0.5555555555555556,
             "#d8576b"
            ],
            [
             0.6666666666666666,
             "#ed7953"
            ],
            [
             0.7777777777777778,
             "#fb9f3a"
            ],
            [
             0.8888888888888888,
             "#fdca26"
            ],
            [
             1,
             "#f0f921"
            ]
           ]
          },
          "colorway": [
           "#636efa",
           "#EF553B",
           "#00cc96",
           "#ab63fa",
           "#FFA15A",
           "#19d3f3",
           "#FF6692",
           "#B6E880",
           "#FF97FF",
           "#FECB52"
          ],
          "font": {
           "color": "#2a3f5f"
          },
          "geo": {
           "bgcolor": "white",
           "lakecolor": "white",
           "landcolor": "#E5ECF6",
           "showlakes": true,
           "showland": true,
           "subunitcolor": "white"
          },
          "hoverlabel": {
           "align": "left"
          },
          "hovermode": "closest",
          "mapbox": {
           "style": "light"
          },
          "paper_bgcolor": "white",
          "plot_bgcolor": "#E5ECF6",
          "polar": {
           "angularaxis": {
            "gridcolor": "white",
            "linecolor": "white",
            "ticks": ""
           },
           "bgcolor": "#E5ECF6",
           "radialaxis": {
            "gridcolor": "white",
            "linecolor": "white",
            "ticks": ""
           }
          },
          "scene": {
           "xaxis": {
            "backgroundcolor": "#E5ECF6",
            "gridcolor": "white",
            "gridwidth": 2,
            "linecolor": "white",
            "showbackground": true,
            "ticks": "",
            "zerolinecolor": "white"
           },
           "yaxis": {
            "backgroundcolor": "#E5ECF6",
            "gridcolor": "white",
            "gridwidth": 2,
            "linecolor": "white",
            "showbackground": true,
            "ticks": "",
            "zerolinecolor": "white"
           },
           "zaxis": {
            "backgroundcolor": "#E5ECF6",
            "gridcolor": "white",
            "gridwidth": 2,
            "linecolor": "white",
            "showbackground": true,
            "ticks": "",
            "zerolinecolor": "white"
           }
          },
          "shapedefaults": {
           "line": {
            "color": "#2a3f5f"
           }
          },
          "ternary": {
           "aaxis": {
            "gridcolor": "white",
            "linecolor": "white",
            "ticks": ""
           },
           "baxis": {
            "gridcolor": "white",
            "linecolor": "white",
            "ticks": ""
           },
           "bgcolor": "#E5ECF6",
           "caxis": {
            "gridcolor": "white",
            "linecolor": "white",
            "ticks": ""
           }
          },
          "title": {
           "x": 0.05
          },
          "xaxis": {
           "automargin": true,
           "gridcolor": "white",
           "linecolor": "white",
           "ticks": "",
           "title": {
            "standoff": 15
           },
           "zerolinecolor": "white",
           "zerolinewidth": 2
          },
          "yaxis": {
           "automargin": true,
           "gridcolor": "white",
           "linecolor": "white",
           "ticks": "",
           "title": {
            "standoff": 15
           },
           "zerolinecolor": "white",
           "zerolinewidth": 2
          }
         }
        },
        "xaxis": {
         "anchor": "y",
         "domain": [
          0,
          1
         ],
         "title": {
          "text": "Arrivals"
         }
        },
        "yaxis": {
         "anchor": "x",
         "domain": [
          0,
          1
         ],
         "title": {
          "text": "Frequency"
         }
        }
       }
      }
     },
     "metadata": {},
     "output_type": "display_data"
    },
    {
     "data": {
      "application/vnd.plotly.v1+json": {
       "config": {
        "plotlyServerURL": "https://plot.ly"
       },
       "data": [
        {
         "alignmentgroup": "True",
         "bingroup": "x",
         "hovertemplate": "variable=mean_q_time_nurse<br>value=%{x}<br>count=%{y}<extra></extra>",
         "legendgroup": "mean_q_time_nurse",
         "marker": {
          "color": "#636efa",
          "pattern": {
           "shape": ""
          }
         },
         "name": "mean_q_time_nurse",
         "offsetgroup": "mean_q_time_nurse",
         "orientation": "v",
         "showlegend": true,
         "type": "histogram",
         "x": [
          0.504541081338615,
          0.514150649003393,
          0.5232349226016817,
          0.4791488631810612,
          0.46145745726579823,
          0.3882646868128185,
          0.4669381081669874,
          0.625888360901447,
          0.4684971326393017,
          0.5634349862001105,
          0.562585969190057,
          0.39781182403365434,
          0.44530362984867583,
          0.4397605749351992,
          0.6107822771635987,
          0.47670998312351787,
          0.428336230071242,
          0.505574486075843,
          0.3615821082986753,
          0.4191589720392036,
          0.6120142008002236,
          0.5173212645251098,
          0.5316566599495316,
          0.5270546197660896,
          0.5029697553047842,
          0.6270646900660448,
          0.5061794260886525,
          0.4925537687951073,
          0.4577189216542841,
          0.5422405738480466,
          0.5102078888697092,
          0.48198748047797074,
          0.5332478036639304,
          0.5412223863214205,
          0.47440089114789497,
          0.45901061008015087,
          0.6542824188053815,
          0.6205188357058152,
          0.5485304681321719,
          0.6595777838675844,
          0.5709321300961834,
          0.47254766530869424,
          0.5764718799585138,
          0.5676374182089498,
          0.6624590690057583,
          0.6825606874724027,
          0.46421275640582804,
          0.5639682544012119,
          0.4820950743209,
          0.492051951455445
         ],
         "xaxis": "x",
         "yaxis": "y"
        }
       ],
       "layout": {
        "barmode": "relative",
        "legend": {
         "title": {
          "text": "variable"
         },
         "tracegroupgap": 0
        },
        "margin": {
         "t": 60
        },
        "template": {
         "data": {
          "bar": [
           {
            "error_x": {
             "color": "#2a3f5f"
            },
            "error_y": {
             "color": "#2a3f5f"
            },
            "marker": {
             "line": {
              "color": "#E5ECF6",
              "width": 0.5
             },
             "pattern": {
              "fillmode": "overlay",
              "size": 10,
              "solidity": 0.2
             }
            },
            "type": "bar"
           }
          ],
          "barpolar": [
           {
            "marker": {
             "line": {
              "color": "#E5ECF6",
              "width": 0.5
             },
             "pattern": {
              "fillmode": "overlay",
              "size": 10,
              "solidity": 0.2
             }
            },
            "type": "barpolar"
           }
          ],
          "carpet": [
           {
            "aaxis": {
             "endlinecolor": "#2a3f5f",
             "gridcolor": "white",
             "linecolor": "white",
             "minorgridcolor": "white",
             "startlinecolor": "#2a3f5f"
            },
            "baxis": {
             "endlinecolor": "#2a3f5f",
             "gridcolor": "white",
             "linecolor": "white",
             "minorgridcolor": "white",
             "startlinecolor": "#2a3f5f"
            },
            "type": "carpet"
           }
          ],
          "choropleth": [
           {
            "colorbar": {
             "outlinewidth": 0,
             "ticks": ""
            },
            "type": "choropleth"
           }
          ],
          "contour": [
           {
            "colorbar": {
             "outlinewidth": 0,
             "ticks": ""
            },
            "colorscale": [
             [
              0,
              "#0d0887"
             ],
             [
              0.1111111111111111,
              "#46039f"
             ],
             [
              0.2222222222222222,
              "#7201a8"
             ],
             [
              0.3333333333333333,
              "#9c179e"
             ],
             [
              0.4444444444444444,
              "#bd3786"
             ],
             [
              0.5555555555555556,
              "#d8576b"
             ],
             [
              0.6666666666666666,
              "#ed7953"
             ],
             [
              0.7777777777777778,
              "#fb9f3a"
             ],
             [
              0.8888888888888888,
              "#fdca26"
             ],
             [
              1,
              "#f0f921"
             ]
            ],
            "type": "contour"
           }
          ],
          "contourcarpet": [
           {
            "colorbar": {
             "outlinewidth": 0,
             "ticks": ""
            },
            "type": "contourcarpet"
           }
          ],
          "heatmap": [
           {
            "colorbar": {
             "outlinewidth": 0,
             "ticks": ""
            },
            "colorscale": [
             [
              0,
              "#0d0887"
             ],
             [
              0.1111111111111111,
              "#46039f"
             ],
             [
              0.2222222222222222,
              "#7201a8"
             ],
             [
              0.3333333333333333,
              "#9c179e"
             ],
             [
              0.4444444444444444,
              "#bd3786"
             ],
             [
              0.5555555555555556,
              "#d8576b"
             ],
             [
              0.6666666666666666,
              "#ed7953"
             ],
             [
              0.7777777777777778,
              "#fb9f3a"
             ],
             [
              0.8888888888888888,
              "#fdca26"
             ],
             [
              1,
              "#f0f921"
             ]
            ],
            "type": "heatmap"
           }
          ],
          "heatmapgl": [
           {
            "colorbar": {
             "outlinewidth": 0,
             "ticks": ""
            },
            "colorscale": [
             [
              0,
              "#0d0887"
             ],
             [
              0.1111111111111111,
              "#46039f"
             ],
             [
              0.2222222222222222,
              "#7201a8"
             ],
             [
              0.3333333333333333,
              "#9c179e"
             ],
             [
              0.4444444444444444,
              "#bd3786"
             ],
             [
              0.5555555555555556,
              "#d8576b"
             ],
             [
              0.6666666666666666,
              "#ed7953"
             ],
             [
              0.7777777777777778,
              "#fb9f3a"
             ],
             [
              0.8888888888888888,
              "#fdca26"
             ],
             [
              1,
              "#f0f921"
             ]
            ],
            "type": "heatmapgl"
           }
          ],
          "histogram": [
           {
            "marker": {
             "pattern": {
              "fillmode": "overlay",
              "size": 10,
              "solidity": 0.2
             }
            },
            "type": "histogram"
           }
          ],
          "histogram2d": [
           {
            "colorbar": {
             "outlinewidth": 0,
             "ticks": ""
            },
            "colorscale": [
             [
              0,
              "#0d0887"
             ],
             [
              0.1111111111111111,
              "#46039f"
             ],
             [
              0.2222222222222222,
              "#7201a8"
             ],
             [
              0.3333333333333333,
              "#9c179e"
             ],
             [
              0.4444444444444444,
              "#bd3786"
             ],
             [
              0.5555555555555556,
              "#d8576b"
             ],
             [
              0.6666666666666666,
              "#ed7953"
             ],
             [
              0.7777777777777778,
              "#fb9f3a"
             ],
             [
              0.8888888888888888,
              "#fdca26"
             ],
             [
              1,
              "#f0f921"
             ]
            ],
            "type": "histogram2d"
           }
          ],
          "histogram2dcontour": [
           {
            "colorbar": {
             "outlinewidth": 0,
             "ticks": ""
            },
            "colorscale": [
             [
              0,
              "#0d0887"
             ],
             [
              0.1111111111111111,
              "#46039f"
             ],
             [
              0.2222222222222222,
              "#7201a8"
             ],
             [
              0.3333333333333333,
              "#9c179e"
             ],
             [
              0.4444444444444444,
              "#bd3786"
             ],
             [
              0.5555555555555556,
              "#d8576b"
             ],
             [
              0.6666666666666666,
              "#ed7953"
             ],
             [
              0.7777777777777778,
              "#fb9f3a"
             ],
             [
              0.8888888888888888,
              "#fdca26"
             ],
             [
              1,
              "#f0f921"
             ]
            ],
            "type": "histogram2dcontour"
           }
          ],
          "mesh3d": [
           {
            "colorbar": {
             "outlinewidth": 0,
             "ticks": ""
            },
            "type": "mesh3d"
           }
          ],
          "parcoords": [
           {
            "line": {
             "colorbar": {
              "outlinewidth": 0,
              "ticks": ""
             }
            },
            "type": "parcoords"
           }
          ],
          "pie": [
           {
            "automargin": true,
            "type": "pie"
           }
          ],
          "scatter": [
           {
            "fillpattern": {
             "fillmode": "overlay",
             "size": 10,
             "solidity": 0.2
            },
            "type": "scatter"
           }
          ],
          "scatter3d": [
           {
            "line": {
             "colorbar": {
              "outlinewidth": 0,
              "ticks": ""
             }
            },
            "marker": {
             "colorbar": {
              "outlinewidth": 0,
              "ticks": ""
             }
            },
            "type": "scatter3d"
           }
          ],
          "scattercarpet": [
           {
            "marker": {
             "colorbar": {
              "outlinewidth": 0,
              "ticks": ""
             }
            },
            "type": "scattercarpet"
           }
          ],
          "scattergeo": [
           {
            "marker": {
             "colorbar": {
              "outlinewidth": 0,
              "ticks": ""
             }
            },
            "type": "scattergeo"
           }
          ],
          "scattergl": [
           {
            "marker": {
             "colorbar": {
              "outlinewidth": 0,
              "ticks": ""
             }
            },
            "type": "scattergl"
           }
          ],
          "scattermapbox": [
           {
            "marker": {
             "colorbar": {
              "outlinewidth": 0,
              "ticks": ""
             }
            },
            "type": "scattermapbox"
           }
          ],
          "scatterpolar": [
           {
            "marker": {
             "colorbar": {
              "outlinewidth": 0,
              "ticks": ""
             }
            },
            "type": "scatterpolar"
           }
          ],
          "scatterpolargl": [
           {
            "marker": {
             "colorbar": {
              "outlinewidth": 0,
              "ticks": ""
             }
            },
            "type": "scatterpolargl"
           }
          ],
          "scatterternary": [
           {
            "marker": {
             "colorbar": {
              "outlinewidth": 0,
              "ticks": ""
             }
            },
            "type": "scatterternary"
           }
          ],
          "surface": [
           {
            "colorbar": {
             "outlinewidth": 0,
             "ticks": ""
            },
            "colorscale": [
             [
              0,
              "#0d0887"
             ],
             [
              0.1111111111111111,
              "#46039f"
             ],
             [
              0.2222222222222222,
              "#7201a8"
             ],
             [
              0.3333333333333333,
              "#9c179e"
             ],
             [
              0.4444444444444444,
              "#bd3786"
             ],
             [
              0.5555555555555556,
              "#d8576b"
             ],
             [
              0.6666666666666666,
              "#ed7953"
             ],
             [
              0.7777777777777778,
              "#fb9f3a"
             ],
             [
              0.8888888888888888,
              "#fdca26"
             ],
             [
              1,
              "#f0f921"
             ]
            ],
            "type": "surface"
           }
          ],
          "table": [
           {
            "cells": {
             "fill": {
              "color": "#EBF0F8"
             },
             "line": {
              "color": "white"
             }
            },
            "header": {
             "fill": {
              "color": "#C8D4E3"
             },
             "line": {
              "color": "white"
             }
            },
            "type": "table"
           }
          ]
         },
         "layout": {
          "annotationdefaults": {
           "arrowcolor": "#2a3f5f",
           "arrowhead": 0,
           "arrowwidth": 1
          },
          "autotypenumbers": "strict",
          "coloraxis": {
           "colorbar": {
            "outlinewidth": 0,
            "ticks": ""
           }
          },
          "colorscale": {
           "diverging": [
            [
             0,
             "#8e0152"
            ],
            [
             0.1,
             "#c51b7d"
            ],
            [
             0.2,
             "#de77ae"
            ],
            [
             0.3,
             "#f1b6da"
            ],
            [
             0.4,
             "#fde0ef"
            ],
            [
             0.5,
             "#f7f7f7"
            ],
            [
             0.6,
             "#e6f5d0"
            ],
            [
             0.7,
             "#b8e186"
            ],
            [
             0.8,
             "#7fbc41"
            ],
            [
             0.9,
             "#4d9221"
            ],
            [
             1,
             "#276419"
            ]
           ],
           "sequential": [
            [
             0,
             "#0d0887"
            ],
            [
             0.1111111111111111,
             "#46039f"
            ],
            [
             0.2222222222222222,
             "#7201a8"
            ],
            [
             0.3333333333333333,
             "#9c179e"
            ],
            [
             0.4444444444444444,
             "#bd3786"
            ],
            [
             0.5555555555555556,
             "#d8576b"
            ],
            [
             0.6666666666666666,
             "#ed7953"
            ],
            [
             0.7777777777777778,
             "#fb9f3a"
            ],
            [
             0.8888888888888888,
             "#fdca26"
            ],
            [
             1,
             "#f0f921"
            ]
           ],
           "sequentialminus": [
            [
             0,
             "#0d0887"
            ],
            [
             0.1111111111111111,
             "#46039f"
            ],
            [
             0.2222222222222222,
             "#7201a8"
            ],
            [
             0.3333333333333333,
             "#9c179e"
            ],
            [
             0.4444444444444444,
             "#bd3786"
            ],
            [
             0.5555555555555556,
             "#d8576b"
            ],
            [
             0.6666666666666666,
             "#ed7953"
            ],
            [
             0.7777777777777778,
             "#fb9f3a"
            ],
            [
             0.8888888888888888,
             "#fdca26"
            ],
            [
             1,
             "#f0f921"
            ]
           ]
          },
          "colorway": [
           "#636efa",
           "#EF553B",
           "#00cc96",
           "#ab63fa",
           "#FFA15A",
           "#19d3f3",
           "#FF6692",
           "#B6E880",
           "#FF97FF",
           "#FECB52"
          ],
          "font": {
           "color": "#2a3f5f"
          },
          "geo": {
           "bgcolor": "white",
           "lakecolor": "white",
           "landcolor": "#E5ECF6",
           "showlakes": true,
           "showland": true,
           "subunitcolor": "white"
          },
          "hoverlabel": {
           "align": "left"
          },
          "hovermode": "closest",
          "mapbox": {
           "style": "light"
          },
          "paper_bgcolor": "white",
          "plot_bgcolor": "#E5ECF6",
          "polar": {
           "angularaxis": {
            "gridcolor": "white",
            "linecolor": "white",
            "ticks": ""
           },
           "bgcolor": "#E5ECF6",
           "radialaxis": {
            "gridcolor": "white",
            "linecolor": "white",
            "ticks": ""
           }
          },
          "scene": {
           "xaxis": {
            "backgroundcolor": "#E5ECF6",
            "gridcolor": "white",
            "gridwidth": 2,
            "linecolor": "white",
            "showbackground": true,
            "ticks": "",
            "zerolinecolor": "white"
           },
           "yaxis": {
            "backgroundcolor": "#E5ECF6",
            "gridcolor": "white",
            "gridwidth": 2,
            "linecolor": "white",
            "showbackground": true,
            "ticks": "",
            "zerolinecolor": "white"
           },
           "zaxis": {
            "backgroundcolor": "#E5ECF6",
            "gridcolor": "white",
            "gridwidth": 2,
            "linecolor": "white",
            "showbackground": true,
            "ticks": "",
            "zerolinecolor": "white"
           }
          },
          "shapedefaults": {
           "line": {
            "color": "#2a3f5f"
           }
          },
          "ternary": {
           "aaxis": {
            "gridcolor": "white",
            "linecolor": "white",
            "ticks": ""
           },
           "baxis": {
            "gridcolor": "white",
            "linecolor": "white",
            "ticks": ""
           },
           "bgcolor": "#E5ECF6",
           "caxis": {
            "gridcolor": "white",
            "linecolor": "white",
            "ticks": ""
           }
          },
          "title": {
           "x": 0.05
          },
          "xaxis": {
           "automargin": true,
           "gridcolor": "white",
           "linecolor": "white",
           "ticks": "",
           "title": {
            "standoff": 15
           },
           "zerolinecolor": "white",
           "zerolinewidth": 2
          },
          "yaxis": {
           "automargin": true,
           "gridcolor": "white",
           "linecolor": "white",
           "ticks": "",
           "title": {
            "standoff": 15
           },
           "zerolinecolor": "white",
           "zerolinewidth": 2
          }
         }
        },
        "xaxis": {
         "anchor": "y",
         "domain": [
          0,
          1
         ],
         "title": {
          "text": "Mean wait time for nurse"
         }
        },
        "yaxis": {
         "anchor": "x",
         "domain": [
          0,
          1
         ],
         "title": {
          "text": "Frequency"
         }
        }
       }
      }
     },
     "metadata": {},
     "output_type": "display_data"
    },
    {
     "data": {
      "application/vnd.plotly.v1+json": {
       "config": {
        "plotlyServerURL": "https://plot.ly"
       },
       "data": [
        {
         "alignmentgroup": "True",
         "bingroup": "x",
         "hovertemplate": "variable=mean_time_with_nurse<br>value=%{x}<br>count=%{y}<extra></extra>",
         "legendgroup": "mean_time_with_nurse",
         "marker": {
          "color": "#636efa",
          "pattern": {
           "shape": ""
          }
         },
         "name": "mean_time_with_nurse",
         "offsetgroup": "mean_time_with_nurse",
         "orientation": "v",
         "showlegend": true,
         "type": "histogram",
         "x": [
          9.84226781662332,
          10.060480983450425,
          9.925024519746302,
          9.9370571543943,
          10.015904147971671,
          9.884995942861282,
          10.041799654744745,
          10.086979128063648,
          10.202270228377186,
          10.09260227901333,
          10.083553615426284,
          9.893334037740962,
          9.810905063859671,
          9.933879963761742,
          10.167683587926042,
          9.975581276412813,
          9.809804967118032,
          9.989154604862323,
          9.800182515281657,
          9.9193906381964,
          9.813774247048583,
          9.858186468091487,
          9.969891296475984,
          9.925291785145637,
          9.96454608027881,
          10.236338445072258,
          10.039653295082593,
          10.050997027592315,
          10.044180668559221,
          10.034383892923174,
          9.922063713004379,
          10.109442847790618,
          10.092133351296761,
          10.060112880030367,
          9.90627897733214,
          10.000683282637416,
          10.061103889649,
          9.993322184048123,
          10.043023835267684,
          10.04956228038381,
          10.064249350435722,
          9.97141177443358,
          10.122556540909983,
          10.075056933315272,
          10.089051565136407,
          10.118216266224682,
          10.058638295357085,
          10.123693779807768,
          10.088298057447204,
          10.060680631175464
         ],
         "xaxis": "x",
         "yaxis": "y"
        }
       ],
       "layout": {
        "barmode": "relative",
        "legend": {
         "title": {
          "text": "variable"
         },
         "tracegroupgap": 0
        },
        "margin": {
         "t": 60
        },
        "template": {
         "data": {
          "bar": [
           {
            "error_x": {
             "color": "#2a3f5f"
            },
            "error_y": {
             "color": "#2a3f5f"
            },
            "marker": {
             "line": {
              "color": "#E5ECF6",
              "width": 0.5
             },
             "pattern": {
              "fillmode": "overlay",
              "size": 10,
              "solidity": 0.2
             }
            },
            "type": "bar"
           }
          ],
          "barpolar": [
           {
            "marker": {
             "line": {
              "color": "#E5ECF6",
              "width": 0.5
             },
             "pattern": {
              "fillmode": "overlay",
              "size": 10,
              "solidity": 0.2
             }
            },
            "type": "barpolar"
           }
          ],
          "carpet": [
           {
            "aaxis": {
             "endlinecolor": "#2a3f5f",
             "gridcolor": "white",
             "linecolor": "white",
             "minorgridcolor": "white",
             "startlinecolor": "#2a3f5f"
            },
            "baxis": {
             "endlinecolor": "#2a3f5f",
             "gridcolor": "white",
             "linecolor": "white",
             "minorgridcolor": "white",
             "startlinecolor": "#2a3f5f"
            },
            "type": "carpet"
           }
          ],
          "choropleth": [
           {
            "colorbar": {
             "outlinewidth": 0,
             "ticks": ""
            },
            "type": "choropleth"
           }
          ],
          "contour": [
           {
            "colorbar": {
             "outlinewidth": 0,
             "ticks": ""
            },
            "colorscale": [
             [
              0,
              "#0d0887"
             ],
             [
              0.1111111111111111,
              "#46039f"
             ],
             [
              0.2222222222222222,
              "#7201a8"
             ],
             [
              0.3333333333333333,
              "#9c179e"
             ],
             [
              0.4444444444444444,
              "#bd3786"
             ],
             [
              0.5555555555555556,
              "#d8576b"
             ],
             [
              0.6666666666666666,
              "#ed7953"
             ],
             [
              0.7777777777777778,
              "#fb9f3a"
             ],
             [
              0.8888888888888888,
              "#fdca26"
             ],
             [
              1,
              "#f0f921"
             ]
            ],
            "type": "contour"
           }
          ],
          "contourcarpet": [
           {
            "colorbar": {
             "outlinewidth": 0,
             "ticks": ""
            },
            "type": "contourcarpet"
           }
          ],
          "heatmap": [
           {
            "colorbar": {
             "outlinewidth": 0,
             "ticks": ""
            },
            "colorscale": [
             [
              0,
              "#0d0887"
             ],
             [
              0.1111111111111111,
              "#46039f"
             ],
             [
              0.2222222222222222,
              "#7201a8"
             ],
             [
              0.3333333333333333,
              "#9c179e"
             ],
             [
              0.4444444444444444,
              "#bd3786"
             ],
             [
              0.5555555555555556,
              "#d8576b"
             ],
             [
              0.6666666666666666,
              "#ed7953"
             ],
             [
              0.7777777777777778,
              "#fb9f3a"
             ],
             [
              0.8888888888888888,
              "#fdca26"
             ],
             [
              1,
              "#f0f921"
             ]
            ],
            "type": "heatmap"
           }
          ],
          "heatmapgl": [
           {
            "colorbar": {
             "outlinewidth": 0,
             "ticks": ""
            },
            "colorscale": [
             [
              0,
              "#0d0887"
             ],
             [
              0.1111111111111111,
              "#46039f"
             ],
             [
              0.2222222222222222,
              "#7201a8"
             ],
             [
              0.3333333333333333,
              "#9c179e"
             ],
             [
              0.4444444444444444,
              "#bd3786"
             ],
             [
              0.5555555555555556,
              "#d8576b"
             ],
             [
              0.6666666666666666,
              "#ed7953"
             ],
             [
              0.7777777777777778,
              "#fb9f3a"
             ],
             [
              0.8888888888888888,
              "#fdca26"
             ],
             [
              1,
              "#f0f921"
             ]
            ],
            "type": "heatmapgl"
           }
          ],
          "histogram": [
           {
            "marker": {
             "pattern": {
              "fillmode": "overlay",
              "size": 10,
              "solidity": 0.2
             }
            },
            "type": "histogram"
           }
          ],
          "histogram2d": [
           {
            "colorbar": {
             "outlinewidth": 0,
             "ticks": ""
            },
            "colorscale": [
             [
              0,
              "#0d0887"
             ],
             [
              0.1111111111111111,
              "#46039f"
             ],
             [
              0.2222222222222222,
              "#7201a8"
             ],
             [
              0.3333333333333333,
              "#9c179e"
             ],
             [
              0.4444444444444444,
              "#bd3786"
             ],
             [
              0.5555555555555556,
              "#d8576b"
             ],
             [
              0.6666666666666666,
              "#ed7953"
             ],
             [
              0.7777777777777778,
              "#fb9f3a"
             ],
             [
              0.8888888888888888,
              "#fdca26"
             ],
             [
              1,
              "#f0f921"
             ]
            ],
            "type": "histogram2d"
           }
          ],
          "histogram2dcontour": [
           {
            "colorbar": {
             "outlinewidth": 0,
             "ticks": ""
            },
            "colorscale": [
             [
              0,
              "#0d0887"
             ],
             [
              0.1111111111111111,
              "#46039f"
             ],
             [
              0.2222222222222222,
              "#7201a8"
             ],
             [
              0.3333333333333333,
              "#9c179e"
             ],
             [
              0.4444444444444444,
              "#bd3786"
             ],
             [
              0.5555555555555556,
              "#d8576b"
             ],
             [
              0.6666666666666666,
              "#ed7953"
             ],
             [
              0.7777777777777778,
              "#fb9f3a"
             ],
             [
              0.8888888888888888,
              "#fdca26"
             ],
             [
              1,
              "#f0f921"
             ]
            ],
            "type": "histogram2dcontour"
           }
          ],
          "mesh3d": [
           {
            "colorbar": {
             "outlinewidth": 0,
             "ticks": ""
            },
            "type": "mesh3d"
           }
          ],
          "parcoords": [
           {
            "line": {
             "colorbar": {
              "outlinewidth": 0,
              "ticks": ""
             }
            },
            "type": "parcoords"
           }
          ],
          "pie": [
           {
            "automargin": true,
            "type": "pie"
           }
          ],
          "scatter": [
           {
            "fillpattern": {
             "fillmode": "overlay",
             "size": 10,
             "solidity": 0.2
            },
            "type": "scatter"
           }
          ],
          "scatter3d": [
           {
            "line": {
             "colorbar": {
              "outlinewidth": 0,
              "ticks": ""
             }
            },
            "marker": {
             "colorbar": {
              "outlinewidth": 0,
              "ticks": ""
             }
            },
            "type": "scatter3d"
           }
          ],
          "scattercarpet": [
           {
            "marker": {
             "colorbar": {
              "outlinewidth": 0,
              "ticks": ""
             }
            },
            "type": "scattercarpet"
           }
          ],
          "scattergeo": [
           {
            "marker": {
             "colorbar": {
              "outlinewidth": 0,
              "ticks": ""
             }
            },
            "type": "scattergeo"
           }
          ],
          "scattergl": [
           {
            "marker": {
             "colorbar": {
              "outlinewidth": 0,
              "ticks": ""
             }
            },
            "type": "scattergl"
           }
          ],
          "scattermapbox": [
           {
            "marker": {
             "colorbar": {
              "outlinewidth": 0,
              "ticks": ""
             }
            },
            "type": "scattermapbox"
           }
          ],
          "scatterpolar": [
           {
            "marker": {
             "colorbar": {
              "outlinewidth": 0,
              "ticks": ""
             }
            },
            "type": "scatterpolar"
           }
          ],
          "scatterpolargl": [
           {
            "marker": {
             "colorbar": {
              "outlinewidth": 0,
              "ticks": ""
             }
            },
            "type": "scatterpolargl"
           }
          ],
          "scatterternary": [
           {
            "marker": {
             "colorbar": {
              "outlinewidth": 0,
              "ticks": ""
             }
            },
            "type": "scatterternary"
           }
          ],
          "surface": [
           {
            "colorbar": {
             "outlinewidth": 0,
             "ticks": ""
            },
            "colorscale": [
             [
              0,
              "#0d0887"
             ],
             [
              0.1111111111111111,
              "#46039f"
             ],
             [
              0.2222222222222222,
              "#7201a8"
             ],
             [
              0.3333333333333333,
              "#9c179e"
             ],
             [
              0.4444444444444444,
              "#bd3786"
             ],
             [
              0.5555555555555556,
              "#d8576b"
             ],
             [
              0.6666666666666666,
              "#ed7953"
             ],
             [
              0.7777777777777778,
              "#fb9f3a"
             ],
             [
              0.8888888888888888,
              "#fdca26"
             ],
             [
              1,
              "#f0f921"
             ]
            ],
            "type": "surface"
           }
          ],
          "table": [
           {
            "cells": {
             "fill": {
              "color": "#EBF0F8"
             },
             "line": {
              "color": "white"
             }
            },
            "header": {
             "fill": {
              "color": "#C8D4E3"
             },
             "line": {
              "color": "white"
             }
            },
            "type": "table"
           }
          ]
         },
         "layout": {
          "annotationdefaults": {
           "arrowcolor": "#2a3f5f",
           "arrowhead": 0,
           "arrowwidth": 1
          },
          "autotypenumbers": "strict",
          "coloraxis": {
           "colorbar": {
            "outlinewidth": 0,
            "ticks": ""
           }
          },
          "colorscale": {
           "diverging": [
            [
             0,
             "#8e0152"
            ],
            [
             0.1,
             "#c51b7d"
            ],
            [
             0.2,
             "#de77ae"
            ],
            [
             0.3,
             "#f1b6da"
            ],
            [
             0.4,
             "#fde0ef"
            ],
            [
             0.5,
             "#f7f7f7"
            ],
            [
             0.6,
             "#e6f5d0"
            ],
            [
             0.7,
             "#b8e186"
            ],
            [
             0.8,
             "#7fbc41"
            ],
            [
             0.9,
             "#4d9221"
            ],
            [
             1,
             "#276419"
            ]
           ],
           "sequential": [
            [
             0,
             "#0d0887"
            ],
            [
             0.1111111111111111,
             "#46039f"
            ],
            [
             0.2222222222222222,
             "#7201a8"
            ],
            [
             0.3333333333333333,
             "#9c179e"
            ],
            [
             0.4444444444444444,
             "#bd3786"
            ],
            [
             0.5555555555555556,
             "#d8576b"
            ],
            [
             0.6666666666666666,
             "#ed7953"
            ],
            [
             0.7777777777777778,
             "#fb9f3a"
            ],
            [
             0.8888888888888888,
             "#fdca26"
            ],
            [
             1,
             "#f0f921"
            ]
           ],
           "sequentialminus": [
            [
             0,
             "#0d0887"
            ],
            [
             0.1111111111111111,
             "#46039f"
            ],
            [
             0.2222222222222222,
             "#7201a8"
            ],
            [
             0.3333333333333333,
             "#9c179e"
            ],
            [
             0.4444444444444444,
             "#bd3786"
            ],
            [
             0.5555555555555556,
             "#d8576b"
            ],
            [
             0.6666666666666666,
             "#ed7953"
            ],
            [
             0.7777777777777778,
             "#fb9f3a"
            ],
            [
             0.8888888888888888,
             "#fdca26"
            ],
            [
             1,
             "#f0f921"
            ]
           ]
          },
          "colorway": [
           "#636efa",
           "#EF553B",
           "#00cc96",
           "#ab63fa",
           "#FFA15A",
           "#19d3f3",
           "#FF6692",
           "#B6E880",
           "#FF97FF",
           "#FECB52"
          ],
          "font": {
           "color": "#2a3f5f"
          },
          "geo": {
           "bgcolor": "white",
           "lakecolor": "white",
           "landcolor": "#E5ECF6",
           "showlakes": true,
           "showland": true,
           "subunitcolor": "white"
          },
          "hoverlabel": {
           "align": "left"
          },
          "hovermode": "closest",
          "mapbox": {
           "style": "light"
          },
          "paper_bgcolor": "white",
          "plot_bgcolor": "#E5ECF6",
          "polar": {
           "angularaxis": {
            "gridcolor": "white",
            "linecolor": "white",
            "ticks": ""
           },
           "bgcolor": "#E5ECF6",
           "radialaxis": {
            "gridcolor": "white",
            "linecolor": "white",
            "ticks": ""
           }
          },
          "scene": {
           "xaxis": {
            "backgroundcolor": "#E5ECF6",
            "gridcolor": "white",
            "gridwidth": 2,
            "linecolor": "white",
            "showbackground": true,
            "ticks": "",
            "zerolinecolor": "white"
           },
           "yaxis": {
            "backgroundcolor": "#E5ECF6",
            "gridcolor": "white",
            "gridwidth": 2,
            "linecolor": "white",
            "showbackground": true,
            "ticks": "",
            "zerolinecolor": "white"
           },
           "zaxis": {
            "backgroundcolor": "#E5ECF6",
            "gridcolor": "white",
            "gridwidth": 2,
            "linecolor": "white",
            "showbackground": true,
            "ticks": "",
            "zerolinecolor": "white"
           }
          },
          "shapedefaults": {
           "line": {
            "color": "#2a3f5f"
           }
          },
          "ternary": {
           "aaxis": {
            "gridcolor": "white",
            "linecolor": "white",
            "ticks": ""
           },
           "baxis": {
            "gridcolor": "white",
            "linecolor": "white",
            "ticks": ""
           },
           "bgcolor": "#E5ECF6",
           "caxis": {
            "gridcolor": "white",
            "linecolor": "white",
            "ticks": ""
           }
          },
          "title": {
           "x": 0.05
          },
          "xaxis": {
           "automargin": true,
           "gridcolor": "white",
           "linecolor": "white",
           "ticks": "",
           "title": {
            "standoff": 15
           },
           "zerolinecolor": "white",
           "zerolinewidth": 2
          },
          "yaxis": {
           "automargin": true,
           "gridcolor": "white",
           "linecolor": "white",
           "ticks": "",
           "title": {
            "standoff": 15
           },
           "zerolinecolor": "white",
           "zerolinewidth": 2
          }
         }
        },
        "xaxis": {
         "anchor": "y",
         "domain": [
          0,
          1
         ],
         "title": {
          "text": "Mean length of nurse consultation"
         }
        },
        "yaxis": {
         "anchor": "x",
         "domain": [
          0,
          1
         ],
         "title": {
          "text": "Frequency"
         }
        }
       }
      }
     },
     "metadata": {},
     "output_type": "display_data"
    },
    {
     "data": {
      "application/vnd.plotly.v1+json": {
       "config": {
        "plotlyServerURL": "https://plot.ly"
       },
       "data": [
        {
         "alignmentgroup": "True",
         "bingroup": "x",
         "hovertemplate": "variable=mean_nurse_utilisation<br>value=%{x}<br>count=%{y}<extra></extra>",
         "legendgroup": "mean_nurse_utilisation",
         "marker": {
          "color": "#636efa",
          "pattern": {
           "shape": ""
          }
         },
         "name": "mean_nurse_utilisation",
         "offsetgroup": "mean_nurse_utilisation",
         "orientation": "v",
         "showlegend": true,
         "type": "histogram",
         "x": [
          0.4996386466177992,
          0.5019905433327594,
          0.4981297032213408,
          0.49822049332297624,
          0.4968703372055205,
          0.492904233058074,
          0.503356251584998,
          0.5034489381047406,
          0.508790994907774,
          0.49997178325917613,
          0.5098373896503802,
          0.4895233535105571,
          0.5034276977164731,
          0.48925457544062534,
          0.513130373051619,
          0.5009629889699926,
          0.4866947365248423,
          0.4954087210793937,
          0.4793715775153063,
          0.4915291568180775,
          0.49261944375555833,
          0.48940978932654106,
          0.4892835610032433,
          0.5013818263178943,
          0.49160360886911897,
          0.5060501169430693,
          0.5022615440123254,
          0.4999546777219452,
          0.4923573694687436,
          0.5046064549261675,
          0.49578999982774674,
          0.5036069180413961,
          0.5034614907790971,
          0.49963072235968004,
          0.4960393381080295,
          0.4930516550305686,
          0.5081301963936187,
          0.5020531790211499,
          0.4998156385135252,
          0.5120619062734135,
          0.5023865166481989,
          0.5042930232043144,
          0.5086012794532562,
          0.5015961482288526,
          0.5102170962345217,
          0.5104361337214204,
          0.5008496579443008,
          0.5102778898238796,
          0.5002744425893443,
          0.5100005206812247
         ],
         "xaxis": "x",
         "yaxis": "y"
        }
       ],
       "layout": {
        "barmode": "relative",
        "legend": {
         "title": {
          "text": "variable"
         },
         "tracegroupgap": 0
        },
        "margin": {
         "t": 60
        },
        "template": {
         "data": {
          "bar": [
           {
            "error_x": {
             "color": "#2a3f5f"
            },
            "error_y": {
             "color": "#2a3f5f"
            },
            "marker": {
             "line": {
              "color": "#E5ECF6",
              "width": 0.5
             },
             "pattern": {
              "fillmode": "overlay",
              "size": 10,
              "solidity": 0.2
             }
            },
            "type": "bar"
           }
          ],
          "barpolar": [
           {
            "marker": {
             "line": {
              "color": "#E5ECF6",
              "width": 0.5
             },
             "pattern": {
              "fillmode": "overlay",
              "size": 10,
              "solidity": 0.2
             }
            },
            "type": "barpolar"
           }
          ],
          "carpet": [
           {
            "aaxis": {
             "endlinecolor": "#2a3f5f",
             "gridcolor": "white",
             "linecolor": "white",
             "minorgridcolor": "white",
             "startlinecolor": "#2a3f5f"
            },
            "baxis": {
             "endlinecolor": "#2a3f5f",
             "gridcolor": "white",
             "linecolor": "white",
             "minorgridcolor": "white",
             "startlinecolor": "#2a3f5f"
            },
            "type": "carpet"
           }
          ],
          "choropleth": [
           {
            "colorbar": {
             "outlinewidth": 0,
             "ticks": ""
            },
            "type": "choropleth"
           }
          ],
          "contour": [
           {
            "colorbar": {
             "outlinewidth": 0,
             "ticks": ""
            },
            "colorscale": [
             [
              0,
              "#0d0887"
             ],
             [
              0.1111111111111111,
              "#46039f"
             ],
             [
              0.2222222222222222,
              "#7201a8"
             ],
             [
              0.3333333333333333,
              "#9c179e"
             ],
             [
              0.4444444444444444,
              "#bd3786"
             ],
             [
              0.5555555555555556,
              "#d8576b"
             ],
             [
              0.6666666666666666,
              "#ed7953"
             ],
             [
              0.7777777777777778,
              "#fb9f3a"
             ],
             [
              0.8888888888888888,
              "#fdca26"
             ],
             [
              1,
              "#f0f921"
             ]
            ],
            "type": "contour"
           }
          ],
          "contourcarpet": [
           {
            "colorbar": {
             "outlinewidth": 0,
             "ticks": ""
            },
            "type": "contourcarpet"
           }
          ],
          "heatmap": [
           {
            "colorbar": {
             "outlinewidth": 0,
             "ticks": ""
            },
            "colorscale": [
             [
              0,
              "#0d0887"
             ],
             [
              0.1111111111111111,
              "#46039f"
             ],
             [
              0.2222222222222222,
              "#7201a8"
             ],
             [
              0.3333333333333333,
              "#9c179e"
             ],
             [
              0.4444444444444444,
              "#bd3786"
             ],
             [
              0.5555555555555556,
              "#d8576b"
             ],
             [
              0.6666666666666666,
              "#ed7953"
             ],
             [
              0.7777777777777778,
              "#fb9f3a"
             ],
             [
              0.8888888888888888,
              "#fdca26"
             ],
             [
              1,
              "#f0f921"
             ]
            ],
            "type": "heatmap"
           }
          ],
          "heatmapgl": [
           {
            "colorbar": {
             "outlinewidth": 0,
             "ticks": ""
            },
            "colorscale": [
             [
              0,
              "#0d0887"
             ],
             [
              0.1111111111111111,
              "#46039f"
             ],
             [
              0.2222222222222222,
              "#7201a8"
             ],
             [
              0.3333333333333333,
              "#9c179e"
             ],
             [
              0.4444444444444444,
              "#bd3786"
             ],
             [
              0.5555555555555556,
              "#d8576b"
             ],
             [
              0.6666666666666666,
              "#ed7953"
             ],
             [
              0.7777777777777778,
              "#fb9f3a"
             ],
             [
              0.8888888888888888,
              "#fdca26"
             ],
             [
              1,
              "#f0f921"
             ]
            ],
            "type": "heatmapgl"
           }
          ],
          "histogram": [
           {
            "marker": {
             "pattern": {
              "fillmode": "overlay",
              "size": 10,
              "solidity": 0.2
             }
            },
            "type": "histogram"
           }
          ],
          "histogram2d": [
           {
            "colorbar": {
             "outlinewidth": 0,
             "ticks": ""
            },
            "colorscale": [
             [
              0,
              "#0d0887"
             ],
             [
              0.1111111111111111,
              "#46039f"
             ],
             [
              0.2222222222222222,
              "#7201a8"
             ],
             [
              0.3333333333333333,
              "#9c179e"
             ],
             [
              0.4444444444444444,
              "#bd3786"
             ],
             [
              0.5555555555555556,
              "#d8576b"
             ],
             [
              0.6666666666666666,
              "#ed7953"
             ],
             [
              0.7777777777777778,
              "#fb9f3a"
             ],
             [
              0.8888888888888888,
              "#fdca26"
             ],
             [
              1,
              "#f0f921"
             ]
            ],
            "type": "histogram2d"
           }
          ],
          "histogram2dcontour": [
           {
            "colorbar": {
             "outlinewidth": 0,
             "ticks": ""
            },
            "colorscale": [
             [
              0,
              "#0d0887"
             ],
             [
              0.1111111111111111,
              "#46039f"
             ],
             [
              0.2222222222222222,
              "#7201a8"
             ],
             [
              0.3333333333333333,
              "#9c179e"
             ],
             [
              0.4444444444444444,
              "#bd3786"
             ],
             [
              0.5555555555555556,
              "#d8576b"
             ],
             [
              0.6666666666666666,
              "#ed7953"
             ],
             [
              0.7777777777777778,
              "#fb9f3a"
             ],
             [
              0.8888888888888888,
              "#fdca26"
             ],
             [
              1,
              "#f0f921"
             ]
            ],
            "type": "histogram2dcontour"
           }
          ],
          "mesh3d": [
           {
            "colorbar": {
             "outlinewidth": 0,
             "ticks": ""
            },
            "type": "mesh3d"
           }
          ],
          "parcoords": [
           {
            "line": {
             "colorbar": {
              "outlinewidth": 0,
              "ticks": ""
             }
            },
            "type": "parcoords"
           }
          ],
          "pie": [
           {
            "automargin": true,
            "type": "pie"
           }
          ],
          "scatter": [
           {
            "fillpattern": {
             "fillmode": "overlay",
             "size": 10,
             "solidity": 0.2
            },
            "type": "scatter"
           }
          ],
          "scatter3d": [
           {
            "line": {
             "colorbar": {
              "outlinewidth": 0,
              "ticks": ""
             }
            },
            "marker": {
             "colorbar": {
              "outlinewidth": 0,
              "ticks": ""
             }
            },
            "type": "scatter3d"
           }
          ],
          "scattercarpet": [
           {
            "marker": {
             "colorbar": {
              "outlinewidth": 0,
              "ticks": ""
             }
            },
            "type": "scattercarpet"
           }
          ],
          "scattergeo": [
           {
            "marker": {
             "colorbar": {
              "outlinewidth": 0,
              "ticks": ""
             }
            },
            "type": "scattergeo"
           }
          ],
          "scattergl": [
           {
            "marker": {
             "colorbar": {
              "outlinewidth": 0,
              "ticks": ""
             }
            },
            "type": "scattergl"
           }
          ],
          "scattermapbox": [
           {
            "marker": {
             "colorbar": {
              "outlinewidth": 0,
              "ticks": ""
             }
            },
            "type": "scattermapbox"
           }
          ],
          "scatterpolar": [
           {
            "marker": {
             "colorbar": {
              "outlinewidth": 0,
              "ticks": ""
             }
            },
            "type": "scatterpolar"
           }
          ],
          "scatterpolargl": [
           {
            "marker": {
             "colorbar": {
              "outlinewidth": 0,
              "ticks": ""
             }
            },
            "type": "scatterpolargl"
           }
          ],
          "scatterternary": [
           {
            "marker": {
             "colorbar": {
              "outlinewidth": 0,
              "ticks": ""
             }
            },
            "type": "scatterternary"
           }
          ],
          "surface": [
           {
            "colorbar": {
             "outlinewidth": 0,
             "ticks": ""
            },
            "colorscale": [
             [
              0,
              "#0d0887"
             ],
             [
              0.1111111111111111,
              "#46039f"
             ],
             [
              0.2222222222222222,
              "#7201a8"
             ],
             [
              0.3333333333333333,
              "#9c179e"
             ],
             [
              0.4444444444444444,
              "#bd3786"
             ],
             [
              0.5555555555555556,
              "#d8576b"
             ],
             [
              0.6666666666666666,
              "#ed7953"
             ],
             [
              0.7777777777777778,
              "#fb9f3a"
             ],
             [
              0.8888888888888888,
              "#fdca26"
             ],
             [
              1,
              "#f0f921"
             ]
            ],
            "type": "surface"
           }
          ],
          "table": [
           {
            "cells": {
             "fill": {
              "color": "#EBF0F8"
             },
             "line": {
              "color": "white"
             }
            },
            "header": {
             "fill": {
              "color": "#C8D4E3"
             },
             "line": {
              "color": "white"
             }
            },
            "type": "table"
           }
          ]
         },
         "layout": {
          "annotationdefaults": {
           "arrowcolor": "#2a3f5f",
           "arrowhead": 0,
           "arrowwidth": 1
          },
          "autotypenumbers": "strict",
          "coloraxis": {
           "colorbar": {
            "outlinewidth": 0,
            "ticks": ""
           }
          },
          "colorscale": {
           "diverging": [
            [
             0,
             "#8e0152"
            ],
            [
             0.1,
             "#c51b7d"
            ],
            [
             0.2,
             "#de77ae"
            ],
            [
             0.3,
             "#f1b6da"
            ],
            [
             0.4,
             "#fde0ef"
            ],
            [
             0.5,
             "#f7f7f7"
            ],
            [
             0.6,
             "#e6f5d0"
            ],
            [
             0.7,
             "#b8e186"
            ],
            [
             0.8,
             "#7fbc41"
            ],
            [
             0.9,
             "#4d9221"
            ],
            [
             1,
             "#276419"
            ]
           ],
           "sequential": [
            [
             0,
             "#0d0887"
            ],
            [
             0.1111111111111111,
             "#46039f"
            ],
            [
             0.2222222222222222,
             "#7201a8"
            ],
            [
             0.3333333333333333,
             "#9c179e"
            ],
            [
             0.4444444444444444,
             "#bd3786"
            ],
            [
             0.5555555555555556,
             "#d8576b"
            ],
            [
             0.6666666666666666,
             "#ed7953"
            ],
            [
             0.7777777777777778,
             "#fb9f3a"
            ],
            [
             0.8888888888888888,
             "#fdca26"
            ],
            [
             1,
             "#f0f921"
            ]
           ],
           "sequentialminus": [
            [
             0,
             "#0d0887"
            ],
            [
             0.1111111111111111,
             "#46039f"
            ],
            [
             0.2222222222222222,
             "#7201a8"
            ],
            [
             0.3333333333333333,
             "#9c179e"
            ],
            [
             0.4444444444444444,
             "#bd3786"
            ],
            [
             0.5555555555555556,
             "#d8576b"
            ],
            [
             0.6666666666666666,
             "#ed7953"
            ],
            [
             0.7777777777777778,
             "#fb9f3a"
            ],
            [
             0.8888888888888888,
             "#fdca26"
            ],
            [
             1,
             "#f0f921"
            ]
           ]
          },
          "colorway": [
           "#636efa",
           "#EF553B",
           "#00cc96",
           "#ab63fa",
           "#FFA15A",
           "#19d3f3",
           "#FF6692",
           "#B6E880",
           "#FF97FF",
           "#FECB52"
          ],
          "font": {
           "color": "#2a3f5f"
          },
          "geo": {
           "bgcolor": "white",
           "lakecolor": "white",
           "landcolor": "#E5ECF6",
           "showlakes": true,
           "showland": true,
           "subunitcolor": "white"
          },
          "hoverlabel": {
           "align": "left"
          },
          "hovermode": "closest",
          "mapbox": {
           "style": "light"
          },
          "paper_bgcolor": "white",
          "plot_bgcolor": "#E5ECF6",
          "polar": {
           "angularaxis": {
            "gridcolor": "white",
            "linecolor": "white",
            "ticks": ""
           },
           "bgcolor": "#E5ECF6",
           "radialaxis": {
            "gridcolor": "white",
            "linecolor": "white",
            "ticks": ""
           }
          },
          "scene": {
           "xaxis": {
            "backgroundcolor": "#E5ECF6",
            "gridcolor": "white",
            "gridwidth": 2,
            "linecolor": "white",
            "showbackground": true,
            "ticks": "",
            "zerolinecolor": "white"
           },
           "yaxis": {
            "backgroundcolor": "#E5ECF6",
            "gridcolor": "white",
            "gridwidth": 2,
            "linecolor": "white",
            "showbackground": true,
            "ticks": "",
            "zerolinecolor": "white"
           },
           "zaxis": {
            "backgroundcolor": "#E5ECF6",
            "gridcolor": "white",
            "gridwidth": 2,
            "linecolor": "white",
            "showbackground": true,
            "ticks": "",
            "zerolinecolor": "white"
           }
          },
          "shapedefaults": {
           "line": {
            "color": "#2a3f5f"
           }
          },
          "ternary": {
           "aaxis": {
            "gridcolor": "white",
            "linecolor": "white",
            "ticks": ""
           },
           "baxis": {
            "gridcolor": "white",
            "linecolor": "white",
            "ticks": ""
           },
           "bgcolor": "#E5ECF6",
           "caxis": {
            "gridcolor": "white",
            "linecolor": "white",
            "ticks": ""
           }
          },
          "title": {
           "x": 0.05
          },
          "xaxis": {
           "automargin": true,
           "gridcolor": "white",
           "linecolor": "white",
           "ticks": "",
           "title": {
            "standoff": 15
           },
           "zerolinecolor": "white",
           "zerolinewidth": 2
          },
          "yaxis": {
           "automargin": true,
           "gridcolor": "white",
           "linecolor": "white",
           "ticks": "",
           "title": {
            "standoff": 15
           },
           "zerolinecolor": "white",
           "zerolinewidth": 2
          }
         }
        },
        "xaxis": {
         "anchor": "y",
         "domain": [
          0,
          1
         ],
         "title": {
          "text": "Mean nurse utilisation"
         }
        },
        "yaxis": {
         "anchor": "x",
         "domain": [
          0,
          1
         ],
         "title": {
          "text": "Frequency"
         }
        }
       }
      }
     },
     "metadata": {},
     "output_type": "display_data"
    }
   ],
   "source": [
    "def plot_results_spread(column, x_label, y_label='Frequency'):\n",
    "    \"\"\"\n",
    "    Plot spread of results from across replications, for chosen column.\n",
    "\n",
    "    Arguments:\n",
    "        column (str):\n",
    "            Name of column to plot.\n",
    "        x_label (str):\n",
    "            X axis label.\n",
    "        y_label (str):\n",
    "            Y axis label\n",
    "    \"\"\"\n",
    "    fig = px.histogram(trial.trial_results_df[column])\n",
    "    fig.update_layout(\n",
    "        xaxis_title=x_label,\n",
    "        yaxis_title=y_label\n",
    "    )\n",
    "    fig.show()\n",
    "\n",
    "\n",
    "plot_results_spread('arrivals', 'Arrivals')\n",
    "plot_results_spread('mean_q_time_nurse', 'Mean wait time for nurse')\n",
    "plot_results_spread('mean_time_with_nurse', 'Mean length of nurse consultation')\n",
    "plot_results_spread('mean_nurse_utilisation', 'Mean nurse utilisation')"
   ]
  },
  {
   "cell_type": "markdown",
   "metadata": {},
   "source": [
    "## Other stuff"
   ]
  },
  {
   "cell_type": "code",
   "execution_count": 11,
   "metadata": {},
   "outputs": [
    {
     "data": {
      "text/html": [
       "<div>\n",
       "<style scoped>\n",
       "    .dataframe tbody tr th:only-of-type {\n",
       "        vertical-align: middle;\n",
       "    }\n",
       "\n",
       "    .dataframe tbody tr th {\n",
       "        vertical-align: top;\n",
       "    }\n",
       "\n",
       "    .dataframe thead th {\n",
       "        text-align: right;\n",
       "    }\n",
       "</style>\n",
       "<table border=\"1\" class=\"dataframe\">\n",
       "  <thead>\n",
       "    <tr style=\"text-align: right;\">\n",
       "      <th></th>\n",
       "      <th>patient_id</th>\n",
       "      <th>arrival_time</th>\n",
       "      <th>q_time_nurse</th>\n",
       "      <th>time_with_nurse</th>\n",
       "      <th>run</th>\n",
       "    </tr>\n",
       "  </thead>\n",
       "  <tbody>\n",
       "    <tr>\n",
       "      <th>0</th>\n",
       "      <td>1</td>\n",
       "      <td>18720.556711</td>\n",
       "      <td>0.0</td>\n",
       "      <td>1.551695</td>\n",
       "      <td>0</td>\n",
       "    </tr>\n",
       "    <tr>\n",
       "      <th>1</th>\n",
       "      <td>2</td>\n",
       "      <td>18724.792565</td>\n",
       "      <td>0.0</td>\n",
       "      <td>3.649895</td>\n",
       "      <td>0</td>\n",
       "    </tr>\n",
       "    <tr>\n",
       "      <th>2</th>\n",
       "      <td>3</td>\n",
       "      <td>18725.627670</td>\n",
       "      <td>0.0</td>\n",
       "      <td>8.137105</td>\n",
       "      <td>0</td>\n",
       "    </tr>\n",
       "    <tr>\n",
       "      <th>3</th>\n",
       "      <td>4</td>\n",
       "      <td>18728.774983</td>\n",
       "      <td>0.0</td>\n",
       "      <td>22.057543</td>\n",
       "      <td>0</td>\n",
       "    </tr>\n",
       "    <tr>\n",
       "      <th>4</th>\n",
       "      <td>5</td>\n",
       "      <td>18729.812428</td>\n",
       "      <td>0.0</td>\n",
       "      <td>15.439297</td>\n",
       "      <td>0</td>\n",
       "    </tr>\n",
       "    <tr>\n",
       "      <th>...</th>\n",
       "      <td>...</td>\n",
       "      <td>...</td>\n",
       "      <td>...</td>\n",
       "      <td>...</td>\n",
       "      <td>...</td>\n",
       "    </tr>\n",
       "    <tr>\n",
       "      <th>108017</th>\n",
       "      <td>10701</td>\n",
       "      <td>61913.932787</td>\n",
       "      <td>0.0</td>\n",
       "      <td>11.338667</td>\n",
       "      <td>9</td>\n",
       "    </tr>\n",
       "    <tr>\n",
       "      <th>108018</th>\n",
       "      <td>10702</td>\n",
       "      <td>61915.218078</td>\n",
       "      <td>0.0</td>\n",
       "      <td>38.058422</td>\n",
       "      <td>9</td>\n",
       "    </tr>\n",
       "    <tr>\n",
       "      <th>108019</th>\n",
       "      <td>10703</td>\n",
       "      <td>61918.140880</td>\n",
       "      <td>0.0</td>\n",
       "      <td>20.107511</td>\n",
       "      <td>9</td>\n",
       "    </tr>\n",
       "    <tr>\n",
       "      <th>108020</th>\n",
       "      <td>10704</td>\n",
       "      <td>61918.520147</td>\n",
       "      <td>0.0</td>\n",
       "      <td>8.697632</td>\n",
       "      <td>9</td>\n",
       "    </tr>\n",
       "    <tr>\n",
       "      <th>108021</th>\n",
       "      <td>10705</td>\n",
       "      <td>61918.981915</td>\n",
       "      <td>0.0</td>\n",
       "      <td>2.338400</td>\n",
       "      <td>9</td>\n",
       "    </tr>\n",
       "  </tbody>\n",
       "</table>\n",
       "<p>108022 rows × 5 columns</p>\n",
       "</div>"
      ],
      "text/plain": [
       "        patient_id  arrival_time  q_time_nurse  time_with_nurse  run\n",
       "0                1  18720.556711           0.0         1.551695    0\n",
       "1                2  18724.792565           0.0         3.649895    0\n",
       "2                3  18725.627670           0.0         8.137105    0\n",
       "3                4  18728.774983           0.0        22.057543    0\n",
       "4                5  18729.812428           0.0        15.439297    0\n",
       "...            ...           ...           ...              ...  ...\n",
       "108017       10701  61913.932787           0.0        11.338667    9\n",
       "108018       10702  61915.218078           0.0        38.058422    9\n",
       "108019       10703  61918.140880           0.0        20.107511    9\n",
       "108020       10704  61918.520147           0.0         8.697632    9\n",
       "108021       10705  61918.981915           0.0         2.338400    9\n",
       "\n",
       "[108022 rows x 5 columns]"
      ]
     },
     "metadata": {},
     "output_type": "display_data"
    },
    {
     "data": {
      "text/html": [
       "<div>\n",
       "<style scoped>\n",
       "    .dataframe tbody tr th:only-of-type {\n",
       "        vertical-align: middle;\n",
       "    }\n",
       "\n",
       "    .dataframe tbody tr th {\n",
       "        vertical-align: top;\n",
       "    }\n",
       "\n",
       "    .dataframe thead th {\n",
       "        text-align: right;\n",
       "    }\n",
       "</style>\n",
       "<table border=\"1\" class=\"dataframe\">\n",
       "  <thead>\n",
       "    <tr style=\"text-align: right;\">\n",
       "      <th></th>\n",
       "      <th>run_number</th>\n",
       "      <th>scenario</th>\n",
       "      <th>arrivals</th>\n",
       "      <th>mean_q_time_nurse</th>\n",
       "      <th>mean_time_with_nurse</th>\n",
       "      <th>mean_nurse_utilisation</th>\n",
       "    </tr>\n",
       "  </thead>\n",
       "  <tbody>\n",
       "    <tr>\n",
       "      <th>0</th>\n",
       "      <td>0</td>\n",
       "      <td>0</td>\n",
       "      <td>10972</td>\n",
       "      <td>0.504541</td>\n",
       "      <td>9.842268</td>\n",
       "      <td>0.499639</td>\n",
       "    </tr>\n",
       "    <tr>\n",
       "      <th>1</th>\n",
       "      <td>1</td>\n",
       "      <td>0</td>\n",
       "      <td>10784</td>\n",
       "      <td>0.514151</td>\n",
       "      <td>10.060481</td>\n",
       "      <td>0.501991</td>\n",
       "    </tr>\n",
       "    <tr>\n",
       "      <th>2</th>\n",
       "      <td>2</td>\n",
       "      <td>0</td>\n",
       "      <td>10854</td>\n",
       "      <td>0.523235</td>\n",
       "      <td>9.925025</td>\n",
       "      <td>0.498130</td>\n",
       "    </tr>\n",
       "    <tr>\n",
       "      <th>3</th>\n",
       "      <td>3</td>\n",
       "      <td>0</td>\n",
       "      <td>10831</td>\n",
       "      <td>0.479149</td>\n",
       "      <td>9.937057</td>\n",
       "      <td>0.498220</td>\n",
       "    </tr>\n",
       "    <tr>\n",
       "      <th>4</th>\n",
       "      <td>4</td>\n",
       "      <td>0</td>\n",
       "      <td>10720</td>\n",
       "      <td>0.461457</td>\n",
       "      <td>10.015904</td>\n",
       "      <td>0.496870</td>\n",
       "    </tr>\n",
       "    <tr>\n",
       "      <th>5</th>\n",
       "      <td>5</td>\n",
       "      <td>0</td>\n",
       "      <td>10772</td>\n",
       "      <td>0.388265</td>\n",
       "      <td>9.884996</td>\n",
       "      <td>0.492904</td>\n",
       "    </tr>\n",
       "    <tr>\n",
       "      <th>6</th>\n",
       "      <td>6</td>\n",
       "      <td>0</td>\n",
       "      <td>10831</td>\n",
       "      <td>0.466938</td>\n",
       "      <td>10.041800</td>\n",
       "      <td>0.503356</td>\n",
       "    </tr>\n",
       "    <tr>\n",
       "      <th>7</th>\n",
       "      <td>7</td>\n",
       "      <td>0</td>\n",
       "      <td>10781</td>\n",
       "      <td>0.625888</td>\n",
       "      <td>10.086979</td>\n",
       "      <td>0.503449</td>\n",
       "    </tr>\n",
       "    <tr>\n",
       "      <th>8</th>\n",
       "      <td>8</td>\n",
       "      <td>0</td>\n",
       "      <td>10772</td>\n",
       "      <td>0.468497</td>\n",
       "      <td>10.202270</td>\n",
       "      <td>0.508791</td>\n",
       "    </tr>\n",
       "    <tr>\n",
       "      <th>9</th>\n",
       "      <td>9</td>\n",
       "      <td>0</td>\n",
       "      <td>10705</td>\n",
       "      <td>0.563435</td>\n",
       "      <td>10.092602</td>\n",
       "      <td>0.499972</td>\n",
       "    </tr>\n",
       "  </tbody>\n",
       "</table>\n",
       "</div>"
      ],
      "text/plain": [
       "   run_number  scenario  arrivals  mean_q_time_nurse  mean_time_with_nurse  \\\n",
       "0           0         0     10972           0.504541              9.842268   \n",
       "1           1         0     10784           0.514151             10.060481   \n",
       "2           2         0     10854           0.523235              9.925025   \n",
       "3           3         0     10831           0.479149              9.937057   \n",
       "4           4         0     10720           0.461457             10.015904   \n",
       "5           5         0     10772           0.388265              9.884996   \n",
       "6           6         0     10831           0.466938             10.041800   \n",
       "7           7         0     10781           0.625888             10.086979   \n",
       "8           8         0     10772           0.468497             10.202270   \n",
       "9           9         0     10705           0.563435             10.092602   \n",
       "\n",
       "   mean_nurse_utilisation  \n",
       "0                0.499639  \n",
       "1                0.501991  \n",
       "2                0.498130  \n",
       "3                0.498220  \n",
       "4                0.496870  \n",
       "5                0.492904  \n",
       "6                0.503356  \n",
       "7                0.503449  \n",
       "8                0.508791  \n",
       "9                0.499972  "
      ]
     },
     "metadata": {},
     "output_type": "display_data"
    },
    {
     "data": {
      "text/html": [
       "<div>\n",
       "<style scoped>\n",
       "    .dataframe tbody tr th:only-of-type {\n",
       "        vertical-align: middle;\n",
       "    }\n",
       "\n",
       "    .dataframe tbody tr th {\n",
       "        vertical-align: top;\n",
       "    }\n",
       "\n",
       "    .dataframe thead th {\n",
       "        text-align: right;\n",
       "    }\n",
       "</style>\n",
       "<table border=\"1\" class=\"dataframe\">\n",
       "  <thead>\n",
       "    <tr style=\"text-align: right;\">\n",
       "      <th></th>\n",
       "      <th>resource_name</th>\n",
       "      <th>simulation_time</th>\n",
       "      <th>utilisation</th>\n",
       "      <th>queue_length</th>\n",
       "      <th>running_mean_wait_time</th>\n",
       "      <th>run</th>\n",
       "    </tr>\n",
       "  </thead>\n",
       "  <tbody>\n",
       "    <tr>\n",
       "      <th>0</th>\n",
       "      <td>nurse</td>\n",
       "      <td>18720</td>\n",
       "      <td>0.6</td>\n",
       "      <td>0</td>\n",
       "      <td>0.427625</td>\n",
       "      <td>0</td>\n",
       "    </tr>\n",
       "    <tr>\n",
       "      <th>1</th>\n",
       "      <td>nurse</td>\n",
       "      <td>18840</td>\n",
       "      <td>0.4</td>\n",
       "      <td>0</td>\n",
       "      <td>0.425181</td>\n",
       "      <td>0</td>\n",
       "    </tr>\n",
       "    <tr>\n",
       "      <th>2</th>\n",
       "      <td>nurse</td>\n",
       "      <td>18960</td>\n",
       "      <td>0.6</td>\n",
       "      <td>0</td>\n",
       "      <td>0.423041</td>\n",
       "      <td>0</td>\n",
       "    </tr>\n",
       "    <tr>\n",
       "      <th>3</th>\n",
       "      <td>nurse</td>\n",
       "      <td>19080</td>\n",
       "      <td>1.0</td>\n",
       "      <td>3</td>\n",
       "      <td>0.427408</td>\n",
       "      <td>0</td>\n",
       "    </tr>\n",
       "    <tr>\n",
       "      <th>4</th>\n",
       "      <td>nurse</td>\n",
       "      <td>19200</td>\n",
       "      <td>0.6</td>\n",
       "      <td>0</td>\n",
       "      <td>0.440854</td>\n",
       "      <td>0</td>\n",
       "    </tr>\n",
       "    <tr>\n",
       "      <th>...</th>\n",
       "      <td>...</td>\n",
       "      <td>...</td>\n",
       "      <td>...</td>\n",
       "      <td>...</td>\n",
       "      <td>...</td>\n",
       "      <td>...</td>\n",
       "    </tr>\n",
       "    <tr>\n",
       "      <th>3595</th>\n",
       "      <td>nurse</td>\n",
       "      <td>61320</td>\n",
       "      <td>0.4</td>\n",
       "      <td>0</td>\n",
       "      <td>0.524115</td>\n",
       "      <td>9</td>\n",
       "    </tr>\n",
       "    <tr>\n",
       "      <th>3596</th>\n",
       "      <td>nurse</td>\n",
       "      <td>61440</td>\n",
       "      <td>0.6</td>\n",
       "      <td>0</td>\n",
       "      <td>0.523119</td>\n",
       "      <td>9</td>\n",
       "    </tr>\n",
       "    <tr>\n",
       "      <th>3597</th>\n",
       "      <td>nurse</td>\n",
       "      <td>61560</td>\n",
       "      <td>0.8</td>\n",
       "      <td>0</td>\n",
       "      <td>0.522416</td>\n",
       "      <td>9</td>\n",
       "    </tr>\n",
       "    <tr>\n",
       "      <th>3598</th>\n",
       "      <td>nurse</td>\n",
       "      <td>61680</td>\n",
       "      <td>0.2</td>\n",
       "      <td>0</td>\n",
       "      <td>0.521299</td>\n",
       "      <td>9</td>\n",
       "    </tr>\n",
       "    <tr>\n",
       "      <th>3599</th>\n",
       "      <td>nurse</td>\n",
       "      <td>61800</td>\n",
       "      <td>1.0</td>\n",
       "      <td>2</td>\n",
       "      <td>0.520147</td>\n",
       "      <td>9</td>\n",
       "    </tr>\n",
       "  </tbody>\n",
       "</table>\n",
       "<p>3600 rows × 6 columns</p>\n",
       "</div>"
      ],
      "text/plain": [
       "     resource_name  simulation_time  utilisation  queue_length  \\\n",
       "0            nurse            18720          0.6             0   \n",
       "1            nurse            18840          0.4             0   \n",
       "2            nurse            18960          0.6             0   \n",
       "3            nurse            19080          1.0             3   \n",
       "4            nurse            19200          0.6             0   \n",
       "...            ...              ...          ...           ...   \n",
       "3595         nurse            61320          0.4             0   \n",
       "3596         nurse            61440          0.6             0   \n",
       "3597         nurse            61560          0.8             0   \n",
       "3598         nurse            61680          0.2             0   \n",
       "3599         nurse            61800          1.0             2   \n",
       "\n",
       "      running_mean_wait_time  run  \n",
       "0                   0.427625    0  \n",
       "1                   0.425181    0  \n",
       "2                   0.423041    0  \n",
       "3                   0.427408    0  \n",
       "4                   0.440854    0  \n",
       "...                      ...  ...  \n",
       "3595                0.524115    9  \n",
       "3596                0.523119    9  \n",
       "3597                0.522416    9  \n",
       "3598                0.521299    9  \n",
       "3599                0.520147    9  \n",
       "\n",
       "[3600 rows x 6 columns]"
      ]
     },
     "metadata": {},
     "output_type": "display_data"
    },
    {
     "data": {
      "text/html": [
       "<div>\n",
       "<style scoped>\n",
       "    .dataframe tbody tr th:only-of-type {\n",
       "        vertical-align: middle;\n",
       "    }\n",
       "\n",
       "    .dataframe tbody tr th {\n",
       "        vertical-align: top;\n",
       "    }\n",
       "\n",
       "    .dataframe thead th {\n",
       "        text-align: right;\n",
       "    }\n",
       "</style>\n",
       "<table border=\"1\" class=\"dataframe\">\n",
       "  <thead>\n",
       "    <tr style=\"text-align: right;\">\n",
       "      <th></th>\n",
       "      <th>arrivals</th>\n",
       "      <th>mean_q_time_nurse</th>\n",
       "      <th>mean_time_with_nurse</th>\n",
       "      <th>mean_nurse_utilisation</th>\n",
       "    </tr>\n",
       "  </thead>\n",
       "  <tbody>\n",
       "    <tr>\n",
       "      <th>mean</th>\n",
       "      <td>10802.200000</td>\n",
       "      <td>0.499556</td>\n",
       "      <td>10.008938</td>\n",
       "      <td>0.500332</td>\n",
       "    </tr>\n",
       "    <tr>\n",
       "      <th>std_dev</th>\n",
       "      <td>75.999708</td>\n",
       "      <td>0.064223</td>\n",
       "      <td>0.110354</td>\n",
       "      <td>0.004349</td>\n",
       "    </tr>\n",
       "    <tr>\n",
       "      <th>lower_95_ci</th>\n",
       "      <td>10747.833084</td>\n",
       "      <td>0.453613</td>\n",
       "      <td>9.929996</td>\n",
       "      <td>0.497221</td>\n",
       "    </tr>\n",
       "    <tr>\n",
       "      <th>upper_95_ci</th>\n",
       "      <td>10856.566916</td>\n",
       "      <td>0.545498</td>\n",
       "      <td>10.087880</td>\n",
       "      <td>0.503443</td>\n",
       "    </tr>\n",
       "  </tbody>\n",
       "</table>\n",
       "</div>"
      ],
      "text/plain": [
       "                 arrivals  mean_q_time_nurse  mean_time_with_nurse  \\\n",
       "mean         10802.200000           0.499556             10.008938   \n",
       "std_dev         75.999708           0.064223              0.110354   \n",
       "lower_95_ci  10747.833084           0.453613              9.929996   \n",
       "upper_95_ci  10856.566916           0.545498             10.087880   \n",
       "\n",
       "             mean_nurse_utilisation  \n",
       "mean                       0.500332  \n",
       "std_dev                    0.004349  \n",
       "lower_95_ci                0.497221  \n",
       "upper_95_ci                0.503443  "
      ]
     },
     "metadata": {},
     "output_type": "display_data"
    },
    {
     "data": {
      "application/vnd.plotly.v1+json": {
       "config": {
        "plotlyServerURL": "https://plot.ly"
       },
       "data": [
        {
         "hovertemplate": "run=0<br>simulation_time=%{x}<br>utilisation=%{y}<extra></extra>",
         "legendgroup": "0",
         "line": {
          "color": "#636efa",
          "dash": "solid"
         },
         "marker": {
          "symbol": "circle"
         },
         "mode": "lines",
         "name": "0",
         "showlegend": true,
         "type": "scattergl",
         "x": [
          18720,
          18840,
          18960,
          19080,
          19200,
          19320,
          19440,
          19560,
          19680,
          19800,
          19920,
          20040,
          20160,
          20280,
          20400,
          20520,
          20640,
          20760,
          20880,
          21000,
          21120,
          21240,
          21360,
          21480,
          21600,
          21720,
          21840,
          21960,
          22080,
          22200,
          22320,
          22440,
          22560,
          22680,
          22800,
          22920,
          23040,
          23160,
          23280,
          23400,
          23520,
          23640,
          23760,
          23880,
          24000,
          24120,
          24240,
          24360,
          24480,
          24600,
          24720,
          24840,
          24960,
          25080,
          25200,
          25320,
          25440,
          25560,
          25680,
          25800,
          25920,
          26040,
          26160,
          26280,
          26400,
          26520,
          26640,
          26760,
          26880,
          27000,
          27120,
          27240,
          27360,
          27480,
          27600,
          27720,
          27840,
          27960,
          28080,
          28200,
          28320,
          28440,
          28560,
          28680,
          28800,
          28920,
          29040,
          29160,
          29280,
          29400,
          29520,
          29640,
          29760,
          29880,
          30000,
          30120,
          30240,
          30360,
          30480,
          30600,
          30720,
          30840,
          30960,
          31080,
          31200,
          31320,
          31440,
          31560,
          31680,
          31800,
          31920,
          32040,
          32160,
          32280,
          32400,
          32520,
          32640,
          32760,
          32880,
          33000,
          33120,
          33240,
          33360,
          33480,
          33600,
          33720,
          33840,
          33960,
          34080,
          34200,
          34320,
          34440,
          34560,
          34680,
          34800,
          34920,
          35040,
          35160,
          35280,
          35400,
          35520,
          35640,
          35760,
          35880,
          36000,
          36120,
          36240,
          36360,
          36480,
          36600,
          36720,
          36840,
          36960,
          37080,
          37200,
          37320,
          37440,
          37560,
          37680,
          37800,
          37920,
          38040,
          38160,
          38280,
          38400,
          38520,
          38640,
          38760,
          38880,
          39000,
          39120,
          39240,
          39360,
          39480,
          39600,
          39720,
          39840,
          39960,
          40080,
          40200,
          40320,
          40440,
          40560,
          40680,
          40800,
          40920,
          41040,
          41160,
          41280,
          41400,
          41520,
          41640,
          41760,
          41880,
          42000,
          42120,
          42240,
          42360,
          42480,
          42600,
          42720,
          42840,
          42960,
          43080,
          43200,
          43320,
          43440,
          43560,
          43680,
          43800,
          43920,
          44040,
          44160,
          44280,
          44400,
          44520,
          44640,
          44760,
          44880,
          45000,
          45120,
          45240,
          45360,
          45480,
          45600,
          45720,
          45840,
          45960,
          46080,
          46200,
          46320,
          46440,
          46560,
          46680,
          46800,
          46920,
          47040,
          47160,
          47280,
          47400,
          47520,
          47640,
          47760,
          47880,
          48000,
          48120,
          48240,
          48360,
          48480,
          48600,
          48720,
          48840,
          48960,
          49080,
          49200,
          49320,
          49440,
          49560,
          49680,
          49800,
          49920,
          50040,
          50160,
          50280,
          50400,
          50520,
          50640,
          50760,
          50880,
          51000,
          51120,
          51240,
          51360,
          51480,
          51600,
          51720,
          51840,
          51960,
          52080,
          52200,
          52320,
          52440,
          52560,
          52680,
          52800,
          52920,
          53040,
          53160,
          53280,
          53400,
          53520,
          53640,
          53760,
          53880,
          54000,
          54120,
          54240,
          54360,
          54480,
          54600,
          54720,
          54840,
          54960,
          55080,
          55200,
          55320,
          55440,
          55560,
          55680,
          55800,
          55920,
          56040,
          56160,
          56280,
          56400,
          56520,
          56640,
          56760,
          56880,
          57000,
          57120,
          57240,
          57360,
          57480,
          57600,
          57720,
          57840,
          57960,
          58080,
          58200,
          58320,
          58440,
          58560,
          58680,
          58800,
          58920,
          59040,
          59160,
          59280,
          59400,
          59520,
          59640,
          59760,
          59880,
          60000,
          60120,
          60240,
          60360,
          60480,
          60600,
          60720,
          60840,
          60960,
          61080,
          61200,
          61320,
          61440,
          61560,
          61680,
          61800
         ],
         "xaxis": "x",
         "y": [
          0.6,
          0.4,
          0.6,
          1,
          0.6,
          0.4,
          0.8,
          0.4,
          0.4,
          0.4,
          0,
          0.4,
          0.2,
          0.6,
          0.4,
          0.4,
          0.6,
          0.6,
          0.2,
          1,
          0.2,
          0.4,
          0.4,
          0.2,
          1,
          0.6,
          0.2,
          0.4,
          0,
          0.2,
          0.4,
          0.6,
          0.2,
          0.8,
          1,
          0.8,
          1,
          0.6,
          0.6,
          0.4,
          0.6,
          1,
          0.6,
          0.8,
          0.6,
          0.4,
          0,
          0.6,
          0.4,
          0.4,
          0.2,
          0,
          0.8,
          0.4,
          0.2,
          0.2,
          0,
          1,
          0.8,
          1,
          0.8,
          0.2,
          0.2,
          0.4,
          0.4,
          0.4,
          1,
          0,
          1,
          0.6,
          0.2,
          0.4,
          0.2,
          0.2,
          0.2,
          1,
          0.6,
          0.8,
          1,
          0,
          0.4,
          0.2,
          0.6,
          1,
          0.2,
          0,
          0.6,
          0.2,
          0.4,
          0.2,
          0.6,
          0.8,
          0.6,
          0.2,
          0.8,
          0.6,
          1,
          0.2,
          0,
          1,
          0.6,
          0.2,
          0.4,
          0.4,
          0.4,
          0.4,
          1,
          0,
          1,
          0.6,
          0.6,
          0.6,
          0,
          0.4,
          0.8,
          0.2,
          0.2,
          0.4,
          1,
          0.6,
          0.4,
          0.2,
          0.4,
          0.8,
          0.4,
          1,
          0.6,
          1,
          0.2,
          0.4,
          0.4,
          0.6,
          0.6,
          0,
          0.6,
          0.8,
          0.6,
          0.2,
          0.4,
          0.2,
          0.4,
          0.4,
          0.2,
          0.4,
          0.8,
          0.6,
          0.2,
          0,
          0.4,
          0.4,
          0.4,
          0.8,
          0.6,
          0.2,
          0.4,
          0.4,
          0.8,
          0.2,
          1,
          0.6,
          0.4,
          0.2,
          1,
          0.6,
          0.4,
          0.4,
          0.6,
          0.6,
          0.8,
          0.2,
          0.8,
          0.6,
          0,
          0.4,
          1,
          0.4,
          0.2,
          0.2,
          0,
          0.4,
          0.6,
          0.6,
          0,
          1,
          0.4,
          0.2,
          0.2,
          0.4,
          0,
          0,
          0.6,
          1,
          0,
          0.8,
          0.2,
          0.6,
          0.6,
          0.6,
          0.4,
          0.8,
          0.4,
          0.2,
          0.6,
          0.6,
          0.2,
          1,
          0.2,
          0.4,
          0.6,
          0.2,
          0.2,
          0.6,
          0.8,
          0.8,
          0.8,
          0,
          0.4,
          1,
          1,
          0.2,
          0.6,
          0.4,
          0.6,
          1,
          0.2,
          0.6,
          0.8,
          0.6,
          0.4,
          1,
          0.6,
          1,
          0.4,
          0.2,
          0.4,
          0.4,
          0.8,
          0.6,
          0.4,
          1,
          0.2,
          0.2,
          0.2,
          0.2,
          0,
          0.2,
          0.4,
          0,
          0.4,
          1,
          0.8,
          1,
          1,
          0.4,
          0.8,
          0.2,
          0.6,
          1,
          0.4,
          0.6,
          0.2,
          0.6,
          0.4,
          0.6,
          0.4,
          1,
          0.4,
          0,
          0.4,
          1,
          0.6,
          0.4,
          0.4,
          0.4,
          0,
          0.2,
          0.2,
          0.4,
          0.4,
          0.2,
          0.6,
          0.2,
          0.6,
          1,
          0.6,
          0.2,
          0.2,
          0.4,
          0.8,
          0.2,
          0.2,
          0.6,
          0.4,
          0.6,
          0.6,
          0.2,
          0.8,
          0.4,
          0.4,
          0.8,
          1,
          0.4,
          0.2,
          0.4,
          0.6,
          0,
          0.6,
          0.6,
          1,
          1,
          1,
          0.4,
          0.2,
          0.8,
          0.2,
          0.8,
          0.4,
          0.4,
          0.6,
          0.4,
          0.8,
          0.4,
          0.2,
          0.2,
          1,
          0.4,
          0.2,
          0.2,
          0.4,
          1,
          0.8,
          0.8,
          0.4,
          0.2,
          0.6,
          0.6,
          0.6,
          1,
          0.8,
          0,
          0.6,
          0.4,
          0.4,
          0.8,
          0.6,
          0.2,
          0.4,
          0.4,
          0.4,
          0.2,
          0,
          0.2,
          0.8,
          0.6,
          0.2,
          0.2,
          0.4,
          0.4,
          0.8,
          0.6
         ],
         "yaxis": "y"
        },
        {
         "hovertemplate": "run=1<br>simulation_time=%{x}<br>utilisation=%{y}<extra></extra>",
         "legendgroup": "1",
         "line": {
          "color": "#EF553B",
          "dash": "solid"
         },
         "marker": {
          "symbol": "circle"
         },
         "mode": "lines",
         "name": "1",
         "showlegend": true,
         "type": "scattergl",
         "x": [
          18720,
          18840,
          18960,
          19080,
          19200,
          19320,
          19440,
          19560,
          19680,
          19800,
          19920,
          20040,
          20160,
          20280,
          20400,
          20520,
          20640,
          20760,
          20880,
          21000,
          21120,
          21240,
          21360,
          21480,
          21600,
          21720,
          21840,
          21960,
          22080,
          22200,
          22320,
          22440,
          22560,
          22680,
          22800,
          22920,
          23040,
          23160,
          23280,
          23400,
          23520,
          23640,
          23760,
          23880,
          24000,
          24120,
          24240,
          24360,
          24480,
          24600,
          24720,
          24840,
          24960,
          25080,
          25200,
          25320,
          25440,
          25560,
          25680,
          25800,
          25920,
          26040,
          26160,
          26280,
          26400,
          26520,
          26640,
          26760,
          26880,
          27000,
          27120,
          27240,
          27360,
          27480,
          27600,
          27720,
          27840,
          27960,
          28080,
          28200,
          28320,
          28440,
          28560,
          28680,
          28800,
          28920,
          29040,
          29160,
          29280,
          29400,
          29520,
          29640,
          29760,
          29880,
          30000,
          30120,
          30240,
          30360,
          30480,
          30600,
          30720,
          30840,
          30960,
          31080,
          31200,
          31320,
          31440,
          31560,
          31680,
          31800,
          31920,
          32040,
          32160,
          32280,
          32400,
          32520,
          32640,
          32760,
          32880,
          33000,
          33120,
          33240,
          33360,
          33480,
          33600,
          33720,
          33840,
          33960,
          34080,
          34200,
          34320,
          34440,
          34560,
          34680,
          34800,
          34920,
          35040,
          35160,
          35280,
          35400,
          35520,
          35640,
          35760,
          35880,
          36000,
          36120,
          36240,
          36360,
          36480,
          36600,
          36720,
          36840,
          36960,
          37080,
          37200,
          37320,
          37440,
          37560,
          37680,
          37800,
          37920,
          38040,
          38160,
          38280,
          38400,
          38520,
          38640,
          38760,
          38880,
          39000,
          39120,
          39240,
          39360,
          39480,
          39600,
          39720,
          39840,
          39960,
          40080,
          40200,
          40320,
          40440,
          40560,
          40680,
          40800,
          40920,
          41040,
          41160,
          41280,
          41400,
          41520,
          41640,
          41760,
          41880,
          42000,
          42120,
          42240,
          42360,
          42480,
          42600,
          42720,
          42840,
          42960,
          43080,
          43200,
          43320,
          43440,
          43560,
          43680,
          43800,
          43920,
          44040,
          44160,
          44280,
          44400,
          44520,
          44640,
          44760,
          44880,
          45000,
          45120,
          45240,
          45360,
          45480,
          45600,
          45720,
          45840,
          45960,
          46080,
          46200,
          46320,
          46440,
          46560,
          46680,
          46800,
          46920,
          47040,
          47160,
          47280,
          47400,
          47520,
          47640,
          47760,
          47880,
          48000,
          48120,
          48240,
          48360,
          48480,
          48600,
          48720,
          48840,
          48960,
          49080,
          49200,
          49320,
          49440,
          49560,
          49680,
          49800,
          49920,
          50040,
          50160,
          50280,
          50400,
          50520,
          50640,
          50760,
          50880,
          51000,
          51120,
          51240,
          51360,
          51480,
          51600,
          51720,
          51840,
          51960,
          52080,
          52200,
          52320,
          52440,
          52560,
          52680,
          52800,
          52920,
          53040,
          53160,
          53280,
          53400,
          53520,
          53640,
          53760,
          53880,
          54000,
          54120,
          54240,
          54360,
          54480,
          54600,
          54720,
          54840,
          54960,
          55080,
          55200,
          55320,
          55440,
          55560,
          55680,
          55800,
          55920,
          56040,
          56160,
          56280,
          56400,
          56520,
          56640,
          56760,
          56880,
          57000,
          57120,
          57240,
          57360,
          57480,
          57600,
          57720,
          57840,
          57960,
          58080,
          58200,
          58320,
          58440,
          58560,
          58680,
          58800,
          58920,
          59040,
          59160,
          59280,
          59400,
          59520,
          59640,
          59760,
          59880,
          60000,
          60120,
          60240,
          60360,
          60480,
          60600,
          60720,
          60840,
          60960,
          61080,
          61200,
          61320,
          61440,
          61560,
          61680,
          61800
         ],
         "xaxis": "x",
         "y": [
          0.6,
          0.2,
          0,
          0.2,
          1,
          0.2,
          0.6,
          0.2,
          1,
          0.2,
          0.8,
          0.8,
          0.6,
          0.6,
          0.6,
          0.8,
          0.8,
          0,
          0.6,
          0.6,
          0.8,
          0.8,
          0.4,
          0.4,
          0.2,
          0.6,
          0.8,
          0.8,
          0.4,
          0.4,
          0.4,
          0.2,
          0.2,
          0.4,
          0.8,
          0.6,
          0.8,
          0.2,
          0.4,
          0.8,
          1,
          0.2,
          0,
          0,
          0.6,
          0.6,
          0.2,
          0.4,
          0.8,
          0.8,
          0.2,
          0.2,
          0.8,
          0.4,
          1,
          0.2,
          0.4,
          0.2,
          0.2,
          0.2,
          0.4,
          0.8,
          0.8,
          0.6,
          0.4,
          0.6,
          0.6,
          0.4,
          0.2,
          0.6,
          0.4,
          0.4,
          0.8,
          0.4,
          0.2,
          0.8,
          0.6,
          0.4,
          1,
          1,
          0.6,
          0.2,
          0.2,
          0.2,
          0,
          0.2,
          0.6,
          0.8,
          0.4,
          0.6,
          0.4,
          0,
          0.2,
          0.2,
          0.4,
          0.4,
          0.6,
          0.8,
          0.8,
          0.4,
          0.4,
          0.8,
          1,
          0.4,
          0.6,
          1,
          0.2,
          0.4,
          0.6,
          0.6,
          0.2,
          0.2,
          0.4,
          0.8,
          1,
          0,
          0.2,
          0.6,
          0.4,
          0.4,
          0.4,
          1,
          0.6,
          1,
          0.6,
          0.6,
          0.2,
          1,
          0.4,
          0.2,
          0.4,
          0.2,
          0.2,
          0.4,
          0.6,
          0.4,
          0,
          0.6,
          0.4,
          0.4,
          0.4,
          0.2,
          0.6,
          0.4,
          0.6,
          0.4,
          0.4,
          0.6,
          0.6,
          0.2,
          0.6,
          0.6,
          1,
          0.4,
          0,
          0.6,
          0.4,
          0,
          0.8,
          0.6,
          0.8,
          1,
          0.8,
          1,
          0.2,
          0.4,
          0.4,
          0.8,
          0,
          0.8,
          0.8,
          0.6,
          0,
          0.4,
          0.8,
          0.4,
          0.6,
          0.4,
          0.4,
          0.4,
          0.6,
          0,
          0.6,
          0.2,
          0.6,
          0.6,
          0.6,
          0.2,
          0.2,
          1,
          0.6,
          0.6,
          0.8,
          0.6,
          0.8,
          0.2,
          0.4,
          0.6,
          0.4,
          0.6,
          0.2,
          1,
          0.6,
          0.4,
          0.2,
          0.4,
          0.8,
          0.4,
          1,
          0.4,
          1,
          0.2,
          0.2,
          0.8,
          0.2,
          0.6,
          0.2,
          0.2,
          1,
          0.4,
          0.2,
          1,
          0.4,
          0.6,
          0.4,
          0.2,
          0.4,
          0.8,
          0.8,
          0.2,
          0.4,
          0.6,
          0.8,
          0.6,
          0.6,
          0.4,
          0.4,
          0.8,
          1,
          0.2,
          0.6,
          0.6,
          0.6,
          0,
          1,
          0.2,
          0.2,
          0,
          0.6,
          0.4,
          1,
          0.2,
          1,
          0.2,
          1,
          0.4,
          0.2,
          0.2,
          0.6,
          0.4,
          0.6,
          0.6,
          1,
          0.4,
          0.4,
          0.6,
          0.6,
          0.8,
          0.8,
          1,
          0.8,
          0.2,
          0.6,
          0.4,
          0.4,
          0.8,
          1,
          0.8,
          0.8,
          0.8,
          0.8,
          0,
          0.4,
          0.4,
          0.8,
          0.6,
          0.2,
          0.4,
          0.8,
          0.6,
          0.4,
          0.8,
          1,
          0.4,
          0.2,
          0.6,
          0.2,
          0.2,
          0.6,
          1,
          0.6,
          0.2,
          0.4,
          0,
          0,
          0,
          0.8,
          0.6,
          0.4,
          0,
          0.2,
          0.2,
          1,
          0.4,
          0,
          0.4,
          0.4,
          0.6,
          0,
          0.4,
          0.4,
          0.4,
          1,
          0.6,
          1,
          0.4,
          0.6,
          0.6,
          0.8,
          0.6,
          1,
          0.6,
          0.2,
          1,
          0.6,
          1,
          0,
          0,
          0.2,
          0,
          0,
          0.4,
          0.2,
          0.6,
          0.8,
          0.6,
          0.2,
          0,
          1,
          0.6,
          0.2,
          0.4,
          0.6,
          0.4,
          1,
          0.4,
          0,
          0.4,
          0.6,
          0.2
         ],
         "yaxis": "y"
        },
        {
         "hovertemplate": "run=2<br>simulation_time=%{x}<br>utilisation=%{y}<extra></extra>",
         "legendgroup": "2",
         "line": {
          "color": "#00cc96",
          "dash": "solid"
         },
         "marker": {
          "symbol": "circle"
         },
         "mode": "lines",
         "name": "2",
         "showlegend": true,
         "type": "scattergl",
         "x": [
          18720,
          18840,
          18960,
          19080,
          19200,
          19320,
          19440,
          19560,
          19680,
          19800,
          19920,
          20040,
          20160,
          20280,
          20400,
          20520,
          20640,
          20760,
          20880,
          21000,
          21120,
          21240,
          21360,
          21480,
          21600,
          21720,
          21840,
          21960,
          22080,
          22200,
          22320,
          22440,
          22560,
          22680,
          22800,
          22920,
          23040,
          23160,
          23280,
          23400,
          23520,
          23640,
          23760,
          23880,
          24000,
          24120,
          24240,
          24360,
          24480,
          24600,
          24720,
          24840,
          24960,
          25080,
          25200,
          25320,
          25440,
          25560,
          25680,
          25800,
          25920,
          26040,
          26160,
          26280,
          26400,
          26520,
          26640,
          26760,
          26880,
          27000,
          27120,
          27240,
          27360,
          27480,
          27600,
          27720,
          27840,
          27960,
          28080,
          28200,
          28320,
          28440,
          28560,
          28680,
          28800,
          28920,
          29040,
          29160,
          29280,
          29400,
          29520,
          29640,
          29760,
          29880,
          30000,
          30120,
          30240,
          30360,
          30480,
          30600,
          30720,
          30840,
          30960,
          31080,
          31200,
          31320,
          31440,
          31560,
          31680,
          31800,
          31920,
          32040,
          32160,
          32280,
          32400,
          32520,
          32640,
          32760,
          32880,
          33000,
          33120,
          33240,
          33360,
          33480,
          33600,
          33720,
          33840,
          33960,
          34080,
          34200,
          34320,
          34440,
          34560,
          34680,
          34800,
          34920,
          35040,
          35160,
          35280,
          35400,
          35520,
          35640,
          35760,
          35880,
          36000,
          36120,
          36240,
          36360,
          36480,
          36600,
          36720,
          36840,
          36960,
          37080,
          37200,
          37320,
          37440,
          37560,
          37680,
          37800,
          37920,
          38040,
          38160,
          38280,
          38400,
          38520,
          38640,
          38760,
          38880,
          39000,
          39120,
          39240,
          39360,
          39480,
          39600,
          39720,
          39840,
          39960,
          40080,
          40200,
          40320,
          40440,
          40560,
          40680,
          40800,
          40920,
          41040,
          41160,
          41280,
          41400,
          41520,
          41640,
          41760,
          41880,
          42000,
          42120,
          42240,
          42360,
          42480,
          42600,
          42720,
          42840,
          42960,
          43080,
          43200,
          43320,
          43440,
          43560,
          43680,
          43800,
          43920,
          44040,
          44160,
          44280,
          44400,
          44520,
          44640,
          44760,
          44880,
          45000,
          45120,
          45240,
          45360,
          45480,
          45600,
          45720,
          45840,
          45960,
          46080,
          46200,
          46320,
          46440,
          46560,
          46680,
          46800,
          46920,
          47040,
          47160,
          47280,
          47400,
          47520,
          47640,
          47760,
          47880,
          48000,
          48120,
          48240,
          48360,
          48480,
          48600,
          48720,
          48840,
          48960,
          49080,
          49200,
          49320,
          49440,
          49560,
          49680,
          49800,
          49920,
          50040,
          50160,
          50280,
          50400,
          50520,
          50640,
          50760,
          50880,
          51000,
          51120,
          51240,
          51360,
          51480,
          51600,
          51720,
          51840,
          51960,
          52080,
          52200,
          52320,
          52440,
          52560,
          52680,
          52800,
          52920,
          53040,
          53160,
          53280,
          53400,
          53520,
          53640,
          53760,
          53880,
          54000,
          54120,
          54240,
          54360,
          54480,
          54600,
          54720,
          54840,
          54960,
          55080,
          55200,
          55320,
          55440,
          55560,
          55680,
          55800,
          55920,
          56040,
          56160,
          56280,
          56400,
          56520,
          56640,
          56760,
          56880,
          57000,
          57120,
          57240,
          57360,
          57480,
          57600,
          57720,
          57840,
          57960,
          58080,
          58200,
          58320,
          58440,
          58560,
          58680,
          58800,
          58920,
          59040,
          59160,
          59280,
          59400,
          59520,
          59640,
          59760,
          59880,
          60000,
          60120,
          60240,
          60360,
          60480,
          60600,
          60720,
          60840,
          60960,
          61080,
          61200,
          61320,
          61440,
          61560,
          61680,
          61800
         ],
         "xaxis": "x",
         "y": [
          0.6,
          0.6,
          0.2,
          0.4,
          0.8,
          0.2,
          0.4,
          0.4,
          0.6,
          1,
          0.2,
          0.4,
          0.2,
          0.2,
          0.6,
          0.2,
          0.8,
          0.2,
          0.6,
          0.4,
          1,
          0.6,
          0.8,
          0.8,
          0.8,
          0,
          1,
          0.4,
          0.6,
          0,
          0.6,
          0.6,
          0.2,
          0.6,
          0.6,
          0.2,
          0.2,
          0,
          0.6,
          0.2,
          0.8,
          0.6,
          0.8,
          1,
          1,
          0.6,
          0.2,
          0.2,
          0.2,
          0,
          0.4,
          0.4,
          0.4,
          0.2,
          0.4,
          0.4,
          0.6,
          0.6,
          0.8,
          0.2,
          0.4,
          0.4,
          0.6,
          0.6,
          0.6,
          0.4,
          0.2,
          0.8,
          0.2,
          1,
          1,
          0.6,
          0.2,
          0.2,
          1,
          0.8,
          0.4,
          0.6,
          0.2,
          0.4,
          0.4,
          0.4,
          0.6,
          0.4,
          1,
          0.4,
          1,
          0,
          0.4,
          1,
          1,
          0.6,
          0.4,
          0.8,
          0.4,
          0.4,
          0,
          0.2,
          0.4,
          0.6,
          0.6,
          0.6,
          0.2,
          0.2,
          0.6,
          1,
          0.6,
          0.2,
          0.6,
          0,
          0.2,
          0.6,
          0.8,
          0.2,
          0.4,
          0.4,
          0.2,
          0,
          0.4,
          0.8,
          0.2,
          0.2,
          0.4,
          0.2,
          0.2,
          1,
          0.4,
          0.4,
          0.2,
          0.2,
          0.4,
          1,
          0.8,
          0.4,
          0.2,
          0.6,
          0.2,
          0,
          0.4,
          0.6,
          0.8,
          0.4,
          0.2,
          0.6,
          0.4,
          0.4,
          0.6,
          0.4,
          0.6,
          0.2,
          1,
          0.4,
          0.4,
          0.4,
          0.4,
          0.6,
          1,
          0.6,
          0.2,
          0.4,
          0,
          0.4,
          1,
          0.4,
          0.6,
          0.4,
          0.8,
          0.8,
          0.4,
          0,
          1,
          1,
          0.4,
          1,
          0.6,
          0.4,
          0.2,
          0.4,
          0.6,
          0.6,
          0.4,
          0.4,
          0.4,
          0.4,
          0.4,
          1,
          1,
          0.4,
          0.8,
          0.2,
          0.6,
          1,
          0.6,
          0.8,
          0.4,
          1,
          1,
          0.2,
          0.8,
          0.2,
          0.4,
          0.4,
          0.4,
          1,
          0.8,
          0.6,
          1,
          0.2,
          0.2,
          0,
          0.8,
          0,
          0.6,
          0.6,
          0.8,
          0.2,
          0.4,
          1,
          1,
          0.4,
          0.8,
          0.8,
          0.2,
          0.6,
          0.6,
          0.2,
          0.8,
          0.4,
          1,
          1,
          0,
          0.4,
          0.8,
          0.6,
          0.2,
          0.2,
          0.4,
          0.2,
          0.6,
          0.4,
          0.6,
          0.4,
          0.2,
          1,
          0.2,
          0.2,
          0.6,
          0.4,
          1,
          0.6,
          0.6,
          0.2,
          0.8,
          0.8,
          0.6,
          0.4,
          0.2,
          0.2,
          0.4,
          0,
          0.4,
          0,
          0.4,
          0.2,
          1,
          0.2,
          0.2,
          0.6,
          0.2,
          0.4,
          0.2,
          0.6,
          0.2,
          1,
          0,
          0.4,
          0.2,
          0.4,
          0.6,
          0.4,
          0.8,
          0.2,
          0.8,
          0.2,
          0,
          0.2,
          0.4,
          0.2,
          0.8,
          0.6,
          0.6,
          0.8,
          0.6,
          0.4,
          0.4,
          0.2,
          0,
          1,
          0.8,
          0.6,
          0.6,
          1,
          0.6,
          0,
          0.8,
          0.4,
          0.4,
          0.6,
          0.6,
          0.6,
          0,
          0,
          0,
          0,
          0.2,
          0,
          0.4,
          0.8,
          0,
          0.8,
          0.4,
          0.2,
          0.8,
          0.2,
          1,
          0.4,
          0.8,
          0.6,
          0.6,
          0.2,
          0.4,
          0.4,
          1,
          0.6,
          0.4,
          0.6,
          1,
          0.2,
          0.2,
          0.4,
          0.4,
          0.4,
          0.8,
          0.4,
          1,
          1,
          0.2,
          0.4,
          1,
          0.4,
          0.4,
          0.2,
          0.4,
          1,
          0.6,
          0.4,
          0.6,
          0.6,
          0.4,
          0.2
         ],
         "yaxis": "y"
        },
        {
         "hovertemplate": "run=3<br>simulation_time=%{x}<br>utilisation=%{y}<extra></extra>",
         "legendgroup": "3",
         "line": {
          "color": "#ab63fa",
          "dash": "solid"
         },
         "marker": {
          "symbol": "circle"
         },
         "mode": "lines",
         "name": "3",
         "showlegend": true,
         "type": "scattergl",
         "x": [
          18720,
          18840,
          18960,
          19080,
          19200,
          19320,
          19440,
          19560,
          19680,
          19800,
          19920,
          20040,
          20160,
          20280,
          20400,
          20520,
          20640,
          20760,
          20880,
          21000,
          21120,
          21240,
          21360,
          21480,
          21600,
          21720,
          21840,
          21960,
          22080,
          22200,
          22320,
          22440,
          22560,
          22680,
          22800,
          22920,
          23040,
          23160,
          23280,
          23400,
          23520,
          23640,
          23760,
          23880,
          24000,
          24120,
          24240,
          24360,
          24480,
          24600,
          24720,
          24840,
          24960,
          25080,
          25200,
          25320,
          25440,
          25560,
          25680,
          25800,
          25920,
          26040,
          26160,
          26280,
          26400,
          26520,
          26640,
          26760,
          26880,
          27000,
          27120,
          27240,
          27360,
          27480,
          27600,
          27720,
          27840,
          27960,
          28080,
          28200,
          28320,
          28440,
          28560,
          28680,
          28800,
          28920,
          29040,
          29160,
          29280,
          29400,
          29520,
          29640,
          29760,
          29880,
          30000,
          30120,
          30240,
          30360,
          30480,
          30600,
          30720,
          30840,
          30960,
          31080,
          31200,
          31320,
          31440,
          31560,
          31680,
          31800,
          31920,
          32040,
          32160,
          32280,
          32400,
          32520,
          32640,
          32760,
          32880,
          33000,
          33120,
          33240,
          33360,
          33480,
          33600,
          33720,
          33840,
          33960,
          34080,
          34200,
          34320,
          34440,
          34560,
          34680,
          34800,
          34920,
          35040,
          35160,
          35280,
          35400,
          35520,
          35640,
          35760,
          35880,
          36000,
          36120,
          36240,
          36360,
          36480,
          36600,
          36720,
          36840,
          36960,
          37080,
          37200,
          37320,
          37440,
          37560,
          37680,
          37800,
          37920,
          38040,
          38160,
          38280,
          38400,
          38520,
          38640,
          38760,
          38880,
          39000,
          39120,
          39240,
          39360,
          39480,
          39600,
          39720,
          39840,
          39960,
          40080,
          40200,
          40320,
          40440,
          40560,
          40680,
          40800,
          40920,
          41040,
          41160,
          41280,
          41400,
          41520,
          41640,
          41760,
          41880,
          42000,
          42120,
          42240,
          42360,
          42480,
          42600,
          42720,
          42840,
          42960,
          43080,
          43200,
          43320,
          43440,
          43560,
          43680,
          43800,
          43920,
          44040,
          44160,
          44280,
          44400,
          44520,
          44640,
          44760,
          44880,
          45000,
          45120,
          45240,
          45360,
          45480,
          45600,
          45720,
          45840,
          45960,
          46080,
          46200,
          46320,
          46440,
          46560,
          46680,
          46800,
          46920,
          47040,
          47160,
          47280,
          47400,
          47520,
          47640,
          47760,
          47880,
          48000,
          48120,
          48240,
          48360,
          48480,
          48600,
          48720,
          48840,
          48960,
          49080,
          49200,
          49320,
          49440,
          49560,
          49680,
          49800,
          49920,
          50040,
          50160,
          50280,
          50400,
          50520,
          50640,
          50760,
          50880,
          51000,
          51120,
          51240,
          51360,
          51480,
          51600,
          51720,
          51840,
          51960,
          52080,
          52200,
          52320,
          52440,
          52560,
          52680,
          52800,
          52920,
          53040,
          53160,
          53280,
          53400,
          53520,
          53640,
          53760,
          53880,
          54000,
          54120,
          54240,
          54360,
          54480,
          54600,
          54720,
          54840,
          54960,
          55080,
          55200,
          55320,
          55440,
          55560,
          55680,
          55800,
          55920,
          56040,
          56160,
          56280,
          56400,
          56520,
          56640,
          56760,
          56880,
          57000,
          57120,
          57240,
          57360,
          57480,
          57600,
          57720,
          57840,
          57960,
          58080,
          58200,
          58320,
          58440,
          58560,
          58680,
          58800,
          58920,
          59040,
          59160,
          59280,
          59400,
          59520,
          59640,
          59760,
          59880,
          60000,
          60120,
          60240,
          60360,
          60480,
          60600,
          60720,
          60840,
          60960,
          61080,
          61200,
          61320,
          61440,
          61560,
          61680,
          61800
         ],
         "xaxis": "x",
         "y": [
          0.2,
          0,
          0.2,
          0.2,
          0.6,
          0.8,
          0,
          0.2,
          0.4,
          0.2,
          1,
          0.4,
          0,
          0.8,
          0.2,
          0.4,
          0.6,
          0.4,
          0.4,
          0.6,
          0.2,
          0.2,
          0.4,
          1,
          0.6,
          0.8,
          1,
          0.6,
          0.8,
          0.2,
          0.4,
          0.4,
          0.6,
          0.8,
          0.2,
          0.6,
          0.6,
          0.6,
          1,
          0.6,
          0.6,
          0.4,
          0.4,
          0.2,
          0.2,
          1,
          0.6,
          0.6,
          0.4,
          0.4,
          0,
          1,
          0.2,
          0.8,
          0.8,
          0,
          0.6,
          0.2,
          0.4,
          0.6,
          0.2,
          0.6,
          1,
          0.8,
          0.2,
          0.6,
          0.4,
          0.6,
          0.2,
          0.2,
          0.2,
          1,
          0.6,
          0,
          0.6,
          0.4,
          0.4,
          0.6,
          0.2,
          0.4,
          0.2,
          0.4,
          1,
          0.6,
          0.4,
          1,
          0.2,
          0.8,
          0.8,
          0.4,
          0.8,
          0.4,
          0.6,
          0.8,
          0.4,
          0.2,
          0.4,
          0,
          0,
          0.2,
          0.4,
          0.4,
          0.4,
          0.4,
          0.4,
          0.6,
          0.4,
          1,
          0.4,
          0.6,
          0.6,
          0.2,
          1,
          1,
          1,
          0.6,
          0.4,
          1,
          0.4,
          0.8,
          0.2,
          0.8,
          0.6,
          0.8,
          1,
          1,
          0,
          0.6,
          0.2,
          0.2,
          0,
          0.8,
          0.2,
          1,
          0.4,
          0.2,
          0.4,
          0.2,
          0.2,
          0.6,
          1,
          0,
          1,
          0.8,
          0.4,
          0,
          0.6,
          0.2,
          1,
          0.2,
          0.4,
          0.4,
          0.4,
          0,
          0.4,
          0.8,
          0.6,
          1,
          0.8,
          0.8,
          0.8,
          0.2,
          0.2,
          0,
          0.4,
          1,
          0.4,
          0.2,
          1,
          0.4,
          0.6,
          0.2,
          0.4,
          0.4,
          0.8,
          0,
          0.6,
          0.6,
          0,
          0.2,
          0.4,
          0.6,
          0.8,
          0.8,
          0.6,
          0.8,
          1,
          1,
          0.4,
          0.2,
          0.6,
          0.2,
          0.4,
          0.2,
          1,
          1,
          0.4,
          0.6,
          0.6,
          0.6,
          0.4,
          0.4,
          0,
          0.4,
          0.6,
          0.4,
          0.2,
          0.4,
          0.6,
          1,
          0.2,
          0.6,
          0.4,
          0.8,
          0.4,
          0.2,
          0.2,
          0.2,
          0.4,
          0.4,
          1,
          0.2,
          0.2,
          0.4,
          0.4,
          0.6,
          0.4,
          0.6,
          0.4,
          0,
          0.8,
          0.6,
          0.6,
          0.6,
          0.6,
          0.6,
          0.6,
          0,
          0.6,
          0.8,
          0.2,
          0,
          0.6,
          1,
          1,
          0.8,
          0.4,
          0.8,
          0.6,
          1,
          0.6,
          0.2,
          0.4,
          0.8,
          0.8,
          0.4,
          0,
          0.6,
          0.4,
          0,
          0.2,
          0.6,
          1,
          0.2,
          0.6,
          0.2,
          1,
          0.6,
          1,
          0.4,
          0.6,
          0.6,
          0.6,
          0.4,
          0.8,
          0,
          0.6,
          0.2,
          0.4,
          0.2,
          0.2,
          0.2,
          0.8,
          0.6,
          1,
          0.4,
          0.2,
          1,
          0.4,
          0.4,
          0.6,
          0.2,
          0.4,
          0.6,
          0.4,
          0.4,
          0,
          0.2,
          0.8,
          0.4,
          0.4,
          0.2,
          0.4,
          0.6,
          1,
          0.2,
          0.4,
          0.6,
          1,
          0.8,
          1,
          0.6,
          0.4,
          0.4,
          0.2,
          0.6,
          0.8,
          0,
          0.4,
          0.6,
          0.6,
          0.2,
          0,
          0.6,
          1,
          0.8,
          0.6,
          0.2,
          0.8,
          0.4,
          0.6,
          0.6,
          0.2,
          0.8,
          1,
          0.6,
          0.2,
          0.4,
          0.4,
          0.2,
          0.6,
          0.6,
          1,
          0.4,
          0.2,
          0.4,
          0.8,
          0.8,
          0.4,
          0,
          0.8,
          0.4,
          0.6,
          0,
          0.2,
          0.4,
          0.2,
          0.2,
          1,
          0.2
         ],
         "yaxis": "y"
        },
        {
         "hovertemplate": "run=4<br>simulation_time=%{x}<br>utilisation=%{y}<extra></extra>",
         "legendgroup": "4",
         "line": {
          "color": "#FFA15A",
          "dash": "solid"
         },
         "marker": {
          "symbol": "circle"
         },
         "mode": "lines",
         "name": "4",
         "showlegend": true,
         "type": "scattergl",
         "x": [
          18720,
          18840,
          18960,
          19080,
          19200,
          19320,
          19440,
          19560,
          19680,
          19800,
          19920,
          20040,
          20160,
          20280,
          20400,
          20520,
          20640,
          20760,
          20880,
          21000,
          21120,
          21240,
          21360,
          21480,
          21600,
          21720,
          21840,
          21960,
          22080,
          22200,
          22320,
          22440,
          22560,
          22680,
          22800,
          22920,
          23040,
          23160,
          23280,
          23400,
          23520,
          23640,
          23760,
          23880,
          24000,
          24120,
          24240,
          24360,
          24480,
          24600,
          24720,
          24840,
          24960,
          25080,
          25200,
          25320,
          25440,
          25560,
          25680,
          25800,
          25920,
          26040,
          26160,
          26280,
          26400,
          26520,
          26640,
          26760,
          26880,
          27000,
          27120,
          27240,
          27360,
          27480,
          27600,
          27720,
          27840,
          27960,
          28080,
          28200,
          28320,
          28440,
          28560,
          28680,
          28800,
          28920,
          29040,
          29160,
          29280,
          29400,
          29520,
          29640,
          29760,
          29880,
          30000,
          30120,
          30240,
          30360,
          30480,
          30600,
          30720,
          30840,
          30960,
          31080,
          31200,
          31320,
          31440,
          31560,
          31680,
          31800,
          31920,
          32040,
          32160,
          32280,
          32400,
          32520,
          32640,
          32760,
          32880,
          33000,
          33120,
          33240,
          33360,
          33480,
          33600,
          33720,
          33840,
          33960,
          34080,
          34200,
          34320,
          34440,
          34560,
          34680,
          34800,
          34920,
          35040,
          35160,
          35280,
          35400,
          35520,
          35640,
          35760,
          35880,
          36000,
          36120,
          36240,
          36360,
          36480,
          36600,
          36720,
          36840,
          36960,
          37080,
          37200,
          37320,
          37440,
          37560,
          37680,
          37800,
          37920,
          38040,
          38160,
          38280,
          38400,
          38520,
          38640,
          38760,
          38880,
          39000,
          39120,
          39240,
          39360,
          39480,
          39600,
          39720,
          39840,
          39960,
          40080,
          40200,
          40320,
          40440,
          40560,
          40680,
          40800,
          40920,
          41040,
          41160,
          41280,
          41400,
          41520,
          41640,
          41760,
          41880,
          42000,
          42120,
          42240,
          42360,
          42480,
          42600,
          42720,
          42840,
          42960,
          43080,
          43200,
          43320,
          43440,
          43560,
          43680,
          43800,
          43920,
          44040,
          44160,
          44280,
          44400,
          44520,
          44640,
          44760,
          44880,
          45000,
          45120,
          45240,
          45360,
          45480,
          45600,
          45720,
          45840,
          45960,
          46080,
          46200,
          46320,
          46440,
          46560,
          46680,
          46800,
          46920,
          47040,
          47160,
          47280,
          47400,
          47520,
          47640,
          47760,
          47880,
          48000,
          48120,
          48240,
          48360,
          48480,
          48600,
          48720,
          48840,
          48960,
          49080,
          49200,
          49320,
          49440,
          49560,
          49680,
          49800,
          49920,
          50040,
          50160,
          50280,
          50400,
          50520,
          50640,
          50760,
          50880,
          51000,
          51120,
          51240,
          51360,
          51480,
          51600,
          51720,
          51840,
          51960,
          52080,
          52200,
          52320,
          52440,
          52560,
          52680,
          52800,
          52920,
          53040,
          53160,
          53280,
          53400,
          53520,
          53640,
          53760,
          53880,
          54000,
          54120,
          54240,
          54360,
          54480,
          54600,
          54720,
          54840,
          54960,
          55080,
          55200,
          55320,
          55440,
          55560,
          55680,
          55800,
          55920,
          56040,
          56160,
          56280,
          56400,
          56520,
          56640,
          56760,
          56880,
          57000,
          57120,
          57240,
          57360,
          57480,
          57600,
          57720,
          57840,
          57960,
          58080,
          58200,
          58320,
          58440,
          58560,
          58680,
          58800,
          58920,
          59040,
          59160,
          59280,
          59400,
          59520,
          59640,
          59760,
          59880,
          60000,
          60120,
          60240,
          60360,
          60480,
          60600,
          60720,
          60840,
          60960,
          61080,
          61200,
          61320,
          61440,
          61560,
          61680,
          61800
         ],
         "xaxis": "x",
         "y": [
          0.8,
          0.8,
          0.4,
          0.2,
          0.8,
          0.4,
          0.2,
          0.2,
          0.6,
          0.6,
          0,
          0.6,
          0.8,
          0,
          0.6,
          0.6,
          0.8,
          0.2,
          1,
          0,
          0.4,
          0.2,
          0.4,
          0.6,
          0.6,
          1,
          0.4,
          0.4,
          0.2,
          0.6,
          0.4,
          0.4,
          0.2,
          0.2,
          0.8,
          0.8,
          0.4,
          0.8,
          0.6,
          0.6,
          0.4,
          0.2,
          0.6,
          0,
          1,
          0.6,
          0.6,
          0.4,
          0.2,
          0.4,
          0.2,
          1,
          0.4,
          0.6,
          0,
          0.2,
          0.2,
          0.8,
          0.4,
          0.8,
          0.2,
          0.2,
          0.4,
          0.2,
          0.6,
          1,
          0.4,
          1,
          0.8,
          0.6,
          0.2,
          1,
          0.4,
          0.6,
          0.4,
          0.6,
          0.8,
          0.4,
          0.2,
          0.6,
          0.8,
          0,
          0.4,
          0.4,
          1,
          0.2,
          0.6,
          0.4,
          0.4,
          0.6,
          0,
          0.6,
          0.4,
          0.6,
          1,
          1,
          0.8,
          0.2,
          0.8,
          0.2,
          0.8,
          1,
          0.8,
          0.4,
          0.6,
          0.2,
          0.2,
          0.4,
          0.6,
          0.6,
          0.4,
          1,
          0.2,
          0.4,
          0,
          0.2,
          0.6,
          0.2,
          0,
          0.8,
          0,
          0.4,
          0.6,
          0,
          0.4,
          0.6,
          0.4,
          0.2,
          0.6,
          0.2,
          0.4,
          0.4,
          1,
          0.6,
          0.2,
          0.4,
          0.4,
          0.8,
          0.6,
          0.4,
          0.4,
          1,
          0.8,
          0.2,
          0.4,
          0.4,
          1,
          0.2,
          0,
          0.4,
          0.6,
          1,
          0.4,
          0.6,
          0.6,
          0.4,
          0.6,
          0.4,
          0.2,
          0.6,
          0.4,
          1,
          1,
          0.8,
          0.2,
          1,
          0.4,
          0.6,
          0.6,
          0.4,
          0.6,
          0.2,
          1,
          0.8,
          1,
          0.4,
          0.4,
          0.4,
          0.6,
          0.2,
          0.4,
          0.4,
          0.6,
          0.6,
          0.6,
          0.6,
          0.8,
          0.4,
          0.8,
          0.8,
          0.4,
          0.6,
          0.2,
          1,
          0.6,
          0.8,
          0.4,
          0.2,
          0.6,
          0.8,
          0.6,
          0.4,
          0.4,
          0.2,
          0.6,
          1,
          0.2,
          0.6,
          1,
          0,
          0.6,
          0.4,
          0.6,
          0.4,
          0.2,
          1,
          0.2,
          0.2,
          0.8,
          0.6,
          0.6,
          1,
          0.2,
          0,
          0.6,
          1,
          0,
          0.2,
          1,
          0.4,
          0.6,
          0,
          1,
          0,
          0.4,
          0.4,
          0.2,
          0.2,
          0.8,
          0,
          0.6,
          0.2,
          0,
          0.8,
          0,
          0.6,
          0.8,
          0.8,
          0.2,
          0.8,
          1,
          0.4,
          0.2,
          0.8,
          0.6,
          0.8,
          0.2,
          1,
          0.4,
          0.8,
          0,
          0.4,
          0.6,
          0.2,
          0.6,
          0.4,
          0.2,
          1,
          0.4,
          0.6,
          0.2,
          0.8,
          0,
          0,
          0.2,
          0.2,
          0,
          0.4,
          0.6,
          0.4,
          0.4,
          0,
          0,
          0.8,
          0.2,
          0.8,
          0.2,
          0.2,
          0.4,
          0,
          0.4,
          0,
          0.4,
          0.6,
          0.2,
          0.6,
          0.2,
          0,
          0,
          0.2,
          0.6,
          0.2,
          1,
          0.2,
          0,
          1,
          0.4,
          0.2,
          0,
          0.8,
          1,
          0.2,
          0.8,
          0.2,
          0.8,
          0.8,
          1,
          0.8,
          0.8,
          0.2,
          0.2,
          0.2,
          1,
          0.8,
          0,
          0.2,
          0.4,
          0.2,
          1,
          0.4,
          0.2,
          0.6,
          0,
          0.2,
          1,
          0.4,
          0.6,
          0.4,
          0.4,
          0.6,
          0.2,
          0.2,
          0.6,
          0.6,
          0.4,
          0.4,
          0.8,
          0.4,
          0.8,
          1,
          0.2,
          0.4,
          0.4,
          0.6,
          0,
          0.2,
          0,
          0.8,
          0.6,
          1
         ],
         "yaxis": "y"
        },
        {
         "hovertemplate": "run=5<br>simulation_time=%{x}<br>utilisation=%{y}<extra></extra>",
         "legendgroup": "5",
         "line": {
          "color": "#19d3f3",
          "dash": "solid"
         },
         "marker": {
          "symbol": "circle"
         },
         "mode": "lines",
         "name": "5",
         "showlegend": true,
         "type": "scattergl",
         "x": [
          18720,
          18840,
          18960,
          19080,
          19200,
          19320,
          19440,
          19560,
          19680,
          19800,
          19920,
          20040,
          20160,
          20280,
          20400,
          20520,
          20640,
          20760,
          20880,
          21000,
          21120,
          21240,
          21360,
          21480,
          21600,
          21720,
          21840,
          21960,
          22080,
          22200,
          22320,
          22440,
          22560,
          22680,
          22800,
          22920,
          23040,
          23160,
          23280,
          23400,
          23520,
          23640,
          23760,
          23880,
          24000,
          24120,
          24240,
          24360,
          24480,
          24600,
          24720,
          24840,
          24960,
          25080,
          25200,
          25320,
          25440,
          25560,
          25680,
          25800,
          25920,
          26040,
          26160,
          26280,
          26400,
          26520,
          26640,
          26760,
          26880,
          27000,
          27120,
          27240,
          27360,
          27480,
          27600,
          27720,
          27840,
          27960,
          28080,
          28200,
          28320,
          28440,
          28560,
          28680,
          28800,
          28920,
          29040,
          29160,
          29280,
          29400,
          29520,
          29640,
          29760,
          29880,
          30000,
          30120,
          30240,
          30360,
          30480,
          30600,
          30720,
          30840,
          30960,
          31080,
          31200,
          31320,
          31440,
          31560,
          31680,
          31800,
          31920,
          32040,
          32160,
          32280,
          32400,
          32520,
          32640,
          32760,
          32880,
          33000,
          33120,
          33240,
          33360,
          33480,
          33600,
          33720,
          33840,
          33960,
          34080,
          34200,
          34320,
          34440,
          34560,
          34680,
          34800,
          34920,
          35040,
          35160,
          35280,
          35400,
          35520,
          35640,
          35760,
          35880,
          36000,
          36120,
          36240,
          36360,
          36480,
          36600,
          36720,
          36840,
          36960,
          37080,
          37200,
          37320,
          37440,
          37560,
          37680,
          37800,
          37920,
          38040,
          38160,
          38280,
          38400,
          38520,
          38640,
          38760,
          38880,
          39000,
          39120,
          39240,
          39360,
          39480,
          39600,
          39720,
          39840,
          39960,
          40080,
          40200,
          40320,
          40440,
          40560,
          40680,
          40800,
          40920,
          41040,
          41160,
          41280,
          41400,
          41520,
          41640,
          41760,
          41880,
          42000,
          42120,
          42240,
          42360,
          42480,
          42600,
          42720,
          42840,
          42960,
          43080,
          43200,
          43320,
          43440,
          43560,
          43680,
          43800,
          43920,
          44040,
          44160,
          44280,
          44400,
          44520,
          44640,
          44760,
          44880,
          45000,
          45120,
          45240,
          45360,
          45480,
          45600,
          45720,
          45840,
          45960,
          46080,
          46200,
          46320,
          46440,
          46560,
          46680,
          46800,
          46920,
          47040,
          47160,
          47280,
          47400,
          47520,
          47640,
          47760,
          47880,
          48000,
          48120,
          48240,
          48360,
          48480,
          48600,
          48720,
          48840,
          48960,
          49080,
          49200,
          49320,
          49440,
          49560,
          49680,
          49800,
          49920,
          50040,
          50160,
          50280,
          50400,
          50520,
          50640,
          50760,
          50880,
          51000,
          51120,
          51240,
          51360,
          51480,
          51600,
          51720,
          51840,
          51960,
          52080,
          52200,
          52320,
          52440,
          52560,
          52680,
          52800,
          52920,
          53040,
          53160,
          53280,
          53400,
          53520,
          53640,
          53760,
          53880,
          54000,
          54120,
          54240,
          54360,
          54480,
          54600,
          54720,
          54840,
          54960,
          55080,
          55200,
          55320,
          55440,
          55560,
          55680,
          55800,
          55920,
          56040,
          56160,
          56280,
          56400,
          56520,
          56640,
          56760,
          56880,
          57000,
          57120,
          57240,
          57360,
          57480,
          57600,
          57720,
          57840,
          57960,
          58080,
          58200,
          58320,
          58440,
          58560,
          58680,
          58800,
          58920,
          59040,
          59160,
          59280,
          59400,
          59520,
          59640,
          59760,
          59880,
          60000,
          60120,
          60240,
          60360,
          60480,
          60600,
          60720,
          60840,
          60960,
          61080,
          61200,
          61320,
          61440,
          61560,
          61680,
          61800
         ],
         "xaxis": "x",
         "y": [
          0.8,
          0.2,
          0.4,
          0.6,
          0.6,
          0.6,
          0.6,
          0.8,
          0.4,
          0.4,
          1,
          0.4,
          1,
          0.4,
          0.2,
          0.2,
          0.2,
          0.2,
          0.6,
          0.6,
          0.2,
          0.4,
          0.8,
          0.4,
          0.6,
          0.6,
          0.4,
          0.4,
          0.2,
          0.8,
          0.6,
          0.8,
          0.6,
          0.2,
          0.2,
          0.6,
          0.4,
          0.8,
          0.6,
          0.2,
          0.2,
          0.4,
          0.2,
          0.8,
          0.6,
          0.8,
          0,
          0.8,
          0.4,
          0,
          0.4,
          0,
          0,
          0.6,
          0.2,
          0.2,
          0.8,
          0.2,
          0.4,
          0.4,
          0.8,
          0.4,
          0.6,
          0.4,
          0.4,
          0.6,
          0.2,
          0.4,
          0.8,
          0.4,
          0.6,
          0.8,
          0.2,
          0.8,
          0.8,
          0.4,
          0.4,
          0.4,
          0.2,
          0.6,
          0.2,
          0.4,
          0.6,
          1,
          0.4,
          0.2,
          0.8,
          0.4,
          0.2,
          0.4,
          0.8,
          0.2,
          1,
          0.4,
          0.4,
          0.4,
          0.2,
          0.4,
          0.6,
          0.4,
          0.4,
          0,
          0.8,
          1,
          0.4,
          0.8,
          0.8,
          0.6,
          0.6,
          0.4,
          0.4,
          0,
          0.6,
          0.2,
          1,
          0.8,
          0.8,
          0.8,
          0.6,
          0.6,
          0.6,
          0.4,
          0.2,
          0.2,
          0.8,
          0.4,
          0.4,
          0.6,
          1,
          0.8,
          0.2,
          1,
          0.4,
          0.6,
          0.4,
          0.6,
          0.8,
          0.6,
          0.6,
          0.6,
          0.6,
          0,
          0.6,
          0.4,
          0.2,
          0.4,
          0.2,
          0.2,
          0.4,
          0.6,
          0.4,
          0.6,
          0.2,
          0.8,
          0.2,
          0.2,
          0,
          0.6,
          1,
          0.6,
          1,
          1,
          0.8,
          0.8,
          0.4,
          0.4,
          0.6,
          0.4,
          0.8,
          1,
          1,
          0.4,
          1,
          0.4,
          0.8,
          0.4,
          0.4,
          0.6,
          0.2,
          0.2,
          0.8,
          0,
          0.8,
          0.2,
          0.8,
          0.4,
          0.6,
          0.2,
          0.8,
          0.4,
          0.2,
          0,
          0.2,
          0.8,
          0.2,
          1,
          0.6,
          0.6,
          0.4,
          0.6,
          0.2,
          0.4,
          0.4,
          1,
          0.2,
          0.2,
          0.2,
          1,
          0.4,
          0.6,
          0.4,
          0.4,
          0.4,
          1,
          0.4,
          1,
          0.8,
          0.2,
          0.4,
          0,
          0.8,
          0.4,
          0.2,
          0,
          0,
          0.4,
          1,
          1,
          0.8,
          0.8,
          0,
          0.8,
          0.4,
          0,
          0.2,
          0.2,
          0.8,
          0.6,
          1,
          0.6,
          0.2,
          0.4,
          0.4,
          0.8,
          0,
          0.2,
          0,
          0,
          0.6,
          0.6,
          0.6,
          0.4,
          1,
          0.4,
          1,
          0.4,
          0.2,
          0.6,
          0.6,
          1,
          0.6,
          0.4,
          0.2,
          0.2,
          0.6,
          0.6,
          0.6,
          1,
          0.4,
          0,
          0.6,
          1,
          0.4,
          0.4,
          0.4,
          0.4,
          0.4,
          0.4,
          0.6,
          0.6,
          0.2,
          0.2,
          0.4,
          0.6,
          0.6,
          0.4,
          0.2,
          0.6,
          0.4,
          1,
          0.6,
          0.6,
          0.4,
          0.6,
          0.4,
          0.2,
          0.6,
          0.8,
          0.4,
          0.2,
          0.4,
          0.2,
          0.4,
          0.4,
          0.4,
          1,
          0.6,
          0.4,
          0.6,
          0.2,
          1,
          0,
          0.4,
          0.2,
          0.4,
          0.2,
          1,
          0.6,
          0.6,
          0.4,
          0.4,
          0.8,
          0.4,
          1,
          0.4,
          0.4,
          0.8,
          0.4,
          0.4,
          0.4,
          0.4,
          0.6,
          0.2,
          0.2,
          0.8,
          0,
          0.4,
          0.4,
          0.8,
          0.4,
          0.6,
          0,
          0,
          0.4,
          0,
          1,
          0.4,
          0.4,
          0.2,
          0.6,
          0.6,
          0.6,
          0,
          0.6,
          0.2,
          0.2,
          0.2,
          0.2,
          0.2,
          0.8
         ],
         "yaxis": "y"
        },
        {
         "hovertemplate": "run=6<br>simulation_time=%{x}<br>utilisation=%{y}<extra></extra>",
         "legendgroup": "6",
         "line": {
          "color": "#FF6692",
          "dash": "solid"
         },
         "marker": {
          "symbol": "circle"
         },
         "mode": "lines",
         "name": "6",
         "showlegend": true,
         "type": "scattergl",
         "x": [
          18720,
          18840,
          18960,
          19080,
          19200,
          19320,
          19440,
          19560,
          19680,
          19800,
          19920,
          20040,
          20160,
          20280,
          20400,
          20520,
          20640,
          20760,
          20880,
          21000,
          21120,
          21240,
          21360,
          21480,
          21600,
          21720,
          21840,
          21960,
          22080,
          22200,
          22320,
          22440,
          22560,
          22680,
          22800,
          22920,
          23040,
          23160,
          23280,
          23400,
          23520,
          23640,
          23760,
          23880,
          24000,
          24120,
          24240,
          24360,
          24480,
          24600,
          24720,
          24840,
          24960,
          25080,
          25200,
          25320,
          25440,
          25560,
          25680,
          25800,
          25920,
          26040,
          26160,
          26280,
          26400,
          26520,
          26640,
          26760,
          26880,
          27000,
          27120,
          27240,
          27360,
          27480,
          27600,
          27720,
          27840,
          27960,
          28080,
          28200,
          28320,
          28440,
          28560,
          28680,
          28800,
          28920,
          29040,
          29160,
          29280,
          29400,
          29520,
          29640,
          29760,
          29880,
          30000,
          30120,
          30240,
          30360,
          30480,
          30600,
          30720,
          30840,
          30960,
          31080,
          31200,
          31320,
          31440,
          31560,
          31680,
          31800,
          31920,
          32040,
          32160,
          32280,
          32400,
          32520,
          32640,
          32760,
          32880,
          33000,
          33120,
          33240,
          33360,
          33480,
          33600,
          33720,
          33840,
          33960,
          34080,
          34200,
          34320,
          34440,
          34560,
          34680,
          34800,
          34920,
          35040,
          35160,
          35280,
          35400,
          35520,
          35640,
          35760,
          35880,
          36000,
          36120,
          36240,
          36360,
          36480,
          36600,
          36720,
          36840,
          36960,
          37080,
          37200,
          37320,
          37440,
          37560,
          37680,
          37800,
          37920,
          38040,
          38160,
          38280,
          38400,
          38520,
          38640,
          38760,
          38880,
          39000,
          39120,
          39240,
          39360,
          39480,
          39600,
          39720,
          39840,
          39960,
          40080,
          40200,
          40320,
          40440,
          40560,
          40680,
          40800,
          40920,
          41040,
          41160,
          41280,
          41400,
          41520,
          41640,
          41760,
          41880,
          42000,
          42120,
          42240,
          42360,
          42480,
          42600,
          42720,
          42840,
          42960,
          43080,
          43200,
          43320,
          43440,
          43560,
          43680,
          43800,
          43920,
          44040,
          44160,
          44280,
          44400,
          44520,
          44640,
          44760,
          44880,
          45000,
          45120,
          45240,
          45360,
          45480,
          45600,
          45720,
          45840,
          45960,
          46080,
          46200,
          46320,
          46440,
          46560,
          46680,
          46800,
          46920,
          47040,
          47160,
          47280,
          47400,
          47520,
          47640,
          47760,
          47880,
          48000,
          48120,
          48240,
          48360,
          48480,
          48600,
          48720,
          48840,
          48960,
          49080,
          49200,
          49320,
          49440,
          49560,
          49680,
          49800,
          49920,
          50040,
          50160,
          50280,
          50400,
          50520,
          50640,
          50760,
          50880,
          51000,
          51120,
          51240,
          51360,
          51480,
          51600,
          51720,
          51840,
          51960,
          52080,
          52200,
          52320,
          52440,
          52560,
          52680,
          52800,
          52920,
          53040,
          53160,
          53280,
          53400,
          53520,
          53640,
          53760,
          53880,
          54000,
          54120,
          54240,
          54360,
          54480,
          54600,
          54720,
          54840,
          54960,
          55080,
          55200,
          55320,
          55440,
          55560,
          55680,
          55800,
          55920,
          56040,
          56160,
          56280,
          56400,
          56520,
          56640,
          56760,
          56880,
          57000,
          57120,
          57240,
          57360,
          57480,
          57600,
          57720,
          57840,
          57960,
          58080,
          58200,
          58320,
          58440,
          58560,
          58680,
          58800,
          58920,
          59040,
          59160,
          59280,
          59400,
          59520,
          59640,
          59760,
          59880,
          60000,
          60120,
          60240,
          60360,
          60480,
          60600,
          60720,
          60840,
          60960,
          61080,
          61200,
          61320,
          61440,
          61560,
          61680,
          61800
         ],
         "xaxis": "x",
         "y": [
          0.2,
          0.2,
          0.4,
          0.2,
          0.4,
          0.2,
          0.8,
          0.6,
          0.8,
          0.4,
          0,
          0.4,
          1,
          0.2,
          0.4,
          1,
          0.4,
          0.4,
          0.2,
          0.4,
          1,
          0.2,
          0.4,
          0.4,
          0.8,
          0.6,
          0.6,
          1,
          0.6,
          0.4,
          0.4,
          0.8,
          0.6,
          0.2,
          0.6,
          0.8,
          0.4,
          0.6,
          0.8,
          0.8,
          0.6,
          0.2,
          0.8,
          1,
          0.2,
          1,
          0.4,
          1,
          0.4,
          0.4,
          0.4,
          0.6,
          0.4,
          0.2,
          0.8,
          0.6,
          0.8,
          0.6,
          0.2,
          0.8,
          1,
          0.6,
          0.4,
          0.6,
          0.6,
          0.2,
          1,
          0.4,
          0.6,
          0,
          0.4,
          0.6,
          0.6,
          0.2,
          0.2,
          0.4,
          0.4,
          0,
          0.6,
          0.2,
          1,
          0,
          0.8,
          0.2,
          1,
          0.6,
          0.4,
          0.4,
          1,
          0,
          1,
          0.6,
          1,
          0.8,
          0.8,
          0.6,
          0.2,
          0.2,
          1,
          0.8,
          0.6,
          0.2,
          0.8,
          0.6,
          0.8,
          0.2,
          0.4,
          0.6,
          0,
          0.4,
          0.2,
          0.4,
          0.8,
          0.8,
          0.8,
          0.6,
          0.4,
          0.6,
          0.4,
          0.4,
          0.8,
          0.6,
          0.2,
          0.4,
          0.2,
          0,
          0.8,
          0.8,
          0.8,
          0.8,
          1,
          0.6,
          1,
          0.4,
          0.4,
          1,
          0.8,
          0.4,
          0.4,
          1,
          0.6,
          0.4,
          0.2,
          0.2,
          0,
          0.8,
          0,
          1,
          1,
          0.4,
          0.2,
          0.2,
          0.4,
          1,
          0.4,
          0.4,
          1,
          0,
          0.6,
          0.6,
          0.2,
          0.8,
          1,
          0.4,
          0.6,
          0.2,
          1,
          0.2,
          0.6,
          0.4,
          0.8,
          0.6,
          0.4,
          0.4,
          0.2,
          1,
          0,
          0.6,
          0.6,
          0.6,
          0.8,
          0.8,
          0.4,
          0.4,
          1,
          1,
          1,
          0.4,
          0.4,
          0.4,
          0.4,
          1,
          0.6,
          0.8,
          1,
          0.2,
          0.6,
          0.4,
          0.2,
          0.4,
          0.6,
          0.4,
          0.6,
          0.8,
          0.2,
          1,
          1,
          0.6,
          0.4,
          0,
          0.6,
          0.4,
          0.4,
          0.4,
          0.6,
          0.6,
          0.2,
          0.2,
          1,
          0.4,
          0.6,
          0.6,
          0.2,
          0,
          0.8,
          0.8,
          0.6,
          0.8,
          0.4,
          0,
          0.8,
          0.6,
          1,
          0.2,
          0.4,
          1,
          0.6,
          0.2,
          0.6,
          0.4,
          1,
          0.6,
          1,
          0.4,
          0.4,
          1,
          0.6,
          0.4,
          0.6,
          0.6,
          0.4,
          0.2,
          1,
          0.2,
          0.6,
          0,
          0.6,
          0,
          0.4,
          0.2,
          0.6,
          0.2,
          0.4,
          0.8,
          0,
          1,
          0.6,
          1,
          0.8,
          1,
          0.6,
          0.6,
          0.2,
          0.2,
          0.2,
          0.2,
          0.2,
          0.4,
          0.8,
          0.8,
          0.4,
          0.8,
          0,
          0,
          0.2,
          0.4,
          0.6,
          0.6,
          0.4,
          0.4,
          0.6,
          0.2,
          0.2,
          1,
          0.6,
          1,
          0.6,
          1,
          0.2,
          0.6,
          0.4,
          0.4,
          0.6,
          0.8,
          0.2,
          1,
          0.8,
          0,
          0.2,
          0.6,
          0.4,
          0.4,
          1,
          0.4,
          0,
          0.4,
          0.8,
          0.4,
          0.4,
          0.4,
          0.2,
          0.8,
          0.8,
          0.6,
          0.2,
          0.4,
          0.2,
          0.2,
          0,
          0.6,
          0.4,
          0.4,
          0.8,
          1,
          0,
          0.4,
          0.4,
          0.6,
          0.6,
          0.6,
          0.4,
          0.4,
          0.2,
          0,
          0,
          1,
          0.4,
          0.4,
          0.6,
          0.4,
          0.2,
          1,
          0.2,
          0,
          0.6,
          0.2,
          1,
          0.8,
          0.2,
          0.4
         ],
         "yaxis": "y"
        },
        {
         "hovertemplate": "run=7<br>simulation_time=%{x}<br>utilisation=%{y}<extra></extra>",
         "legendgroup": "7",
         "line": {
          "color": "#B6E880",
          "dash": "solid"
         },
         "marker": {
          "symbol": "circle"
         },
         "mode": "lines",
         "name": "7",
         "showlegend": true,
         "type": "scattergl",
         "x": [
          18720,
          18840,
          18960,
          19080,
          19200,
          19320,
          19440,
          19560,
          19680,
          19800,
          19920,
          20040,
          20160,
          20280,
          20400,
          20520,
          20640,
          20760,
          20880,
          21000,
          21120,
          21240,
          21360,
          21480,
          21600,
          21720,
          21840,
          21960,
          22080,
          22200,
          22320,
          22440,
          22560,
          22680,
          22800,
          22920,
          23040,
          23160,
          23280,
          23400,
          23520,
          23640,
          23760,
          23880,
          24000,
          24120,
          24240,
          24360,
          24480,
          24600,
          24720,
          24840,
          24960,
          25080,
          25200,
          25320,
          25440,
          25560,
          25680,
          25800,
          25920,
          26040,
          26160,
          26280,
          26400,
          26520,
          26640,
          26760,
          26880,
          27000,
          27120,
          27240,
          27360,
          27480,
          27600,
          27720,
          27840,
          27960,
          28080,
          28200,
          28320,
          28440,
          28560,
          28680,
          28800,
          28920,
          29040,
          29160,
          29280,
          29400,
          29520,
          29640,
          29760,
          29880,
          30000,
          30120,
          30240,
          30360,
          30480,
          30600,
          30720,
          30840,
          30960,
          31080,
          31200,
          31320,
          31440,
          31560,
          31680,
          31800,
          31920,
          32040,
          32160,
          32280,
          32400,
          32520,
          32640,
          32760,
          32880,
          33000,
          33120,
          33240,
          33360,
          33480,
          33600,
          33720,
          33840,
          33960,
          34080,
          34200,
          34320,
          34440,
          34560,
          34680,
          34800,
          34920,
          35040,
          35160,
          35280,
          35400,
          35520,
          35640,
          35760,
          35880,
          36000,
          36120,
          36240,
          36360,
          36480,
          36600,
          36720,
          36840,
          36960,
          37080,
          37200,
          37320,
          37440,
          37560,
          37680,
          37800,
          37920,
          38040,
          38160,
          38280,
          38400,
          38520,
          38640,
          38760,
          38880,
          39000,
          39120,
          39240,
          39360,
          39480,
          39600,
          39720,
          39840,
          39960,
          40080,
          40200,
          40320,
          40440,
          40560,
          40680,
          40800,
          40920,
          41040,
          41160,
          41280,
          41400,
          41520,
          41640,
          41760,
          41880,
          42000,
          42120,
          42240,
          42360,
          42480,
          42600,
          42720,
          42840,
          42960,
          43080,
          43200,
          43320,
          43440,
          43560,
          43680,
          43800,
          43920,
          44040,
          44160,
          44280,
          44400,
          44520,
          44640,
          44760,
          44880,
          45000,
          45120,
          45240,
          45360,
          45480,
          45600,
          45720,
          45840,
          45960,
          46080,
          46200,
          46320,
          46440,
          46560,
          46680,
          46800,
          46920,
          47040,
          47160,
          47280,
          47400,
          47520,
          47640,
          47760,
          47880,
          48000,
          48120,
          48240,
          48360,
          48480,
          48600,
          48720,
          48840,
          48960,
          49080,
          49200,
          49320,
          49440,
          49560,
          49680,
          49800,
          49920,
          50040,
          50160,
          50280,
          50400,
          50520,
          50640,
          50760,
          50880,
          51000,
          51120,
          51240,
          51360,
          51480,
          51600,
          51720,
          51840,
          51960,
          52080,
          52200,
          52320,
          52440,
          52560,
          52680,
          52800,
          52920,
          53040,
          53160,
          53280,
          53400,
          53520,
          53640,
          53760,
          53880,
          54000,
          54120,
          54240,
          54360,
          54480,
          54600,
          54720,
          54840,
          54960,
          55080,
          55200,
          55320,
          55440,
          55560,
          55680,
          55800,
          55920,
          56040,
          56160,
          56280,
          56400,
          56520,
          56640,
          56760,
          56880,
          57000,
          57120,
          57240,
          57360,
          57480,
          57600,
          57720,
          57840,
          57960,
          58080,
          58200,
          58320,
          58440,
          58560,
          58680,
          58800,
          58920,
          59040,
          59160,
          59280,
          59400,
          59520,
          59640,
          59760,
          59880,
          60000,
          60120,
          60240,
          60360,
          60480,
          60600,
          60720,
          60840,
          60960,
          61080,
          61200,
          61320,
          61440,
          61560,
          61680,
          61800
         ],
         "xaxis": "x",
         "y": [
          0.8,
          1,
          0.4,
          0.6,
          0.6,
          0.6,
          0.6,
          0.6,
          0.6,
          1,
          0.2,
          0.6,
          0.6,
          0.8,
          0.6,
          0.6,
          0,
          0.8,
          0.8,
          0.4,
          0,
          0.4,
          1,
          0,
          0.4,
          0,
          0,
          0.2,
          0.6,
          0.6,
          0.4,
          0.6,
          0.6,
          0.2,
          0.8,
          0.2,
          0.8,
          0.4,
          0.6,
          1,
          0.2,
          0,
          0.8,
          0.2,
          0.4,
          0.4,
          0.2,
          0.6,
          0.6,
          0.4,
          0.6,
          0.4,
          0.6,
          0.6,
          0.6,
          0.6,
          0.4,
          0.4,
          0.2,
          0.4,
          0.4,
          0.6,
          0.8,
          0.2,
          0.4,
          0.6,
          0,
          0.6,
          0.6,
          0.4,
          0.4,
          1,
          0.4,
          0.6,
          0,
          0.2,
          0.4,
          0,
          0.4,
          0.4,
          0.6,
          0.6,
          0.4,
          0.2,
          0.8,
          0.2,
          1,
          1,
          0.2,
          0.2,
          0.6,
          0.6,
          1,
          0,
          0.2,
          0.8,
          0,
          0.8,
          0.6,
          0.4,
          0.2,
          1,
          0.4,
          0.6,
          0,
          0.2,
          0.8,
          0.6,
          0.6,
          0.4,
          0.8,
          0.4,
          0.8,
          0.6,
          1,
          0.2,
          0,
          0.6,
          0.8,
          0.8,
          0.8,
          0.4,
          0.4,
          0.2,
          0.2,
          0.4,
          0.4,
          0,
          1,
          1,
          1,
          0.2,
          0.6,
          0.4,
          0.4,
          0,
          0.8,
          0.6,
          0.4,
          0.2,
          0.2,
          0.4,
          0.6,
          0.6,
          0.4,
          0.8,
          0.4,
          0.2,
          1,
          0.4,
          0,
          0.4,
          0.4,
          0.2,
          0.6,
          0.4,
          0.6,
          0.6,
          1,
          0.6,
          0.2,
          0,
          1,
          0.4,
          0.6,
          0.6,
          0.2,
          0.8,
          0.2,
          0.4,
          0.6,
          0.4,
          0.6,
          0.2,
          0.4,
          0,
          0.2,
          0.4,
          1,
          0,
          1,
          0.2,
          0.4,
          0.2,
          1,
          0.8,
          0.8,
          1,
          1,
          1,
          1,
          0.6,
          1,
          0.4,
          0.2,
          0.8,
          0.4,
          0.4,
          0.4,
          0.8,
          0.4,
          0.4,
          0.4,
          0.2,
          0.4,
          0.6,
          0,
          0.2,
          0.4,
          0,
          1,
          0.8,
          1,
          1,
          1,
          1,
          0.8,
          0.8,
          0.2,
          0.4,
          1,
          1,
          0,
          0.6,
          0.8,
          0.2,
          0,
          1,
          1,
          0.6,
          0.2,
          0.4,
          0.8,
          0.4,
          0.6,
          0.6,
          0.4,
          0.6,
          1,
          0.8,
          0.4,
          0.4,
          0.2,
          1,
          1,
          0.4,
          0.6,
          0.2,
          0,
          0.4,
          1,
          0.2,
          0.8,
          0.2,
          0.8,
          0,
          0.6,
          0.6,
          0.2,
          0.2,
          0.8,
          0.4,
          0.2,
          0.6,
          0.6,
          0.2,
          0.2,
          0.4,
          0.2,
          0.6,
          0.4,
          0.6,
          0.2,
          0.2,
          0.6,
          0.4,
          0.4,
          0.6,
          0.6,
          1,
          1,
          0.2,
          0.4,
          0.6,
          0.2,
          0.4,
          0.6,
          0,
          0,
          0.6,
          0.4,
          1,
          0.6,
          0.2,
          0.2,
          0.4,
          0.8,
          0.4,
          0,
          0.4,
          0.2,
          0.8,
          0.4,
          1,
          0.2,
          0.2,
          0.4,
          0.4,
          1,
          0.6,
          0.4,
          0.6,
          1,
          0.2,
          0.2,
          0.4,
          0.6,
          0.6,
          0.8,
          0.2,
          0.6,
          1,
          0.2,
          0.4,
          1,
          0,
          0,
          0.8,
          0.6,
          0.2,
          0.2,
          0.6,
          0.4,
          0.4,
          0,
          0.2,
          1,
          0.4,
          0,
          1,
          0.2,
          0.8,
          0.6,
          0.6,
          0.6,
          0.6,
          0.4,
          0.4,
          1,
          0.6,
          0.6,
          1,
          0.4,
          1,
          0.4,
          0.6,
          0.4,
          0.6,
          0.4,
          0.4
         ],
         "yaxis": "y"
        },
        {
         "hovertemplate": "run=8<br>simulation_time=%{x}<br>utilisation=%{y}<extra></extra>",
         "legendgroup": "8",
         "line": {
          "color": "#FF97FF",
          "dash": "solid"
         },
         "marker": {
          "symbol": "circle"
         },
         "mode": "lines",
         "name": "8",
         "showlegend": true,
         "type": "scattergl",
         "x": [
          18720,
          18840,
          18960,
          19080,
          19200,
          19320,
          19440,
          19560,
          19680,
          19800,
          19920,
          20040,
          20160,
          20280,
          20400,
          20520,
          20640,
          20760,
          20880,
          21000,
          21120,
          21240,
          21360,
          21480,
          21600,
          21720,
          21840,
          21960,
          22080,
          22200,
          22320,
          22440,
          22560,
          22680,
          22800,
          22920,
          23040,
          23160,
          23280,
          23400,
          23520,
          23640,
          23760,
          23880,
          24000,
          24120,
          24240,
          24360,
          24480,
          24600,
          24720,
          24840,
          24960,
          25080,
          25200,
          25320,
          25440,
          25560,
          25680,
          25800,
          25920,
          26040,
          26160,
          26280,
          26400,
          26520,
          26640,
          26760,
          26880,
          27000,
          27120,
          27240,
          27360,
          27480,
          27600,
          27720,
          27840,
          27960,
          28080,
          28200,
          28320,
          28440,
          28560,
          28680,
          28800,
          28920,
          29040,
          29160,
          29280,
          29400,
          29520,
          29640,
          29760,
          29880,
          30000,
          30120,
          30240,
          30360,
          30480,
          30600,
          30720,
          30840,
          30960,
          31080,
          31200,
          31320,
          31440,
          31560,
          31680,
          31800,
          31920,
          32040,
          32160,
          32280,
          32400,
          32520,
          32640,
          32760,
          32880,
          33000,
          33120,
          33240,
          33360,
          33480,
          33600,
          33720,
          33840,
          33960,
          34080,
          34200,
          34320,
          34440,
          34560,
          34680,
          34800,
          34920,
          35040,
          35160,
          35280,
          35400,
          35520,
          35640,
          35760,
          35880,
          36000,
          36120,
          36240,
          36360,
          36480,
          36600,
          36720,
          36840,
          36960,
          37080,
          37200,
          37320,
          37440,
          37560,
          37680,
          37800,
          37920,
          38040,
          38160,
          38280,
          38400,
          38520,
          38640,
          38760,
          38880,
          39000,
          39120,
          39240,
          39360,
          39480,
          39600,
          39720,
          39840,
          39960,
          40080,
          40200,
          40320,
          40440,
          40560,
          40680,
          40800,
          40920,
          41040,
          41160,
          41280,
          41400,
          41520,
          41640,
          41760,
          41880,
          42000,
          42120,
          42240,
          42360,
          42480,
          42600,
          42720,
          42840,
          42960,
          43080,
          43200,
          43320,
          43440,
          43560,
          43680,
          43800,
          43920,
          44040,
          44160,
          44280,
          44400,
          44520,
          44640,
          44760,
          44880,
          45000,
          45120,
          45240,
          45360,
          45480,
          45600,
          45720,
          45840,
          45960,
          46080,
          46200,
          46320,
          46440,
          46560,
          46680,
          46800,
          46920,
          47040,
          47160,
          47280,
          47400,
          47520,
          47640,
          47760,
          47880,
          48000,
          48120,
          48240,
          48360,
          48480,
          48600,
          48720,
          48840,
          48960,
          49080,
          49200,
          49320,
          49440,
          49560,
          49680,
          49800,
          49920,
          50040,
          50160,
          50280,
          50400,
          50520,
          50640,
          50760,
          50880,
          51000,
          51120,
          51240,
          51360,
          51480,
          51600,
          51720,
          51840,
          51960,
          52080,
          52200,
          52320,
          52440,
          52560,
          52680,
          52800,
          52920,
          53040,
          53160,
          53280,
          53400,
          53520,
          53640,
          53760,
          53880,
          54000,
          54120,
          54240,
          54360,
          54480,
          54600,
          54720,
          54840,
          54960,
          55080,
          55200,
          55320,
          55440,
          55560,
          55680,
          55800,
          55920,
          56040,
          56160,
          56280,
          56400,
          56520,
          56640,
          56760,
          56880,
          57000,
          57120,
          57240,
          57360,
          57480,
          57600,
          57720,
          57840,
          57960,
          58080,
          58200,
          58320,
          58440,
          58560,
          58680,
          58800,
          58920,
          59040,
          59160,
          59280,
          59400,
          59520,
          59640,
          59760,
          59880,
          60000,
          60120,
          60240,
          60360,
          60480,
          60600,
          60720,
          60840,
          60960,
          61080,
          61200,
          61320,
          61440,
          61560,
          61680,
          61800
         ],
         "xaxis": "x",
         "y": [
          0.4,
          0.2,
          0.2,
          0.6,
          0.2,
          0.6,
          0,
          0.8,
          0.2,
          0.4,
          0,
          0.4,
          0,
          0.2,
          1,
          0.4,
          0.6,
          0.2,
          0.4,
          0.4,
          0.2,
          0.8,
          0.4,
          0,
          0.6,
          0.6,
          0.6,
          0,
          0.6,
          0.4,
          1,
          0.2,
          0.4,
          0.4,
          0.2,
          0,
          0.6,
          1,
          0.8,
          1,
          0.8,
          0.4,
          0.4,
          0.4,
          0.4,
          0.4,
          0.4,
          0.4,
          0.2,
          0.6,
          0.2,
          0.8,
          0.2,
          0.6,
          0.4,
          0,
          0.2,
          0,
          0,
          0.8,
          0.6,
          0.2,
          0.8,
          0.2,
          0.6,
          0.2,
          0.2,
          0.8,
          0.2,
          0.4,
          1,
          0,
          0.8,
          1,
          0,
          0.6,
          0.2,
          0.6,
          0.8,
          0.2,
          0.6,
          1,
          0.6,
          0.4,
          0.8,
          0,
          0.2,
          0.8,
          1,
          0.8,
          0.6,
          0.8,
          0.6,
          0.6,
          0.4,
          0.6,
          1,
          0.2,
          0.6,
          0.4,
          0.4,
          0.4,
          1,
          1,
          0.8,
          0.6,
          0.2,
          0,
          0.4,
          0.6,
          0,
          0.4,
          1,
          0.2,
          0.6,
          0.2,
          0.6,
          0.6,
          0.8,
          0.4,
          0.6,
          0.6,
          0.6,
          0.4,
          0.6,
          0.6,
          0.6,
          0.4,
          0.4,
          0.2,
          0.8,
          0.8,
          0.2,
          0.8,
          0.4,
          0.2,
          0.4,
          1,
          1,
          0.4,
          0.6,
          0.2,
          1,
          0.8,
          0.4,
          0.2,
          0.6,
          0.8,
          0.6,
          0.8,
          1,
          0.4,
          0.4,
          0.8,
          0.4,
          0.4,
          0.6,
          0.2,
          0.6,
          1,
          0.8,
          0.4,
          0.6,
          0.6,
          0.6,
          0.2,
          0.8,
          0.6,
          0,
          1,
          0.4,
          0.8,
          0.6,
          0.4,
          1,
          0,
          0.2,
          0.4,
          0.4,
          0.4,
          0.8,
          0.4,
          0.4,
          0.6,
          0.4,
          1,
          0.6,
          0,
          0.2,
          0.4,
          0.6,
          1,
          0.8,
          0.2,
          1,
          0.4,
          0.2,
          0.6,
          1,
          0.6,
          0.6,
          0.2,
          0.4,
          1,
          0.4,
          0.4,
          0.4,
          0.2,
          0.4,
          0.8,
          0.4,
          0.8,
          0.4,
          0.2,
          0.4,
          1,
          1,
          0,
          1,
          0.8,
          0.2,
          0.6,
          1,
          0.4,
          0.8,
          0,
          0.4,
          0.6,
          0.4,
          0.8,
          0.4,
          0,
          0.4,
          0,
          1,
          0.2,
          0.2,
          1,
          0,
          0.4,
          1,
          0.6,
          0.8,
          0.4,
          0.4,
          1,
          0.6,
          0.4,
          0,
          0,
          0.6,
          0,
          0.6,
          0.6,
          0.6,
          0.2,
          1,
          0.6,
          0.4,
          1,
          0.2,
          0.6,
          0.6,
          0.4,
          1,
          1,
          0.8,
          0.8,
          0.6,
          0.4,
          0.6,
          0.2,
          0,
          1,
          0.6,
          0.6,
          0.2,
          0.6,
          0.2,
          0.8,
          0.4,
          0.6,
          0.2,
          0.4,
          0.2,
          1,
          0.4,
          0.6,
          0.6,
          0,
          0.8,
          0.2,
          1,
          0.4,
          0.4,
          0.4,
          1,
          0.8,
          0.2,
          0.2,
          0.4,
          0.6,
          0.2,
          1,
          1,
          0,
          0.2,
          0.4,
          0.6,
          0.2,
          0.4,
          0.2,
          0.6,
          0.2,
          0.2,
          0.2,
          0.8,
          0.6,
          1,
          1,
          0.6,
          0.6,
          0.8,
          1,
          0.4,
          0.8,
          1,
          0.2,
          0.2,
          0.8,
          0.6,
          0.4,
          0.4,
          0,
          0.6,
          0.6,
          0.2,
          0.4,
          0.6,
          0.2,
          0.4,
          0.8,
          0.4,
          1,
          0.4,
          0.4,
          1,
          0.4,
          1,
          0.2,
          0.8,
          0,
          0.6,
          1,
          0.4,
          0.4,
          0,
          0,
          0.4,
          0.4
         ],
         "yaxis": "y"
        },
        {
         "hovertemplate": "run=9<br>simulation_time=%{x}<br>utilisation=%{y}<extra></extra>",
         "legendgroup": "9",
         "line": {
          "color": "#FECB52",
          "dash": "solid"
         },
         "marker": {
          "symbol": "circle"
         },
         "mode": "lines",
         "name": "9",
         "showlegend": true,
         "type": "scattergl",
         "x": [
          18720,
          18840,
          18960,
          19080,
          19200,
          19320,
          19440,
          19560,
          19680,
          19800,
          19920,
          20040,
          20160,
          20280,
          20400,
          20520,
          20640,
          20760,
          20880,
          21000,
          21120,
          21240,
          21360,
          21480,
          21600,
          21720,
          21840,
          21960,
          22080,
          22200,
          22320,
          22440,
          22560,
          22680,
          22800,
          22920,
          23040,
          23160,
          23280,
          23400,
          23520,
          23640,
          23760,
          23880,
          24000,
          24120,
          24240,
          24360,
          24480,
          24600,
          24720,
          24840,
          24960,
          25080,
          25200,
          25320,
          25440,
          25560,
          25680,
          25800,
          25920,
          26040,
          26160,
          26280,
          26400,
          26520,
          26640,
          26760,
          26880,
          27000,
          27120,
          27240,
          27360,
          27480,
          27600,
          27720,
          27840,
          27960,
          28080,
          28200,
          28320,
          28440,
          28560,
          28680,
          28800,
          28920,
          29040,
          29160,
          29280,
          29400,
          29520,
          29640,
          29760,
          29880,
          30000,
          30120,
          30240,
          30360,
          30480,
          30600,
          30720,
          30840,
          30960,
          31080,
          31200,
          31320,
          31440,
          31560,
          31680,
          31800,
          31920,
          32040,
          32160,
          32280,
          32400,
          32520,
          32640,
          32760,
          32880,
          33000,
          33120,
          33240,
          33360,
          33480,
          33600,
          33720,
          33840,
          33960,
          34080,
          34200,
          34320,
          34440,
          34560,
          34680,
          34800,
          34920,
          35040,
          35160,
          35280,
          35400,
          35520,
          35640,
          35760,
          35880,
          36000,
          36120,
          36240,
          36360,
          36480,
          36600,
          36720,
          36840,
          36960,
          37080,
          37200,
          37320,
          37440,
          37560,
          37680,
          37800,
          37920,
          38040,
          38160,
          38280,
          38400,
          38520,
          38640,
          38760,
          38880,
          39000,
          39120,
          39240,
          39360,
          39480,
          39600,
          39720,
          39840,
          39960,
          40080,
          40200,
          40320,
          40440,
          40560,
          40680,
          40800,
          40920,
          41040,
          41160,
          41280,
          41400,
          41520,
          41640,
          41760,
          41880,
          42000,
          42120,
          42240,
          42360,
          42480,
          42600,
          42720,
          42840,
          42960,
          43080,
          43200,
          43320,
          43440,
          43560,
          43680,
          43800,
          43920,
          44040,
          44160,
          44280,
          44400,
          44520,
          44640,
          44760,
          44880,
          45000,
          45120,
          45240,
          45360,
          45480,
          45600,
          45720,
          45840,
          45960,
          46080,
          46200,
          46320,
          46440,
          46560,
          46680,
          46800,
          46920,
          47040,
          47160,
          47280,
          47400,
          47520,
          47640,
          47760,
          47880,
          48000,
          48120,
          48240,
          48360,
          48480,
          48600,
          48720,
          48840,
          48960,
          49080,
          49200,
          49320,
          49440,
          49560,
          49680,
          49800,
          49920,
          50040,
          50160,
          50280,
          50400,
          50520,
          50640,
          50760,
          50880,
          51000,
          51120,
          51240,
          51360,
          51480,
          51600,
          51720,
          51840,
          51960,
          52080,
          52200,
          52320,
          52440,
          52560,
          52680,
          52800,
          52920,
          53040,
          53160,
          53280,
          53400,
          53520,
          53640,
          53760,
          53880,
          54000,
          54120,
          54240,
          54360,
          54480,
          54600,
          54720,
          54840,
          54960,
          55080,
          55200,
          55320,
          55440,
          55560,
          55680,
          55800,
          55920,
          56040,
          56160,
          56280,
          56400,
          56520,
          56640,
          56760,
          56880,
          57000,
          57120,
          57240,
          57360,
          57480,
          57600,
          57720,
          57840,
          57960,
          58080,
          58200,
          58320,
          58440,
          58560,
          58680,
          58800,
          58920,
          59040,
          59160,
          59280,
          59400,
          59520,
          59640,
          59760,
          59880,
          60000,
          60120,
          60240,
          60360,
          60480,
          60600,
          60720,
          60840,
          60960,
          61080,
          61200,
          61320,
          61440,
          61560,
          61680,
          61800
         ],
         "xaxis": "x",
         "y": [
          1,
          0.4,
          0,
          0.2,
          0.2,
          0.8,
          0.6,
          0.2,
          0.2,
          0.8,
          0.8,
          0.8,
          0.2,
          0.4,
          0.2,
          0.6,
          0.8,
          0.6,
          0.6,
          0.6,
          0.4,
          0.4,
          0.2,
          0.8,
          0.6,
          0.2,
          0.8,
          0,
          1,
          0.8,
          1,
          1,
          0,
          0.4,
          1,
          0.4,
          0.2,
          1,
          0.2,
          0.2,
          0.4,
          1,
          0.2,
          0.4,
          0.2,
          0.4,
          0.8,
          0,
          0.8,
          0.4,
          0.6,
          0.2,
          0.4,
          0.4,
          0.6,
          0.4,
          0.4,
          0.6,
          0.4,
          1,
          0.6,
          0.6,
          0.6,
          0.4,
          1,
          0.4,
          0.2,
          0.2,
          0,
          0.8,
          0.2,
          0.6,
          0.6,
          0.8,
          1,
          0.6,
          0.2,
          0.2,
          0.8,
          1,
          1,
          0.2,
          0.2,
          0.8,
          0.8,
          0,
          0.4,
          0.6,
          0.2,
          0.8,
          0.4,
          0.4,
          0.4,
          0.2,
          0.2,
          0.2,
          0.2,
          0.2,
          0.8,
          0.6,
          0,
          0.8,
          0.6,
          1,
          0.2,
          0.2,
          1,
          0.6,
          0.8,
          0.4,
          1,
          0.6,
          0.4,
          0,
          0.4,
          0.4,
          0.4,
          0.2,
          0,
          0.4,
          0.4,
          0.8,
          1,
          0.2,
          1,
          0.2,
          1,
          0.2,
          0.8,
          0.8,
          0.8,
          1,
          0.6,
          0.2,
          0.4,
          0.4,
          1,
          0.6,
          0.6,
          0.4,
          0.2,
          0.8,
          0.4,
          0.8,
          1,
          1,
          0.6,
          1,
          0.4,
          0,
          0.2,
          1,
          0.8,
          0.6,
          0.4,
          1,
          0.6,
          0.6,
          0.2,
          0.6,
          0.2,
          0,
          0.4,
          0.2,
          0.4,
          1,
          0.8,
          1,
          1,
          0.8,
          0.4,
          1,
          0.4,
          0.4,
          0.4,
          0,
          1,
          0.4,
          1,
          0.4,
          0,
          0.2,
          0.6,
          0.6,
          0.8,
          0.4,
          0.6,
          0.4,
          0.6,
          0.2,
          0.4,
          0.4,
          0.6,
          0.2,
          0.4,
          0.6,
          0,
          0.2,
          1,
          0.6,
          0.6,
          0.4,
          0.8,
          1,
          0.2,
          0.2,
          0.2,
          0.6,
          0.2,
          1,
          0.2,
          0,
          0.2,
          0.6,
          0.6,
          1,
          1,
          0.8,
          1,
          0.6,
          0.4,
          0.6,
          0.4,
          0.2,
          0.4,
          1,
          0.6,
          0.6,
          0.4,
          0.6,
          0.6,
          0.6,
          0.6,
          0.8,
          0.6,
          0,
          0.4,
          1,
          0.8,
          1,
          0.4,
          0.4,
          0.8,
          0.4,
          0.4,
          0.8,
          0,
          0.8,
          0.2,
          0.4,
          0.2,
          0.4,
          0.8,
          1,
          0.4,
          0.6,
          0.6,
          0.6,
          0.4,
          0.6,
          0.4,
          0.2,
          1,
          0,
          0.6,
          0,
          0,
          0.8,
          0,
          0,
          0.4,
          1,
          0.4,
          1,
          0.2,
          0.4,
          0.2,
          0.2,
          0.6,
          0.4,
          0.4,
          0.6,
          0.8,
          1,
          0.6,
          0.2,
          0.8,
          0.8,
          0.8,
          0.4,
          0.8,
          0,
          0,
          0.6,
          0.2,
          0.8,
          1,
          0.2,
          0.6,
          0.8,
          0.6,
          0.6,
          1,
          0.2,
          0.4,
          0,
          1,
          0,
          0.4,
          1,
          0.8,
          0,
          0,
          0.6,
          0.4,
          0.4,
          0.4,
          1,
          0.2,
          0.2,
          0.6,
          0.4,
          0.2,
          0.6,
          0.4,
          0.4,
          0.6,
          0.8,
          0,
          0.4,
          0.2,
          0.4,
          0.4,
          0.6,
          0.2,
          0.6,
          0.2,
          0.2,
          1,
          0.2,
          1,
          0.4,
          0.8,
          0.2,
          0.6,
          0.6,
          0.2,
          0.4,
          0.6,
          0.2,
          0.8,
          1,
          0.2,
          0.6,
          0.4,
          0.4,
          0.6,
          0.8,
          0.2,
          1
         ],
         "yaxis": "y"
        }
       ],
       "layout": {
        "legend": {
         "title": {
          "text": "run"
         },
         "tracegroupgap": 0
        },
        "margin": {
         "t": 60
        },
        "template": {
         "data": {
          "bar": [
           {
            "error_x": {
             "color": "#2a3f5f"
            },
            "error_y": {
             "color": "#2a3f5f"
            },
            "marker": {
             "line": {
              "color": "#E5ECF6",
              "width": 0.5
             },
             "pattern": {
              "fillmode": "overlay",
              "size": 10,
              "solidity": 0.2
             }
            },
            "type": "bar"
           }
          ],
          "barpolar": [
           {
            "marker": {
             "line": {
              "color": "#E5ECF6",
              "width": 0.5
             },
             "pattern": {
              "fillmode": "overlay",
              "size": 10,
              "solidity": 0.2
             }
            },
            "type": "barpolar"
           }
          ],
          "carpet": [
           {
            "aaxis": {
             "endlinecolor": "#2a3f5f",
             "gridcolor": "white",
             "linecolor": "white",
             "minorgridcolor": "white",
             "startlinecolor": "#2a3f5f"
            },
            "baxis": {
             "endlinecolor": "#2a3f5f",
             "gridcolor": "white",
             "linecolor": "white",
             "minorgridcolor": "white",
             "startlinecolor": "#2a3f5f"
            },
            "type": "carpet"
           }
          ],
          "choropleth": [
           {
            "colorbar": {
             "outlinewidth": 0,
             "ticks": ""
            },
            "type": "choropleth"
           }
          ],
          "contour": [
           {
            "colorbar": {
             "outlinewidth": 0,
             "ticks": ""
            },
            "colorscale": [
             [
              0,
              "#0d0887"
             ],
             [
              0.1111111111111111,
              "#46039f"
             ],
             [
              0.2222222222222222,
              "#7201a8"
             ],
             [
              0.3333333333333333,
              "#9c179e"
             ],
             [
              0.4444444444444444,
              "#bd3786"
             ],
             [
              0.5555555555555556,
              "#d8576b"
             ],
             [
              0.6666666666666666,
              "#ed7953"
             ],
             [
              0.7777777777777778,
              "#fb9f3a"
             ],
             [
              0.8888888888888888,
              "#fdca26"
             ],
             [
              1,
              "#f0f921"
             ]
            ],
            "type": "contour"
           }
          ],
          "contourcarpet": [
           {
            "colorbar": {
             "outlinewidth": 0,
             "ticks": ""
            },
            "type": "contourcarpet"
           }
          ],
          "heatmap": [
           {
            "colorbar": {
             "outlinewidth": 0,
             "ticks": ""
            },
            "colorscale": [
             [
              0,
              "#0d0887"
             ],
             [
              0.1111111111111111,
              "#46039f"
             ],
             [
              0.2222222222222222,
              "#7201a8"
             ],
             [
              0.3333333333333333,
              "#9c179e"
             ],
             [
              0.4444444444444444,
              "#bd3786"
             ],
             [
              0.5555555555555556,
              "#d8576b"
             ],
             [
              0.6666666666666666,
              "#ed7953"
             ],
             [
              0.7777777777777778,
              "#fb9f3a"
             ],
             [
              0.8888888888888888,
              "#fdca26"
             ],
             [
              1,
              "#f0f921"
             ]
            ],
            "type": "heatmap"
           }
          ],
          "heatmapgl": [
           {
            "colorbar": {
             "outlinewidth": 0,
             "ticks": ""
            },
            "colorscale": [
             [
              0,
              "#0d0887"
             ],
             [
              0.1111111111111111,
              "#46039f"
             ],
             [
              0.2222222222222222,
              "#7201a8"
             ],
             [
              0.3333333333333333,
              "#9c179e"
             ],
             [
              0.4444444444444444,
              "#bd3786"
             ],
             [
              0.5555555555555556,
              "#d8576b"
             ],
             [
              0.6666666666666666,
              "#ed7953"
             ],
             [
              0.7777777777777778,
              "#fb9f3a"
             ],
             [
              0.8888888888888888,
              "#fdca26"
             ],
             [
              1,
              "#f0f921"
             ]
            ],
            "type": "heatmapgl"
           }
          ],
          "histogram": [
           {
            "marker": {
             "pattern": {
              "fillmode": "overlay",
              "size": 10,
              "solidity": 0.2
             }
            },
            "type": "histogram"
           }
          ],
          "histogram2d": [
           {
            "colorbar": {
             "outlinewidth": 0,
             "ticks": ""
            },
            "colorscale": [
             [
              0,
              "#0d0887"
             ],
             [
              0.1111111111111111,
              "#46039f"
             ],
             [
              0.2222222222222222,
              "#7201a8"
             ],
             [
              0.3333333333333333,
              "#9c179e"
             ],
             [
              0.4444444444444444,
              "#bd3786"
             ],
             [
              0.5555555555555556,
              "#d8576b"
             ],
             [
              0.6666666666666666,
              "#ed7953"
             ],
             [
              0.7777777777777778,
              "#fb9f3a"
             ],
             [
              0.8888888888888888,
              "#fdca26"
             ],
             [
              1,
              "#f0f921"
             ]
            ],
            "type": "histogram2d"
           }
          ],
          "histogram2dcontour": [
           {
            "colorbar": {
             "outlinewidth": 0,
             "ticks": ""
            },
            "colorscale": [
             [
              0,
              "#0d0887"
             ],
             [
              0.1111111111111111,
              "#46039f"
             ],
             [
              0.2222222222222222,
              "#7201a8"
             ],
             [
              0.3333333333333333,
              "#9c179e"
             ],
             [
              0.4444444444444444,
              "#bd3786"
             ],
             [
              0.5555555555555556,
              "#d8576b"
             ],
             [
              0.6666666666666666,
              "#ed7953"
             ],
             [
              0.7777777777777778,
              "#fb9f3a"
             ],
             [
              0.8888888888888888,
              "#fdca26"
             ],
             [
              1,
              "#f0f921"
             ]
            ],
            "type": "histogram2dcontour"
           }
          ],
          "mesh3d": [
           {
            "colorbar": {
             "outlinewidth": 0,
             "ticks": ""
            },
            "type": "mesh3d"
           }
          ],
          "parcoords": [
           {
            "line": {
             "colorbar": {
              "outlinewidth": 0,
              "ticks": ""
             }
            },
            "type": "parcoords"
           }
          ],
          "pie": [
           {
            "automargin": true,
            "type": "pie"
           }
          ],
          "scatter": [
           {
            "fillpattern": {
             "fillmode": "overlay",
             "size": 10,
             "solidity": 0.2
            },
            "type": "scatter"
           }
          ],
          "scatter3d": [
           {
            "line": {
             "colorbar": {
              "outlinewidth": 0,
              "ticks": ""
             }
            },
            "marker": {
             "colorbar": {
              "outlinewidth": 0,
              "ticks": ""
             }
            },
            "type": "scatter3d"
           }
          ],
          "scattercarpet": [
           {
            "marker": {
             "colorbar": {
              "outlinewidth": 0,
              "ticks": ""
             }
            },
            "type": "scattercarpet"
           }
          ],
          "scattergeo": [
           {
            "marker": {
             "colorbar": {
              "outlinewidth": 0,
              "ticks": ""
             }
            },
            "type": "scattergeo"
           }
          ],
          "scattergl": [
           {
            "marker": {
             "colorbar": {
              "outlinewidth": 0,
              "ticks": ""
             }
            },
            "type": "scattergl"
           }
          ],
          "scattermapbox": [
           {
            "marker": {
             "colorbar": {
              "outlinewidth": 0,
              "ticks": ""
             }
            },
            "type": "scattermapbox"
           }
          ],
          "scatterpolar": [
           {
            "marker": {
             "colorbar": {
              "outlinewidth": 0,
              "ticks": ""
             }
            },
            "type": "scatterpolar"
           }
          ],
          "scatterpolargl": [
           {
            "marker": {
             "colorbar": {
              "outlinewidth": 0,
              "ticks": ""
             }
            },
            "type": "scatterpolargl"
           }
          ],
          "scatterternary": [
           {
            "marker": {
             "colorbar": {
              "outlinewidth": 0,
              "ticks": ""
             }
            },
            "type": "scatterternary"
           }
          ],
          "surface": [
           {
            "colorbar": {
             "outlinewidth": 0,
             "ticks": ""
            },
            "colorscale": [
             [
              0,
              "#0d0887"
             ],
             [
              0.1111111111111111,
              "#46039f"
             ],
             [
              0.2222222222222222,
              "#7201a8"
             ],
             [
              0.3333333333333333,
              "#9c179e"
             ],
             [
              0.4444444444444444,
              "#bd3786"
             ],
             [
              0.5555555555555556,
              "#d8576b"
             ],
             [
              0.6666666666666666,
              "#ed7953"
             ],
             [
              0.7777777777777778,
              "#fb9f3a"
             ],
             [
              0.8888888888888888,
              "#fdca26"
             ],
             [
              1,
              "#f0f921"
             ]
            ],
            "type": "surface"
           }
          ],
          "table": [
           {
            "cells": {
             "fill": {
              "color": "#EBF0F8"
             },
             "line": {
              "color": "white"
             }
            },
            "header": {
             "fill": {
              "color": "#C8D4E3"
             },
             "line": {
              "color": "white"
             }
            },
            "type": "table"
           }
          ]
         },
         "layout": {
          "annotationdefaults": {
           "arrowcolor": "#2a3f5f",
           "arrowhead": 0,
           "arrowwidth": 1
          },
          "autotypenumbers": "strict",
          "coloraxis": {
           "colorbar": {
            "outlinewidth": 0,
            "ticks": ""
           }
          },
          "colorscale": {
           "diverging": [
            [
             0,
             "#8e0152"
            ],
            [
             0.1,
             "#c51b7d"
            ],
            [
             0.2,
             "#de77ae"
            ],
            [
             0.3,
             "#f1b6da"
            ],
            [
             0.4,
             "#fde0ef"
            ],
            [
             0.5,
             "#f7f7f7"
            ],
            [
             0.6,
             "#e6f5d0"
            ],
            [
             0.7,
             "#b8e186"
            ],
            [
             0.8,
             "#7fbc41"
            ],
            [
             0.9,
             "#4d9221"
            ],
            [
             1,
             "#276419"
            ]
           ],
           "sequential": [
            [
             0,
             "#0d0887"
            ],
            [
             0.1111111111111111,
             "#46039f"
            ],
            [
             0.2222222222222222,
             "#7201a8"
            ],
            [
             0.3333333333333333,
             "#9c179e"
            ],
            [
             0.4444444444444444,
             "#bd3786"
            ],
            [
             0.5555555555555556,
             "#d8576b"
            ],
            [
             0.6666666666666666,
             "#ed7953"
            ],
            [
             0.7777777777777778,
             "#fb9f3a"
            ],
            [
             0.8888888888888888,
             "#fdca26"
            ],
            [
             1,
             "#f0f921"
            ]
           ],
           "sequentialminus": [
            [
             0,
             "#0d0887"
            ],
            [
             0.1111111111111111,
             "#46039f"
            ],
            [
             0.2222222222222222,
             "#7201a8"
            ],
            [
             0.3333333333333333,
             "#9c179e"
            ],
            [
             0.4444444444444444,
             "#bd3786"
            ],
            [
             0.5555555555555556,
             "#d8576b"
            ],
            [
             0.6666666666666666,
             "#ed7953"
            ],
            [
             0.7777777777777778,
             "#fb9f3a"
            ],
            [
             0.8888888888888888,
             "#fdca26"
            ],
            [
             1,
             "#f0f921"
            ]
           ]
          },
          "colorway": [
           "#636efa",
           "#EF553B",
           "#00cc96",
           "#ab63fa",
           "#FFA15A",
           "#19d3f3",
           "#FF6692",
           "#B6E880",
           "#FF97FF",
           "#FECB52"
          ],
          "font": {
           "color": "#2a3f5f"
          },
          "geo": {
           "bgcolor": "white",
           "lakecolor": "white",
           "landcolor": "#E5ECF6",
           "showlakes": true,
           "showland": true,
           "subunitcolor": "white"
          },
          "hoverlabel": {
           "align": "left"
          },
          "hovermode": "closest",
          "mapbox": {
           "style": "light"
          },
          "paper_bgcolor": "white",
          "plot_bgcolor": "#E5ECF6",
          "polar": {
           "angularaxis": {
            "gridcolor": "white",
            "linecolor": "white",
            "ticks": ""
           },
           "bgcolor": "#E5ECF6",
           "radialaxis": {
            "gridcolor": "white",
            "linecolor": "white",
            "ticks": ""
           }
          },
          "scene": {
           "xaxis": {
            "backgroundcolor": "#E5ECF6",
            "gridcolor": "white",
            "gridwidth": 2,
            "linecolor": "white",
            "showbackground": true,
            "ticks": "",
            "zerolinecolor": "white"
           },
           "yaxis": {
            "backgroundcolor": "#E5ECF6",
            "gridcolor": "white",
            "gridwidth": 2,
            "linecolor": "white",
            "showbackground": true,
            "ticks": "",
            "zerolinecolor": "white"
           },
           "zaxis": {
            "backgroundcolor": "#E5ECF6",
            "gridcolor": "white",
            "gridwidth": 2,
            "linecolor": "white",
            "showbackground": true,
            "ticks": "",
            "zerolinecolor": "white"
           }
          },
          "shapedefaults": {
           "line": {
            "color": "#2a3f5f"
           }
          },
          "ternary": {
           "aaxis": {
            "gridcolor": "white",
            "linecolor": "white",
            "ticks": ""
           },
           "baxis": {
            "gridcolor": "white",
            "linecolor": "white",
            "ticks": ""
           },
           "bgcolor": "#E5ECF6",
           "caxis": {
            "gridcolor": "white",
            "linecolor": "white",
            "ticks": ""
           }
          },
          "title": {
           "x": 0.05
          },
          "xaxis": {
           "automargin": true,
           "gridcolor": "white",
           "linecolor": "white",
           "ticks": "",
           "title": {
            "standoff": 15
           },
           "zerolinecolor": "white",
           "zerolinewidth": 2
          },
          "yaxis": {
           "automargin": true,
           "gridcolor": "white",
           "linecolor": "white",
           "ticks": "",
           "title": {
            "standoff": 15
           },
           "zerolinecolor": "white",
           "zerolinewidth": 2
          }
         }
        },
        "xaxis": {
         "anchor": "y",
         "domain": [
          0,
          1
         ],
         "title": {
          "text": "simulation_time"
         }
        },
        "yaxis": {
         "anchor": "x",
         "domain": [
          0,
          1
         ],
         "title": {
          "text": "utilisation"
         }
        }
       }
      }
     },
     "metadata": {},
     "output_type": "display_data"
    },
    {
     "data": {
      "application/vnd.plotly.v1+json": {
       "config": {
        "plotlyServerURL": "https://plot.ly"
       },
       "data": [
        {
         "hovertemplate": "simulation_time=%{x}<br>utilisation=%{y}<extra></extra>",
         "legendgroup": "",
         "line": {
          "color": "#636efa",
          "dash": "solid"
         },
         "marker": {
          "symbol": "circle"
         },
         "mode": "lines",
         "name": "",
         "orientation": "v",
         "showlegend": false,
         "type": "scatter",
         "x": [
          18720,
          18840,
          18960,
          19080,
          19200,
          19320,
          19440,
          19560,
          19680,
          19800,
          19920,
          20040,
          20160,
          20280,
          20400,
          20520,
          20640,
          20760,
          20880,
          21000,
          21120,
          21240,
          21360,
          21480,
          21600,
          21720,
          21840,
          21960,
          22080,
          22200,
          22320,
          22440,
          22560,
          22680,
          22800,
          22920,
          23040,
          23160,
          23280,
          23400,
          23520,
          23640,
          23760,
          23880,
          24000,
          24120,
          24240,
          24360,
          24480,
          24600,
          24720,
          24840,
          24960,
          25080,
          25200,
          25320,
          25440,
          25560,
          25680,
          25800,
          25920,
          26040,
          26160,
          26280,
          26400,
          26520,
          26640,
          26760,
          26880,
          27000,
          27120,
          27240,
          27360,
          27480,
          27600,
          27720,
          27840,
          27960,
          28080,
          28200,
          28320,
          28440,
          28560,
          28680,
          28800,
          28920,
          29040,
          29160,
          29280,
          29400,
          29520,
          29640,
          29760,
          29880,
          30000,
          30120,
          30240,
          30360,
          30480,
          30600,
          30720,
          30840,
          30960,
          31080,
          31200,
          31320,
          31440,
          31560,
          31680,
          31800,
          31920,
          32040,
          32160,
          32280,
          32400,
          32520,
          32640,
          32760,
          32880,
          33000,
          33120,
          33240,
          33360,
          33480,
          33600,
          33720,
          33840,
          33960,
          34080,
          34200,
          34320,
          34440,
          34560,
          34680,
          34800,
          34920,
          35040,
          35160,
          35280,
          35400,
          35520,
          35640,
          35760,
          35880,
          36000,
          36120,
          36240,
          36360,
          36480,
          36600,
          36720,
          36840,
          36960,
          37080,
          37200,
          37320,
          37440,
          37560,
          37680,
          37800,
          37920,
          38040,
          38160,
          38280,
          38400,
          38520,
          38640,
          38760,
          38880,
          39000,
          39120,
          39240,
          39360,
          39480,
          39600,
          39720,
          39840,
          39960,
          40080,
          40200,
          40320,
          40440,
          40560,
          40680,
          40800,
          40920,
          41040,
          41160,
          41280,
          41400,
          41520,
          41640,
          41760,
          41880,
          42000,
          42120,
          42240,
          42360,
          42480,
          42600,
          42720,
          42840,
          42960,
          43080,
          43200,
          43320,
          43440,
          43560,
          43680,
          43800,
          43920,
          44040,
          44160,
          44280,
          44400,
          44520,
          44640,
          44760,
          44880,
          45000,
          45120,
          45240,
          45360,
          45480,
          45600,
          45720,
          45840,
          45960,
          46080,
          46200,
          46320,
          46440,
          46560,
          46680,
          46800,
          46920,
          47040,
          47160,
          47280,
          47400,
          47520,
          47640,
          47760,
          47880,
          48000,
          48120,
          48240,
          48360,
          48480,
          48600,
          48720,
          48840,
          48960,
          49080,
          49200,
          49320,
          49440,
          49560,
          49680,
          49800,
          49920,
          50040,
          50160,
          50280,
          50400,
          50520,
          50640,
          50760,
          50880,
          51000,
          51120,
          51240,
          51360,
          51480,
          51600,
          51720,
          51840,
          51960,
          52080,
          52200,
          52320,
          52440,
          52560,
          52680,
          52800,
          52920,
          53040,
          53160,
          53280,
          53400,
          53520,
          53640,
          53760,
          53880,
          54000,
          54120,
          54240,
          54360,
          54480,
          54600,
          54720,
          54840,
          54960,
          55080,
          55200,
          55320,
          55440,
          55560,
          55680,
          55800,
          55920,
          56040,
          56160,
          56280,
          56400,
          56520,
          56640,
          56760,
          56880,
          57000,
          57120,
          57240,
          57360,
          57480,
          57600,
          57720,
          57840,
          57960,
          58080,
          58200,
          58320,
          58440,
          58560,
          58680,
          58800,
          58920,
          59040,
          59160,
          59280,
          59400,
          59520,
          59640,
          59760,
          59880,
          60000,
          60120,
          60240,
          60360,
          60480,
          60600,
          60720,
          60840,
          60960,
          61080,
          61200,
          61320,
          61440,
          61560,
          61680,
          61800
         ],
         "xaxis": "x",
         "y": [
          0.6,
          0.30000000000000004,
          0.30000000000000004,
          0.30000000000000004,
          0.6,
          0.5,
          0.6,
          0.4,
          0.5,
          0.4,
          0.2,
          0.4,
          0.4,
          0.4,
          0.5,
          0.5,
          0.6,
          0.30000000000000004,
          0.6,
          0.5,
          0.30000000000000004,
          0.4,
          0.4,
          0.4,
          0.6,
          0.6,
          0.6,
          0.4,
          0.6,
          0.4,
          0.4,
          0.6,
          0.30000000000000004,
          0.4,
          0.7,
          0.6,
          0.5,
          0.6,
          0.6,
          0.6,
          0.6,
          0.4,
          0.5,
          0.4,
          0.5,
          0.6,
          0.30000000000000004,
          0.5,
          0.4,
          0.4,
          0.30000000000000004,
          0.4,
          0.4,
          0.5,
          0.5,
          0.2,
          0.4,
          0.5,
          0.4,
          0.7,
          0.5,
          0.5,
          0.6,
          0.4,
          0.5,
          0.5,
          0.30000000000000004,
          0.5,
          0.4,
          0.5,
          0.4,
          0.6,
          0.5,
          0.5,
          0.30000000000000004,
          0.6,
          0.4,
          0.4,
          0.5,
          0.4,
          0.6,
          0.30000000000000004,
          0.6,
          0.4,
          0.8,
          0.2,
          0.6,
          0.5,
          0.4,
          0.5,
          0.6,
          0.6,
          0.6,
          0.5,
          0.4,
          0.5,
          0.30000000000000004,
          0.2,
          0.6,
          0.4,
          0.4,
          0.5,
          0.7,
          0.5,
          0.5,
          0.5,
          0.5,
          0.5,
          0.6,
          0.5,
          0.4,
          0.4,
          0.7,
          0.4,
          0.8,
          0.30000000000000004,
          0.4,
          0.6,
          0.4,
          0.6,
          0.4,
          0.5,
          0.5,
          0.30000000000000004,
          0.5,
          0.6,
          0.4,
          0.5,
          0.5,
          0.30000000000000004,
          0.4,
          0.7,
          0.6,
          0.4,
          0.4,
          0.4,
          0.5,
          0.6,
          0.4,
          0.4,
          0.5,
          0.4,
          0.6,
          0.5,
          0.4,
          0.4,
          0.5,
          0.30000000000000004,
          0.6,
          0.4,
          0.4,
          0.5,
          0.4,
          0.5,
          0.4,
          0.4,
          0.6,
          0.5,
          0.7,
          0.6,
          0.4,
          0.4,
          0.9,
          0.5,
          0.4,
          0.4,
          0.6,
          0.6,
          0.6,
          0.4,
          0.7,
          0.6,
          0.4,
          0.4,
          0.8,
          0.4,
          0.30000000000000004,
          0.4,
          0.5,
          0.4,
          0.6,
          0.4,
          0.5,
          0.5,
          0.6,
          0.7,
          0.7,
          0.4,
          0.5,
          0.4,
          0.6,
          0.6,
          0.6,
          0.7,
          0.5,
          0.7,
          0.4,
          0.5,
          0.5,
          0.6,
          0.4,
          0.4,
          0.4,
          0.7,
          0.30000000000000004,
          0.5,
          0.2,
          0.4,
          0.4,
          0.30000000000000004,
          0.5,
          0.4,
          0.4,
          0.7,
          0.5,
          0.8,
          0.4,
          0.2,
          1,
          0.4,
          0.6,
          0.6,
          0.2,
          0.4,
          0.5,
          0.5,
          0.5,
          0.6,
          0.6000000000000001,
          0.6,
          0.5,
          0.6,
          0.7,
          0.30000000000000004,
          0.5,
          0.4,
          0.4,
          0.6,
          0.7,
          0.5,
          0.5,
          0.4,
          0.5,
          0.6000000000000001,
          0.4,
          0.5,
          0.5,
          0.4,
          0.5,
          0.6,
          0.6,
          0.2,
          0.8,
          0.5,
          0.7,
          0.4,
          0.4,
          0.6,
          0.4,
          0.5,
          0.4,
          0.4,
          0.5,
          0.30000000000000004,
          0.6,
          0.5,
          0.5,
          0.8,
          0.4,
          0.5,
          0.6,
          0.6,
          0.30000000000000004,
          0.4,
          0.30000000000000004,
          0.4,
          0.2,
          0.4,
          0.6,
          0.5,
          0.4,
          0.2,
          0.4,
          0.6,
          0.4,
          0.4,
          0.30000000000000004,
          0.5,
          0.5,
          0.4,
          0.6,
          0.4,
          0.4,
          0.6,
          0.4,
          0.4,
          0.6,
          0.4,
          0.4,
          0.5,
          0.5,
          0.4,
          0.4,
          0.4,
          0.4,
          0.2,
          0.5,
          0.4,
          0.6,
          0.6,
          0.6000000000000001,
          0.2,
          0.5,
          0.30000000000000004,
          0.2,
          0.4,
          0.7,
          0.6,
          0.5,
          0.4,
          0.5,
          0.4,
          0.6000000000000001,
          0.6,
          0.7,
          0.4,
          0.6,
          0.30000000000000004,
          0.5,
          0.4,
          0.4,
          0.6,
          0.4,
          0.5,
          0.6,
          0.6,
          0.4,
          0.4,
          0.5,
          0.30000000000000004,
          0.4,
          0.4,
          0.5,
          0.5,
          0.5,
          0.6,
          0.4,
          0.4,
          0.7,
          0.4,
          0.5,
          0.4,
          0.4,
          0.6,
          0.4,
          0.4,
          0.30000000000000004,
          0.5,
          0.4,
          0.4
         ],
         "yaxis": "y"
        }
       ],
       "layout": {
        "legend": {
         "tracegroupgap": 0
        },
        "margin": {
         "t": 60
        },
        "template": {
         "data": {
          "bar": [
           {
            "error_x": {
             "color": "#2a3f5f"
            },
            "error_y": {
             "color": "#2a3f5f"
            },
            "marker": {
             "line": {
              "color": "#E5ECF6",
              "width": 0.5
             },
             "pattern": {
              "fillmode": "overlay",
              "size": 10,
              "solidity": 0.2
             }
            },
            "type": "bar"
           }
          ],
          "barpolar": [
           {
            "marker": {
             "line": {
              "color": "#E5ECF6",
              "width": 0.5
             },
             "pattern": {
              "fillmode": "overlay",
              "size": 10,
              "solidity": 0.2
             }
            },
            "type": "barpolar"
           }
          ],
          "carpet": [
           {
            "aaxis": {
             "endlinecolor": "#2a3f5f",
             "gridcolor": "white",
             "linecolor": "white",
             "minorgridcolor": "white",
             "startlinecolor": "#2a3f5f"
            },
            "baxis": {
             "endlinecolor": "#2a3f5f",
             "gridcolor": "white",
             "linecolor": "white",
             "minorgridcolor": "white",
             "startlinecolor": "#2a3f5f"
            },
            "type": "carpet"
           }
          ],
          "choropleth": [
           {
            "colorbar": {
             "outlinewidth": 0,
             "ticks": ""
            },
            "type": "choropleth"
           }
          ],
          "contour": [
           {
            "colorbar": {
             "outlinewidth": 0,
             "ticks": ""
            },
            "colorscale": [
             [
              0,
              "#0d0887"
             ],
             [
              0.1111111111111111,
              "#46039f"
             ],
             [
              0.2222222222222222,
              "#7201a8"
             ],
             [
              0.3333333333333333,
              "#9c179e"
             ],
             [
              0.4444444444444444,
              "#bd3786"
             ],
             [
              0.5555555555555556,
              "#d8576b"
             ],
             [
              0.6666666666666666,
              "#ed7953"
             ],
             [
              0.7777777777777778,
              "#fb9f3a"
             ],
             [
              0.8888888888888888,
              "#fdca26"
             ],
             [
              1,
              "#f0f921"
             ]
            ],
            "type": "contour"
           }
          ],
          "contourcarpet": [
           {
            "colorbar": {
             "outlinewidth": 0,
             "ticks": ""
            },
            "type": "contourcarpet"
           }
          ],
          "heatmap": [
           {
            "colorbar": {
             "outlinewidth": 0,
             "ticks": ""
            },
            "colorscale": [
             [
              0,
              "#0d0887"
             ],
             [
              0.1111111111111111,
              "#46039f"
             ],
             [
              0.2222222222222222,
              "#7201a8"
             ],
             [
              0.3333333333333333,
              "#9c179e"
             ],
             [
              0.4444444444444444,
              "#bd3786"
             ],
             [
              0.5555555555555556,
              "#d8576b"
             ],
             [
              0.6666666666666666,
              "#ed7953"
             ],
             [
              0.7777777777777778,
              "#fb9f3a"
             ],
             [
              0.8888888888888888,
              "#fdca26"
             ],
             [
              1,
              "#f0f921"
             ]
            ],
            "type": "heatmap"
           }
          ],
          "heatmapgl": [
           {
            "colorbar": {
             "outlinewidth": 0,
             "ticks": ""
            },
            "colorscale": [
             [
              0,
              "#0d0887"
             ],
             [
              0.1111111111111111,
              "#46039f"
             ],
             [
              0.2222222222222222,
              "#7201a8"
             ],
             [
              0.3333333333333333,
              "#9c179e"
             ],
             [
              0.4444444444444444,
              "#bd3786"
             ],
             [
              0.5555555555555556,
              "#d8576b"
             ],
             [
              0.6666666666666666,
              "#ed7953"
             ],
             [
              0.7777777777777778,
              "#fb9f3a"
             ],
             [
              0.8888888888888888,
              "#fdca26"
             ],
             [
              1,
              "#f0f921"
             ]
            ],
            "type": "heatmapgl"
           }
          ],
          "histogram": [
           {
            "marker": {
             "pattern": {
              "fillmode": "overlay",
              "size": 10,
              "solidity": 0.2
             }
            },
            "type": "histogram"
           }
          ],
          "histogram2d": [
           {
            "colorbar": {
             "outlinewidth": 0,
             "ticks": ""
            },
            "colorscale": [
             [
              0,
              "#0d0887"
             ],
             [
              0.1111111111111111,
              "#46039f"
             ],
             [
              0.2222222222222222,
              "#7201a8"
             ],
             [
              0.3333333333333333,
              "#9c179e"
             ],
             [
              0.4444444444444444,
              "#bd3786"
             ],
             [
              0.5555555555555556,
              "#d8576b"
             ],
             [
              0.6666666666666666,
              "#ed7953"
             ],
             [
              0.7777777777777778,
              "#fb9f3a"
             ],
             [
              0.8888888888888888,
              "#fdca26"
             ],
             [
              1,
              "#f0f921"
             ]
            ],
            "type": "histogram2d"
           }
          ],
          "histogram2dcontour": [
           {
            "colorbar": {
             "outlinewidth": 0,
             "ticks": ""
            },
            "colorscale": [
             [
              0,
              "#0d0887"
             ],
             [
              0.1111111111111111,
              "#46039f"
             ],
             [
              0.2222222222222222,
              "#7201a8"
             ],
             [
              0.3333333333333333,
              "#9c179e"
             ],
             [
              0.4444444444444444,
              "#bd3786"
             ],
             [
              0.5555555555555556,
              "#d8576b"
             ],
             [
              0.6666666666666666,
              "#ed7953"
             ],
             [
              0.7777777777777778,
              "#fb9f3a"
             ],
             [
              0.8888888888888888,
              "#fdca26"
             ],
             [
              1,
              "#f0f921"
             ]
            ],
            "type": "histogram2dcontour"
           }
          ],
          "mesh3d": [
           {
            "colorbar": {
             "outlinewidth": 0,
             "ticks": ""
            },
            "type": "mesh3d"
           }
          ],
          "parcoords": [
           {
            "line": {
             "colorbar": {
              "outlinewidth": 0,
              "ticks": ""
             }
            },
            "type": "parcoords"
           }
          ],
          "pie": [
           {
            "automargin": true,
            "type": "pie"
           }
          ],
          "scatter": [
           {
            "fillpattern": {
             "fillmode": "overlay",
             "size": 10,
             "solidity": 0.2
            },
            "type": "scatter"
           }
          ],
          "scatter3d": [
           {
            "line": {
             "colorbar": {
              "outlinewidth": 0,
              "ticks": ""
             }
            },
            "marker": {
             "colorbar": {
              "outlinewidth": 0,
              "ticks": ""
             }
            },
            "type": "scatter3d"
           }
          ],
          "scattercarpet": [
           {
            "marker": {
             "colorbar": {
              "outlinewidth": 0,
              "ticks": ""
             }
            },
            "type": "scattercarpet"
           }
          ],
          "scattergeo": [
           {
            "marker": {
             "colorbar": {
              "outlinewidth": 0,
              "ticks": ""
             }
            },
            "type": "scattergeo"
           }
          ],
          "scattergl": [
           {
            "marker": {
             "colorbar": {
              "outlinewidth": 0,
              "ticks": ""
             }
            },
            "type": "scattergl"
           }
          ],
          "scattermapbox": [
           {
            "marker": {
             "colorbar": {
              "outlinewidth": 0,
              "ticks": ""
             }
            },
            "type": "scattermapbox"
           }
          ],
          "scatterpolar": [
           {
            "marker": {
             "colorbar": {
              "outlinewidth": 0,
              "ticks": ""
             }
            },
            "type": "scatterpolar"
           }
          ],
          "scatterpolargl": [
           {
            "marker": {
             "colorbar": {
              "outlinewidth": 0,
              "ticks": ""
             }
            },
            "type": "scatterpolargl"
           }
          ],
          "scatterternary": [
           {
            "marker": {
             "colorbar": {
              "outlinewidth": 0,
              "ticks": ""
             }
            },
            "type": "scatterternary"
           }
          ],
          "surface": [
           {
            "colorbar": {
             "outlinewidth": 0,
             "ticks": ""
            },
            "colorscale": [
             [
              0,
              "#0d0887"
             ],
             [
              0.1111111111111111,
              "#46039f"
             ],
             [
              0.2222222222222222,
              "#7201a8"
             ],
             [
              0.3333333333333333,
              "#9c179e"
             ],
             [
              0.4444444444444444,
              "#bd3786"
             ],
             [
              0.5555555555555556,
              "#d8576b"
             ],
             [
              0.6666666666666666,
              "#ed7953"
             ],
             [
              0.7777777777777778,
              "#fb9f3a"
             ],
             [
              0.8888888888888888,
              "#fdca26"
             ],
             [
              1,
              "#f0f921"
             ]
            ],
            "type": "surface"
           }
          ],
          "table": [
           {
            "cells": {
             "fill": {
              "color": "#EBF0F8"
             },
             "line": {
              "color": "white"
             }
            },
            "header": {
             "fill": {
              "color": "#C8D4E3"
             },
             "line": {
              "color": "white"
             }
            },
            "type": "table"
           }
          ]
         },
         "layout": {
          "annotationdefaults": {
           "arrowcolor": "#2a3f5f",
           "arrowhead": 0,
           "arrowwidth": 1
          },
          "autotypenumbers": "strict",
          "coloraxis": {
           "colorbar": {
            "outlinewidth": 0,
            "ticks": ""
           }
          },
          "colorscale": {
           "diverging": [
            [
             0,
             "#8e0152"
            ],
            [
             0.1,
             "#c51b7d"
            ],
            [
             0.2,
             "#de77ae"
            ],
            [
             0.3,
             "#f1b6da"
            ],
            [
             0.4,
             "#fde0ef"
            ],
            [
             0.5,
             "#f7f7f7"
            ],
            [
             0.6,
             "#e6f5d0"
            ],
            [
             0.7,
             "#b8e186"
            ],
            [
             0.8,
             "#7fbc41"
            ],
            [
             0.9,
             "#4d9221"
            ],
            [
             1,
             "#276419"
            ]
           ],
           "sequential": [
            [
             0,
             "#0d0887"
            ],
            [
             0.1111111111111111,
             "#46039f"
            ],
            [
             0.2222222222222222,
             "#7201a8"
            ],
            [
             0.3333333333333333,
             "#9c179e"
            ],
            [
             0.4444444444444444,
             "#bd3786"
            ],
            [
             0.5555555555555556,
             "#d8576b"
            ],
            [
             0.6666666666666666,
             "#ed7953"
            ],
            [
             0.7777777777777778,
             "#fb9f3a"
            ],
            [
             0.8888888888888888,
             "#fdca26"
            ],
            [
             1,
             "#f0f921"
            ]
           ],
           "sequentialminus": [
            [
             0,
             "#0d0887"
            ],
            [
             0.1111111111111111,
             "#46039f"
            ],
            [
             0.2222222222222222,
             "#7201a8"
            ],
            [
             0.3333333333333333,
             "#9c179e"
            ],
            [
             0.4444444444444444,
             "#bd3786"
            ],
            [
             0.5555555555555556,
             "#d8576b"
            ],
            [
             0.6666666666666666,
             "#ed7953"
            ],
            [
             0.7777777777777778,
             "#fb9f3a"
            ],
            [
             0.8888888888888888,
             "#fdca26"
            ],
            [
             1,
             "#f0f921"
            ]
           ]
          },
          "colorway": [
           "#636efa",
           "#EF553B",
           "#00cc96",
           "#ab63fa",
           "#FFA15A",
           "#19d3f3",
           "#FF6692",
           "#B6E880",
           "#FF97FF",
           "#FECB52"
          ],
          "font": {
           "color": "#2a3f5f"
          },
          "geo": {
           "bgcolor": "white",
           "lakecolor": "white",
           "landcolor": "#E5ECF6",
           "showlakes": true,
           "showland": true,
           "subunitcolor": "white"
          },
          "hoverlabel": {
           "align": "left"
          },
          "hovermode": "closest",
          "mapbox": {
           "style": "light"
          },
          "paper_bgcolor": "white",
          "plot_bgcolor": "#E5ECF6",
          "polar": {
           "angularaxis": {
            "gridcolor": "white",
            "linecolor": "white",
            "ticks": ""
           },
           "bgcolor": "#E5ECF6",
           "radialaxis": {
            "gridcolor": "white",
            "linecolor": "white",
            "ticks": ""
           }
          },
          "scene": {
           "xaxis": {
            "backgroundcolor": "#E5ECF6",
            "gridcolor": "white",
            "gridwidth": 2,
            "linecolor": "white",
            "showbackground": true,
            "ticks": "",
            "zerolinecolor": "white"
           },
           "yaxis": {
            "backgroundcolor": "#E5ECF6",
            "gridcolor": "white",
            "gridwidth": 2,
            "linecolor": "white",
            "showbackground": true,
            "ticks": "",
            "zerolinecolor": "white"
           },
           "zaxis": {
            "backgroundcolor": "#E5ECF6",
            "gridcolor": "white",
            "gridwidth": 2,
            "linecolor": "white",
            "showbackground": true,
            "ticks": "",
            "zerolinecolor": "white"
           }
          },
          "shapedefaults": {
           "line": {
            "color": "#2a3f5f"
           }
          },
          "ternary": {
           "aaxis": {
            "gridcolor": "white",
            "linecolor": "white",
            "ticks": ""
           },
           "baxis": {
            "gridcolor": "white",
            "linecolor": "white",
            "ticks": ""
           },
           "bgcolor": "#E5ECF6",
           "caxis": {
            "gridcolor": "white",
            "linecolor": "white",
            "ticks": ""
           }
          },
          "title": {
           "x": 0.05
          },
          "xaxis": {
           "automargin": true,
           "gridcolor": "white",
           "linecolor": "white",
           "ticks": "",
           "title": {
            "standoff": 15
           },
           "zerolinecolor": "white",
           "zerolinewidth": 2
          },
          "yaxis": {
           "automargin": true,
           "gridcolor": "white",
           "linecolor": "white",
           "ticks": "",
           "title": {
            "standoff": 15
           },
           "zerolinecolor": "white",
           "zerolinewidth": 2
          }
         }
        },
        "xaxis": {
         "anchor": "y",
         "domain": [
          0,
          1
         ],
         "title": {
          "text": "simulation_time"
         }
        },
        "yaxis": {
         "anchor": "x",
         "domain": [
          0,
          1
         ],
         "title": {
          "text": "utilisation"
         }
        }
       }
      }
     },
     "metadata": {},
     "output_type": "display_data"
    }
   ],
   "source": [
    "# Run a single trial\n",
    "single_trial = Trial(param=Defaults())\n",
    "single_trial.run_trial()\n",
    "\n",
    "# Preview results\n",
    "display(single_trial.patient_results_df)\n",
    "display(single_trial.trial_results_df)\n",
    "display(single_trial.interval_audit_df)\n",
    "display(single_trial.overall_results_df)\n",
    "\n",
    "# Plot interval audit utilisation\n",
    "fig = px.line(single_trial.interval_audit_df,\n",
    "              x='simulation_time', y='utilisation', color='run')\n",
    "fig.show()\n",
    "\n",
    "# Calculate and plot median utilisation\n",
    "interval_audits_median = (single_trial\n",
    "                          .interval_audit_df\n",
    "                          .drop('resource_name', axis=1)\n",
    "                          .groupby('simulation_time')\n",
    "                          .median()\n",
    "                          .reset_index())\n",
    "fig = px.line(interval_audits_median,\n",
    "              x='simulation_time',\n",
    "              y='utilisation')\n",
    "fig.show()\n"
   ]
  },
  {
   "cell_type": "code",
   "execution_count": 12,
   "metadata": {},
   "outputs": [
    {
     "name": "stdout",
     "output_type": "stream",
     "text": [
      "    Cores  Run Time (seconds)\n",
      "0       1              11.744\n",
      "1       2               6.796\n",
      "2       3               4.958\n",
      "3       4               4.035\n",
      "4       5               3.532\n",
      "5       6               3.484\n",
      "6       7               3.381\n",
      "7       8               2.547\n",
      "8       9               2.350\n",
      "9      10               2.379\n",
      "10     11               3.065\n",
      "11     12               2.156\n",
      "12     13               2.041\n",
      "13     14               2.013\n"
     ]
    },
    {
     "data": {
      "application/vnd.plotly.v1+json": {
       "config": {
        "plotlyServerURL": "https://plot.ly"
       },
       "data": [
        {
         "hovertemplate": "Cores=%{x}<br>Run Time (seconds)=%{y}<extra></extra>",
         "legendgroup": "",
         "line": {
          "color": "#636efa",
          "dash": "solid"
         },
         "marker": {
          "symbol": "circle"
         },
         "mode": "lines",
         "name": "",
         "orientation": "v",
         "showlegend": false,
         "type": "scatter",
         "x": [
          1,
          2,
          3,
          4,
          5,
          6,
          7,
          8,
          9,
          10,
          11,
          12,
          13,
          14
         ],
         "xaxis": "x",
         "y": [
          11.744,
          6.796,
          4.958,
          4.035,
          3.532,
          3.484,
          3.381,
          2.547,
          2.35,
          2.379,
          3.065,
          2.156,
          2.041,
          2.013
         ],
         "yaxis": "y"
        }
       ],
       "layout": {
        "legend": {
         "tracegroupgap": 0
        },
        "margin": {
         "t": 60
        },
        "template": {
         "data": {
          "bar": [
           {
            "error_x": {
             "color": "#2a3f5f"
            },
            "error_y": {
             "color": "#2a3f5f"
            },
            "marker": {
             "line": {
              "color": "#E5ECF6",
              "width": 0.5
             },
             "pattern": {
              "fillmode": "overlay",
              "size": 10,
              "solidity": 0.2
             }
            },
            "type": "bar"
           }
          ],
          "barpolar": [
           {
            "marker": {
             "line": {
              "color": "#E5ECF6",
              "width": 0.5
             },
             "pattern": {
              "fillmode": "overlay",
              "size": 10,
              "solidity": 0.2
             }
            },
            "type": "barpolar"
           }
          ],
          "carpet": [
           {
            "aaxis": {
             "endlinecolor": "#2a3f5f",
             "gridcolor": "white",
             "linecolor": "white",
             "minorgridcolor": "white",
             "startlinecolor": "#2a3f5f"
            },
            "baxis": {
             "endlinecolor": "#2a3f5f",
             "gridcolor": "white",
             "linecolor": "white",
             "minorgridcolor": "white",
             "startlinecolor": "#2a3f5f"
            },
            "type": "carpet"
           }
          ],
          "choropleth": [
           {
            "colorbar": {
             "outlinewidth": 0,
             "ticks": ""
            },
            "type": "choropleth"
           }
          ],
          "contour": [
           {
            "colorbar": {
             "outlinewidth": 0,
             "ticks": ""
            },
            "colorscale": [
             [
              0,
              "#0d0887"
             ],
             [
              0.1111111111111111,
              "#46039f"
             ],
             [
              0.2222222222222222,
              "#7201a8"
             ],
             [
              0.3333333333333333,
              "#9c179e"
             ],
             [
              0.4444444444444444,
              "#bd3786"
             ],
             [
              0.5555555555555556,
              "#d8576b"
             ],
             [
              0.6666666666666666,
              "#ed7953"
             ],
             [
              0.7777777777777778,
              "#fb9f3a"
             ],
             [
              0.8888888888888888,
              "#fdca26"
             ],
             [
              1,
              "#f0f921"
             ]
            ],
            "type": "contour"
           }
          ],
          "contourcarpet": [
           {
            "colorbar": {
             "outlinewidth": 0,
             "ticks": ""
            },
            "type": "contourcarpet"
           }
          ],
          "heatmap": [
           {
            "colorbar": {
             "outlinewidth": 0,
             "ticks": ""
            },
            "colorscale": [
             [
              0,
              "#0d0887"
             ],
             [
              0.1111111111111111,
              "#46039f"
             ],
             [
              0.2222222222222222,
              "#7201a8"
             ],
             [
              0.3333333333333333,
              "#9c179e"
             ],
             [
              0.4444444444444444,
              "#bd3786"
             ],
             [
              0.5555555555555556,
              "#d8576b"
             ],
             [
              0.6666666666666666,
              "#ed7953"
             ],
             [
              0.7777777777777778,
              "#fb9f3a"
             ],
             [
              0.8888888888888888,
              "#fdca26"
             ],
             [
              1,
              "#f0f921"
             ]
            ],
            "type": "heatmap"
           }
          ],
          "heatmapgl": [
           {
            "colorbar": {
             "outlinewidth": 0,
             "ticks": ""
            },
            "colorscale": [
             [
              0,
              "#0d0887"
             ],
             [
              0.1111111111111111,
              "#46039f"
             ],
             [
              0.2222222222222222,
              "#7201a8"
             ],
             [
              0.3333333333333333,
              "#9c179e"
             ],
             [
              0.4444444444444444,
              "#bd3786"
             ],
             [
              0.5555555555555556,
              "#d8576b"
             ],
             [
              0.6666666666666666,
              "#ed7953"
             ],
             [
              0.7777777777777778,
              "#fb9f3a"
             ],
             [
              0.8888888888888888,
              "#fdca26"
             ],
             [
              1,
              "#f0f921"
             ]
            ],
            "type": "heatmapgl"
           }
          ],
          "histogram": [
           {
            "marker": {
             "pattern": {
              "fillmode": "overlay",
              "size": 10,
              "solidity": 0.2
             }
            },
            "type": "histogram"
           }
          ],
          "histogram2d": [
           {
            "colorbar": {
             "outlinewidth": 0,
             "ticks": ""
            },
            "colorscale": [
             [
              0,
              "#0d0887"
             ],
             [
              0.1111111111111111,
              "#46039f"
             ],
             [
              0.2222222222222222,
              "#7201a8"
             ],
             [
              0.3333333333333333,
              "#9c179e"
             ],
             [
              0.4444444444444444,
              "#bd3786"
             ],
             [
              0.5555555555555556,
              "#d8576b"
             ],
             [
              0.6666666666666666,
              "#ed7953"
             ],
             [
              0.7777777777777778,
              "#fb9f3a"
             ],
             [
              0.8888888888888888,
              "#fdca26"
             ],
             [
              1,
              "#f0f921"
             ]
            ],
            "type": "histogram2d"
           }
          ],
          "histogram2dcontour": [
           {
            "colorbar": {
             "outlinewidth": 0,
             "ticks": ""
            },
            "colorscale": [
             [
              0,
              "#0d0887"
             ],
             [
              0.1111111111111111,
              "#46039f"
             ],
             [
              0.2222222222222222,
              "#7201a8"
             ],
             [
              0.3333333333333333,
              "#9c179e"
             ],
             [
              0.4444444444444444,
              "#bd3786"
             ],
             [
              0.5555555555555556,
              "#d8576b"
             ],
             [
              0.6666666666666666,
              "#ed7953"
             ],
             [
              0.7777777777777778,
              "#fb9f3a"
             ],
             [
              0.8888888888888888,
              "#fdca26"
             ],
             [
              1,
              "#f0f921"
             ]
            ],
            "type": "histogram2dcontour"
           }
          ],
          "mesh3d": [
           {
            "colorbar": {
             "outlinewidth": 0,
             "ticks": ""
            },
            "type": "mesh3d"
           }
          ],
          "parcoords": [
           {
            "line": {
             "colorbar": {
              "outlinewidth": 0,
              "ticks": ""
             }
            },
            "type": "parcoords"
           }
          ],
          "pie": [
           {
            "automargin": true,
            "type": "pie"
           }
          ],
          "scatter": [
           {
            "fillpattern": {
             "fillmode": "overlay",
             "size": 10,
             "solidity": 0.2
            },
            "type": "scatter"
           }
          ],
          "scatter3d": [
           {
            "line": {
             "colorbar": {
              "outlinewidth": 0,
              "ticks": ""
             }
            },
            "marker": {
             "colorbar": {
              "outlinewidth": 0,
              "ticks": ""
             }
            },
            "type": "scatter3d"
           }
          ],
          "scattercarpet": [
           {
            "marker": {
             "colorbar": {
              "outlinewidth": 0,
              "ticks": ""
             }
            },
            "type": "scattercarpet"
           }
          ],
          "scattergeo": [
           {
            "marker": {
             "colorbar": {
              "outlinewidth": 0,
              "ticks": ""
             }
            },
            "type": "scattergeo"
           }
          ],
          "scattergl": [
           {
            "marker": {
             "colorbar": {
              "outlinewidth": 0,
              "ticks": ""
             }
            },
            "type": "scattergl"
           }
          ],
          "scattermapbox": [
           {
            "marker": {
             "colorbar": {
              "outlinewidth": 0,
              "ticks": ""
             }
            },
            "type": "scattermapbox"
           }
          ],
          "scatterpolar": [
           {
            "marker": {
             "colorbar": {
              "outlinewidth": 0,
              "ticks": ""
             }
            },
            "type": "scatterpolar"
           }
          ],
          "scatterpolargl": [
           {
            "marker": {
             "colorbar": {
              "outlinewidth": 0,
              "ticks": ""
             }
            },
            "type": "scatterpolargl"
           }
          ],
          "scatterternary": [
           {
            "marker": {
             "colorbar": {
              "outlinewidth": 0,
              "ticks": ""
             }
            },
            "type": "scatterternary"
           }
          ],
          "surface": [
           {
            "colorbar": {
             "outlinewidth": 0,
             "ticks": ""
            },
            "colorscale": [
             [
              0,
              "#0d0887"
             ],
             [
              0.1111111111111111,
              "#46039f"
             ],
             [
              0.2222222222222222,
              "#7201a8"
             ],
             [
              0.3333333333333333,
              "#9c179e"
             ],
             [
              0.4444444444444444,
              "#bd3786"
             ],
             [
              0.5555555555555556,
              "#d8576b"
             ],
             [
              0.6666666666666666,
              "#ed7953"
             ],
             [
              0.7777777777777778,
              "#fb9f3a"
             ],
             [
              0.8888888888888888,
              "#fdca26"
             ],
             [
              1,
              "#f0f921"
             ]
            ],
            "type": "surface"
           }
          ],
          "table": [
           {
            "cells": {
             "fill": {
              "color": "#EBF0F8"
             },
             "line": {
              "color": "white"
             }
            },
            "header": {
             "fill": {
              "color": "#C8D4E3"
             },
             "line": {
              "color": "white"
             }
            },
            "type": "table"
           }
          ]
         },
         "layout": {
          "annotationdefaults": {
           "arrowcolor": "#2a3f5f",
           "arrowhead": 0,
           "arrowwidth": 1
          },
          "autotypenumbers": "strict",
          "coloraxis": {
           "colorbar": {
            "outlinewidth": 0,
            "ticks": ""
           }
          },
          "colorscale": {
           "diverging": [
            [
             0,
             "#8e0152"
            ],
            [
             0.1,
             "#c51b7d"
            ],
            [
             0.2,
             "#de77ae"
            ],
            [
             0.3,
             "#f1b6da"
            ],
            [
             0.4,
             "#fde0ef"
            ],
            [
             0.5,
             "#f7f7f7"
            ],
            [
             0.6,
             "#e6f5d0"
            ],
            [
             0.7,
             "#b8e186"
            ],
            [
             0.8,
             "#7fbc41"
            ],
            [
             0.9,
             "#4d9221"
            ],
            [
             1,
             "#276419"
            ]
           ],
           "sequential": [
            [
             0,
             "#0d0887"
            ],
            [
             0.1111111111111111,
             "#46039f"
            ],
            [
             0.2222222222222222,
             "#7201a8"
            ],
            [
             0.3333333333333333,
             "#9c179e"
            ],
            [
             0.4444444444444444,
             "#bd3786"
            ],
            [
             0.5555555555555556,
             "#d8576b"
            ],
            [
             0.6666666666666666,
             "#ed7953"
            ],
            [
             0.7777777777777778,
             "#fb9f3a"
            ],
            [
             0.8888888888888888,
             "#fdca26"
            ],
            [
             1,
             "#f0f921"
            ]
           ],
           "sequentialminus": [
            [
             0,
             "#0d0887"
            ],
            [
             0.1111111111111111,
             "#46039f"
            ],
            [
             0.2222222222222222,
             "#7201a8"
            ],
            [
             0.3333333333333333,
             "#9c179e"
            ],
            [
             0.4444444444444444,
             "#bd3786"
            ],
            [
             0.5555555555555556,
             "#d8576b"
            ],
            [
             0.6666666666666666,
             "#ed7953"
            ],
            [
             0.7777777777777778,
             "#fb9f3a"
            ],
            [
             0.8888888888888888,
             "#fdca26"
            ],
            [
             1,
             "#f0f921"
            ]
           ]
          },
          "colorway": [
           "#636efa",
           "#EF553B",
           "#00cc96",
           "#ab63fa",
           "#FFA15A",
           "#19d3f3",
           "#FF6692",
           "#B6E880",
           "#FF97FF",
           "#FECB52"
          ],
          "font": {
           "color": "#2a3f5f"
          },
          "geo": {
           "bgcolor": "white",
           "lakecolor": "white",
           "landcolor": "#E5ECF6",
           "showlakes": true,
           "showland": true,
           "subunitcolor": "white"
          },
          "hoverlabel": {
           "align": "left"
          },
          "hovermode": "closest",
          "mapbox": {
           "style": "light"
          },
          "paper_bgcolor": "white",
          "plot_bgcolor": "#E5ECF6",
          "polar": {
           "angularaxis": {
            "gridcolor": "white",
            "linecolor": "white",
            "ticks": ""
           },
           "bgcolor": "#E5ECF6",
           "radialaxis": {
            "gridcolor": "white",
            "linecolor": "white",
            "ticks": ""
           }
          },
          "scene": {
           "xaxis": {
            "backgroundcolor": "#E5ECF6",
            "gridcolor": "white",
            "gridwidth": 2,
            "linecolor": "white",
            "showbackground": true,
            "ticks": "",
            "zerolinecolor": "white"
           },
           "yaxis": {
            "backgroundcolor": "#E5ECF6",
            "gridcolor": "white",
            "gridwidth": 2,
            "linecolor": "white",
            "showbackground": true,
            "ticks": "",
            "zerolinecolor": "white"
           },
           "zaxis": {
            "backgroundcolor": "#E5ECF6",
            "gridcolor": "white",
            "gridwidth": 2,
            "linecolor": "white",
            "showbackground": true,
            "ticks": "",
            "zerolinecolor": "white"
           }
          },
          "shapedefaults": {
           "line": {
            "color": "#2a3f5f"
           }
          },
          "ternary": {
           "aaxis": {
            "gridcolor": "white",
            "linecolor": "white",
            "ticks": ""
           },
           "baxis": {
            "gridcolor": "white",
            "linecolor": "white",
            "ticks": ""
           },
           "bgcolor": "#E5ECF6",
           "caxis": {
            "gridcolor": "white",
            "linecolor": "white",
            "ticks": ""
           }
          },
          "title": {
           "x": 0.05
          },
          "xaxis": {
           "automargin": true,
           "gridcolor": "white",
           "linecolor": "white",
           "ticks": "",
           "title": {
            "standoff": 15
           },
           "zerolinecolor": "white",
           "zerolinewidth": 2
          },
          "yaxis": {
           "automargin": true,
           "gridcolor": "white",
           "linecolor": "white",
           "ticks": "",
           "title": {
            "standoff": 15
           },
           "zerolinecolor": "white",
           "zerolinewidth": 2
          }
         }
        },
        "xaxis": {
         "anchor": "y",
         "domain": [
          0,
          1
         ],
         "title": {
          "text": "Cores"
         }
        },
        "yaxis": {
         "anchor": "x",
         "domain": [
          0,
          1
         ],
         "title": {
          "text": "Run Time (seconds)"
         }
        }
       }
      }
     },
     "metadata": {},
     "output_type": "display_data"
    }
   ],
   "source": [
    "# Run with 1 to 14 cores\n",
    "speed = []\n",
    "param=Defaults()\n",
    "param.number_of_runs = 100\n",
    "for i in range(1, 15, 1):\n",
    "    start_time = time.time()\n",
    "    my_trial = Trial(param)\n",
    "    my_trial.run_trial(cores=i)\n",
    "    run_time = round((time.time() - start_time), 3)\n",
    "    speed.append({'Cores': i, 'Run Time (seconds)': run_time})\n",
    "\n",
    "# Display and plot time by number of cores\n",
    "timing_results = pd.DataFrame(speed)\n",
    "print(timing_results)\n",
    "fig = px.line(timing_results, x='Cores', y='Run Time (seconds)')\n",
    "fig.show()"
   ]
  },
  {
   "cell_type": "code",
   "execution_count": 13,
   "metadata": {},
   "outputs": [
    {
     "name": "stdout",
     "output_type": "stream",
     "text": [
      "There are 27 scenarios. For example:\n"
     ]
    },
    {
     "data": {
      "text/plain": [
       "[{'patient_inter': 5, 'mean_n_consult_time': 15, 'number_of_nurses': 3},\n",
       " {'patient_inter': 5, 'mean_n_consult_time': 15, 'number_of_nurses': 6},\n",
       " {'patient_inter': 5, 'mean_n_consult_time': 15, 'number_of_nurses': 9},\n",
       " {'patient_inter': 5, 'mean_n_consult_time': 20, 'number_of_nurses': 3},\n",
       " {'patient_inter': 5, 'mean_n_consult_time': 20, 'number_of_nurses': 6},\n",
       " {'patient_inter': 5, 'mean_n_consult_time': 20, 'number_of_nurses': 9}]"
      ]
     },
     "metadata": {},
     "output_type": "display_data"
    },
    {
     "name": "stderr",
     "output_type": "stream",
     "text": [
      "/home/amy/mambaforge/envs/template-des/lib/python3.13/site-packages/scipy/stats/_distn_infrastructure.py:2285: RuntimeWarning:\n",
      "\n",
      "invalid value encountered in multiply\n",
      "\n",
      "/home/amy/mambaforge/envs/template-des/lib/python3.13/site-packages/scipy/stats/_distn_infrastructure.py:2286: RuntimeWarning:\n",
      "\n",
      "invalid value encountered in multiply\n",
      "\n",
      "/home/amy/mambaforge/envs/template-des/lib/python3.13/site-packages/scipy/stats/_distn_infrastructure.py:2285: RuntimeWarning:\n",
      "\n",
      "invalid value encountered in multiply\n",
      "\n",
      "/home/amy/mambaforge/envs/template-des/lib/python3.13/site-packages/scipy/stats/_distn_infrastructure.py:2286: RuntimeWarning:\n",
      "\n",
      "invalid value encountered in multiply\n",
      "\n",
      "/home/amy/mambaforge/envs/template-des/lib/python3.13/site-packages/scipy/stats/_distn_infrastructure.py:2285: RuntimeWarning:\n",
      "\n",
      "invalid value encountered in multiply\n",
      "\n",
      "/home/amy/mambaforge/envs/template-des/lib/python3.13/site-packages/scipy/stats/_distn_infrastructure.py:2286: RuntimeWarning:\n",
      "\n",
      "invalid value encountered in multiply\n",
      "\n"
     ]
    },
    {
     "data": {
      "text/html": [
       "<div>\n",
       "<style scoped>\n",
       "    .dataframe tbody tr th:only-of-type {\n",
       "        vertical-align: middle;\n",
       "    }\n",
       "\n",
       "    .dataframe tbody tr th {\n",
       "        vertical-align: top;\n",
       "    }\n",
       "\n",
       "    .dataframe thead th {\n",
       "        text-align: right;\n",
       "    }\n",
       "</style>\n",
       "<table border=\"1\" class=\"dataframe\">\n",
       "  <thead>\n",
       "    <tr style=\"text-align: right;\">\n",
       "      <th></th>\n",
       "      <th>arrivals</th>\n",
       "      <th>mean_q_time_nurse</th>\n",
       "      <th>mean_time_with_nurse</th>\n",
       "      <th>mean_nurse_utilisation</th>\n",
       "    </tr>\n",
       "    <tr>\n",
       "      <th>scenario</th>\n",
       "      <th></th>\n",
       "      <th></th>\n",
       "      <th></th>\n",
       "      <th></th>\n",
       "    </tr>\n",
       "  </thead>\n",
       "  <tbody>\n",
       "    <tr>\n",
       "      <th>0</th>\n",
       "      <td>8675.0</td>\n",
       "      <td>438.223177</td>\n",
       "      <td>14.973316</td>\n",
       "      <td>0.997347</td>\n",
       "    </tr>\n",
       "    <tr>\n",
       "      <th>1</th>\n",
       "      <td>8675.0</td>\n",
       "      <td>0.499985</td>\n",
       "      <td>14.973353</td>\n",
       "      <td>0.500730</td>\n",
       "    </tr>\n",
       "    <tr>\n",
       "      <th>2</th>\n",
       "      <td>8675.0</td>\n",
       "      <td>0.014008</td>\n",
       "      <td>14.973171</td>\n",
       "      <td>0.333867</td>\n",
       "    </tr>\n",
       "    <tr>\n",
       "      <th>3</th>\n",
       "      <td>8675.0</td>\n",
       "      <td>11071.520375</td>\n",
       "      <td>19.900799</td>\n",
       "      <td>0.999506</td>\n",
       "    </tr>\n",
       "    <tr>\n",
       "      <th>4</th>\n",
       "      <td>8675.0</td>\n",
       "      <td>2.986440</td>\n",
       "      <td>19.963676</td>\n",
       "      <td>0.667406</td>\n",
       "    </tr>\n",
       "    <tr>\n",
       "      <th>5</th>\n",
       "      <td>8675.0</td>\n",
       "      <td>0.101103</td>\n",
       "      <td>19.963760</td>\n",
       "      <td>0.445021</td>\n",
       "    </tr>\n",
       "    <tr>\n",
       "      <th>6</th>\n",
       "      <td>8675.0</td>\n",
       "      <td>30438.035146</td>\n",
       "      <td>34.722447</td>\n",
       "      <td>0.999212</td>\n",
       "    </tr>\n",
       "    <tr>\n",
       "      <th>7</th>\n",
       "      <td>8675.0</td>\n",
       "      <td>6177.665586</td>\n",
       "      <td>34.798605</td>\n",
       "      <td>0.999169</td>\n",
       "    </tr>\n",
       "    <tr>\n",
       "      <th>8</th>\n",
       "      <td>8675.0</td>\n",
       "      <td>7.109108</td>\n",
       "      <td>34.934277</td>\n",
       "      <td>0.778212</td>\n",
       "    </tr>\n",
       "    <tr>\n",
       "      <th>9</th>\n",
       "      <td>4333.4</td>\n",
       "      <td>2.510245</td>\n",
       "      <td>15.038254</td>\n",
       "      <td>0.502613</td>\n",
       "    </tr>\n",
       "    <tr>\n",
       "      <th>10</th>\n",
       "      <td>4333.4</td>\n",
       "      <td>0.016694</td>\n",
       "      <td>15.038254</td>\n",
       "      <td>0.251300</td>\n",
       "    </tr>\n",
       "    <tr>\n",
       "      <th>11</th>\n",
       "      <td>4333.4</td>\n",
       "      <td>0.000000</td>\n",
       "      <td>15.038254</td>\n",
       "      <td>0.167533</td>\n",
       "    </tr>\n",
       "    <tr>\n",
       "      <th>12</th>\n",
       "      <td>4333.4</td>\n",
       "      <td>9.205828</td>\n",
       "      <td>20.051006</td>\n",
       "      <td>0.670273</td>\n",
       "    </tr>\n",
       "    <tr>\n",
       "      <th>13</th>\n",
       "      <td>4333.4</td>\n",
       "      <td>0.103445</td>\n",
       "      <td>20.051006</td>\n",
       "      <td>0.335056</td>\n",
       "    </tr>\n",
       "    <tr>\n",
       "      <th>14</th>\n",
       "      <td>4333.4</td>\n",
       "      <td>0.000483</td>\n",
       "      <td>20.051006</td>\n",
       "      <td>0.223371</td>\n",
       "    </tr>\n",
       "    <tr>\n",
       "      <th>15</th>\n",
       "      <td>4333.4</td>\n",
       "      <td>6274.910999</td>\n",
       "      <td>34.866368</td>\n",
       "      <td>0.999018</td>\n",
       "    </tr>\n",
       "    <tr>\n",
       "      <th>16</th>\n",
       "      <td>4333.4</td>\n",
       "      <td>2.774465</td>\n",
       "      <td>35.089260</td>\n",
       "      <td>0.586238</td>\n",
       "    </tr>\n",
       "    <tr>\n",
       "      <th>17</th>\n",
       "      <td>4333.4</td>\n",
       "      <td>0.086401</td>\n",
       "      <td>35.089260</td>\n",
       "      <td>0.390827</td>\n",
       "    </tr>\n",
       "    <tr>\n",
       "      <th>18</th>\n",
       "      <td>2891.2</td>\n",
       "      <td>0.746971</td>\n",
       "      <td>14.957773</td>\n",
       "      <td>0.333516</td>\n",
       "    </tr>\n",
       "    <tr>\n",
       "      <th>19</th>\n",
       "      <td>2891.2</td>\n",
       "      <td>0.000724</td>\n",
       "      <td>14.957773</td>\n",
       "      <td>0.166758</td>\n",
       "    </tr>\n",
       "  </tbody>\n",
       "</table>\n",
       "</div>"
      ],
      "text/plain": [
       "          arrivals  mean_q_time_nurse  mean_time_with_nurse  \\\n",
       "scenario                                                      \n",
       "0           8675.0         438.223177             14.973316   \n",
       "1           8675.0           0.499985             14.973353   \n",
       "2           8675.0           0.014008             14.973171   \n",
       "3           8675.0       11071.520375             19.900799   \n",
       "4           8675.0           2.986440             19.963676   \n",
       "5           8675.0           0.101103             19.963760   \n",
       "6           8675.0       30438.035146             34.722447   \n",
       "7           8675.0        6177.665586             34.798605   \n",
       "8           8675.0           7.109108             34.934277   \n",
       "9           4333.4           2.510245             15.038254   \n",
       "10          4333.4           0.016694             15.038254   \n",
       "11          4333.4           0.000000             15.038254   \n",
       "12          4333.4           9.205828             20.051006   \n",
       "13          4333.4           0.103445             20.051006   \n",
       "14          4333.4           0.000483             20.051006   \n",
       "15          4333.4        6274.910999             34.866368   \n",
       "16          4333.4           2.774465             35.089260   \n",
       "17          4333.4           0.086401             35.089260   \n",
       "18          2891.2           0.746971             14.957773   \n",
       "19          2891.2           0.000724             14.957773   \n",
       "\n",
       "          mean_nurse_utilisation  \n",
       "scenario                          \n",
       "0                       0.997347  \n",
       "1                       0.500730  \n",
       "2                       0.333867  \n",
       "3                       0.999506  \n",
       "4                       0.667406  \n",
       "5                       0.445021  \n",
       "6                       0.999212  \n",
       "7                       0.999169  \n",
       "8                       0.778212  \n",
       "9                       0.502613  \n",
       "10                      0.251300  \n",
       "11                      0.167533  \n",
       "12                      0.670273  \n",
       "13                      0.335056  \n",
       "14                      0.223371  \n",
       "15                      0.999018  \n",
       "16                      0.586238  \n",
       "17                      0.390827  \n",
       "18                      0.333516  \n",
       "19                      0.166758  "
      ]
     },
     "metadata": {},
     "output_type": "display_data"
    }
   ],
   "source": [
    "# TODO: Alter how this runs so fresh Defaults() each time\n",
    "\n",
    "# Define a set of scenarios\n",
    "param = Defaults()\n",
    "param.number_of_runs = 5\n",
    "scenarios = {\n",
    "    'patient_inter': [5, 10, 15],\n",
    "    'mean_n_consult_time': [15, 20, 35],\n",
    "    'number_of_nurses': [3, 6, 9]\n",
    "}\n",
    "\n",
    "# Find every possible permutation of the scenarios\n",
    "all_scenarios_tuples = list(itertools.product(*scenarios.values()))\n",
    "# Convert back into dictionaries\n",
    "all_scenarios_dicts = [\n",
    "    dict(zip(scenarios.keys(), p)) for p in all_scenarios_tuples]\n",
    "# Preview some of the scenarios\n",
    "print(f'There are {len(all_scenarios_dicts)} scenarios. For example:')\n",
    "display(all_scenarios_dicts[0:6])\n",
    "\n",
    "# Run the scenarios...\n",
    "results = []\n",
    "for index, scenario_to_run in enumerate(all_scenarios_dicts):\n",
    "    # Overwrite defaults from the passed dictionary\n",
    "    param.scenario_name = index\n",
    "    for key in scenario_to_run:\n",
    "        setattr(param, key, scenario_to_run[key])\n",
    "    # Run trial and keep trial-level results\n",
    "    my_trial = Trial(param)\n",
    "    my_trial.run_trial()\n",
    "    results.append(my_trial.trial_results_df)\n",
    "# View mean results by scenario\n",
    "display(pd.concat(results)\n",
    "        .drop('run_number', axis=1)\n",
    "        .groupby('scenario')\n",
    "        .mean()\n",
    "        .head(20))\n",
    "\n",
    "# TODO: Issue: warm-up patients use resources but their activity is excluded\n",
    "# from metrics. Post-warm-up patients queue behind these, making it look\n",
    "# like resources are under-utilised during the measurement period if there are\n",
    "# long queues (e.g. due to really short inter-arrival times)"
   ]
  }
 ],
 "metadata": {
  "kernelspec": {
   "display_name": "template-des",
   "language": "python",
   "name": "python3"
  },
  "language_info": {
   "codemirror_mode": {
    "name": "ipython",
    "version": 3
   },
   "file_extension": ".py",
   "mimetype": "text/x-python",
   "name": "python",
   "nbconvert_exporter": "python",
   "pygments_lexer": "ipython3",
   "version": "3.13.0"
  }
 },
 "nbformat": 4,
 "nbformat_minor": 2
}
