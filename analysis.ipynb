{
 "cells": [
  {
   "cell_type": "markdown",
   "metadata": {},
   "source": [
    "# Analysis\n",
    "\n",
    "In this analysis, unit of time used in simulation is minutes.\n",
    "\n",
    "Credit:\n",
    "\n",
    "* Analysis of the warm-up period, number of replications and spread of results across replications is adapted from Tom Monks (2024) HPDM097 - Making a difference with health data (https://github.com/health-data-science-OR/stochastic_systems) (MIT License). \n",
    "\n",
    "License:\n",
    "\n",
    "* This project is licensed under the MIT License. See the LICENSE file for more details.\n",
    "\n",
    "TODO: Create Latex-formatted table.\n",
    "\n",
    "TODO: Mention alternative methods for choosing warm-up period length (or keep it simple?)\n",
    "\n",
    "TODO: Mention alternative methods for choosing number of replications (or keep it simple?)\n",
    "\n",
    "TODO: Consider whether to add time unit to model docstrings etc."
   ]
  },
  {
   "cell_type": "code",
   "execution_count": 1,
   "metadata": {},
   "outputs": [],
   "source": [
    "# Model code\n",
    "from model import Defaults, Trial\n",
    "\n",
    "# Other dependencies\n",
    "import numpy as np\n",
    "import time\n",
    "import itertools\n",
    "from IPython.display import display\n",
    "import pandas as pd\n",
    "import plotly.express as px\n",
    "import scipy.stats as st"
   ]
  },
  {
   "cell_type": "markdown",
   "metadata": {},
   "source": [
    "## Choosing length of warm-up period\n",
    "\n",
    "A suitable length for the warm-up period can be determined using the **time series inspection approach**. This involves looking at performance measures over time to identify when the system is exhibiting **steady state behaviour** (even though the system will never truly reach a \"steady state\").\n",
    "\n",
    "If we simply plot the mean result at regular intervals, this would vary too much. Therefore, we plot the **cumulative mean** of the performance measure, and look for the point at which this **smoothes out and stabilises**. This indicates the point for the warm-up period to end.\n",
    "\n",
    "This should be assessed when running the model using the base case parameters. If these change, you should reassess the appropriate warm-up period."
   ]
  },
  {
   "cell_type": "code",
   "execution_count": 2,
   "metadata": {},
   "outputs": [],
   "source": [
    "def time_series_inspection(data_collection_period, warm_up=None):\n",
    "    \"\"\"\n",
    "    Time series inspection method for determining length of warm-up.\n",
    "\n",
    "    Arguments:\n",
    "        data_collection_period (float):\n",
    "            Length of time to run the simulation for.\n",
    "        warm_up (float, optional):\n",
    "            Location on X axis to plot vertical red line indicating the chosen\n",
    "            warm-up period. Defaults to None, which will not plot a line.\n",
    "    \"\"\"\n",
    "    # Use default parameters, but with no warm-up and specified run length\n",
    "    param = Defaults()\n",
    "    param.warm_up_period = 0\n",
    "    param.data_collection_period = data_collection_period\n",
    "    # display(param.__dict__)\n",
    "\n",
    "    # Run model\n",
    "    choose_warmup = Trial(param)\n",
    "    choose_warmup.run_trial()\n",
    "\n",
    "    # Filter to nurse results\n",
    "    nurse = choose_warmup.interval_audit_df[\n",
    "        choose_warmup.interval_audit_df['resource_name'] == 'nurse']\n",
    "\n",
    "    # Define columns to analyse\n",
    "    plot = {\n",
    "        'utilisation': 'Cumulative mean nurse utilisation',\n",
    "        'running_mean_wait_time': 'Running mean nurse wait time'\n",
    "    }\n",
    "    for var, label in plot.items():\n",
    "        # Reformat so index is simulation time and columns are each run\n",
    "        reformat = (\n",
    "            nurse[['simulation_time', var, 'run']]\n",
    "            .pivot(index='simulation_time',\n",
    "                columns='run',\n",
    "                values=var))\n",
    "\n",
    "        # Find mean at each time interval across replications\n",
    "        # Then, for utilisation, calculate cumulative mean (not necessary\n",
    "        # for wait time as that is already a running mean)\n",
    "        if var == 'utilisation':\n",
    "            cumulative = reformat.mean(axis=1).expanding().mean()\n",
    "        elif var == 'running_mean_wait_time':\n",
    "            cumulative = reformat.mean(axis=1)\n",
    "\n",
    "        # Create plot. If specified, add vertical line to indicate suggested\n",
    "        # warm-up length\n",
    "        fig = px.line(cumulative)\n",
    "        fig.update_layout(\n",
    "            xaxis_title = 'Run time (minutes)',\n",
    "            yaxis_title = label,\n",
    "            showlegend=False\n",
    "        )\n",
    "        if warm_up is not None:\n",
    "            fig.add_vline(x=warm_up, line_color='red', line_dash='dash')\n",
    "        fig.show()"
   ]
  },
  {
   "cell_type": "markdown",
   "metadata": {},
   "source": [
    "Having run the model for three days, it appears to reach a steady state at around 2500 minutes."
   ]
  },
  {
   "cell_type": "code",
   "execution_count": 3,
   "metadata": {},
   "outputs": [
    {
     "data": {
      "application/vnd.plotly.v1+json": {
       "config": {
        "plotlyServerURL": "https://plot.ly"
       },
       "data": [
        {
         "hovertemplate": "variable=0<br>simulation_time=%{x}<br>value=%{y}<extra></extra>",
         "legendgroup": "0",
         "line": {
          "color": "#636efa",
          "dash": "solid"
         },
         "marker": {
          "symbol": "circle"
         },
         "mode": "lines",
         "name": "0",
         "orientation": "v",
         "showlegend": true,
         "type": "scatter",
         "x": [
          0,
          120,
          240,
          360,
          480,
          600,
          720,
          840,
          960,
          1080,
          1200,
          1320,
          1440,
          1560,
          1680,
          1800,
          1920,
          2040,
          2160,
          2280,
          2400,
          2520,
          2640,
          2760,
          2880,
          3000,
          3120,
          3240,
          3360,
          3480,
          3600,
          3720,
          3840,
          3960,
          4080,
          4200
         ],
         "xaxis": "x",
         "y": [
          0,
          0.21999999999999997,
          0.3533333333333333,
          0.365,
          0.376,
          0.39999999999999997,
          0.40857142857142853,
          0.4275,
          0.4288888888888889,
          0.43200000000000005,
          0.43454545454545457,
          0.43333333333333335,
          0.44461538461538463,
          0.44,
          0.444,
          0.4525,
          0.46,
          0.4633333333333333,
          0.4694736842105263,
          0.46799999999999997,
          0.46190476190476193,
          0.46545454545454545,
          0.46347826086956523,
          0.46416666666666667,
          0.46480000000000005,
          0.46692307692307694,
          0.4644444444444445,
          0.45642857142857146,
          0.4558620689655173,
          0.45733333333333337,
          0.4625806451612903,
          0.45875,
          0.4587878787878788,
          0.46058823529411763,
          0.4622857142857143,
          0.46111111111111114
         ],
         "yaxis": "y"
        }
       ],
       "layout": {
        "legend": {
         "title": {
          "text": "variable"
         },
         "tracegroupgap": 0
        },
        "margin": {
         "t": 60
        },
        "shapes": [
         {
          "line": {
           "color": "red",
           "dash": "dash"
          },
          "type": "line",
          "x0": 2520,
          "x1": 2520,
          "xref": "x",
          "y0": 0,
          "y1": 1,
          "yref": "y domain"
         }
        ],
        "showlegend": false,
        "template": {
         "data": {
          "bar": [
           {
            "error_x": {
             "color": "#2a3f5f"
            },
            "error_y": {
             "color": "#2a3f5f"
            },
            "marker": {
             "line": {
              "color": "#E5ECF6",
              "width": 0.5
             },
             "pattern": {
              "fillmode": "overlay",
              "size": 10,
              "solidity": 0.2
             }
            },
            "type": "bar"
           }
          ],
          "barpolar": [
           {
            "marker": {
             "line": {
              "color": "#E5ECF6",
              "width": 0.5
             },
             "pattern": {
              "fillmode": "overlay",
              "size": 10,
              "solidity": 0.2
             }
            },
            "type": "barpolar"
           }
          ],
          "carpet": [
           {
            "aaxis": {
             "endlinecolor": "#2a3f5f",
             "gridcolor": "white",
             "linecolor": "white",
             "minorgridcolor": "white",
             "startlinecolor": "#2a3f5f"
            },
            "baxis": {
             "endlinecolor": "#2a3f5f",
             "gridcolor": "white",
             "linecolor": "white",
             "minorgridcolor": "white",
             "startlinecolor": "#2a3f5f"
            },
            "type": "carpet"
           }
          ],
          "choropleth": [
           {
            "colorbar": {
             "outlinewidth": 0,
             "ticks": ""
            },
            "type": "choropleth"
           }
          ],
          "contour": [
           {
            "colorbar": {
             "outlinewidth": 0,
             "ticks": ""
            },
            "colorscale": [
             [
              0,
              "#0d0887"
             ],
             [
              0.1111111111111111,
              "#46039f"
             ],
             [
              0.2222222222222222,
              "#7201a8"
             ],
             [
              0.3333333333333333,
              "#9c179e"
             ],
             [
              0.4444444444444444,
              "#bd3786"
             ],
             [
              0.5555555555555556,
              "#d8576b"
             ],
             [
              0.6666666666666666,
              "#ed7953"
             ],
             [
              0.7777777777777778,
              "#fb9f3a"
             ],
             [
              0.8888888888888888,
              "#fdca26"
             ],
             [
              1,
              "#f0f921"
             ]
            ],
            "type": "contour"
           }
          ],
          "contourcarpet": [
           {
            "colorbar": {
             "outlinewidth": 0,
             "ticks": ""
            },
            "type": "contourcarpet"
           }
          ],
          "heatmap": [
           {
            "colorbar": {
             "outlinewidth": 0,
             "ticks": ""
            },
            "colorscale": [
             [
              0,
              "#0d0887"
             ],
             [
              0.1111111111111111,
              "#46039f"
             ],
             [
              0.2222222222222222,
              "#7201a8"
             ],
             [
              0.3333333333333333,
              "#9c179e"
             ],
             [
              0.4444444444444444,
              "#bd3786"
             ],
             [
              0.5555555555555556,
              "#d8576b"
             ],
             [
              0.6666666666666666,
              "#ed7953"
             ],
             [
              0.7777777777777778,
              "#fb9f3a"
             ],
             [
              0.8888888888888888,
              "#fdca26"
             ],
             [
              1,
              "#f0f921"
             ]
            ],
            "type": "heatmap"
           }
          ],
          "heatmapgl": [
           {
            "colorbar": {
             "outlinewidth": 0,
             "ticks": ""
            },
            "colorscale": [
             [
              0,
              "#0d0887"
             ],
             [
              0.1111111111111111,
              "#46039f"
             ],
             [
              0.2222222222222222,
              "#7201a8"
             ],
             [
              0.3333333333333333,
              "#9c179e"
             ],
             [
              0.4444444444444444,
              "#bd3786"
             ],
             [
              0.5555555555555556,
              "#d8576b"
             ],
             [
              0.6666666666666666,
              "#ed7953"
             ],
             [
              0.7777777777777778,
              "#fb9f3a"
             ],
             [
              0.8888888888888888,
              "#fdca26"
             ],
             [
              1,
              "#f0f921"
             ]
            ],
            "type": "heatmapgl"
           }
          ],
          "histogram": [
           {
            "marker": {
             "pattern": {
              "fillmode": "overlay",
              "size": 10,
              "solidity": 0.2
             }
            },
            "type": "histogram"
           }
          ],
          "histogram2d": [
           {
            "colorbar": {
             "outlinewidth": 0,
             "ticks": ""
            },
            "colorscale": [
             [
              0,
              "#0d0887"
             ],
             [
              0.1111111111111111,
              "#46039f"
             ],
             [
              0.2222222222222222,
              "#7201a8"
             ],
             [
              0.3333333333333333,
              "#9c179e"
             ],
             [
              0.4444444444444444,
              "#bd3786"
             ],
             [
              0.5555555555555556,
              "#d8576b"
             ],
             [
              0.6666666666666666,
              "#ed7953"
             ],
             [
              0.7777777777777778,
              "#fb9f3a"
             ],
             [
              0.8888888888888888,
              "#fdca26"
             ],
             [
              1,
              "#f0f921"
             ]
            ],
            "type": "histogram2d"
           }
          ],
          "histogram2dcontour": [
           {
            "colorbar": {
             "outlinewidth": 0,
             "ticks": ""
            },
            "colorscale": [
             [
              0,
              "#0d0887"
             ],
             [
              0.1111111111111111,
              "#46039f"
             ],
             [
              0.2222222222222222,
              "#7201a8"
             ],
             [
              0.3333333333333333,
              "#9c179e"
             ],
             [
              0.4444444444444444,
              "#bd3786"
             ],
             [
              0.5555555555555556,
              "#d8576b"
             ],
             [
              0.6666666666666666,
              "#ed7953"
             ],
             [
              0.7777777777777778,
              "#fb9f3a"
             ],
             [
              0.8888888888888888,
              "#fdca26"
             ],
             [
              1,
              "#f0f921"
             ]
            ],
            "type": "histogram2dcontour"
           }
          ],
          "mesh3d": [
           {
            "colorbar": {
             "outlinewidth": 0,
             "ticks": ""
            },
            "type": "mesh3d"
           }
          ],
          "parcoords": [
           {
            "line": {
             "colorbar": {
              "outlinewidth": 0,
              "ticks": ""
             }
            },
            "type": "parcoords"
           }
          ],
          "pie": [
           {
            "automargin": true,
            "type": "pie"
           }
          ],
          "scatter": [
           {
            "fillpattern": {
             "fillmode": "overlay",
             "size": 10,
             "solidity": 0.2
            },
            "type": "scatter"
           }
          ],
          "scatter3d": [
           {
            "line": {
             "colorbar": {
              "outlinewidth": 0,
              "ticks": ""
             }
            },
            "marker": {
             "colorbar": {
              "outlinewidth": 0,
              "ticks": ""
             }
            },
            "type": "scatter3d"
           }
          ],
          "scattercarpet": [
           {
            "marker": {
             "colorbar": {
              "outlinewidth": 0,
              "ticks": ""
             }
            },
            "type": "scattercarpet"
           }
          ],
          "scattergeo": [
           {
            "marker": {
             "colorbar": {
              "outlinewidth": 0,
              "ticks": ""
             }
            },
            "type": "scattergeo"
           }
          ],
          "scattergl": [
           {
            "marker": {
             "colorbar": {
              "outlinewidth": 0,
              "ticks": ""
             }
            },
            "type": "scattergl"
           }
          ],
          "scattermapbox": [
           {
            "marker": {
             "colorbar": {
              "outlinewidth": 0,
              "ticks": ""
             }
            },
            "type": "scattermapbox"
           }
          ],
          "scatterpolar": [
           {
            "marker": {
             "colorbar": {
              "outlinewidth": 0,
              "ticks": ""
             }
            },
            "type": "scatterpolar"
           }
          ],
          "scatterpolargl": [
           {
            "marker": {
             "colorbar": {
              "outlinewidth": 0,
              "ticks": ""
             }
            },
            "type": "scatterpolargl"
           }
          ],
          "scatterternary": [
           {
            "marker": {
             "colorbar": {
              "outlinewidth": 0,
              "ticks": ""
             }
            },
            "type": "scatterternary"
           }
          ],
          "surface": [
           {
            "colorbar": {
             "outlinewidth": 0,
             "ticks": ""
            },
            "colorscale": [
             [
              0,
              "#0d0887"
             ],
             [
              0.1111111111111111,
              "#46039f"
             ],
             [
              0.2222222222222222,
              "#7201a8"
             ],
             [
              0.3333333333333333,
              "#9c179e"
             ],
             [
              0.4444444444444444,
              "#bd3786"
             ],
             [
              0.5555555555555556,
              "#d8576b"
             ],
             [
              0.6666666666666666,
              "#ed7953"
             ],
             [
              0.7777777777777778,
              "#fb9f3a"
             ],
             [
              0.8888888888888888,
              "#fdca26"
             ],
             [
              1,
              "#f0f921"
             ]
            ],
            "type": "surface"
           }
          ],
          "table": [
           {
            "cells": {
             "fill": {
              "color": "#EBF0F8"
             },
             "line": {
              "color": "white"
             }
            },
            "header": {
             "fill": {
              "color": "#C8D4E3"
             },
             "line": {
              "color": "white"
             }
            },
            "type": "table"
           }
          ]
         },
         "layout": {
          "annotationdefaults": {
           "arrowcolor": "#2a3f5f",
           "arrowhead": 0,
           "arrowwidth": 1
          },
          "autotypenumbers": "strict",
          "coloraxis": {
           "colorbar": {
            "outlinewidth": 0,
            "ticks": ""
           }
          },
          "colorscale": {
           "diverging": [
            [
             0,
             "#8e0152"
            ],
            [
             0.1,
             "#c51b7d"
            ],
            [
             0.2,
             "#de77ae"
            ],
            [
             0.3,
             "#f1b6da"
            ],
            [
             0.4,
             "#fde0ef"
            ],
            [
             0.5,
             "#f7f7f7"
            ],
            [
             0.6,
             "#e6f5d0"
            ],
            [
             0.7,
             "#b8e186"
            ],
            [
             0.8,
             "#7fbc41"
            ],
            [
             0.9,
             "#4d9221"
            ],
            [
             1,
             "#276419"
            ]
           ],
           "sequential": [
            [
             0,
             "#0d0887"
            ],
            [
             0.1111111111111111,
             "#46039f"
            ],
            [
             0.2222222222222222,
             "#7201a8"
            ],
            [
             0.3333333333333333,
             "#9c179e"
            ],
            [
             0.4444444444444444,
             "#bd3786"
            ],
            [
             0.5555555555555556,
             "#d8576b"
            ],
            [
             0.6666666666666666,
             "#ed7953"
            ],
            [
             0.7777777777777778,
             "#fb9f3a"
            ],
            [
             0.8888888888888888,
             "#fdca26"
            ],
            [
             1,
             "#f0f921"
            ]
           ],
           "sequentialminus": [
            [
             0,
             "#0d0887"
            ],
            [
             0.1111111111111111,
             "#46039f"
            ],
            [
             0.2222222222222222,
             "#7201a8"
            ],
            [
             0.3333333333333333,
             "#9c179e"
            ],
            [
             0.4444444444444444,
             "#bd3786"
            ],
            [
             0.5555555555555556,
             "#d8576b"
            ],
            [
             0.6666666666666666,
             "#ed7953"
            ],
            [
             0.7777777777777778,
             "#fb9f3a"
            ],
            [
             0.8888888888888888,
             "#fdca26"
            ],
            [
             1,
             "#f0f921"
            ]
           ]
          },
          "colorway": [
           "#636efa",
           "#EF553B",
           "#00cc96",
           "#ab63fa",
           "#FFA15A",
           "#19d3f3",
           "#FF6692",
           "#B6E880",
           "#FF97FF",
           "#FECB52"
          ],
          "font": {
           "color": "#2a3f5f"
          },
          "geo": {
           "bgcolor": "white",
           "lakecolor": "white",
           "landcolor": "#E5ECF6",
           "showlakes": true,
           "showland": true,
           "subunitcolor": "white"
          },
          "hoverlabel": {
           "align": "left"
          },
          "hovermode": "closest",
          "mapbox": {
           "style": "light"
          },
          "paper_bgcolor": "white",
          "plot_bgcolor": "#E5ECF6",
          "polar": {
           "angularaxis": {
            "gridcolor": "white",
            "linecolor": "white",
            "ticks": ""
           },
           "bgcolor": "#E5ECF6",
           "radialaxis": {
            "gridcolor": "white",
            "linecolor": "white",
            "ticks": ""
           }
          },
          "scene": {
           "xaxis": {
            "backgroundcolor": "#E5ECF6",
            "gridcolor": "white",
            "gridwidth": 2,
            "linecolor": "white",
            "showbackground": true,
            "ticks": "",
            "zerolinecolor": "white"
           },
           "yaxis": {
            "backgroundcolor": "#E5ECF6",
            "gridcolor": "white",
            "gridwidth": 2,
            "linecolor": "white",
            "showbackground": true,
            "ticks": "",
            "zerolinecolor": "white"
           },
           "zaxis": {
            "backgroundcolor": "#E5ECF6",
            "gridcolor": "white",
            "gridwidth": 2,
            "linecolor": "white",
            "showbackground": true,
            "ticks": "",
            "zerolinecolor": "white"
           }
          },
          "shapedefaults": {
           "line": {
            "color": "#2a3f5f"
           }
          },
          "ternary": {
           "aaxis": {
            "gridcolor": "white",
            "linecolor": "white",
            "ticks": ""
           },
           "baxis": {
            "gridcolor": "white",
            "linecolor": "white",
            "ticks": ""
           },
           "bgcolor": "#E5ECF6",
           "caxis": {
            "gridcolor": "white",
            "linecolor": "white",
            "ticks": ""
           }
          },
          "title": {
           "x": 0.05
          },
          "xaxis": {
           "automargin": true,
           "gridcolor": "white",
           "linecolor": "white",
           "ticks": "",
           "title": {
            "standoff": 15
           },
           "zerolinecolor": "white",
           "zerolinewidth": 2
          },
          "yaxis": {
           "automargin": true,
           "gridcolor": "white",
           "linecolor": "white",
           "ticks": "",
           "title": {
            "standoff": 15
           },
           "zerolinecolor": "white",
           "zerolinewidth": 2
          }
         }
        },
        "xaxis": {
         "anchor": "y",
         "domain": [
          0,
          1
         ],
         "title": {
          "text": "Run time (minutes)"
         }
        },
        "yaxis": {
         "anchor": "x",
         "domain": [
          0,
          1
         ],
         "title": {
          "text": "Cumulative mean nurse utilisation"
         }
        }
       }
      }
     },
     "metadata": {},
     "output_type": "display_data"
    },
    {
     "data": {
      "application/vnd.plotly.v1+json": {
       "config": {
        "plotlyServerURL": "https://plot.ly"
       },
       "data": [
        {
         "hovertemplate": "variable=0<br>simulation_time=%{x}<br>value=%{y}<extra></extra>",
         "legendgroup": "0",
         "line": {
          "color": "#636efa",
          "dash": "solid"
         },
         "marker": {
          "symbol": "circle"
         },
         "mode": "lines",
         "name": "0",
         "orientation": "v",
         "showlegend": true,
         "type": "scatter",
         "x": [
          0,
          120,
          240,
          360,
          480,
          600,
          720,
          840,
          960,
          1080,
          1200,
          1320,
          1440,
          1560,
          1680,
          1800,
          1920,
          2040,
          2160,
          2280,
          2400,
          2520,
          2640,
          2760,
          2880,
          3000,
          3120,
          3240,
          3360,
          3480,
          3600,
          3720,
          3840,
          3960,
          4080,
          4200
         ],
         "xaxis": "x",
         "y": [
          0,
          0.49311102315865785,
          0.4607298955025163,
          0.45632097846380243,
          0.4676153111881002,
          0.40588724697436324,
          0.4470452294065509,
          0.43795722379199004,
          0.4285000953017283,
          0.41768870534835234,
          0.39551379867044595,
          0.411553508293269,
          0.5644111894063293,
          0.5831680969628505,
          0.5571775278299713,
          0.5522361699349156,
          0.5310091949907129,
          0.5126024369865088,
          0.4903951784376669,
          0.48151481605003976,
          0.47429872721274524,
          0.47160862148926286,
          0.48837157143180165,
          0.4718747149226613,
          0.47667373958452436,
          0.46510228882821086,
          0.46363634352758576,
          0.4584021495533152,
          0.44706874788432166,
          0.45100504090333066,
          0.4465633104873771,
          0.4473476307023828,
          0.43690228178918744,
          0.4614090156381584,
          0.46315799196961016,
          0.4842019090524666
         ],
         "yaxis": "y"
        }
       ],
       "layout": {
        "legend": {
         "title": {
          "text": "variable"
         },
         "tracegroupgap": 0
        },
        "margin": {
         "t": 60
        },
        "shapes": [
         {
          "line": {
           "color": "red",
           "dash": "dash"
          },
          "type": "line",
          "x0": 2520,
          "x1": 2520,
          "xref": "x",
          "y0": 0,
          "y1": 1,
          "yref": "y domain"
         }
        ],
        "showlegend": false,
        "template": {
         "data": {
          "bar": [
           {
            "error_x": {
             "color": "#2a3f5f"
            },
            "error_y": {
             "color": "#2a3f5f"
            },
            "marker": {
             "line": {
              "color": "#E5ECF6",
              "width": 0.5
             },
             "pattern": {
              "fillmode": "overlay",
              "size": 10,
              "solidity": 0.2
             }
            },
            "type": "bar"
           }
          ],
          "barpolar": [
           {
            "marker": {
             "line": {
              "color": "#E5ECF6",
              "width": 0.5
             },
             "pattern": {
              "fillmode": "overlay",
              "size": 10,
              "solidity": 0.2
             }
            },
            "type": "barpolar"
           }
          ],
          "carpet": [
           {
            "aaxis": {
             "endlinecolor": "#2a3f5f",
             "gridcolor": "white",
             "linecolor": "white",
             "minorgridcolor": "white",
             "startlinecolor": "#2a3f5f"
            },
            "baxis": {
             "endlinecolor": "#2a3f5f",
             "gridcolor": "white",
             "linecolor": "white",
             "minorgridcolor": "white",
             "startlinecolor": "#2a3f5f"
            },
            "type": "carpet"
           }
          ],
          "choropleth": [
           {
            "colorbar": {
             "outlinewidth": 0,
             "ticks": ""
            },
            "type": "choropleth"
           }
          ],
          "contour": [
           {
            "colorbar": {
             "outlinewidth": 0,
             "ticks": ""
            },
            "colorscale": [
             [
              0,
              "#0d0887"
             ],
             [
              0.1111111111111111,
              "#46039f"
             ],
             [
              0.2222222222222222,
              "#7201a8"
             ],
             [
              0.3333333333333333,
              "#9c179e"
             ],
             [
              0.4444444444444444,
              "#bd3786"
             ],
             [
              0.5555555555555556,
              "#d8576b"
             ],
             [
              0.6666666666666666,
              "#ed7953"
             ],
             [
              0.7777777777777778,
              "#fb9f3a"
             ],
             [
              0.8888888888888888,
              "#fdca26"
             ],
             [
              1,
              "#f0f921"
             ]
            ],
            "type": "contour"
           }
          ],
          "contourcarpet": [
           {
            "colorbar": {
             "outlinewidth": 0,
             "ticks": ""
            },
            "type": "contourcarpet"
           }
          ],
          "heatmap": [
           {
            "colorbar": {
             "outlinewidth": 0,
             "ticks": ""
            },
            "colorscale": [
             [
              0,
              "#0d0887"
             ],
             [
              0.1111111111111111,
              "#46039f"
             ],
             [
              0.2222222222222222,
              "#7201a8"
             ],
             [
              0.3333333333333333,
              "#9c179e"
             ],
             [
              0.4444444444444444,
              "#bd3786"
             ],
             [
              0.5555555555555556,
              "#d8576b"
             ],
             [
              0.6666666666666666,
              "#ed7953"
             ],
             [
              0.7777777777777778,
              "#fb9f3a"
             ],
             [
              0.8888888888888888,
              "#fdca26"
             ],
             [
              1,
              "#f0f921"
             ]
            ],
            "type": "heatmap"
           }
          ],
          "heatmapgl": [
           {
            "colorbar": {
             "outlinewidth": 0,
             "ticks": ""
            },
            "colorscale": [
             [
              0,
              "#0d0887"
             ],
             [
              0.1111111111111111,
              "#46039f"
             ],
             [
              0.2222222222222222,
              "#7201a8"
             ],
             [
              0.3333333333333333,
              "#9c179e"
             ],
             [
              0.4444444444444444,
              "#bd3786"
             ],
             [
              0.5555555555555556,
              "#d8576b"
             ],
             [
              0.6666666666666666,
              "#ed7953"
             ],
             [
              0.7777777777777778,
              "#fb9f3a"
             ],
             [
              0.8888888888888888,
              "#fdca26"
             ],
             [
              1,
              "#f0f921"
             ]
            ],
            "type": "heatmapgl"
           }
          ],
          "histogram": [
           {
            "marker": {
             "pattern": {
              "fillmode": "overlay",
              "size": 10,
              "solidity": 0.2
             }
            },
            "type": "histogram"
           }
          ],
          "histogram2d": [
           {
            "colorbar": {
             "outlinewidth": 0,
             "ticks": ""
            },
            "colorscale": [
             [
              0,
              "#0d0887"
             ],
             [
              0.1111111111111111,
              "#46039f"
             ],
             [
              0.2222222222222222,
              "#7201a8"
             ],
             [
              0.3333333333333333,
              "#9c179e"
             ],
             [
              0.4444444444444444,
              "#bd3786"
             ],
             [
              0.5555555555555556,
              "#d8576b"
             ],
             [
              0.6666666666666666,
              "#ed7953"
             ],
             [
              0.7777777777777778,
              "#fb9f3a"
             ],
             [
              0.8888888888888888,
              "#fdca26"
             ],
             [
              1,
              "#f0f921"
             ]
            ],
            "type": "histogram2d"
           }
          ],
          "histogram2dcontour": [
           {
            "colorbar": {
             "outlinewidth": 0,
             "ticks": ""
            },
            "colorscale": [
             [
              0,
              "#0d0887"
             ],
             [
              0.1111111111111111,
              "#46039f"
             ],
             [
              0.2222222222222222,
              "#7201a8"
             ],
             [
              0.3333333333333333,
              "#9c179e"
             ],
             [
              0.4444444444444444,
              "#bd3786"
             ],
             [
              0.5555555555555556,
              "#d8576b"
             ],
             [
              0.6666666666666666,
              "#ed7953"
             ],
             [
              0.7777777777777778,
              "#fb9f3a"
             ],
             [
              0.8888888888888888,
              "#fdca26"
             ],
             [
              1,
              "#f0f921"
             ]
            ],
            "type": "histogram2dcontour"
           }
          ],
          "mesh3d": [
           {
            "colorbar": {
             "outlinewidth": 0,
             "ticks": ""
            },
            "type": "mesh3d"
           }
          ],
          "parcoords": [
           {
            "line": {
             "colorbar": {
              "outlinewidth": 0,
              "ticks": ""
             }
            },
            "type": "parcoords"
           }
          ],
          "pie": [
           {
            "automargin": true,
            "type": "pie"
           }
          ],
          "scatter": [
           {
            "fillpattern": {
             "fillmode": "overlay",
             "size": 10,
             "solidity": 0.2
            },
            "type": "scatter"
           }
          ],
          "scatter3d": [
           {
            "line": {
             "colorbar": {
              "outlinewidth": 0,
              "ticks": ""
             }
            },
            "marker": {
             "colorbar": {
              "outlinewidth": 0,
              "ticks": ""
             }
            },
            "type": "scatter3d"
           }
          ],
          "scattercarpet": [
           {
            "marker": {
             "colorbar": {
              "outlinewidth": 0,
              "ticks": ""
             }
            },
            "type": "scattercarpet"
           }
          ],
          "scattergeo": [
           {
            "marker": {
             "colorbar": {
              "outlinewidth": 0,
              "ticks": ""
             }
            },
            "type": "scattergeo"
           }
          ],
          "scattergl": [
           {
            "marker": {
             "colorbar": {
              "outlinewidth": 0,
              "ticks": ""
             }
            },
            "type": "scattergl"
           }
          ],
          "scattermapbox": [
           {
            "marker": {
             "colorbar": {
              "outlinewidth": 0,
              "ticks": ""
             }
            },
            "type": "scattermapbox"
           }
          ],
          "scatterpolar": [
           {
            "marker": {
             "colorbar": {
              "outlinewidth": 0,
              "ticks": ""
             }
            },
            "type": "scatterpolar"
           }
          ],
          "scatterpolargl": [
           {
            "marker": {
             "colorbar": {
              "outlinewidth": 0,
              "ticks": ""
             }
            },
            "type": "scatterpolargl"
           }
          ],
          "scatterternary": [
           {
            "marker": {
             "colorbar": {
              "outlinewidth": 0,
              "ticks": ""
             }
            },
            "type": "scatterternary"
           }
          ],
          "surface": [
           {
            "colorbar": {
             "outlinewidth": 0,
             "ticks": ""
            },
            "colorscale": [
             [
              0,
              "#0d0887"
             ],
             [
              0.1111111111111111,
              "#46039f"
             ],
             [
              0.2222222222222222,
              "#7201a8"
             ],
             [
              0.3333333333333333,
              "#9c179e"
             ],
             [
              0.4444444444444444,
              "#bd3786"
             ],
             [
              0.5555555555555556,
              "#d8576b"
             ],
             [
              0.6666666666666666,
              "#ed7953"
             ],
             [
              0.7777777777777778,
              "#fb9f3a"
             ],
             [
              0.8888888888888888,
              "#fdca26"
             ],
             [
              1,
              "#f0f921"
             ]
            ],
            "type": "surface"
           }
          ],
          "table": [
           {
            "cells": {
             "fill": {
              "color": "#EBF0F8"
             },
             "line": {
              "color": "white"
             }
            },
            "header": {
             "fill": {
              "color": "#C8D4E3"
             },
             "line": {
              "color": "white"
             }
            },
            "type": "table"
           }
          ]
         },
         "layout": {
          "annotationdefaults": {
           "arrowcolor": "#2a3f5f",
           "arrowhead": 0,
           "arrowwidth": 1
          },
          "autotypenumbers": "strict",
          "coloraxis": {
           "colorbar": {
            "outlinewidth": 0,
            "ticks": ""
           }
          },
          "colorscale": {
           "diverging": [
            [
             0,
             "#8e0152"
            ],
            [
             0.1,
             "#c51b7d"
            ],
            [
             0.2,
             "#de77ae"
            ],
            [
             0.3,
             "#f1b6da"
            ],
            [
             0.4,
             "#fde0ef"
            ],
            [
             0.5,
             "#f7f7f7"
            ],
            [
             0.6,
             "#e6f5d0"
            ],
            [
             0.7,
             "#b8e186"
            ],
            [
             0.8,
             "#7fbc41"
            ],
            [
             0.9,
             "#4d9221"
            ],
            [
             1,
             "#276419"
            ]
           ],
           "sequential": [
            [
             0,
             "#0d0887"
            ],
            [
             0.1111111111111111,
             "#46039f"
            ],
            [
             0.2222222222222222,
             "#7201a8"
            ],
            [
             0.3333333333333333,
             "#9c179e"
            ],
            [
             0.4444444444444444,
             "#bd3786"
            ],
            [
             0.5555555555555556,
             "#d8576b"
            ],
            [
             0.6666666666666666,
             "#ed7953"
            ],
            [
             0.7777777777777778,
             "#fb9f3a"
            ],
            [
             0.8888888888888888,
             "#fdca26"
            ],
            [
             1,
             "#f0f921"
            ]
           ],
           "sequentialminus": [
            [
             0,
             "#0d0887"
            ],
            [
             0.1111111111111111,
             "#46039f"
            ],
            [
             0.2222222222222222,
             "#7201a8"
            ],
            [
             0.3333333333333333,
             "#9c179e"
            ],
            [
             0.4444444444444444,
             "#bd3786"
            ],
            [
             0.5555555555555556,
             "#d8576b"
            ],
            [
             0.6666666666666666,
             "#ed7953"
            ],
            [
             0.7777777777777778,
             "#fb9f3a"
            ],
            [
             0.8888888888888888,
             "#fdca26"
            ],
            [
             1,
             "#f0f921"
            ]
           ]
          },
          "colorway": [
           "#636efa",
           "#EF553B",
           "#00cc96",
           "#ab63fa",
           "#FFA15A",
           "#19d3f3",
           "#FF6692",
           "#B6E880",
           "#FF97FF",
           "#FECB52"
          ],
          "font": {
           "color": "#2a3f5f"
          },
          "geo": {
           "bgcolor": "white",
           "lakecolor": "white",
           "landcolor": "#E5ECF6",
           "showlakes": true,
           "showland": true,
           "subunitcolor": "white"
          },
          "hoverlabel": {
           "align": "left"
          },
          "hovermode": "closest",
          "mapbox": {
           "style": "light"
          },
          "paper_bgcolor": "white",
          "plot_bgcolor": "#E5ECF6",
          "polar": {
           "angularaxis": {
            "gridcolor": "white",
            "linecolor": "white",
            "ticks": ""
           },
           "bgcolor": "#E5ECF6",
           "radialaxis": {
            "gridcolor": "white",
            "linecolor": "white",
            "ticks": ""
           }
          },
          "scene": {
           "xaxis": {
            "backgroundcolor": "#E5ECF6",
            "gridcolor": "white",
            "gridwidth": 2,
            "linecolor": "white",
            "showbackground": true,
            "ticks": "",
            "zerolinecolor": "white"
           },
           "yaxis": {
            "backgroundcolor": "#E5ECF6",
            "gridcolor": "white",
            "gridwidth": 2,
            "linecolor": "white",
            "showbackground": true,
            "ticks": "",
            "zerolinecolor": "white"
           },
           "zaxis": {
            "backgroundcolor": "#E5ECF6",
            "gridcolor": "white",
            "gridwidth": 2,
            "linecolor": "white",
            "showbackground": true,
            "ticks": "",
            "zerolinecolor": "white"
           }
          },
          "shapedefaults": {
           "line": {
            "color": "#2a3f5f"
           }
          },
          "ternary": {
           "aaxis": {
            "gridcolor": "white",
            "linecolor": "white",
            "ticks": ""
           },
           "baxis": {
            "gridcolor": "white",
            "linecolor": "white",
            "ticks": ""
           },
           "bgcolor": "#E5ECF6",
           "caxis": {
            "gridcolor": "white",
            "linecolor": "white",
            "ticks": ""
           }
          },
          "title": {
           "x": 0.05
          },
          "xaxis": {
           "automargin": true,
           "gridcolor": "white",
           "linecolor": "white",
           "ticks": "",
           "title": {
            "standoff": 15
           },
           "zerolinecolor": "white",
           "zerolinewidth": 2
          },
          "yaxis": {
           "automargin": true,
           "gridcolor": "white",
           "linecolor": "white",
           "ticks": "",
           "title": {
            "standoff": 15
           },
           "zerolinecolor": "white",
           "zerolinewidth": 2
          }
         }
        },
        "xaxis": {
         "anchor": "y",
         "domain": [
          0,
          1
         ],
         "title": {
          "text": "Run time (minutes)"
         }
        },
        "yaxis": {
         "anchor": "x",
         "domain": [
          0,
          1
         ],
         "title": {
          "text": "Running mean nurse wait time"
         }
        }
       }
      }
     },
     "metadata": {},
     "output_type": "display_data"
    }
   ],
   "source": [
    "time_series_inspection(data_collection_period=1440*3, warm_up=2520)"
   ]
  },
  {
   "cell_type": "markdown",
   "metadata": {},
   "source": [
    "However, it is important to look far ahead - so we run it for more days, and find actually a later warm-up is more appropriate."
   ]
  },
  {
   "cell_type": "code",
   "execution_count": 4,
   "metadata": {},
   "outputs": [
    {
     "data": {
      "application/vnd.plotly.v1+json": {
       "config": {
        "plotlyServerURL": "https://plot.ly"
       },
       "data": [
        {
         "hovertemplate": "variable=0<br>simulation_time=%{x}<br>value=%{y}<extra></extra>",
         "legendgroup": "0",
         "line": {
          "color": "#636efa",
          "dash": "solid"
         },
         "marker": {
          "symbol": "circle"
         },
         "mode": "lines",
         "name": "0",
         "orientation": "v",
         "showlegend": true,
         "type": "scatter",
         "x": [
          0,
          120,
          240,
          360,
          480,
          600,
          720,
          840,
          960,
          1080,
          1200,
          1320,
          1440,
          1560,
          1680,
          1800,
          1920,
          2040,
          2160,
          2280,
          2400,
          2520,
          2640,
          2760,
          2880,
          3000,
          3120,
          3240,
          3360,
          3480,
          3600,
          3720,
          3840,
          3960,
          4080,
          4200,
          4320,
          4440,
          4560,
          4680,
          4800,
          4920,
          5040,
          5160,
          5280,
          5400,
          5520,
          5640,
          5760,
          5880,
          6000,
          6120,
          6240,
          6360,
          6480,
          6600,
          6720,
          6840,
          6960,
          7080,
          7200,
          7320,
          7440,
          7560,
          7680,
          7800,
          7920,
          8040,
          8160,
          8280,
          8400,
          8520,
          8640,
          8760,
          8880,
          9000,
          9120,
          9240,
          9360,
          9480,
          9600,
          9720,
          9840,
          9960,
          10080,
          10200,
          10320,
          10440,
          10560,
          10680,
          10800,
          10920,
          11040,
          11160,
          11280,
          11400,
          11520,
          11640,
          11760,
          11880,
          12000,
          12120,
          12240,
          12360,
          12480,
          12600,
          12720,
          12840,
          12960,
          13080,
          13200,
          13320,
          13440,
          13560,
          13680,
          13800,
          13920,
          14040,
          14160,
          14280,
          14400,
          14520,
          14640,
          14760,
          14880,
          15000,
          15120,
          15240,
          15360,
          15480,
          15600,
          15720,
          15840,
          15960,
          16080,
          16200,
          16320,
          16440,
          16560,
          16680,
          16800,
          16920,
          17040,
          17160,
          17280,
          17400,
          17520,
          17640,
          17760,
          17880,
          18000,
          18120,
          18240,
          18360,
          18480,
          18600,
          18720,
          18840,
          18960,
          19080,
          19200,
          19320,
          19440,
          19560,
          19680,
          19800,
          19920,
          20040,
          20160,
          20280,
          20400,
          20520,
          20640,
          20760,
          20880,
          21000,
          21120,
          21240,
          21360,
          21480,
          21600,
          21720,
          21840,
          21960,
          22080,
          22200,
          22320,
          22440,
          22560,
          22680,
          22800,
          22920,
          23040,
          23160,
          23280,
          23400,
          23520,
          23640,
          23760,
          23880,
          24000,
          24120,
          24240,
          24360,
          24480,
          24600,
          24720,
          24840,
          24960,
          25080,
          25200,
          25320,
          25440,
          25560,
          25680,
          25800,
          25920,
          26040,
          26160,
          26280,
          26400,
          26520,
          26640,
          26760,
          26880,
          27000,
          27120,
          27240,
          27360,
          27480,
          27600,
          27720,
          27840,
          27960,
          28080,
          28200,
          28320,
          28440,
          28560,
          28680,
          28800,
          28920,
          29040,
          29160,
          29280,
          29400,
          29520,
          29640,
          29760,
          29880,
          30000,
          30120,
          30240,
          30360,
          30480,
          30600,
          30720,
          30840,
          30960,
          31080,
          31200,
          31320,
          31440,
          31560,
          31680,
          31800,
          31920,
          32040,
          32160,
          32280,
          32400,
          32520,
          32640,
          32760,
          32880,
          33000,
          33120,
          33240,
          33360,
          33480,
          33600,
          33720,
          33840,
          33960,
          34080,
          34200,
          34320,
          34440,
          34560,
          34680,
          34800,
          34920,
          35040,
          35160,
          35280,
          35400,
          35520,
          35640,
          35760,
          35880,
          36000,
          36120,
          36240,
          36360,
          36480,
          36600,
          36720,
          36840,
          36960,
          37080,
          37200,
          37320,
          37440,
          37560,
          37680,
          37800,
          37920,
          38040,
          38160,
          38280,
          38400,
          38520,
          38640,
          38760,
          38880,
          39000,
          39120,
          39240,
          39360,
          39480,
          39600,
          39720,
          39840,
          39960,
          40080,
          40200,
          40320,
          40440,
          40560,
          40680,
          40800,
          40920,
          41040,
          41160,
          41280,
          41400,
          41520,
          41640,
          41760,
          41880,
          42000,
          42120,
          42240,
          42360,
          42480,
          42600,
          42720,
          42840,
          42960,
          43080,
          43200,
          43320,
          43440,
          43560,
          43680,
          43800,
          43920,
          44040,
          44160,
          44280,
          44400,
          44520,
          44640,
          44760,
          44880,
          45000,
          45120,
          45240,
          45360,
          45480,
          45600,
          45720,
          45840,
          45960,
          46080,
          46200,
          46320,
          46440,
          46560,
          46680,
          46800,
          46920,
          47040,
          47160,
          47280,
          47400,
          47520,
          47640,
          47760,
          47880,
          48000,
          48120,
          48240,
          48360,
          48480,
          48600,
          48720,
          48840,
          48960,
          49080,
          49200,
          49320,
          49440,
          49560,
          49680,
          49800,
          49920,
          50040,
          50160,
          50280,
          50400,
          50520,
          50640,
          50760,
          50880,
          51000,
          51120,
          51240,
          51360,
          51480,
          51600,
          51720,
          51840,
          51960,
          52080,
          52200,
          52320,
          52440,
          52560,
          52680,
          52800,
          52920,
          53040,
          53160,
          53280,
          53400,
          53520,
          53640,
          53760,
          53880,
          54000,
          54120,
          54240,
          54360,
          54480,
          54600,
          54720,
          54840,
          54960,
          55080,
          55200,
          55320,
          55440,
          55560,
          55680,
          55800,
          55920,
          56040,
          56160,
          56280,
          56400,
          56520,
          56640,
          56760,
          56880,
          57000,
          57120,
          57240,
          57360,
          57480
         ],
         "xaxis": "x",
         "y": [
          0,
          0.21999999999999997,
          0.3533333333333333,
          0.365,
          0.376,
          0.39999999999999997,
          0.40857142857142853,
          0.4275,
          0.4288888888888889,
          0.43200000000000005,
          0.43454545454545457,
          0.43333333333333335,
          0.44461538461538463,
          0.44,
          0.444,
          0.4525,
          0.46,
          0.4633333333333333,
          0.4694736842105263,
          0.46799999999999997,
          0.46190476190476193,
          0.46545454545454545,
          0.46347826086956523,
          0.46416666666666667,
          0.46480000000000005,
          0.46692307692307694,
          0.4644444444444445,
          0.45642857142857146,
          0.4558620689655173,
          0.45733333333333337,
          0.4625806451612903,
          0.45875,
          0.4587878787878788,
          0.46058823529411763,
          0.4622857142857143,
          0.46111111111111114,
          0.465945945945946,
          0.4673684210526316,
          0.46717948717948715,
          0.46699999999999997,
          0.4721951219512195,
          0.4747619047619048,
          0.47348837209302325,
          0.4768181818181818,
          0.4782222222222222,
          0.47652173913043483,
          0.4757446808510638,
          0.47541666666666665,
          0.47510204081632657,
          0.4732,
          0.47333333333333333,
          0.47115384615384615,
          0.47358490566037736,
          0.47370370370370374,
          0.4770909090909091,
          0.4735714285714286,
          0.47719298245614034,
          0.4751724137931035,
          0.47864406779661023,
          0.4796666666666667,
          0.48065573770491804,
          0.4806451612903226,
          0.4822222222222222,
          0.48562500000000003,
          0.4855384615384616,
          0.4851515151515152,
          0.48447761194029854,
          0.4864705882352941,
          0.4884057971014493,
          0.48600000000000004,
          0.4861971830985916,
          0.4863888888888889,
          0.48575342465753424,
          0.48540540540540544,
          0.48906666666666665,
          0.4889473684210527,
          0.48961038961038966,
          0.4892307692307693,
          0.49265822784810126,
          0.49275,
          0.49333333333333335,
          0.49146341463414633,
          0.4915662650602409,
          0.49000000000000005,
          0.48894117647058827,
          0.4883720930232558,
          0.4889655172413793,
          0.4888636363636364,
          0.4887640449438202,
          0.4888888888888889,
          0.4872527472527473,
          0.4880434782608695,
          0.4886021505376344,
          0.48936170212765956,
          0.48947368421052634,
          0.49,
          0.4911340206185567,
          0.4904081632653061,
          0.4907070707070707,
          0.49060000000000004,
          0.4910891089108911,
          0.4903921568627451,
          0.48970873786407765,
          0.48903846153846153,
          0.48933333333333334,
          0.48962264150943396,
          0.4902803738317757,
          0.4903703703703704,
          0.48954128440366973,
          0.48963636363636365,
          0.489009009009009,
          0.48964285714285716,
          0.49044247787610623,
          0.4903508771929824,
          0.4893913043478261,
          0.4874137931034483,
          0.4863247863247863,
          0.48694915254237287,
          0.48722689075630254,
          0.48800000000000004,
          0.4872727272727273,
          0.48770491803278687,
          0.48666666666666664,
          0.4862903225806452,
          0.48608000000000007,
          0.48619047619047623,
          0.4861417322834646,
          0.48703125,
          0.4874418604651163,
          0.4867692307692308,
          0.4865648854961832,
          0.4871212121212121,
          0.4882706766917293,
          0.48776119402985074,
          0.48711111111111116,
          0.4870588235294118,
          0.4867153284671533,
          0.48695652173913045,
          0.48719424460431654,
          0.4875714285714286,
          0.48751773049645397,
          0.48887323943661976,
          0.4892307692307693,
          0.48986111111111114,
          0.48993103448275865,
          0.48931506849315065,
          0.4908843537414966,
          0.49148648648648646,
          0.4916778523489933,
          0.49213333333333337,
          0.49324503311258283,
          0.49302631578947365,
          0.4930718954248366,
          0.49428571428571433,
          0.49380645161290326,
          0.4944871794871795,
          0.4951592356687898,
          0.49455696202531646,
          0.49320754716981136,
          0.49275,
          0.4932919254658385,
          0.4932098765432099,
          0.49300613496932516,
          0.4926829268292683,
          0.49284848484848487,
          0.4931325301204819,
          0.49257485029940123,
          0.49273809523809525,
          0.4925443786982249,
          0.4921176470588235,
          0.492046783625731,
          0.49220930232558135,
          0.49260115606936417,
          0.4918390804597701,
          0.4921142857142857,
          0.49215909090909093,
          0.49186440677966103,
          0.49157303370786515,
          0.491731843575419,
          0.4915555555555556,
          0.4922651933701658,
          0.49230769230769234,
          0.4927868852459017,
          0.49239130434782613,
          0.49243243243243245,
          0.49215053763440864,
          0.49251336898395726,
          0.4928723404255319,
          0.49216931216931215,
          0.4917894736842105,
          0.4924607329842932,
          0.4925,
          0.49274611398963736,
          0.493298969072165,
          0.493948717948718,
          0.49438775510204086,
          0.49472081218274117,
          0.49444444444444446,
          0.49437185929648236,
          0.4943,
          0.4944278606965174,
          0.49504950495049505,
          0.49428571428571433,
          0.4943137254901961,
          0.4940487804878049,
          0.49349514563106794,
          0.4926570048309179,
          0.4925,
          0.4921531100478469,
          0.4920952380952381,
          0.492132701421801,
          0.4911320754716981,
          0.49089201877934274,
          0.49074766355140187,
          0.4902325581395349,
          0.4908333333333333,
          0.4910599078341014,
          0.4909174311926605,
          0.4915068493150685,
          0.49127272727272725,
          0.4914027149321267,
          0.4914414414414415,
          0.49112107623318385,
          0.49125,
          0.4911111111111111,
          0.4911504424778761,
          0.49101321585903085,
          0.4916666666666667,
          0.4916157205240175,
          0.4915652173913044,
          0.49134199134199136,
          0.4917241379310345,
          0.49150214592274677,
          0.4911111111111111,
          0.49131914893617024,
          0.49127118644067796,
          0.49164556962025313,
          0.49100840336134455,
          0.49121338912133894,
          0.49133333333333334,
          0.4919502074688797,
          0.49107438016528926,
          0.491440329218107,
          0.4916393442622951,
          0.49167346938775514,
          0.4917073170731708,
          0.4922267206477733,
          0.492258064516129,
          0.4927710843373494,
          0.49263999999999997,
          0.49266932270916336,
          0.4927777777777778,
          0.49256916996047434,
          0.49188976377952753,
          0.492156862745098,
          0.4921875,
          0.4919844357976654,
          0.4921705426356589,
          0.4927413127413128,
          0.49315384615384616,
          0.493103448275862,
          0.493206106870229,
          0.49346007604562736,
          0.49325757575757573,
          0.49350943396226415,
          0.4933834586466166,
          0.49318352059925097,
          0.4929850746268657,
          0.49338289962825277,
          0.4932592592592593,
          0.4940221402214022,
          0.49352941176470594,
          0.49311355311355315,
          0.4931386861313869,
          0.4930909090909091,
          0.49347826086956526,
          0.4932851985559567,
          0.49345323741007197,
          0.4934767025089606,
          0.4932142857142857,
          0.4933807829181495,
          0.49368794326241133,
          0.4936395759717315,
          0.4937323943661972,
          0.4939649122807018,
          0.4939160839160839,
          0.49407665505226483,
          0.49465277777777783,
          0.49487889273356406,
          0.49482758620689654,
          0.49450171821305844,
          0.4943835616438357,
          0.4945392491467577,
          0.49455782312925173,
          0.4945762711864407,
          0.494527027027027,
          0.4946127946127946,
          0.4942281879194631,
          0.4944481605351171,
          0.4945333333333334,
          0.4944186046511628,
          0.4944370860927152,
          0.49432343234323434,
          0.4942105263157895,
          0.49455737704918035,
          0.4941176470588236,
          0.49407166123778506,
          0.4943506493506493,
          0.4943689320388349,
          0.4943870967741935,
          0.49401929260450167,
          0.4941025641025641,
          0.49450479233226835,
          0.49426751592356694,
          0.49473015873015874,
          0.49518987341772147,
          0.49514195583596216,
          0.49515723270440254,
          0.49605015673981195,
          0.496125,
          0.4959501557632399,
          0.49614906832298133,
          0.49647058823529416,
          0.49679012345679013,
          0.4969230769230769,
          0.49705521472392633,
          0.4976758409785933,
          0.4979268292682927,
          0.49787234042553197,
          0.4978181818181818,
          0.498429003021148,
          0.49783132530120483,
          0.49747747747747745,
          0.49730538922155687,
          0.4972537313432836,
          0.49678571428571433,
          0.4970326409495549,
          0.4966272189349113,
          0.496637168141593,
          0.49664705882352944,
          0.4971260997067449,
          0.49766081871345036,
          0.49830903790087466,
          0.498139534883721,
          0.49820289855072464,
          0.49809248554913294,
          0.4982132564841498,
          0.4986206896551724,
          0.49868194842406877,
          0.49891428571428575,
          0.4991452991452992,
          0.49960227272727276,
          0.4994900849858357,
          0.49932203389830504,
          0.4995492957746479,
          0.4998314606741573,
          0.4996638655462185,
          0.49944134078212293,
          0.49933147632311975,
          0.4997777777777778,
          0.4994459833795014,
          0.4996685082872928,
          0.4994490358126722,
          0.4993406593406593,
          0.49939726027397263,
          0.4991256830601093,
          0.49923705722070844,
          0.49902173913043485,
          0.4990243902439025,
          0.49945945945945946,
          0.4995687331536388,
          0.5,
          0.5000536193029491,
          0.49994652406417117,
          0.5006933333333333,
          0.5004787234042554,
          0.5007957559681698,
          0.5012169312169312,
          0.5007915567282322,
          0.5004736842105263,
          0.5004724409448819,
          0.5004712041884817,
          0.5004699738903394,
          0.5008854166666666,
          0.5012987012987012,
          0.5013989637305699,
          0.5012403100775195,
          0.5012371134020619,
          0.5016966580976864,
          0.5012820512820513,
          0.5012787723785166,
          0.5010204081632653,
          0.5009669211195928,
          0.501015228426396,
          0.5014683544303797,
          0.5016161616161616,
          0.5016624685138539,
          0.5013567839195979,
          0.5013032581453635,
          0.50155,
          0.5013965087281795,
          0.5014925373134328,
          0.5012903225806452,
          0.500990099009901,
          0.5007901234567901,
          0.5009852216748769,
          0.5014250614250615,
          0.5009803921568627,
          0.5016136919315404,
          0.5017073170731707,
          0.5022384428223845,
          0.5018446601941748,
          0.5016464891041162,
          0.5017391304347826,
          0.5015421686746988,
          0.5014903846153846,
          0.5012470023980815,
          0.5010047846889952,
          0.5011933174224343,
          0.5008571428571429,
          0.5010451306413302,
          0.5010900473933649,
          0.5009929078014185,
          0.5014622641509434,
          0.5014117647058823,
          0.5015023474178404,
          0.5014988290398127,
          0.5017289719626169,
          0.5012587412587413,
          0.5012558139534884,
          0.5008816705336426,
          0.5005555555555555,
          0.5001847575057737,
          0.5000460829493087,
          0.500183908045977,
          0.5003211009174312,
          0.5003661327231121,
          0.49990867579908677,
          0.4997722095671982,
          0.4999090909090909,
          0.49977324263038553,
          0.49968325791855206,
          0.4994130925507901,
          0.4993693693693694,
          0.49946067415730344,
          0.49928251121076234,
          0.4993736017897092,
          0.49924107142857144,
          0.4992427616926503,
          0.49933333333333335,
          0.49902439024390244,
          0.4989823008849557,
          0.49902869757174395,
          0.4990308370044053,
          0.4988131868131868,
          0.49885964912280706,
          0.4989059080962801,
          0.49882096069869,
          0.4988671023965142,
          0.49878260869565216,
          0.4986984815618221,
          0.49844155844155846,
          0.49857451403887687,
          0.49831896551724136,
          0.498494623655914,
          0.4986695278969957,
          0.4989293361884368,
          0.49841880341880346,
          0.4985074626865672,
          0.49817021276595747,
          0.49766454352441614,
          0.4975,
          0.4978435517970402,
          0.4980168776371308,
          0.497978947368421,
          0.49789915966386555,
          0.49786163522012583,
          0.4978661087866109,
          0.49795407098121086,
          0.4981666666666667
         ],
         "yaxis": "y"
        }
       ],
       "layout": {
        "legend": {
         "title": {
          "text": "variable"
         },
         "tracegroupgap": 0
        },
        "margin": {
         "t": 60
        },
        "shapes": [
         {
          "line": {
           "color": "red",
           "dash": "dash"
          },
          "type": "line",
          "x0": 18720,
          "x1": 18720,
          "xref": "x",
          "y0": 0,
          "y1": 1,
          "yref": "y domain"
         }
        ],
        "showlegend": false,
        "template": {
         "data": {
          "bar": [
           {
            "error_x": {
             "color": "#2a3f5f"
            },
            "error_y": {
             "color": "#2a3f5f"
            },
            "marker": {
             "line": {
              "color": "#E5ECF6",
              "width": 0.5
             },
             "pattern": {
              "fillmode": "overlay",
              "size": 10,
              "solidity": 0.2
             }
            },
            "type": "bar"
           }
          ],
          "barpolar": [
           {
            "marker": {
             "line": {
              "color": "#E5ECF6",
              "width": 0.5
             },
             "pattern": {
              "fillmode": "overlay",
              "size": 10,
              "solidity": 0.2
             }
            },
            "type": "barpolar"
           }
          ],
          "carpet": [
           {
            "aaxis": {
             "endlinecolor": "#2a3f5f",
             "gridcolor": "white",
             "linecolor": "white",
             "minorgridcolor": "white",
             "startlinecolor": "#2a3f5f"
            },
            "baxis": {
             "endlinecolor": "#2a3f5f",
             "gridcolor": "white",
             "linecolor": "white",
             "minorgridcolor": "white",
             "startlinecolor": "#2a3f5f"
            },
            "type": "carpet"
           }
          ],
          "choropleth": [
           {
            "colorbar": {
             "outlinewidth": 0,
             "ticks": ""
            },
            "type": "choropleth"
           }
          ],
          "contour": [
           {
            "colorbar": {
             "outlinewidth": 0,
             "ticks": ""
            },
            "colorscale": [
             [
              0,
              "#0d0887"
             ],
             [
              0.1111111111111111,
              "#46039f"
             ],
             [
              0.2222222222222222,
              "#7201a8"
             ],
             [
              0.3333333333333333,
              "#9c179e"
             ],
             [
              0.4444444444444444,
              "#bd3786"
             ],
             [
              0.5555555555555556,
              "#d8576b"
             ],
             [
              0.6666666666666666,
              "#ed7953"
             ],
             [
              0.7777777777777778,
              "#fb9f3a"
             ],
             [
              0.8888888888888888,
              "#fdca26"
             ],
             [
              1,
              "#f0f921"
             ]
            ],
            "type": "contour"
           }
          ],
          "contourcarpet": [
           {
            "colorbar": {
             "outlinewidth": 0,
             "ticks": ""
            },
            "type": "contourcarpet"
           }
          ],
          "heatmap": [
           {
            "colorbar": {
             "outlinewidth": 0,
             "ticks": ""
            },
            "colorscale": [
             [
              0,
              "#0d0887"
             ],
             [
              0.1111111111111111,
              "#46039f"
             ],
             [
              0.2222222222222222,
              "#7201a8"
             ],
             [
              0.3333333333333333,
              "#9c179e"
             ],
             [
              0.4444444444444444,
              "#bd3786"
             ],
             [
              0.5555555555555556,
              "#d8576b"
             ],
             [
              0.6666666666666666,
              "#ed7953"
             ],
             [
              0.7777777777777778,
              "#fb9f3a"
             ],
             [
              0.8888888888888888,
              "#fdca26"
             ],
             [
              1,
              "#f0f921"
             ]
            ],
            "type": "heatmap"
           }
          ],
          "heatmapgl": [
           {
            "colorbar": {
             "outlinewidth": 0,
             "ticks": ""
            },
            "colorscale": [
             [
              0,
              "#0d0887"
             ],
             [
              0.1111111111111111,
              "#46039f"
             ],
             [
              0.2222222222222222,
              "#7201a8"
             ],
             [
              0.3333333333333333,
              "#9c179e"
             ],
             [
              0.4444444444444444,
              "#bd3786"
             ],
             [
              0.5555555555555556,
              "#d8576b"
             ],
             [
              0.6666666666666666,
              "#ed7953"
             ],
             [
              0.7777777777777778,
              "#fb9f3a"
             ],
             [
              0.8888888888888888,
              "#fdca26"
             ],
             [
              1,
              "#f0f921"
             ]
            ],
            "type": "heatmapgl"
           }
          ],
          "histogram": [
           {
            "marker": {
             "pattern": {
              "fillmode": "overlay",
              "size": 10,
              "solidity": 0.2
             }
            },
            "type": "histogram"
           }
          ],
          "histogram2d": [
           {
            "colorbar": {
             "outlinewidth": 0,
             "ticks": ""
            },
            "colorscale": [
             [
              0,
              "#0d0887"
             ],
             [
              0.1111111111111111,
              "#46039f"
             ],
             [
              0.2222222222222222,
              "#7201a8"
             ],
             [
              0.3333333333333333,
              "#9c179e"
             ],
             [
              0.4444444444444444,
              "#bd3786"
             ],
             [
              0.5555555555555556,
              "#d8576b"
             ],
             [
              0.6666666666666666,
              "#ed7953"
             ],
             [
              0.7777777777777778,
              "#fb9f3a"
             ],
             [
              0.8888888888888888,
              "#fdca26"
             ],
             [
              1,
              "#f0f921"
             ]
            ],
            "type": "histogram2d"
           }
          ],
          "histogram2dcontour": [
           {
            "colorbar": {
             "outlinewidth": 0,
             "ticks": ""
            },
            "colorscale": [
             [
              0,
              "#0d0887"
             ],
             [
              0.1111111111111111,
              "#46039f"
             ],
             [
              0.2222222222222222,
              "#7201a8"
             ],
             [
              0.3333333333333333,
              "#9c179e"
             ],
             [
              0.4444444444444444,
              "#bd3786"
             ],
             [
              0.5555555555555556,
              "#d8576b"
             ],
             [
              0.6666666666666666,
              "#ed7953"
             ],
             [
              0.7777777777777778,
              "#fb9f3a"
             ],
             [
              0.8888888888888888,
              "#fdca26"
             ],
             [
              1,
              "#f0f921"
             ]
            ],
            "type": "histogram2dcontour"
           }
          ],
          "mesh3d": [
           {
            "colorbar": {
             "outlinewidth": 0,
             "ticks": ""
            },
            "type": "mesh3d"
           }
          ],
          "parcoords": [
           {
            "line": {
             "colorbar": {
              "outlinewidth": 0,
              "ticks": ""
             }
            },
            "type": "parcoords"
           }
          ],
          "pie": [
           {
            "automargin": true,
            "type": "pie"
           }
          ],
          "scatter": [
           {
            "fillpattern": {
             "fillmode": "overlay",
             "size": 10,
             "solidity": 0.2
            },
            "type": "scatter"
           }
          ],
          "scatter3d": [
           {
            "line": {
             "colorbar": {
              "outlinewidth": 0,
              "ticks": ""
             }
            },
            "marker": {
             "colorbar": {
              "outlinewidth": 0,
              "ticks": ""
             }
            },
            "type": "scatter3d"
           }
          ],
          "scattercarpet": [
           {
            "marker": {
             "colorbar": {
              "outlinewidth": 0,
              "ticks": ""
             }
            },
            "type": "scattercarpet"
           }
          ],
          "scattergeo": [
           {
            "marker": {
             "colorbar": {
              "outlinewidth": 0,
              "ticks": ""
             }
            },
            "type": "scattergeo"
           }
          ],
          "scattergl": [
           {
            "marker": {
             "colorbar": {
              "outlinewidth": 0,
              "ticks": ""
             }
            },
            "type": "scattergl"
           }
          ],
          "scattermapbox": [
           {
            "marker": {
             "colorbar": {
              "outlinewidth": 0,
              "ticks": ""
             }
            },
            "type": "scattermapbox"
           }
          ],
          "scatterpolar": [
           {
            "marker": {
             "colorbar": {
              "outlinewidth": 0,
              "ticks": ""
             }
            },
            "type": "scatterpolar"
           }
          ],
          "scatterpolargl": [
           {
            "marker": {
             "colorbar": {
              "outlinewidth": 0,
              "ticks": ""
             }
            },
            "type": "scatterpolargl"
           }
          ],
          "scatterternary": [
           {
            "marker": {
             "colorbar": {
              "outlinewidth": 0,
              "ticks": ""
             }
            },
            "type": "scatterternary"
           }
          ],
          "surface": [
           {
            "colorbar": {
             "outlinewidth": 0,
             "ticks": ""
            },
            "colorscale": [
             [
              0,
              "#0d0887"
             ],
             [
              0.1111111111111111,
              "#46039f"
             ],
             [
              0.2222222222222222,
              "#7201a8"
             ],
             [
              0.3333333333333333,
              "#9c179e"
             ],
             [
              0.4444444444444444,
              "#bd3786"
             ],
             [
              0.5555555555555556,
              "#d8576b"
             ],
             [
              0.6666666666666666,
              "#ed7953"
             ],
             [
              0.7777777777777778,
              "#fb9f3a"
             ],
             [
              0.8888888888888888,
              "#fdca26"
             ],
             [
              1,
              "#f0f921"
             ]
            ],
            "type": "surface"
           }
          ],
          "table": [
           {
            "cells": {
             "fill": {
              "color": "#EBF0F8"
             },
             "line": {
              "color": "white"
             }
            },
            "header": {
             "fill": {
              "color": "#C8D4E3"
             },
             "line": {
              "color": "white"
             }
            },
            "type": "table"
           }
          ]
         },
         "layout": {
          "annotationdefaults": {
           "arrowcolor": "#2a3f5f",
           "arrowhead": 0,
           "arrowwidth": 1
          },
          "autotypenumbers": "strict",
          "coloraxis": {
           "colorbar": {
            "outlinewidth": 0,
            "ticks": ""
           }
          },
          "colorscale": {
           "diverging": [
            [
             0,
             "#8e0152"
            ],
            [
             0.1,
             "#c51b7d"
            ],
            [
             0.2,
             "#de77ae"
            ],
            [
             0.3,
             "#f1b6da"
            ],
            [
             0.4,
             "#fde0ef"
            ],
            [
             0.5,
             "#f7f7f7"
            ],
            [
             0.6,
             "#e6f5d0"
            ],
            [
             0.7,
             "#b8e186"
            ],
            [
             0.8,
             "#7fbc41"
            ],
            [
             0.9,
             "#4d9221"
            ],
            [
             1,
             "#276419"
            ]
           ],
           "sequential": [
            [
             0,
             "#0d0887"
            ],
            [
             0.1111111111111111,
             "#46039f"
            ],
            [
             0.2222222222222222,
             "#7201a8"
            ],
            [
             0.3333333333333333,
             "#9c179e"
            ],
            [
             0.4444444444444444,
             "#bd3786"
            ],
            [
             0.5555555555555556,
             "#d8576b"
            ],
            [
             0.6666666666666666,
             "#ed7953"
            ],
            [
             0.7777777777777778,
             "#fb9f3a"
            ],
            [
             0.8888888888888888,
             "#fdca26"
            ],
            [
             1,
             "#f0f921"
            ]
           ],
           "sequentialminus": [
            [
             0,
             "#0d0887"
            ],
            [
             0.1111111111111111,
             "#46039f"
            ],
            [
             0.2222222222222222,
             "#7201a8"
            ],
            [
             0.3333333333333333,
             "#9c179e"
            ],
            [
             0.4444444444444444,
             "#bd3786"
            ],
            [
             0.5555555555555556,
             "#d8576b"
            ],
            [
             0.6666666666666666,
             "#ed7953"
            ],
            [
             0.7777777777777778,
             "#fb9f3a"
            ],
            [
             0.8888888888888888,
             "#fdca26"
            ],
            [
             1,
             "#f0f921"
            ]
           ]
          },
          "colorway": [
           "#636efa",
           "#EF553B",
           "#00cc96",
           "#ab63fa",
           "#FFA15A",
           "#19d3f3",
           "#FF6692",
           "#B6E880",
           "#FF97FF",
           "#FECB52"
          ],
          "font": {
           "color": "#2a3f5f"
          },
          "geo": {
           "bgcolor": "white",
           "lakecolor": "white",
           "landcolor": "#E5ECF6",
           "showlakes": true,
           "showland": true,
           "subunitcolor": "white"
          },
          "hoverlabel": {
           "align": "left"
          },
          "hovermode": "closest",
          "mapbox": {
           "style": "light"
          },
          "paper_bgcolor": "white",
          "plot_bgcolor": "#E5ECF6",
          "polar": {
           "angularaxis": {
            "gridcolor": "white",
            "linecolor": "white",
            "ticks": ""
           },
           "bgcolor": "#E5ECF6",
           "radialaxis": {
            "gridcolor": "white",
            "linecolor": "white",
            "ticks": ""
           }
          },
          "scene": {
           "xaxis": {
            "backgroundcolor": "#E5ECF6",
            "gridcolor": "white",
            "gridwidth": 2,
            "linecolor": "white",
            "showbackground": true,
            "ticks": "",
            "zerolinecolor": "white"
           },
           "yaxis": {
            "backgroundcolor": "#E5ECF6",
            "gridcolor": "white",
            "gridwidth": 2,
            "linecolor": "white",
            "showbackground": true,
            "ticks": "",
            "zerolinecolor": "white"
           },
           "zaxis": {
            "backgroundcolor": "#E5ECF6",
            "gridcolor": "white",
            "gridwidth": 2,
            "linecolor": "white",
            "showbackground": true,
            "ticks": "",
            "zerolinecolor": "white"
           }
          },
          "shapedefaults": {
           "line": {
            "color": "#2a3f5f"
           }
          },
          "ternary": {
           "aaxis": {
            "gridcolor": "white",
            "linecolor": "white",
            "ticks": ""
           },
           "baxis": {
            "gridcolor": "white",
            "linecolor": "white",
            "ticks": ""
           },
           "bgcolor": "#E5ECF6",
           "caxis": {
            "gridcolor": "white",
            "linecolor": "white",
            "ticks": ""
           }
          },
          "title": {
           "x": 0.05
          },
          "xaxis": {
           "automargin": true,
           "gridcolor": "white",
           "linecolor": "white",
           "ticks": "",
           "title": {
            "standoff": 15
           },
           "zerolinecolor": "white",
           "zerolinewidth": 2
          },
          "yaxis": {
           "automargin": true,
           "gridcolor": "white",
           "linecolor": "white",
           "ticks": "",
           "title": {
            "standoff": 15
           },
           "zerolinecolor": "white",
           "zerolinewidth": 2
          }
         }
        },
        "xaxis": {
         "anchor": "y",
         "domain": [
          0,
          1
         ],
         "title": {
          "text": "Run time (minutes)"
         }
        },
        "yaxis": {
         "anchor": "x",
         "domain": [
          0,
          1
         ],
         "title": {
          "text": "Cumulative mean nurse utilisation"
         }
        }
       }
      }
     },
     "metadata": {},
     "output_type": "display_data"
    },
    {
     "data": {
      "application/vnd.plotly.v1+json": {
       "config": {
        "plotlyServerURL": "https://plot.ly"
       },
       "data": [
        {
         "hovertemplate": "variable=0<br>simulation_time=%{x}<br>value=%{y}<extra></extra>",
         "legendgroup": "0",
         "line": {
          "color": "#636efa",
          "dash": "solid"
         },
         "marker": {
          "symbol": "circle"
         },
         "mode": "lines",
         "name": "0",
         "orientation": "v",
         "showlegend": true,
         "type": "scatter",
         "x": [
          0,
          120,
          240,
          360,
          480,
          600,
          720,
          840,
          960,
          1080,
          1200,
          1320,
          1440,
          1560,
          1680,
          1800,
          1920,
          2040,
          2160,
          2280,
          2400,
          2520,
          2640,
          2760,
          2880,
          3000,
          3120,
          3240,
          3360,
          3480,
          3600,
          3720,
          3840,
          3960,
          4080,
          4200,
          4320,
          4440,
          4560,
          4680,
          4800,
          4920,
          5040,
          5160,
          5280,
          5400,
          5520,
          5640,
          5760,
          5880,
          6000,
          6120,
          6240,
          6360,
          6480,
          6600,
          6720,
          6840,
          6960,
          7080,
          7200,
          7320,
          7440,
          7560,
          7680,
          7800,
          7920,
          8040,
          8160,
          8280,
          8400,
          8520,
          8640,
          8760,
          8880,
          9000,
          9120,
          9240,
          9360,
          9480,
          9600,
          9720,
          9840,
          9960,
          10080,
          10200,
          10320,
          10440,
          10560,
          10680,
          10800,
          10920,
          11040,
          11160,
          11280,
          11400,
          11520,
          11640,
          11760,
          11880,
          12000,
          12120,
          12240,
          12360,
          12480,
          12600,
          12720,
          12840,
          12960,
          13080,
          13200,
          13320,
          13440,
          13560,
          13680,
          13800,
          13920,
          14040,
          14160,
          14280,
          14400,
          14520,
          14640,
          14760,
          14880,
          15000,
          15120,
          15240,
          15360,
          15480,
          15600,
          15720,
          15840,
          15960,
          16080,
          16200,
          16320,
          16440,
          16560,
          16680,
          16800,
          16920,
          17040,
          17160,
          17280,
          17400,
          17520,
          17640,
          17760,
          17880,
          18000,
          18120,
          18240,
          18360,
          18480,
          18600,
          18720,
          18840,
          18960,
          19080,
          19200,
          19320,
          19440,
          19560,
          19680,
          19800,
          19920,
          20040,
          20160,
          20280,
          20400,
          20520,
          20640,
          20760,
          20880,
          21000,
          21120,
          21240,
          21360,
          21480,
          21600,
          21720,
          21840,
          21960,
          22080,
          22200,
          22320,
          22440,
          22560,
          22680,
          22800,
          22920,
          23040,
          23160,
          23280,
          23400,
          23520,
          23640,
          23760,
          23880,
          24000,
          24120,
          24240,
          24360,
          24480,
          24600,
          24720,
          24840,
          24960,
          25080,
          25200,
          25320,
          25440,
          25560,
          25680,
          25800,
          25920,
          26040,
          26160,
          26280,
          26400,
          26520,
          26640,
          26760,
          26880,
          27000,
          27120,
          27240,
          27360,
          27480,
          27600,
          27720,
          27840,
          27960,
          28080,
          28200,
          28320,
          28440,
          28560,
          28680,
          28800,
          28920,
          29040,
          29160,
          29280,
          29400,
          29520,
          29640,
          29760,
          29880,
          30000,
          30120,
          30240,
          30360,
          30480,
          30600,
          30720,
          30840,
          30960,
          31080,
          31200,
          31320,
          31440,
          31560,
          31680,
          31800,
          31920,
          32040,
          32160,
          32280,
          32400,
          32520,
          32640,
          32760,
          32880,
          33000,
          33120,
          33240,
          33360,
          33480,
          33600,
          33720,
          33840,
          33960,
          34080,
          34200,
          34320,
          34440,
          34560,
          34680,
          34800,
          34920,
          35040,
          35160,
          35280,
          35400,
          35520,
          35640,
          35760,
          35880,
          36000,
          36120,
          36240,
          36360,
          36480,
          36600,
          36720,
          36840,
          36960,
          37080,
          37200,
          37320,
          37440,
          37560,
          37680,
          37800,
          37920,
          38040,
          38160,
          38280,
          38400,
          38520,
          38640,
          38760,
          38880,
          39000,
          39120,
          39240,
          39360,
          39480,
          39600,
          39720,
          39840,
          39960,
          40080,
          40200,
          40320,
          40440,
          40560,
          40680,
          40800,
          40920,
          41040,
          41160,
          41280,
          41400,
          41520,
          41640,
          41760,
          41880,
          42000,
          42120,
          42240,
          42360,
          42480,
          42600,
          42720,
          42840,
          42960,
          43080,
          43200,
          43320,
          43440,
          43560,
          43680,
          43800,
          43920,
          44040,
          44160,
          44280,
          44400,
          44520,
          44640,
          44760,
          44880,
          45000,
          45120,
          45240,
          45360,
          45480,
          45600,
          45720,
          45840,
          45960,
          46080,
          46200,
          46320,
          46440,
          46560,
          46680,
          46800,
          46920,
          47040,
          47160,
          47280,
          47400,
          47520,
          47640,
          47760,
          47880,
          48000,
          48120,
          48240,
          48360,
          48480,
          48600,
          48720,
          48840,
          48960,
          49080,
          49200,
          49320,
          49440,
          49560,
          49680,
          49800,
          49920,
          50040,
          50160,
          50280,
          50400,
          50520,
          50640,
          50760,
          50880,
          51000,
          51120,
          51240,
          51360,
          51480,
          51600,
          51720,
          51840,
          51960,
          52080,
          52200,
          52320,
          52440,
          52560,
          52680,
          52800,
          52920,
          53040,
          53160,
          53280,
          53400,
          53520,
          53640,
          53760,
          53880,
          54000,
          54120,
          54240,
          54360,
          54480,
          54600,
          54720,
          54840,
          54960,
          55080,
          55200,
          55320,
          55440,
          55560,
          55680,
          55800,
          55920,
          56040,
          56160,
          56280,
          56400,
          56520,
          56640,
          56760,
          56880,
          57000,
          57120,
          57240,
          57360,
          57480
         ],
         "xaxis": "x",
         "y": [
          0,
          0.49311102315865785,
          0.4607298955025163,
          0.45632097846380243,
          0.4676153111881002,
          0.40588724697436324,
          0.4470452294065509,
          0.43795722379199004,
          0.4285000953017283,
          0.41768870534835234,
          0.39551379867044595,
          0.411553508293269,
          0.5644111894063293,
          0.5831680969628505,
          0.5571775278299713,
          0.5522361699349156,
          0.5310091949907129,
          0.5126024369865088,
          0.4903951784376669,
          0.48151481605003976,
          0.47429872721274524,
          0.47160862148926286,
          0.48837157143180165,
          0.4718747149226613,
          0.47667373958452436,
          0.46510228882821086,
          0.46363634352758576,
          0.4584021495533152,
          0.44706874788432166,
          0.45100504090333066,
          0.4465633104873771,
          0.4473476307023828,
          0.43690228178918744,
          0.4614090156381584,
          0.46315799196961016,
          0.4842019090524666,
          0.4842621813828562,
          0.4795200275555029,
          0.4718704898514625,
          0.4706504758810407,
          0.47661838967843473,
          0.4865523434790844,
          0.47976818029195395,
          0.4773545578495374,
          0.47959997020037715,
          0.4879741101939755,
          0.48609661314069424,
          0.47954968870564574,
          0.4727970130773681,
          0.469668713745901,
          0.472197744193819,
          0.4673850453055242,
          0.49524167835946536,
          0.4907091287369214,
          0.4966605332365228,
          0.492906715620519,
          0.491926305491591,
          0.4895660515309716,
          0.49972837173947704,
          0.49800579233655784,
          0.5067027107365311,
          0.501534642368103,
          0.5049035971900783,
          0.5063459955875903,
          0.506348862640502,
          0.5062718152482282,
          0.5012466482457453,
          0.5037687346130014,
          0.505494395002964,
          0.502619135609347,
          0.505780859327194,
          0.5091678615258802,
          0.503614842103495,
          0.5041452705147955,
          0.5062221969258295,
          0.5026200216240867,
          0.5100794539088428,
          0.5079928686935474,
          0.5079394635001189,
          0.5087465474640612,
          0.5054708541249775,
          0.5129547034630793,
          0.5176145736424677,
          0.5182903638911702,
          0.5159612513956379,
          0.515291201669594,
          0.5188064369345197,
          0.517437315430038,
          0.5200784871936844,
          0.5175641844784385,
          0.5160013833189503,
          0.5144387937513374,
          0.5173819901168452,
          0.5136989364977151,
          0.5155368155036413,
          0.5164085949121276,
          0.5187795548969676,
          0.5206264453246684,
          0.5223248762829091,
          0.5202697851583503,
          0.5174603173439332,
          0.5152624450798455,
          0.5116295241545347,
          0.5082284087453174,
          0.5150678673932146,
          0.5128374424409603,
          0.5099875199989758,
          0.5099133341796128,
          0.5133032454986737,
          0.5122834006127504,
          0.5103092594195664,
          0.5105591464110122,
          0.5088335355934845,
          0.5070087749662034,
          0.5125771911855459,
          0.5101528888725049,
          0.5078495263452444,
          0.5130277316905946,
          0.5096889332072466,
          0.5085273725981582,
          0.5239573862630912,
          0.5219680794400758,
          0.5242655001205804,
          0.5213698464185272,
          0.5211662650938738,
          0.5181385701434696,
          0.516686420417979,
          0.5229137625835221,
          0.5228411520340596,
          0.5284816026045701,
          0.5277405070250986,
          0.5302637501922655,
          0.5427183132073157,
          0.5421480285654133,
          0.5403035732530267,
          0.5381320847795885,
          0.5391304581831233,
          0.538667242453384,
          0.5370624374006018,
          0.5385679272070109,
          0.537240634274825,
          0.537524000748377,
          0.5377712769345464,
          0.5381346506087429,
          0.5397225850926348,
          0.5421868439185623,
          0.5425592694945981,
          0.5451907928627061,
          0.5459105539265617,
          0.55449888822866,
          0.5542729856323677,
          0.5587898316593047,
          0.5583302146995897,
          0.5567666672407178,
          0.5652610985114734,
          0.5668168141139357,
          0.5641390225179576,
          0.5626125154096764,
          0.5640178198078908,
          0.5634023751167898,
          0.5627371923821844,
          0.5620745742429314,
          0.5615851560533569,
          0.5597046780688818,
          0.5595734863727347,
          0.5593882424894937,
          0.5579876283094114,
          0.5559013196931092,
          0.5558690183059836,
          0.5568647271217362,
          0.5555217664245176,
          0.5539706973746311,
          0.5513894040441043,
          0.5497624988059446,
          0.5488070803304648,
          0.5462472929981446,
          0.5454889087068127,
          0.5465138960783108,
          0.5475432910805395,
          0.5453872936723801,
          0.5440451515004823,
          0.5430361765155495,
          0.5414619057230845,
          0.5401073111156417,
          0.5383457124482542,
          0.5380316121053188,
          0.5363636887952593,
          0.5378827569040294,
          0.5368915053529577,
          0.5360349867037671,
          0.5345893858213812,
          0.532610153889574,
          0.5316999637727476,
          0.5306826862431822,
          0.5313504746315401,
          0.5311783555731513,
          0.5332987750312972,
          0.5370284908188455,
          0.5433160126650298,
          0.5413437219128912,
          0.5481916846625692,
          0.547600042205947,
          0.5508000900314758,
          0.5517178062148846,
          0.5501486006629704,
          0.5488328922147405,
          0.5495588359581381,
          0.5485786180546128,
          0.5478907324302271,
          0.5475189845751467,
          0.5464068920315739,
          0.5443895216355491,
          0.5447332440676914,
          0.5437974610499579,
          0.5435038859048693,
          0.5415249525456629,
          0.5401445999605066,
          0.5430187496790575,
          0.5434999438655487,
          0.5431381929064439,
          0.5419399374768437,
          0.5433966811863238,
          0.5434898179061083,
          0.5490086820403273,
          0.5504062729767896,
          0.5503931567484754,
          0.5508425152305092,
          0.5502632613997706,
          0.5483312625494202,
          0.5519674305028645,
          0.5545381777057476,
          0.5543591710696868,
          0.55405427454093,
          0.552126147001395,
          0.551606023988916,
          0.5504207764708218,
          0.5516816251815067,
          0.5539888531062138,
          0.5533565532191845,
          0.5535303216384669,
          0.5529320896296648,
          0.551256690203726,
          0.5505766920968421,
          0.5511962579259404,
          0.5504972543163602,
          0.550257972928289,
          0.549667286073301,
          0.5513573079053746,
          0.5508939309006713,
          0.5515133058232361,
          0.5505425643146726,
          0.5494040411232743,
          0.5485289199719472,
          0.5475574926943094,
          0.5508087209912504,
          0.5501350873748637,
          0.5501860750789479,
          0.548685066044588,
          0.5537104820399594,
          0.5541457322899666,
          0.5532364570049696,
          0.5542212185367291,
          0.5537907082012696,
          0.5539168991504482,
          0.552797579288131,
          0.5511368477888267,
          0.5504984325676499,
          0.5493723146146855,
          0.547630577260545,
          0.5492854583307711,
          0.5479456238380095,
          0.5496751501688152,
          0.5484247309879304,
          0.5471643560262198,
          0.547840569482684,
          0.5466802422206692,
          0.5462180637008699,
          0.5455857428578698,
          0.5451472420109416,
          0.5447262586412458,
          0.5440408430323613,
          0.5428844659754606,
          0.5417801174835332,
          0.540913698302629,
          0.5407307025143749,
          0.5409231586707379,
          0.540135366880137,
          0.5401557986754202,
          0.5414122970238502,
          0.5401816536934063,
          0.5388046397424642,
          0.5373791479117404,
          0.5364505088812574,
          0.5350115553469693,
          0.5341974750653871,
          0.5333335723568702,
          0.5325400840867627,
          0.5314937961421307,
          0.5303416403558953,
          0.5317565755192332,
          0.5308039131307941,
          0.5312062037985519,
          0.5306325988058233,
          0.529917520871676,
          0.5303767191504091,
          0.5299066600294882,
          0.5297663913806805,
          0.5285796174696862,
          0.5276613855638418,
          0.5279427737442176,
          0.5279011370805498,
          0.527479689752752,
          0.5271207187479965,
          0.5272653579255654,
          0.5275318341339333,
          0.5279917666418057,
          0.5281131015741644,
          0.5269595163056222,
          0.5281136539692401,
          0.5289123872605297,
          0.5278671030619653,
          0.5301309674919725,
          0.5319830709813107,
          0.5313631641951376,
          0.5305846410815264,
          0.5299987529084639,
          0.5293991947956291,
          0.5308000662214654,
          0.5305540540228703,
          0.5303219496250282,
          0.5306128430281973,
          0.5310826432401141,
          0.530216268392503,
          0.529681148844191,
          0.5291678319556237,
          0.5290815871755732,
          0.5289983420507406,
          0.5289002159827325,
          0.5315825090515844,
          0.5301999988255381,
          0.5301360990498983,
          0.5288888840389204,
          0.5299704489719261,
          0.5295390710903403,
          0.5298007693684051,
          0.5290143062986514,
          0.528783948398913,
          0.5280972020737846,
          0.5269758113205494,
          0.5261219355015057,
          0.5256329427840347,
          0.5253819807771389,
          0.5246282356539927,
          0.5234452293380534,
          0.5226682801724382,
          0.5231359933970607,
          0.5226656763341533,
          0.5218669138854164,
          0.5209236851430485,
          0.521664205955424,
          0.5209344300794669,
          0.5198828936884834,
          0.5213011188826837,
          0.5205685480045393,
          0.5196528863089119,
          0.5192552727314227,
          0.5182701521571472,
          0.5181301981023159,
          0.5174414148819748,
          0.5186080387942839,
          0.5194228988338921,
          0.5187762979774934,
          0.5189248136981492,
          0.5196203128125806,
          0.5192158952290636,
          0.519774431001451,
          0.5200208073987016,
          0.5209148460274786,
          0.5204965799460323,
          0.5210974373270517,
          0.5204682341923023,
          0.5194739402715817,
          0.5184081879642802,
          0.5191320436072802,
          0.5206127224790816,
          0.5201840096904593,
          0.5205637876922967,
          0.5196222607457162,
          0.518899590490564,
          0.51901500128959,
          0.5183415698794984,
          0.5192037418860906,
          0.5193390546967429,
          0.5189806166136244,
          0.5193047876000333,
          0.5195653476621687,
          0.5190765477688177,
          0.5189085733979616,
          0.5183027444343421,
          0.5184234694276639,
          0.5263937421305015,
          0.5265200636069829,
          0.5264770317261397,
          0.5256495735917248,
          0.5246324482027378,
          0.5251809662055413,
          0.5252313549871904,
          0.5258617141722116,
          0.5249630390363511,
          0.5249000555965357,
          0.5242147201119802,
          0.5235729335539558,
          0.5227875673440712,
          0.5236985880991437,
          0.5229568449094496,
          0.5221141269351522,
          0.5216208723788183,
          0.5211410793765116,
          0.5211345056631596,
          0.5204863292818109,
          0.5199652890464139,
          0.5208807885261275,
          0.5211163132475803,
          0.5207126223186964,
          0.5208166970213282,
          0.5203709874146564,
          0.5201623576351768,
          0.5198294925552319,
          0.5195640962630002,
          0.5197974056325438,
          0.5187838305160254,
          0.5181810886053583,
          0.5185875078842296,
          0.5187082737196811,
          0.5193241139935718,
          0.5189154844378155,
          0.519122818361004,
          0.518641403804016,
          0.5177517775940461,
          0.5187991950760409,
          0.5187966957088779,
          0.5190280963276601,
          0.5189248398376018,
          0.5197926967321345,
          0.5206043750188292,
          0.5199772475200992,
          0.5198094698123112,
          0.5194777203327661,
          0.5195096865187752,
          0.5187156275005809,
          0.5188961643385426,
          0.5188437230888459,
          0.5185071127351524,
          0.5181298191645874,
          0.518027093134793,
          0.517846980083384,
          0.5197578901127262,
          0.519323391734576,
          0.5192599630651061,
          0.5193065202915783,
          0.5190540447588958,
          0.5210648858914799,
          0.5205654009443261,
          0.5204086628319693,
          0.520364225801133,
          0.5209645468911931,
          0.5223605385885598,
          0.5244109464699606,
          0.5251957356643228,
          0.5256943437862795,
          0.5249522564061687,
          0.5249619365627101,
          0.524279467932651,
          0.5245887917935842,
          0.5255165699710954,
          0.5270557807766576,
          0.5287023016864622,
          0.5286932502617738,
          0.5286781545591398,
          0.528127404081025
         ],
         "yaxis": "y"
        }
       ],
       "layout": {
        "legend": {
         "title": {
          "text": "variable"
         },
         "tracegroupgap": 0
        },
        "margin": {
         "t": 60
        },
        "shapes": [
         {
          "line": {
           "color": "red",
           "dash": "dash"
          },
          "type": "line",
          "x0": 18720,
          "x1": 18720,
          "xref": "x",
          "y0": 0,
          "y1": 1,
          "yref": "y domain"
         }
        ],
        "showlegend": false,
        "template": {
         "data": {
          "bar": [
           {
            "error_x": {
             "color": "#2a3f5f"
            },
            "error_y": {
             "color": "#2a3f5f"
            },
            "marker": {
             "line": {
              "color": "#E5ECF6",
              "width": 0.5
             },
             "pattern": {
              "fillmode": "overlay",
              "size": 10,
              "solidity": 0.2
             }
            },
            "type": "bar"
           }
          ],
          "barpolar": [
           {
            "marker": {
             "line": {
              "color": "#E5ECF6",
              "width": 0.5
             },
             "pattern": {
              "fillmode": "overlay",
              "size": 10,
              "solidity": 0.2
             }
            },
            "type": "barpolar"
           }
          ],
          "carpet": [
           {
            "aaxis": {
             "endlinecolor": "#2a3f5f",
             "gridcolor": "white",
             "linecolor": "white",
             "minorgridcolor": "white",
             "startlinecolor": "#2a3f5f"
            },
            "baxis": {
             "endlinecolor": "#2a3f5f",
             "gridcolor": "white",
             "linecolor": "white",
             "minorgridcolor": "white",
             "startlinecolor": "#2a3f5f"
            },
            "type": "carpet"
           }
          ],
          "choropleth": [
           {
            "colorbar": {
             "outlinewidth": 0,
             "ticks": ""
            },
            "type": "choropleth"
           }
          ],
          "contour": [
           {
            "colorbar": {
             "outlinewidth": 0,
             "ticks": ""
            },
            "colorscale": [
             [
              0,
              "#0d0887"
             ],
             [
              0.1111111111111111,
              "#46039f"
             ],
             [
              0.2222222222222222,
              "#7201a8"
             ],
             [
              0.3333333333333333,
              "#9c179e"
             ],
             [
              0.4444444444444444,
              "#bd3786"
             ],
             [
              0.5555555555555556,
              "#d8576b"
             ],
             [
              0.6666666666666666,
              "#ed7953"
             ],
             [
              0.7777777777777778,
              "#fb9f3a"
             ],
             [
              0.8888888888888888,
              "#fdca26"
             ],
             [
              1,
              "#f0f921"
             ]
            ],
            "type": "contour"
           }
          ],
          "contourcarpet": [
           {
            "colorbar": {
             "outlinewidth": 0,
             "ticks": ""
            },
            "type": "contourcarpet"
           }
          ],
          "heatmap": [
           {
            "colorbar": {
             "outlinewidth": 0,
             "ticks": ""
            },
            "colorscale": [
             [
              0,
              "#0d0887"
             ],
             [
              0.1111111111111111,
              "#46039f"
             ],
             [
              0.2222222222222222,
              "#7201a8"
             ],
             [
              0.3333333333333333,
              "#9c179e"
             ],
             [
              0.4444444444444444,
              "#bd3786"
             ],
             [
              0.5555555555555556,
              "#d8576b"
             ],
             [
              0.6666666666666666,
              "#ed7953"
             ],
             [
              0.7777777777777778,
              "#fb9f3a"
             ],
             [
              0.8888888888888888,
              "#fdca26"
             ],
             [
              1,
              "#f0f921"
             ]
            ],
            "type": "heatmap"
           }
          ],
          "heatmapgl": [
           {
            "colorbar": {
             "outlinewidth": 0,
             "ticks": ""
            },
            "colorscale": [
             [
              0,
              "#0d0887"
             ],
             [
              0.1111111111111111,
              "#46039f"
             ],
             [
              0.2222222222222222,
              "#7201a8"
             ],
             [
              0.3333333333333333,
              "#9c179e"
             ],
             [
              0.4444444444444444,
              "#bd3786"
             ],
             [
              0.5555555555555556,
              "#d8576b"
             ],
             [
              0.6666666666666666,
              "#ed7953"
             ],
             [
              0.7777777777777778,
              "#fb9f3a"
             ],
             [
              0.8888888888888888,
              "#fdca26"
             ],
             [
              1,
              "#f0f921"
             ]
            ],
            "type": "heatmapgl"
           }
          ],
          "histogram": [
           {
            "marker": {
             "pattern": {
              "fillmode": "overlay",
              "size": 10,
              "solidity": 0.2
             }
            },
            "type": "histogram"
           }
          ],
          "histogram2d": [
           {
            "colorbar": {
             "outlinewidth": 0,
             "ticks": ""
            },
            "colorscale": [
             [
              0,
              "#0d0887"
             ],
             [
              0.1111111111111111,
              "#46039f"
             ],
             [
              0.2222222222222222,
              "#7201a8"
             ],
             [
              0.3333333333333333,
              "#9c179e"
             ],
             [
              0.4444444444444444,
              "#bd3786"
             ],
             [
              0.5555555555555556,
              "#d8576b"
             ],
             [
              0.6666666666666666,
              "#ed7953"
             ],
             [
              0.7777777777777778,
              "#fb9f3a"
             ],
             [
              0.8888888888888888,
              "#fdca26"
             ],
             [
              1,
              "#f0f921"
             ]
            ],
            "type": "histogram2d"
           }
          ],
          "histogram2dcontour": [
           {
            "colorbar": {
             "outlinewidth": 0,
             "ticks": ""
            },
            "colorscale": [
             [
              0,
              "#0d0887"
             ],
             [
              0.1111111111111111,
              "#46039f"
             ],
             [
              0.2222222222222222,
              "#7201a8"
             ],
             [
              0.3333333333333333,
              "#9c179e"
             ],
             [
              0.4444444444444444,
              "#bd3786"
             ],
             [
              0.5555555555555556,
              "#d8576b"
             ],
             [
              0.6666666666666666,
              "#ed7953"
             ],
             [
              0.7777777777777778,
              "#fb9f3a"
             ],
             [
              0.8888888888888888,
              "#fdca26"
             ],
             [
              1,
              "#f0f921"
             ]
            ],
            "type": "histogram2dcontour"
           }
          ],
          "mesh3d": [
           {
            "colorbar": {
             "outlinewidth": 0,
             "ticks": ""
            },
            "type": "mesh3d"
           }
          ],
          "parcoords": [
           {
            "line": {
             "colorbar": {
              "outlinewidth": 0,
              "ticks": ""
             }
            },
            "type": "parcoords"
           }
          ],
          "pie": [
           {
            "automargin": true,
            "type": "pie"
           }
          ],
          "scatter": [
           {
            "fillpattern": {
             "fillmode": "overlay",
             "size": 10,
             "solidity": 0.2
            },
            "type": "scatter"
           }
          ],
          "scatter3d": [
           {
            "line": {
             "colorbar": {
              "outlinewidth": 0,
              "ticks": ""
             }
            },
            "marker": {
             "colorbar": {
              "outlinewidth": 0,
              "ticks": ""
             }
            },
            "type": "scatter3d"
           }
          ],
          "scattercarpet": [
           {
            "marker": {
             "colorbar": {
              "outlinewidth": 0,
              "ticks": ""
             }
            },
            "type": "scattercarpet"
           }
          ],
          "scattergeo": [
           {
            "marker": {
             "colorbar": {
              "outlinewidth": 0,
              "ticks": ""
             }
            },
            "type": "scattergeo"
           }
          ],
          "scattergl": [
           {
            "marker": {
             "colorbar": {
              "outlinewidth": 0,
              "ticks": ""
             }
            },
            "type": "scattergl"
           }
          ],
          "scattermapbox": [
           {
            "marker": {
             "colorbar": {
              "outlinewidth": 0,
              "ticks": ""
             }
            },
            "type": "scattermapbox"
           }
          ],
          "scatterpolar": [
           {
            "marker": {
             "colorbar": {
              "outlinewidth": 0,
              "ticks": ""
             }
            },
            "type": "scatterpolar"
           }
          ],
          "scatterpolargl": [
           {
            "marker": {
             "colorbar": {
              "outlinewidth": 0,
              "ticks": ""
             }
            },
            "type": "scatterpolargl"
           }
          ],
          "scatterternary": [
           {
            "marker": {
             "colorbar": {
              "outlinewidth": 0,
              "ticks": ""
             }
            },
            "type": "scatterternary"
           }
          ],
          "surface": [
           {
            "colorbar": {
             "outlinewidth": 0,
             "ticks": ""
            },
            "colorscale": [
             [
              0,
              "#0d0887"
             ],
             [
              0.1111111111111111,
              "#46039f"
             ],
             [
              0.2222222222222222,
              "#7201a8"
             ],
             [
              0.3333333333333333,
              "#9c179e"
             ],
             [
              0.4444444444444444,
              "#bd3786"
             ],
             [
              0.5555555555555556,
              "#d8576b"
             ],
             [
              0.6666666666666666,
              "#ed7953"
             ],
             [
              0.7777777777777778,
              "#fb9f3a"
             ],
             [
              0.8888888888888888,
              "#fdca26"
             ],
             [
              1,
              "#f0f921"
             ]
            ],
            "type": "surface"
           }
          ],
          "table": [
           {
            "cells": {
             "fill": {
              "color": "#EBF0F8"
             },
             "line": {
              "color": "white"
             }
            },
            "header": {
             "fill": {
              "color": "#C8D4E3"
             },
             "line": {
              "color": "white"
             }
            },
            "type": "table"
           }
          ]
         },
         "layout": {
          "annotationdefaults": {
           "arrowcolor": "#2a3f5f",
           "arrowhead": 0,
           "arrowwidth": 1
          },
          "autotypenumbers": "strict",
          "coloraxis": {
           "colorbar": {
            "outlinewidth": 0,
            "ticks": ""
           }
          },
          "colorscale": {
           "diverging": [
            [
             0,
             "#8e0152"
            ],
            [
             0.1,
             "#c51b7d"
            ],
            [
             0.2,
             "#de77ae"
            ],
            [
             0.3,
             "#f1b6da"
            ],
            [
             0.4,
             "#fde0ef"
            ],
            [
             0.5,
             "#f7f7f7"
            ],
            [
             0.6,
             "#e6f5d0"
            ],
            [
             0.7,
             "#b8e186"
            ],
            [
             0.8,
             "#7fbc41"
            ],
            [
             0.9,
             "#4d9221"
            ],
            [
             1,
             "#276419"
            ]
           ],
           "sequential": [
            [
             0,
             "#0d0887"
            ],
            [
             0.1111111111111111,
             "#46039f"
            ],
            [
             0.2222222222222222,
             "#7201a8"
            ],
            [
             0.3333333333333333,
             "#9c179e"
            ],
            [
             0.4444444444444444,
             "#bd3786"
            ],
            [
             0.5555555555555556,
             "#d8576b"
            ],
            [
             0.6666666666666666,
             "#ed7953"
            ],
            [
             0.7777777777777778,
             "#fb9f3a"
            ],
            [
             0.8888888888888888,
             "#fdca26"
            ],
            [
             1,
             "#f0f921"
            ]
           ],
           "sequentialminus": [
            [
             0,
             "#0d0887"
            ],
            [
             0.1111111111111111,
             "#46039f"
            ],
            [
             0.2222222222222222,
             "#7201a8"
            ],
            [
             0.3333333333333333,
             "#9c179e"
            ],
            [
             0.4444444444444444,
             "#bd3786"
            ],
            [
             0.5555555555555556,
             "#d8576b"
            ],
            [
             0.6666666666666666,
             "#ed7953"
            ],
            [
             0.7777777777777778,
             "#fb9f3a"
            ],
            [
             0.8888888888888888,
             "#fdca26"
            ],
            [
             1,
             "#f0f921"
            ]
           ]
          },
          "colorway": [
           "#636efa",
           "#EF553B",
           "#00cc96",
           "#ab63fa",
           "#FFA15A",
           "#19d3f3",
           "#FF6692",
           "#B6E880",
           "#FF97FF",
           "#FECB52"
          ],
          "font": {
           "color": "#2a3f5f"
          },
          "geo": {
           "bgcolor": "white",
           "lakecolor": "white",
           "landcolor": "#E5ECF6",
           "showlakes": true,
           "showland": true,
           "subunitcolor": "white"
          },
          "hoverlabel": {
           "align": "left"
          },
          "hovermode": "closest",
          "mapbox": {
           "style": "light"
          },
          "paper_bgcolor": "white",
          "plot_bgcolor": "#E5ECF6",
          "polar": {
           "angularaxis": {
            "gridcolor": "white",
            "linecolor": "white",
            "ticks": ""
           },
           "bgcolor": "#E5ECF6",
           "radialaxis": {
            "gridcolor": "white",
            "linecolor": "white",
            "ticks": ""
           }
          },
          "scene": {
           "xaxis": {
            "backgroundcolor": "#E5ECF6",
            "gridcolor": "white",
            "gridwidth": 2,
            "linecolor": "white",
            "showbackground": true,
            "ticks": "",
            "zerolinecolor": "white"
           },
           "yaxis": {
            "backgroundcolor": "#E5ECF6",
            "gridcolor": "white",
            "gridwidth": 2,
            "linecolor": "white",
            "showbackground": true,
            "ticks": "",
            "zerolinecolor": "white"
           },
           "zaxis": {
            "backgroundcolor": "#E5ECF6",
            "gridcolor": "white",
            "gridwidth": 2,
            "linecolor": "white",
            "showbackground": true,
            "ticks": "",
            "zerolinecolor": "white"
           }
          },
          "shapedefaults": {
           "line": {
            "color": "#2a3f5f"
           }
          },
          "ternary": {
           "aaxis": {
            "gridcolor": "white",
            "linecolor": "white",
            "ticks": ""
           },
           "baxis": {
            "gridcolor": "white",
            "linecolor": "white",
            "ticks": ""
           },
           "bgcolor": "#E5ECF6",
           "caxis": {
            "gridcolor": "white",
            "linecolor": "white",
            "ticks": ""
           }
          },
          "title": {
           "x": 0.05
          },
          "xaxis": {
           "automargin": true,
           "gridcolor": "white",
           "linecolor": "white",
           "ticks": "",
           "title": {
            "standoff": 15
           },
           "zerolinecolor": "white",
           "zerolinewidth": 2
          },
          "yaxis": {
           "automargin": true,
           "gridcolor": "white",
           "linecolor": "white",
           "ticks": "",
           "title": {
            "standoff": 15
           },
           "zerolinecolor": "white",
           "zerolinewidth": 2
          }
         }
        },
        "xaxis": {
         "anchor": "y",
         "domain": [
          0,
          1
         ],
         "title": {
          "text": "Run time (minutes)"
         }
        },
        "yaxis": {
         "anchor": "x",
         "domain": [
          0,
          1
         ],
         "title": {
          "text": "Running mean nurse wait time"
         }
        }
       }
      }
     },
     "metadata": {},
     "output_type": "display_data"
    }
   ],
   "source": [
    "time_series_inspection(data_collection_period=1440*40, warm_up=1440*13)"
   ]
  },
  {
   "cell_type": "markdown",
   "metadata": {},
   "source": [
    "## Choosing the number of replications\n",
    "\n",
    "The **confidence interval method** can be used to select the number of replications to run. The more replications you run, the narrower your confidence interval becomes, leading to a more precise estimate of the model's mean performance.\n",
    "\n",
    "First, you select a desired confidence interval - for example, 95%. Then, run the model with an increasing number of replications, and identify the number required to achieve that precision in the estimate of a given metric - and also, to maintain that precision (as the intervals may converge or expand again later on).\n",
    "\n",
    "This method is less useful for values very close to zero - so, for example, when using utilisation (which ranges from 0 to 1) it is recommended to multiple values by 100."
   ]
  },
  {
   "cell_type": "code",
   "execution_count": 5,
   "metadata": {},
   "outputs": [],
   "source": [
    "# TODO"
   ]
  },
  {
   "cell_type": "markdown",
   "metadata": {},
   "source": [
    "## Spread of replication results"
   ]
  },
  {
   "cell_type": "code",
   "execution_count": 6,
   "metadata": {},
   "outputs": [
    {
     "data": {
      "text/plain": [
       "{'_initialising': False,\n",
       " 'patient_inter': 4,\n",
       " 'mean_n_consult_time': 10,\n",
       " 'number_of_nurses': 5,\n",
       " 'warm_up_period': 18720,\n",
       " 'data_collection_period': 43200,\n",
       " 'number_of_runs': 50,\n",
       " 'audit_interval': 120,\n",
       " 'scenario_name': 0}"
      ]
     },
     "metadata": {},
     "output_type": "display_data"
    }
   ],
   "source": [
    "# Set model parameters\n",
    "param = Defaults()\n",
    "param.number_of_runs = 50\n",
    "display(param.__dict__)\n",
    "\n",
    "# Run trial\n",
    "trial = Trial(param)\n",
    "trial.run_trial()"
   ]
  },
  {
   "cell_type": "code",
   "execution_count": 7,
   "metadata": {},
   "outputs": [
    {
     "data": {
      "application/vnd.plotly.v1+json": {
       "config": {
        "plotlyServerURL": "https://plot.ly"
       },
       "data": [
        {
         "alignmentgroup": "True",
         "bingroup": "x",
         "hovertemplate": "variable=arrivals<br>value=%{x}<br>count=%{y}<extra></extra>",
         "legendgroup": "arrivals",
         "marker": {
          "color": "#636efa",
          "pattern": {
           "shape": ""
          }
         },
         "name": "arrivals",
         "offsetgroup": "arrivals",
         "orientation": "v",
         "showlegend": true,
         "type": "histogram",
         "x": [
          10972,
          10784,
          10854,
          10831,
          10720,
          10772,
          10831,
          10781,
          10772,
          10705,
          10927,
          10688,
          11092,
          10640,
          10904,
          10849,
          10719,
          10713,
          10568,
          10707,
          10845,
          10726,
          10618,
          10914,
          10660,
          10685,
          10806,
          10748,
          10589,
          10863,
          10796,
          10763,
          10777,
          10734,
          10822,
          10650,
          10909,
          10849,
          10750,
          11008,
          10784,
          10924,
          10854,
          10755,
          10928,
          10898,
          10762,
          10890,
          10718,
          10952
         ],
         "xaxis": "x",
         "yaxis": "y"
        }
       ],
       "layout": {
        "barmode": "relative",
        "legend": {
         "title": {
          "text": "variable"
         },
         "tracegroupgap": 0
        },
        "margin": {
         "t": 60
        },
        "template": {
         "data": {
          "bar": [
           {
            "error_x": {
             "color": "#2a3f5f"
            },
            "error_y": {
             "color": "#2a3f5f"
            },
            "marker": {
             "line": {
              "color": "#E5ECF6",
              "width": 0.5
             },
             "pattern": {
              "fillmode": "overlay",
              "size": 10,
              "solidity": 0.2
             }
            },
            "type": "bar"
           }
          ],
          "barpolar": [
           {
            "marker": {
             "line": {
              "color": "#E5ECF6",
              "width": 0.5
             },
             "pattern": {
              "fillmode": "overlay",
              "size": 10,
              "solidity": 0.2
             }
            },
            "type": "barpolar"
           }
          ],
          "carpet": [
           {
            "aaxis": {
             "endlinecolor": "#2a3f5f",
             "gridcolor": "white",
             "linecolor": "white",
             "minorgridcolor": "white",
             "startlinecolor": "#2a3f5f"
            },
            "baxis": {
             "endlinecolor": "#2a3f5f",
             "gridcolor": "white",
             "linecolor": "white",
             "minorgridcolor": "white",
             "startlinecolor": "#2a3f5f"
            },
            "type": "carpet"
           }
          ],
          "choropleth": [
           {
            "colorbar": {
             "outlinewidth": 0,
             "ticks": ""
            },
            "type": "choropleth"
           }
          ],
          "contour": [
           {
            "colorbar": {
             "outlinewidth": 0,
             "ticks": ""
            },
            "colorscale": [
             [
              0,
              "#0d0887"
             ],
             [
              0.1111111111111111,
              "#46039f"
             ],
             [
              0.2222222222222222,
              "#7201a8"
             ],
             [
              0.3333333333333333,
              "#9c179e"
             ],
             [
              0.4444444444444444,
              "#bd3786"
             ],
             [
              0.5555555555555556,
              "#d8576b"
             ],
             [
              0.6666666666666666,
              "#ed7953"
             ],
             [
              0.7777777777777778,
              "#fb9f3a"
             ],
             [
              0.8888888888888888,
              "#fdca26"
             ],
             [
              1,
              "#f0f921"
             ]
            ],
            "type": "contour"
           }
          ],
          "contourcarpet": [
           {
            "colorbar": {
             "outlinewidth": 0,
             "ticks": ""
            },
            "type": "contourcarpet"
           }
          ],
          "heatmap": [
           {
            "colorbar": {
             "outlinewidth": 0,
             "ticks": ""
            },
            "colorscale": [
             [
              0,
              "#0d0887"
             ],
             [
              0.1111111111111111,
              "#46039f"
             ],
             [
              0.2222222222222222,
              "#7201a8"
             ],
             [
              0.3333333333333333,
              "#9c179e"
             ],
             [
              0.4444444444444444,
              "#bd3786"
             ],
             [
              0.5555555555555556,
              "#d8576b"
             ],
             [
              0.6666666666666666,
              "#ed7953"
             ],
             [
              0.7777777777777778,
              "#fb9f3a"
             ],
             [
              0.8888888888888888,
              "#fdca26"
             ],
             [
              1,
              "#f0f921"
             ]
            ],
            "type": "heatmap"
           }
          ],
          "heatmapgl": [
           {
            "colorbar": {
             "outlinewidth": 0,
             "ticks": ""
            },
            "colorscale": [
             [
              0,
              "#0d0887"
             ],
             [
              0.1111111111111111,
              "#46039f"
             ],
             [
              0.2222222222222222,
              "#7201a8"
             ],
             [
              0.3333333333333333,
              "#9c179e"
             ],
             [
              0.4444444444444444,
              "#bd3786"
             ],
             [
              0.5555555555555556,
              "#d8576b"
             ],
             [
              0.6666666666666666,
              "#ed7953"
             ],
             [
              0.7777777777777778,
              "#fb9f3a"
             ],
             [
              0.8888888888888888,
              "#fdca26"
             ],
             [
              1,
              "#f0f921"
             ]
            ],
            "type": "heatmapgl"
           }
          ],
          "histogram": [
           {
            "marker": {
             "pattern": {
              "fillmode": "overlay",
              "size": 10,
              "solidity": 0.2
             }
            },
            "type": "histogram"
           }
          ],
          "histogram2d": [
           {
            "colorbar": {
             "outlinewidth": 0,
             "ticks": ""
            },
            "colorscale": [
             [
              0,
              "#0d0887"
             ],
             [
              0.1111111111111111,
              "#46039f"
             ],
             [
              0.2222222222222222,
              "#7201a8"
             ],
             [
              0.3333333333333333,
              "#9c179e"
             ],
             [
              0.4444444444444444,
              "#bd3786"
             ],
             [
              0.5555555555555556,
              "#d8576b"
             ],
             [
              0.6666666666666666,
              "#ed7953"
             ],
             [
              0.7777777777777778,
              "#fb9f3a"
             ],
             [
              0.8888888888888888,
              "#fdca26"
             ],
             [
              1,
              "#f0f921"
             ]
            ],
            "type": "histogram2d"
           }
          ],
          "histogram2dcontour": [
           {
            "colorbar": {
             "outlinewidth": 0,
             "ticks": ""
            },
            "colorscale": [
             [
              0,
              "#0d0887"
             ],
             [
              0.1111111111111111,
              "#46039f"
             ],
             [
              0.2222222222222222,
              "#7201a8"
             ],
             [
              0.3333333333333333,
              "#9c179e"
             ],
             [
              0.4444444444444444,
              "#bd3786"
             ],
             [
              0.5555555555555556,
              "#d8576b"
             ],
             [
              0.6666666666666666,
              "#ed7953"
             ],
             [
              0.7777777777777778,
              "#fb9f3a"
             ],
             [
              0.8888888888888888,
              "#fdca26"
             ],
             [
              1,
              "#f0f921"
             ]
            ],
            "type": "histogram2dcontour"
           }
          ],
          "mesh3d": [
           {
            "colorbar": {
             "outlinewidth": 0,
             "ticks": ""
            },
            "type": "mesh3d"
           }
          ],
          "parcoords": [
           {
            "line": {
             "colorbar": {
              "outlinewidth": 0,
              "ticks": ""
             }
            },
            "type": "parcoords"
           }
          ],
          "pie": [
           {
            "automargin": true,
            "type": "pie"
           }
          ],
          "scatter": [
           {
            "fillpattern": {
             "fillmode": "overlay",
             "size": 10,
             "solidity": 0.2
            },
            "type": "scatter"
           }
          ],
          "scatter3d": [
           {
            "line": {
             "colorbar": {
              "outlinewidth": 0,
              "ticks": ""
             }
            },
            "marker": {
             "colorbar": {
              "outlinewidth": 0,
              "ticks": ""
             }
            },
            "type": "scatter3d"
           }
          ],
          "scattercarpet": [
           {
            "marker": {
             "colorbar": {
              "outlinewidth": 0,
              "ticks": ""
             }
            },
            "type": "scattercarpet"
           }
          ],
          "scattergeo": [
           {
            "marker": {
             "colorbar": {
              "outlinewidth": 0,
              "ticks": ""
             }
            },
            "type": "scattergeo"
           }
          ],
          "scattergl": [
           {
            "marker": {
             "colorbar": {
              "outlinewidth": 0,
              "ticks": ""
             }
            },
            "type": "scattergl"
           }
          ],
          "scattermapbox": [
           {
            "marker": {
             "colorbar": {
              "outlinewidth": 0,
              "ticks": ""
             }
            },
            "type": "scattermapbox"
           }
          ],
          "scatterpolar": [
           {
            "marker": {
             "colorbar": {
              "outlinewidth": 0,
              "ticks": ""
             }
            },
            "type": "scatterpolar"
           }
          ],
          "scatterpolargl": [
           {
            "marker": {
             "colorbar": {
              "outlinewidth": 0,
              "ticks": ""
             }
            },
            "type": "scatterpolargl"
           }
          ],
          "scatterternary": [
           {
            "marker": {
             "colorbar": {
              "outlinewidth": 0,
              "ticks": ""
             }
            },
            "type": "scatterternary"
           }
          ],
          "surface": [
           {
            "colorbar": {
             "outlinewidth": 0,
             "ticks": ""
            },
            "colorscale": [
             [
              0,
              "#0d0887"
             ],
             [
              0.1111111111111111,
              "#46039f"
             ],
             [
              0.2222222222222222,
              "#7201a8"
             ],
             [
              0.3333333333333333,
              "#9c179e"
             ],
             [
              0.4444444444444444,
              "#bd3786"
             ],
             [
              0.5555555555555556,
              "#d8576b"
             ],
             [
              0.6666666666666666,
              "#ed7953"
             ],
             [
              0.7777777777777778,
              "#fb9f3a"
             ],
             [
              0.8888888888888888,
              "#fdca26"
             ],
             [
              1,
              "#f0f921"
             ]
            ],
            "type": "surface"
           }
          ],
          "table": [
           {
            "cells": {
             "fill": {
              "color": "#EBF0F8"
             },
             "line": {
              "color": "white"
             }
            },
            "header": {
             "fill": {
              "color": "#C8D4E3"
             },
             "line": {
              "color": "white"
             }
            },
            "type": "table"
           }
          ]
         },
         "layout": {
          "annotationdefaults": {
           "arrowcolor": "#2a3f5f",
           "arrowhead": 0,
           "arrowwidth": 1
          },
          "autotypenumbers": "strict",
          "coloraxis": {
           "colorbar": {
            "outlinewidth": 0,
            "ticks": ""
           }
          },
          "colorscale": {
           "diverging": [
            [
             0,
             "#8e0152"
            ],
            [
             0.1,
             "#c51b7d"
            ],
            [
             0.2,
             "#de77ae"
            ],
            [
             0.3,
             "#f1b6da"
            ],
            [
             0.4,
             "#fde0ef"
            ],
            [
             0.5,
             "#f7f7f7"
            ],
            [
             0.6,
             "#e6f5d0"
            ],
            [
             0.7,
             "#b8e186"
            ],
            [
             0.8,
             "#7fbc41"
            ],
            [
             0.9,
             "#4d9221"
            ],
            [
             1,
             "#276419"
            ]
           ],
           "sequential": [
            [
             0,
             "#0d0887"
            ],
            [
             0.1111111111111111,
             "#46039f"
            ],
            [
             0.2222222222222222,
             "#7201a8"
            ],
            [
             0.3333333333333333,
             "#9c179e"
            ],
            [
             0.4444444444444444,
             "#bd3786"
            ],
            [
             0.5555555555555556,
             "#d8576b"
            ],
            [
             0.6666666666666666,
             "#ed7953"
            ],
            [
             0.7777777777777778,
             "#fb9f3a"
            ],
            [
             0.8888888888888888,
             "#fdca26"
            ],
            [
             1,
             "#f0f921"
            ]
           ],
           "sequentialminus": [
            [
             0,
             "#0d0887"
            ],
            [
             0.1111111111111111,
             "#46039f"
            ],
            [
             0.2222222222222222,
             "#7201a8"
            ],
            [
             0.3333333333333333,
             "#9c179e"
            ],
            [
             0.4444444444444444,
             "#bd3786"
            ],
            [
             0.5555555555555556,
             "#d8576b"
            ],
            [
             0.6666666666666666,
             "#ed7953"
            ],
            [
             0.7777777777777778,
             "#fb9f3a"
            ],
            [
             0.8888888888888888,
             "#fdca26"
            ],
            [
             1,
             "#f0f921"
            ]
           ]
          },
          "colorway": [
           "#636efa",
           "#EF553B",
           "#00cc96",
           "#ab63fa",
           "#FFA15A",
           "#19d3f3",
           "#FF6692",
           "#B6E880",
           "#FF97FF",
           "#FECB52"
          ],
          "font": {
           "color": "#2a3f5f"
          },
          "geo": {
           "bgcolor": "white",
           "lakecolor": "white",
           "landcolor": "#E5ECF6",
           "showlakes": true,
           "showland": true,
           "subunitcolor": "white"
          },
          "hoverlabel": {
           "align": "left"
          },
          "hovermode": "closest",
          "mapbox": {
           "style": "light"
          },
          "paper_bgcolor": "white",
          "plot_bgcolor": "#E5ECF6",
          "polar": {
           "angularaxis": {
            "gridcolor": "white",
            "linecolor": "white",
            "ticks": ""
           },
           "bgcolor": "#E5ECF6",
           "radialaxis": {
            "gridcolor": "white",
            "linecolor": "white",
            "ticks": ""
           }
          },
          "scene": {
           "xaxis": {
            "backgroundcolor": "#E5ECF6",
            "gridcolor": "white",
            "gridwidth": 2,
            "linecolor": "white",
            "showbackground": true,
            "ticks": "",
            "zerolinecolor": "white"
           },
           "yaxis": {
            "backgroundcolor": "#E5ECF6",
            "gridcolor": "white",
            "gridwidth": 2,
            "linecolor": "white",
            "showbackground": true,
            "ticks": "",
            "zerolinecolor": "white"
           },
           "zaxis": {
            "backgroundcolor": "#E5ECF6",
            "gridcolor": "white",
            "gridwidth": 2,
            "linecolor": "white",
            "showbackground": true,
            "ticks": "",
            "zerolinecolor": "white"
           }
          },
          "shapedefaults": {
           "line": {
            "color": "#2a3f5f"
           }
          },
          "ternary": {
           "aaxis": {
            "gridcolor": "white",
            "linecolor": "white",
            "ticks": ""
           },
           "baxis": {
            "gridcolor": "white",
            "linecolor": "white",
            "ticks": ""
           },
           "bgcolor": "#E5ECF6",
           "caxis": {
            "gridcolor": "white",
            "linecolor": "white",
            "ticks": ""
           }
          },
          "title": {
           "x": 0.05
          },
          "xaxis": {
           "automargin": true,
           "gridcolor": "white",
           "linecolor": "white",
           "ticks": "",
           "title": {
            "standoff": 15
           },
           "zerolinecolor": "white",
           "zerolinewidth": 2
          },
          "yaxis": {
           "automargin": true,
           "gridcolor": "white",
           "linecolor": "white",
           "ticks": "",
           "title": {
            "standoff": 15
           },
           "zerolinecolor": "white",
           "zerolinewidth": 2
          }
         }
        },
        "xaxis": {
         "anchor": "y",
         "domain": [
          0,
          1
         ],
         "title": {
          "text": "Arrivals"
         }
        },
        "yaxis": {
         "anchor": "x",
         "domain": [
          0,
          1
         ],
         "title": {
          "text": "Frequency"
         }
        }
       }
      }
     },
     "metadata": {},
     "output_type": "display_data"
    },
    {
     "data": {
      "application/vnd.plotly.v1+json": {
       "config": {
        "plotlyServerURL": "https://plot.ly"
       },
       "data": [
        {
         "alignmentgroup": "True",
         "bingroup": "x",
         "hovertemplate": "variable=mean_q_time_nurse<br>value=%{x}<br>count=%{y}<extra></extra>",
         "legendgroup": "mean_q_time_nurse",
         "marker": {
          "color": "#636efa",
          "pattern": {
           "shape": ""
          }
         },
         "name": "mean_q_time_nurse",
         "offsetgroup": "mean_q_time_nurse",
         "orientation": "v",
         "showlegend": true,
         "type": "histogram",
         "x": [
          0.504541081338615,
          0.514150649003393,
          0.5232349226016817,
          0.4791488631810612,
          0.46145745726579823,
          0.3882646868128185,
          0.4669381081669874,
          0.625888360901447,
          0.4684971326393017,
          0.5634349862001105,
          0.562585969190057,
          0.39781182403365434,
          0.44530362984867583,
          0.4397605749351992,
          0.6107822771635987,
          0.47670998312351787,
          0.428336230071242,
          0.505574486075843,
          0.3615821082986753,
          0.4191589720392036,
          0.6120142008002236,
          0.5173212645251098,
          0.5316566599495316,
          0.5270546197660896,
          0.5029697553047842,
          0.6270646900660448,
          0.5061794260886525,
          0.4925537687951073,
          0.4577189216542841,
          0.5422405738480466,
          0.5102078888697092,
          0.48198748047797074,
          0.5332478036639304,
          0.5412223863214205,
          0.47440089114789497,
          0.45901061008015087,
          0.6542824188053815,
          0.6205188357058152,
          0.5485304681321719,
          0.6595777838675844,
          0.5709321300961834,
          0.47254766530869424,
          0.5764718799585138,
          0.5676374182089498,
          0.6624590690057583,
          0.6825606874724027,
          0.46421275640582804,
          0.5639682544012119,
          0.4820950743209,
          0.492051951455445
         ],
         "xaxis": "x",
         "yaxis": "y"
        }
       ],
       "layout": {
        "barmode": "relative",
        "legend": {
         "title": {
          "text": "variable"
         },
         "tracegroupgap": 0
        },
        "margin": {
         "t": 60
        },
        "template": {
         "data": {
          "bar": [
           {
            "error_x": {
             "color": "#2a3f5f"
            },
            "error_y": {
             "color": "#2a3f5f"
            },
            "marker": {
             "line": {
              "color": "#E5ECF6",
              "width": 0.5
             },
             "pattern": {
              "fillmode": "overlay",
              "size": 10,
              "solidity": 0.2
             }
            },
            "type": "bar"
           }
          ],
          "barpolar": [
           {
            "marker": {
             "line": {
              "color": "#E5ECF6",
              "width": 0.5
             },
             "pattern": {
              "fillmode": "overlay",
              "size": 10,
              "solidity": 0.2
             }
            },
            "type": "barpolar"
           }
          ],
          "carpet": [
           {
            "aaxis": {
             "endlinecolor": "#2a3f5f",
             "gridcolor": "white",
             "linecolor": "white",
             "minorgridcolor": "white",
             "startlinecolor": "#2a3f5f"
            },
            "baxis": {
             "endlinecolor": "#2a3f5f",
             "gridcolor": "white",
             "linecolor": "white",
             "minorgridcolor": "white",
             "startlinecolor": "#2a3f5f"
            },
            "type": "carpet"
           }
          ],
          "choropleth": [
           {
            "colorbar": {
             "outlinewidth": 0,
             "ticks": ""
            },
            "type": "choropleth"
           }
          ],
          "contour": [
           {
            "colorbar": {
             "outlinewidth": 0,
             "ticks": ""
            },
            "colorscale": [
             [
              0,
              "#0d0887"
             ],
             [
              0.1111111111111111,
              "#46039f"
             ],
             [
              0.2222222222222222,
              "#7201a8"
             ],
             [
              0.3333333333333333,
              "#9c179e"
             ],
             [
              0.4444444444444444,
              "#bd3786"
             ],
             [
              0.5555555555555556,
              "#d8576b"
             ],
             [
              0.6666666666666666,
              "#ed7953"
             ],
             [
              0.7777777777777778,
              "#fb9f3a"
             ],
             [
              0.8888888888888888,
              "#fdca26"
             ],
             [
              1,
              "#f0f921"
             ]
            ],
            "type": "contour"
           }
          ],
          "contourcarpet": [
           {
            "colorbar": {
             "outlinewidth": 0,
             "ticks": ""
            },
            "type": "contourcarpet"
           }
          ],
          "heatmap": [
           {
            "colorbar": {
             "outlinewidth": 0,
             "ticks": ""
            },
            "colorscale": [
             [
              0,
              "#0d0887"
             ],
             [
              0.1111111111111111,
              "#46039f"
             ],
             [
              0.2222222222222222,
              "#7201a8"
             ],
             [
              0.3333333333333333,
              "#9c179e"
             ],
             [
              0.4444444444444444,
              "#bd3786"
             ],
             [
              0.5555555555555556,
              "#d8576b"
             ],
             [
              0.6666666666666666,
              "#ed7953"
             ],
             [
              0.7777777777777778,
              "#fb9f3a"
             ],
             [
              0.8888888888888888,
              "#fdca26"
             ],
             [
              1,
              "#f0f921"
             ]
            ],
            "type": "heatmap"
           }
          ],
          "heatmapgl": [
           {
            "colorbar": {
             "outlinewidth": 0,
             "ticks": ""
            },
            "colorscale": [
             [
              0,
              "#0d0887"
             ],
             [
              0.1111111111111111,
              "#46039f"
             ],
             [
              0.2222222222222222,
              "#7201a8"
             ],
             [
              0.3333333333333333,
              "#9c179e"
             ],
             [
              0.4444444444444444,
              "#bd3786"
             ],
             [
              0.5555555555555556,
              "#d8576b"
             ],
             [
              0.6666666666666666,
              "#ed7953"
             ],
             [
              0.7777777777777778,
              "#fb9f3a"
             ],
             [
              0.8888888888888888,
              "#fdca26"
             ],
             [
              1,
              "#f0f921"
             ]
            ],
            "type": "heatmapgl"
           }
          ],
          "histogram": [
           {
            "marker": {
             "pattern": {
              "fillmode": "overlay",
              "size": 10,
              "solidity": 0.2
             }
            },
            "type": "histogram"
           }
          ],
          "histogram2d": [
           {
            "colorbar": {
             "outlinewidth": 0,
             "ticks": ""
            },
            "colorscale": [
             [
              0,
              "#0d0887"
             ],
             [
              0.1111111111111111,
              "#46039f"
             ],
             [
              0.2222222222222222,
              "#7201a8"
             ],
             [
              0.3333333333333333,
              "#9c179e"
             ],
             [
              0.4444444444444444,
              "#bd3786"
             ],
             [
              0.5555555555555556,
              "#d8576b"
             ],
             [
              0.6666666666666666,
              "#ed7953"
             ],
             [
              0.7777777777777778,
              "#fb9f3a"
             ],
             [
              0.8888888888888888,
              "#fdca26"
             ],
             [
              1,
              "#f0f921"
             ]
            ],
            "type": "histogram2d"
           }
          ],
          "histogram2dcontour": [
           {
            "colorbar": {
             "outlinewidth": 0,
             "ticks": ""
            },
            "colorscale": [
             [
              0,
              "#0d0887"
             ],
             [
              0.1111111111111111,
              "#46039f"
             ],
             [
              0.2222222222222222,
              "#7201a8"
             ],
             [
              0.3333333333333333,
              "#9c179e"
             ],
             [
              0.4444444444444444,
              "#bd3786"
             ],
             [
              0.5555555555555556,
              "#d8576b"
             ],
             [
              0.6666666666666666,
              "#ed7953"
             ],
             [
              0.7777777777777778,
              "#fb9f3a"
             ],
             [
              0.8888888888888888,
              "#fdca26"
             ],
             [
              1,
              "#f0f921"
             ]
            ],
            "type": "histogram2dcontour"
           }
          ],
          "mesh3d": [
           {
            "colorbar": {
             "outlinewidth": 0,
             "ticks": ""
            },
            "type": "mesh3d"
           }
          ],
          "parcoords": [
           {
            "line": {
             "colorbar": {
              "outlinewidth": 0,
              "ticks": ""
             }
            },
            "type": "parcoords"
           }
          ],
          "pie": [
           {
            "automargin": true,
            "type": "pie"
           }
          ],
          "scatter": [
           {
            "fillpattern": {
             "fillmode": "overlay",
             "size": 10,
             "solidity": 0.2
            },
            "type": "scatter"
           }
          ],
          "scatter3d": [
           {
            "line": {
             "colorbar": {
              "outlinewidth": 0,
              "ticks": ""
             }
            },
            "marker": {
             "colorbar": {
              "outlinewidth": 0,
              "ticks": ""
             }
            },
            "type": "scatter3d"
           }
          ],
          "scattercarpet": [
           {
            "marker": {
             "colorbar": {
              "outlinewidth": 0,
              "ticks": ""
             }
            },
            "type": "scattercarpet"
           }
          ],
          "scattergeo": [
           {
            "marker": {
             "colorbar": {
              "outlinewidth": 0,
              "ticks": ""
             }
            },
            "type": "scattergeo"
           }
          ],
          "scattergl": [
           {
            "marker": {
             "colorbar": {
              "outlinewidth": 0,
              "ticks": ""
             }
            },
            "type": "scattergl"
           }
          ],
          "scattermapbox": [
           {
            "marker": {
             "colorbar": {
              "outlinewidth": 0,
              "ticks": ""
             }
            },
            "type": "scattermapbox"
           }
          ],
          "scatterpolar": [
           {
            "marker": {
             "colorbar": {
              "outlinewidth": 0,
              "ticks": ""
             }
            },
            "type": "scatterpolar"
           }
          ],
          "scatterpolargl": [
           {
            "marker": {
             "colorbar": {
              "outlinewidth": 0,
              "ticks": ""
             }
            },
            "type": "scatterpolargl"
           }
          ],
          "scatterternary": [
           {
            "marker": {
             "colorbar": {
              "outlinewidth": 0,
              "ticks": ""
             }
            },
            "type": "scatterternary"
           }
          ],
          "surface": [
           {
            "colorbar": {
             "outlinewidth": 0,
             "ticks": ""
            },
            "colorscale": [
             [
              0,
              "#0d0887"
             ],
             [
              0.1111111111111111,
              "#46039f"
             ],
             [
              0.2222222222222222,
              "#7201a8"
             ],
             [
              0.3333333333333333,
              "#9c179e"
             ],
             [
              0.4444444444444444,
              "#bd3786"
             ],
             [
              0.5555555555555556,
              "#d8576b"
             ],
             [
              0.6666666666666666,
              "#ed7953"
             ],
             [
              0.7777777777777778,
              "#fb9f3a"
             ],
             [
              0.8888888888888888,
              "#fdca26"
             ],
             [
              1,
              "#f0f921"
             ]
            ],
            "type": "surface"
           }
          ],
          "table": [
           {
            "cells": {
             "fill": {
              "color": "#EBF0F8"
             },
             "line": {
              "color": "white"
             }
            },
            "header": {
             "fill": {
              "color": "#C8D4E3"
             },
             "line": {
              "color": "white"
             }
            },
            "type": "table"
           }
          ]
         },
         "layout": {
          "annotationdefaults": {
           "arrowcolor": "#2a3f5f",
           "arrowhead": 0,
           "arrowwidth": 1
          },
          "autotypenumbers": "strict",
          "coloraxis": {
           "colorbar": {
            "outlinewidth": 0,
            "ticks": ""
           }
          },
          "colorscale": {
           "diverging": [
            [
             0,
             "#8e0152"
            ],
            [
             0.1,
             "#c51b7d"
            ],
            [
             0.2,
             "#de77ae"
            ],
            [
             0.3,
             "#f1b6da"
            ],
            [
             0.4,
             "#fde0ef"
            ],
            [
             0.5,
             "#f7f7f7"
            ],
            [
             0.6,
             "#e6f5d0"
            ],
            [
             0.7,
             "#b8e186"
            ],
            [
             0.8,
             "#7fbc41"
            ],
            [
             0.9,
             "#4d9221"
            ],
            [
             1,
             "#276419"
            ]
           ],
           "sequential": [
            [
             0,
             "#0d0887"
            ],
            [
             0.1111111111111111,
             "#46039f"
            ],
            [
             0.2222222222222222,
             "#7201a8"
            ],
            [
             0.3333333333333333,
             "#9c179e"
            ],
            [
             0.4444444444444444,
             "#bd3786"
            ],
            [
             0.5555555555555556,
             "#d8576b"
            ],
            [
             0.6666666666666666,
             "#ed7953"
            ],
            [
             0.7777777777777778,
             "#fb9f3a"
            ],
            [
             0.8888888888888888,
             "#fdca26"
            ],
            [
             1,
             "#f0f921"
            ]
           ],
           "sequentialminus": [
            [
             0,
             "#0d0887"
            ],
            [
             0.1111111111111111,
             "#46039f"
            ],
            [
             0.2222222222222222,
             "#7201a8"
            ],
            [
             0.3333333333333333,
             "#9c179e"
            ],
            [
             0.4444444444444444,
             "#bd3786"
            ],
            [
             0.5555555555555556,
             "#d8576b"
            ],
            [
             0.6666666666666666,
             "#ed7953"
            ],
            [
             0.7777777777777778,
             "#fb9f3a"
            ],
            [
             0.8888888888888888,
             "#fdca26"
            ],
            [
             1,
             "#f0f921"
            ]
           ]
          },
          "colorway": [
           "#636efa",
           "#EF553B",
           "#00cc96",
           "#ab63fa",
           "#FFA15A",
           "#19d3f3",
           "#FF6692",
           "#B6E880",
           "#FF97FF",
           "#FECB52"
          ],
          "font": {
           "color": "#2a3f5f"
          },
          "geo": {
           "bgcolor": "white",
           "lakecolor": "white",
           "landcolor": "#E5ECF6",
           "showlakes": true,
           "showland": true,
           "subunitcolor": "white"
          },
          "hoverlabel": {
           "align": "left"
          },
          "hovermode": "closest",
          "mapbox": {
           "style": "light"
          },
          "paper_bgcolor": "white",
          "plot_bgcolor": "#E5ECF6",
          "polar": {
           "angularaxis": {
            "gridcolor": "white",
            "linecolor": "white",
            "ticks": ""
           },
           "bgcolor": "#E5ECF6",
           "radialaxis": {
            "gridcolor": "white",
            "linecolor": "white",
            "ticks": ""
           }
          },
          "scene": {
           "xaxis": {
            "backgroundcolor": "#E5ECF6",
            "gridcolor": "white",
            "gridwidth": 2,
            "linecolor": "white",
            "showbackground": true,
            "ticks": "",
            "zerolinecolor": "white"
           },
           "yaxis": {
            "backgroundcolor": "#E5ECF6",
            "gridcolor": "white",
            "gridwidth": 2,
            "linecolor": "white",
            "showbackground": true,
            "ticks": "",
            "zerolinecolor": "white"
           },
           "zaxis": {
            "backgroundcolor": "#E5ECF6",
            "gridcolor": "white",
            "gridwidth": 2,
            "linecolor": "white",
            "showbackground": true,
            "ticks": "",
            "zerolinecolor": "white"
           }
          },
          "shapedefaults": {
           "line": {
            "color": "#2a3f5f"
           }
          },
          "ternary": {
           "aaxis": {
            "gridcolor": "white",
            "linecolor": "white",
            "ticks": ""
           },
           "baxis": {
            "gridcolor": "white",
            "linecolor": "white",
            "ticks": ""
           },
           "bgcolor": "#E5ECF6",
           "caxis": {
            "gridcolor": "white",
            "linecolor": "white",
            "ticks": ""
           }
          },
          "title": {
           "x": 0.05
          },
          "xaxis": {
           "automargin": true,
           "gridcolor": "white",
           "linecolor": "white",
           "ticks": "",
           "title": {
            "standoff": 15
           },
           "zerolinecolor": "white",
           "zerolinewidth": 2
          },
          "yaxis": {
           "automargin": true,
           "gridcolor": "white",
           "linecolor": "white",
           "ticks": "",
           "title": {
            "standoff": 15
           },
           "zerolinecolor": "white",
           "zerolinewidth": 2
          }
         }
        },
        "xaxis": {
         "anchor": "y",
         "domain": [
          0,
          1
         ],
         "title": {
          "text": "Mean wait time for nurse"
         }
        },
        "yaxis": {
         "anchor": "x",
         "domain": [
          0,
          1
         ],
         "title": {
          "text": "Frequency"
         }
        }
       }
      }
     },
     "metadata": {},
     "output_type": "display_data"
    },
    {
     "data": {
      "application/vnd.plotly.v1+json": {
       "config": {
        "plotlyServerURL": "https://plot.ly"
       },
       "data": [
        {
         "alignmentgroup": "True",
         "bingroup": "x",
         "hovertemplate": "variable=mean_time_with_nurse<br>value=%{x}<br>count=%{y}<extra></extra>",
         "legendgroup": "mean_time_with_nurse",
         "marker": {
          "color": "#636efa",
          "pattern": {
           "shape": ""
          }
         },
         "name": "mean_time_with_nurse",
         "offsetgroup": "mean_time_with_nurse",
         "orientation": "v",
         "showlegend": true,
         "type": "histogram",
         "x": [
          9.84226781662332,
          10.060480983450425,
          9.925024519746302,
          9.9370571543943,
          10.015904147971671,
          9.884995942861282,
          10.041799654744745,
          10.086979128063648,
          10.202270228377186,
          10.09260227901333,
          10.083553615426284,
          9.893334037740962,
          9.810905063859671,
          9.933879963761742,
          10.167683587926042,
          9.975581276412813,
          9.809804967118032,
          9.989154604862323,
          9.800182515281657,
          9.9193906381964,
          9.813774247048583,
          9.858186468091487,
          9.969891296475984,
          9.925291785145637,
          9.96454608027881,
          10.236338445072258,
          10.039653295082593,
          10.050997027592315,
          10.044180668559221,
          10.034383892923174,
          9.922063713004379,
          10.109442847790618,
          10.092133351296761,
          10.060112880030367,
          9.90627897733214,
          10.000683282637416,
          10.061103889649,
          9.993322184048123,
          10.043023835267684,
          10.04956228038381,
          10.064249350435722,
          9.97141177443358,
          10.122556540909983,
          10.075056933315272,
          10.089051565136407,
          10.118216266224682,
          10.058638295357085,
          10.123693779807768,
          10.088298057447204,
          10.060680631175464
         ],
         "xaxis": "x",
         "yaxis": "y"
        }
       ],
       "layout": {
        "barmode": "relative",
        "legend": {
         "title": {
          "text": "variable"
         },
         "tracegroupgap": 0
        },
        "margin": {
         "t": 60
        },
        "template": {
         "data": {
          "bar": [
           {
            "error_x": {
             "color": "#2a3f5f"
            },
            "error_y": {
             "color": "#2a3f5f"
            },
            "marker": {
             "line": {
              "color": "#E5ECF6",
              "width": 0.5
             },
             "pattern": {
              "fillmode": "overlay",
              "size": 10,
              "solidity": 0.2
             }
            },
            "type": "bar"
           }
          ],
          "barpolar": [
           {
            "marker": {
             "line": {
              "color": "#E5ECF6",
              "width": 0.5
             },
             "pattern": {
              "fillmode": "overlay",
              "size": 10,
              "solidity": 0.2
             }
            },
            "type": "barpolar"
           }
          ],
          "carpet": [
           {
            "aaxis": {
             "endlinecolor": "#2a3f5f",
             "gridcolor": "white",
             "linecolor": "white",
             "minorgridcolor": "white",
             "startlinecolor": "#2a3f5f"
            },
            "baxis": {
             "endlinecolor": "#2a3f5f",
             "gridcolor": "white",
             "linecolor": "white",
             "minorgridcolor": "white",
             "startlinecolor": "#2a3f5f"
            },
            "type": "carpet"
           }
          ],
          "choropleth": [
           {
            "colorbar": {
             "outlinewidth": 0,
             "ticks": ""
            },
            "type": "choropleth"
           }
          ],
          "contour": [
           {
            "colorbar": {
             "outlinewidth": 0,
             "ticks": ""
            },
            "colorscale": [
             [
              0,
              "#0d0887"
             ],
             [
              0.1111111111111111,
              "#46039f"
             ],
             [
              0.2222222222222222,
              "#7201a8"
             ],
             [
              0.3333333333333333,
              "#9c179e"
             ],
             [
              0.4444444444444444,
              "#bd3786"
             ],
             [
              0.5555555555555556,
              "#d8576b"
             ],
             [
              0.6666666666666666,
              "#ed7953"
             ],
             [
              0.7777777777777778,
              "#fb9f3a"
             ],
             [
              0.8888888888888888,
              "#fdca26"
             ],
             [
              1,
              "#f0f921"
             ]
            ],
            "type": "contour"
           }
          ],
          "contourcarpet": [
           {
            "colorbar": {
             "outlinewidth": 0,
             "ticks": ""
            },
            "type": "contourcarpet"
           }
          ],
          "heatmap": [
           {
            "colorbar": {
             "outlinewidth": 0,
             "ticks": ""
            },
            "colorscale": [
             [
              0,
              "#0d0887"
             ],
             [
              0.1111111111111111,
              "#46039f"
             ],
             [
              0.2222222222222222,
              "#7201a8"
             ],
             [
              0.3333333333333333,
              "#9c179e"
             ],
             [
              0.4444444444444444,
              "#bd3786"
             ],
             [
              0.5555555555555556,
              "#d8576b"
             ],
             [
              0.6666666666666666,
              "#ed7953"
             ],
             [
              0.7777777777777778,
              "#fb9f3a"
             ],
             [
              0.8888888888888888,
              "#fdca26"
             ],
             [
              1,
              "#f0f921"
             ]
            ],
            "type": "heatmap"
           }
          ],
          "heatmapgl": [
           {
            "colorbar": {
             "outlinewidth": 0,
             "ticks": ""
            },
            "colorscale": [
             [
              0,
              "#0d0887"
             ],
             [
              0.1111111111111111,
              "#46039f"
             ],
             [
              0.2222222222222222,
              "#7201a8"
             ],
             [
              0.3333333333333333,
              "#9c179e"
             ],
             [
              0.4444444444444444,
              "#bd3786"
             ],
             [
              0.5555555555555556,
              "#d8576b"
             ],
             [
              0.6666666666666666,
              "#ed7953"
             ],
             [
              0.7777777777777778,
              "#fb9f3a"
             ],
             [
              0.8888888888888888,
              "#fdca26"
             ],
             [
              1,
              "#f0f921"
             ]
            ],
            "type": "heatmapgl"
           }
          ],
          "histogram": [
           {
            "marker": {
             "pattern": {
              "fillmode": "overlay",
              "size": 10,
              "solidity": 0.2
             }
            },
            "type": "histogram"
           }
          ],
          "histogram2d": [
           {
            "colorbar": {
             "outlinewidth": 0,
             "ticks": ""
            },
            "colorscale": [
             [
              0,
              "#0d0887"
             ],
             [
              0.1111111111111111,
              "#46039f"
             ],
             [
              0.2222222222222222,
              "#7201a8"
             ],
             [
              0.3333333333333333,
              "#9c179e"
             ],
             [
              0.4444444444444444,
              "#bd3786"
             ],
             [
              0.5555555555555556,
              "#d8576b"
             ],
             [
              0.6666666666666666,
              "#ed7953"
             ],
             [
              0.7777777777777778,
              "#fb9f3a"
             ],
             [
              0.8888888888888888,
              "#fdca26"
             ],
             [
              1,
              "#f0f921"
             ]
            ],
            "type": "histogram2d"
           }
          ],
          "histogram2dcontour": [
           {
            "colorbar": {
             "outlinewidth": 0,
             "ticks": ""
            },
            "colorscale": [
             [
              0,
              "#0d0887"
             ],
             [
              0.1111111111111111,
              "#46039f"
             ],
             [
              0.2222222222222222,
              "#7201a8"
             ],
             [
              0.3333333333333333,
              "#9c179e"
             ],
             [
              0.4444444444444444,
              "#bd3786"
             ],
             [
              0.5555555555555556,
              "#d8576b"
             ],
             [
              0.6666666666666666,
              "#ed7953"
             ],
             [
              0.7777777777777778,
              "#fb9f3a"
             ],
             [
              0.8888888888888888,
              "#fdca26"
             ],
             [
              1,
              "#f0f921"
             ]
            ],
            "type": "histogram2dcontour"
           }
          ],
          "mesh3d": [
           {
            "colorbar": {
             "outlinewidth": 0,
             "ticks": ""
            },
            "type": "mesh3d"
           }
          ],
          "parcoords": [
           {
            "line": {
             "colorbar": {
              "outlinewidth": 0,
              "ticks": ""
             }
            },
            "type": "parcoords"
           }
          ],
          "pie": [
           {
            "automargin": true,
            "type": "pie"
           }
          ],
          "scatter": [
           {
            "fillpattern": {
             "fillmode": "overlay",
             "size": 10,
             "solidity": 0.2
            },
            "type": "scatter"
           }
          ],
          "scatter3d": [
           {
            "line": {
             "colorbar": {
              "outlinewidth": 0,
              "ticks": ""
             }
            },
            "marker": {
             "colorbar": {
              "outlinewidth": 0,
              "ticks": ""
             }
            },
            "type": "scatter3d"
           }
          ],
          "scattercarpet": [
           {
            "marker": {
             "colorbar": {
              "outlinewidth": 0,
              "ticks": ""
             }
            },
            "type": "scattercarpet"
           }
          ],
          "scattergeo": [
           {
            "marker": {
             "colorbar": {
              "outlinewidth": 0,
              "ticks": ""
             }
            },
            "type": "scattergeo"
           }
          ],
          "scattergl": [
           {
            "marker": {
             "colorbar": {
              "outlinewidth": 0,
              "ticks": ""
             }
            },
            "type": "scattergl"
           }
          ],
          "scattermapbox": [
           {
            "marker": {
             "colorbar": {
              "outlinewidth": 0,
              "ticks": ""
             }
            },
            "type": "scattermapbox"
           }
          ],
          "scatterpolar": [
           {
            "marker": {
             "colorbar": {
              "outlinewidth": 0,
              "ticks": ""
             }
            },
            "type": "scatterpolar"
           }
          ],
          "scatterpolargl": [
           {
            "marker": {
             "colorbar": {
              "outlinewidth": 0,
              "ticks": ""
             }
            },
            "type": "scatterpolargl"
           }
          ],
          "scatterternary": [
           {
            "marker": {
             "colorbar": {
              "outlinewidth": 0,
              "ticks": ""
             }
            },
            "type": "scatterternary"
           }
          ],
          "surface": [
           {
            "colorbar": {
             "outlinewidth": 0,
             "ticks": ""
            },
            "colorscale": [
             [
              0,
              "#0d0887"
             ],
             [
              0.1111111111111111,
              "#46039f"
             ],
             [
              0.2222222222222222,
              "#7201a8"
             ],
             [
              0.3333333333333333,
              "#9c179e"
             ],
             [
              0.4444444444444444,
              "#bd3786"
             ],
             [
              0.5555555555555556,
              "#d8576b"
             ],
             [
              0.6666666666666666,
              "#ed7953"
             ],
             [
              0.7777777777777778,
              "#fb9f3a"
             ],
             [
              0.8888888888888888,
              "#fdca26"
             ],
             [
              1,
              "#f0f921"
             ]
            ],
            "type": "surface"
           }
          ],
          "table": [
           {
            "cells": {
             "fill": {
              "color": "#EBF0F8"
             },
             "line": {
              "color": "white"
             }
            },
            "header": {
             "fill": {
              "color": "#C8D4E3"
             },
             "line": {
              "color": "white"
             }
            },
            "type": "table"
           }
          ]
         },
         "layout": {
          "annotationdefaults": {
           "arrowcolor": "#2a3f5f",
           "arrowhead": 0,
           "arrowwidth": 1
          },
          "autotypenumbers": "strict",
          "coloraxis": {
           "colorbar": {
            "outlinewidth": 0,
            "ticks": ""
           }
          },
          "colorscale": {
           "diverging": [
            [
             0,
             "#8e0152"
            ],
            [
             0.1,
             "#c51b7d"
            ],
            [
             0.2,
             "#de77ae"
            ],
            [
             0.3,
             "#f1b6da"
            ],
            [
             0.4,
             "#fde0ef"
            ],
            [
             0.5,
             "#f7f7f7"
            ],
            [
             0.6,
             "#e6f5d0"
            ],
            [
             0.7,
             "#b8e186"
            ],
            [
             0.8,
             "#7fbc41"
            ],
            [
             0.9,
             "#4d9221"
            ],
            [
             1,
             "#276419"
            ]
           ],
           "sequential": [
            [
             0,
             "#0d0887"
            ],
            [
             0.1111111111111111,
             "#46039f"
            ],
            [
             0.2222222222222222,
             "#7201a8"
            ],
            [
             0.3333333333333333,
             "#9c179e"
            ],
            [
             0.4444444444444444,
             "#bd3786"
            ],
            [
             0.5555555555555556,
             "#d8576b"
            ],
            [
             0.6666666666666666,
             "#ed7953"
            ],
            [
             0.7777777777777778,
             "#fb9f3a"
            ],
            [
             0.8888888888888888,
             "#fdca26"
            ],
            [
             1,
             "#f0f921"
            ]
           ],
           "sequentialminus": [
            [
             0,
             "#0d0887"
            ],
            [
             0.1111111111111111,
             "#46039f"
            ],
            [
             0.2222222222222222,
             "#7201a8"
            ],
            [
             0.3333333333333333,
             "#9c179e"
            ],
            [
             0.4444444444444444,
             "#bd3786"
            ],
            [
             0.5555555555555556,
             "#d8576b"
            ],
            [
             0.6666666666666666,
             "#ed7953"
            ],
            [
             0.7777777777777778,
             "#fb9f3a"
            ],
            [
             0.8888888888888888,
             "#fdca26"
            ],
            [
             1,
             "#f0f921"
            ]
           ]
          },
          "colorway": [
           "#636efa",
           "#EF553B",
           "#00cc96",
           "#ab63fa",
           "#FFA15A",
           "#19d3f3",
           "#FF6692",
           "#B6E880",
           "#FF97FF",
           "#FECB52"
          ],
          "font": {
           "color": "#2a3f5f"
          },
          "geo": {
           "bgcolor": "white",
           "lakecolor": "white",
           "landcolor": "#E5ECF6",
           "showlakes": true,
           "showland": true,
           "subunitcolor": "white"
          },
          "hoverlabel": {
           "align": "left"
          },
          "hovermode": "closest",
          "mapbox": {
           "style": "light"
          },
          "paper_bgcolor": "white",
          "plot_bgcolor": "#E5ECF6",
          "polar": {
           "angularaxis": {
            "gridcolor": "white",
            "linecolor": "white",
            "ticks": ""
           },
           "bgcolor": "#E5ECF6",
           "radialaxis": {
            "gridcolor": "white",
            "linecolor": "white",
            "ticks": ""
           }
          },
          "scene": {
           "xaxis": {
            "backgroundcolor": "#E5ECF6",
            "gridcolor": "white",
            "gridwidth": 2,
            "linecolor": "white",
            "showbackground": true,
            "ticks": "",
            "zerolinecolor": "white"
           },
           "yaxis": {
            "backgroundcolor": "#E5ECF6",
            "gridcolor": "white",
            "gridwidth": 2,
            "linecolor": "white",
            "showbackground": true,
            "ticks": "",
            "zerolinecolor": "white"
           },
           "zaxis": {
            "backgroundcolor": "#E5ECF6",
            "gridcolor": "white",
            "gridwidth": 2,
            "linecolor": "white",
            "showbackground": true,
            "ticks": "",
            "zerolinecolor": "white"
           }
          },
          "shapedefaults": {
           "line": {
            "color": "#2a3f5f"
           }
          },
          "ternary": {
           "aaxis": {
            "gridcolor": "white",
            "linecolor": "white",
            "ticks": ""
           },
           "baxis": {
            "gridcolor": "white",
            "linecolor": "white",
            "ticks": ""
           },
           "bgcolor": "#E5ECF6",
           "caxis": {
            "gridcolor": "white",
            "linecolor": "white",
            "ticks": ""
           }
          },
          "title": {
           "x": 0.05
          },
          "xaxis": {
           "automargin": true,
           "gridcolor": "white",
           "linecolor": "white",
           "ticks": "",
           "title": {
            "standoff": 15
           },
           "zerolinecolor": "white",
           "zerolinewidth": 2
          },
          "yaxis": {
           "automargin": true,
           "gridcolor": "white",
           "linecolor": "white",
           "ticks": "",
           "title": {
            "standoff": 15
           },
           "zerolinecolor": "white",
           "zerolinewidth": 2
          }
         }
        },
        "xaxis": {
         "anchor": "y",
         "domain": [
          0,
          1
         ],
         "title": {
          "text": "Mean length of nurse consultation"
         }
        },
        "yaxis": {
         "anchor": "x",
         "domain": [
          0,
          1
         ],
         "title": {
          "text": "Frequency"
         }
        }
       }
      }
     },
     "metadata": {},
     "output_type": "display_data"
    },
    {
     "data": {
      "application/vnd.plotly.v1+json": {
       "config": {
        "plotlyServerURL": "https://plot.ly"
       },
       "data": [
        {
         "alignmentgroup": "True",
         "bingroup": "x",
         "hovertemplate": "variable=average_nurse_utilisation<br>value=%{x}<br>count=%{y}<extra></extra>",
         "legendgroup": "average_nurse_utilisation",
         "marker": {
          "color": "#636efa",
          "pattern": {
           "shape": ""
          }
         },
         "name": "average_nurse_utilisation",
         "offsetgroup": "average_nurse_utilisation",
         "orientation": "v",
         "showlegend": true,
         "type": "histogram",
         "x": [
          0.4996386466177992,
          0.5019905433327594,
          0.4981297032213408,
          0.49822049332297624,
          0.4968703372055205,
          0.492904233058074,
          0.503356251584998,
          0.5034489381047406,
          0.508790994907774,
          0.49997178325917613,
          0.5098373896503802,
          0.4895233535105571,
          0.5034276977164731,
          0.48925457544062534,
          0.513130373051619,
          0.5009629889699926,
          0.4866947365248423,
          0.4954087210793937,
          0.4793715775153063,
          0.4915291568180775,
          0.49261944375555833,
          0.48940978932654106,
          0.4892835610032433,
          0.5013818263178943,
          0.49160360886911897,
          0.5060501169430693,
          0.5022615440123254,
          0.4999546777219452,
          0.4923573694687436,
          0.5046064549261675,
          0.49578999982774674,
          0.5036069180413961,
          0.5034614907790971,
          0.49963072235968004,
          0.4960393381080295,
          0.4930516550305686,
          0.5081301963936187,
          0.5020531790211499,
          0.4998156385135252,
          0.5120619062734135,
          0.5023865166481989,
          0.5042930232043144,
          0.5086012794532562,
          0.5015961482288526,
          0.5102170962345217,
          0.5104361337214204,
          0.5008496579443008,
          0.5102778898238796,
          0.5002744425893443,
          0.5100005206812247
         ],
         "xaxis": "x",
         "yaxis": "y"
        }
       ],
       "layout": {
        "barmode": "relative",
        "legend": {
         "title": {
          "text": "variable"
         },
         "tracegroupgap": 0
        },
        "margin": {
         "t": 60
        },
        "template": {
         "data": {
          "bar": [
           {
            "error_x": {
             "color": "#2a3f5f"
            },
            "error_y": {
             "color": "#2a3f5f"
            },
            "marker": {
             "line": {
              "color": "#E5ECF6",
              "width": 0.5
             },
             "pattern": {
              "fillmode": "overlay",
              "size": 10,
              "solidity": 0.2
             }
            },
            "type": "bar"
           }
          ],
          "barpolar": [
           {
            "marker": {
             "line": {
              "color": "#E5ECF6",
              "width": 0.5
             },
             "pattern": {
              "fillmode": "overlay",
              "size": 10,
              "solidity": 0.2
             }
            },
            "type": "barpolar"
           }
          ],
          "carpet": [
           {
            "aaxis": {
             "endlinecolor": "#2a3f5f",
             "gridcolor": "white",
             "linecolor": "white",
             "minorgridcolor": "white",
             "startlinecolor": "#2a3f5f"
            },
            "baxis": {
             "endlinecolor": "#2a3f5f",
             "gridcolor": "white",
             "linecolor": "white",
             "minorgridcolor": "white",
             "startlinecolor": "#2a3f5f"
            },
            "type": "carpet"
           }
          ],
          "choropleth": [
           {
            "colorbar": {
             "outlinewidth": 0,
             "ticks": ""
            },
            "type": "choropleth"
           }
          ],
          "contour": [
           {
            "colorbar": {
             "outlinewidth": 0,
             "ticks": ""
            },
            "colorscale": [
             [
              0,
              "#0d0887"
             ],
             [
              0.1111111111111111,
              "#46039f"
             ],
             [
              0.2222222222222222,
              "#7201a8"
             ],
             [
              0.3333333333333333,
              "#9c179e"
             ],
             [
              0.4444444444444444,
              "#bd3786"
             ],
             [
              0.5555555555555556,
              "#d8576b"
             ],
             [
              0.6666666666666666,
              "#ed7953"
             ],
             [
              0.7777777777777778,
              "#fb9f3a"
             ],
             [
              0.8888888888888888,
              "#fdca26"
             ],
             [
              1,
              "#f0f921"
             ]
            ],
            "type": "contour"
           }
          ],
          "contourcarpet": [
           {
            "colorbar": {
             "outlinewidth": 0,
             "ticks": ""
            },
            "type": "contourcarpet"
           }
          ],
          "heatmap": [
           {
            "colorbar": {
             "outlinewidth": 0,
             "ticks": ""
            },
            "colorscale": [
             [
              0,
              "#0d0887"
             ],
             [
              0.1111111111111111,
              "#46039f"
             ],
             [
              0.2222222222222222,
              "#7201a8"
             ],
             [
              0.3333333333333333,
              "#9c179e"
             ],
             [
              0.4444444444444444,
              "#bd3786"
             ],
             [
              0.5555555555555556,
              "#d8576b"
             ],
             [
              0.6666666666666666,
              "#ed7953"
             ],
             [
              0.7777777777777778,
              "#fb9f3a"
             ],
             [
              0.8888888888888888,
              "#fdca26"
             ],
             [
              1,
              "#f0f921"
             ]
            ],
            "type": "heatmap"
           }
          ],
          "heatmapgl": [
           {
            "colorbar": {
             "outlinewidth": 0,
             "ticks": ""
            },
            "colorscale": [
             [
              0,
              "#0d0887"
             ],
             [
              0.1111111111111111,
              "#46039f"
             ],
             [
              0.2222222222222222,
              "#7201a8"
             ],
             [
              0.3333333333333333,
              "#9c179e"
             ],
             [
              0.4444444444444444,
              "#bd3786"
             ],
             [
              0.5555555555555556,
              "#d8576b"
             ],
             [
              0.6666666666666666,
              "#ed7953"
             ],
             [
              0.7777777777777778,
              "#fb9f3a"
             ],
             [
              0.8888888888888888,
              "#fdca26"
             ],
             [
              1,
              "#f0f921"
             ]
            ],
            "type": "heatmapgl"
           }
          ],
          "histogram": [
           {
            "marker": {
             "pattern": {
              "fillmode": "overlay",
              "size": 10,
              "solidity": 0.2
             }
            },
            "type": "histogram"
           }
          ],
          "histogram2d": [
           {
            "colorbar": {
             "outlinewidth": 0,
             "ticks": ""
            },
            "colorscale": [
             [
              0,
              "#0d0887"
             ],
             [
              0.1111111111111111,
              "#46039f"
             ],
             [
              0.2222222222222222,
              "#7201a8"
             ],
             [
              0.3333333333333333,
              "#9c179e"
             ],
             [
              0.4444444444444444,
              "#bd3786"
             ],
             [
              0.5555555555555556,
              "#d8576b"
             ],
             [
              0.6666666666666666,
              "#ed7953"
             ],
             [
              0.7777777777777778,
              "#fb9f3a"
             ],
             [
              0.8888888888888888,
              "#fdca26"
             ],
             [
              1,
              "#f0f921"
             ]
            ],
            "type": "histogram2d"
           }
          ],
          "histogram2dcontour": [
           {
            "colorbar": {
             "outlinewidth": 0,
             "ticks": ""
            },
            "colorscale": [
             [
              0,
              "#0d0887"
             ],
             [
              0.1111111111111111,
              "#46039f"
             ],
             [
              0.2222222222222222,
              "#7201a8"
             ],
             [
              0.3333333333333333,
              "#9c179e"
             ],
             [
              0.4444444444444444,
              "#bd3786"
             ],
             [
              0.5555555555555556,
              "#d8576b"
             ],
             [
              0.6666666666666666,
              "#ed7953"
             ],
             [
              0.7777777777777778,
              "#fb9f3a"
             ],
             [
              0.8888888888888888,
              "#fdca26"
             ],
             [
              1,
              "#f0f921"
             ]
            ],
            "type": "histogram2dcontour"
           }
          ],
          "mesh3d": [
           {
            "colorbar": {
             "outlinewidth": 0,
             "ticks": ""
            },
            "type": "mesh3d"
           }
          ],
          "parcoords": [
           {
            "line": {
             "colorbar": {
              "outlinewidth": 0,
              "ticks": ""
             }
            },
            "type": "parcoords"
           }
          ],
          "pie": [
           {
            "automargin": true,
            "type": "pie"
           }
          ],
          "scatter": [
           {
            "fillpattern": {
             "fillmode": "overlay",
             "size": 10,
             "solidity": 0.2
            },
            "type": "scatter"
           }
          ],
          "scatter3d": [
           {
            "line": {
             "colorbar": {
              "outlinewidth": 0,
              "ticks": ""
             }
            },
            "marker": {
             "colorbar": {
              "outlinewidth": 0,
              "ticks": ""
             }
            },
            "type": "scatter3d"
           }
          ],
          "scattercarpet": [
           {
            "marker": {
             "colorbar": {
              "outlinewidth": 0,
              "ticks": ""
             }
            },
            "type": "scattercarpet"
           }
          ],
          "scattergeo": [
           {
            "marker": {
             "colorbar": {
              "outlinewidth": 0,
              "ticks": ""
             }
            },
            "type": "scattergeo"
           }
          ],
          "scattergl": [
           {
            "marker": {
             "colorbar": {
              "outlinewidth": 0,
              "ticks": ""
             }
            },
            "type": "scattergl"
           }
          ],
          "scattermapbox": [
           {
            "marker": {
             "colorbar": {
              "outlinewidth": 0,
              "ticks": ""
             }
            },
            "type": "scattermapbox"
           }
          ],
          "scatterpolar": [
           {
            "marker": {
             "colorbar": {
              "outlinewidth": 0,
              "ticks": ""
             }
            },
            "type": "scatterpolar"
           }
          ],
          "scatterpolargl": [
           {
            "marker": {
             "colorbar": {
              "outlinewidth": 0,
              "ticks": ""
             }
            },
            "type": "scatterpolargl"
           }
          ],
          "scatterternary": [
           {
            "marker": {
             "colorbar": {
              "outlinewidth": 0,
              "ticks": ""
             }
            },
            "type": "scatterternary"
           }
          ],
          "surface": [
           {
            "colorbar": {
             "outlinewidth": 0,
             "ticks": ""
            },
            "colorscale": [
             [
              0,
              "#0d0887"
             ],
             [
              0.1111111111111111,
              "#46039f"
             ],
             [
              0.2222222222222222,
              "#7201a8"
             ],
             [
              0.3333333333333333,
              "#9c179e"
             ],
             [
              0.4444444444444444,
              "#bd3786"
             ],
             [
              0.5555555555555556,
              "#d8576b"
             ],
             [
              0.6666666666666666,
              "#ed7953"
             ],
             [
              0.7777777777777778,
              "#fb9f3a"
             ],
             [
              0.8888888888888888,
              "#fdca26"
             ],
             [
              1,
              "#f0f921"
             ]
            ],
            "type": "surface"
           }
          ],
          "table": [
           {
            "cells": {
             "fill": {
              "color": "#EBF0F8"
             },
             "line": {
              "color": "white"
             }
            },
            "header": {
             "fill": {
              "color": "#C8D4E3"
             },
             "line": {
              "color": "white"
             }
            },
            "type": "table"
           }
          ]
         },
         "layout": {
          "annotationdefaults": {
           "arrowcolor": "#2a3f5f",
           "arrowhead": 0,
           "arrowwidth": 1
          },
          "autotypenumbers": "strict",
          "coloraxis": {
           "colorbar": {
            "outlinewidth": 0,
            "ticks": ""
           }
          },
          "colorscale": {
           "diverging": [
            [
             0,
             "#8e0152"
            ],
            [
             0.1,
             "#c51b7d"
            ],
            [
             0.2,
             "#de77ae"
            ],
            [
             0.3,
             "#f1b6da"
            ],
            [
             0.4,
             "#fde0ef"
            ],
            [
             0.5,
             "#f7f7f7"
            ],
            [
             0.6,
             "#e6f5d0"
            ],
            [
             0.7,
             "#b8e186"
            ],
            [
             0.8,
             "#7fbc41"
            ],
            [
             0.9,
             "#4d9221"
            ],
            [
             1,
             "#276419"
            ]
           ],
           "sequential": [
            [
             0,
             "#0d0887"
            ],
            [
             0.1111111111111111,
             "#46039f"
            ],
            [
             0.2222222222222222,
             "#7201a8"
            ],
            [
             0.3333333333333333,
             "#9c179e"
            ],
            [
             0.4444444444444444,
             "#bd3786"
            ],
            [
             0.5555555555555556,
             "#d8576b"
            ],
            [
             0.6666666666666666,
             "#ed7953"
            ],
            [
             0.7777777777777778,
             "#fb9f3a"
            ],
            [
             0.8888888888888888,
             "#fdca26"
            ],
            [
             1,
             "#f0f921"
            ]
           ],
           "sequentialminus": [
            [
             0,
             "#0d0887"
            ],
            [
             0.1111111111111111,
             "#46039f"
            ],
            [
             0.2222222222222222,
             "#7201a8"
            ],
            [
             0.3333333333333333,
             "#9c179e"
            ],
            [
             0.4444444444444444,
             "#bd3786"
            ],
            [
             0.5555555555555556,
             "#d8576b"
            ],
            [
             0.6666666666666666,
             "#ed7953"
            ],
            [
             0.7777777777777778,
             "#fb9f3a"
            ],
            [
             0.8888888888888888,
             "#fdca26"
            ],
            [
             1,
             "#f0f921"
            ]
           ]
          },
          "colorway": [
           "#636efa",
           "#EF553B",
           "#00cc96",
           "#ab63fa",
           "#FFA15A",
           "#19d3f3",
           "#FF6692",
           "#B6E880",
           "#FF97FF",
           "#FECB52"
          ],
          "font": {
           "color": "#2a3f5f"
          },
          "geo": {
           "bgcolor": "white",
           "lakecolor": "white",
           "landcolor": "#E5ECF6",
           "showlakes": true,
           "showland": true,
           "subunitcolor": "white"
          },
          "hoverlabel": {
           "align": "left"
          },
          "hovermode": "closest",
          "mapbox": {
           "style": "light"
          },
          "paper_bgcolor": "white",
          "plot_bgcolor": "#E5ECF6",
          "polar": {
           "angularaxis": {
            "gridcolor": "white",
            "linecolor": "white",
            "ticks": ""
           },
           "bgcolor": "#E5ECF6",
           "radialaxis": {
            "gridcolor": "white",
            "linecolor": "white",
            "ticks": ""
           }
          },
          "scene": {
           "xaxis": {
            "backgroundcolor": "#E5ECF6",
            "gridcolor": "white",
            "gridwidth": 2,
            "linecolor": "white",
            "showbackground": true,
            "ticks": "",
            "zerolinecolor": "white"
           },
           "yaxis": {
            "backgroundcolor": "#E5ECF6",
            "gridcolor": "white",
            "gridwidth": 2,
            "linecolor": "white",
            "showbackground": true,
            "ticks": "",
            "zerolinecolor": "white"
           },
           "zaxis": {
            "backgroundcolor": "#E5ECF6",
            "gridcolor": "white",
            "gridwidth": 2,
            "linecolor": "white",
            "showbackground": true,
            "ticks": "",
            "zerolinecolor": "white"
           }
          },
          "shapedefaults": {
           "line": {
            "color": "#2a3f5f"
           }
          },
          "ternary": {
           "aaxis": {
            "gridcolor": "white",
            "linecolor": "white",
            "ticks": ""
           },
           "baxis": {
            "gridcolor": "white",
            "linecolor": "white",
            "ticks": ""
           },
           "bgcolor": "#E5ECF6",
           "caxis": {
            "gridcolor": "white",
            "linecolor": "white",
            "ticks": ""
           }
          },
          "title": {
           "x": 0.05
          },
          "xaxis": {
           "automargin": true,
           "gridcolor": "white",
           "linecolor": "white",
           "ticks": "",
           "title": {
            "standoff": 15
           },
           "zerolinecolor": "white",
           "zerolinewidth": 2
          },
          "yaxis": {
           "automargin": true,
           "gridcolor": "white",
           "linecolor": "white",
           "ticks": "",
           "title": {
            "standoff": 15
           },
           "zerolinecolor": "white",
           "zerolinewidth": 2
          }
         }
        },
        "xaxis": {
         "anchor": "y",
         "domain": [
          0,
          1
         ],
         "title": {
          "text": "Mean nurse utilisation"
         }
        },
        "yaxis": {
         "anchor": "x",
         "domain": [
          0,
          1
         ],
         "title": {
          "text": "Frequency"
         }
        }
       }
      }
     },
     "metadata": {},
     "output_type": "display_data"
    }
   ],
   "source": [
    "def plot_results_spread(column, x_label, y_label='Frequency'):\n",
    "    \"\"\"\n",
    "    Plot spread of results from across replications, for chosen column.\n",
    "\n",
    "    Arguments:\n",
    "        column (str):\n",
    "            Name of column to plot.\n",
    "        x_label (str):\n",
    "            X axis label.\n",
    "        y_label (str):\n",
    "            Y axis label\n",
    "    \"\"\"\n",
    "    fig = px.histogram(trial.trial_results_df[column])\n",
    "    fig.update_layout(\n",
    "        xaxis_title=x_label,\n",
    "        yaxis_title=y_label\n",
    "    )\n",
    "    fig.show()\n",
    "\n",
    "\n",
    "plot_results_spread('arrivals', 'Arrivals')\n",
    "plot_results_spread('mean_q_time_nurse', 'Mean wait time for nurse')\n",
    "plot_results_spread('mean_time_with_nurse', 'Mean length of nurse consultation')\n",
    "plot_results_spread('average_nurse_utilisation', 'Mean nurse utilisation')"
   ]
  },
  {
   "cell_type": "markdown",
   "metadata": {},
   "source": [
    "## Other stuff"
   ]
  },
  {
   "cell_type": "code",
   "execution_count": 8,
   "metadata": {},
   "outputs": [
    {
     "data": {
      "text/html": [
       "<div>\n",
       "<style scoped>\n",
       "    .dataframe tbody tr th:only-of-type {\n",
       "        vertical-align: middle;\n",
       "    }\n",
       "\n",
       "    .dataframe tbody tr th {\n",
       "        vertical-align: top;\n",
       "    }\n",
       "\n",
       "    .dataframe thead th {\n",
       "        text-align: right;\n",
       "    }\n",
       "</style>\n",
       "<table border=\"1\" class=\"dataframe\">\n",
       "  <thead>\n",
       "    <tr style=\"text-align: right;\">\n",
       "      <th></th>\n",
       "      <th>mean_q_time_nurse</th>\n",
       "      <th>average_nurse_utilisation</th>\n",
       "    </tr>\n",
       "  </thead>\n",
       "  <tbody>\n",
       "    <tr>\n",
       "      <th>mean</th>\n",
       "      <td>0.499556</td>\n",
       "      <td>0.500332</td>\n",
       "    </tr>\n",
       "    <tr>\n",
       "      <th>std_dev</th>\n",
       "      <td>0.064223</td>\n",
       "      <td>0.004349</td>\n",
       "    </tr>\n",
       "    <tr>\n",
       "      <th>lower_95_ci</th>\n",
       "      <td>0.453613</td>\n",
       "      <td>0.497221</td>\n",
       "    </tr>\n",
       "    <tr>\n",
       "      <th>upper_95_ci</th>\n",
       "      <td>0.545498</td>\n",
       "      <td>0.503443</td>\n",
       "    </tr>\n",
       "  </tbody>\n",
       "</table>\n",
       "</div>"
      ],
      "text/plain": [
       "             mean_q_time_nurse  average_nurse_utilisation\n",
       "mean                  0.499556                   0.500332\n",
       "std_dev               0.064223                   0.004349\n",
       "lower_95_ci           0.453613                   0.497221\n",
       "upper_95_ci           0.545498                   0.503443"
      ]
     },
     "execution_count": 8,
     "metadata": {},
     "output_type": "execute_result"
    }
   ],
   "source": [
    "single_trial = Trial(param=Defaults())\n",
    "single_trial.run_trial()\n",
    "single_trial.trial_results_df\n",
    "\n",
    "uncertainty_metrics = {}\n",
    "for col in ['mean_q_time_nurse', 'average_nurse_utilisation']:\n",
    "    # Calculate mean, standard deviation and count\n",
    "    data = single_trial.trial_results_df[col]\n",
    "    mean = data.mean()\n",
    "    std_dev = data.std()\n",
    "    n = len(data)\n",
    "\n",
    "    # Calculate 95% confidence interval\n",
    "    ci_lower, ci_upper = st.t.interval(\n",
    "        confidence=0.95, df=len(data)-1, loc=mean, scale=st.sem(data))\n",
    "\n",
    "    # Save as dictionary\n",
    "    uncertainty_metrics[col] = {\n",
    "        'mean': mean,\n",
    "        'std_dev': std_dev,\n",
    "        'lower_95_ci': ci_lower,\n",
    "        'upper_95_ci': ci_upper\n",
    "    }\n",
    "# Convert to dataframe\n",
    "pd.DataFrame(uncertainty_metrics)"
   ]
  },
  {
   "cell_type": "code",
   "execution_count": 10,
   "metadata": {},
   "outputs": [
    {
     "data": {
      "text/html": [
       "<div>\n",
       "<style scoped>\n",
       "    .dataframe tbody tr th:only-of-type {\n",
       "        vertical-align: middle;\n",
       "    }\n",
       "\n",
       "    .dataframe tbody tr th {\n",
       "        vertical-align: top;\n",
       "    }\n",
       "\n",
       "    .dataframe thead th {\n",
       "        text-align: right;\n",
       "    }\n",
       "</style>\n",
       "<table border=\"1\" class=\"dataframe\">\n",
       "  <thead>\n",
       "    <tr style=\"text-align: right;\">\n",
       "      <th></th>\n",
       "      <th>patient_id</th>\n",
       "      <th>arrival_time</th>\n",
       "      <th>q_time_nurse</th>\n",
       "      <th>time_with_nurse</th>\n",
       "      <th>run</th>\n",
       "    </tr>\n",
       "  </thead>\n",
       "  <tbody>\n",
       "    <tr>\n",
       "      <th>0</th>\n",
       "      <td>1</td>\n",
       "      <td>18720.556711</td>\n",
       "      <td>0.0</td>\n",
       "      <td>1.551695</td>\n",
       "      <td>0</td>\n",
       "    </tr>\n",
       "    <tr>\n",
       "      <th>1</th>\n",
       "      <td>2</td>\n",
       "      <td>18724.792565</td>\n",
       "      <td>0.0</td>\n",
       "      <td>3.649895</td>\n",
       "      <td>0</td>\n",
       "    </tr>\n",
       "    <tr>\n",
       "      <th>2</th>\n",
       "      <td>3</td>\n",
       "      <td>18725.627670</td>\n",
       "      <td>0.0</td>\n",
       "      <td>8.137105</td>\n",
       "      <td>0</td>\n",
       "    </tr>\n",
       "    <tr>\n",
       "      <th>3</th>\n",
       "      <td>4</td>\n",
       "      <td>18728.774983</td>\n",
       "      <td>0.0</td>\n",
       "      <td>22.057543</td>\n",
       "      <td>0</td>\n",
       "    </tr>\n",
       "    <tr>\n",
       "      <th>4</th>\n",
       "      <td>5</td>\n",
       "      <td>18729.812428</td>\n",
       "      <td>0.0</td>\n",
       "      <td>15.439297</td>\n",
       "      <td>0</td>\n",
       "    </tr>\n",
       "    <tr>\n",
       "      <th>...</th>\n",
       "      <td>...</td>\n",
       "      <td>...</td>\n",
       "      <td>...</td>\n",
       "      <td>...</td>\n",
       "      <td>...</td>\n",
       "    </tr>\n",
       "    <tr>\n",
       "      <th>108017</th>\n",
       "      <td>10701</td>\n",
       "      <td>61913.932787</td>\n",
       "      <td>0.0</td>\n",
       "      <td>11.338667</td>\n",
       "      <td>9</td>\n",
       "    </tr>\n",
       "    <tr>\n",
       "      <th>108018</th>\n",
       "      <td>10702</td>\n",
       "      <td>61915.218078</td>\n",
       "      <td>0.0</td>\n",
       "      <td>38.058422</td>\n",
       "      <td>9</td>\n",
       "    </tr>\n",
       "    <tr>\n",
       "      <th>108019</th>\n",
       "      <td>10703</td>\n",
       "      <td>61918.140880</td>\n",
       "      <td>0.0</td>\n",
       "      <td>20.107511</td>\n",
       "      <td>9</td>\n",
       "    </tr>\n",
       "    <tr>\n",
       "      <th>108020</th>\n",
       "      <td>10704</td>\n",
       "      <td>61918.520147</td>\n",
       "      <td>0.0</td>\n",
       "      <td>8.697632</td>\n",
       "      <td>9</td>\n",
       "    </tr>\n",
       "    <tr>\n",
       "      <th>108021</th>\n",
       "      <td>10705</td>\n",
       "      <td>61918.981915</td>\n",
       "      <td>0.0</td>\n",
       "      <td>2.338400</td>\n",
       "      <td>9</td>\n",
       "    </tr>\n",
       "  </tbody>\n",
       "</table>\n",
       "<p>108022 rows × 5 columns</p>\n",
       "</div>"
      ],
      "text/plain": [
       "        patient_id  arrival_time  q_time_nurse  time_with_nurse  run\n",
       "0                1  18720.556711           0.0         1.551695    0\n",
       "1                2  18724.792565           0.0         3.649895    0\n",
       "2                3  18725.627670           0.0         8.137105    0\n",
       "3                4  18728.774983           0.0        22.057543    0\n",
       "4                5  18729.812428           0.0        15.439297    0\n",
       "...            ...           ...           ...              ...  ...\n",
       "108017       10701  61913.932787           0.0        11.338667    9\n",
       "108018       10702  61915.218078           0.0        38.058422    9\n",
       "108019       10703  61918.140880           0.0        20.107511    9\n",
       "108020       10704  61918.520147           0.0         8.697632    9\n",
       "108021       10705  61918.981915           0.0         2.338400    9\n",
       "\n",
       "[108022 rows x 5 columns]"
      ]
     },
     "metadata": {},
     "output_type": "display_data"
    },
    {
     "data": {
      "text/html": [
       "<div>\n",
       "<style scoped>\n",
       "    .dataframe tbody tr th:only-of-type {\n",
       "        vertical-align: middle;\n",
       "    }\n",
       "\n",
       "    .dataframe tbody tr th {\n",
       "        vertical-align: top;\n",
       "    }\n",
       "\n",
       "    .dataframe thead th {\n",
       "        text-align: right;\n",
       "    }\n",
       "</style>\n",
       "<table border=\"1\" class=\"dataframe\">\n",
       "  <thead>\n",
       "    <tr style=\"text-align: right;\">\n",
       "      <th></th>\n",
       "      <th>run_number</th>\n",
       "      <th>scenario</th>\n",
       "      <th>arrivals</th>\n",
       "      <th>mean_q_time_nurse</th>\n",
       "      <th>mean_time_with_nurse</th>\n",
       "      <th>average_nurse_utilisation</th>\n",
       "    </tr>\n",
       "  </thead>\n",
       "  <tbody>\n",
       "    <tr>\n",
       "      <th>0</th>\n",
       "      <td>0</td>\n",
       "      <td>0</td>\n",
       "      <td>10972</td>\n",
       "      <td>0.504541</td>\n",
       "      <td>9.842268</td>\n",
       "      <td>0.499639</td>\n",
       "    </tr>\n",
       "    <tr>\n",
       "      <th>1</th>\n",
       "      <td>1</td>\n",
       "      <td>0</td>\n",
       "      <td>10784</td>\n",
       "      <td>0.514151</td>\n",
       "      <td>10.060481</td>\n",
       "      <td>0.501991</td>\n",
       "    </tr>\n",
       "    <tr>\n",
       "      <th>2</th>\n",
       "      <td>2</td>\n",
       "      <td>0</td>\n",
       "      <td>10854</td>\n",
       "      <td>0.523235</td>\n",
       "      <td>9.925025</td>\n",
       "      <td>0.498130</td>\n",
       "    </tr>\n",
       "    <tr>\n",
       "      <th>3</th>\n",
       "      <td>3</td>\n",
       "      <td>0</td>\n",
       "      <td>10831</td>\n",
       "      <td>0.479149</td>\n",
       "      <td>9.937057</td>\n",
       "      <td>0.498220</td>\n",
       "    </tr>\n",
       "    <tr>\n",
       "      <th>4</th>\n",
       "      <td>4</td>\n",
       "      <td>0</td>\n",
       "      <td>10720</td>\n",
       "      <td>0.461457</td>\n",
       "      <td>10.015904</td>\n",
       "      <td>0.496870</td>\n",
       "    </tr>\n",
       "    <tr>\n",
       "      <th>5</th>\n",
       "      <td>5</td>\n",
       "      <td>0</td>\n",
       "      <td>10772</td>\n",
       "      <td>0.388265</td>\n",
       "      <td>9.884996</td>\n",
       "      <td>0.492904</td>\n",
       "    </tr>\n",
       "    <tr>\n",
       "      <th>6</th>\n",
       "      <td>6</td>\n",
       "      <td>0</td>\n",
       "      <td>10831</td>\n",
       "      <td>0.466938</td>\n",
       "      <td>10.041800</td>\n",
       "      <td>0.503356</td>\n",
       "    </tr>\n",
       "    <tr>\n",
       "      <th>7</th>\n",
       "      <td>7</td>\n",
       "      <td>0</td>\n",
       "      <td>10781</td>\n",
       "      <td>0.625888</td>\n",
       "      <td>10.086979</td>\n",
       "      <td>0.503449</td>\n",
       "    </tr>\n",
       "    <tr>\n",
       "      <th>8</th>\n",
       "      <td>8</td>\n",
       "      <td>0</td>\n",
       "      <td>10772</td>\n",
       "      <td>0.468497</td>\n",
       "      <td>10.202270</td>\n",
       "      <td>0.508791</td>\n",
       "    </tr>\n",
       "    <tr>\n",
       "      <th>9</th>\n",
       "      <td>9</td>\n",
       "      <td>0</td>\n",
       "      <td>10705</td>\n",
       "      <td>0.563435</td>\n",
       "      <td>10.092602</td>\n",
       "      <td>0.499972</td>\n",
       "    </tr>\n",
       "  </tbody>\n",
       "</table>\n",
       "</div>"
      ],
      "text/plain": [
       "   run_number  scenario  arrivals  mean_q_time_nurse  mean_time_with_nurse  \\\n",
       "0           0         0     10972           0.504541              9.842268   \n",
       "1           1         0     10784           0.514151             10.060481   \n",
       "2           2         0     10854           0.523235              9.925025   \n",
       "3           3         0     10831           0.479149              9.937057   \n",
       "4           4         0     10720           0.461457             10.015904   \n",
       "5           5         0     10772           0.388265              9.884996   \n",
       "6           6         0     10831           0.466938             10.041800   \n",
       "7           7         0     10781           0.625888             10.086979   \n",
       "8           8         0     10772           0.468497             10.202270   \n",
       "9           9         0     10705           0.563435             10.092602   \n",
       "\n",
       "   average_nurse_utilisation  \n",
       "0                   0.499639  \n",
       "1                   0.501991  \n",
       "2                   0.498130  \n",
       "3                   0.498220  \n",
       "4                   0.496870  \n",
       "5                   0.492904  \n",
       "6                   0.503356  \n",
       "7                   0.503449  \n",
       "8                   0.508791  \n",
       "9                   0.499972  "
      ]
     },
     "metadata": {},
     "output_type": "display_data"
    },
    {
     "data": {
      "text/html": [
       "<div>\n",
       "<style scoped>\n",
       "    .dataframe tbody tr th:only-of-type {\n",
       "        vertical-align: middle;\n",
       "    }\n",
       "\n",
       "    .dataframe tbody tr th {\n",
       "        vertical-align: top;\n",
       "    }\n",
       "\n",
       "    .dataframe thead th {\n",
       "        text-align: right;\n",
       "    }\n",
       "</style>\n",
       "<table border=\"1\" class=\"dataframe\">\n",
       "  <thead>\n",
       "    <tr style=\"text-align: right;\">\n",
       "      <th></th>\n",
       "      <th>resource_name</th>\n",
       "      <th>simulation_time</th>\n",
       "      <th>utilisation</th>\n",
       "      <th>queue_length</th>\n",
       "      <th>running_mean_wait_time</th>\n",
       "      <th>run</th>\n",
       "    </tr>\n",
       "  </thead>\n",
       "  <tbody>\n",
       "    <tr>\n",
       "      <th>0</th>\n",
       "      <td>nurse</td>\n",
       "      <td>18720</td>\n",
       "      <td>0.6</td>\n",
       "      <td>0</td>\n",
       "      <td>0.427625</td>\n",
       "      <td>0</td>\n",
       "    </tr>\n",
       "    <tr>\n",
       "      <th>1</th>\n",
       "      <td>nurse</td>\n",
       "      <td>18840</td>\n",
       "      <td>0.4</td>\n",
       "      <td>0</td>\n",
       "      <td>0.425181</td>\n",
       "      <td>0</td>\n",
       "    </tr>\n",
       "    <tr>\n",
       "      <th>2</th>\n",
       "      <td>nurse</td>\n",
       "      <td>18960</td>\n",
       "      <td>0.6</td>\n",
       "      <td>0</td>\n",
       "      <td>0.423041</td>\n",
       "      <td>0</td>\n",
       "    </tr>\n",
       "    <tr>\n",
       "      <th>3</th>\n",
       "      <td>nurse</td>\n",
       "      <td>19080</td>\n",
       "      <td>1.0</td>\n",
       "      <td>3</td>\n",
       "      <td>0.427408</td>\n",
       "      <td>0</td>\n",
       "    </tr>\n",
       "    <tr>\n",
       "      <th>4</th>\n",
       "      <td>nurse</td>\n",
       "      <td>19200</td>\n",
       "      <td>0.6</td>\n",
       "      <td>0</td>\n",
       "      <td>0.440854</td>\n",
       "      <td>0</td>\n",
       "    </tr>\n",
       "    <tr>\n",
       "      <th>...</th>\n",
       "      <td>...</td>\n",
       "      <td>...</td>\n",
       "      <td>...</td>\n",
       "      <td>...</td>\n",
       "      <td>...</td>\n",
       "      <td>...</td>\n",
       "    </tr>\n",
       "    <tr>\n",
       "      <th>3595</th>\n",
       "      <td>nurse</td>\n",
       "      <td>61320</td>\n",
       "      <td>0.4</td>\n",
       "      <td>0</td>\n",
       "      <td>0.524115</td>\n",
       "      <td>9</td>\n",
       "    </tr>\n",
       "    <tr>\n",
       "      <th>3596</th>\n",
       "      <td>nurse</td>\n",
       "      <td>61440</td>\n",
       "      <td>0.6</td>\n",
       "      <td>0</td>\n",
       "      <td>0.523119</td>\n",
       "      <td>9</td>\n",
       "    </tr>\n",
       "    <tr>\n",
       "      <th>3597</th>\n",
       "      <td>nurse</td>\n",
       "      <td>61560</td>\n",
       "      <td>0.8</td>\n",
       "      <td>0</td>\n",
       "      <td>0.522416</td>\n",
       "      <td>9</td>\n",
       "    </tr>\n",
       "    <tr>\n",
       "      <th>3598</th>\n",
       "      <td>nurse</td>\n",
       "      <td>61680</td>\n",
       "      <td>0.2</td>\n",
       "      <td>0</td>\n",
       "      <td>0.521299</td>\n",
       "      <td>9</td>\n",
       "    </tr>\n",
       "    <tr>\n",
       "      <th>3599</th>\n",
       "      <td>nurse</td>\n",
       "      <td>61800</td>\n",
       "      <td>1.0</td>\n",
       "      <td>2</td>\n",
       "      <td>0.520147</td>\n",
       "      <td>9</td>\n",
       "    </tr>\n",
       "  </tbody>\n",
       "</table>\n",
       "<p>3600 rows × 6 columns</p>\n",
       "</div>"
      ],
      "text/plain": [
       "     resource_name  simulation_time  utilisation  queue_length  \\\n",
       "0            nurse            18720          0.6             0   \n",
       "1            nurse            18840          0.4             0   \n",
       "2            nurse            18960          0.6             0   \n",
       "3            nurse            19080          1.0             3   \n",
       "4            nurse            19200          0.6             0   \n",
       "...            ...              ...          ...           ...   \n",
       "3595         nurse            61320          0.4             0   \n",
       "3596         nurse            61440          0.6             0   \n",
       "3597         nurse            61560          0.8             0   \n",
       "3598         nurse            61680          0.2             0   \n",
       "3599         nurse            61800          1.0             2   \n",
       "\n",
       "      running_mean_wait_time  run  \n",
       "0                   0.427625    0  \n",
       "1                   0.425181    0  \n",
       "2                   0.423041    0  \n",
       "3                   0.427408    0  \n",
       "4                   0.440854    0  \n",
       "...                      ...  ...  \n",
       "3595                0.524115    9  \n",
       "3596                0.523119    9  \n",
       "3597                0.522416    9  \n",
       "3598                0.521299    9  \n",
       "3599                0.520147    9  \n",
       "\n",
       "[3600 rows x 6 columns]"
      ]
     },
     "metadata": {},
     "output_type": "display_data"
    },
    {
     "data": {
      "application/vnd.plotly.v1+json": {
       "config": {
        "plotlyServerURL": "https://plot.ly"
       },
       "data": [
        {
         "hovertemplate": "run=0<br>simulation_time=%{x}<br>utilisation=%{y}<extra></extra>",
         "legendgroup": "0",
         "line": {
          "color": "#636efa",
          "dash": "solid"
         },
         "marker": {
          "symbol": "circle"
         },
         "mode": "lines",
         "name": "0",
         "showlegend": true,
         "type": "scattergl",
         "x": [
          18720,
          18840,
          18960,
          19080,
          19200,
          19320,
          19440,
          19560,
          19680,
          19800,
          19920,
          20040,
          20160,
          20280,
          20400,
          20520,
          20640,
          20760,
          20880,
          21000,
          21120,
          21240,
          21360,
          21480,
          21600,
          21720,
          21840,
          21960,
          22080,
          22200,
          22320,
          22440,
          22560,
          22680,
          22800,
          22920,
          23040,
          23160,
          23280,
          23400,
          23520,
          23640,
          23760,
          23880,
          24000,
          24120,
          24240,
          24360,
          24480,
          24600,
          24720,
          24840,
          24960,
          25080,
          25200,
          25320,
          25440,
          25560,
          25680,
          25800,
          25920,
          26040,
          26160,
          26280,
          26400,
          26520,
          26640,
          26760,
          26880,
          27000,
          27120,
          27240,
          27360,
          27480,
          27600,
          27720,
          27840,
          27960,
          28080,
          28200,
          28320,
          28440,
          28560,
          28680,
          28800,
          28920,
          29040,
          29160,
          29280,
          29400,
          29520,
          29640,
          29760,
          29880,
          30000,
          30120,
          30240,
          30360,
          30480,
          30600,
          30720,
          30840,
          30960,
          31080,
          31200,
          31320,
          31440,
          31560,
          31680,
          31800,
          31920,
          32040,
          32160,
          32280,
          32400,
          32520,
          32640,
          32760,
          32880,
          33000,
          33120,
          33240,
          33360,
          33480,
          33600,
          33720,
          33840,
          33960,
          34080,
          34200,
          34320,
          34440,
          34560,
          34680,
          34800,
          34920,
          35040,
          35160,
          35280,
          35400,
          35520,
          35640,
          35760,
          35880,
          36000,
          36120,
          36240,
          36360,
          36480,
          36600,
          36720,
          36840,
          36960,
          37080,
          37200,
          37320,
          37440,
          37560,
          37680,
          37800,
          37920,
          38040,
          38160,
          38280,
          38400,
          38520,
          38640,
          38760,
          38880,
          39000,
          39120,
          39240,
          39360,
          39480,
          39600,
          39720,
          39840,
          39960,
          40080,
          40200,
          40320,
          40440,
          40560,
          40680,
          40800,
          40920,
          41040,
          41160,
          41280,
          41400,
          41520,
          41640,
          41760,
          41880,
          42000,
          42120,
          42240,
          42360,
          42480,
          42600,
          42720,
          42840,
          42960,
          43080,
          43200,
          43320,
          43440,
          43560,
          43680,
          43800,
          43920,
          44040,
          44160,
          44280,
          44400,
          44520,
          44640,
          44760,
          44880,
          45000,
          45120,
          45240,
          45360,
          45480,
          45600,
          45720,
          45840,
          45960,
          46080,
          46200,
          46320,
          46440,
          46560,
          46680,
          46800,
          46920,
          47040,
          47160,
          47280,
          47400,
          47520,
          47640,
          47760,
          47880,
          48000,
          48120,
          48240,
          48360,
          48480,
          48600,
          48720,
          48840,
          48960,
          49080,
          49200,
          49320,
          49440,
          49560,
          49680,
          49800,
          49920,
          50040,
          50160,
          50280,
          50400,
          50520,
          50640,
          50760,
          50880,
          51000,
          51120,
          51240,
          51360,
          51480,
          51600,
          51720,
          51840,
          51960,
          52080,
          52200,
          52320,
          52440,
          52560,
          52680,
          52800,
          52920,
          53040,
          53160,
          53280,
          53400,
          53520,
          53640,
          53760,
          53880,
          54000,
          54120,
          54240,
          54360,
          54480,
          54600,
          54720,
          54840,
          54960,
          55080,
          55200,
          55320,
          55440,
          55560,
          55680,
          55800,
          55920,
          56040,
          56160,
          56280,
          56400,
          56520,
          56640,
          56760,
          56880,
          57000,
          57120,
          57240,
          57360,
          57480,
          57600,
          57720,
          57840,
          57960,
          58080,
          58200,
          58320,
          58440,
          58560,
          58680,
          58800,
          58920,
          59040,
          59160,
          59280,
          59400,
          59520,
          59640,
          59760,
          59880,
          60000,
          60120,
          60240,
          60360,
          60480,
          60600,
          60720,
          60840,
          60960,
          61080,
          61200,
          61320,
          61440,
          61560,
          61680,
          61800
         ],
         "xaxis": "x",
         "y": [
          0.6,
          0.4,
          0.6,
          1,
          0.6,
          0.4,
          0.8,
          0.4,
          0.4,
          0.4,
          0,
          0.4,
          0.2,
          0.6,
          0.4,
          0.4,
          0.6,
          0.6,
          0.2,
          1,
          0.2,
          0.4,
          0.4,
          0.2,
          1,
          0.6,
          0.2,
          0.4,
          0,
          0.2,
          0.4,
          0.6,
          0.2,
          0.8,
          1,
          0.8,
          1,
          0.6,
          0.6,
          0.4,
          0.6,
          1,
          0.6,
          0.8,
          0.6,
          0.4,
          0,
          0.6,
          0.4,
          0.4,
          0.2,
          0,
          0.8,
          0.4,
          0.2,
          0.2,
          0,
          1,
          0.8,
          1,
          0.8,
          0.2,
          0.2,
          0.4,
          0.4,
          0.4,
          1,
          0,
          1,
          0.6,
          0.2,
          0.4,
          0.2,
          0.2,
          0.2,
          1,
          0.6,
          0.8,
          1,
          0,
          0.4,
          0.2,
          0.6,
          1,
          0.2,
          0,
          0.6,
          0.2,
          0.4,
          0.2,
          0.6,
          0.8,
          0.6,
          0.2,
          0.8,
          0.6,
          1,
          0.2,
          0,
          1,
          0.6,
          0.2,
          0.4,
          0.4,
          0.4,
          0.4,
          1,
          0,
          1,
          0.6,
          0.6,
          0.6,
          0,
          0.4,
          0.8,
          0.2,
          0.2,
          0.4,
          1,
          0.6,
          0.4,
          0.2,
          0.4,
          0.8,
          0.4,
          1,
          0.6,
          1,
          0.2,
          0.4,
          0.4,
          0.6,
          0.6,
          0,
          0.6,
          0.8,
          0.6,
          0.2,
          0.4,
          0.2,
          0.4,
          0.4,
          0.2,
          0.4,
          0.8,
          0.6,
          0.2,
          0,
          0.4,
          0.4,
          0.4,
          0.8,
          0.6,
          0.2,
          0.4,
          0.4,
          0.8,
          0.2,
          1,
          0.6,
          0.4,
          0.2,
          1,
          0.6,
          0.4,
          0.4,
          0.6,
          0.6,
          0.8,
          0.2,
          0.8,
          0.6,
          0,
          0.4,
          1,
          0.4,
          0.2,
          0.2,
          0,
          0.4,
          0.6,
          0.6,
          0,
          1,
          0.4,
          0.2,
          0.2,
          0.4,
          0,
          0,
          0.6,
          1,
          0,
          0.8,
          0.2,
          0.6,
          0.6,
          0.6,
          0.4,
          0.8,
          0.4,
          0.2,
          0.6,
          0.6,
          0.2,
          1,
          0.2,
          0.4,
          0.6,
          0.2,
          0.2,
          0.6,
          0.8,
          0.8,
          0.8,
          0,
          0.4,
          1,
          1,
          0.2,
          0.6,
          0.4,
          0.6,
          1,
          0.2,
          0.6,
          0.8,
          0.6,
          0.4,
          1,
          0.6,
          1,
          0.4,
          0.2,
          0.4,
          0.4,
          0.8,
          0.6,
          0.4,
          1,
          0.2,
          0.2,
          0.2,
          0.2,
          0,
          0.2,
          0.4,
          0,
          0.4,
          1,
          0.8,
          1,
          1,
          0.4,
          0.8,
          0.2,
          0.6,
          1,
          0.4,
          0.6,
          0.2,
          0.6,
          0.4,
          0.6,
          0.4,
          1,
          0.4,
          0,
          0.4,
          1,
          0.6,
          0.4,
          0.4,
          0.4,
          0,
          0.2,
          0.2,
          0.4,
          0.4,
          0.2,
          0.6,
          0.2,
          0.6,
          1,
          0.6,
          0.2,
          0.2,
          0.4,
          0.8,
          0.2,
          0.2,
          0.6,
          0.4,
          0.6,
          0.6,
          0.2,
          0.8,
          0.4,
          0.4,
          0.8,
          1,
          0.4,
          0.2,
          0.4,
          0.6,
          0,
          0.6,
          0.6,
          1,
          1,
          1,
          0.4,
          0.2,
          0.8,
          0.2,
          0.8,
          0.4,
          0.4,
          0.6,
          0.4,
          0.8,
          0.4,
          0.2,
          0.2,
          1,
          0.4,
          0.2,
          0.2,
          0.4,
          1,
          0.8,
          0.8,
          0.4,
          0.2,
          0.6,
          0.6,
          0.6,
          1,
          0.8,
          0,
          0.6,
          0.4,
          0.4,
          0.8,
          0.6,
          0.2,
          0.4,
          0.4,
          0.4,
          0.2,
          0,
          0.2,
          0.8,
          0.6,
          0.2,
          0.2,
          0.4,
          0.4,
          0.8,
          0.6
         ],
         "yaxis": "y"
        },
        {
         "hovertemplate": "run=1<br>simulation_time=%{x}<br>utilisation=%{y}<extra></extra>",
         "legendgroup": "1",
         "line": {
          "color": "#EF553B",
          "dash": "solid"
         },
         "marker": {
          "symbol": "circle"
         },
         "mode": "lines",
         "name": "1",
         "showlegend": true,
         "type": "scattergl",
         "x": [
          18720,
          18840,
          18960,
          19080,
          19200,
          19320,
          19440,
          19560,
          19680,
          19800,
          19920,
          20040,
          20160,
          20280,
          20400,
          20520,
          20640,
          20760,
          20880,
          21000,
          21120,
          21240,
          21360,
          21480,
          21600,
          21720,
          21840,
          21960,
          22080,
          22200,
          22320,
          22440,
          22560,
          22680,
          22800,
          22920,
          23040,
          23160,
          23280,
          23400,
          23520,
          23640,
          23760,
          23880,
          24000,
          24120,
          24240,
          24360,
          24480,
          24600,
          24720,
          24840,
          24960,
          25080,
          25200,
          25320,
          25440,
          25560,
          25680,
          25800,
          25920,
          26040,
          26160,
          26280,
          26400,
          26520,
          26640,
          26760,
          26880,
          27000,
          27120,
          27240,
          27360,
          27480,
          27600,
          27720,
          27840,
          27960,
          28080,
          28200,
          28320,
          28440,
          28560,
          28680,
          28800,
          28920,
          29040,
          29160,
          29280,
          29400,
          29520,
          29640,
          29760,
          29880,
          30000,
          30120,
          30240,
          30360,
          30480,
          30600,
          30720,
          30840,
          30960,
          31080,
          31200,
          31320,
          31440,
          31560,
          31680,
          31800,
          31920,
          32040,
          32160,
          32280,
          32400,
          32520,
          32640,
          32760,
          32880,
          33000,
          33120,
          33240,
          33360,
          33480,
          33600,
          33720,
          33840,
          33960,
          34080,
          34200,
          34320,
          34440,
          34560,
          34680,
          34800,
          34920,
          35040,
          35160,
          35280,
          35400,
          35520,
          35640,
          35760,
          35880,
          36000,
          36120,
          36240,
          36360,
          36480,
          36600,
          36720,
          36840,
          36960,
          37080,
          37200,
          37320,
          37440,
          37560,
          37680,
          37800,
          37920,
          38040,
          38160,
          38280,
          38400,
          38520,
          38640,
          38760,
          38880,
          39000,
          39120,
          39240,
          39360,
          39480,
          39600,
          39720,
          39840,
          39960,
          40080,
          40200,
          40320,
          40440,
          40560,
          40680,
          40800,
          40920,
          41040,
          41160,
          41280,
          41400,
          41520,
          41640,
          41760,
          41880,
          42000,
          42120,
          42240,
          42360,
          42480,
          42600,
          42720,
          42840,
          42960,
          43080,
          43200,
          43320,
          43440,
          43560,
          43680,
          43800,
          43920,
          44040,
          44160,
          44280,
          44400,
          44520,
          44640,
          44760,
          44880,
          45000,
          45120,
          45240,
          45360,
          45480,
          45600,
          45720,
          45840,
          45960,
          46080,
          46200,
          46320,
          46440,
          46560,
          46680,
          46800,
          46920,
          47040,
          47160,
          47280,
          47400,
          47520,
          47640,
          47760,
          47880,
          48000,
          48120,
          48240,
          48360,
          48480,
          48600,
          48720,
          48840,
          48960,
          49080,
          49200,
          49320,
          49440,
          49560,
          49680,
          49800,
          49920,
          50040,
          50160,
          50280,
          50400,
          50520,
          50640,
          50760,
          50880,
          51000,
          51120,
          51240,
          51360,
          51480,
          51600,
          51720,
          51840,
          51960,
          52080,
          52200,
          52320,
          52440,
          52560,
          52680,
          52800,
          52920,
          53040,
          53160,
          53280,
          53400,
          53520,
          53640,
          53760,
          53880,
          54000,
          54120,
          54240,
          54360,
          54480,
          54600,
          54720,
          54840,
          54960,
          55080,
          55200,
          55320,
          55440,
          55560,
          55680,
          55800,
          55920,
          56040,
          56160,
          56280,
          56400,
          56520,
          56640,
          56760,
          56880,
          57000,
          57120,
          57240,
          57360,
          57480,
          57600,
          57720,
          57840,
          57960,
          58080,
          58200,
          58320,
          58440,
          58560,
          58680,
          58800,
          58920,
          59040,
          59160,
          59280,
          59400,
          59520,
          59640,
          59760,
          59880,
          60000,
          60120,
          60240,
          60360,
          60480,
          60600,
          60720,
          60840,
          60960,
          61080,
          61200,
          61320,
          61440,
          61560,
          61680,
          61800
         ],
         "xaxis": "x",
         "y": [
          0.6,
          0.2,
          0,
          0.2,
          1,
          0.2,
          0.6,
          0.2,
          1,
          0.2,
          0.8,
          0.8,
          0.6,
          0.6,
          0.6,
          0.8,
          0.8,
          0,
          0.6,
          0.6,
          0.8,
          0.8,
          0.4,
          0.4,
          0.2,
          0.6,
          0.8,
          0.8,
          0.4,
          0.4,
          0.4,
          0.2,
          0.2,
          0.4,
          0.8,
          0.6,
          0.8,
          0.2,
          0.4,
          0.8,
          1,
          0.2,
          0,
          0,
          0.6,
          0.6,
          0.2,
          0.4,
          0.8,
          0.8,
          0.2,
          0.2,
          0.8,
          0.4,
          1,
          0.2,
          0.4,
          0.2,
          0.2,
          0.2,
          0.4,
          0.8,
          0.8,
          0.6,
          0.4,
          0.6,
          0.6,
          0.4,
          0.2,
          0.6,
          0.4,
          0.4,
          0.8,
          0.4,
          0.2,
          0.8,
          0.6,
          0.4,
          1,
          1,
          0.6,
          0.2,
          0.2,
          0.2,
          0,
          0.2,
          0.6,
          0.8,
          0.4,
          0.6,
          0.4,
          0,
          0.2,
          0.2,
          0.4,
          0.4,
          0.6,
          0.8,
          0.8,
          0.4,
          0.4,
          0.8,
          1,
          0.4,
          0.6,
          1,
          0.2,
          0.4,
          0.6,
          0.6,
          0.2,
          0.2,
          0.4,
          0.8,
          1,
          0,
          0.2,
          0.6,
          0.4,
          0.4,
          0.4,
          1,
          0.6,
          1,
          0.6,
          0.6,
          0.2,
          1,
          0.4,
          0.2,
          0.4,
          0.2,
          0.2,
          0.4,
          0.6,
          0.4,
          0,
          0.6,
          0.4,
          0.4,
          0.4,
          0.2,
          0.6,
          0.4,
          0.6,
          0.4,
          0.4,
          0.6,
          0.6,
          0.2,
          0.6,
          0.6,
          1,
          0.4,
          0,
          0.6,
          0.4,
          0,
          0.8,
          0.6,
          0.8,
          1,
          0.8,
          1,
          0.2,
          0.4,
          0.4,
          0.8,
          0,
          0.8,
          0.8,
          0.6,
          0,
          0.4,
          0.8,
          0.4,
          0.6,
          0.4,
          0.4,
          0.4,
          0.6,
          0,
          0.6,
          0.2,
          0.6,
          0.6,
          0.6,
          0.2,
          0.2,
          1,
          0.6,
          0.6,
          0.8,
          0.6,
          0.8,
          0.2,
          0.4,
          0.6,
          0.4,
          0.6,
          0.2,
          1,
          0.6,
          0.4,
          0.2,
          0.4,
          0.8,
          0.4,
          1,
          0.4,
          1,
          0.2,
          0.2,
          0.8,
          0.2,
          0.6,
          0.2,
          0.2,
          1,
          0.4,
          0.2,
          1,
          0.4,
          0.6,
          0.4,
          0.2,
          0.4,
          0.8,
          0.8,
          0.2,
          0.4,
          0.6,
          0.8,
          0.6,
          0.6,
          0.4,
          0.4,
          0.8,
          1,
          0.2,
          0.6,
          0.6,
          0.6,
          0,
          1,
          0.2,
          0.2,
          0,
          0.6,
          0.4,
          1,
          0.2,
          1,
          0.2,
          1,
          0.4,
          0.2,
          0.2,
          0.6,
          0.4,
          0.6,
          0.6,
          1,
          0.4,
          0.4,
          0.6,
          0.6,
          0.8,
          0.8,
          1,
          0.8,
          0.2,
          0.6,
          0.4,
          0.4,
          0.8,
          1,
          0.8,
          0.8,
          0.8,
          0.8,
          0,
          0.4,
          0.4,
          0.8,
          0.6,
          0.2,
          0.4,
          0.8,
          0.6,
          0.4,
          0.8,
          1,
          0.4,
          0.2,
          0.6,
          0.2,
          0.2,
          0.6,
          1,
          0.6,
          0.2,
          0.4,
          0,
          0,
          0,
          0.8,
          0.6,
          0.4,
          0,
          0.2,
          0.2,
          1,
          0.4,
          0,
          0.4,
          0.4,
          0.6,
          0,
          0.4,
          0.4,
          0.4,
          1,
          0.6,
          1,
          0.4,
          0.6,
          0.6,
          0.8,
          0.6,
          1,
          0.6,
          0.2,
          1,
          0.6,
          1,
          0,
          0,
          0.2,
          0,
          0,
          0.4,
          0.2,
          0.6,
          0.8,
          0.6,
          0.2,
          0,
          1,
          0.6,
          0.2,
          0.4,
          0.6,
          0.4,
          1,
          0.4,
          0,
          0.4,
          0.6,
          0.2
         ],
         "yaxis": "y"
        },
        {
         "hovertemplate": "run=2<br>simulation_time=%{x}<br>utilisation=%{y}<extra></extra>",
         "legendgroup": "2",
         "line": {
          "color": "#00cc96",
          "dash": "solid"
         },
         "marker": {
          "symbol": "circle"
         },
         "mode": "lines",
         "name": "2",
         "showlegend": true,
         "type": "scattergl",
         "x": [
          18720,
          18840,
          18960,
          19080,
          19200,
          19320,
          19440,
          19560,
          19680,
          19800,
          19920,
          20040,
          20160,
          20280,
          20400,
          20520,
          20640,
          20760,
          20880,
          21000,
          21120,
          21240,
          21360,
          21480,
          21600,
          21720,
          21840,
          21960,
          22080,
          22200,
          22320,
          22440,
          22560,
          22680,
          22800,
          22920,
          23040,
          23160,
          23280,
          23400,
          23520,
          23640,
          23760,
          23880,
          24000,
          24120,
          24240,
          24360,
          24480,
          24600,
          24720,
          24840,
          24960,
          25080,
          25200,
          25320,
          25440,
          25560,
          25680,
          25800,
          25920,
          26040,
          26160,
          26280,
          26400,
          26520,
          26640,
          26760,
          26880,
          27000,
          27120,
          27240,
          27360,
          27480,
          27600,
          27720,
          27840,
          27960,
          28080,
          28200,
          28320,
          28440,
          28560,
          28680,
          28800,
          28920,
          29040,
          29160,
          29280,
          29400,
          29520,
          29640,
          29760,
          29880,
          30000,
          30120,
          30240,
          30360,
          30480,
          30600,
          30720,
          30840,
          30960,
          31080,
          31200,
          31320,
          31440,
          31560,
          31680,
          31800,
          31920,
          32040,
          32160,
          32280,
          32400,
          32520,
          32640,
          32760,
          32880,
          33000,
          33120,
          33240,
          33360,
          33480,
          33600,
          33720,
          33840,
          33960,
          34080,
          34200,
          34320,
          34440,
          34560,
          34680,
          34800,
          34920,
          35040,
          35160,
          35280,
          35400,
          35520,
          35640,
          35760,
          35880,
          36000,
          36120,
          36240,
          36360,
          36480,
          36600,
          36720,
          36840,
          36960,
          37080,
          37200,
          37320,
          37440,
          37560,
          37680,
          37800,
          37920,
          38040,
          38160,
          38280,
          38400,
          38520,
          38640,
          38760,
          38880,
          39000,
          39120,
          39240,
          39360,
          39480,
          39600,
          39720,
          39840,
          39960,
          40080,
          40200,
          40320,
          40440,
          40560,
          40680,
          40800,
          40920,
          41040,
          41160,
          41280,
          41400,
          41520,
          41640,
          41760,
          41880,
          42000,
          42120,
          42240,
          42360,
          42480,
          42600,
          42720,
          42840,
          42960,
          43080,
          43200,
          43320,
          43440,
          43560,
          43680,
          43800,
          43920,
          44040,
          44160,
          44280,
          44400,
          44520,
          44640,
          44760,
          44880,
          45000,
          45120,
          45240,
          45360,
          45480,
          45600,
          45720,
          45840,
          45960,
          46080,
          46200,
          46320,
          46440,
          46560,
          46680,
          46800,
          46920,
          47040,
          47160,
          47280,
          47400,
          47520,
          47640,
          47760,
          47880,
          48000,
          48120,
          48240,
          48360,
          48480,
          48600,
          48720,
          48840,
          48960,
          49080,
          49200,
          49320,
          49440,
          49560,
          49680,
          49800,
          49920,
          50040,
          50160,
          50280,
          50400,
          50520,
          50640,
          50760,
          50880,
          51000,
          51120,
          51240,
          51360,
          51480,
          51600,
          51720,
          51840,
          51960,
          52080,
          52200,
          52320,
          52440,
          52560,
          52680,
          52800,
          52920,
          53040,
          53160,
          53280,
          53400,
          53520,
          53640,
          53760,
          53880,
          54000,
          54120,
          54240,
          54360,
          54480,
          54600,
          54720,
          54840,
          54960,
          55080,
          55200,
          55320,
          55440,
          55560,
          55680,
          55800,
          55920,
          56040,
          56160,
          56280,
          56400,
          56520,
          56640,
          56760,
          56880,
          57000,
          57120,
          57240,
          57360,
          57480,
          57600,
          57720,
          57840,
          57960,
          58080,
          58200,
          58320,
          58440,
          58560,
          58680,
          58800,
          58920,
          59040,
          59160,
          59280,
          59400,
          59520,
          59640,
          59760,
          59880,
          60000,
          60120,
          60240,
          60360,
          60480,
          60600,
          60720,
          60840,
          60960,
          61080,
          61200,
          61320,
          61440,
          61560,
          61680,
          61800
         ],
         "xaxis": "x",
         "y": [
          0.6,
          0.6,
          0.2,
          0.4,
          0.8,
          0.2,
          0.4,
          0.4,
          0.6,
          1,
          0.2,
          0.4,
          0.2,
          0.2,
          0.6,
          0.2,
          0.8,
          0.2,
          0.6,
          0.4,
          1,
          0.6,
          0.8,
          0.8,
          0.8,
          0,
          1,
          0.4,
          0.6,
          0,
          0.6,
          0.6,
          0.2,
          0.6,
          0.6,
          0.2,
          0.2,
          0,
          0.6,
          0.2,
          0.8,
          0.6,
          0.8,
          1,
          1,
          0.6,
          0.2,
          0.2,
          0.2,
          0,
          0.4,
          0.4,
          0.4,
          0.2,
          0.4,
          0.4,
          0.6,
          0.6,
          0.8,
          0.2,
          0.4,
          0.4,
          0.6,
          0.6,
          0.6,
          0.4,
          0.2,
          0.8,
          0.2,
          1,
          1,
          0.6,
          0.2,
          0.2,
          1,
          0.8,
          0.4,
          0.6,
          0.2,
          0.4,
          0.4,
          0.4,
          0.6,
          0.4,
          1,
          0.4,
          1,
          0,
          0.4,
          1,
          1,
          0.6,
          0.4,
          0.8,
          0.4,
          0.4,
          0,
          0.2,
          0.4,
          0.6,
          0.6,
          0.6,
          0.2,
          0.2,
          0.6,
          1,
          0.6,
          0.2,
          0.6,
          0,
          0.2,
          0.6,
          0.8,
          0.2,
          0.4,
          0.4,
          0.2,
          0,
          0.4,
          0.8,
          0.2,
          0.2,
          0.4,
          0.2,
          0.2,
          1,
          0.4,
          0.4,
          0.2,
          0.2,
          0.4,
          1,
          0.8,
          0.4,
          0.2,
          0.6,
          0.2,
          0,
          0.4,
          0.6,
          0.8,
          0.4,
          0.2,
          0.6,
          0.4,
          0.4,
          0.6,
          0.4,
          0.6,
          0.2,
          1,
          0.4,
          0.4,
          0.4,
          0.4,
          0.6,
          1,
          0.6,
          0.2,
          0.4,
          0,
          0.4,
          1,
          0.4,
          0.6,
          0.4,
          0.8,
          0.8,
          0.4,
          0,
          1,
          1,
          0.4,
          1,
          0.6,
          0.4,
          0.2,
          0.4,
          0.6,
          0.6,
          0.4,
          0.4,
          0.4,
          0.4,
          0.4,
          1,
          1,
          0.4,
          0.8,
          0.2,
          0.6,
          1,
          0.6,
          0.8,
          0.4,
          1,
          1,
          0.2,
          0.8,
          0.2,
          0.4,
          0.4,
          0.4,
          1,
          0.8,
          0.6,
          1,
          0.2,
          0.2,
          0,
          0.8,
          0,
          0.6,
          0.6,
          0.8,
          0.2,
          0.4,
          1,
          1,
          0.4,
          0.8,
          0.8,
          0.2,
          0.6,
          0.6,
          0.2,
          0.8,
          0.4,
          1,
          1,
          0,
          0.4,
          0.8,
          0.6,
          0.2,
          0.2,
          0.4,
          0.2,
          0.6,
          0.4,
          0.6,
          0.4,
          0.2,
          1,
          0.2,
          0.2,
          0.6,
          0.4,
          1,
          0.6,
          0.6,
          0.2,
          0.8,
          0.8,
          0.6,
          0.4,
          0.2,
          0.2,
          0.4,
          0,
          0.4,
          0,
          0.4,
          0.2,
          1,
          0.2,
          0.2,
          0.6,
          0.2,
          0.4,
          0.2,
          0.6,
          0.2,
          1,
          0,
          0.4,
          0.2,
          0.4,
          0.6,
          0.4,
          0.8,
          0.2,
          0.8,
          0.2,
          0,
          0.2,
          0.4,
          0.2,
          0.8,
          0.6,
          0.6,
          0.8,
          0.6,
          0.4,
          0.4,
          0.2,
          0,
          1,
          0.8,
          0.6,
          0.6,
          1,
          0.6,
          0,
          0.8,
          0.4,
          0.4,
          0.6,
          0.6,
          0.6,
          0,
          0,
          0,
          0,
          0.2,
          0,
          0.4,
          0.8,
          0,
          0.8,
          0.4,
          0.2,
          0.8,
          0.2,
          1,
          0.4,
          0.8,
          0.6,
          0.6,
          0.2,
          0.4,
          0.4,
          1,
          0.6,
          0.4,
          0.6,
          1,
          0.2,
          0.2,
          0.4,
          0.4,
          0.4,
          0.8,
          0.4,
          1,
          1,
          0.2,
          0.4,
          1,
          0.4,
          0.4,
          0.2,
          0.4,
          1,
          0.6,
          0.4,
          0.6,
          0.6,
          0.4,
          0.2
         ],
         "yaxis": "y"
        },
        {
         "hovertemplate": "run=3<br>simulation_time=%{x}<br>utilisation=%{y}<extra></extra>",
         "legendgroup": "3",
         "line": {
          "color": "#ab63fa",
          "dash": "solid"
         },
         "marker": {
          "symbol": "circle"
         },
         "mode": "lines",
         "name": "3",
         "showlegend": true,
         "type": "scattergl",
         "x": [
          18720,
          18840,
          18960,
          19080,
          19200,
          19320,
          19440,
          19560,
          19680,
          19800,
          19920,
          20040,
          20160,
          20280,
          20400,
          20520,
          20640,
          20760,
          20880,
          21000,
          21120,
          21240,
          21360,
          21480,
          21600,
          21720,
          21840,
          21960,
          22080,
          22200,
          22320,
          22440,
          22560,
          22680,
          22800,
          22920,
          23040,
          23160,
          23280,
          23400,
          23520,
          23640,
          23760,
          23880,
          24000,
          24120,
          24240,
          24360,
          24480,
          24600,
          24720,
          24840,
          24960,
          25080,
          25200,
          25320,
          25440,
          25560,
          25680,
          25800,
          25920,
          26040,
          26160,
          26280,
          26400,
          26520,
          26640,
          26760,
          26880,
          27000,
          27120,
          27240,
          27360,
          27480,
          27600,
          27720,
          27840,
          27960,
          28080,
          28200,
          28320,
          28440,
          28560,
          28680,
          28800,
          28920,
          29040,
          29160,
          29280,
          29400,
          29520,
          29640,
          29760,
          29880,
          30000,
          30120,
          30240,
          30360,
          30480,
          30600,
          30720,
          30840,
          30960,
          31080,
          31200,
          31320,
          31440,
          31560,
          31680,
          31800,
          31920,
          32040,
          32160,
          32280,
          32400,
          32520,
          32640,
          32760,
          32880,
          33000,
          33120,
          33240,
          33360,
          33480,
          33600,
          33720,
          33840,
          33960,
          34080,
          34200,
          34320,
          34440,
          34560,
          34680,
          34800,
          34920,
          35040,
          35160,
          35280,
          35400,
          35520,
          35640,
          35760,
          35880,
          36000,
          36120,
          36240,
          36360,
          36480,
          36600,
          36720,
          36840,
          36960,
          37080,
          37200,
          37320,
          37440,
          37560,
          37680,
          37800,
          37920,
          38040,
          38160,
          38280,
          38400,
          38520,
          38640,
          38760,
          38880,
          39000,
          39120,
          39240,
          39360,
          39480,
          39600,
          39720,
          39840,
          39960,
          40080,
          40200,
          40320,
          40440,
          40560,
          40680,
          40800,
          40920,
          41040,
          41160,
          41280,
          41400,
          41520,
          41640,
          41760,
          41880,
          42000,
          42120,
          42240,
          42360,
          42480,
          42600,
          42720,
          42840,
          42960,
          43080,
          43200,
          43320,
          43440,
          43560,
          43680,
          43800,
          43920,
          44040,
          44160,
          44280,
          44400,
          44520,
          44640,
          44760,
          44880,
          45000,
          45120,
          45240,
          45360,
          45480,
          45600,
          45720,
          45840,
          45960,
          46080,
          46200,
          46320,
          46440,
          46560,
          46680,
          46800,
          46920,
          47040,
          47160,
          47280,
          47400,
          47520,
          47640,
          47760,
          47880,
          48000,
          48120,
          48240,
          48360,
          48480,
          48600,
          48720,
          48840,
          48960,
          49080,
          49200,
          49320,
          49440,
          49560,
          49680,
          49800,
          49920,
          50040,
          50160,
          50280,
          50400,
          50520,
          50640,
          50760,
          50880,
          51000,
          51120,
          51240,
          51360,
          51480,
          51600,
          51720,
          51840,
          51960,
          52080,
          52200,
          52320,
          52440,
          52560,
          52680,
          52800,
          52920,
          53040,
          53160,
          53280,
          53400,
          53520,
          53640,
          53760,
          53880,
          54000,
          54120,
          54240,
          54360,
          54480,
          54600,
          54720,
          54840,
          54960,
          55080,
          55200,
          55320,
          55440,
          55560,
          55680,
          55800,
          55920,
          56040,
          56160,
          56280,
          56400,
          56520,
          56640,
          56760,
          56880,
          57000,
          57120,
          57240,
          57360,
          57480,
          57600,
          57720,
          57840,
          57960,
          58080,
          58200,
          58320,
          58440,
          58560,
          58680,
          58800,
          58920,
          59040,
          59160,
          59280,
          59400,
          59520,
          59640,
          59760,
          59880,
          60000,
          60120,
          60240,
          60360,
          60480,
          60600,
          60720,
          60840,
          60960,
          61080,
          61200,
          61320,
          61440,
          61560,
          61680,
          61800
         ],
         "xaxis": "x",
         "y": [
          0.2,
          0,
          0.2,
          0.2,
          0.6,
          0.8,
          0,
          0.2,
          0.4,
          0.2,
          1,
          0.4,
          0,
          0.8,
          0.2,
          0.4,
          0.6,
          0.4,
          0.4,
          0.6,
          0.2,
          0.2,
          0.4,
          1,
          0.6,
          0.8,
          1,
          0.6,
          0.8,
          0.2,
          0.4,
          0.4,
          0.6,
          0.8,
          0.2,
          0.6,
          0.6,
          0.6,
          1,
          0.6,
          0.6,
          0.4,
          0.4,
          0.2,
          0.2,
          1,
          0.6,
          0.6,
          0.4,
          0.4,
          0,
          1,
          0.2,
          0.8,
          0.8,
          0,
          0.6,
          0.2,
          0.4,
          0.6,
          0.2,
          0.6,
          1,
          0.8,
          0.2,
          0.6,
          0.4,
          0.6,
          0.2,
          0.2,
          0.2,
          1,
          0.6,
          0,
          0.6,
          0.4,
          0.4,
          0.6,
          0.2,
          0.4,
          0.2,
          0.4,
          1,
          0.6,
          0.4,
          1,
          0.2,
          0.8,
          0.8,
          0.4,
          0.8,
          0.4,
          0.6,
          0.8,
          0.4,
          0.2,
          0.4,
          0,
          0,
          0.2,
          0.4,
          0.4,
          0.4,
          0.4,
          0.4,
          0.6,
          0.4,
          1,
          0.4,
          0.6,
          0.6,
          0.2,
          1,
          1,
          1,
          0.6,
          0.4,
          1,
          0.4,
          0.8,
          0.2,
          0.8,
          0.6,
          0.8,
          1,
          1,
          0,
          0.6,
          0.2,
          0.2,
          0,
          0.8,
          0.2,
          1,
          0.4,
          0.2,
          0.4,
          0.2,
          0.2,
          0.6,
          1,
          0,
          1,
          0.8,
          0.4,
          0,
          0.6,
          0.2,
          1,
          0.2,
          0.4,
          0.4,
          0.4,
          0,
          0.4,
          0.8,
          0.6,
          1,
          0.8,
          0.8,
          0.8,
          0.2,
          0.2,
          0,
          0.4,
          1,
          0.4,
          0.2,
          1,
          0.4,
          0.6,
          0.2,
          0.4,
          0.4,
          0.8,
          0,
          0.6,
          0.6,
          0,
          0.2,
          0.4,
          0.6,
          0.8,
          0.8,
          0.6,
          0.8,
          1,
          1,
          0.4,
          0.2,
          0.6,
          0.2,
          0.4,
          0.2,
          1,
          1,
          0.4,
          0.6,
          0.6,
          0.6,
          0.4,
          0.4,
          0,
          0.4,
          0.6,
          0.4,
          0.2,
          0.4,
          0.6,
          1,
          0.2,
          0.6,
          0.4,
          0.8,
          0.4,
          0.2,
          0.2,
          0.2,
          0.4,
          0.4,
          1,
          0.2,
          0.2,
          0.4,
          0.4,
          0.6,
          0.4,
          0.6,
          0.4,
          0,
          0.8,
          0.6,
          0.6,
          0.6,
          0.6,
          0.6,
          0.6,
          0,
          0.6,
          0.8,
          0.2,
          0,
          0.6,
          1,
          1,
          0.8,
          0.4,
          0.8,
          0.6,
          1,
          0.6,
          0.2,
          0.4,
          0.8,
          0.8,
          0.4,
          0,
          0.6,
          0.4,
          0,
          0.2,
          0.6,
          1,
          0.2,
          0.6,
          0.2,
          1,
          0.6,
          1,
          0.4,
          0.6,
          0.6,
          0.6,
          0.4,
          0.8,
          0,
          0.6,
          0.2,
          0.4,
          0.2,
          0.2,
          0.2,
          0.8,
          0.6,
          1,
          0.4,
          0.2,
          1,
          0.4,
          0.4,
          0.6,
          0.2,
          0.4,
          0.6,
          0.4,
          0.4,
          0,
          0.2,
          0.8,
          0.4,
          0.4,
          0.2,
          0.4,
          0.6,
          1,
          0.2,
          0.4,
          0.6,
          1,
          0.8,
          1,
          0.6,
          0.4,
          0.4,
          0.2,
          0.6,
          0.8,
          0,
          0.4,
          0.6,
          0.6,
          0.2,
          0,
          0.6,
          1,
          0.8,
          0.6,
          0.2,
          0.8,
          0.4,
          0.6,
          0.6,
          0.2,
          0.8,
          1,
          0.6,
          0.2,
          0.4,
          0.4,
          0.2,
          0.6,
          0.6,
          1,
          0.4,
          0.2,
          0.4,
          0.8,
          0.8,
          0.4,
          0,
          0.8,
          0.4,
          0.6,
          0,
          0.2,
          0.4,
          0.2,
          0.2,
          1,
          0.2
         ],
         "yaxis": "y"
        },
        {
         "hovertemplate": "run=4<br>simulation_time=%{x}<br>utilisation=%{y}<extra></extra>",
         "legendgroup": "4",
         "line": {
          "color": "#FFA15A",
          "dash": "solid"
         },
         "marker": {
          "symbol": "circle"
         },
         "mode": "lines",
         "name": "4",
         "showlegend": true,
         "type": "scattergl",
         "x": [
          18720,
          18840,
          18960,
          19080,
          19200,
          19320,
          19440,
          19560,
          19680,
          19800,
          19920,
          20040,
          20160,
          20280,
          20400,
          20520,
          20640,
          20760,
          20880,
          21000,
          21120,
          21240,
          21360,
          21480,
          21600,
          21720,
          21840,
          21960,
          22080,
          22200,
          22320,
          22440,
          22560,
          22680,
          22800,
          22920,
          23040,
          23160,
          23280,
          23400,
          23520,
          23640,
          23760,
          23880,
          24000,
          24120,
          24240,
          24360,
          24480,
          24600,
          24720,
          24840,
          24960,
          25080,
          25200,
          25320,
          25440,
          25560,
          25680,
          25800,
          25920,
          26040,
          26160,
          26280,
          26400,
          26520,
          26640,
          26760,
          26880,
          27000,
          27120,
          27240,
          27360,
          27480,
          27600,
          27720,
          27840,
          27960,
          28080,
          28200,
          28320,
          28440,
          28560,
          28680,
          28800,
          28920,
          29040,
          29160,
          29280,
          29400,
          29520,
          29640,
          29760,
          29880,
          30000,
          30120,
          30240,
          30360,
          30480,
          30600,
          30720,
          30840,
          30960,
          31080,
          31200,
          31320,
          31440,
          31560,
          31680,
          31800,
          31920,
          32040,
          32160,
          32280,
          32400,
          32520,
          32640,
          32760,
          32880,
          33000,
          33120,
          33240,
          33360,
          33480,
          33600,
          33720,
          33840,
          33960,
          34080,
          34200,
          34320,
          34440,
          34560,
          34680,
          34800,
          34920,
          35040,
          35160,
          35280,
          35400,
          35520,
          35640,
          35760,
          35880,
          36000,
          36120,
          36240,
          36360,
          36480,
          36600,
          36720,
          36840,
          36960,
          37080,
          37200,
          37320,
          37440,
          37560,
          37680,
          37800,
          37920,
          38040,
          38160,
          38280,
          38400,
          38520,
          38640,
          38760,
          38880,
          39000,
          39120,
          39240,
          39360,
          39480,
          39600,
          39720,
          39840,
          39960,
          40080,
          40200,
          40320,
          40440,
          40560,
          40680,
          40800,
          40920,
          41040,
          41160,
          41280,
          41400,
          41520,
          41640,
          41760,
          41880,
          42000,
          42120,
          42240,
          42360,
          42480,
          42600,
          42720,
          42840,
          42960,
          43080,
          43200,
          43320,
          43440,
          43560,
          43680,
          43800,
          43920,
          44040,
          44160,
          44280,
          44400,
          44520,
          44640,
          44760,
          44880,
          45000,
          45120,
          45240,
          45360,
          45480,
          45600,
          45720,
          45840,
          45960,
          46080,
          46200,
          46320,
          46440,
          46560,
          46680,
          46800,
          46920,
          47040,
          47160,
          47280,
          47400,
          47520,
          47640,
          47760,
          47880,
          48000,
          48120,
          48240,
          48360,
          48480,
          48600,
          48720,
          48840,
          48960,
          49080,
          49200,
          49320,
          49440,
          49560,
          49680,
          49800,
          49920,
          50040,
          50160,
          50280,
          50400,
          50520,
          50640,
          50760,
          50880,
          51000,
          51120,
          51240,
          51360,
          51480,
          51600,
          51720,
          51840,
          51960,
          52080,
          52200,
          52320,
          52440,
          52560,
          52680,
          52800,
          52920,
          53040,
          53160,
          53280,
          53400,
          53520,
          53640,
          53760,
          53880,
          54000,
          54120,
          54240,
          54360,
          54480,
          54600,
          54720,
          54840,
          54960,
          55080,
          55200,
          55320,
          55440,
          55560,
          55680,
          55800,
          55920,
          56040,
          56160,
          56280,
          56400,
          56520,
          56640,
          56760,
          56880,
          57000,
          57120,
          57240,
          57360,
          57480,
          57600,
          57720,
          57840,
          57960,
          58080,
          58200,
          58320,
          58440,
          58560,
          58680,
          58800,
          58920,
          59040,
          59160,
          59280,
          59400,
          59520,
          59640,
          59760,
          59880,
          60000,
          60120,
          60240,
          60360,
          60480,
          60600,
          60720,
          60840,
          60960,
          61080,
          61200,
          61320,
          61440,
          61560,
          61680,
          61800
         ],
         "xaxis": "x",
         "y": [
          0.8,
          0.8,
          0.4,
          0.2,
          0.8,
          0.4,
          0.2,
          0.2,
          0.6,
          0.6,
          0,
          0.6,
          0.8,
          0,
          0.6,
          0.6,
          0.8,
          0.2,
          1,
          0,
          0.4,
          0.2,
          0.4,
          0.6,
          0.6,
          1,
          0.4,
          0.4,
          0.2,
          0.6,
          0.4,
          0.4,
          0.2,
          0.2,
          0.8,
          0.8,
          0.4,
          0.8,
          0.6,
          0.6,
          0.4,
          0.2,
          0.6,
          0,
          1,
          0.6,
          0.6,
          0.4,
          0.2,
          0.4,
          0.2,
          1,
          0.4,
          0.6,
          0,
          0.2,
          0.2,
          0.8,
          0.4,
          0.8,
          0.2,
          0.2,
          0.4,
          0.2,
          0.6,
          1,
          0.4,
          1,
          0.8,
          0.6,
          0.2,
          1,
          0.4,
          0.6,
          0.4,
          0.6,
          0.8,
          0.4,
          0.2,
          0.6,
          0.8,
          0,
          0.4,
          0.4,
          1,
          0.2,
          0.6,
          0.4,
          0.4,
          0.6,
          0,
          0.6,
          0.4,
          0.6,
          1,
          1,
          0.8,
          0.2,
          0.8,
          0.2,
          0.8,
          1,
          0.8,
          0.4,
          0.6,
          0.2,
          0.2,
          0.4,
          0.6,
          0.6,
          0.4,
          1,
          0.2,
          0.4,
          0,
          0.2,
          0.6,
          0.2,
          0,
          0.8,
          0,
          0.4,
          0.6,
          0,
          0.4,
          0.6,
          0.4,
          0.2,
          0.6,
          0.2,
          0.4,
          0.4,
          1,
          0.6,
          0.2,
          0.4,
          0.4,
          0.8,
          0.6,
          0.4,
          0.4,
          1,
          0.8,
          0.2,
          0.4,
          0.4,
          1,
          0.2,
          0,
          0.4,
          0.6,
          1,
          0.4,
          0.6,
          0.6,
          0.4,
          0.6,
          0.4,
          0.2,
          0.6,
          0.4,
          1,
          1,
          0.8,
          0.2,
          1,
          0.4,
          0.6,
          0.6,
          0.4,
          0.6,
          0.2,
          1,
          0.8,
          1,
          0.4,
          0.4,
          0.4,
          0.6,
          0.2,
          0.4,
          0.4,
          0.6,
          0.6,
          0.6,
          0.6,
          0.8,
          0.4,
          0.8,
          0.8,
          0.4,
          0.6,
          0.2,
          1,
          0.6,
          0.8,
          0.4,
          0.2,
          0.6,
          0.8,
          0.6,
          0.4,
          0.4,
          0.2,
          0.6,
          1,
          0.2,
          0.6,
          1,
          0,
          0.6,
          0.4,
          0.6,
          0.4,
          0.2,
          1,
          0.2,
          0.2,
          0.8,
          0.6,
          0.6,
          1,
          0.2,
          0,
          0.6,
          1,
          0,
          0.2,
          1,
          0.4,
          0.6,
          0,
          1,
          0,
          0.4,
          0.4,
          0.2,
          0.2,
          0.8,
          0,
          0.6,
          0.2,
          0,
          0.8,
          0,
          0.6,
          0.8,
          0.8,
          0.2,
          0.8,
          1,
          0.4,
          0.2,
          0.8,
          0.6,
          0.8,
          0.2,
          1,
          0.4,
          0.8,
          0,
          0.4,
          0.6,
          0.2,
          0.6,
          0.4,
          0.2,
          1,
          0.4,
          0.6,
          0.2,
          0.8,
          0,
          0,
          0.2,
          0.2,
          0,
          0.4,
          0.6,
          0.4,
          0.4,
          0,
          0,
          0.8,
          0.2,
          0.8,
          0.2,
          0.2,
          0.4,
          0,
          0.4,
          0,
          0.4,
          0.6,
          0.2,
          0.6,
          0.2,
          0,
          0,
          0.2,
          0.6,
          0.2,
          1,
          0.2,
          0,
          1,
          0.4,
          0.2,
          0,
          0.8,
          1,
          0.2,
          0.8,
          0.2,
          0.8,
          0.8,
          1,
          0.8,
          0.8,
          0.2,
          0.2,
          0.2,
          1,
          0.8,
          0,
          0.2,
          0.4,
          0.2,
          1,
          0.4,
          0.2,
          0.6,
          0,
          0.2,
          1,
          0.4,
          0.6,
          0.4,
          0.4,
          0.6,
          0.2,
          0.2,
          0.6,
          0.6,
          0.4,
          0.4,
          0.8,
          0.4,
          0.8,
          1,
          0.2,
          0.4,
          0.4,
          0.6,
          0,
          0.2,
          0,
          0.8,
          0.6,
          1
         ],
         "yaxis": "y"
        },
        {
         "hovertemplate": "run=5<br>simulation_time=%{x}<br>utilisation=%{y}<extra></extra>",
         "legendgroup": "5",
         "line": {
          "color": "#19d3f3",
          "dash": "solid"
         },
         "marker": {
          "symbol": "circle"
         },
         "mode": "lines",
         "name": "5",
         "showlegend": true,
         "type": "scattergl",
         "x": [
          18720,
          18840,
          18960,
          19080,
          19200,
          19320,
          19440,
          19560,
          19680,
          19800,
          19920,
          20040,
          20160,
          20280,
          20400,
          20520,
          20640,
          20760,
          20880,
          21000,
          21120,
          21240,
          21360,
          21480,
          21600,
          21720,
          21840,
          21960,
          22080,
          22200,
          22320,
          22440,
          22560,
          22680,
          22800,
          22920,
          23040,
          23160,
          23280,
          23400,
          23520,
          23640,
          23760,
          23880,
          24000,
          24120,
          24240,
          24360,
          24480,
          24600,
          24720,
          24840,
          24960,
          25080,
          25200,
          25320,
          25440,
          25560,
          25680,
          25800,
          25920,
          26040,
          26160,
          26280,
          26400,
          26520,
          26640,
          26760,
          26880,
          27000,
          27120,
          27240,
          27360,
          27480,
          27600,
          27720,
          27840,
          27960,
          28080,
          28200,
          28320,
          28440,
          28560,
          28680,
          28800,
          28920,
          29040,
          29160,
          29280,
          29400,
          29520,
          29640,
          29760,
          29880,
          30000,
          30120,
          30240,
          30360,
          30480,
          30600,
          30720,
          30840,
          30960,
          31080,
          31200,
          31320,
          31440,
          31560,
          31680,
          31800,
          31920,
          32040,
          32160,
          32280,
          32400,
          32520,
          32640,
          32760,
          32880,
          33000,
          33120,
          33240,
          33360,
          33480,
          33600,
          33720,
          33840,
          33960,
          34080,
          34200,
          34320,
          34440,
          34560,
          34680,
          34800,
          34920,
          35040,
          35160,
          35280,
          35400,
          35520,
          35640,
          35760,
          35880,
          36000,
          36120,
          36240,
          36360,
          36480,
          36600,
          36720,
          36840,
          36960,
          37080,
          37200,
          37320,
          37440,
          37560,
          37680,
          37800,
          37920,
          38040,
          38160,
          38280,
          38400,
          38520,
          38640,
          38760,
          38880,
          39000,
          39120,
          39240,
          39360,
          39480,
          39600,
          39720,
          39840,
          39960,
          40080,
          40200,
          40320,
          40440,
          40560,
          40680,
          40800,
          40920,
          41040,
          41160,
          41280,
          41400,
          41520,
          41640,
          41760,
          41880,
          42000,
          42120,
          42240,
          42360,
          42480,
          42600,
          42720,
          42840,
          42960,
          43080,
          43200,
          43320,
          43440,
          43560,
          43680,
          43800,
          43920,
          44040,
          44160,
          44280,
          44400,
          44520,
          44640,
          44760,
          44880,
          45000,
          45120,
          45240,
          45360,
          45480,
          45600,
          45720,
          45840,
          45960,
          46080,
          46200,
          46320,
          46440,
          46560,
          46680,
          46800,
          46920,
          47040,
          47160,
          47280,
          47400,
          47520,
          47640,
          47760,
          47880,
          48000,
          48120,
          48240,
          48360,
          48480,
          48600,
          48720,
          48840,
          48960,
          49080,
          49200,
          49320,
          49440,
          49560,
          49680,
          49800,
          49920,
          50040,
          50160,
          50280,
          50400,
          50520,
          50640,
          50760,
          50880,
          51000,
          51120,
          51240,
          51360,
          51480,
          51600,
          51720,
          51840,
          51960,
          52080,
          52200,
          52320,
          52440,
          52560,
          52680,
          52800,
          52920,
          53040,
          53160,
          53280,
          53400,
          53520,
          53640,
          53760,
          53880,
          54000,
          54120,
          54240,
          54360,
          54480,
          54600,
          54720,
          54840,
          54960,
          55080,
          55200,
          55320,
          55440,
          55560,
          55680,
          55800,
          55920,
          56040,
          56160,
          56280,
          56400,
          56520,
          56640,
          56760,
          56880,
          57000,
          57120,
          57240,
          57360,
          57480,
          57600,
          57720,
          57840,
          57960,
          58080,
          58200,
          58320,
          58440,
          58560,
          58680,
          58800,
          58920,
          59040,
          59160,
          59280,
          59400,
          59520,
          59640,
          59760,
          59880,
          60000,
          60120,
          60240,
          60360,
          60480,
          60600,
          60720,
          60840,
          60960,
          61080,
          61200,
          61320,
          61440,
          61560,
          61680,
          61800
         ],
         "xaxis": "x",
         "y": [
          0.8,
          0.2,
          0.4,
          0.6,
          0.6,
          0.6,
          0.6,
          0.8,
          0.4,
          0.4,
          1,
          0.4,
          1,
          0.4,
          0.2,
          0.2,
          0.2,
          0.2,
          0.6,
          0.6,
          0.2,
          0.4,
          0.8,
          0.4,
          0.6,
          0.6,
          0.4,
          0.4,
          0.2,
          0.8,
          0.6,
          0.8,
          0.6,
          0.2,
          0.2,
          0.6,
          0.4,
          0.8,
          0.6,
          0.2,
          0.2,
          0.4,
          0.2,
          0.8,
          0.6,
          0.8,
          0,
          0.8,
          0.4,
          0,
          0.4,
          0,
          0,
          0.6,
          0.2,
          0.2,
          0.8,
          0.2,
          0.4,
          0.4,
          0.8,
          0.4,
          0.6,
          0.4,
          0.4,
          0.6,
          0.2,
          0.4,
          0.8,
          0.4,
          0.6,
          0.8,
          0.2,
          0.8,
          0.8,
          0.4,
          0.4,
          0.4,
          0.2,
          0.6,
          0.2,
          0.4,
          0.6,
          1,
          0.4,
          0.2,
          0.8,
          0.4,
          0.2,
          0.4,
          0.8,
          0.2,
          1,
          0.4,
          0.4,
          0.4,
          0.2,
          0.4,
          0.6,
          0.4,
          0.4,
          0,
          0.8,
          1,
          0.4,
          0.8,
          0.8,
          0.6,
          0.6,
          0.4,
          0.4,
          0,
          0.6,
          0.2,
          1,
          0.8,
          0.8,
          0.8,
          0.6,
          0.6,
          0.6,
          0.4,
          0.2,
          0.2,
          0.8,
          0.4,
          0.4,
          0.6,
          1,
          0.8,
          0.2,
          1,
          0.4,
          0.6,
          0.4,
          0.6,
          0.8,
          0.6,
          0.6,
          0.6,
          0.6,
          0,
          0.6,
          0.4,
          0.2,
          0.4,
          0.2,
          0.2,
          0.4,
          0.6,
          0.4,
          0.6,
          0.2,
          0.8,
          0.2,
          0.2,
          0,
          0.6,
          1,
          0.6,
          1,
          1,
          0.8,
          0.8,
          0.4,
          0.4,
          0.6,
          0.4,
          0.8,
          1,
          1,
          0.4,
          1,
          0.4,
          0.8,
          0.4,
          0.4,
          0.6,
          0.2,
          0.2,
          0.8,
          0,
          0.8,
          0.2,
          0.8,
          0.4,
          0.6,
          0.2,
          0.8,
          0.4,
          0.2,
          0,
          0.2,
          0.8,
          0.2,
          1,
          0.6,
          0.6,
          0.4,
          0.6,
          0.2,
          0.4,
          0.4,
          1,
          0.2,
          0.2,
          0.2,
          1,
          0.4,
          0.6,
          0.4,
          0.4,
          0.4,
          1,
          0.4,
          1,
          0.8,
          0.2,
          0.4,
          0,
          0.8,
          0.4,
          0.2,
          0,
          0,
          0.4,
          1,
          1,
          0.8,
          0.8,
          0,
          0.8,
          0.4,
          0,
          0.2,
          0.2,
          0.8,
          0.6,
          1,
          0.6,
          0.2,
          0.4,
          0.4,
          0.8,
          0,
          0.2,
          0,
          0,
          0.6,
          0.6,
          0.6,
          0.4,
          1,
          0.4,
          1,
          0.4,
          0.2,
          0.6,
          0.6,
          1,
          0.6,
          0.4,
          0.2,
          0.2,
          0.6,
          0.6,
          0.6,
          1,
          0.4,
          0,
          0.6,
          1,
          0.4,
          0.4,
          0.4,
          0.4,
          0.4,
          0.4,
          0.6,
          0.6,
          0.2,
          0.2,
          0.4,
          0.6,
          0.6,
          0.4,
          0.2,
          0.6,
          0.4,
          1,
          0.6,
          0.6,
          0.4,
          0.6,
          0.4,
          0.2,
          0.6,
          0.8,
          0.4,
          0.2,
          0.4,
          0.2,
          0.4,
          0.4,
          0.4,
          1,
          0.6,
          0.4,
          0.6,
          0.2,
          1,
          0,
          0.4,
          0.2,
          0.4,
          0.2,
          1,
          0.6,
          0.6,
          0.4,
          0.4,
          0.8,
          0.4,
          1,
          0.4,
          0.4,
          0.8,
          0.4,
          0.4,
          0.4,
          0.4,
          0.6,
          0.2,
          0.2,
          0.8,
          0,
          0.4,
          0.4,
          0.8,
          0.4,
          0.6,
          0,
          0,
          0.4,
          0,
          1,
          0.4,
          0.4,
          0.2,
          0.6,
          0.6,
          0.6,
          0,
          0.6,
          0.2,
          0.2,
          0.2,
          0.2,
          0.2,
          0.8
         ],
         "yaxis": "y"
        },
        {
         "hovertemplate": "run=6<br>simulation_time=%{x}<br>utilisation=%{y}<extra></extra>",
         "legendgroup": "6",
         "line": {
          "color": "#FF6692",
          "dash": "solid"
         },
         "marker": {
          "symbol": "circle"
         },
         "mode": "lines",
         "name": "6",
         "showlegend": true,
         "type": "scattergl",
         "x": [
          18720,
          18840,
          18960,
          19080,
          19200,
          19320,
          19440,
          19560,
          19680,
          19800,
          19920,
          20040,
          20160,
          20280,
          20400,
          20520,
          20640,
          20760,
          20880,
          21000,
          21120,
          21240,
          21360,
          21480,
          21600,
          21720,
          21840,
          21960,
          22080,
          22200,
          22320,
          22440,
          22560,
          22680,
          22800,
          22920,
          23040,
          23160,
          23280,
          23400,
          23520,
          23640,
          23760,
          23880,
          24000,
          24120,
          24240,
          24360,
          24480,
          24600,
          24720,
          24840,
          24960,
          25080,
          25200,
          25320,
          25440,
          25560,
          25680,
          25800,
          25920,
          26040,
          26160,
          26280,
          26400,
          26520,
          26640,
          26760,
          26880,
          27000,
          27120,
          27240,
          27360,
          27480,
          27600,
          27720,
          27840,
          27960,
          28080,
          28200,
          28320,
          28440,
          28560,
          28680,
          28800,
          28920,
          29040,
          29160,
          29280,
          29400,
          29520,
          29640,
          29760,
          29880,
          30000,
          30120,
          30240,
          30360,
          30480,
          30600,
          30720,
          30840,
          30960,
          31080,
          31200,
          31320,
          31440,
          31560,
          31680,
          31800,
          31920,
          32040,
          32160,
          32280,
          32400,
          32520,
          32640,
          32760,
          32880,
          33000,
          33120,
          33240,
          33360,
          33480,
          33600,
          33720,
          33840,
          33960,
          34080,
          34200,
          34320,
          34440,
          34560,
          34680,
          34800,
          34920,
          35040,
          35160,
          35280,
          35400,
          35520,
          35640,
          35760,
          35880,
          36000,
          36120,
          36240,
          36360,
          36480,
          36600,
          36720,
          36840,
          36960,
          37080,
          37200,
          37320,
          37440,
          37560,
          37680,
          37800,
          37920,
          38040,
          38160,
          38280,
          38400,
          38520,
          38640,
          38760,
          38880,
          39000,
          39120,
          39240,
          39360,
          39480,
          39600,
          39720,
          39840,
          39960,
          40080,
          40200,
          40320,
          40440,
          40560,
          40680,
          40800,
          40920,
          41040,
          41160,
          41280,
          41400,
          41520,
          41640,
          41760,
          41880,
          42000,
          42120,
          42240,
          42360,
          42480,
          42600,
          42720,
          42840,
          42960,
          43080,
          43200,
          43320,
          43440,
          43560,
          43680,
          43800,
          43920,
          44040,
          44160,
          44280,
          44400,
          44520,
          44640,
          44760,
          44880,
          45000,
          45120,
          45240,
          45360,
          45480,
          45600,
          45720,
          45840,
          45960,
          46080,
          46200,
          46320,
          46440,
          46560,
          46680,
          46800,
          46920,
          47040,
          47160,
          47280,
          47400,
          47520,
          47640,
          47760,
          47880,
          48000,
          48120,
          48240,
          48360,
          48480,
          48600,
          48720,
          48840,
          48960,
          49080,
          49200,
          49320,
          49440,
          49560,
          49680,
          49800,
          49920,
          50040,
          50160,
          50280,
          50400,
          50520,
          50640,
          50760,
          50880,
          51000,
          51120,
          51240,
          51360,
          51480,
          51600,
          51720,
          51840,
          51960,
          52080,
          52200,
          52320,
          52440,
          52560,
          52680,
          52800,
          52920,
          53040,
          53160,
          53280,
          53400,
          53520,
          53640,
          53760,
          53880,
          54000,
          54120,
          54240,
          54360,
          54480,
          54600,
          54720,
          54840,
          54960,
          55080,
          55200,
          55320,
          55440,
          55560,
          55680,
          55800,
          55920,
          56040,
          56160,
          56280,
          56400,
          56520,
          56640,
          56760,
          56880,
          57000,
          57120,
          57240,
          57360,
          57480,
          57600,
          57720,
          57840,
          57960,
          58080,
          58200,
          58320,
          58440,
          58560,
          58680,
          58800,
          58920,
          59040,
          59160,
          59280,
          59400,
          59520,
          59640,
          59760,
          59880,
          60000,
          60120,
          60240,
          60360,
          60480,
          60600,
          60720,
          60840,
          60960,
          61080,
          61200,
          61320,
          61440,
          61560,
          61680,
          61800
         ],
         "xaxis": "x",
         "y": [
          0.2,
          0.2,
          0.4,
          0.2,
          0.4,
          0.2,
          0.8,
          0.6,
          0.8,
          0.4,
          0,
          0.4,
          1,
          0.2,
          0.4,
          1,
          0.4,
          0.4,
          0.2,
          0.4,
          1,
          0.2,
          0.4,
          0.4,
          0.8,
          0.6,
          0.6,
          1,
          0.6,
          0.4,
          0.4,
          0.8,
          0.6,
          0.2,
          0.6,
          0.8,
          0.4,
          0.6,
          0.8,
          0.8,
          0.6,
          0.2,
          0.8,
          1,
          0.2,
          1,
          0.4,
          1,
          0.4,
          0.4,
          0.4,
          0.6,
          0.4,
          0.2,
          0.8,
          0.6,
          0.8,
          0.6,
          0.2,
          0.8,
          1,
          0.6,
          0.4,
          0.6,
          0.6,
          0.2,
          1,
          0.4,
          0.6,
          0,
          0.4,
          0.6,
          0.6,
          0.2,
          0.2,
          0.4,
          0.4,
          0,
          0.6,
          0.2,
          1,
          0,
          0.8,
          0.2,
          1,
          0.6,
          0.4,
          0.4,
          1,
          0,
          1,
          0.6,
          1,
          0.8,
          0.8,
          0.6,
          0.2,
          0.2,
          1,
          0.8,
          0.6,
          0.2,
          0.8,
          0.6,
          0.8,
          0.2,
          0.4,
          0.6,
          0,
          0.4,
          0.2,
          0.4,
          0.8,
          0.8,
          0.8,
          0.6,
          0.4,
          0.6,
          0.4,
          0.4,
          0.8,
          0.6,
          0.2,
          0.4,
          0.2,
          0,
          0.8,
          0.8,
          0.8,
          0.8,
          1,
          0.6,
          1,
          0.4,
          0.4,
          1,
          0.8,
          0.4,
          0.4,
          1,
          0.6,
          0.4,
          0.2,
          0.2,
          0,
          0.8,
          0,
          1,
          1,
          0.4,
          0.2,
          0.2,
          0.4,
          1,
          0.4,
          0.4,
          1,
          0,
          0.6,
          0.6,
          0.2,
          0.8,
          1,
          0.4,
          0.6,
          0.2,
          1,
          0.2,
          0.6,
          0.4,
          0.8,
          0.6,
          0.4,
          0.4,
          0.2,
          1,
          0,
          0.6,
          0.6,
          0.6,
          0.8,
          0.8,
          0.4,
          0.4,
          1,
          1,
          1,
          0.4,
          0.4,
          0.4,
          0.4,
          1,
          0.6,
          0.8,
          1,
          0.2,
          0.6,
          0.4,
          0.2,
          0.4,
          0.6,
          0.4,
          0.6,
          0.8,
          0.2,
          1,
          1,
          0.6,
          0.4,
          0,
          0.6,
          0.4,
          0.4,
          0.4,
          0.6,
          0.6,
          0.2,
          0.2,
          1,
          0.4,
          0.6,
          0.6,
          0.2,
          0,
          0.8,
          0.8,
          0.6,
          0.8,
          0.4,
          0,
          0.8,
          0.6,
          1,
          0.2,
          0.4,
          1,
          0.6,
          0.2,
          0.6,
          0.4,
          1,
          0.6,
          1,
          0.4,
          0.4,
          1,
          0.6,
          0.4,
          0.6,
          0.6,
          0.4,
          0.2,
          1,
          0.2,
          0.6,
          0,
          0.6,
          0,
          0.4,
          0.2,
          0.6,
          0.2,
          0.4,
          0.8,
          0,
          1,
          0.6,
          1,
          0.8,
          1,
          0.6,
          0.6,
          0.2,
          0.2,
          0.2,
          0.2,
          0.2,
          0.4,
          0.8,
          0.8,
          0.4,
          0.8,
          0,
          0,
          0.2,
          0.4,
          0.6,
          0.6,
          0.4,
          0.4,
          0.6,
          0.2,
          0.2,
          1,
          0.6,
          1,
          0.6,
          1,
          0.2,
          0.6,
          0.4,
          0.4,
          0.6,
          0.8,
          0.2,
          1,
          0.8,
          0,
          0.2,
          0.6,
          0.4,
          0.4,
          1,
          0.4,
          0,
          0.4,
          0.8,
          0.4,
          0.4,
          0.4,
          0.2,
          0.8,
          0.8,
          0.6,
          0.2,
          0.4,
          0.2,
          0.2,
          0,
          0.6,
          0.4,
          0.4,
          0.8,
          1,
          0,
          0.4,
          0.4,
          0.6,
          0.6,
          0.6,
          0.4,
          0.4,
          0.2,
          0,
          0,
          1,
          0.4,
          0.4,
          0.6,
          0.4,
          0.2,
          1,
          0.2,
          0,
          0.6,
          0.2,
          1,
          0.8,
          0.2,
          0.4
         ],
         "yaxis": "y"
        },
        {
         "hovertemplate": "run=7<br>simulation_time=%{x}<br>utilisation=%{y}<extra></extra>",
         "legendgroup": "7",
         "line": {
          "color": "#B6E880",
          "dash": "solid"
         },
         "marker": {
          "symbol": "circle"
         },
         "mode": "lines",
         "name": "7",
         "showlegend": true,
         "type": "scattergl",
         "x": [
          18720,
          18840,
          18960,
          19080,
          19200,
          19320,
          19440,
          19560,
          19680,
          19800,
          19920,
          20040,
          20160,
          20280,
          20400,
          20520,
          20640,
          20760,
          20880,
          21000,
          21120,
          21240,
          21360,
          21480,
          21600,
          21720,
          21840,
          21960,
          22080,
          22200,
          22320,
          22440,
          22560,
          22680,
          22800,
          22920,
          23040,
          23160,
          23280,
          23400,
          23520,
          23640,
          23760,
          23880,
          24000,
          24120,
          24240,
          24360,
          24480,
          24600,
          24720,
          24840,
          24960,
          25080,
          25200,
          25320,
          25440,
          25560,
          25680,
          25800,
          25920,
          26040,
          26160,
          26280,
          26400,
          26520,
          26640,
          26760,
          26880,
          27000,
          27120,
          27240,
          27360,
          27480,
          27600,
          27720,
          27840,
          27960,
          28080,
          28200,
          28320,
          28440,
          28560,
          28680,
          28800,
          28920,
          29040,
          29160,
          29280,
          29400,
          29520,
          29640,
          29760,
          29880,
          30000,
          30120,
          30240,
          30360,
          30480,
          30600,
          30720,
          30840,
          30960,
          31080,
          31200,
          31320,
          31440,
          31560,
          31680,
          31800,
          31920,
          32040,
          32160,
          32280,
          32400,
          32520,
          32640,
          32760,
          32880,
          33000,
          33120,
          33240,
          33360,
          33480,
          33600,
          33720,
          33840,
          33960,
          34080,
          34200,
          34320,
          34440,
          34560,
          34680,
          34800,
          34920,
          35040,
          35160,
          35280,
          35400,
          35520,
          35640,
          35760,
          35880,
          36000,
          36120,
          36240,
          36360,
          36480,
          36600,
          36720,
          36840,
          36960,
          37080,
          37200,
          37320,
          37440,
          37560,
          37680,
          37800,
          37920,
          38040,
          38160,
          38280,
          38400,
          38520,
          38640,
          38760,
          38880,
          39000,
          39120,
          39240,
          39360,
          39480,
          39600,
          39720,
          39840,
          39960,
          40080,
          40200,
          40320,
          40440,
          40560,
          40680,
          40800,
          40920,
          41040,
          41160,
          41280,
          41400,
          41520,
          41640,
          41760,
          41880,
          42000,
          42120,
          42240,
          42360,
          42480,
          42600,
          42720,
          42840,
          42960,
          43080,
          43200,
          43320,
          43440,
          43560,
          43680,
          43800,
          43920,
          44040,
          44160,
          44280,
          44400,
          44520,
          44640,
          44760,
          44880,
          45000,
          45120,
          45240,
          45360,
          45480,
          45600,
          45720,
          45840,
          45960,
          46080,
          46200,
          46320,
          46440,
          46560,
          46680,
          46800,
          46920,
          47040,
          47160,
          47280,
          47400,
          47520,
          47640,
          47760,
          47880,
          48000,
          48120,
          48240,
          48360,
          48480,
          48600,
          48720,
          48840,
          48960,
          49080,
          49200,
          49320,
          49440,
          49560,
          49680,
          49800,
          49920,
          50040,
          50160,
          50280,
          50400,
          50520,
          50640,
          50760,
          50880,
          51000,
          51120,
          51240,
          51360,
          51480,
          51600,
          51720,
          51840,
          51960,
          52080,
          52200,
          52320,
          52440,
          52560,
          52680,
          52800,
          52920,
          53040,
          53160,
          53280,
          53400,
          53520,
          53640,
          53760,
          53880,
          54000,
          54120,
          54240,
          54360,
          54480,
          54600,
          54720,
          54840,
          54960,
          55080,
          55200,
          55320,
          55440,
          55560,
          55680,
          55800,
          55920,
          56040,
          56160,
          56280,
          56400,
          56520,
          56640,
          56760,
          56880,
          57000,
          57120,
          57240,
          57360,
          57480,
          57600,
          57720,
          57840,
          57960,
          58080,
          58200,
          58320,
          58440,
          58560,
          58680,
          58800,
          58920,
          59040,
          59160,
          59280,
          59400,
          59520,
          59640,
          59760,
          59880,
          60000,
          60120,
          60240,
          60360,
          60480,
          60600,
          60720,
          60840,
          60960,
          61080,
          61200,
          61320,
          61440,
          61560,
          61680,
          61800
         ],
         "xaxis": "x",
         "y": [
          0.8,
          1,
          0.4,
          0.6,
          0.6,
          0.6,
          0.6,
          0.6,
          0.6,
          1,
          0.2,
          0.6,
          0.6,
          0.8,
          0.6,
          0.6,
          0,
          0.8,
          0.8,
          0.4,
          0,
          0.4,
          1,
          0,
          0.4,
          0,
          0,
          0.2,
          0.6,
          0.6,
          0.4,
          0.6,
          0.6,
          0.2,
          0.8,
          0.2,
          0.8,
          0.4,
          0.6,
          1,
          0.2,
          0,
          0.8,
          0.2,
          0.4,
          0.4,
          0.2,
          0.6,
          0.6,
          0.4,
          0.6,
          0.4,
          0.6,
          0.6,
          0.6,
          0.6,
          0.4,
          0.4,
          0.2,
          0.4,
          0.4,
          0.6,
          0.8,
          0.2,
          0.4,
          0.6,
          0,
          0.6,
          0.6,
          0.4,
          0.4,
          1,
          0.4,
          0.6,
          0,
          0.2,
          0.4,
          0,
          0.4,
          0.4,
          0.6,
          0.6,
          0.4,
          0.2,
          0.8,
          0.2,
          1,
          1,
          0.2,
          0.2,
          0.6,
          0.6,
          1,
          0,
          0.2,
          0.8,
          0,
          0.8,
          0.6,
          0.4,
          0.2,
          1,
          0.4,
          0.6,
          0,
          0.2,
          0.8,
          0.6,
          0.6,
          0.4,
          0.8,
          0.4,
          0.8,
          0.6,
          1,
          0.2,
          0,
          0.6,
          0.8,
          0.8,
          0.8,
          0.4,
          0.4,
          0.2,
          0.2,
          0.4,
          0.4,
          0,
          1,
          1,
          1,
          0.2,
          0.6,
          0.4,
          0.4,
          0,
          0.8,
          0.6,
          0.4,
          0.2,
          0.2,
          0.4,
          0.6,
          0.6,
          0.4,
          0.8,
          0.4,
          0.2,
          1,
          0.4,
          0,
          0.4,
          0.4,
          0.2,
          0.6,
          0.4,
          0.6,
          0.6,
          1,
          0.6,
          0.2,
          0,
          1,
          0.4,
          0.6,
          0.6,
          0.2,
          0.8,
          0.2,
          0.4,
          0.6,
          0.4,
          0.6,
          0.2,
          0.4,
          0,
          0.2,
          0.4,
          1,
          0,
          1,
          0.2,
          0.4,
          0.2,
          1,
          0.8,
          0.8,
          1,
          1,
          1,
          1,
          0.6,
          1,
          0.4,
          0.2,
          0.8,
          0.4,
          0.4,
          0.4,
          0.8,
          0.4,
          0.4,
          0.4,
          0.2,
          0.4,
          0.6,
          0,
          0.2,
          0.4,
          0,
          1,
          0.8,
          1,
          1,
          1,
          1,
          0.8,
          0.8,
          0.2,
          0.4,
          1,
          1,
          0,
          0.6,
          0.8,
          0.2,
          0,
          1,
          1,
          0.6,
          0.2,
          0.4,
          0.8,
          0.4,
          0.6,
          0.6,
          0.4,
          0.6,
          1,
          0.8,
          0.4,
          0.4,
          0.2,
          1,
          1,
          0.4,
          0.6,
          0.2,
          0,
          0.4,
          1,
          0.2,
          0.8,
          0.2,
          0.8,
          0,
          0.6,
          0.6,
          0.2,
          0.2,
          0.8,
          0.4,
          0.2,
          0.6,
          0.6,
          0.2,
          0.2,
          0.4,
          0.2,
          0.6,
          0.4,
          0.6,
          0.2,
          0.2,
          0.6,
          0.4,
          0.4,
          0.6,
          0.6,
          1,
          1,
          0.2,
          0.4,
          0.6,
          0.2,
          0.4,
          0.6,
          0,
          0,
          0.6,
          0.4,
          1,
          0.6,
          0.2,
          0.2,
          0.4,
          0.8,
          0.4,
          0,
          0.4,
          0.2,
          0.8,
          0.4,
          1,
          0.2,
          0.2,
          0.4,
          0.4,
          1,
          0.6,
          0.4,
          0.6,
          1,
          0.2,
          0.2,
          0.4,
          0.6,
          0.6,
          0.8,
          0.2,
          0.6,
          1,
          0.2,
          0.4,
          1,
          0,
          0,
          0.8,
          0.6,
          0.2,
          0.2,
          0.6,
          0.4,
          0.4,
          0,
          0.2,
          1,
          0.4,
          0,
          1,
          0.2,
          0.8,
          0.6,
          0.6,
          0.6,
          0.6,
          0.4,
          0.4,
          1,
          0.6,
          0.6,
          1,
          0.4,
          1,
          0.4,
          0.6,
          0.4,
          0.6,
          0.4,
          0.4
         ],
         "yaxis": "y"
        },
        {
         "hovertemplate": "run=8<br>simulation_time=%{x}<br>utilisation=%{y}<extra></extra>",
         "legendgroup": "8",
         "line": {
          "color": "#FF97FF",
          "dash": "solid"
         },
         "marker": {
          "symbol": "circle"
         },
         "mode": "lines",
         "name": "8",
         "showlegend": true,
         "type": "scattergl",
         "x": [
          18720,
          18840,
          18960,
          19080,
          19200,
          19320,
          19440,
          19560,
          19680,
          19800,
          19920,
          20040,
          20160,
          20280,
          20400,
          20520,
          20640,
          20760,
          20880,
          21000,
          21120,
          21240,
          21360,
          21480,
          21600,
          21720,
          21840,
          21960,
          22080,
          22200,
          22320,
          22440,
          22560,
          22680,
          22800,
          22920,
          23040,
          23160,
          23280,
          23400,
          23520,
          23640,
          23760,
          23880,
          24000,
          24120,
          24240,
          24360,
          24480,
          24600,
          24720,
          24840,
          24960,
          25080,
          25200,
          25320,
          25440,
          25560,
          25680,
          25800,
          25920,
          26040,
          26160,
          26280,
          26400,
          26520,
          26640,
          26760,
          26880,
          27000,
          27120,
          27240,
          27360,
          27480,
          27600,
          27720,
          27840,
          27960,
          28080,
          28200,
          28320,
          28440,
          28560,
          28680,
          28800,
          28920,
          29040,
          29160,
          29280,
          29400,
          29520,
          29640,
          29760,
          29880,
          30000,
          30120,
          30240,
          30360,
          30480,
          30600,
          30720,
          30840,
          30960,
          31080,
          31200,
          31320,
          31440,
          31560,
          31680,
          31800,
          31920,
          32040,
          32160,
          32280,
          32400,
          32520,
          32640,
          32760,
          32880,
          33000,
          33120,
          33240,
          33360,
          33480,
          33600,
          33720,
          33840,
          33960,
          34080,
          34200,
          34320,
          34440,
          34560,
          34680,
          34800,
          34920,
          35040,
          35160,
          35280,
          35400,
          35520,
          35640,
          35760,
          35880,
          36000,
          36120,
          36240,
          36360,
          36480,
          36600,
          36720,
          36840,
          36960,
          37080,
          37200,
          37320,
          37440,
          37560,
          37680,
          37800,
          37920,
          38040,
          38160,
          38280,
          38400,
          38520,
          38640,
          38760,
          38880,
          39000,
          39120,
          39240,
          39360,
          39480,
          39600,
          39720,
          39840,
          39960,
          40080,
          40200,
          40320,
          40440,
          40560,
          40680,
          40800,
          40920,
          41040,
          41160,
          41280,
          41400,
          41520,
          41640,
          41760,
          41880,
          42000,
          42120,
          42240,
          42360,
          42480,
          42600,
          42720,
          42840,
          42960,
          43080,
          43200,
          43320,
          43440,
          43560,
          43680,
          43800,
          43920,
          44040,
          44160,
          44280,
          44400,
          44520,
          44640,
          44760,
          44880,
          45000,
          45120,
          45240,
          45360,
          45480,
          45600,
          45720,
          45840,
          45960,
          46080,
          46200,
          46320,
          46440,
          46560,
          46680,
          46800,
          46920,
          47040,
          47160,
          47280,
          47400,
          47520,
          47640,
          47760,
          47880,
          48000,
          48120,
          48240,
          48360,
          48480,
          48600,
          48720,
          48840,
          48960,
          49080,
          49200,
          49320,
          49440,
          49560,
          49680,
          49800,
          49920,
          50040,
          50160,
          50280,
          50400,
          50520,
          50640,
          50760,
          50880,
          51000,
          51120,
          51240,
          51360,
          51480,
          51600,
          51720,
          51840,
          51960,
          52080,
          52200,
          52320,
          52440,
          52560,
          52680,
          52800,
          52920,
          53040,
          53160,
          53280,
          53400,
          53520,
          53640,
          53760,
          53880,
          54000,
          54120,
          54240,
          54360,
          54480,
          54600,
          54720,
          54840,
          54960,
          55080,
          55200,
          55320,
          55440,
          55560,
          55680,
          55800,
          55920,
          56040,
          56160,
          56280,
          56400,
          56520,
          56640,
          56760,
          56880,
          57000,
          57120,
          57240,
          57360,
          57480,
          57600,
          57720,
          57840,
          57960,
          58080,
          58200,
          58320,
          58440,
          58560,
          58680,
          58800,
          58920,
          59040,
          59160,
          59280,
          59400,
          59520,
          59640,
          59760,
          59880,
          60000,
          60120,
          60240,
          60360,
          60480,
          60600,
          60720,
          60840,
          60960,
          61080,
          61200,
          61320,
          61440,
          61560,
          61680,
          61800
         ],
         "xaxis": "x",
         "y": [
          0.4,
          0.2,
          0.2,
          0.6,
          0.2,
          0.6,
          0,
          0.8,
          0.2,
          0.4,
          0,
          0.4,
          0,
          0.2,
          1,
          0.4,
          0.6,
          0.2,
          0.4,
          0.4,
          0.2,
          0.8,
          0.4,
          0,
          0.6,
          0.6,
          0.6,
          0,
          0.6,
          0.4,
          1,
          0.2,
          0.4,
          0.4,
          0.2,
          0,
          0.6,
          1,
          0.8,
          1,
          0.8,
          0.4,
          0.4,
          0.4,
          0.4,
          0.4,
          0.4,
          0.4,
          0.2,
          0.6,
          0.2,
          0.8,
          0.2,
          0.6,
          0.4,
          0,
          0.2,
          0,
          0,
          0.8,
          0.6,
          0.2,
          0.8,
          0.2,
          0.6,
          0.2,
          0.2,
          0.8,
          0.2,
          0.4,
          1,
          0,
          0.8,
          1,
          0,
          0.6,
          0.2,
          0.6,
          0.8,
          0.2,
          0.6,
          1,
          0.6,
          0.4,
          0.8,
          0,
          0.2,
          0.8,
          1,
          0.8,
          0.6,
          0.8,
          0.6,
          0.6,
          0.4,
          0.6,
          1,
          0.2,
          0.6,
          0.4,
          0.4,
          0.4,
          1,
          1,
          0.8,
          0.6,
          0.2,
          0,
          0.4,
          0.6,
          0,
          0.4,
          1,
          0.2,
          0.6,
          0.2,
          0.6,
          0.6,
          0.8,
          0.4,
          0.6,
          0.6,
          0.6,
          0.4,
          0.6,
          0.6,
          0.6,
          0.4,
          0.4,
          0.2,
          0.8,
          0.8,
          0.2,
          0.8,
          0.4,
          0.2,
          0.4,
          1,
          1,
          0.4,
          0.6,
          0.2,
          1,
          0.8,
          0.4,
          0.2,
          0.6,
          0.8,
          0.6,
          0.8,
          1,
          0.4,
          0.4,
          0.8,
          0.4,
          0.4,
          0.6,
          0.2,
          0.6,
          1,
          0.8,
          0.4,
          0.6,
          0.6,
          0.6,
          0.2,
          0.8,
          0.6,
          0,
          1,
          0.4,
          0.8,
          0.6,
          0.4,
          1,
          0,
          0.2,
          0.4,
          0.4,
          0.4,
          0.8,
          0.4,
          0.4,
          0.6,
          0.4,
          1,
          0.6,
          0,
          0.2,
          0.4,
          0.6,
          1,
          0.8,
          0.2,
          1,
          0.4,
          0.2,
          0.6,
          1,
          0.6,
          0.6,
          0.2,
          0.4,
          1,
          0.4,
          0.4,
          0.4,
          0.2,
          0.4,
          0.8,
          0.4,
          0.8,
          0.4,
          0.2,
          0.4,
          1,
          1,
          0,
          1,
          0.8,
          0.2,
          0.6,
          1,
          0.4,
          0.8,
          0,
          0.4,
          0.6,
          0.4,
          0.8,
          0.4,
          0,
          0.4,
          0,
          1,
          0.2,
          0.2,
          1,
          0,
          0.4,
          1,
          0.6,
          0.8,
          0.4,
          0.4,
          1,
          0.6,
          0.4,
          0,
          0,
          0.6,
          0,
          0.6,
          0.6,
          0.6,
          0.2,
          1,
          0.6,
          0.4,
          1,
          0.2,
          0.6,
          0.6,
          0.4,
          1,
          1,
          0.8,
          0.8,
          0.6,
          0.4,
          0.6,
          0.2,
          0,
          1,
          0.6,
          0.6,
          0.2,
          0.6,
          0.2,
          0.8,
          0.4,
          0.6,
          0.2,
          0.4,
          0.2,
          1,
          0.4,
          0.6,
          0.6,
          0,
          0.8,
          0.2,
          1,
          0.4,
          0.4,
          0.4,
          1,
          0.8,
          0.2,
          0.2,
          0.4,
          0.6,
          0.2,
          1,
          1,
          0,
          0.2,
          0.4,
          0.6,
          0.2,
          0.4,
          0.2,
          0.6,
          0.2,
          0.2,
          0.2,
          0.8,
          0.6,
          1,
          1,
          0.6,
          0.6,
          0.8,
          1,
          0.4,
          0.8,
          1,
          0.2,
          0.2,
          0.8,
          0.6,
          0.4,
          0.4,
          0,
          0.6,
          0.6,
          0.2,
          0.4,
          0.6,
          0.2,
          0.4,
          0.8,
          0.4,
          1,
          0.4,
          0.4,
          1,
          0.4,
          1,
          0.2,
          0.8,
          0,
          0.6,
          1,
          0.4,
          0.4,
          0,
          0,
          0.4,
          0.4
         ],
         "yaxis": "y"
        },
        {
         "hovertemplate": "run=9<br>simulation_time=%{x}<br>utilisation=%{y}<extra></extra>",
         "legendgroup": "9",
         "line": {
          "color": "#FECB52",
          "dash": "solid"
         },
         "marker": {
          "symbol": "circle"
         },
         "mode": "lines",
         "name": "9",
         "showlegend": true,
         "type": "scattergl",
         "x": [
          18720,
          18840,
          18960,
          19080,
          19200,
          19320,
          19440,
          19560,
          19680,
          19800,
          19920,
          20040,
          20160,
          20280,
          20400,
          20520,
          20640,
          20760,
          20880,
          21000,
          21120,
          21240,
          21360,
          21480,
          21600,
          21720,
          21840,
          21960,
          22080,
          22200,
          22320,
          22440,
          22560,
          22680,
          22800,
          22920,
          23040,
          23160,
          23280,
          23400,
          23520,
          23640,
          23760,
          23880,
          24000,
          24120,
          24240,
          24360,
          24480,
          24600,
          24720,
          24840,
          24960,
          25080,
          25200,
          25320,
          25440,
          25560,
          25680,
          25800,
          25920,
          26040,
          26160,
          26280,
          26400,
          26520,
          26640,
          26760,
          26880,
          27000,
          27120,
          27240,
          27360,
          27480,
          27600,
          27720,
          27840,
          27960,
          28080,
          28200,
          28320,
          28440,
          28560,
          28680,
          28800,
          28920,
          29040,
          29160,
          29280,
          29400,
          29520,
          29640,
          29760,
          29880,
          30000,
          30120,
          30240,
          30360,
          30480,
          30600,
          30720,
          30840,
          30960,
          31080,
          31200,
          31320,
          31440,
          31560,
          31680,
          31800,
          31920,
          32040,
          32160,
          32280,
          32400,
          32520,
          32640,
          32760,
          32880,
          33000,
          33120,
          33240,
          33360,
          33480,
          33600,
          33720,
          33840,
          33960,
          34080,
          34200,
          34320,
          34440,
          34560,
          34680,
          34800,
          34920,
          35040,
          35160,
          35280,
          35400,
          35520,
          35640,
          35760,
          35880,
          36000,
          36120,
          36240,
          36360,
          36480,
          36600,
          36720,
          36840,
          36960,
          37080,
          37200,
          37320,
          37440,
          37560,
          37680,
          37800,
          37920,
          38040,
          38160,
          38280,
          38400,
          38520,
          38640,
          38760,
          38880,
          39000,
          39120,
          39240,
          39360,
          39480,
          39600,
          39720,
          39840,
          39960,
          40080,
          40200,
          40320,
          40440,
          40560,
          40680,
          40800,
          40920,
          41040,
          41160,
          41280,
          41400,
          41520,
          41640,
          41760,
          41880,
          42000,
          42120,
          42240,
          42360,
          42480,
          42600,
          42720,
          42840,
          42960,
          43080,
          43200,
          43320,
          43440,
          43560,
          43680,
          43800,
          43920,
          44040,
          44160,
          44280,
          44400,
          44520,
          44640,
          44760,
          44880,
          45000,
          45120,
          45240,
          45360,
          45480,
          45600,
          45720,
          45840,
          45960,
          46080,
          46200,
          46320,
          46440,
          46560,
          46680,
          46800,
          46920,
          47040,
          47160,
          47280,
          47400,
          47520,
          47640,
          47760,
          47880,
          48000,
          48120,
          48240,
          48360,
          48480,
          48600,
          48720,
          48840,
          48960,
          49080,
          49200,
          49320,
          49440,
          49560,
          49680,
          49800,
          49920,
          50040,
          50160,
          50280,
          50400,
          50520,
          50640,
          50760,
          50880,
          51000,
          51120,
          51240,
          51360,
          51480,
          51600,
          51720,
          51840,
          51960,
          52080,
          52200,
          52320,
          52440,
          52560,
          52680,
          52800,
          52920,
          53040,
          53160,
          53280,
          53400,
          53520,
          53640,
          53760,
          53880,
          54000,
          54120,
          54240,
          54360,
          54480,
          54600,
          54720,
          54840,
          54960,
          55080,
          55200,
          55320,
          55440,
          55560,
          55680,
          55800,
          55920,
          56040,
          56160,
          56280,
          56400,
          56520,
          56640,
          56760,
          56880,
          57000,
          57120,
          57240,
          57360,
          57480,
          57600,
          57720,
          57840,
          57960,
          58080,
          58200,
          58320,
          58440,
          58560,
          58680,
          58800,
          58920,
          59040,
          59160,
          59280,
          59400,
          59520,
          59640,
          59760,
          59880,
          60000,
          60120,
          60240,
          60360,
          60480,
          60600,
          60720,
          60840,
          60960,
          61080,
          61200,
          61320,
          61440,
          61560,
          61680,
          61800
         ],
         "xaxis": "x",
         "y": [
          1,
          0.4,
          0,
          0.2,
          0.2,
          0.8,
          0.6,
          0.2,
          0.2,
          0.8,
          0.8,
          0.8,
          0.2,
          0.4,
          0.2,
          0.6,
          0.8,
          0.6,
          0.6,
          0.6,
          0.4,
          0.4,
          0.2,
          0.8,
          0.6,
          0.2,
          0.8,
          0,
          1,
          0.8,
          1,
          1,
          0,
          0.4,
          1,
          0.4,
          0.2,
          1,
          0.2,
          0.2,
          0.4,
          1,
          0.2,
          0.4,
          0.2,
          0.4,
          0.8,
          0,
          0.8,
          0.4,
          0.6,
          0.2,
          0.4,
          0.4,
          0.6,
          0.4,
          0.4,
          0.6,
          0.4,
          1,
          0.6,
          0.6,
          0.6,
          0.4,
          1,
          0.4,
          0.2,
          0.2,
          0,
          0.8,
          0.2,
          0.6,
          0.6,
          0.8,
          1,
          0.6,
          0.2,
          0.2,
          0.8,
          1,
          1,
          0.2,
          0.2,
          0.8,
          0.8,
          0,
          0.4,
          0.6,
          0.2,
          0.8,
          0.4,
          0.4,
          0.4,
          0.2,
          0.2,
          0.2,
          0.2,
          0.2,
          0.8,
          0.6,
          0,
          0.8,
          0.6,
          1,
          0.2,
          0.2,
          1,
          0.6,
          0.8,
          0.4,
          1,
          0.6,
          0.4,
          0,
          0.4,
          0.4,
          0.4,
          0.2,
          0,
          0.4,
          0.4,
          0.8,
          1,
          0.2,
          1,
          0.2,
          1,
          0.2,
          0.8,
          0.8,
          0.8,
          1,
          0.6,
          0.2,
          0.4,
          0.4,
          1,
          0.6,
          0.6,
          0.4,
          0.2,
          0.8,
          0.4,
          0.8,
          1,
          1,
          0.6,
          1,
          0.4,
          0,
          0.2,
          1,
          0.8,
          0.6,
          0.4,
          1,
          0.6,
          0.6,
          0.2,
          0.6,
          0.2,
          0,
          0.4,
          0.2,
          0.4,
          1,
          0.8,
          1,
          1,
          0.8,
          0.4,
          1,
          0.4,
          0.4,
          0.4,
          0,
          1,
          0.4,
          1,
          0.4,
          0,
          0.2,
          0.6,
          0.6,
          0.8,
          0.4,
          0.6,
          0.4,
          0.6,
          0.2,
          0.4,
          0.4,
          0.6,
          0.2,
          0.4,
          0.6,
          0,
          0.2,
          1,
          0.6,
          0.6,
          0.4,
          0.8,
          1,
          0.2,
          0.2,
          0.2,
          0.6,
          0.2,
          1,
          0.2,
          0,
          0.2,
          0.6,
          0.6,
          1,
          1,
          0.8,
          1,
          0.6,
          0.4,
          0.6,
          0.4,
          0.2,
          0.4,
          1,
          0.6,
          0.6,
          0.4,
          0.6,
          0.6,
          0.6,
          0.6,
          0.8,
          0.6,
          0,
          0.4,
          1,
          0.8,
          1,
          0.4,
          0.4,
          0.8,
          0.4,
          0.4,
          0.8,
          0,
          0.8,
          0.2,
          0.4,
          0.2,
          0.4,
          0.8,
          1,
          0.4,
          0.6,
          0.6,
          0.6,
          0.4,
          0.6,
          0.4,
          0.2,
          1,
          0,
          0.6,
          0,
          0,
          0.8,
          0,
          0,
          0.4,
          1,
          0.4,
          1,
          0.2,
          0.4,
          0.2,
          0.2,
          0.6,
          0.4,
          0.4,
          0.6,
          0.8,
          1,
          0.6,
          0.2,
          0.8,
          0.8,
          0.8,
          0.4,
          0.8,
          0,
          0,
          0.6,
          0.2,
          0.8,
          1,
          0.2,
          0.6,
          0.8,
          0.6,
          0.6,
          1,
          0.2,
          0.4,
          0,
          1,
          0,
          0.4,
          1,
          0.8,
          0,
          0,
          0.6,
          0.4,
          0.4,
          0.4,
          1,
          0.2,
          0.2,
          0.6,
          0.4,
          0.2,
          0.6,
          0.4,
          0.4,
          0.6,
          0.8,
          0,
          0.4,
          0.2,
          0.4,
          0.4,
          0.6,
          0.2,
          0.6,
          0.2,
          0.2,
          1,
          0.2,
          1,
          0.4,
          0.8,
          0.2,
          0.6,
          0.6,
          0.2,
          0.4,
          0.6,
          0.2,
          0.8,
          1,
          0.2,
          0.6,
          0.4,
          0.4,
          0.6,
          0.8,
          0.2,
          1
         ],
         "yaxis": "y"
        }
       ],
       "layout": {
        "legend": {
         "title": {
          "text": "run"
         },
         "tracegroupgap": 0
        },
        "margin": {
         "t": 60
        },
        "template": {
         "data": {
          "bar": [
           {
            "error_x": {
             "color": "#2a3f5f"
            },
            "error_y": {
             "color": "#2a3f5f"
            },
            "marker": {
             "line": {
              "color": "#E5ECF6",
              "width": 0.5
             },
             "pattern": {
              "fillmode": "overlay",
              "size": 10,
              "solidity": 0.2
             }
            },
            "type": "bar"
           }
          ],
          "barpolar": [
           {
            "marker": {
             "line": {
              "color": "#E5ECF6",
              "width": 0.5
             },
             "pattern": {
              "fillmode": "overlay",
              "size": 10,
              "solidity": 0.2
             }
            },
            "type": "barpolar"
           }
          ],
          "carpet": [
           {
            "aaxis": {
             "endlinecolor": "#2a3f5f",
             "gridcolor": "white",
             "linecolor": "white",
             "minorgridcolor": "white",
             "startlinecolor": "#2a3f5f"
            },
            "baxis": {
             "endlinecolor": "#2a3f5f",
             "gridcolor": "white",
             "linecolor": "white",
             "minorgridcolor": "white",
             "startlinecolor": "#2a3f5f"
            },
            "type": "carpet"
           }
          ],
          "choropleth": [
           {
            "colorbar": {
             "outlinewidth": 0,
             "ticks": ""
            },
            "type": "choropleth"
           }
          ],
          "contour": [
           {
            "colorbar": {
             "outlinewidth": 0,
             "ticks": ""
            },
            "colorscale": [
             [
              0,
              "#0d0887"
             ],
             [
              0.1111111111111111,
              "#46039f"
             ],
             [
              0.2222222222222222,
              "#7201a8"
             ],
             [
              0.3333333333333333,
              "#9c179e"
             ],
             [
              0.4444444444444444,
              "#bd3786"
             ],
             [
              0.5555555555555556,
              "#d8576b"
             ],
             [
              0.6666666666666666,
              "#ed7953"
             ],
             [
              0.7777777777777778,
              "#fb9f3a"
             ],
             [
              0.8888888888888888,
              "#fdca26"
             ],
             [
              1,
              "#f0f921"
             ]
            ],
            "type": "contour"
           }
          ],
          "contourcarpet": [
           {
            "colorbar": {
             "outlinewidth": 0,
             "ticks": ""
            },
            "type": "contourcarpet"
           }
          ],
          "heatmap": [
           {
            "colorbar": {
             "outlinewidth": 0,
             "ticks": ""
            },
            "colorscale": [
             [
              0,
              "#0d0887"
             ],
             [
              0.1111111111111111,
              "#46039f"
             ],
             [
              0.2222222222222222,
              "#7201a8"
             ],
             [
              0.3333333333333333,
              "#9c179e"
             ],
             [
              0.4444444444444444,
              "#bd3786"
             ],
             [
              0.5555555555555556,
              "#d8576b"
             ],
             [
              0.6666666666666666,
              "#ed7953"
             ],
             [
              0.7777777777777778,
              "#fb9f3a"
             ],
             [
              0.8888888888888888,
              "#fdca26"
             ],
             [
              1,
              "#f0f921"
             ]
            ],
            "type": "heatmap"
           }
          ],
          "heatmapgl": [
           {
            "colorbar": {
             "outlinewidth": 0,
             "ticks": ""
            },
            "colorscale": [
             [
              0,
              "#0d0887"
             ],
             [
              0.1111111111111111,
              "#46039f"
             ],
             [
              0.2222222222222222,
              "#7201a8"
             ],
             [
              0.3333333333333333,
              "#9c179e"
             ],
             [
              0.4444444444444444,
              "#bd3786"
             ],
             [
              0.5555555555555556,
              "#d8576b"
             ],
             [
              0.6666666666666666,
              "#ed7953"
             ],
             [
              0.7777777777777778,
              "#fb9f3a"
             ],
             [
              0.8888888888888888,
              "#fdca26"
             ],
             [
              1,
              "#f0f921"
             ]
            ],
            "type": "heatmapgl"
           }
          ],
          "histogram": [
           {
            "marker": {
             "pattern": {
              "fillmode": "overlay",
              "size": 10,
              "solidity": 0.2
             }
            },
            "type": "histogram"
           }
          ],
          "histogram2d": [
           {
            "colorbar": {
             "outlinewidth": 0,
             "ticks": ""
            },
            "colorscale": [
             [
              0,
              "#0d0887"
             ],
             [
              0.1111111111111111,
              "#46039f"
             ],
             [
              0.2222222222222222,
              "#7201a8"
             ],
             [
              0.3333333333333333,
              "#9c179e"
             ],
             [
              0.4444444444444444,
              "#bd3786"
             ],
             [
              0.5555555555555556,
              "#d8576b"
             ],
             [
              0.6666666666666666,
              "#ed7953"
             ],
             [
              0.7777777777777778,
              "#fb9f3a"
             ],
             [
              0.8888888888888888,
              "#fdca26"
             ],
             [
              1,
              "#f0f921"
             ]
            ],
            "type": "histogram2d"
           }
          ],
          "histogram2dcontour": [
           {
            "colorbar": {
             "outlinewidth": 0,
             "ticks": ""
            },
            "colorscale": [
             [
              0,
              "#0d0887"
             ],
             [
              0.1111111111111111,
              "#46039f"
             ],
             [
              0.2222222222222222,
              "#7201a8"
             ],
             [
              0.3333333333333333,
              "#9c179e"
             ],
             [
              0.4444444444444444,
              "#bd3786"
             ],
             [
              0.5555555555555556,
              "#d8576b"
             ],
             [
              0.6666666666666666,
              "#ed7953"
             ],
             [
              0.7777777777777778,
              "#fb9f3a"
             ],
             [
              0.8888888888888888,
              "#fdca26"
             ],
             [
              1,
              "#f0f921"
             ]
            ],
            "type": "histogram2dcontour"
           }
          ],
          "mesh3d": [
           {
            "colorbar": {
             "outlinewidth": 0,
             "ticks": ""
            },
            "type": "mesh3d"
           }
          ],
          "parcoords": [
           {
            "line": {
             "colorbar": {
              "outlinewidth": 0,
              "ticks": ""
             }
            },
            "type": "parcoords"
           }
          ],
          "pie": [
           {
            "automargin": true,
            "type": "pie"
           }
          ],
          "scatter": [
           {
            "fillpattern": {
             "fillmode": "overlay",
             "size": 10,
             "solidity": 0.2
            },
            "type": "scatter"
           }
          ],
          "scatter3d": [
           {
            "line": {
             "colorbar": {
              "outlinewidth": 0,
              "ticks": ""
             }
            },
            "marker": {
             "colorbar": {
              "outlinewidth": 0,
              "ticks": ""
             }
            },
            "type": "scatter3d"
           }
          ],
          "scattercarpet": [
           {
            "marker": {
             "colorbar": {
              "outlinewidth": 0,
              "ticks": ""
             }
            },
            "type": "scattercarpet"
           }
          ],
          "scattergeo": [
           {
            "marker": {
             "colorbar": {
              "outlinewidth": 0,
              "ticks": ""
             }
            },
            "type": "scattergeo"
           }
          ],
          "scattergl": [
           {
            "marker": {
             "colorbar": {
              "outlinewidth": 0,
              "ticks": ""
             }
            },
            "type": "scattergl"
           }
          ],
          "scattermapbox": [
           {
            "marker": {
             "colorbar": {
              "outlinewidth": 0,
              "ticks": ""
             }
            },
            "type": "scattermapbox"
           }
          ],
          "scatterpolar": [
           {
            "marker": {
             "colorbar": {
              "outlinewidth": 0,
              "ticks": ""
             }
            },
            "type": "scatterpolar"
           }
          ],
          "scatterpolargl": [
           {
            "marker": {
             "colorbar": {
              "outlinewidth": 0,
              "ticks": ""
             }
            },
            "type": "scatterpolargl"
           }
          ],
          "scatterternary": [
           {
            "marker": {
             "colorbar": {
              "outlinewidth": 0,
              "ticks": ""
             }
            },
            "type": "scatterternary"
           }
          ],
          "surface": [
           {
            "colorbar": {
             "outlinewidth": 0,
             "ticks": ""
            },
            "colorscale": [
             [
              0,
              "#0d0887"
             ],
             [
              0.1111111111111111,
              "#46039f"
             ],
             [
              0.2222222222222222,
              "#7201a8"
             ],
             [
              0.3333333333333333,
              "#9c179e"
             ],
             [
              0.4444444444444444,
              "#bd3786"
             ],
             [
              0.5555555555555556,
              "#d8576b"
             ],
             [
              0.6666666666666666,
              "#ed7953"
             ],
             [
              0.7777777777777778,
              "#fb9f3a"
             ],
             [
              0.8888888888888888,
              "#fdca26"
             ],
             [
              1,
              "#f0f921"
             ]
            ],
            "type": "surface"
           }
          ],
          "table": [
           {
            "cells": {
             "fill": {
              "color": "#EBF0F8"
             },
             "line": {
              "color": "white"
             }
            },
            "header": {
             "fill": {
              "color": "#C8D4E3"
             },
             "line": {
              "color": "white"
             }
            },
            "type": "table"
           }
          ]
         },
         "layout": {
          "annotationdefaults": {
           "arrowcolor": "#2a3f5f",
           "arrowhead": 0,
           "arrowwidth": 1
          },
          "autotypenumbers": "strict",
          "coloraxis": {
           "colorbar": {
            "outlinewidth": 0,
            "ticks": ""
           }
          },
          "colorscale": {
           "diverging": [
            [
             0,
             "#8e0152"
            ],
            [
             0.1,
             "#c51b7d"
            ],
            [
             0.2,
             "#de77ae"
            ],
            [
             0.3,
             "#f1b6da"
            ],
            [
             0.4,
             "#fde0ef"
            ],
            [
             0.5,
             "#f7f7f7"
            ],
            [
             0.6,
             "#e6f5d0"
            ],
            [
             0.7,
             "#b8e186"
            ],
            [
             0.8,
             "#7fbc41"
            ],
            [
             0.9,
             "#4d9221"
            ],
            [
             1,
             "#276419"
            ]
           ],
           "sequential": [
            [
             0,
             "#0d0887"
            ],
            [
             0.1111111111111111,
             "#46039f"
            ],
            [
             0.2222222222222222,
             "#7201a8"
            ],
            [
             0.3333333333333333,
             "#9c179e"
            ],
            [
             0.4444444444444444,
             "#bd3786"
            ],
            [
             0.5555555555555556,
             "#d8576b"
            ],
            [
             0.6666666666666666,
             "#ed7953"
            ],
            [
             0.7777777777777778,
             "#fb9f3a"
            ],
            [
             0.8888888888888888,
             "#fdca26"
            ],
            [
             1,
             "#f0f921"
            ]
           ],
           "sequentialminus": [
            [
             0,
             "#0d0887"
            ],
            [
             0.1111111111111111,
             "#46039f"
            ],
            [
             0.2222222222222222,
             "#7201a8"
            ],
            [
             0.3333333333333333,
             "#9c179e"
            ],
            [
             0.4444444444444444,
             "#bd3786"
            ],
            [
             0.5555555555555556,
             "#d8576b"
            ],
            [
             0.6666666666666666,
             "#ed7953"
            ],
            [
             0.7777777777777778,
             "#fb9f3a"
            ],
            [
             0.8888888888888888,
             "#fdca26"
            ],
            [
             1,
             "#f0f921"
            ]
           ]
          },
          "colorway": [
           "#636efa",
           "#EF553B",
           "#00cc96",
           "#ab63fa",
           "#FFA15A",
           "#19d3f3",
           "#FF6692",
           "#B6E880",
           "#FF97FF",
           "#FECB52"
          ],
          "font": {
           "color": "#2a3f5f"
          },
          "geo": {
           "bgcolor": "white",
           "lakecolor": "white",
           "landcolor": "#E5ECF6",
           "showlakes": true,
           "showland": true,
           "subunitcolor": "white"
          },
          "hoverlabel": {
           "align": "left"
          },
          "hovermode": "closest",
          "mapbox": {
           "style": "light"
          },
          "paper_bgcolor": "white",
          "plot_bgcolor": "#E5ECF6",
          "polar": {
           "angularaxis": {
            "gridcolor": "white",
            "linecolor": "white",
            "ticks": ""
           },
           "bgcolor": "#E5ECF6",
           "radialaxis": {
            "gridcolor": "white",
            "linecolor": "white",
            "ticks": ""
           }
          },
          "scene": {
           "xaxis": {
            "backgroundcolor": "#E5ECF6",
            "gridcolor": "white",
            "gridwidth": 2,
            "linecolor": "white",
            "showbackground": true,
            "ticks": "",
            "zerolinecolor": "white"
           },
           "yaxis": {
            "backgroundcolor": "#E5ECF6",
            "gridcolor": "white",
            "gridwidth": 2,
            "linecolor": "white",
            "showbackground": true,
            "ticks": "",
            "zerolinecolor": "white"
           },
           "zaxis": {
            "backgroundcolor": "#E5ECF6",
            "gridcolor": "white",
            "gridwidth": 2,
            "linecolor": "white",
            "showbackground": true,
            "ticks": "",
            "zerolinecolor": "white"
           }
          },
          "shapedefaults": {
           "line": {
            "color": "#2a3f5f"
           }
          },
          "ternary": {
           "aaxis": {
            "gridcolor": "white",
            "linecolor": "white",
            "ticks": ""
           },
           "baxis": {
            "gridcolor": "white",
            "linecolor": "white",
            "ticks": ""
           },
           "bgcolor": "#E5ECF6",
           "caxis": {
            "gridcolor": "white",
            "linecolor": "white",
            "ticks": ""
           }
          },
          "title": {
           "x": 0.05
          },
          "xaxis": {
           "automargin": true,
           "gridcolor": "white",
           "linecolor": "white",
           "ticks": "",
           "title": {
            "standoff": 15
           },
           "zerolinecolor": "white",
           "zerolinewidth": 2
          },
          "yaxis": {
           "automargin": true,
           "gridcolor": "white",
           "linecolor": "white",
           "ticks": "",
           "title": {
            "standoff": 15
           },
           "zerolinecolor": "white",
           "zerolinewidth": 2
          }
         }
        },
        "xaxis": {
         "anchor": "y",
         "domain": [
          0,
          1
         ],
         "title": {
          "text": "simulation_time"
         }
        },
        "yaxis": {
         "anchor": "x",
         "domain": [
          0,
          1
         ],
         "title": {
          "text": "utilisation"
         }
        }
       }
      }
     },
     "metadata": {},
     "output_type": "display_data"
    },
    {
     "data": {
      "application/vnd.plotly.v1+json": {
       "config": {
        "plotlyServerURL": "https://plot.ly"
       },
       "data": [
        {
         "hovertemplate": "simulation_time=%{x}<br>utilisation=%{y}<extra></extra>",
         "legendgroup": "",
         "line": {
          "color": "#636efa",
          "dash": "solid"
         },
         "marker": {
          "symbol": "circle"
         },
         "mode": "lines",
         "name": "",
         "orientation": "v",
         "showlegend": false,
         "type": "scatter",
         "x": [
          18720,
          18840,
          18960,
          19080,
          19200,
          19320,
          19440,
          19560,
          19680,
          19800,
          19920,
          20040,
          20160,
          20280,
          20400,
          20520,
          20640,
          20760,
          20880,
          21000,
          21120,
          21240,
          21360,
          21480,
          21600,
          21720,
          21840,
          21960,
          22080,
          22200,
          22320,
          22440,
          22560,
          22680,
          22800,
          22920,
          23040,
          23160,
          23280,
          23400,
          23520,
          23640,
          23760,
          23880,
          24000,
          24120,
          24240,
          24360,
          24480,
          24600,
          24720,
          24840,
          24960,
          25080,
          25200,
          25320,
          25440,
          25560,
          25680,
          25800,
          25920,
          26040,
          26160,
          26280,
          26400,
          26520,
          26640,
          26760,
          26880,
          27000,
          27120,
          27240,
          27360,
          27480,
          27600,
          27720,
          27840,
          27960,
          28080,
          28200,
          28320,
          28440,
          28560,
          28680,
          28800,
          28920,
          29040,
          29160,
          29280,
          29400,
          29520,
          29640,
          29760,
          29880,
          30000,
          30120,
          30240,
          30360,
          30480,
          30600,
          30720,
          30840,
          30960,
          31080,
          31200,
          31320,
          31440,
          31560,
          31680,
          31800,
          31920,
          32040,
          32160,
          32280,
          32400,
          32520,
          32640,
          32760,
          32880,
          33000,
          33120,
          33240,
          33360,
          33480,
          33600,
          33720,
          33840,
          33960,
          34080,
          34200,
          34320,
          34440,
          34560,
          34680,
          34800,
          34920,
          35040,
          35160,
          35280,
          35400,
          35520,
          35640,
          35760,
          35880,
          36000,
          36120,
          36240,
          36360,
          36480,
          36600,
          36720,
          36840,
          36960,
          37080,
          37200,
          37320,
          37440,
          37560,
          37680,
          37800,
          37920,
          38040,
          38160,
          38280,
          38400,
          38520,
          38640,
          38760,
          38880,
          39000,
          39120,
          39240,
          39360,
          39480,
          39600,
          39720,
          39840,
          39960,
          40080,
          40200,
          40320,
          40440,
          40560,
          40680,
          40800,
          40920,
          41040,
          41160,
          41280,
          41400,
          41520,
          41640,
          41760,
          41880,
          42000,
          42120,
          42240,
          42360,
          42480,
          42600,
          42720,
          42840,
          42960,
          43080,
          43200,
          43320,
          43440,
          43560,
          43680,
          43800,
          43920,
          44040,
          44160,
          44280,
          44400,
          44520,
          44640,
          44760,
          44880,
          45000,
          45120,
          45240,
          45360,
          45480,
          45600,
          45720,
          45840,
          45960,
          46080,
          46200,
          46320,
          46440,
          46560,
          46680,
          46800,
          46920,
          47040,
          47160,
          47280,
          47400,
          47520,
          47640,
          47760,
          47880,
          48000,
          48120,
          48240,
          48360,
          48480,
          48600,
          48720,
          48840,
          48960,
          49080,
          49200,
          49320,
          49440,
          49560,
          49680,
          49800,
          49920,
          50040,
          50160,
          50280,
          50400,
          50520,
          50640,
          50760,
          50880,
          51000,
          51120,
          51240,
          51360,
          51480,
          51600,
          51720,
          51840,
          51960,
          52080,
          52200,
          52320,
          52440,
          52560,
          52680,
          52800,
          52920,
          53040,
          53160,
          53280,
          53400,
          53520,
          53640,
          53760,
          53880,
          54000,
          54120,
          54240,
          54360,
          54480,
          54600,
          54720,
          54840,
          54960,
          55080,
          55200,
          55320,
          55440,
          55560,
          55680,
          55800,
          55920,
          56040,
          56160,
          56280,
          56400,
          56520,
          56640,
          56760,
          56880,
          57000,
          57120,
          57240,
          57360,
          57480,
          57600,
          57720,
          57840,
          57960,
          58080,
          58200,
          58320,
          58440,
          58560,
          58680,
          58800,
          58920,
          59040,
          59160,
          59280,
          59400,
          59520,
          59640,
          59760,
          59880,
          60000,
          60120,
          60240,
          60360,
          60480,
          60600,
          60720,
          60840,
          60960,
          61080,
          61200,
          61320,
          61440,
          61560,
          61680,
          61800
         ],
         "xaxis": "x",
         "y": [
          0.6,
          0.30000000000000004,
          0.30000000000000004,
          0.30000000000000004,
          0.6,
          0.5,
          0.6,
          0.4,
          0.5,
          0.4,
          0.2,
          0.4,
          0.4,
          0.4,
          0.5,
          0.5,
          0.6,
          0.30000000000000004,
          0.6,
          0.5,
          0.30000000000000004,
          0.4,
          0.4,
          0.4,
          0.6,
          0.6,
          0.6,
          0.4,
          0.6,
          0.4,
          0.4,
          0.6,
          0.30000000000000004,
          0.4,
          0.7,
          0.6,
          0.5,
          0.6,
          0.6,
          0.6,
          0.6,
          0.4,
          0.5,
          0.4,
          0.5,
          0.6,
          0.30000000000000004,
          0.5,
          0.4,
          0.4,
          0.30000000000000004,
          0.4,
          0.4,
          0.5,
          0.5,
          0.2,
          0.4,
          0.5,
          0.4,
          0.7,
          0.5,
          0.5,
          0.6,
          0.4,
          0.5,
          0.5,
          0.30000000000000004,
          0.5,
          0.4,
          0.5,
          0.4,
          0.6,
          0.5,
          0.5,
          0.30000000000000004,
          0.6,
          0.4,
          0.4,
          0.5,
          0.4,
          0.6,
          0.30000000000000004,
          0.6,
          0.4,
          0.8,
          0.2,
          0.6,
          0.5,
          0.4,
          0.5,
          0.6,
          0.6,
          0.6,
          0.5,
          0.4,
          0.5,
          0.30000000000000004,
          0.2,
          0.6,
          0.4,
          0.4,
          0.5,
          0.7,
          0.5,
          0.5,
          0.5,
          0.5,
          0.5,
          0.6,
          0.5,
          0.4,
          0.4,
          0.7,
          0.4,
          0.8,
          0.30000000000000004,
          0.4,
          0.6,
          0.4,
          0.6,
          0.4,
          0.5,
          0.5,
          0.30000000000000004,
          0.5,
          0.6,
          0.4,
          0.5,
          0.5,
          0.30000000000000004,
          0.4,
          0.7,
          0.6,
          0.4,
          0.4,
          0.4,
          0.5,
          0.6,
          0.4,
          0.4,
          0.5,
          0.4,
          0.6,
          0.5,
          0.4,
          0.4,
          0.5,
          0.30000000000000004,
          0.6,
          0.4,
          0.4,
          0.5,
          0.4,
          0.5,
          0.4,
          0.4,
          0.6,
          0.5,
          0.7,
          0.6,
          0.4,
          0.4,
          0.9,
          0.5,
          0.4,
          0.4,
          0.6,
          0.6,
          0.6,
          0.4,
          0.7,
          0.6,
          0.4,
          0.4,
          0.8,
          0.4,
          0.30000000000000004,
          0.4,
          0.5,
          0.4,
          0.6,
          0.4,
          0.5,
          0.5,
          0.6,
          0.7,
          0.7,
          0.4,
          0.5,
          0.4,
          0.6,
          0.6,
          0.6,
          0.7,
          0.5,
          0.7,
          0.4,
          0.5,
          0.5,
          0.6,
          0.4,
          0.4,
          0.4,
          0.7,
          0.30000000000000004,
          0.5,
          0.2,
          0.4,
          0.4,
          0.30000000000000004,
          0.5,
          0.4,
          0.4,
          0.7,
          0.5,
          0.8,
          0.4,
          0.2,
          1,
          0.4,
          0.6,
          0.6,
          0.2,
          0.4,
          0.5,
          0.5,
          0.5,
          0.6,
          0.6000000000000001,
          0.6,
          0.5,
          0.6,
          0.7,
          0.30000000000000004,
          0.5,
          0.4,
          0.4,
          0.6,
          0.7,
          0.5,
          0.5,
          0.4,
          0.5,
          0.6000000000000001,
          0.4,
          0.5,
          0.5,
          0.4,
          0.5,
          0.6,
          0.6,
          0.2,
          0.8,
          0.5,
          0.7,
          0.4,
          0.4,
          0.6,
          0.4,
          0.5,
          0.4,
          0.4,
          0.5,
          0.30000000000000004,
          0.6,
          0.5,
          0.5,
          0.8,
          0.4,
          0.5,
          0.6,
          0.6,
          0.30000000000000004,
          0.4,
          0.30000000000000004,
          0.4,
          0.2,
          0.4,
          0.6,
          0.5,
          0.4,
          0.2,
          0.4,
          0.6,
          0.4,
          0.4,
          0.30000000000000004,
          0.5,
          0.5,
          0.4,
          0.6,
          0.4,
          0.4,
          0.6,
          0.4,
          0.4,
          0.6,
          0.4,
          0.4,
          0.5,
          0.5,
          0.4,
          0.4,
          0.4,
          0.4,
          0.2,
          0.5,
          0.4,
          0.6,
          0.6,
          0.6000000000000001,
          0.2,
          0.5,
          0.30000000000000004,
          0.2,
          0.4,
          0.7,
          0.6,
          0.5,
          0.4,
          0.5,
          0.4,
          0.6000000000000001,
          0.6,
          0.7,
          0.4,
          0.6,
          0.30000000000000004,
          0.5,
          0.4,
          0.4,
          0.6,
          0.4,
          0.5,
          0.6,
          0.6,
          0.4,
          0.4,
          0.5,
          0.30000000000000004,
          0.4,
          0.4,
          0.5,
          0.5,
          0.5,
          0.6,
          0.4,
          0.4,
          0.7,
          0.4,
          0.5,
          0.4,
          0.4,
          0.6,
          0.4,
          0.4,
          0.30000000000000004,
          0.5,
          0.4,
          0.4
         ],
         "yaxis": "y"
        }
       ],
       "layout": {
        "legend": {
         "tracegroupgap": 0
        },
        "margin": {
         "t": 60
        },
        "template": {
         "data": {
          "bar": [
           {
            "error_x": {
             "color": "#2a3f5f"
            },
            "error_y": {
             "color": "#2a3f5f"
            },
            "marker": {
             "line": {
              "color": "#E5ECF6",
              "width": 0.5
             },
             "pattern": {
              "fillmode": "overlay",
              "size": 10,
              "solidity": 0.2
             }
            },
            "type": "bar"
           }
          ],
          "barpolar": [
           {
            "marker": {
             "line": {
              "color": "#E5ECF6",
              "width": 0.5
             },
             "pattern": {
              "fillmode": "overlay",
              "size": 10,
              "solidity": 0.2
             }
            },
            "type": "barpolar"
           }
          ],
          "carpet": [
           {
            "aaxis": {
             "endlinecolor": "#2a3f5f",
             "gridcolor": "white",
             "linecolor": "white",
             "minorgridcolor": "white",
             "startlinecolor": "#2a3f5f"
            },
            "baxis": {
             "endlinecolor": "#2a3f5f",
             "gridcolor": "white",
             "linecolor": "white",
             "minorgridcolor": "white",
             "startlinecolor": "#2a3f5f"
            },
            "type": "carpet"
           }
          ],
          "choropleth": [
           {
            "colorbar": {
             "outlinewidth": 0,
             "ticks": ""
            },
            "type": "choropleth"
           }
          ],
          "contour": [
           {
            "colorbar": {
             "outlinewidth": 0,
             "ticks": ""
            },
            "colorscale": [
             [
              0,
              "#0d0887"
             ],
             [
              0.1111111111111111,
              "#46039f"
             ],
             [
              0.2222222222222222,
              "#7201a8"
             ],
             [
              0.3333333333333333,
              "#9c179e"
             ],
             [
              0.4444444444444444,
              "#bd3786"
             ],
             [
              0.5555555555555556,
              "#d8576b"
             ],
             [
              0.6666666666666666,
              "#ed7953"
             ],
             [
              0.7777777777777778,
              "#fb9f3a"
             ],
             [
              0.8888888888888888,
              "#fdca26"
             ],
             [
              1,
              "#f0f921"
             ]
            ],
            "type": "contour"
           }
          ],
          "contourcarpet": [
           {
            "colorbar": {
             "outlinewidth": 0,
             "ticks": ""
            },
            "type": "contourcarpet"
           }
          ],
          "heatmap": [
           {
            "colorbar": {
             "outlinewidth": 0,
             "ticks": ""
            },
            "colorscale": [
             [
              0,
              "#0d0887"
             ],
             [
              0.1111111111111111,
              "#46039f"
             ],
             [
              0.2222222222222222,
              "#7201a8"
             ],
             [
              0.3333333333333333,
              "#9c179e"
             ],
             [
              0.4444444444444444,
              "#bd3786"
             ],
             [
              0.5555555555555556,
              "#d8576b"
             ],
             [
              0.6666666666666666,
              "#ed7953"
             ],
             [
              0.7777777777777778,
              "#fb9f3a"
             ],
             [
              0.8888888888888888,
              "#fdca26"
             ],
             [
              1,
              "#f0f921"
             ]
            ],
            "type": "heatmap"
           }
          ],
          "heatmapgl": [
           {
            "colorbar": {
             "outlinewidth": 0,
             "ticks": ""
            },
            "colorscale": [
             [
              0,
              "#0d0887"
             ],
             [
              0.1111111111111111,
              "#46039f"
             ],
             [
              0.2222222222222222,
              "#7201a8"
             ],
             [
              0.3333333333333333,
              "#9c179e"
             ],
             [
              0.4444444444444444,
              "#bd3786"
             ],
             [
              0.5555555555555556,
              "#d8576b"
             ],
             [
              0.6666666666666666,
              "#ed7953"
             ],
             [
              0.7777777777777778,
              "#fb9f3a"
             ],
             [
              0.8888888888888888,
              "#fdca26"
             ],
             [
              1,
              "#f0f921"
             ]
            ],
            "type": "heatmapgl"
           }
          ],
          "histogram": [
           {
            "marker": {
             "pattern": {
              "fillmode": "overlay",
              "size": 10,
              "solidity": 0.2
             }
            },
            "type": "histogram"
           }
          ],
          "histogram2d": [
           {
            "colorbar": {
             "outlinewidth": 0,
             "ticks": ""
            },
            "colorscale": [
             [
              0,
              "#0d0887"
             ],
             [
              0.1111111111111111,
              "#46039f"
             ],
             [
              0.2222222222222222,
              "#7201a8"
             ],
             [
              0.3333333333333333,
              "#9c179e"
             ],
             [
              0.4444444444444444,
              "#bd3786"
             ],
             [
              0.5555555555555556,
              "#d8576b"
             ],
             [
              0.6666666666666666,
              "#ed7953"
             ],
             [
              0.7777777777777778,
              "#fb9f3a"
             ],
             [
              0.8888888888888888,
              "#fdca26"
             ],
             [
              1,
              "#f0f921"
             ]
            ],
            "type": "histogram2d"
           }
          ],
          "histogram2dcontour": [
           {
            "colorbar": {
             "outlinewidth": 0,
             "ticks": ""
            },
            "colorscale": [
             [
              0,
              "#0d0887"
             ],
             [
              0.1111111111111111,
              "#46039f"
             ],
             [
              0.2222222222222222,
              "#7201a8"
             ],
             [
              0.3333333333333333,
              "#9c179e"
             ],
             [
              0.4444444444444444,
              "#bd3786"
             ],
             [
              0.5555555555555556,
              "#d8576b"
             ],
             [
              0.6666666666666666,
              "#ed7953"
             ],
             [
              0.7777777777777778,
              "#fb9f3a"
             ],
             [
              0.8888888888888888,
              "#fdca26"
             ],
             [
              1,
              "#f0f921"
             ]
            ],
            "type": "histogram2dcontour"
           }
          ],
          "mesh3d": [
           {
            "colorbar": {
             "outlinewidth": 0,
             "ticks": ""
            },
            "type": "mesh3d"
           }
          ],
          "parcoords": [
           {
            "line": {
             "colorbar": {
              "outlinewidth": 0,
              "ticks": ""
             }
            },
            "type": "parcoords"
           }
          ],
          "pie": [
           {
            "automargin": true,
            "type": "pie"
           }
          ],
          "scatter": [
           {
            "fillpattern": {
             "fillmode": "overlay",
             "size": 10,
             "solidity": 0.2
            },
            "type": "scatter"
           }
          ],
          "scatter3d": [
           {
            "line": {
             "colorbar": {
              "outlinewidth": 0,
              "ticks": ""
             }
            },
            "marker": {
             "colorbar": {
              "outlinewidth": 0,
              "ticks": ""
             }
            },
            "type": "scatter3d"
           }
          ],
          "scattercarpet": [
           {
            "marker": {
             "colorbar": {
              "outlinewidth": 0,
              "ticks": ""
             }
            },
            "type": "scattercarpet"
           }
          ],
          "scattergeo": [
           {
            "marker": {
             "colorbar": {
              "outlinewidth": 0,
              "ticks": ""
             }
            },
            "type": "scattergeo"
           }
          ],
          "scattergl": [
           {
            "marker": {
             "colorbar": {
              "outlinewidth": 0,
              "ticks": ""
             }
            },
            "type": "scattergl"
           }
          ],
          "scattermapbox": [
           {
            "marker": {
             "colorbar": {
              "outlinewidth": 0,
              "ticks": ""
             }
            },
            "type": "scattermapbox"
           }
          ],
          "scatterpolar": [
           {
            "marker": {
             "colorbar": {
              "outlinewidth": 0,
              "ticks": ""
             }
            },
            "type": "scatterpolar"
           }
          ],
          "scatterpolargl": [
           {
            "marker": {
             "colorbar": {
              "outlinewidth": 0,
              "ticks": ""
             }
            },
            "type": "scatterpolargl"
           }
          ],
          "scatterternary": [
           {
            "marker": {
             "colorbar": {
              "outlinewidth": 0,
              "ticks": ""
             }
            },
            "type": "scatterternary"
           }
          ],
          "surface": [
           {
            "colorbar": {
             "outlinewidth": 0,
             "ticks": ""
            },
            "colorscale": [
             [
              0,
              "#0d0887"
             ],
             [
              0.1111111111111111,
              "#46039f"
             ],
             [
              0.2222222222222222,
              "#7201a8"
             ],
             [
              0.3333333333333333,
              "#9c179e"
             ],
             [
              0.4444444444444444,
              "#bd3786"
             ],
             [
              0.5555555555555556,
              "#d8576b"
             ],
             [
              0.6666666666666666,
              "#ed7953"
             ],
             [
              0.7777777777777778,
              "#fb9f3a"
             ],
             [
              0.8888888888888888,
              "#fdca26"
             ],
             [
              1,
              "#f0f921"
             ]
            ],
            "type": "surface"
           }
          ],
          "table": [
           {
            "cells": {
             "fill": {
              "color": "#EBF0F8"
             },
             "line": {
              "color": "white"
             }
            },
            "header": {
             "fill": {
              "color": "#C8D4E3"
             },
             "line": {
              "color": "white"
             }
            },
            "type": "table"
           }
          ]
         },
         "layout": {
          "annotationdefaults": {
           "arrowcolor": "#2a3f5f",
           "arrowhead": 0,
           "arrowwidth": 1
          },
          "autotypenumbers": "strict",
          "coloraxis": {
           "colorbar": {
            "outlinewidth": 0,
            "ticks": ""
           }
          },
          "colorscale": {
           "diverging": [
            [
             0,
             "#8e0152"
            ],
            [
             0.1,
             "#c51b7d"
            ],
            [
             0.2,
             "#de77ae"
            ],
            [
             0.3,
             "#f1b6da"
            ],
            [
             0.4,
             "#fde0ef"
            ],
            [
             0.5,
             "#f7f7f7"
            ],
            [
             0.6,
             "#e6f5d0"
            ],
            [
             0.7,
             "#b8e186"
            ],
            [
             0.8,
             "#7fbc41"
            ],
            [
             0.9,
             "#4d9221"
            ],
            [
             1,
             "#276419"
            ]
           ],
           "sequential": [
            [
             0,
             "#0d0887"
            ],
            [
             0.1111111111111111,
             "#46039f"
            ],
            [
             0.2222222222222222,
             "#7201a8"
            ],
            [
             0.3333333333333333,
             "#9c179e"
            ],
            [
             0.4444444444444444,
             "#bd3786"
            ],
            [
             0.5555555555555556,
             "#d8576b"
            ],
            [
             0.6666666666666666,
             "#ed7953"
            ],
            [
             0.7777777777777778,
             "#fb9f3a"
            ],
            [
             0.8888888888888888,
             "#fdca26"
            ],
            [
             1,
             "#f0f921"
            ]
           ],
           "sequentialminus": [
            [
             0,
             "#0d0887"
            ],
            [
             0.1111111111111111,
             "#46039f"
            ],
            [
             0.2222222222222222,
             "#7201a8"
            ],
            [
             0.3333333333333333,
             "#9c179e"
            ],
            [
             0.4444444444444444,
             "#bd3786"
            ],
            [
             0.5555555555555556,
             "#d8576b"
            ],
            [
             0.6666666666666666,
             "#ed7953"
            ],
            [
             0.7777777777777778,
             "#fb9f3a"
            ],
            [
             0.8888888888888888,
             "#fdca26"
            ],
            [
             1,
             "#f0f921"
            ]
           ]
          },
          "colorway": [
           "#636efa",
           "#EF553B",
           "#00cc96",
           "#ab63fa",
           "#FFA15A",
           "#19d3f3",
           "#FF6692",
           "#B6E880",
           "#FF97FF",
           "#FECB52"
          ],
          "font": {
           "color": "#2a3f5f"
          },
          "geo": {
           "bgcolor": "white",
           "lakecolor": "white",
           "landcolor": "#E5ECF6",
           "showlakes": true,
           "showland": true,
           "subunitcolor": "white"
          },
          "hoverlabel": {
           "align": "left"
          },
          "hovermode": "closest",
          "mapbox": {
           "style": "light"
          },
          "paper_bgcolor": "white",
          "plot_bgcolor": "#E5ECF6",
          "polar": {
           "angularaxis": {
            "gridcolor": "white",
            "linecolor": "white",
            "ticks": ""
           },
           "bgcolor": "#E5ECF6",
           "radialaxis": {
            "gridcolor": "white",
            "linecolor": "white",
            "ticks": ""
           }
          },
          "scene": {
           "xaxis": {
            "backgroundcolor": "#E5ECF6",
            "gridcolor": "white",
            "gridwidth": 2,
            "linecolor": "white",
            "showbackground": true,
            "ticks": "",
            "zerolinecolor": "white"
           },
           "yaxis": {
            "backgroundcolor": "#E5ECF6",
            "gridcolor": "white",
            "gridwidth": 2,
            "linecolor": "white",
            "showbackground": true,
            "ticks": "",
            "zerolinecolor": "white"
           },
           "zaxis": {
            "backgroundcolor": "#E5ECF6",
            "gridcolor": "white",
            "gridwidth": 2,
            "linecolor": "white",
            "showbackground": true,
            "ticks": "",
            "zerolinecolor": "white"
           }
          },
          "shapedefaults": {
           "line": {
            "color": "#2a3f5f"
           }
          },
          "ternary": {
           "aaxis": {
            "gridcolor": "white",
            "linecolor": "white",
            "ticks": ""
           },
           "baxis": {
            "gridcolor": "white",
            "linecolor": "white",
            "ticks": ""
           },
           "bgcolor": "#E5ECF6",
           "caxis": {
            "gridcolor": "white",
            "linecolor": "white",
            "ticks": ""
           }
          },
          "title": {
           "x": 0.05
          },
          "xaxis": {
           "automargin": true,
           "gridcolor": "white",
           "linecolor": "white",
           "ticks": "",
           "title": {
            "standoff": 15
           },
           "zerolinecolor": "white",
           "zerolinewidth": 2
          },
          "yaxis": {
           "automargin": true,
           "gridcolor": "white",
           "linecolor": "white",
           "ticks": "",
           "title": {
            "standoff": 15
           },
           "zerolinecolor": "white",
           "zerolinewidth": 2
          }
         }
        },
        "xaxis": {
         "anchor": "y",
         "domain": [
          0,
          1
         ],
         "title": {
          "text": "simulation_time"
         }
        },
        "yaxis": {
         "anchor": "x",
         "domain": [
          0,
          1
         ],
         "title": {
          "text": "utilisation"
         }
        }
       }
      }
     },
     "metadata": {},
     "output_type": "display_data"
    }
   ],
   "source": [
    "# Run a single trial\n",
    "single_trial = Trial(param=Defaults())\n",
    "single_trial.run_trial()\n",
    "\n",
    "# Preview results\n",
    "display(single_trial.patient_results_df)\n",
    "display(single_trial.trial_results_df)\n",
    "display(single_trial.interval_audit_df)\n",
    "\n",
    "# Plot interval audit utilisation\n",
    "fig = px.line(single_trial.interval_audit_df,\n",
    "              x='simulation_time', y='utilisation', color='run')\n",
    "fig.show()\n",
    "\n",
    "# Calculate and plot median utilisation\n",
    "interval_audits_median = (single_trial\n",
    "                          .interval_audit_df\n",
    "                          .drop('resource_name', axis=1)\n",
    "                          .groupby('simulation_time')\n",
    "                          .median()\n",
    "                          .reset_index())\n",
    "fig = px.line(interval_audits_median,\n",
    "              x='simulation_time',\n",
    "              y='utilisation')\n",
    "fig.show()\n"
   ]
  },
  {
   "cell_type": "code",
   "execution_count": 11,
   "metadata": {},
   "outputs": [
    {
     "name": "stdout",
     "output_type": "stream",
     "text": [
      "    Cores  Run Time (seconds)\n",
      "0       1              12.085\n",
      "1       2               6.442\n",
      "2       3               4.790\n",
      "3       4               3.784\n",
      "4       5               3.293\n",
      "5       6               3.140\n",
      "6       7               3.047\n",
      "7       8               2.465\n",
      "8       9               2.327\n",
      "9      10               2.293\n",
      "10     11               2.711\n",
      "11     12               2.142\n",
      "12     13               2.034\n",
      "13     14               1.973\n"
     ]
    },
    {
     "data": {
      "application/vnd.plotly.v1+json": {
       "config": {
        "plotlyServerURL": "https://plot.ly"
       },
       "data": [
        {
         "hovertemplate": "Cores=%{x}<br>Run Time (seconds)=%{y}<extra></extra>",
         "legendgroup": "",
         "line": {
          "color": "#636efa",
          "dash": "solid"
         },
         "marker": {
          "symbol": "circle"
         },
         "mode": "lines",
         "name": "",
         "orientation": "v",
         "showlegend": false,
         "type": "scatter",
         "x": [
          1,
          2,
          3,
          4,
          5,
          6,
          7,
          8,
          9,
          10,
          11,
          12,
          13,
          14
         ],
         "xaxis": "x",
         "y": [
          12.085,
          6.442,
          4.79,
          3.784,
          3.293,
          3.14,
          3.047,
          2.465,
          2.327,
          2.293,
          2.711,
          2.142,
          2.034,
          1.973
         ],
         "yaxis": "y"
        }
       ],
       "layout": {
        "legend": {
         "tracegroupgap": 0
        },
        "margin": {
         "t": 60
        },
        "template": {
         "data": {
          "bar": [
           {
            "error_x": {
             "color": "#2a3f5f"
            },
            "error_y": {
             "color": "#2a3f5f"
            },
            "marker": {
             "line": {
              "color": "#E5ECF6",
              "width": 0.5
             },
             "pattern": {
              "fillmode": "overlay",
              "size": 10,
              "solidity": 0.2
             }
            },
            "type": "bar"
           }
          ],
          "barpolar": [
           {
            "marker": {
             "line": {
              "color": "#E5ECF6",
              "width": 0.5
             },
             "pattern": {
              "fillmode": "overlay",
              "size": 10,
              "solidity": 0.2
             }
            },
            "type": "barpolar"
           }
          ],
          "carpet": [
           {
            "aaxis": {
             "endlinecolor": "#2a3f5f",
             "gridcolor": "white",
             "linecolor": "white",
             "minorgridcolor": "white",
             "startlinecolor": "#2a3f5f"
            },
            "baxis": {
             "endlinecolor": "#2a3f5f",
             "gridcolor": "white",
             "linecolor": "white",
             "minorgridcolor": "white",
             "startlinecolor": "#2a3f5f"
            },
            "type": "carpet"
           }
          ],
          "choropleth": [
           {
            "colorbar": {
             "outlinewidth": 0,
             "ticks": ""
            },
            "type": "choropleth"
           }
          ],
          "contour": [
           {
            "colorbar": {
             "outlinewidth": 0,
             "ticks": ""
            },
            "colorscale": [
             [
              0,
              "#0d0887"
             ],
             [
              0.1111111111111111,
              "#46039f"
             ],
             [
              0.2222222222222222,
              "#7201a8"
             ],
             [
              0.3333333333333333,
              "#9c179e"
             ],
             [
              0.4444444444444444,
              "#bd3786"
             ],
             [
              0.5555555555555556,
              "#d8576b"
             ],
             [
              0.6666666666666666,
              "#ed7953"
             ],
             [
              0.7777777777777778,
              "#fb9f3a"
             ],
             [
              0.8888888888888888,
              "#fdca26"
             ],
             [
              1,
              "#f0f921"
             ]
            ],
            "type": "contour"
           }
          ],
          "contourcarpet": [
           {
            "colorbar": {
             "outlinewidth": 0,
             "ticks": ""
            },
            "type": "contourcarpet"
           }
          ],
          "heatmap": [
           {
            "colorbar": {
             "outlinewidth": 0,
             "ticks": ""
            },
            "colorscale": [
             [
              0,
              "#0d0887"
             ],
             [
              0.1111111111111111,
              "#46039f"
             ],
             [
              0.2222222222222222,
              "#7201a8"
             ],
             [
              0.3333333333333333,
              "#9c179e"
             ],
             [
              0.4444444444444444,
              "#bd3786"
             ],
             [
              0.5555555555555556,
              "#d8576b"
             ],
             [
              0.6666666666666666,
              "#ed7953"
             ],
             [
              0.7777777777777778,
              "#fb9f3a"
             ],
             [
              0.8888888888888888,
              "#fdca26"
             ],
             [
              1,
              "#f0f921"
             ]
            ],
            "type": "heatmap"
           }
          ],
          "heatmapgl": [
           {
            "colorbar": {
             "outlinewidth": 0,
             "ticks": ""
            },
            "colorscale": [
             [
              0,
              "#0d0887"
             ],
             [
              0.1111111111111111,
              "#46039f"
             ],
             [
              0.2222222222222222,
              "#7201a8"
             ],
             [
              0.3333333333333333,
              "#9c179e"
             ],
             [
              0.4444444444444444,
              "#bd3786"
             ],
             [
              0.5555555555555556,
              "#d8576b"
             ],
             [
              0.6666666666666666,
              "#ed7953"
             ],
             [
              0.7777777777777778,
              "#fb9f3a"
             ],
             [
              0.8888888888888888,
              "#fdca26"
             ],
             [
              1,
              "#f0f921"
             ]
            ],
            "type": "heatmapgl"
           }
          ],
          "histogram": [
           {
            "marker": {
             "pattern": {
              "fillmode": "overlay",
              "size": 10,
              "solidity": 0.2
             }
            },
            "type": "histogram"
           }
          ],
          "histogram2d": [
           {
            "colorbar": {
             "outlinewidth": 0,
             "ticks": ""
            },
            "colorscale": [
             [
              0,
              "#0d0887"
             ],
             [
              0.1111111111111111,
              "#46039f"
             ],
             [
              0.2222222222222222,
              "#7201a8"
             ],
             [
              0.3333333333333333,
              "#9c179e"
             ],
             [
              0.4444444444444444,
              "#bd3786"
             ],
             [
              0.5555555555555556,
              "#d8576b"
             ],
             [
              0.6666666666666666,
              "#ed7953"
             ],
             [
              0.7777777777777778,
              "#fb9f3a"
             ],
             [
              0.8888888888888888,
              "#fdca26"
             ],
             [
              1,
              "#f0f921"
             ]
            ],
            "type": "histogram2d"
           }
          ],
          "histogram2dcontour": [
           {
            "colorbar": {
             "outlinewidth": 0,
             "ticks": ""
            },
            "colorscale": [
             [
              0,
              "#0d0887"
             ],
             [
              0.1111111111111111,
              "#46039f"
             ],
             [
              0.2222222222222222,
              "#7201a8"
             ],
             [
              0.3333333333333333,
              "#9c179e"
             ],
             [
              0.4444444444444444,
              "#bd3786"
             ],
             [
              0.5555555555555556,
              "#d8576b"
             ],
             [
              0.6666666666666666,
              "#ed7953"
             ],
             [
              0.7777777777777778,
              "#fb9f3a"
             ],
             [
              0.8888888888888888,
              "#fdca26"
             ],
             [
              1,
              "#f0f921"
             ]
            ],
            "type": "histogram2dcontour"
           }
          ],
          "mesh3d": [
           {
            "colorbar": {
             "outlinewidth": 0,
             "ticks": ""
            },
            "type": "mesh3d"
           }
          ],
          "parcoords": [
           {
            "line": {
             "colorbar": {
              "outlinewidth": 0,
              "ticks": ""
             }
            },
            "type": "parcoords"
           }
          ],
          "pie": [
           {
            "automargin": true,
            "type": "pie"
           }
          ],
          "scatter": [
           {
            "fillpattern": {
             "fillmode": "overlay",
             "size": 10,
             "solidity": 0.2
            },
            "type": "scatter"
           }
          ],
          "scatter3d": [
           {
            "line": {
             "colorbar": {
              "outlinewidth": 0,
              "ticks": ""
             }
            },
            "marker": {
             "colorbar": {
              "outlinewidth": 0,
              "ticks": ""
             }
            },
            "type": "scatter3d"
           }
          ],
          "scattercarpet": [
           {
            "marker": {
             "colorbar": {
              "outlinewidth": 0,
              "ticks": ""
             }
            },
            "type": "scattercarpet"
           }
          ],
          "scattergeo": [
           {
            "marker": {
             "colorbar": {
              "outlinewidth": 0,
              "ticks": ""
             }
            },
            "type": "scattergeo"
           }
          ],
          "scattergl": [
           {
            "marker": {
             "colorbar": {
              "outlinewidth": 0,
              "ticks": ""
             }
            },
            "type": "scattergl"
           }
          ],
          "scattermapbox": [
           {
            "marker": {
             "colorbar": {
              "outlinewidth": 0,
              "ticks": ""
             }
            },
            "type": "scattermapbox"
           }
          ],
          "scatterpolar": [
           {
            "marker": {
             "colorbar": {
              "outlinewidth": 0,
              "ticks": ""
             }
            },
            "type": "scatterpolar"
           }
          ],
          "scatterpolargl": [
           {
            "marker": {
             "colorbar": {
              "outlinewidth": 0,
              "ticks": ""
             }
            },
            "type": "scatterpolargl"
           }
          ],
          "scatterternary": [
           {
            "marker": {
             "colorbar": {
              "outlinewidth": 0,
              "ticks": ""
             }
            },
            "type": "scatterternary"
           }
          ],
          "surface": [
           {
            "colorbar": {
             "outlinewidth": 0,
             "ticks": ""
            },
            "colorscale": [
             [
              0,
              "#0d0887"
             ],
             [
              0.1111111111111111,
              "#46039f"
             ],
             [
              0.2222222222222222,
              "#7201a8"
             ],
             [
              0.3333333333333333,
              "#9c179e"
             ],
             [
              0.4444444444444444,
              "#bd3786"
             ],
             [
              0.5555555555555556,
              "#d8576b"
             ],
             [
              0.6666666666666666,
              "#ed7953"
             ],
             [
              0.7777777777777778,
              "#fb9f3a"
             ],
             [
              0.8888888888888888,
              "#fdca26"
             ],
             [
              1,
              "#f0f921"
             ]
            ],
            "type": "surface"
           }
          ],
          "table": [
           {
            "cells": {
             "fill": {
              "color": "#EBF0F8"
             },
             "line": {
              "color": "white"
             }
            },
            "header": {
             "fill": {
              "color": "#C8D4E3"
             },
             "line": {
              "color": "white"
             }
            },
            "type": "table"
           }
          ]
         },
         "layout": {
          "annotationdefaults": {
           "arrowcolor": "#2a3f5f",
           "arrowhead": 0,
           "arrowwidth": 1
          },
          "autotypenumbers": "strict",
          "coloraxis": {
           "colorbar": {
            "outlinewidth": 0,
            "ticks": ""
           }
          },
          "colorscale": {
           "diverging": [
            [
             0,
             "#8e0152"
            ],
            [
             0.1,
             "#c51b7d"
            ],
            [
             0.2,
             "#de77ae"
            ],
            [
             0.3,
             "#f1b6da"
            ],
            [
             0.4,
             "#fde0ef"
            ],
            [
             0.5,
             "#f7f7f7"
            ],
            [
             0.6,
             "#e6f5d0"
            ],
            [
             0.7,
             "#b8e186"
            ],
            [
             0.8,
             "#7fbc41"
            ],
            [
             0.9,
             "#4d9221"
            ],
            [
             1,
             "#276419"
            ]
           ],
           "sequential": [
            [
             0,
             "#0d0887"
            ],
            [
             0.1111111111111111,
             "#46039f"
            ],
            [
             0.2222222222222222,
             "#7201a8"
            ],
            [
             0.3333333333333333,
             "#9c179e"
            ],
            [
             0.4444444444444444,
             "#bd3786"
            ],
            [
             0.5555555555555556,
             "#d8576b"
            ],
            [
             0.6666666666666666,
             "#ed7953"
            ],
            [
             0.7777777777777778,
             "#fb9f3a"
            ],
            [
             0.8888888888888888,
             "#fdca26"
            ],
            [
             1,
             "#f0f921"
            ]
           ],
           "sequentialminus": [
            [
             0,
             "#0d0887"
            ],
            [
             0.1111111111111111,
             "#46039f"
            ],
            [
             0.2222222222222222,
             "#7201a8"
            ],
            [
             0.3333333333333333,
             "#9c179e"
            ],
            [
             0.4444444444444444,
             "#bd3786"
            ],
            [
             0.5555555555555556,
             "#d8576b"
            ],
            [
             0.6666666666666666,
             "#ed7953"
            ],
            [
             0.7777777777777778,
             "#fb9f3a"
            ],
            [
             0.8888888888888888,
             "#fdca26"
            ],
            [
             1,
             "#f0f921"
            ]
           ]
          },
          "colorway": [
           "#636efa",
           "#EF553B",
           "#00cc96",
           "#ab63fa",
           "#FFA15A",
           "#19d3f3",
           "#FF6692",
           "#B6E880",
           "#FF97FF",
           "#FECB52"
          ],
          "font": {
           "color": "#2a3f5f"
          },
          "geo": {
           "bgcolor": "white",
           "lakecolor": "white",
           "landcolor": "#E5ECF6",
           "showlakes": true,
           "showland": true,
           "subunitcolor": "white"
          },
          "hoverlabel": {
           "align": "left"
          },
          "hovermode": "closest",
          "mapbox": {
           "style": "light"
          },
          "paper_bgcolor": "white",
          "plot_bgcolor": "#E5ECF6",
          "polar": {
           "angularaxis": {
            "gridcolor": "white",
            "linecolor": "white",
            "ticks": ""
           },
           "bgcolor": "#E5ECF6",
           "radialaxis": {
            "gridcolor": "white",
            "linecolor": "white",
            "ticks": ""
           }
          },
          "scene": {
           "xaxis": {
            "backgroundcolor": "#E5ECF6",
            "gridcolor": "white",
            "gridwidth": 2,
            "linecolor": "white",
            "showbackground": true,
            "ticks": "",
            "zerolinecolor": "white"
           },
           "yaxis": {
            "backgroundcolor": "#E5ECF6",
            "gridcolor": "white",
            "gridwidth": 2,
            "linecolor": "white",
            "showbackground": true,
            "ticks": "",
            "zerolinecolor": "white"
           },
           "zaxis": {
            "backgroundcolor": "#E5ECF6",
            "gridcolor": "white",
            "gridwidth": 2,
            "linecolor": "white",
            "showbackground": true,
            "ticks": "",
            "zerolinecolor": "white"
           }
          },
          "shapedefaults": {
           "line": {
            "color": "#2a3f5f"
           }
          },
          "ternary": {
           "aaxis": {
            "gridcolor": "white",
            "linecolor": "white",
            "ticks": ""
           },
           "baxis": {
            "gridcolor": "white",
            "linecolor": "white",
            "ticks": ""
           },
           "bgcolor": "#E5ECF6",
           "caxis": {
            "gridcolor": "white",
            "linecolor": "white",
            "ticks": ""
           }
          },
          "title": {
           "x": 0.05
          },
          "xaxis": {
           "automargin": true,
           "gridcolor": "white",
           "linecolor": "white",
           "ticks": "",
           "title": {
            "standoff": 15
           },
           "zerolinecolor": "white",
           "zerolinewidth": 2
          },
          "yaxis": {
           "automargin": true,
           "gridcolor": "white",
           "linecolor": "white",
           "ticks": "",
           "title": {
            "standoff": 15
           },
           "zerolinecolor": "white",
           "zerolinewidth": 2
          }
         }
        },
        "xaxis": {
         "anchor": "y",
         "domain": [
          0,
          1
         ],
         "title": {
          "text": "Cores"
         }
        },
        "yaxis": {
         "anchor": "x",
         "domain": [
          0,
          1
         ],
         "title": {
          "text": "Run Time (seconds)"
         }
        }
       }
      }
     },
     "metadata": {},
     "output_type": "display_data"
    }
   ],
   "source": [
    "# Run with 1 to 14 cores\n",
    "speed = []\n",
    "param=Defaults()\n",
    "param.number_of_runs = 100\n",
    "for i in range(1, 15, 1):\n",
    "    start_time = time.time()\n",
    "    my_trial = Trial(param)\n",
    "    my_trial.run_trial(cores=i)\n",
    "    run_time = round((time.time() - start_time), 3)\n",
    "    speed.append({'Cores': i, 'Run Time (seconds)': run_time})\n",
    "\n",
    "# Display and plot time by number of cores\n",
    "timing_results = pd.DataFrame(speed)\n",
    "print(timing_results)\n",
    "fig = px.line(timing_results, x='Cores', y='Run Time (seconds)')\n",
    "fig.show()"
   ]
  },
  {
   "cell_type": "code",
   "execution_count": 12,
   "metadata": {},
   "outputs": [
    {
     "name": "stdout",
     "output_type": "stream",
     "text": [
      "There are 27 scenarios. For example:\n"
     ]
    },
    {
     "data": {
      "text/plain": [
       "[{'patient_inter': 5, 'mean_n_consult_time': 15, 'number_of_nurses': 3},\n",
       " {'patient_inter': 5, 'mean_n_consult_time': 15, 'number_of_nurses': 6},\n",
       " {'patient_inter': 5, 'mean_n_consult_time': 15, 'number_of_nurses': 9},\n",
       " {'patient_inter': 5, 'mean_n_consult_time': 20, 'number_of_nurses': 3},\n",
       " {'patient_inter': 5, 'mean_n_consult_time': 20, 'number_of_nurses': 6},\n",
       " {'patient_inter': 5, 'mean_n_consult_time': 20, 'number_of_nurses': 9}]"
      ]
     },
     "metadata": {},
     "output_type": "display_data"
    },
    {
     "data": {
      "text/html": [
       "<div>\n",
       "<style scoped>\n",
       "    .dataframe tbody tr th:only-of-type {\n",
       "        vertical-align: middle;\n",
       "    }\n",
       "\n",
       "    .dataframe tbody tr th {\n",
       "        vertical-align: top;\n",
       "    }\n",
       "\n",
       "    .dataframe thead th {\n",
       "        text-align: right;\n",
       "    }\n",
       "</style>\n",
       "<table border=\"1\" class=\"dataframe\">\n",
       "  <thead>\n",
       "    <tr style=\"text-align: right;\">\n",
       "      <th></th>\n",
       "      <th>arrivals</th>\n",
       "      <th>mean_q_time_nurse</th>\n",
       "      <th>mean_time_with_nurse</th>\n",
       "      <th>average_nurse_utilisation</th>\n",
       "    </tr>\n",
       "    <tr>\n",
       "      <th>scenario</th>\n",
       "      <th></th>\n",
       "      <th></th>\n",
       "      <th></th>\n",
       "      <th></th>\n",
       "    </tr>\n",
       "  </thead>\n",
       "  <tbody>\n",
       "    <tr>\n",
       "      <th>0</th>\n",
       "      <td>8675.0</td>\n",
       "      <td>438.223177</td>\n",
       "      <td>14.973316</td>\n",
       "      <td>0.997347</td>\n",
       "    </tr>\n",
       "    <tr>\n",
       "      <th>1</th>\n",
       "      <td>8675.0</td>\n",
       "      <td>0.499985</td>\n",
       "      <td>14.973353</td>\n",
       "      <td>0.500730</td>\n",
       "    </tr>\n",
       "    <tr>\n",
       "      <th>2</th>\n",
       "      <td>8675.0</td>\n",
       "      <td>0.014008</td>\n",
       "      <td>14.973171</td>\n",
       "      <td>0.333867</td>\n",
       "    </tr>\n",
       "    <tr>\n",
       "      <th>3</th>\n",
       "      <td>8675.0</td>\n",
       "      <td>11071.520375</td>\n",
       "      <td>19.900799</td>\n",
       "      <td>0.999506</td>\n",
       "    </tr>\n",
       "    <tr>\n",
       "      <th>4</th>\n",
       "      <td>8675.0</td>\n",
       "      <td>2.986440</td>\n",
       "      <td>19.963676</td>\n",
       "      <td>0.667406</td>\n",
       "    </tr>\n",
       "    <tr>\n",
       "      <th>5</th>\n",
       "      <td>8675.0</td>\n",
       "      <td>0.101103</td>\n",
       "      <td>19.963760</td>\n",
       "      <td>0.445021</td>\n",
       "    </tr>\n",
       "    <tr>\n",
       "      <th>6</th>\n",
       "      <td>8675.0</td>\n",
       "      <td>30438.035146</td>\n",
       "      <td>34.722447</td>\n",
       "      <td>0.999212</td>\n",
       "    </tr>\n",
       "    <tr>\n",
       "      <th>7</th>\n",
       "      <td>8675.0</td>\n",
       "      <td>6177.665586</td>\n",
       "      <td>34.798605</td>\n",
       "      <td>0.999169</td>\n",
       "    </tr>\n",
       "    <tr>\n",
       "      <th>8</th>\n",
       "      <td>8675.0</td>\n",
       "      <td>7.109108</td>\n",
       "      <td>34.934277</td>\n",
       "      <td>0.778212</td>\n",
       "    </tr>\n",
       "    <tr>\n",
       "      <th>9</th>\n",
       "      <td>4333.4</td>\n",
       "      <td>2.510245</td>\n",
       "      <td>15.038254</td>\n",
       "      <td>0.502613</td>\n",
       "    </tr>\n",
       "    <tr>\n",
       "      <th>10</th>\n",
       "      <td>4333.4</td>\n",
       "      <td>0.016694</td>\n",
       "      <td>15.038254</td>\n",
       "      <td>0.251300</td>\n",
       "    </tr>\n",
       "    <tr>\n",
       "      <th>11</th>\n",
       "      <td>4333.4</td>\n",
       "      <td>0.000000</td>\n",
       "      <td>15.038254</td>\n",
       "      <td>0.167533</td>\n",
       "    </tr>\n",
       "    <tr>\n",
       "      <th>12</th>\n",
       "      <td>4333.4</td>\n",
       "      <td>9.205828</td>\n",
       "      <td>20.051006</td>\n",
       "      <td>0.670273</td>\n",
       "    </tr>\n",
       "    <tr>\n",
       "      <th>13</th>\n",
       "      <td>4333.4</td>\n",
       "      <td>0.103445</td>\n",
       "      <td>20.051006</td>\n",
       "      <td>0.335056</td>\n",
       "    </tr>\n",
       "    <tr>\n",
       "      <th>14</th>\n",
       "      <td>4333.4</td>\n",
       "      <td>0.000483</td>\n",
       "      <td>20.051006</td>\n",
       "      <td>0.223371</td>\n",
       "    </tr>\n",
       "    <tr>\n",
       "      <th>15</th>\n",
       "      <td>4333.4</td>\n",
       "      <td>6274.910999</td>\n",
       "      <td>34.866368</td>\n",
       "      <td>0.999018</td>\n",
       "    </tr>\n",
       "    <tr>\n",
       "      <th>16</th>\n",
       "      <td>4333.4</td>\n",
       "      <td>2.774465</td>\n",
       "      <td>35.089260</td>\n",
       "      <td>0.586238</td>\n",
       "    </tr>\n",
       "    <tr>\n",
       "      <th>17</th>\n",
       "      <td>4333.4</td>\n",
       "      <td>0.086401</td>\n",
       "      <td>35.089260</td>\n",
       "      <td>0.390827</td>\n",
       "    </tr>\n",
       "    <tr>\n",
       "      <th>18</th>\n",
       "      <td>2891.2</td>\n",
       "      <td>0.746971</td>\n",
       "      <td>14.957773</td>\n",
       "      <td>0.333516</td>\n",
       "    </tr>\n",
       "    <tr>\n",
       "      <th>19</th>\n",
       "      <td>2891.2</td>\n",
       "      <td>0.000724</td>\n",
       "      <td>14.957773</td>\n",
       "      <td>0.166758</td>\n",
       "    </tr>\n",
       "  </tbody>\n",
       "</table>\n",
       "</div>"
      ],
      "text/plain": [
       "          arrivals  mean_q_time_nurse  mean_time_with_nurse  \\\n",
       "scenario                                                      \n",
       "0           8675.0         438.223177             14.973316   \n",
       "1           8675.0           0.499985             14.973353   \n",
       "2           8675.0           0.014008             14.973171   \n",
       "3           8675.0       11071.520375             19.900799   \n",
       "4           8675.0           2.986440             19.963676   \n",
       "5           8675.0           0.101103             19.963760   \n",
       "6           8675.0       30438.035146             34.722447   \n",
       "7           8675.0        6177.665586             34.798605   \n",
       "8           8675.0           7.109108             34.934277   \n",
       "9           4333.4           2.510245             15.038254   \n",
       "10          4333.4           0.016694             15.038254   \n",
       "11          4333.4           0.000000             15.038254   \n",
       "12          4333.4           9.205828             20.051006   \n",
       "13          4333.4           0.103445             20.051006   \n",
       "14          4333.4           0.000483             20.051006   \n",
       "15          4333.4        6274.910999             34.866368   \n",
       "16          4333.4           2.774465             35.089260   \n",
       "17          4333.4           0.086401             35.089260   \n",
       "18          2891.2           0.746971             14.957773   \n",
       "19          2891.2           0.000724             14.957773   \n",
       "\n",
       "          average_nurse_utilisation  \n",
       "scenario                             \n",
       "0                          0.997347  \n",
       "1                          0.500730  \n",
       "2                          0.333867  \n",
       "3                          0.999506  \n",
       "4                          0.667406  \n",
       "5                          0.445021  \n",
       "6                          0.999212  \n",
       "7                          0.999169  \n",
       "8                          0.778212  \n",
       "9                          0.502613  \n",
       "10                         0.251300  \n",
       "11                         0.167533  \n",
       "12                         0.670273  \n",
       "13                         0.335056  \n",
       "14                         0.223371  \n",
       "15                         0.999018  \n",
       "16                         0.586238  \n",
       "17                         0.390827  \n",
       "18                         0.333516  \n",
       "19                         0.166758  "
      ]
     },
     "metadata": {},
     "output_type": "display_data"
    }
   ],
   "source": [
    "# TODO: Alter how this runs so fresh Defaults() each time\n",
    "\n",
    "# Define a set of scenarios\n",
    "param = Defaults()\n",
    "param.number_of_runs = 5\n",
    "scenarios = {\n",
    "    'patient_inter': [5, 10, 15],\n",
    "    'mean_n_consult_time': [15, 20, 35],\n",
    "    'number_of_nurses': [3, 6, 9]\n",
    "}\n",
    "\n",
    "# Find every possible permutation of the scenarios\n",
    "all_scenarios_tuples = list(itertools.product(*scenarios.values()))\n",
    "# Convert back into dictionaries\n",
    "all_scenarios_dicts = [\n",
    "    dict(zip(scenarios.keys(), p)) for p in all_scenarios_tuples]\n",
    "# Preview some of the scenarios\n",
    "print(f'There are {len(all_scenarios_dicts)} scenarios. For example:')\n",
    "display(all_scenarios_dicts[0:6])\n",
    "\n",
    "# Run the scenarios...\n",
    "results = []\n",
    "for index, scenario_to_run in enumerate(all_scenarios_dicts):\n",
    "    # Overwrite defaults from the passed dictionary\n",
    "    param.scenario_name = index\n",
    "    for key in scenario_to_run:\n",
    "        setattr(param, key, scenario_to_run[key])\n",
    "    # Run trial and keep trial-level results\n",
    "    my_trial = Trial(param)\n",
    "    my_trial.run_trial()\n",
    "    results.append(my_trial.trial_results_df)\n",
    "# View mean results by scenario\n",
    "display(pd.concat(results)\n",
    "        .drop('run_number', axis=1)\n",
    "        .groupby('scenario')\n",
    "        .mean()\n",
    "        .head(20))\n",
    "\n",
    "# TODO: Issue: warm-up patients use resources but their activity is excluded\n",
    "# from metrics. Post-warm-up patients queue behind these, making it look\n",
    "# like resources are under-utilised during the measurement period if there are\n",
    "# long queues (e.g. due to really short inter-arrival times)"
   ]
  }
 ],
 "metadata": {
  "kernelspec": {
   "display_name": "template-des",
   "language": "python",
   "name": "python3"
  },
  "language_info": {
   "codemirror_mode": {
    "name": "ipython",
    "version": 3
   },
   "file_extension": ".py",
   "mimetype": "text/x-python",
   "name": "python",
   "nbconvert_exporter": "python",
   "pygments_lexer": "ipython3",
   "version": "3.13.0"
  }
 },
 "nbformat": 4,
 "nbformat_minor": 2
}
