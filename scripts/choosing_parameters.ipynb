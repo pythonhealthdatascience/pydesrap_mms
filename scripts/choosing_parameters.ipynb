{
 "cells": [
  {
   "cell_type": "markdown",
   "metadata": {},
   "source": [
    "# Choosing parameters\n",
    "\n",
    "This notebook documents the choice of simulation parameters including:\n",
    "\n",
    "* Length of warm-up period\n",
    "* Number of replications\n",
    "* Number of CPU cores\n",
    "* Sampling distributions\n",
    "\n",
    "Credit:\n",
    "\n",
    "* Code for choice of warm-up period, replication number and distributions was adapted from Tom Monks (2024) [HPDM097 - Making a difference with health data](https://github.com/health-data-science-OR/stochastic_systems) (MIT License).\n",
    "* Code for running the model with a varying number of CPU cores was adapted from Sammi Rosser and Dan Chalk (2024) [HSMA - the\n",
    "    little book of DES](https://github.com/hsma-programme/hsma6_des_book) (MIT License).\n",
    "\n",
    "License:\n",
    "\n",
    "* This project is licensed under the MIT License. See the `LICENSE` file for more details."
   ]
  },
  {
   "cell_type": "markdown",
   "metadata": {},
   "source": [
    "## Set-up\n",
    "\n",
    "Load `.ipynb` linters, and load required packages."
   ]
  },
  {
   "cell_type": "code",
   "execution_count": 1,
   "metadata": {},
   "outputs": [],
   "source": [
    "%load_ext pycodestyle_magic"
   ]
  },
  {
   "cell_type": "code",
   "execution_count": 2,
   "metadata": {},
   "outputs": [],
   "source": [
    "%pycodestyle_on"
   ]
  },
  {
   "cell_type": "code",
   "execution_count": 3,
   "metadata": {},
   "outputs": [],
   "source": [
    "from simulation.model import Defaults, Trial, summary_stats\n",
    "import time\n",
    "from IPython.display import display\n",
    "import pandas as pd\n",
    "import plotly.express as px\n",
    "import warnings"
   ]
  },
  {
   "cell_type": "markdown",
   "metadata": {},
   "source": [
    "## Choosing length of warm-up period\n",
    "\n",
    "A suitable length for the warm-up period can be determined using the **time series inspection approach**. This involves looking at performance measures over time to identify when the system is exhibiting **steady state behaviour** (even though the system will never truly reach a \"steady state\").\n",
    "\n",
    "If we simply plot the mean result at regular intervals, this would vary too much. Therefore, we plot the **cumulative mean** of the performance measure, and look for the point at which this **smoothes out and stabilises**. This indicates the point for the warm-up period to end.\n",
    "\n",
    "This should be assessed when running the model using the base case parameters. If these change, you should reassess the appropriate warm-up period."
   ]
  },
  {
   "cell_type": "code",
   "execution_count": 4,
   "metadata": {},
   "outputs": [],
   "source": [
    "def time_series_inspection(data_collection_period, warm_up=None):\n",
    "    \"\"\"\n",
    "    Time series inspection method for determining length of warm-up.\n",
    "\n",
    "    Arguments:\n",
    "        data_collection_period (float):\n",
    "            Length of time to run the simulation for.\n",
    "        warm_up (float, optional):\n",
    "            Location on X axis to plot vertical red line indicating the chosen\n",
    "            warm-up period. Defaults to None, which will not plot a line.\n",
    "    \"\"\"\n",
    "    # Use default parameters, but with no warm-up and specified run length,\n",
    "    # and with no replications\n",
    "    param = Defaults()\n",
    "    param.warm_up_period = 0\n",
    "    param.data_collection_period = data_collection_period\n",
    "    param.number_of_runs = 1\n",
    "    # display(param.__dict__)\n",
    "\n",
    "    # Run model\n",
    "    choose_warmup = Trial(param)\n",
    "    choose_warmup.run_trial()\n",
    "\n",
    "    # Filter to nurse results\n",
    "    nurse = choose_warmup.interval_audit_df[\n",
    "        choose_warmup.interval_audit_df['resource_name'] == 'nurse']\n",
    "\n",
    "    # Define columns to analyse\n",
    "    plot = {\n",
    "        'utilisation': 'Cumulative mean nurse utilisation',\n",
    "        'running_mean_wait_time': 'Running mean nurse wait time'\n",
    "    }\n",
    "    for var, label in plot.items():\n",
    "        # Reformat so index is simulation time and columns are each run\n",
    "        reformat = (\n",
    "            nurse[['simulation_time', var, 'run']]\n",
    "            .pivot(index='simulation_time',\n",
    "                   columns='run',\n",
    "                   values=var))\n",
    "\n",
    "        # For utilisation, calculate cumulative mean (not necessary\n",
    "        # for wait time as that is already a running mean)\n",
    "        if var == 'utilisation':\n",
    "            cumulative = reformat.expanding().mean()\n",
    "        elif var == 'running_mean_wait_time':\n",
    "            cumulative = reformat.copy()\n",
    "\n",
    "        # Create plot. If specified, add vertical line to indicate suggested\n",
    "        # warm-up length\n",
    "        fig = px.line(cumulative)\n",
    "        fig.update_layout(\n",
    "            xaxis_title='Run time (minutes)',\n",
    "            yaxis_title=label,\n",
    "            showlegend=False\n",
    "        )\n",
    "        if warm_up is not None:\n",
    "            fig.add_vline(x=warm_up, line_color='red', line_dash='dash')\n",
    "        fig.show()"
   ]
  },
  {
   "cell_type": "markdown",
   "metadata": {},
   "source": [
    "Having run the model for three days, it appears to reach a steady state at around 2500 minutes."
   ]
  },
  {
   "cell_type": "code",
   "execution_count": 5,
   "metadata": {},
   "outputs": [
    {
     "data": {
      "application/vnd.plotly.v1+json": {
       "config": {
        "plotlyServerURL": "https://plot.ly"
       },
       "data": [
        {
         "hovertemplate": "run=0<br>simulation_time=%{x}<br>value=%{y}<extra></extra>",
         "legendgroup": "0",
         "line": {
          "color": "#636efa",
          "dash": "solid"
         },
         "marker": {
          "symbol": "circle"
         },
         "mode": "lines",
         "name": "0",
         "orientation": "v",
         "showlegend": true,
         "type": "scatter",
         "x": [
          0,
          120,
          240,
          360,
          480,
          600,
          720,
          840,
          960,
          1080,
          1200,
          1320,
          1440,
          1560,
          1680,
          1800,
          1920,
          2040,
          2160,
          2280,
          2400,
          2520,
          2640,
          2760,
          2880,
          3000,
          3120,
          3240,
          3360,
          3480,
          3600,
          3720,
          3840,
          3960,
          4080,
          4200
         ],
         "xaxis": "x",
         "y": [
          0,
          0.3,
          0.39999999999999997,
          0.35,
          0.32,
          0.26666666666666666,
          0.2571428571428572,
          0.25,
          0.26666666666666666,
          0.27999999999999997,
          0.29090909090909095,
          0.2833333333333333,
          0.3384615384615385,
          0.35714285714285715,
          0.3466666666666667,
          0.3875,
          0.3764705882352941,
          0.37777777777777777,
          0.38947368421052636,
          0.39,
          0.4,
          0.4090909090909091,
          0.39999999999999997,
          0.39999999999999997,
          0.4,
          0.4,
          0.4148148148148148,
          0.39999999999999997,
          0.40689655172413797,
          0.42,
          0.4258064516129032,
          0.41875,
          0.4303030303030303,
          0.4294117647058823,
          0.4342857142857143,
          0.4222222222222222
         ],
         "yaxis": "y"
        }
       ],
       "layout": {
        "legend": {
         "title": {
          "text": "run"
         },
         "tracegroupgap": 0
        },
        "margin": {
         "t": 60
        },
        "shapes": [
         {
          "line": {
           "color": "red",
           "dash": "dash"
          },
          "type": "line",
          "x0": 2520,
          "x1": 2520,
          "xref": "x",
          "y0": 0,
          "y1": 1,
          "yref": "y domain"
         }
        ],
        "showlegend": false,
        "template": {
         "data": {
          "bar": [
           {
            "error_x": {
             "color": "#2a3f5f"
            },
            "error_y": {
             "color": "#2a3f5f"
            },
            "marker": {
             "line": {
              "color": "#E5ECF6",
              "width": 0.5
             },
             "pattern": {
              "fillmode": "overlay",
              "size": 10,
              "solidity": 0.2
             }
            },
            "type": "bar"
           }
          ],
          "barpolar": [
           {
            "marker": {
             "line": {
              "color": "#E5ECF6",
              "width": 0.5
             },
             "pattern": {
              "fillmode": "overlay",
              "size": 10,
              "solidity": 0.2
             }
            },
            "type": "barpolar"
           }
          ],
          "carpet": [
           {
            "aaxis": {
             "endlinecolor": "#2a3f5f",
             "gridcolor": "white",
             "linecolor": "white",
             "minorgridcolor": "white",
             "startlinecolor": "#2a3f5f"
            },
            "baxis": {
             "endlinecolor": "#2a3f5f",
             "gridcolor": "white",
             "linecolor": "white",
             "minorgridcolor": "white",
             "startlinecolor": "#2a3f5f"
            },
            "type": "carpet"
           }
          ],
          "choropleth": [
           {
            "colorbar": {
             "outlinewidth": 0,
             "ticks": ""
            },
            "type": "choropleth"
           }
          ],
          "contour": [
           {
            "colorbar": {
             "outlinewidth": 0,
             "ticks": ""
            },
            "colorscale": [
             [
              0,
              "#0d0887"
             ],
             [
              0.1111111111111111,
              "#46039f"
             ],
             [
              0.2222222222222222,
              "#7201a8"
             ],
             [
              0.3333333333333333,
              "#9c179e"
             ],
             [
              0.4444444444444444,
              "#bd3786"
             ],
             [
              0.5555555555555556,
              "#d8576b"
             ],
             [
              0.6666666666666666,
              "#ed7953"
             ],
             [
              0.7777777777777778,
              "#fb9f3a"
             ],
             [
              0.8888888888888888,
              "#fdca26"
             ],
             [
              1,
              "#f0f921"
             ]
            ],
            "type": "contour"
           }
          ],
          "contourcarpet": [
           {
            "colorbar": {
             "outlinewidth": 0,
             "ticks": ""
            },
            "type": "contourcarpet"
           }
          ],
          "heatmap": [
           {
            "colorbar": {
             "outlinewidth": 0,
             "ticks": ""
            },
            "colorscale": [
             [
              0,
              "#0d0887"
             ],
             [
              0.1111111111111111,
              "#46039f"
             ],
             [
              0.2222222222222222,
              "#7201a8"
             ],
             [
              0.3333333333333333,
              "#9c179e"
             ],
             [
              0.4444444444444444,
              "#bd3786"
             ],
             [
              0.5555555555555556,
              "#d8576b"
             ],
             [
              0.6666666666666666,
              "#ed7953"
             ],
             [
              0.7777777777777778,
              "#fb9f3a"
             ],
             [
              0.8888888888888888,
              "#fdca26"
             ],
             [
              1,
              "#f0f921"
             ]
            ],
            "type": "heatmap"
           }
          ],
          "heatmapgl": [
           {
            "colorbar": {
             "outlinewidth": 0,
             "ticks": ""
            },
            "colorscale": [
             [
              0,
              "#0d0887"
             ],
             [
              0.1111111111111111,
              "#46039f"
             ],
             [
              0.2222222222222222,
              "#7201a8"
             ],
             [
              0.3333333333333333,
              "#9c179e"
             ],
             [
              0.4444444444444444,
              "#bd3786"
             ],
             [
              0.5555555555555556,
              "#d8576b"
             ],
             [
              0.6666666666666666,
              "#ed7953"
             ],
             [
              0.7777777777777778,
              "#fb9f3a"
             ],
             [
              0.8888888888888888,
              "#fdca26"
             ],
             [
              1,
              "#f0f921"
             ]
            ],
            "type": "heatmapgl"
           }
          ],
          "histogram": [
           {
            "marker": {
             "pattern": {
              "fillmode": "overlay",
              "size": 10,
              "solidity": 0.2
             }
            },
            "type": "histogram"
           }
          ],
          "histogram2d": [
           {
            "colorbar": {
             "outlinewidth": 0,
             "ticks": ""
            },
            "colorscale": [
             [
              0,
              "#0d0887"
             ],
             [
              0.1111111111111111,
              "#46039f"
             ],
             [
              0.2222222222222222,
              "#7201a8"
             ],
             [
              0.3333333333333333,
              "#9c179e"
             ],
             [
              0.4444444444444444,
              "#bd3786"
             ],
             [
              0.5555555555555556,
              "#d8576b"
             ],
             [
              0.6666666666666666,
              "#ed7953"
             ],
             [
              0.7777777777777778,
              "#fb9f3a"
             ],
             [
              0.8888888888888888,
              "#fdca26"
             ],
             [
              1,
              "#f0f921"
             ]
            ],
            "type": "histogram2d"
           }
          ],
          "histogram2dcontour": [
           {
            "colorbar": {
             "outlinewidth": 0,
             "ticks": ""
            },
            "colorscale": [
             [
              0,
              "#0d0887"
             ],
             [
              0.1111111111111111,
              "#46039f"
             ],
             [
              0.2222222222222222,
              "#7201a8"
             ],
             [
              0.3333333333333333,
              "#9c179e"
             ],
             [
              0.4444444444444444,
              "#bd3786"
             ],
             [
              0.5555555555555556,
              "#d8576b"
             ],
             [
              0.6666666666666666,
              "#ed7953"
             ],
             [
              0.7777777777777778,
              "#fb9f3a"
             ],
             [
              0.8888888888888888,
              "#fdca26"
             ],
             [
              1,
              "#f0f921"
             ]
            ],
            "type": "histogram2dcontour"
           }
          ],
          "mesh3d": [
           {
            "colorbar": {
             "outlinewidth": 0,
             "ticks": ""
            },
            "type": "mesh3d"
           }
          ],
          "parcoords": [
           {
            "line": {
             "colorbar": {
              "outlinewidth": 0,
              "ticks": ""
             }
            },
            "type": "parcoords"
           }
          ],
          "pie": [
           {
            "automargin": true,
            "type": "pie"
           }
          ],
          "scatter": [
           {
            "fillpattern": {
             "fillmode": "overlay",
             "size": 10,
             "solidity": 0.2
            },
            "type": "scatter"
           }
          ],
          "scatter3d": [
           {
            "line": {
             "colorbar": {
              "outlinewidth": 0,
              "ticks": ""
             }
            },
            "marker": {
             "colorbar": {
              "outlinewidth": 0,
              "ticks": ""
             }
            },
            "type": "scatter3d"
           }
          ],
          "scattercarpet": [
           {
            "marker": {
             "colorbar": {
              "outlinewidth": 0,
              "ticks": ""
             }
            },
            "type": "scattercarpet"
           }
          ],
          "scattergeo": [
           {
            "marker": {
             "colorbar": {
              "outlinewidth": 0,
              "ticks": ""
             }
            },
            "type": "scattergeo"
           }
          ],
          "scattergl": [
           {
            "marker": {
             "colorbar": {
              "outlinewidth": 0,
              "ticks": ""
             }
            },
            "type": "scattergl"
           }
          ],
          "scattermapbox": [
           {
            "marker": {
             "colorbar": {
              "outlinewidth": 0,
              "ticks": ""
             }
            },
            "type": "scattermapbox"
           }
          ],
          "scatterpolar": [
           {
            "marker": {
             "colorbar": {
              "outlinewidth": 0,
              "ticks": ""
             }
            },
            "type": "scatterpolar"
           }
          ],
          "scatterpolargl": [
           {
            "marker": {
             "colorbar": {
              "outlinewidth": 0,
              "ticks": ""
             }
            },
            "type": "scatterpolargl"
           }
          ],
          "scatterternary": [
           {
            "marker": {
             "colorbar": {
              "outlinewidth": 0,
              "ticks": ""
             }
            },
            "type": "scatterternary"
           }
          ],
          "surface": [
           {
            "colorbar": {
             "outlinewidth": 0,
             "ticks": ""
            },
            "colorscale": [
             [
              0,
              "#0d0887"
             ],
             [
              0.1111111111111111,
              "#46039f"
             ],
             [
              0.2222222222222222,
              "#7201a8"
             ],
             [
              0.3333333333333333,
              "#9c179e"
             ],
             [
              0.4444444444444444,
              "#bd3786"
             ],
             [
              0.5555555555555556,
              "#d8576b"
             ],
             [
              0.6666666666666666,
              "#ed7953"
             ],
             [
              0.7777777777777778,
              "#fb9f3a"
             ],
             [
              0.8888888888888888,
              "#fdca26"
             ],
             [
              1,
              "#f0f921"
             ]
            ],
            "type": "surface"
           }
          ],
          "table": [
           {
            "cells": {
             "fill": {
              "color": "#EBF0F8"
             },
             "line": {
              "color": "white"
             }
            },
            "header": {
             "fill": {
              "color": "#C8D4E3"
             },
             "line": {
              "color": "white"
             }
            },
            "type": "table"
           }
          ]
         },
         "layout": {
          "annotationdefaults": {
           "arrowcolor": "#2a3f5f",
           "arrowhead": 0,
           "arrowwidth": 1
          },
          "autotypenumbers": "strict",
          "coloraxis": {
           "colorbar": {
            "outlinewidth": 0,
            "ticks": ""
           }
          },
          "colorscale": {
           "diverging": [
            [
             0,
             "#8e0152"
            ],
            [
             0.1,
             "#c51b7d"
            ],
            [
             0.2,
             "#de77ae"
            ],
            [
             0.3,
             "#f1b6da"
            ],
            [
             0.4,
             "#fde0ef"
            ],
            [
             0.5,
             "#f7f7f7"
            ],
            [
             0.6,
             "#e6f5d0"
            ],
            [
             0.7,
             "#b8e186"
            ],
            [
             0.8,
             "#7fbc41"
            ],
            [
             0.9,
             "#4d9221"
            ],
            [
             1,
             "#276419"
            ]
           ],
           "sequential": [
            [
             0,
             "#0d0887"
            ],
            [
             0.1111111111111111,
             "#46039f"
            ],
            [
             0.2222222222222222,
             "#7201a8"
            ],
            [
             0.3333333333333333,
             "#9c179e"
            ],
            [
             0.4444444444444444,
             "#bd3786"
            ],
            [
             0.5555555555555556,
             "#d8576b"
            ],
            [
             0.6666666666666666,
             "#ed7953"
            ],
            [
             0.7777777777777778,
             "#fb9f3a"
            ],
            [
             0.8888888888888888,
             "#fdca26"
            ],
            [
             1,
             "#f0f921"
            ]
           ],
           "sequentialminus": [
            [
             0,
             "#0d0887"
            ],
            [
             0.1111111111111111,
             "#46039f"
            ],
            [
             0.2222222222222222,
             "#7201a8"
            ],
            [
             0.3333333333333333,
             "#9c179e"
            ],
            [
             0.4444444444444444,
             "#bd3786"
            ],
            [
             0.5555555555555556,
             "#d8576b"
            ],
            [
             0.6666666666666666,
             "#ed7953"
            ],
            [
             0.7777777777777778,
             "#fb9f3a"
            ],
            [
             0.8888888888888888,
             "#fdca26"
            ],
            [
             1,
             "#f0f921"
            ]
           ]
          },
          "colorway": [
           "#636efa",
           "#EF553B",
           "#00cc96",
           "#ab63fa",
           "#FFA15A",
           "#19d3f3",
           "#FF6692",
           "#B6E880",
           "#FF97FF",
           "#FECB52"
          ],
          "font": {
           "color": "#2a3f5f"
          },
          "geo": {
           "bgcolor": "white",
           "lakecolor": "white",
           "landcolor": "#E5ECF6",
           "showlakes": true,
           "showland": true,
           "subunitcolor": "white"
          },
          "hoverlabel": {
           "align": "left"
          },
          "hovermode": "closest",
          "mapbox": {
           "style": "light"
          },
          "paper_bgcolor": "white",
          "plot_bgcolor": "#E5ECF6",
          "polar": {
           "angularaxis": {
            "gridcolor": "white",
            "linecolor": "white",
            "ticks": ""
           },
           "bgcolor": "#E5ECF6",
           "radialaxis": {
            "gridcolor": "white",
            "linecolor": "white",
            "ticks": ""
           }
          },
          "scene": {
           "xaxis": {
            "backgroundcolor": "#E5ECF6",
            "gridcolor": "white",
            "gridwidth": 2,
            "linecolor": "white",
            "showbackground": true,
            "ticks": "",
            "zerolinecolor": "white"
           },
           "yaxis": {
            "backgroundcolor": "#E5ECF6",
            "gridcolor": "white",
            "gridwidth": 2,
            "linecolor": "white",
            "showbackground": true,
            "ticks": "",
            "zerolinecolor": "white"
           },
           "zaxis": {
            "backgroundcolor": "#E5ECF6",
            "gridcolor": "white",
            "gridwidth": 2,
            "linecolor": "white",
            "showbackground": true,
            "ticks": "",
            "zerolinecolor": "white"
           }
          },
          "shapedefaults": {
           "line": {
            "color": "#2a3f5f"
           }
          },
          "ternary": {
           "aaxis": {
            "gridcolor": "white",
            "linecolor": "white",
            "ticks": ""
           },
           "baxis": {
            "gridcolor": "white",
            "linecolor": "white",
            "ticks": ""
           },
           "bgcolor": "#E5ECF6",
           "caxis": {
            "gridcolor": "white",
            "linecolor": "white",
            "ticks": ""
           }
          },
          "title": {
           "x": 0.05
          },
          "xaxis": {
           "automargin": true,
           "gridcolor": "white",
           "linecolor": "white",
           "ticks": "",
           "title": {
            "standoff": 15
           },
           "zerolinecolor": "white",
           "zerolinewidth": 2
          },
          "yaxis": {
           "automargin": true,
           "gridcolor": "white",
           "linecolor": "white",
           "ticks": "",
           "title": {
            "standoff": 15
           },
           "zerolinecolor": "white",
           "zerolinewidth": 2
          }
         }
        },
        "xaxis": {
         "anchor": "y",
         "domain": [
          0,
          1
         ],
         "title": {
          "text": "Run time (minutes)"
         }
        },
        "yaxis": {
         "anchor": "x",
         "domain": [
          0,
          1
         ],
         "title": {
          "text": "Cumulative mean nurse utilisation"
         }
        }
       }
      }
     },
     "metadata": {},
     "output_type": "display_data"
    },
    {
     "data": {
      "application/vnd.plotly.v1+json": {
       "config": {
        "plotlyServerURL": "https://plot.ly"
       },
       "data": [
        {
         "hovertemplate": "run=0<br>simulation_time=%{x}<br>value=%{y}<extra></extra>",
         "legendgroup": "0",
         "line": {
          "color": "#636efa",
          "dash": "solid"
         },
         "marker": {
          "symbol": "circle"
         },
         "mode": "lines",
         "name": "0",
         "orientation": "v",
         "showlegend": true,
         "type": "scatter",
         "x": [
          0,
          120,
          240,
          360,
          480,
          600,
          720,
          840,
          960,
          1080,
          1200,
          1320,
          1440,
          1560,
          1680,
          1800,
          1920,
          2040,
          2160,
          2280,
          2400,
          2520,
          2640,
          2760,
          2880,
          3000,
          3120,
          3240,
          3360,
          3480,
          3600,
          3720,
          3840,
          3960,
          4080,
          4200
         ],
         "xaxis": "x",
         "y": [
          0,
          0.1850812125177364,
          0.27293124698759036,
          0.16748053792420323,
          0.12815902032460771,
          0.10757873968853933,
          0.7775449421583632,
          0.6405489285399849,
          0.5855465140647299,
          0.5957191187844486,
          0.548688662038308,
          0.5817940262693283,
          0.5353593851431566,
          0.4954821346023178,
          0.47245100669119877,
          0.4868107775118521,
          0.46015274287212593,
          0.44014610187768555,
          0.4227129753701152,
          0.4000169766925251,
          0.3857768901436003,
          0.4124383536388688,
          0.3977084124374807,
          0.37748595078811714,
          0.45739615362189323,
          0.44211042098157305,
          0.44090411421823766,
          0.428276788751367,
          0.412287664630186,
          0.4016807112895885,
          0.4117119594328106,
          0.40236404193605335,
          0.3973051982695963,
          0.4218534759267196,
          0.40954103826584787,
          0.401190803936053
         ],
         "yaxis": "y"
        }
       ],
       "layout": {
        "legend": {
         "title": {
          "text": "run"
         },
         "tracegroupgap": 0
        },
        "margin": {
         "t": 60
        },
        "shapes": [
         {
          "line": {
           "color": "red",
           "dash": "dash"
          },
          "type": "line",
          "x0": 2520,
          "x1": 2520,
          "xref": "x",
          "y0": 0,
          "y1": 1,
          "yref": "y domain"
         }
        ],
        "showlegend": false,
        "template": {
         "data": {
          "bar": [
           {
            "error_x": {
             "color": "#2a3f5f"
            },
            "error_y": {
             "color": "#2a3f5f"
            },
            "marker": {
             "line": {
              "color": "#E5ECF6",
              "width": 0.5
             },
             "pattern": {
              "fillmode": "overlay",
              "size": 10,
              "solidity": 0.2
             }
            },
            "type": "bar"
           }
          ],
          "barpolar": [
           {
            "marker": {
             "line": {
              "color": "#E5ECF6",
              "width": 0.5
             },
             "pattern": {
              "fillmode": "overlay",
              "size": 10,
              "solidity": 0.2
             }
            },
            "type": "barpolar"
           }
          ],
          "carpet": [
           {
            "aaxis": {
             "endlinecolor": "#2a3f5f",
             "gridcolor": "white",
             "linecolor": "white",
             "minorgridcolor": "white",
             "startlinecolor": "#2a3f5f"
            },
            "baxis": {
             "endlinecolor": "#2a3f5f",
             "gridcolor": "white",
             "linecolor": "white",
             "minorgridcolor": "white",
             "startlinecolor": "#2a3f5f"
            },
            "type": "carpet"
           }
          ],
          "choropleth": [
           {
            "colorbar": {
             "outlinewidth": 0,
             "ticks": ""
            },
            "type": "choropleth"
           }
          ],
          "contour": [
           {
            "colorbar": {
             "outlinewidth": 0,
             "ticks": ""
            },
            "colorscale": [
             [
              0,
              "#0d0887"
             ],
             [
              0.1111111111111111,
              "#46039f"
             ],
             [
              0.2222222222222222,
              "#7201a8"
             ],
             [
              0.3333333333333333,
              "#9c179e"
             ],
             [
              0.4444444444444444,
              "#bd3786"
             ],
             [
              0.5555555555555556,
              "#d8576b"
             ],
             [
              0.6666666666666666,
              "#ed7953"
             ],
             [
              0.7777777777777778,
              "#fb9f3a"
             ],
             [
              0.8888888888888888,
              "#fdca26"
             ],
             [
              1,
              "#f0f921"
             ]
            ],
            "type": "contour"
           }
          ],
          "contourcarpet": [
           {
            "colorbar": {
             "outlinewidth": 0,
             "ticks": ""
            },
            "type": "contourcarpet"
           }
          ],
          "heatmap": [
           {
            "colorbar": {
             "outlinewidth": 0,
             "ticks": ""
            },
            "colorscale": [
             [
              0,
              "#0d0887"
             ],
             [
              0.1111111111111111,
              "#46039f"
             ],
             [
              0.2222222222222222,
              "#7201a8"
             ],
             [
              0.3333333333333333,
              "#9c179e"
             ],
             [
              0.4444444444444444,
              "#bd3786"
             ],
             [
              0.5555555555555556,
              "#d8576b"
             ],
             [
              0.6666666666666666,
              "#ed7953"
             ],
             [
              0.7777777777777778,
              "#fb9f3a"
             ],
             [
              0.8888888888888888,
              "#fdca26"
             ],
             [
              1,
              "#f0f921"
             ]
            ],
            "type": "heatmap"
           }
          ],
          "heatmapgl": [
           {
            "colorbar": {
             "outlinewidth": 0,
             "ticks": ""
            },
            "colorscale": [
             [
              0,
              "#0d0887"
             ],
             [
              0.1111111111111111,
              "#46039f"
             ],
             [
              0.2222222222222222,
              "#7201a8"
             ],
             [
              0.3333333333333333,
              "#9c179e"
             ],
             [
              0.4444444444444444,
              "#bd3786"
             ],
             [
              0.5555555555555556,
              "#d8576b"
             ],
             [
              0.6666666666666666,
              "#ed7953"
             ],
             [
              0.7777777777777778,
              "#fb9f3a"
             ],
             [
              0.8888888888888888,
              "#fdca26"
             ],
             [
              1,
              "#f0f921"
             ]
            ],
            "type": "heatmapgl"
           }
          ],
          "histogram": [
           {
            "marker": {
             "pattern": {
              "fillmode": "overlay",
              "size": 10,
              "solidity": 0.2
             }
            },
            "type": "histogram"
           }
          ],
          "histogram2d": [
           {
            "colorbar": {
             "outlinewidth": 0,
             "ticks": ""
            },
            "colorscale": [
             [
              0,
              "#0d0887"
             ],
             [
              0.1111111111111111,
              "#46039f"
             ],
             [
              0.2222222222222222,
              "#7201a8"
             ],
             [
              0.3333333333333333,
              "#9c179e"
             ],
             [
              0.4444444444444444,
              "#bd3786"
             ],
             [
              0.5555555555555556,
              "#d8576b"
             ],
             [
              0.6666666666666666,
              "#ed7953"
             ],
             [
              0.7777777777777778,
              "#fb9f3a"
             ],
             [
              0.8888888888888888,
              "#fdca26"
             ],
             [
              1,
              "#f0f921"
             ]
            ],
            "type": "histogram2d"
           }
          ],
          "histogram2dcontour": [
           {
            "colorbar": {
             "outlinewidth": 0,
             "ticks": ""
            },
            "colorscale": [
             [
              0,
              "#0d0887"
             ],
             [
              0.1111111111111111,
              "#46039f"
             ],
             [
              0.2222222222222222,
              "#7201a8"
             ],
             [
              0.3333333333333333,
              "#9c179e"
             ],
             [
              0.4444444444444444,
              "#bd3786"
             ],
             [
              0.5555555555555556,
              "#d8576b"
             ],
             [
              0.6666666666666666,
              "#ed7953"
             ],
             [
              0.7777777777777778,
              "#fb9f3a"
             ],
             [
              0.8888888888888888,
              "#fdca26"
             ],
             [
              1,
              "#f0f921"
             ]
            ],
            "type": "histogram2dcontour"
           }
          ],
          "mesh3d": [
           {
            "colorbar": {
             "outlinewidth": 0,
             "ticks": ""
            },
            "type": "mesh3d"
           }
          ],
          "parcoords": [
           {
            "line": {
             "colorbar": {
              "outlinewidth": 0,
              "ticks": ""
             }
            },
            "type": "parcoords"
           }
          ],
          "pie": [
           {
            "automargin": true,
            "type": "pie"
           }
          ],
          "scatter": [
           {
            "fillpattern": {
             "fillmode": "overlay",
             "size": 10,
             "solidity": 0.2
            },
            "type": "scatter"
           }
          ],
          "scatter3d": [
           {
            "line": {
             "colorbar": {
              "outlinewidth": 0,
              "ticks": ""
             }
            },
            "marker": {
             "colorbar": {
              "outlinewidth": 0,
              "ticks": ""
             }
            },
            "type": "scatter3d"
           }
          ],
          "scattercarpet": [
           {
            "marker": {
             "colorbar": {
              "outlinewidth": 0,
              "ticks": ""
             }
            },
            "type": "scattercarpet"
           }
          ],
          "scattergeo": [
           {
            "marker": {
             "colorbar": {
              "outlinewidth": 0,
              "ticks": ""
             }
            },
            "type": "scattergeo"
           }
          ],
          "scattergl": [
           {
            "marker": {
             "colorbar": {
              "outlinewidth": 0,
              "ticks": ""
             }
            },
            "type": "scattergl"
           }
          ],
          "scattermapbox": [
           {
            "marker": {
             "colorbar": {
              "outlinewidth": 0,
              "ticks": ""
             }
            },
            "type": "scattermapbox"
           }
          ],
          "scatterpolar": [
           {
            "marker": {
             "colorbar": {
              "outlinewidth": 0,
              "ticks": ""
             }
            },
            "type": "scatterpolar"
           }
          ],
          "scatterpolargl": [
           {
            "marker": {
             "colorbar": {
              "outlinewidth": 0,
              "ticks": ""
             }
            },
            "type": "scatterpolargl"
           }
          ],
          "scatterternary": [
           {
            "marker": {
             "colorbar": {
              "outlinewidth": 0,
              "ticks": ""
             }
            },
            "type": "scatterternary"
           }
          ],
          "surface": [
           {
            "colorbar": {
             "outlinewidth": 0,
             "ticks": ""
            },
            "colorscale": [
             [
              0,
              "#0d0887"
             ],
             [
              0.1111111111111111,
              "#46039f"
             ],
             [
              0.2222222222222222,
              "#7201a8"
             ],
             [
              0.3333333333333333,
              "#9c179e"
             ],
             [
              0.4444444444444444,
              "#bd3786"
             ],
             [
              0.5555555555555556,
              "#d8576b"
             ],
             [
              0.6666666666666666,
              "#ed7953"
             ],
             [
              0.7777777777777778,
              "#fb9f3a"
             ],
             [
              0.8888888888888888,
              "#fdca26"
             ],
             [
              1,
              "#f0f921"
             ]
            ],
            "type": "surface"
           }
          ],
          "table": [
           {
            "cells": {
             "fill": {
              "color": "#EBF0F8"
             },
             "line": {
              "color": "white"
             }
            },
            "header": {
             "fill": {
              "color": "#C8D4E3"
             },
             "line": {
              "color": "white"
             }
            },
            "type": "table"
           }
          ]
         },
         "layout": {
          "annotationdefaults": {
           "arrowcolor": "#2a3f5f",
           "arrowhead": 0,
           "arrowwidth": 1
          },
          "autotypenumbers": "strict",
          "coloraxis": {
           "colorbar": {
            "outlinewidth": 0,
            "ticks": ""
           }
          },
          "colorscale": {
           "diverging": [
            [
             0,
             "#8e0152"
            ],
            [
             0.1,
             "#c51b7d"
            ],
            [
             0.2,
             "#de77ae"
            ],
            [
             0.3,
             "#f1b6da"
            ],
            [
             0.4,
             "#fde0ef"
            ],
            [
             0.5,
             "#f7f7f7"
            ],
            [
             0.6,
             "#e6f5d0"
            ],
            [
             0.7,
             "#b8e186"
            ],
            [
             0.8,
             "#7fbc41"
            ],
            [
             0.9,
             "#4d9221"
            ],
            [
             1,
             "#276419"
            ]
           ],
           "sequential": [
            [
             0,
             "#0d0887"
            ],
            [
             0.1111111111111111,
             "#46039f"
            ],
            [
             0.2222222222222222,
             "#7201a8"
            ],
            [
             0.3333333333333333,
             "#9c179e"
            ],
            [
             0.4444444444444444,
             "#bd3786"
            ],
            [
             0.5555555555555556,
             "#d8576b"
            ],
            [
             0.6666666666666666,
             "#ed7953"
            ],
            [
             0.7777777777777778,
             "#fb9f3a"
            ],
            [
             0.8888888888888888,
             "#fdca26"
            ],
            [
             1,
             "#f0f921"
            ]
           ],
           "sequentialminus": [
            [
             0,
             "#0d0887"
            ],
            [
             0.1111111111111111,
             "#46039f"
            ],
            [
             0.2222222222222222,
             "#7201a8"
            ],
            [
             0.3333333333333333,
             "#9c179e"
            ],
            [
             0.4444444444444444,
             "#bd3786"
            ],
            [
             0.5555555555555556,
             "#d8576b"
            ],
            [
             0.6666666666666666,
             "#ed7953"
            ],
            [
             0.7777777777777778,
             "#fb9f3a"
            ],
            [
             0.8888888888888888,
             "#fdca26"
            ],
            [
             1,
             "#f0f921"
            ]
           ]
          },
          "colorway": [
           "#636efa",
           "#EF553B",
           "#00cc96",
           "#ab63fa",
           "#FFA15A",
           "#19d3f3",
           "#FF6692",
           "#B6E880",
           "#FF97FF",
           "#FECB52"
          ],
          "font": {
           "color": "#2a3f5f"
          },
          "geo": {
           "bgcolor": "white",
           "lakecolor": "white",
           "landcolor": "#E5ECF6",
           "showlakes": true,
           "showland": true,
           "subunitcolor": "white"
          },
          "hoverlabel": {
           "align": "left"
          },
          "hovermode": "closest",
          "mapbox": {
           "style": "light"
          },
          "paper_bgcolor": "white",
          "plot_bgcolor": "#E5ECF6",
          "polar": {
           "angularaxis": {
            "gridcolor": "white",
            "linecolor": "white",
            "ticks": ""
           },
           "bgcolor": "#E5ECF6",
           "radialaxis": {
            "gridcolor": "white",
            "linecolor": "white",
            "ticks": ""
           }
          },
          "scene": {
           "xaxis": {
            "backgroundcolor": "#E5ECF6",
            "gridcolor": "white",
            "gridwidth": 2,
            "linecolor": "white",
            "showbackground": true,
            "ticks": "",
            "zerolinecolor": "white"
           },
           "yaxis": {
            "backgroundcolor": "#E5ECF6",
            "gridcolor": "white",
            "gridwidth": 2,
            "linecolor": "white",
            "showbackground": true,
            "ticks": "",
            "zerolinecolor": "white"
           },
           "zaxis": {
            "backgroundcolor": "#E5ECF6",
            "gridcolor": "white",
            "gridwidth": 2,
            "linecolor": "white",
            "showbackground": true,
            "ticks": "",
            "zerolinecolor": "white"
           }
          },
          "shapedefaults": {
           "line": {
            "color": "#2a3f5f"
           }
          },
          "ternary": {
           "aaxis": {
            "gridcolor": "white",
            "linecolor": "white",
            "ticks": ""
           },
           "baxis": {
            "gridcolor": "white",
            "linecolor": "white",
            "ticks": ""
           },
           "bgcolor": "#E5ECF6",
           "caxis": {
            "gridcolor": "white",
            "linecolor": "white",
            "ticks": ""
           }
          },
          "title": {
           "x": 0.05
          },
          "xaxis": {
           "automargin": true,
           "gridcolor": "white",
           "linecolor": "white",
           "ticks": "",
           "title": {
            "standoff": 15
           },
           "zerolinecolor": "white",
           "zerolinewidth": 2
          },
          "yaxis": {
           "automargin": true,
           "gridcolor": "white",
           "linecolor": "white",
           "ticks": "",
           "title": {
            "standoff": 15
           },
           "zerolinecolor": "white",
           "zerolinewidth": 2
          }
         }
        },
        "xaxis": {
         "anchor": "y",
         "domain": [
          0,
          1
         ],
         "title": {
          "text": "Run time (minutes)"
         }
        },
        "yaxis": {
         "anchor": "x",
         "domain": [
          0,
          1
         ],
         "title": {
          "text": "Running mean nurse wait time"
         }
        }
       }
      }
     },
     "metadata": {},
     "output_type": "display_data"
    }
   ],
   "source": [
    "time_series_inspection(data_collection_period=1440*3, warm_up=2520)"
   ]
  },
  {
   "cell_type": "markdown",
   "metadata": {},
   "source": [
    "However, it is important to look far ahead - so we run it for more days, and find actually a later warm-up is more appropriate."
   ]
  },
  {
   "cell_type": "code",
   "execution_count": 6,
   "metadata": {},
   "outputs": [
    {
     "data": {
      "application/vnd.plotly.v1+json": {
       "config": {
        "plotlyServerURL": "https://plot.ly"
       },
       "data": [
        {
         "hovertemplate": "run=0<br>simulation_time=%{x}<br>value=%{y}<extra></extra>",
         "legendgroup": "0",
         "line": {
          "color": "#636efa",
          "dash": "solid"
         },
         "marker": {
          "symbol": "circle"
         },
         "mode": "lines",
         "name": "0",
         "orientation": "v",
         "showlegend": true,
         "type": "scatter",
         "x": [
          0,
          120,
          240,
          360,
          480,
          600,
          720,
          840,
          960,
          1080,
          1200,
          1320,
          1440,
          1560,
          1680,
          1800,
          1920,
          2040,
          2160,
          2280,
          2400,
          2520,
          2640,
          2760,
          2880,
          3000,
          3120,
          3240,
          3360,
          3480,
          3600,
          3720,
          3840,
          3960,
          4080,
          4200,
          4320,
          4440,
          4560,
          4680,
          4800,
          4920,
          5040,
          5160,
          5280,
          5400,
          5520,
          5640,
          5760,
          5880,
          6000,
          6120,
          6240,
          6360,
          6480,
          6600,
          6720,
          6840,
          6960,
          7080,
          7200,
          7320,
          7440,
          7560,
          7680,
          7800,
          7920,
          8040,
          8160,
          8280,
          8400,
          8520,
          8640,
          8760,
          8880,
          9000,
          9120,
          9240,
          9360,
          9480,
          9600,
          9720,
          9840,
          9960,
          10080,
          10200,
          10320,
          10440,
          10560,
          10680,
          10800,
          10920,
          11040,
          11160,
          11280,
          11400,
          11520,
          11640,
          11760,
          11880,
          12000,
          12120,
          12240,
          12360,
          12480,
          12600,
          12720,
          12840,
          12960,
          13080,
          13200,
          13320,
          13440,
          13560,
          13680,
          13800,
          13920,
          14040,
          14160,
          14280,
          14400,
          14520,
          14640,
          14760,
          14880,
          15000,
          15120,
          15240,
          15360,
          15480,
          15600,
          15720,
          15840,
          15960,
          16080,
          16200,
          16320,
          16440,
          16560,
          16680,
          16800,
          16920,
          17040,
          17160,
          17280,
          17400,
          17520,
          17640,
          17760,
          17880,
          18000,
          18120,
          18240,
          18360,
          18480,
          18600,
          18720,
          18840,
          18960,
          19080,
          19200,
          19320,
          19440,
          19560,
          19680,
          19800,
          19920,
          20040,
          20160,
          20280,
          20400,
          20520,
          20640,
          20760,
          20880,
          21000,
          21120,
          21240,
          21360,
          21480,
          21600,
          21720,
          21840,
          21960,
          22080,
          22200,
          22320,
          22440,
          22560,
          22680,
          22800,
          22920,
          23040,
          23160,
          23280,
          23400,
          23520,
          23640,
          23760,
          23880,
          24000,
          24120,
          24240,
          24360,
          24480,
          24600,
          24720,
          24840,
          24960,
          25080,
          25200,
          25320,
          25440,
          25560,
          25680,
          25800,
          25920,
          26040,
          26160,
          26280,
          26400,
          26520,
          26640,
          26760,
          26880,
          27000,
          27120,
          27240,
          27360,
          27480,
          27600,
          27720,
          27840,
          27960,
          28080,
          28200,
          28320,
          28440,
          28560,
          28680,
          28800,
          28920,
          29040,
          29160,
          29280,
          29400,
          29520,
          29640,
          29760,
          29880,
          30000,
          30120,
          30240,
          30360,
          30480,
          30600,
          30720,
          30840,
          30960,
          31080,
          31200,
          31320,
          31440,
          31560,
          31680,
          31800,
          31920,
          32040,
          32160,
          32280,
          32400,
          32520,
          32640,
          32760,
          32880,
          33000,
          33120,
          33240,
          33360,
          33480,
          33600,
          33720,
          33840,
          33960,
          34080,
          34200,
          34320,
          34440,
          34560,
          34680,
          34800,
          34920,
          35040,
          35160,
          35280,
          35400,
          35520,
          35640,
          35760,
          35880,
          36000,
          36120,
          36240,
          36360,
          36480,
          36600,
          36720,
          36840,
          36960,
          37080,
          37200,
          37320,
          37440,
          37560,
          37680,
          37800,
          37920,
          38040,
          38160,
          38280,
          38400,
          38520,
          38640,
          38760,
          38880,
          39000,
          39120,
          39240,
          39360,
          39480,
          39600,
          39720,
          39840,
          39960,
          40080,
          40200,
          40320,
          40440,
          40560,
          40680,
          40800,
          40920,
          41040,
          41160,
          41280,
          41400,
          41520,
          41640,
          41760,
          41880,
          42000,
          42120,
          42240,
          42360,
          42480,
          42600,
          42720,
          42840,
          42960,
          43080,
          43200,
          43320,
          43440,
          43560,
          43680,
          43800,
          43920,
          44040,
          44160,
          44280,
          44400,
          44520,
          44640,
          44760,
          44880,
          45000,
          45120,
          45240,
          45360,
          45480,
          45600,
          45720,
          45840,
          45960,
          46080,
          46200,
          46320,
          46440,
          46560,
          46680,
          46800,
          46920,
          47040,
          47160,
          47280,
          47400,
          47520,
          47640,
          47760,
          47880,
          48000,
          48120,
          48240,
          48360,
          48480,
          48600,
          48720,
          48840,
          48960,
          49080,
          49200,
          49320,
          49440,
          49560,
          49680,
          49800,
          49920,
          50040,
          50160,
          50280,
          50400,
          50520,
          50640,
          50760,
          50880,
          51000,
          51120,
          51240,
          51360,
          51480,
          51600,
          51720,
          51840,
          51960,
          52080,
          52200,
          52320,
          52440,
          52560,
          52680,
          52800,
          52920,
          53040,
          53160,
          53280,
          53400,
          53520,
          53640,
          53760,
          53880,
          54000,
          54120,
          54240,
          54360,
          54480,
          54600,
          54720,
          54840,
          54960,
          55080,
          55200,
          55320,
          55440,
          55560,
          55680,
          55800,
          55920,
          56040,
          56160,
          56280,
          56400,
          56520,
          56640,
          56760,
          56880,
          57000,
          57120,
          57240,
          57360,
          57480
         ],
         "xaxis": "x",
         "y": [
          0,
          0.3,
          0.39999999999999997,
          0.35,
          0.32,
          0.26666666666666666,
          0.2571428571428572,
          0.25,
          0.26666666666666666,
          0.27999999999999997,
          0.29090909090909095,
          0.2833333333333333,
          0.3384615384615385,
          0.35714285714285715,
          0.3466666666666667,
          0.3875,
          0.3764705882352941,
          0.37777777777777777,
          0.38947368421052636,
          0.39,
          0.4,
          0.4090909090909091,
          0.39999999999999997,
          0.39999999999999997,
          0.4,
          0.4,
          0.4148148148148148,
          0.39999999999999997,
          0.40689655172413797,
          0.42,
          0.4258064516129032,
          0.41875,
          0.4303030303030303,
          0.4294117647058823,
          0.4342857142857143,
          0.4222222222222222,
          0.43243243243243246,
          0.4263157894736842,
          0.4307692307692308,
          0.44000000000000006,
          0.43414634146341463,
          0.44761904761904764,
          0.4372093023255814,
          0.45,
          0.4444444444444444,
          0.43478260869565216,
          0.4297872340425532,
          0.4291666666666667,
          0.4244897959183674,
          0.42,
          0.4156862745098039,
          0.4153846153846154,
          0.41132075471698115,
          0.4074074074074074,
          0.41090909090909095,
          0.4035714285714286,
          0.4070175438596491,
          0.39999999999999997,
          0.4,
          0.39666666666666667,
          0.39999999999999997,
          0.3967741935483871,
          0.40634920634920635,
          0.4125,
          0.4153846153846154,
          0.4121212121212121,
          0.417910447761194,
          0.42058823529411765,
          0.42318840579710143,
          0.41714285714285715,
          0.4140845070422535,
          0.41944444444444445,
          0.41643835616438357,
          0.4135135135135135,
          0.42133333333333334,
          0.41842105263157897,
          0.4233766233766234,
          0.42051282051282046,
          0.42784810126582273,
          0.42750000000000005,
          0.4296296296296296,
          0.4268292682926829,
          0.42891566265060244,
          0.430952380952381,
          0.4329411764705882,
          0.43255813953488376,
          0.43448275862068964,
          0.43409090909090914,
          0.4337078651685393,
          0.4355555555555556,
          0.4351648351648352,
          0.43478260869565216,
          0.4344086021505376,
          0.43829787234042555,
          0.4357894736842105,
          0.4375,
          0.44329896907216493,
          0.44285714285714284,
          0.4484848484848485,
          0.45,
          0.4514851485148515,
          0.44901960784313727,
          0.44660194174757284,
          0.45000000000000007,
          0.44761904761904764,
          0.44716981132075473,
          0.4504672897196262,
          0.45,
          0.44770642201834865,
          0.4472727272727273,
          0.4486486486486487,
          0.4517857142857143,
          0.45132743362831856,
          0.4543859649122807,
          0.4504347826086957,
          0.4465517241379311,
          0.44273504273504277,
          0.4406779661016949,
          0.4403361344537815,
          0.445,
          0.4413223140495868,
          0.4426229508196721,
          0.44390243902439025,
          0.4435483870967742,
          0.448,
          0.4492063492063492,
          0.447244094488189,
          0.44375000000000003,
          0.4449612403100775,
          0.4430769230769231,
          0.44580152671755724,
          0.44696969696969696,
          0.4481203007518797,
          0.44477611940298506,
          0.442962962962963,
          0.4397058823529412,
          0.4437956204379562,
          0.4434782608695652,
          0.4474820143884892,
          0.4471428571428572,
          0.44680851063829785,
          0.4507042253521127,
          0.45174825174825173,
          0.44999999999999996,
          0.45241379310344826,
          0.4520547945205479,
          0.45306122448979586,
          0.44999999999999996,
          0.4536912751677852,
          0.456,
          0.45430463576158936,
          0.4526315789473684,
          0.45490196078431366,
          0.4584415584415584,
          0.45806451612903226,
          0.46153846153846156,
          0.46242038216560505,
          0.4620253164556962,
          0.46289308176100624,
          0.46624999999999994,
          0.4670807453416149,
          0.4666666666666666,
          0.4687116564417178,
          0.46829268292682924,
          0.4678787878787879,
          0.46746987951807223,
          0.4646706586826347,
          0.4642857142857143,
          0.4627218934911243,
          0.46352941176470586,
          0.4631578947368421,
          0.46279069767441855,
          0.4635838150289017,
          0.464367816091954,
          0.46285714285714286,
          0.4659090909090909,
          0.46440677966101696,
          0.4640449438202247,
          0.46368715083798884,
          0.46222222222222226,
          0.46519337016574586,
          0.46593406593406594,
          0.4644808743169399,
          0.46413043478260874,
          0.4616216216216216,
          0.46021505376344085,
          0.45989304812834225,
          0.4606382978723404,
          0.45925925925925926,
          0.4610526315789473,
          0.46387434554973817,
          0.465625,
          0.4683937823834197,
          0.4690721649484536,
          0.4697435897435897,
          0.46938775510204084,
          0.47005076142131974,
          0.4727272727272727,
          0.4733668341708543,
          0.475,
          0.47562189054726367,
          0.4752475247524752,
          0.4729064039408867,
          0.47352941176470587,
          0.47317073170731705,
          0.47281553398058257,
          0.4714975845410628,
          0.46923076923076923,
          0.47081339712918663,
          0.47047619047619044,
          0.46919431279620855,
          0.4679245283018868,
          0.46572769953051646,
          0.46822429906542057,
          0.4697674418604651,
          0.4722222222222222,
          0.4737327188940092,
          0.4724770642201835,
          0.4712328767123288,
          0.4709090909090909,
          0.47058823529411764,
          0.4702702702702703,
          0.47264573991031394,
          0.47053571428571433,
          0.4728888888888889,
          0.47345132743362833,
          0.47224669603524233,
          0.47192982456140353,
          0.4707423580786026,
          0.46956521739130436,
          0.4683982683982684,
          0.4706896551724138,
          0.47124463519313303,
          0.4726495726495727,
          0.47489361702127664,
          0.47288135593220343,
          0.47257383966244726,
          0.4714285714285714,
          0.4719665271966527,
          0.4741666666666667,
          0.4730290456431535,
          0.47107438016528924,
          0.471604938271605,
          0.4704918032786885,
          0.4702040816326531,
          0.4691056910569106,
          0.46963562753036436,
          0.47096774193548385,
          0.47148594377510045,
          0.47040000000000004,
          0.4717131474103586,
          0.4722222222222222,
          0.4743083003952569,
          0.4732283464566929,
          0.47137254901960784,
          0.4734375,
          0.47392996108949415,
          0.4728682170542636,
          0.4725868725868726,
          0.4723076923076923,
          0.4720306513409962,
          0.47175572519083975,
          0.4737642585551331,
          0.471969696969697,
          0.47396226415094345,
          0.47443609022556393,
          0.4749063670411985,
          0.4753731343283582,
          0.47360594795539035,
          0.47333333333333333,
          0.47453874538745383,
          0.4735294117647059,
          0.4725274725274725,
          0.47226277372262776,
          0.4741818181818182,
          0.4746376811594203,
          0.47436823104693143,
          0.47338129496402875,
          0.4731182795698925,
          0.4742857142857143,
          0.4740213523131672,
          0.475886524822695,
          0.47632508833922266,
          0.47816901408450707,
          0.47719298245614034,
          0.47692307692307695,
          0.4766550522648084,
          0.47708333333333336,
          0.47750865051903113,
          0.47586206896551725,
          0.4762886597938144,
          0.4773972602739726,
          0.4778156996587031,
          0.4768707482993197,
          0.4766101694915254,
          0.4756756756756757,
          0.47542087542087536,
          0.47516778523489933,
          0.47424749163879604,
          0.474,
          0.4750830564784053,
          0.47549668874172185,
          0.4745874587458746,
          0.47302631578947374,
          0.4727868852459016,
          0.4725490196078431,
          0.4723127035830619,
          0.4733766233766234,
          0.4737864077669903,
          0.4729032258064516,
          0.47266881028938906,
          0.4724358974358975,
          0.47348242811501595,
          0.4726114649681529,
          0.4742857142857143,
          0.47468354430379744,
          0.4744479495268139,
          0.47358490566037736,
          0.4752351097178683,
          0.47562499999999996,
          0.47538940809968844,
          0.4751552795031056,
          0.47554179566563465,
          0.47592592592592586,
          0.47692307692307695,
          0.4760736196319018,
          0.47706422018348627,
          0.4774390243902439,
          0.47598784194528876,
          0.47575757575757577,
          0.4773413897280967,
          0.4771084337349398,
          0.4762762762762763,
          0.4754491017964072,
          0.4740298507462687,
          0.4738095238095238,
          0.4741839762611276,
          0.47455621301775147,
          0.4731563421828909,
          0.4747058823529412,
          0.47448680351906164,
          0.47368421052631576,
          0.4728862973760933,
          0.47267441860465115,
          0.47130434782608693,
          0.46994219653179187,
          0.47031700288184436,
          0.4718390804597701,
          0.47048710601719196,
          0.4714285714285714,
          0.47065527065527063,
          0.4710227272727273,
          0.47138810198300285,
          0.4717514124293785,
          0.4715492957746479,
          0.4724719101123595,
          0.4722689075630252,
          0.4715083798882682,
          0.471866295264624,
          0.4722222222222222,
          0.4714681440443213,
          0.4729281767955801,
          0.4721763085399449,
          0.471978021978022,
          0.4723287671232877,
          0.4715846994535519,
          0.4708446866485014,
          0.47119565217391307,
          0.47208672086720865,
          0.47297297297297297,
          0.4738544474393531,
          0.47258064516129034,
          0.4723860589812332,
          0.47379679144385023,
          0.47519999999999996,
          0.474468085106383,
          0.47480106100795755,
          0.47460317460317464,
          0.47493403693931396,
          0.4763157894736842,
          0.4755905511811024,
          0.47591623036649217,
          0.47676240208877285,
          0.47708333333333336,
          0.47688311688311685,
          0.4782383419689119,
          0.47855297157622745,
          0.4798969072164949,
          0.47969151670951155,
          0.478974358974359,
          0.4787723785166241,
          0.47857142857142854,
          0.47938931297709925,
          0.4796954314720812,
          0.479493670886076,
          0.4808080808080808,
          0.48010075566750626,
          0.4793969849246231,
          0.47869674185463656,
          0.47800000000000004,
          0.47680798004987535,
          0.47611940298507466,
          0.47593052109181144,
          0.4747524752475248,
          0.47456790123456793,
          0.4758620689655173,
          0.47665847665847666,
          0.47794117647058826,
          0.4792176039119804,
          0.4790243902439025,
          0.4798053527980536,
          0.479126213592233,
          0.4794188861985472,
          0.4806763285024155,
          0.48048192771084336,
          0.4807692307692308,
          0.48009592326139094,
          0.48038277511961724,
          0.48019093078758956,
          0.4804761904761905,
          0.48028503562945374,
          0.48151658767772515,
          0.4813238770685579,
          0.480188679245283,
          0.48,
          0.4812206572769953,
          0.4814988290398126,
          0.48130841121495327,
          0.4811188811188811,
          0.48093023255813955,
          0.4798143851508121,
          0.4791666666666667,
          0.47852193995381065,
          0.47834101382488475,
          0.4781609195402299,
          0.4775229357798165,
          0.4778032036613273,
          0.4771689497716895,
          0.4774487471526196,
          0.47863636363636364,
          0.4789115646258504,
          0.47828054298642536,
          0.47765237020316026,
          0.4774774774774775,
          0.4782022471910113,
          0.47757847533632286,
          0.4769574944071589,
          0.4772321428571429,
          0.4770601336302896,
          0.47733333333333333,
          0.4776053215077605,
          0.47699115044247786,
          0.47770419426048566,
          0.4775330396475771,
          0.4773626373626374,
          0.4780701754385965,
          0.47921225382932164,
          0.4790393013100437,
          0.4784313725490196,
          0.4782608695652174,
          0.47852494577006505,
          0.47748917748917746,
          0.4777537796976242,
          0.47801724137931034,
          0.4791397849462366,
          0.48025751072961376,
          0.4813704496788009,
          0.4811965811965812,
          0.48059701492537316,
          0.4812765957446809,
          0.48067940552016986,
          0.48135593220338985,
          0.481183932346723,
          0.4810126582278481,
          0.48126315789473684,
          0.4810924369747899,
          0.4817610062893082,
          0.48158995815899586,
          0.4810020876826722,
          0.48041666666666666
         ],
         "yaxis": "y"
        }
       ],
       "layout": {
        "legend": {
         "title": {
          "text": "run"
         },
         "tracegroupgap": 0
        },
        "margin": {
         "t": 60
        },
        "shapes": [
         {
          "line": {
           "color": "red",
           "dash": "dash"
          },
          "type": "line",
          "x0": 18720,
          "x1": 18720,
          "xref": "x",
          "y0": 0,
          "y1": 1,
          "yref": "y domain"
         }
        ],
        "showlegend": false,
        "template": {
         "data": {
          "bar": [
           {
            "error_x": {
             "color": "#2a3f5f"
            },
            "error_y": {
             "color": "#2a3f5f"
            },
            "marker": {
             "line": {
              "color": "#E5ECF6",
              "width": 0.5
             },
             "pattern": {
              "fillmode": "overlay",
              "size": 10,
              "solidity": 0.2
             }
            },
            "type": "bar"
           }
          ],
          "barpolar": [
           {
            "marker": {
             "line": {
              "color": "#E5ECF6",
              "width": 0.5
             },
             "pattern": {
              "fillmode": "overlay",
              "size": 10,
              "solidity": 0.2
             }
            },
            "type": "barpolar"
           }
          ],
          "carpet": [
           {
            "aaxis": {
             "endlinecolor": "#2a3f5f",
             "gridcolor": "white",
             "linecolor": "white",
             "minorgridcolor": "white",
             "startlinecolor": "#2a3f5f"
            },
            "baxis": {
             "endlinecolor": "#2a3f5f",
             "gridcolor": "white",
             "linecolor": "white",
             "minorgridcolor": "white",
             "startlinecolor": "#2a3f5f"
            },
            "type": "carpet"
           }
          ],
          "choropleth": [
           {
            "colorbar": {
             "outlinewidth": 0,
             "ticks": ""
            },
            "type": "choropleth"
           }
          ],
          "contour": [
           {
            "colorbar": {
             "outlinewidth": 0,
             "ticks": ""
            },
            "colorscale": [
             [
              0,
              "#0d0887"
             ],
             [
              0.1111111111111111,
              "#46039f"
             ],
             [
              0.2222222222222222,
              "#7201a8"
             ],
             [
              0.3333333333333333,
              "#9c179e"
             ],
             [
              0.4444444444444444,
              "#bd3786"
             ],
             [
              0.5555555555555556,
              "#d8576b"
             ],
             [
              0.6666666666666666,
              "#ed7953"
             ],
             [
              0.7777777777777778,
              "#fb9f3a"
             ],
             [
              0.8888888888888888,
              "#fdca26"
             ],
             [
              1,
              "#f0f921"
             ]
            ],
            "type": "contour"
           }
          ],
          "contourcarpet": [
           {
            "colorbar": {
             "outlinewidth": 0,
             "ticks": ""
            },
            "type": "contourcarpet"
           }
          ],
          "heatmap": [
           {
            "colorbar": {
             "outlinewidth": 0,
             "ticks": ""
            },
            "colorscale": [
             [
              0,
              "#0d0887"
             ],
             [
              0.1111111111111111,
              "#46039f"
             ],
             [
              0.2222222222222222,
              "#7201a8"
             ],
             [
              0.3333333333333333,
              "#9c179e"
             ],
             [
              0.4444444444444444,
              "#bd3786"
             ],
             [
              0.5555555555555556,
              "#d8576b"
             ],
             [
              0.6666666666666666,
              "#ed7953"
             ],
             [
              0.7777777777777778,
              "#fb9f3a"
             ],
             [
              0.8888888888888888,
              "#fdca26"
             ],
             [
              1,
              "#f0f921"
             ]
            ],
            "type": "heatmap"
           }
          ],
          "heatmapgl": [
           {
            "colorbar": {
             "outlinewidth": 0,
             "ticks": ""
            },
            "colorscale": [
             [
              0,
              "#0d0887"
             ],
             [
              0.1111111111111111,
              "#46039f"
             ],
             [
              0.2222222222222222,
              "#7201a8"
             ],
             [
              0.3333333333333333,
              "#9c179e"
             ],
             [
              0.4444444444444444,
              "#bd3786"
             ],
             [
              0.5555555555555556,
              "#d8576b"
             ],
             [
              0.6666666666666666,
              "#ed7953"
             ],
             [
              0.7777777777777778,
              "#fb9f3a"
             ],
             [
              0.8888888888888888,
              "#fdca26"
             ],
             [
              1,
              "#f0f921"
             ]
            ],
            "type": "heatmapgl"
           }
          ],
          "histogram": [
           {
            "marker": {
             "pattern": {
              "fillmode": "overlay",
              "size": 10,
              "solidity": 0.2
             }
            },
            "type": "histogram"
           }
          ],
          "histogram2d": [
           {
            "colorbar": {
             "outlinewidth": 0,
             "ticks": ""
            },
            "colorscale": [
             [
              0,
              "#0d0887"
             ],
             [
              0.1111111111111111,
              "#46039f"
             ],
             [
              0.2222222222222222,
              "#7201a8"
             ],
             [
              0.3333333333333333,
              "#9c179e"
             ],
             [
              0.4444444444444444,
              "#bd3786"
             ],
             [
              0.5555555555555556,
              "#d8576b"
             ],
             [
              0.6666666666666666,
              "#ed7953"
             ],
             [
              0.7777777777777778,
              "#fb9f3a"
             ],
             [
              0.8888888888888888,
              "#fdca26"
             ],
             [
              1,
              "#f0f921"
             ]
            ],
            "type": "histogram2d"
           }
          ],
          "histogram2dcontour": [
           {
            "colorbar": {
             "outlinewidth": 0,
             "ticks": ""
            },
            "colorscale": [
             [
              0,
              "#0d0887"
             ],
             [
              0.1111111111111111,
              "#46039f"
             ],
             [
              0.2222222222222222,
              "#7201a8"
             ],
             [
              0.3333333333333333,
              "#9c179e"
             ],
             [
              0.4444444444444444,
              "#bd3786"
             ],
             [
              0.5555555555555556,
              "#d8576b"
             ],
             [
              0.6666666666666666,
              "#ed7953"
             ],
             [
              0.7777777777777778,
              "#fb9f3a"
             ],
             [
              0.8888888888888888,
              "#fdca26"
             ],
             [
              1,
              "#f0f921"
             ]
            ],
            "type": "histogram2dcontour"
           }
          ],
          "mesh3d": [
           {
            "colorbar": {
             "outlinewidth": 0,
             "ticks": ""
            },
            "type": "mesh3d"
           }
          ],
          "parcoords": [
           {
            "line": {
             "colorbar": {
              "outlinewidth": 0,
              "ticks": ""
             }
            },
            "type": "parcoords"
           }
          ],
          "pie": [
           {
            "automargin": true,
            "type": "pie"
           }
          ],
          "scatter": [
           {
            "fillpattern": {
             "fillmode": "overlay",
             "size": 10,
             "solidity": 0.2
            },
            "type": "scatter"
           }
          ],
          "scatter3d": [
           {
            "line": {
             "colorbar": {
              "outlinewidth": 0,
              "ticks": ""
             }
            },
            "marker": {
             "colorbar": {
              "outlinewidth": 0,
              "ticks": ""
             }
            },
            "type": "scatter3d"
           }
          ],
          "scattercarpet": [
           {
            "marker": {
             "colorbar": {
              "outlinewidth": 0,
              "ticks": ""
             }
            },
            "type": "scattercarpet"
           }
          ],
          "scattergeo": [
           {
            "marker": {
             "colorbar": {
              "outlinewidth": 0,
              "ticks": ""
             }
            },
            "type": "scattergeo"
           }
          ],
          "scattergl": [
           {
            "marker": {
             "colorbar": {
              "outlinewidth": 0,
              "ticks": ""
             }
            },
            "type": "scattergl"
           }
          ],
          "scattermapbox": [
           {
            "marker": {
             "colorbar": {
              "outlinewidth": 0,
              "ticks": ""
             }
            },
            "type": "scattermapbox"
           }
          ],
          "scatterpolar": [
           {
            "marker": {
             "colorbar": {
              "outlinewidth": 0,
              "ticks": ""
             }
            },
            "type": "scatterpolar"
           }
          ],
          "scatterpolargl": [
           {
            "marker": {
             "colorbar": {
              "outlinewidth": 0,
              "ticks": ""
             }
            },
            "type": "scatterpolargl"
           }
          ],
          "scatterternary": [
           {
            "marker": {
             "colorbar": {
              "outlinewidth": 0,
              "ticks": ""
             }
            },
            "type": "scatterternary"
           }
          ],
          "surface": [
           {
            "colorbar": {
             "outlinewidth": 0,
             "ticks": ""
            },
            "colorscale": [
             [
              0,
              "#0d0887"
             ],
             [
              0.1111111111111111,
              "#46039f"
             ],
             [
              0.2222222222222222,
              "#7201a8"
             ],
             [
              0.3333333333333333,
              "#9c179e"
             ],
             [
              0.4444444444444444,
              "#bd3786"
             ],
             [
              0.5555555555555556,
              "#d8576b"
             ],
             [
              0.6666666666666666,
              "#ed7953"
             ],
             [
              0.7777777777777778,
              "#fb9f3a"
             ],
             [
              0.8888888888888888,
              "#fdca26"
             ],
             [
              1,
              "#f0f921"
             ]
            ],
            "type": "surface"
           }
          ],
          "table": [
           {
            "cells": {
             "fill": {
              "color": "#EBF0F8"
             },
             "line": {
              "color": "white"
             }
            },
            "header": {
             "fill": {
              "color": "#C8D4E3"
             },
             "line": {
              "color": "white"
             }
            },
            "type": "table"
           }
          ]
         },
         "layout": {
          "annotationdefaults": {
           "arrowcolor": "#2a3f5f",
           "arrowhead": 0,
           "arrowwidth": 1
          },
          "autotypenumbers": "strict",
          "coloraxis": {
           "colorbar": {
            "outlinewidth": 0,
            "ticks": ""
           }
          },
          "colorscale": {
           "diverging": [
            [
             0,
             "#8e0152"
            ],
            [
             0.1,
             "#c51b7d"
            ],
            [
             0.2,
             "#de77ae"
            ],
            [
             0.3,
             "#f1b6da"
            ],
            [
             0.4,
             "#fde0ef"
            ],
            [
             0.5,
             "#f7f7f7"
            ],
            [
             0.6,
             "#e6f5d0"
            ],
            [
             0.7,
             "#b8e186"
            ],
            [
             0.8,
             "#7fbc41"
            ],
            [
             0.9,
             "#4d9221"
            ],
            [
             1,
             "#276419"
            ]
           ],
           "sequential": [
            [
             0,
             "#0d0887"
            ],
            [
             0.1111111111111111,
             "#46039f"
            ],
            [
             0.2222222222222222,
             "#7201a8"
            ],
            [
             0.3333333333333333,
             "#9c179e"
            ],
            [
             0.4444444444444444,
             "#bd3786"
            ],
            [
             0.5555555555555556,
             "#d8576b"
            ],
            [
             0.6666666666666666,
             "#ed7953"
            ],
            [
             0.7777777777777778,
             "#fb9f3a"
            ],
            [
             0.8888888888888888,
             "#fdca26"
            ],
            [
             1,
             "#f0f921"
            ]
           ],
           "sequentialminus": [
            [
             0,
             "#0d0887"
            ],
            [
             0.1111111111111111,
             "#46039f"
            ],
            [
             0.2222222222222222,
             "#7201a8"
            ],
            [
             0.3333333333333333,
             "#9c179e"
            ],
            [
             0.4444444444444444,
             "#bd3786"
            ],
            [
             0.5555555555555556,
             "#d8576b"
            ],
            [
             0.6666666666666666,
             "#ed7953"
            ],
            [
             0.7777777777777778,
             "#fb9f3a"
            ],
            [
             0.8888888888888888,
             "#fdca26"
            ],
            [
             1,
             "#f0f921"
            ]
           ]
          },
          "colorway": [
           "#636efa",
           "#EF553B",
           "#00cc96",
           "#ab63fa",
           "#FFA15A",
           "#19d3f3",
           "#FF6692",
           "#B6E880",
           "#FF97FF",
           "#FECB52"
          ],
          "font": {
           "color": "#2a3f5f"
          },
          "geo": {
           "bgcolor": "white",
           "lakecolor": "white",
           "landcolor": "#E5ECF6",
           "showlakes": true,
           "showland": true,
           "subunitcolor": "white"
          },
          "hoverlabel": {
           "align": "left"
          },
          "hovermode": "closest",
          "mapbox": {
           "style": "light"
          },
          "paper_bgcolor": "white",
          "plot_bgcolor": "#E5ECF6",
          "polar": {
           "angularaxis": {
            "gridcolor": "white",
            "linecolor": "white",
            "ticks": ""
           },
           "bgcolor": "#E5ECF6",
           "radialaxis": {
            "gridcolor": "white",
            "linecolor": "white",
            "ticks": ""
           }
          },
          "scene": {
           "xaxis": {
            "backgroundcolor": "#E5ECF6",
            "gridcolor": "white",
            "gridwidth": 2,
            "linecolor": "white",
            "showbackground": true,
            "ticks": "",
            "zerolinecolor": "white"
           },
           "yaxis": {
            "backgroundcolor": "#E5ECF6",
            "gridcolor": "white",
            "gridwidth": 2,
            "linecolor": "white",
            "showbackground": true,
            "ticks": "",
            "zerolinecolor": "white"
           },
           "zaxis": {
            "backgroundcolor": "#E5ECF6",
            "gridcolor": "white",
            "gridwidth": 2,
            "linecolor": "white",
            "showbackground": true,
            "ticks": "",
            "zerolinecolor": "white"
           }
          },
          "shapedefaults": {
           "line": {
            "color": "#2a3f5f"
           }
          },
          "ternary": {
           "aaxis": {
            "gridcolor": "white",
            "linecolor": "white",
            "ticks": ""
           },
           "baxis": {
            "gridcolor": "white",
            "linecolor": "white",
            "ticks": ""
           },
           "bgcolor": "#E5ECF6",
           "caxis": {
            "gridcolor": "white",
            "linecolor": "white",
            "ticks": ""
           }
          },
          "title": {
           "x": 0.05
          },
          "xaxis": {
           "automargin": true,
           "gridcolor": "white",
           "linecolor": "white",
           "ticks": "",
           "title": {
            "standoff": 15
           },
           "zerolinecolor": "white",
           "zerolinewidth": 2
          },
          "yaxis": {
           "automargin": true,
           "gridcolor": "white",
           "linecolor": "white",
           "ticks": "",
           "title": {
            "standoff": 15
           },
           "zerolinecolor": "white",
           "zerolinewidth": 2
          }
         }
        },
        "xaxis": {
         "anchor": "y",
         "domain": [
          0,
          1
         ],
         "title": {
          "text": "Run time (minutes)"
         }
        },
        "yaxis": {
         "anchor": "x",
         "domain": [
          0,
          1
         ],
         "title": {
          "text": "Cumulative mean nurse utilisation"
         }
        }
       }
      }
     },
     "metadata": {},
     "output_type": "display_data"
    },
    {
     "data": {
      "application/vnd.plotly.v1+json": {
       "config": {
        "plotlyServerURL": "https://plot.ly"
       },
       "data": [
        {
         "hovertemplate": "run=0<br>simulation_time=%{x}<br>value=%{y}<extra></extra>",
         "legendgroup": "0",
         "line": {
          "color": "#636efa",
          "dash": "solid"
         },
         "marker": {
          "symbol": "circle"
         },
         "mode": "lines",
         "name": "0",
         "orientation": "v",
         "showlegend": true,
         "type": "scatter",
         "x": [
          0,
          120,
          240,
          360,
          480,
          600,
          720,
          840,
          960,
          1080,
          1200,
          1320,
          1440,
          1560,
          1680,
          1800,
          1920,
          2040,
          2160,
          2280,
          2400,
          2520,
          2640,
          2760,
          2880,
          3000,
          3120,
          3240,
          3360,
          3480,
          3600,
          3720,
          3840,
          3960,
          4080,
          4200,
          4320,
          4440,
          4560,
          4680,
          4800,
          4920,
          5040,
          5160,
          5280,
          5400,
          5520,
          5640,
          5760,
          5880,
          6000,
          6120,
          6240,
          6360,
          6480,
          6600,
          6720,
          6840,
          6960,
          7080,
          7200,
          7320,
          7440,
          7560,
          7680,
          7800,
          7920,
          8040,
          8160,
          8280,
          8400,
          8520,
          8640,
          8760,
          8880,
          9000,
          9120,
          9240,
          9360,
          9480,
          9600,
          9720,
          9840,
          9960,
          10080,
          10200,
          10320,
          10440,
          10560,
          10680,
          10800,
          10920,
          11040,
          11160,
          11280,
          11400,
          11520,
          11640,
          11760,
          11880,
          12000,
          12120,
          12240,
          12360,
          12480,
          12600,
          12720,
          12840,
          12960,
          13080,
          13200,
          13320,
          13440,
          13560,
          13680,
          13800,
          13920,
          14040,
          14160,
          14280,
          14400,
          14520,
          14640,
          14760,
          14880,
          15000,
          15120,
          15240,
          15360,
          15480,
          15600,
          15720,
          15840,
          15960,
          16080,
          16200,
          16320,
          16440,
          16560,
          16680,
          16800,
          16920,
          17040,
          17160,
          17280,
          17400,
          17520,
          17640,
          17760,
          17880,
          18000,
          18120,
          18240,
          18360,
          18480,
          18600,
          18720,
          18840,
          18960,
          19080,
          19200,
          19320,
          19440,
          19560,
          19680,
          19800,
          19920,
          20040,
          20160,
          20280,
          20400,
          20520,
          20640,
          20760,
          20880,
          21000,
          21120,
          21240,
          21360,
          21480,
          21600,
          21720,
          21840,
          21960,
          22080,
          22200,
          22320,
          22440,
          22560,
          22680,
          22800,
          22920,
          23040,
          23160,
          23280,
          23400,
          23520,
          23640,
          23760,
          23880,
          24000,
          24120,
          24240,
          24360,
          24480,
          24600,
          24720,
          24840,
          24960,
          25080,
          25200,
          25320,
          25440,
          25560,
          25680,
          25800,
          25920,
          26040,
          26160,
          26280,
          26400,
          26520,
          26640,
          26760,
          26880,
          27000,
          27120,
          27240,
          27360,
          27480,
          27600,
          27720,
          27840,
          27960,
          28080,
          28200,
          28320,
          28440,
          28560,
          28680,
          28800,
          28920,
          29040,
          29160,
          29280,
          29400,
          29520,
          29640,
          29760,
          29880,
          30000,
          30120,
          30240,
          30360,
          30480,
          30600,
          30720,
          30840,
          30960,
          31080,
          31200,
          31320,
          31440,
          31560,
          31680,
          31800,
          31920,
          32040,
          32160,
          32280,
          32400,
          32520,
          32640,
          32760,
          32880,
          33000,
          33120,
          33240,
          33360,
          33480,
          33600,
          33720,
          33840,
          33960,
          34080,
          34200,
          34320,
          34440,
          34560,
          34680,
          34800,
          34920,
          35040,
          35160,
          35280,
          35400,
          35520,
          35640,
          35760,
          35880,
          36000,
          36120,
          36240,
          36360,
          36480,
          36600,
          36720,
          36840,
          36960,
          37080,
          37200,
          37320,
          37440,
          37560,
          37680,
          37800,
          37920,
          38040,
          38160,
          38280,
          38400,
          38520,
          38640,
          38760,
          38880,
          39000,
          39120,
          39240,
          39360,
          39480,
          39600,
          39720,
          39840,
          39960,
          40080,
          40200,
          40320,
          40440,
          40560,
          40680,
          40800,
          40920,
          41040,
          41160,
          41280,
          41400,
          41520,
          41640,
          41760,
          41880,
          42000,
          42120,
          42240,
          42360,
          42480,
          42600,
          42720,
          42840,
          42960,
          43080,
          43200,
          43320,
          43440,
          43560,
          43680,
          43800,
          43920,
          44040,
          44160,
          44280,
          44400,
          44520,
          44640,
          44760,
          44880,
          45000,
          45120,
          45240,
          45360,
          45480,
          45600,
          45720,
          45840,
          45960,
          46080,
          46200,
          46320,
          46440,
          46560,
          46680,
          46800,
          46920,
          47040,
          47160,
          47280,
          47400,
          47520,
          47640,
          47760,
          47880,
          48000,
          48120,
          48240,
          48360,
          48480,
          48600,
          48720,
          48840,
          48960,
          49080,
          49200,
          49320,
          49440,
          49560,
          49680,
          49800,
          49920,
          50040,
          50160,
          50280,
          50400,
          50520,
          50640,
          50760,
          50880,
          51000,
          51120,
          51240,
          51360,
          51480,
          51600,
          51720,
          51840,
          51960,
          52080,
          52200,
          52320,
          52440,
          52560,
          52680,
          52800,
          52920,
          53040,
          53160,
          53280,
          53400,
          53520,
          53640,
          53760,
          53880,
          54000,
          54120,
          54240,
          54360,
          54480,
          54600,
          54720,
          54840,
          54960,
          55080,
          55200,
          55320,
          55440,
          55560,
          55680,
          55800,
          55920,
          56040,
          56160,
          56280,
          56400,
          56520,
          56640,
          56760,
          56880,
          57000,
          57120,
          57240,
          57360,
          57480
         ],
         "xaxis": "x",
         "y": [
          0,
          0.1850812125177364,
          0.27293124698759036,
          0.16748053792420323,
          0.12815902032460771,
          0.10757873968853933,
          0.7775449421583632,
          0.6405489285399849,
          0.5855465140647299,
          0.5957191187844486,
          0.548688662038308,
          0.5817940262693283,
          0.5353593851431566,
          0.4954821346023178,
          0.47245100669119877,
          0.4868107775118521,
          0.46015274287212593,
          0.44014610187768555,
          0.4227129753701152,
          0.4000169766925251,
          0.3857768901436003,
          0.4124383536388688,
          0.3977084124374807,
          0.37748595078811714,
          0.45739615362189323,
          0.44211042098157305,
          0.44090411421823766,
          0.428276788751367,
          0.412287664630186,
          0.4016807112895885,
          0.4117119594328106,
          0.40236404193605335,
          0.3973051982695963,
          0.4218534759267196,
          0.40954103826584787,
          0.401190803936053,
          0.3936752248630797,
          0.38673209920411894,
          0.37741325344016424,
          0.3790608189493043,
          0.3704521229859087,
          0.3666684112093553,
          0.35982012959921933,
          0.3541981683964747,
          0.38523896779470446,
          0.3801402167503627,
          0.396941843930088,
          0.3886027295618088,
          0.3819165160456043,
          0.38628700852869746,
          0.3791352962464029,
          0.375115528085878,
          0.3700852432264889,
          0.36449905087590034,
          0.3581912799089502,
          0.3514575445073871,
          0.3462087759215539,
          0.35781845886993224,
          0.3884708700783271,
          0.3822807037955309,
          0.3857614550170858,
          0.3805001149322918,
          0.3841437176412842,
          0.38140246619005375,
          0.3780264734740002,
          0.38048338443571317,
          0.3910980358329828,
          0.44307813054061207,
          0.44115445318264646,
          0.44361513727966445,
          0.43838714241240806,
          0.4377580524118717,
          0.4335060084245224,
          0.4285505213597702,
          0.42626413266078583,
          0.4250180083345155,
          0.42150248228749787,
          0.41589355757239915,
          0.42145016535205815,
          0.44027556960662306,
          0.4353471117378922,
          0.4305277710175466,
          0.46993365458393677,
          0.4647376423044281,
          0.46157742166213167,
          0.45787482017504816,
          0.4831754631715794,
          0.4833357962795798,
          0.48300620316176707,
          0.4798689908515143,
          0.47494426312936056,
          0.470272680213334,
          0.4698121041492425,
          0.4643084479771,
          0.45909333027430366,
          0.4549415297222578,
          0.4568906748912471,
          0.4543350074193327,
          0.4783073604122729,
          0.49286863973483025,
          0.48783439662715994,
          0.4843709933532162,
          0.4808041204907635,
          0.4776979100144966,
          0.477423508162683,
          0.47412057823199766,
          0.4702082937379254,
          0.4671531037105441,
          0.4643660927444776,
          0.46107846702166944,
          0.45760448659224656,
          0.45396324793944076,
          0.45613929588140695,
          0.45251594754695623,
          0.4535325408966958,
          0.45102974732218604,
          0.4487611252072768,
          0.4447886537962473,
          0.44082916200063704,
          0.44801743945307104,
          0.44918327131031816,
          0.44633406688667304,
          0.4438855084699072,
          0.4407493608557178,
          0.4401384555583535,
          0.43717335065370905,
          0.4373158525933378,
          0.4403461307322662,
          0.4361043169241189,
          0.4371090202310064,
          0.4335279939515921,
          0.4308804947518877,
          0.43355005344792485,
          0.43168599160180954,
          0.4285749345052756,
          0.4260134935335736,
          0.4230884376682131,
          0.42458741107824094,
          0.4216793375678051,
          0.4324950783003846,
          0.42940509203007926,
          0.42747013885075374,
          0.4291093930183234,
          0.4271522789084772,
          0.4235114969873499,
          0.42852405654047804,
          0.4259734270383347,
          0.4249648373783751,
          0.42682623018822213,
          0.44001310808118466,
          0.4392556508851206,
          0.43775646943895313,
          0.4374400111857146,
          0.4349150070337013,
          0.43269200986280654,
          0.43046641872763575,
          0.4276253586934529,
          0.4251812679473218,
          0.423041235915345,
          0.42740773620080935,
          0.44085442604884445,
          0.43881341201899193,
          0.43620624362141963,
          0.43493662689076,
          0.43170676992779433,
          0.4321484491946318,
          0.42998943416068586,
          0.4274269226341025,
          0.4256683537664904,
          0.4475974503427971,
          0.44506766549385124,
          0.44329239040217233,
          0.44141859156509083,
          0.4389676746293473,
          0.4453810304867603,
          0.44276857789544727,
          0.44062679583749054,
          0.4379382425140786,
          0.43541339863869505,
          0.43323794309405317,
          0.432677344808932,
          0.4338988889218631,
          0.43319477000587975,
          0.43078509306240736,
          0.42891738011385233,
          0.4409065434818109,
          0.43964020054183256,
          0.4374575896171569,
          0.4350662679317166,
          0.4329287252922907,
          0.4319952677678144,
          0.4304895655907654,
          0.42853847084935937,
          0.4320731023635356,
          0.4300110524460004,
          0.42897982369652776,
          0.4702039412350683,
          0.46752021889127243,
          0.4667678551466583,
          0.4644704386332219,
          0.4651659138109862,
          0.4634852355216379,
          0.4740068171219543,
          0.4916165075017119,
          0.4913272753204745,
          0.48884989133338885,
          0.48689823894064926,
          0.48449972544833086,
          0.48272512618668323,
          0.4814299356650332,
          0.4798479764450189,
          0.47910418079672934,
          0.47846891365760524,
          0.4875642507877192,
          0.4852917417368004,
          0.4835037463727102,
          0.4820067862774509,
          0.47973213102176504,
          0.4777636407006733,
          0.4758177034101442,
          0.47405531663541983,
          0.4726362017824475,
          0.4715104481002665,
          0.47064351006274896,
          0.475988542712476,
          0.4757559011157227,
          0.4740494468811493,
          0.4764058202237804,
          0.4746096265860458,
          0.47323712911182353,
          0.4864835499625991,
          0.48490769808510664,
          0.489296257258989,
          0.48730420618338044,
          0.48494115216582767,
          0.48371085748802856,
          0.48398807536897026,
          0.4822293486101174,
          0.4806935112100291,
          0.4993371227786035,
          0.4995618700065461,
          0.4977769849412486,
          0.4953273340570725,
          0.4940444524666848,
          0.4917685909046258,
          0.4904376880875632,
          0.49152302465222514,
          0.4894756927870687,
          0.49015693546541594,
          0.4890430187610261,
          0.48736045709796055,
          0.4863903055455151,
          0.48447513174759327,
          0.4827643249784086,
          0.48106678643229467,
          0.4836437561810941,
          0.4884427620789517,
          0.4871763378330814,
          0.486797742126044,
          0.48531015327960864,
          0.4833896374149022,
          0.48186166410154124,
          0.49146212751730006,
          0.49264009260729813,
          0.49191858525866405,
          0.4907014022394553,
          0.49261296328031845,
          0.4921015679229963,
          0.4914086624541346,
          0.4969362948105312,
          0.49451781910881315,
          0.49301818962340316,
          0.493139981657704,
          0.492699364995897,
          0.49277356882964113,
          0.49317461759100745,
          0.4914723962258396,
          0.48976342816070856,
          0.4904248212924081,
          0.48903797132056664,
          0.4884068002214369,
          0.48711895935448624,
          0.4873226837541425,
          0.49158019503215583,
          0.4958158729868385,
          0.4936455005443202,
          0.49222795660754004,
          0.49185825796855026,
          0.4907109054163872,
          0.489343917739968,
          0.4877925556819155,
          0.48619612366354564,
          0.486287440867833,
          0.4847623458471903,
          0.483160359919501,
          0.4821317832100534,
          0.48108965522126484,
          0.4792856353384454,
          0.477915193622972,
          0.4771715317521856,
          0.47540095092935736,
          0.4832525754428418,
          0.4828573167794596,
          0.48157811585936067,
          0.48387973537706797,
          0.48284036316059925,
          0.48154741017441516,
          0.47963204375218293,
          0.47850950572257184,
          0.4856936495040175,
          0.4844622267712798,
          0.48303053978035587,
          0.4813567786869736,
          0.48213279108769436,
          0.4855192338311378,
          0.4914412137579184,
          0.4968012766088033,
          0.495368245214444,
          0.4936459148090579,
          0.49241085423502734,
          0.49115649742270767,
          0.4907057306199548,
          0.48909422038328926,
          0.4881543204958327,
          0.48697222951693037,
          0.4856003387405469,
          0.48418757692037484,
          0.4832180383202139,
          0.4824021237355283,
          0.4814407803243376,
          0.4842048046699344,
          0.48344188875529487,
          0.48204287246278493,
          0.4848959388377649,
          0.4840799682843253,
          0.4890862181258771,
          0.48878797611411606,
          0.48885375143389437,
          0.494892473360869,
          0.49399723385099115,
          0.4931123704338077,
          0.49249891976792615,
          0.4912199550454755,
          0.4903288743555896,
          0.48902157969914734,
          0.4879992996959754,
          0.4868712140054762,
          0.4861915279175096,
          0.48536695995645,
          0.4843236658508559,
          0.48663843454464756,
          0.486050464733403,
          0.4847361313084035,
          0.4835651623021766,
          0.482489278006705,
          0.48176911227708563,
          0.48052394198005355,
          0.4811855868054409,
          0.48144254344162696,
          0.48103156880001835,
          0.47967457738744224,
          0.47884700811625347,
          0.49196555461057123,
          0.49222525048814225,
          0.4912501081638973,
          0.48997058120712045,
          0.48894659574253924,
          0.48794089267492363,
          0.4865485163091667,
          0.4853580213651703,
          0.48396950274010103,
          0.4829846935245811,
          0.48181967470630627,
          0.48051324701195713,
          0.47923740727072767,
          0.4779798963621191,
          0.47689537962371126,
          0.4828739824522451,
          0.4820358050829477,
          0.4926867231089775,
          0.49178039062325446,
          0.4904923907821662,
          0.4892820364317005,
          0.4881507969229101,
          0.48747610260278873,
          0.4863261927316303,
          0.4851703372527671,
          0.48501728577287934,
          0.48415710816953234,
          0.4829742475008788,
          0.48281871650789765,
          0.482582448609397,
          0.4840848163873462,
          0.483277806607589,
          0.4822728203186862,
          0.4843148414272392,
          0.4865297696253941,
          0.4860132381985209,
          0.48506136086802726,
          0.48394444326076536,
          0.4826077646158507,
          0.4813446001738657,
          0.4802286137100032,
          0.479251029202003,
          0.4783551600804453,
          0.48054923966902224,
          0.48106999550397506,
          0.4806279758469445,
          0.4808429110366816,
          0.48097972273284084,
          0.47994751232637756,
          0.4792573468104413,
          0.4784162090657402,
          0.4780298724945213,
          0.48064337121961886,
          0.4793879310383423,
          0.4792118622596814,
          0.4782301802222758,
          0.47721498918005556,
          0.47616674098855616,
          0.475723113180055,
          0.476021897541076,
          0.47535215376141815,
          0.47439147315529323,
          0.47528448022802533,
          0.4749294823095646,
          0.47453056976025687,
          0.47647632372478615,
          0.47690981877366473,
          0.476106817395047,
          0.4750524380361729,
          0.47462257108108463,
          0.47437313071250126,
          0.47536192894997076,
          0.4742479117291173,
          0.47446809107028376,
          0.47332565473362087,
          0.47240146826448026,
          0.47119475722708776,
          0.4710887899426334,
          0.47556882534238837,
          0.4747551009722891,
          0.47492126514372707,
          0.4793202224319916,
          0.47849867906699817,
          0.4773686452861756,
          0.47777444860024504,
          0.4764105697587513,
          0.47691942462908943,
          0.4761460279284954,
          0.47556841158595875,
          0.4745197957457272,
          0.47365822301759564,
          0.4727020046022226,
          0.4719453417259112,
          0.47917328952650773,
          0.4790636246109847,
          0.47877874028183864,
          0.4776654887343246,
          0.4767082432659191,
          0.4758907955781238,
          0.4793678981448613,
          0.47824310145552823,
          0.47998150657581995,
          0.4793904205834992,
          0.4835712940840089,
          0.48347625611477696,
          0.4844570699566931,
          0.48367645396895276,
          0.4828934391793077,
          0.4822635791446351,
          0.48137682439925916,
          0.48095402954096433,
          0.4801528289642319,
          0.484079412380386,
          0.4833123031027946,
          0.4825960272491216,
          0.48270616964234175,
          0.48574094851801636,
          0.4847409328403097
         ],
         "yaxis": "y"
        }
       ],
       "layout": {
        "legend": {
         "title": {
          "text": "run"
         },
         "tracegroupgap": 0
        },
        "margin": {
         "t": 60
        },
        "shapes": [
         {
          "line": {
           "color": "red",
           "dash": "dash"
          },
          "type": "line",
          "x0": 18720,
          "x1": 18720,
          "xref": "x",
          "y0": 0,
          "y1": 1,
          "yref": "y domain"
         }
        ],
        "showlegend": false,
        "template": {
         "data": {
          "bar": [
           {
            "error_x": {
             "color": "#2a3f5f"
            },
            "error_y": {
             "color": "#2a3f5f"
            },
            "marker": {
             "line": {
              "color": "#E5ECF6",
              "width": 0.5
             },
             "pattern": {
              "fillmode": "overlay",
              "size": 10,
              "solidity": 0.2
             }
            },
            "type": "bar"
           }
          ],
          "barpolar": [
           {
            "marker": {
             "line": {
              "color": "#E5ECF6",
              "width": 0.5
             },
             "pattern": {
              "fillmode": "overlay",
              "size": 10,
              "solidity": 0.2
             }
            },
            "type": "barpolar"
           }
          ],
          "carpet": [
           {
            "aaxis": {
             "endlinecolor": "#2a3f5f",
             "gridcolor": "white",
             "linecolor": "white",
             "minorgridcolor": "white",
             "startlinecolor": "#2a3f5f"
            },
            "baxis": {
             "endlinecolor": "#2a3f5f",
             "gridcolor": "white",
             "linecolor": "white",
             "minorgridcolor": "white",
             "startlinecolor": "#2a3f5f"
            },
            "type": "carpet"
           }
          ],
          "choropleth": [
           {
            "colorbar": {
             "outlinewidth": 0,
             "ticks": ""
            },
            "type": "choropleth"
           }
          ],
          "contour": [
           {
            "colorbar": {
             "outlinewidth": 0,
             "ticks": ""
            },
            "colorscale": [
             [
              0,
              "#0d0887"
             ],
             [
              0.1111111111111111,
              "#46039f"
             ],
             [
              0.2222222222222222,
              "#7201a8"
             ],
             [
              0.3333333333333333,
              "#9c179e"
             ],
             [
              0.4444444444444444,
              "#bd3786"
             ],
             [
              0.5555555555555556,
              "#d8576b"
             ],
             [
              0.6666666666666666,
              "#ed7953"
             ],
             [
              0.7777777777777778,
              "#fb9f3a"
             ],
             [
              0.8888888888888888,
              "#fdca26"
             ],
             [
              1,
              "#f0f921"
             ]
            ],
            "type": "contour"
           }
          ],
          "contourcarpet": [
           {
            "colorbar": {
             "outlinewidth": 0,
             "ticks": ""
            },
            "type": "contourcarpet"
           }
          ],
          "heatmap": [
           {
            "colorbar": {
             "outlinewidth": 0,
             "ticks": ""
            },
            "colorscale": [
             [
              0,
              "#0d0887"
             ],
             [
              0.1111111111111111,
              "#46039f"
             ],
             [
              0.2222222222222222,
              "#7201a8"
             ],
             [
              0.3333333333333333,
              "#9c179e"
             ],
             [
              0.4444444444444444,
              "#bd3786"
             ],
             [
              0.5555555555555556,
              "#d8576b"
             ],
             [
              0.6666666666666666,
              "#ed7953"
             ],
             [
              0.7777777777777778,
              "#fb9f3a"
             ],
             [
              0.8888888888888888,
              "#fdca26"
             ],
             [
              1,
              "#f0f921"
             ]
            ],
            "type": "heatmap"
           }
          ],
          "heatmapgl": [
           {
            "colorbar": {
             "outlinewidth": 0,
             "ticks": ""
            },
            "colorscale": [
             [
              0,
              "#0d0887"
             ],
             [
              0.1111111111111111,
              "#46039f"
             ],
             [
              0.2222222222222222,
              "#7201a8"
             ],
             [
              0.3333333333333333,
              "#9c179e"
             ],
             [
              0.4444444444444444,
              "#bd3786"
             ],
             [
              0.5555555555555556,
              "#d8576b"
             ],
             [
              0.6666666666666666,
              "#ed7953"
             ],
             [
              0.7777777777777778,
              "#fb9f3a"
             ],
             [
              0.8888888888888888,
              "#fdca26"
             ],
             [
              1,
              "#f0f921"
             ]
            ],
            "type": "heatmapgl"
           }
          ],
          "histogram": [
           {
            "marker": {
             "pattern": {
              "fillmode": "overlay",
              "size": 10,
              "solidity": 0.2
             }
            },
            "type": "histogram"
           }
          ],
          "histogram2d": [
           {
            "colorbar": {
             "outlinewidth": 0,
             "ticks": ""
            },
            "colorscale": [
             [
              0,
              "#0d0887"
             ],
             [
              0.1111111111111111,
              "#46039f"
             ],
             [
              0.2222222222222222,
              "#7201a8"
             ],
             [
              0.3333333333333333,
              "#9c179e"
             ],
             [
              0.4444444444444444,
              "#bd3786"
             ],
             [
              0.5555555555555556,
              "#d8576b"
             ],
             [
              0.6666666666666666,
              "#ed7953"
             ],
             [
              0.7777777777777778,
              "#fb9f3a"
             ],
             [
              0.8888888888888888,
              "#fdca26"
             ],
             [
              1,
              "#f0f921"
             ]
            ],
            "type": "histogram2d"
           }
          ],
          "histogram2dcontour": [
           {
            "colorbar": {
             "outlinewidth": 0,
             "ticks": ""
            },
            "colorscale": [
             [
              0,
              "#0d0887"
             ],
             [
              0.1111111111111111,
              "#46039f"
             ],
             [
              0.2222222222222222,
              "#7201a8"
             ],
             [
              0.3333333333333333,
              "#9c179e"
             ],
             [
              0.4444444444444444,
              "#bd3786"
             ],
             [
              0.5555555555555556,
              "#d8576b"
             ],
             [
              0.6666666666666666,
              "#ed7953"
             ],
             [
              0.7777777777777778,
              "#fb9f3a"
             ],
             [
              0.8888888888888888,
              "#fdca26"
             ],
             [
              1,
              "#f0f921"
             ]
            ],
            "type": "histogram2dcontour"
           }
          ],
          "mesh3d": [
           {
            "colorbar": {
             "outlinewidth": 0,
             "ticks": ""
            },
            "type": "mesh3d"
           }
          ],
          "parcoords": [
           {
            "line": {
             "colorbar": {
              "outlinewidth": 0,
              "ticks": ""
             }
            },
            "type": "parcoords"
           }
          ],
          "pie": [
           {
            "automargin": true,
            "type": "pie"
           }
          ],
          "scatter": [
           {
            "fillpattern": {
             "fillmode": "overlay",
             "size": 10,
             "solidity": 0.2
            },
            "type": "scatter"
           }
          ],
          "scatter3d": [
           {
            "line": {
             "colorbar": {
              "outlinewidth": 0,
              "ticks": ""
             }
            },
            "marker": {
             "colorbar": {
              "outlinewidth": 0,
              "ticks": ""
             }
            },
            "type": "scatter3d"
           }
          ],
          "scattercarpet": [
           {
            "marker": {
             "colorbar": {
              "outlinewidth": 0,
              "ticks": ""
             }
            },
            "type": "scattercarpet"
           }
          ],
          "scattergeo": [
           {
            "marker": {
             "colorbar": {
              "outlinewidth": 0,
              "ticks": ""
             }
            },
            "type": "scattergeo"
           }
          ],
          "scattergl": [
           {
            "marker": {
             "colorbar": {
              "outlinewidth": 0,
              "ticks": ""
             }
            },
            "type": "scattergl"
           }
          ],
          "scattermapbox": [
           {
            "marker": {
             "colorbar": {
              "outlinewidth": 0,
              "ticks": ""
             }
            },
            "type": "scattermapbox"
           }
          ],
          "scatterpolar": [
           {
            "marker": {
             "colorbar": {
              "outlinewidth": 0,
              "ticks": ""
             }
            },
            "type": "scatterpolar"
           }
          ],
          "scatterpolargl": [
           {
            "marker": {
             "colorbar": {
              "outlinewidth": 0,
              "ticks": ""
             }
            },
            "type": "scatterpolargl"
           }
          ],
          "scatterternary": [
           {
            "marker": {
             "colorbar": {
              "outlinewidth": 0,
              "ticks": ""
             }
            },
            "type": "scatterternary"
           }
          ],
          "surface": [
           {
            "colorbar": {
             "outlinewidth": 0,
             "ticks": ""
            },
            "colorscale": [
             [
              0,
              "#0d0887"
             ],
             [
              0.1111111111111111,
              "#46039f"
             ],
             [
              0.2222222222222222,
              "#7201a8"
             ],
             [
              0.3333333333333333,
              "#9c179e"
             ],
             [
              0.4444444444444444,
              "#bd3786"
             ],
             [
              0.5555555555555556,
              "#d8576b"
             ],
             [
              0.6666666666666666,
              "#ed7953"
             ],
             [
              0.7777777777777778,
              "#fb9f3a"
             ],
             [
              0.8888888888888888,
              "#fdca26"
             ],
             [
              1,
              "#f0f921"
             ]
            ],
            "type": "surface"
           }
          ],
          "table": [
           {
            "cells": {
             "fill": {
              "color": "#EBF0F8"
             },
             "line": {
              "color": "white"
             }
            },
            "header": {
             "fill": {
              "color": "#C8D4E3"
             },
             "line": {
              "color": "white"
             }
            },
            "type": "table"
           }
          ]
         },
         "layout": {
          "annotationdefaults": {
           "arrowcolor": "#2a3f5f",
           "arrowhead": 0,
           "arrowwidth": 1
          },
          "autotypenumbers": "strict",
          "coloraxis": {
           "colorbar": {
            "outlinewidth": 0,
            "ticks": ""
           }
          },
          "colorscale": {
           "diverging": [
            [
             0,
             "#8e0152"
            ],
            [
             0.1,
             "#c51b7d"
            ],
            [
             0.2,
             "#de77ae"
            ],
            [
             0.3,
             "#f1b6da"
            ],
            [
             0.4,
             "#fde0ef"
            ],
            [
             0.5,
             "#f7f7f7"
            ],
            [
             0.6,
             "#e6f5d0"
            ],
            [
             0.7,
             "#b8e186"
            ],
            [
             0.8,
             "#7fbc41"
            ],
            [
             0.9,
             "#4d9221"
            ],
            [
             1,
             "#276419"
            ]
           ],
           "sequential": [
            [
             0,
             "#0d0887"
            ],
            [
             0.1111111111111111,
             "#46039f"
            ],
            [
             0.2222222222222222,
             "#7201a8"
            ],
            [
             0.3333333333333333,
             "#9c179e"
            ],
            [
             0.4444444444444444,
             "#bd3786"
            ],
            [
             0.5555555555555556,
             "#d8576b"
            ],
            [
             0.6666666666666666,
             "#ed7953"
            ],
            [
             0.7777777777777778,
             "#fb9f3a"
            ],
            [
             0.8888888888888888,
             "#fdca26"
            ],
            [
             1,
             "#f0f921"
            ]
           ],
           "sequentialminus": [
            [
             0,
             "#0d0887"
            ],
            [
             0.1111111111111111,
             "#46039f"
            ],
            [
             0.2222222222222222,
             "#7201a8"
            ],
            [
             0.3333333333333333,
             "#9c179e"
            ],
            [
             0.4444444444444444,
             "#bd3786"
            ],
            [
             0.5555555555555556,
             "#d8576b"
            ],
            [
             0.6666666666666666,
             "#ed7953"
            ],
            [
             0.7777777777777778,
             "#fb9f3a"
            ],
            [
             0.8888888888888888,
             "#fdca26"
            ],
            [
             1,
             "#f0f921"
            ]
           ]
          },
          "colorway": [
           "#636efa",
           "#EF553B",
           "#00cc96",
           "#ab63fa",
           "#FFA15A",
           "#19d3f3",
           "#FF6692",
           "#B6E880",
           "#FF97FF",
           "#FECB52"
          ],
          "font": {
           "color": "#2a3f5f"
          },
          "geo": {
           "bgcolor": "white",
           "lakecolor": "white",
           "landcolor": "#E5ECF6",
           "showlakes": true,
           "showland": true,
           "subunitcolor": "white"
          },
          "hoverlabel": {
           "align": "left"
          },
          "hovermode": "closest",
          "mapbox": {
           "style": "light"
          },
          "paper_bgcolor": "white",
          "plot_bgcolor": "#E5ECF6",
          "polar": {
           "angularaxis": {
            "gridcolor": "white",
            "linecolor": "white",
            "ticks": ""
           },
           "bgcolor": "#E5ECF6",
           "radialaxis": {
            "gridcolor": "white",
            "linecolor": "white",
            "ticks": ""
           }
          },
          "scene": {
           "xaxis": {
            "backgroundcolor": "#E5ECF6",
            "gridcolor": "white",
            "gridwidth": 2,
            "linecolor": "white",
            "showbackground": true,
            "ticks": "",
            "zerolinecolor": "white"
           },
           "yaxis": {
            "backgroundcolor": "#E5ECF6",
            "gridcolor": "white",
            "gridwidth": 2,
            "linecolor": "white",
            "showbackground": true,
            "ticks": "",
            "zerolinecolor": "white"
           },
           "zaxis": {
            "backgroundcolor": "#E5ECF6",
            "gridcolor": "white",
            "gridwidth": 2,
            "linecolor": "white",
            "showbackground": true,
            "ticks": "",
            "zerolinecolor": "white"
           }
          },
          "shapedefaults": {
           "line": {
            "color": "#2a3f5f"
           }
          },
          "ternary": {
           "aaxis": {
            "gridcolor": "white",
            "linecolor": "white",
            "ticks": ""
           },
           "baxis": {
            "gridcolor": "white",
            "linecolor": "white",
            "ticks": ""
           },
           "bgcolor": "#E5ECF6",
           "caxis": {
            "gridcolor": "white",
            "linecolor": "white",
            "ticks": ""
           }
          },
          "title": {
           "x": 0.05
          },
          "xaxis": {
           "automargin": true,
           "gridcolor": "white",
           "linecolor": "white",
           "ticks": "",
           "title": {
            "standoff": 15
           },
           "zerolinecolor": "white",
           "zerolinewidth": 2
          },
          "yaxis": {
           "automargin": true,
           "gridcolor": "white",
           "linecolor": "white",
           "ticks": "",
           "title": {
            "standoff": 15
           },
           "zerolinecolor": "white",
           "zerolinewidth": 2
          }
         }
        },
        "xaxis": {
         "anchor": "y",
         "domain": [
          0,
          1
         ],
         "title": {
          "text": "Run time (minutes)"
         }
        },
        "yaxis": {
         "anchor": "x",
         "domain": [
          0,
          1
         ],
         "title": {
          "text": "Running mean nurse wait time"
         }
        }
       }
      }
     },
     "metadata": {},
     "output_type": "display_data"
    }
   ],
   "source": [
    "time_series_inspection(data_collection_period=1440*40, warm_up=1440*13)"
   ]
  },
  {
   "cell_type": "markdown",
   "metadata": {},
   "source": [
    "## Choosing the number of replications\n",
    "\n",
    "The **confidence interval method** can be used to select the number of replications to run. The more replications you run, the narrower your confidence interval becomes, leading to a more precise estimate of the model's mean performance.\n",
    "\n",
    "First, you select a desired confidence interval - for example, 95%. Then, run the model with an increasing number of replications, and identify the number required to achieve that precision in the estimate of a given metric - and also, to maintain that precision (as the intervals may converge or expand again later on).\n",
    "\n",
    "This method is less useful for values very close to zero - so, for example, when using utilisation (which ranges from 0 to 1) it is recommended to multiple values by 100.\n",
    "\n",
    "When selecting the number of replications you should repeat the analysis for all performance measures and select the highest value as your number of replications."
   ]
  },
  {
   "cell_type": "code",
   "execution_count": 7,
   "metadata": {},
   "outputs": [],
   "source": [
    "def confidence_interval_method(replications, metric, desired_precision,\n",
    "                               min_rep=None):\n",
    "    \"\"\"\n",
    "    Use the confidence interval method to select the number of replications.\n",
    "\n",
    "    Arguments:\n",
    "        replications (int):\n",
    "            Number of times to run the model.\n",
    "        metric (string):\n",
    "            Name of performance metric to assess.\n",
    "        desired_precision (float):\n",
    "            Desired mean deviation from confidence interval.\n",
    "        min_rep (int):\n",
    "            A suggested minimum number of replications.\n",
    "    \"\"\"\n",
    "    param = Defaults()\n",
    "    param.number_of_runs = replications\n",
    "    choose_rep = Trial(param)\n",
    "    choose_rep.run_trial()\n",
    "\n",
    "    # If mean of metric is less than 1, multiply by 100\n",
    "    if choose_rep.trial_results_df[metric].mean() < 1:\n",
    "        choose_rep.trial_results_df[f'adj_{metric}'] = (\n",
    "            choose_rep.trial_results_df[metric]*100)\n",
    "        metric = f'adj_{metric}'\n",
    "\n",
    "    # Initialise list to store the results\n",
    "    cumulative_list = []\n",
    "\n",
    "    # For each row in the dataframe, filter to rows up to the i-th replication\n",
    "    # then perform calculations\n",
    "    for i in range(1, replications+1):\n",
    "        mean, std_dev, ci_lower, ci_upper = summary_stats(\n",
    "            choose_rep.trial_results_df[metric].iloc[:i])\n",
    "        deviation = ((ci_upper-mean)/mean)*100\n",
    "        cumulative_list.append({\n",
    "            'replications': i,\n",
    "            'cumulative_mean': mean,\n",
    "            'cumulative_std': std_dev,\n",
    "            'lower_ci': ci_lower,\n",
    "            'upper_ci': ci_upper,\n",
    "            'perc_deviation': deviation\n",
    "        })\n",
    "    cumulative = pd.DataFrame(cumulative_list)\n",
    "    display(cumulative)\n",
    "\n",
    "    # Get minimum number of replications where deviation is less than target\n",
    "    try:\n",
    "        n_reps = cumulative[cumulative['perc_deviation']\n",
    "                            <= desired_precision*100].iloc[0].name + 1\n",
    "        print(f'Reached desired precision ({desired_precision}) in {n_reps} ' +\n",
    "              'replications.')\n",
    "    except IndexError:\n",
    "        warnings.warn(f'Running {replications} replications did not reach' +\n",
    "                      f'desired precision ({desired_precision}).')\n",
    "\n",
    "    # Plot the cumulative mean and confidence interval\n",
    "    fig = px.line(cumulative,\n",
    "                  x='replications',\n",
    "                  y=['cumulative_mean', 'lower_ci', 'upper_ci'])\n",
    "    fig.update_layout(\n",
    "        xaxis_title='Number of replications',\n",
    "        yaxis_title=metric\n",
    "    )\n",
    "    if min_rep is not None:\n",
    "        fig.add_vline(x=min_rep, line_color='red', line_dash='dash')\n",
    "    fig.show()"
   ]
  },
  {
   "cell_type": "code",
   "execution_count": 8,
   "metadata": {},
   "outputs": [
    {
     "data": {
      "text/html": [
       "<div>\n",
       "<style scoped>\n",
       "    .dataframe tbody tr th:only-of-type {\n",
       "        vertical-align: middle;\n",
       "    }\n",
       "\n",
       "    .dataframe tbody tr th {\n",
       "        vertical-align: top;\n",
       "    }\n",
       "\n",
       "    .dataframe thead th {\n",
       "        text-align: right;\n",
       "    }\n",
       "</style>\n",
       "<table border=\"1\" class=\"dataframe\">\n",
       "  <thead>\n",
       "    <tr style=\"text-align: right;\">\n",
       "      <th></th>\n",
       "      <th>replications</th>\n",
       "      <th>cumulative_mean</th>\n",
       "      <th>cumulative_std</th>\n",
       "      <th>lower_ci</th>\n",
       "      <th>upper_ci</th>\n",
       "      <th>perc_deviation</th>\n",
       "    </tr>\n",
       "  </thead>\n",
       "  <tbody>\n",
       "    <tr>\n",
       "      <th>0</th>\n",
       "      <td>1</td>\n",
       "      <td>9.842268</td>\n",
       "      <td>NaN</td>\n",
       "      <td>NaN</td>\n",
       "      <td>NaN</td>\n",
       "      <td>NaN</td>\n",
       "    </tr>\n",
       "    <tr>\n",
       "      <th>1</th>\n",
       "      <td>2</td>\n",
       "      <td>9.951374</td>\n",
       "      <td>0.154300</td>\n",
       "      <td>8.565044</td>\n",
       "      <td>11.337705</td>\n",
       "      <td>13.931046</td>\n",
       "    </tr>\n",
       "    <tr>\n",
       "      <th>2</th>\n",
       "      <td>3</td>\n",
       "      <td>9.942591</td>\n",
       "      <td>0.110162</td>\n",
       "      <td>9.668933</td>\n",
       "      <td>10.216249</td>\n",
       "      <td>2.752379</td>\n",
       "    </tr>\n",
       "    <tr>\n",
       "      <th>3</th>\n",
       "      <td>4</td>\n",
       "      <td>9.941208</td>\n",
       "      <td>0.089990</td>\n",
       "      <td>9.798014</td>\n",
       "      <td>10.084401</td>\n",
       "      <td>1.440402</td>\n",
       "    </tr>\n",
       "    <tr>\n",
       "      <th>4</th>\n",
       "      <td>5</td>\n",
       "      <td>9.956147</td>\n",
       "      <td>0.084791</td>\n",
       "      <td>9.850865</td>\n",
       "      <td>10.061429</td>\n",
       "      <td>1.057456</td>\n",
       "    </tr>\n",
       "    <tr>\n",
       "      <th>5</th>\n",
       "      <td>6</td>\n",
       "      <td>9.944288</td>\n",
       "      <td>0.081212</td>\n",
       "      <td>9.859062</td>\n",
       "      <td>10.029515</td>\n",
       "      <td>0.857039</td>\n",
       "    </tr>\n",
       "    <tr>\n",
       "      <th>6</th>\n",
       "      <td>7</td>\n",
       "      <td>9.958219</td>\n",
       "      <td>0.082792</td>\n",
       "      <td>9.881649</td>\n",
       "      <td>10.034788</td>\n",
       "      <td>0.768908</td>\n",
       "    </tr>\n",
       "    <tr>\n",
       "      <th>7</th>\n",
       "      <td>8</td>\n",
       "      <td>9.974314</td>\n",
       "      <td>0.089150</td>\n",
       "      <td>9.899783</td>\n",
       "      <td>10.048845</td>\n",
       "      <td>0.747229</td>\n",
       "    </tr>\n",
       "    <tr>\n",
       "      <th>8</th>\n",
       "      <td>9</td>\n",
       "      <td>9.999642</td>\n",
       "      <td>0.112818</td>\n",
       "      <td>9.912922</td>\n",
       "      <td>10.086362</td>\n",
       "      <td>0.867231</td>\n",
       "    </tr>\n",
       "    <tr>\n",
       "      <th>9</th>\n",
       "      <td>10</td>\n",
       "      <td>10.008938</td>\n",
       "      <td>0.110354</td>\n",
       "      <td>9.929996</td>\n",
       "      <td>10.087880</td>\n",
       "      <td>0.788718</td>\n",
       "    </tr>\n",
       "    <tr>\n",
       "      <th>10</th>\n",
       "      <td>11</td>\n",
       "      <td>10.015721</td>\n",
       "      <td>0.107081</td>\n",
       "      <td>9.943784</td>\n",
       "      <td>10.087659</td>\n",
       "      <td>0.718249</td>\n",
       "    </tr>\n",
       "    <tr>\n",
       "      <th>11</th>\n",
       "      <td>12</td>\n",
       "      <td>10.005522</td>\n",
       "      <td>0.108038</td>\n",
       "      <td>9.936879</td>\n",
       "      <td>10.074166</td>\n",
       "      <td>0.686059</td>\n",
       "    </tr>\n",
       "    <tr>\n",
       "      <th>12</th>\n",
       "      <td>13</td>\n",
       "      <td>9.990552</td>\n",
       "      <td>0.116675</td>\n",
       "      <td>9.920046</td>\n",
       "      <td>10.061058</td>\n",
       "      <td>0.705725</td>\n",
       "    </tr>\n",
       "    <tr>\n",
       "      <th>13</th>\n",
       "      <td>14</td>\n",
       "      <td>9.986504</td>\n",
       "      <td>0.113116</td>\n",
       "      <td>9.921193</td>\n",
       "      <td>10.051815</td>\n",
       "      <td>0.653995</td>\n",
       "    </tr>\n",
       "    <tr>\n",
       "      <th>14</th>\n",
       "      <td>15</td>\n",
       "      <td>9.998583</td>\n",
       "      <td>0.118616</td>\n",
       "      <td>9.932895</td>\n",
       "      <td>10.064270</td>\n",
       "      <td>0.656965</td>\n",
       "    </tr>\n",
       "    <tr>\n",
       "      <th>15</th>\n",
       "      <td>16</td>\n",
       "      <td>9.997145</td>\n",
       "      <td>0.114738</td>\n",
       "      <td>9.936005</td>\n",
       "      <td>10.058284</td>\n",
       "      <td>0.611569</td>\n",
       "    </tr>\n",
       "    <tr>\n",
       "      <th>16</th>\n",
       "      <td>17</td>\n",
       "      <td>9.986125</td>\n",
       "      <td>0.120027</td>\n",
       "      <td>9.924413</td>\n",
       "      <td>10.047837</td>\n",
       "      <td>0.617979</td>\n",
       "    </tr>\n",
       "    <tr>\n",
       "      <th>17</th>\n",
       "      <td>18</td>\n",
       "      <td>9.986293</td>\n",
       "      <td>0.116445</td>\n",
       "      <td>9.928386</td>\n",
       "      <td>10.044200</td>\n",
       "      <td>0.579864</td>\n",
       "    </tr>\n",
       "    <tr>\n",
       "      <th>18</th>\n",
       "      <td>19</td>\n",
       "      <td>9.976498</td>\n",
       "      <td>0.120951</td>\n",
       "      <td>9.918201</td>\n",
       "      <td>10.034795</td>\n",
       "      <td>0.584340</td>\n",
       "    </tr>\n",
       "    <tr>\n",
       "      <th>19</th>\n",
       "      <td>20</td>\n",
       "      <td>9.973643</td>\n",
       "      <td>0.118416</td>\n",
       "      <td>9.918222</td>\n",
       "      <td>10.029063</td>\n",
       "      <td>0.555668</td>\n",
       "    </tr>\n",
       "  </tbody>\n",
       "</table>\n",
       "</div>"
      ],
      "text/plain": [
       "    replications  cumulative_mean  cumulative_std  lower_ci   upper_ci  \\\n",
       "0              1         9.842268             NaN       NaN        NaN   \n",
       "1              2         9.951374        0.154300  8.565044  11.337705   \n",
       "2              3         9.942591        0.110162  9.668933  10.216249   \n",
       "3              4         9.941208        0.089990  9.798014  10.084401   \n",
       "4              5         9.956147        0.084791  9.850865  10.061429   \n",
       "5              6         9.944288        0.081212  9.859062  10.029515   \n",
       "6              7         9.958219        0.082792  9.881649  10.034788   \n",
       "7              8         9.974314        0.089150  9.899783  10.048845   \n",
       "8              9         9.999642        0.112818  9.912922  10.086362   \n",
       "9             10        10.008938        0.110354  9.929996  10.087880   \n",
       "10            11        10.015721        0.107081  9.943784  10.087659   \n",
       "11            12        10.005522        0.108038  9.936879  10.074166   \n",
       "12            13         9.990552        0.116675  9.920046  10.061058   \n",
       "13            14         9.986504        0.113116  9.921193  10.051815   \n",
       "14            15         9.998583        0.118616  9.932895  10.064270   \n",
       "15            16         9.997145        0.114738  9.936005  10.058284   \n",
       "16            17         9.986125        0.120027  9.924413  10.047837   \n",
       "17            18         9.986293        0.116445  9.928386  10.044200   \n",
       "18            19         9.976498        0.120951  9.918201  10.034795   \n",
       "19            20         9.973643        0.118416  9.918222  10.029063   \n",
       "\n",
       "    perc_deviation  \n",
       "0              NaN  \n",
       "1        13.931046  \n",
       "2         2.752379  \n",
       "3         1.440402  \n",
       "4         1.057456  \n",
       "5         0.857039  \n",
       "6         0.768908  \n",
       "7         0.747229  \n",
       "8         0.867231  \n",
       "9         0.788718  \n",
       "10        0.718249  \n",
       "11        0.686059  \n",
       "12        0.705725  \n",
       "13        0.653995  \n",
       "14        0.656965  \n",
       "15        0.611569  \n",
       "16        0.617979  \n",
       "17        0.579864  \n",
       "18        0.584340  \n",
       "19        0.555668  "
      ]
     },
     "metadata": {},
     "output_type": "display_data"
    },
    {
     "name": "stdout",
     "output_type": "stream",
     "text": [
      "Reached desired precision (0.05) in 3 replications.\n"
     ]
    },
    {
     "data": {
      "application/vnd.plotly.v1+json": {
       "config": {
        "plotlyServerURL": "https://plot.ly"
       },
       "data": [
        {
         "hovertemplate": "variable=cumulative_mean<br>replications=%{x}<br>value=%{y}<extra></extra>",
         "legendgroup": "cumulative_mean",
         "line": {
          "color": "#636efa",
          "dash": "solid"
         },
         "marker": {
          "symbol": "circle"
         },
         "mode": "lines",
         "name": "cumulative_mean",
         "orientation": "v",
         "showlegend": true,
         "type": "scatter",
         "x": [
          1,
          2,
          3,
          4,
          5,
          6,
          7,
          8,
          9,
          10,
          11,
          12,
          13,
          14,
          15,
          16,
          17,
          18,
          19,
          20
         ],
         "xaxis": "x",
         "y": [
          9.84226781662332,
          9.951374400036872,
          9.942591106606683,
          9.941207618553587,
          9.956146924437203,
          9.944288427507884,
          9.958218602827435,
          9.974313668481962,
          9.999642175136987,
          10.008938185524622,
          10.015721406424772,
          10.005522459034454,
          9.990551890174856,
          9.986503895431062,
          9.998582541597393,
          9.997144962523357,
          9.986124962793632,
          9.986293276241893,
          9.97649797303346,
          9.973642606291607
         ],
         "yaxis": "y"
        },
        {
         "hovertemplate": "variable=lower_ci<br>replications=%{x}<br>value=%{y}<extra></extra>",
         "legendgroup": "lower_ci",
         "line": {
          "color": "#EF553B",
          "dash": "solid"
         },
         "marker": {
          "symbol": "circle"
         },
         "mode": "lines",
         "name": "lower_ci",
         "orientation": "v",
         "showlegend": true,
         "type": "scatter",
         "x": [
          1,
          2,
          3,
          4,
          5,
          6,
          7,
          8,
          9,
          10,
          11,
          12,
          13,
          14,
          15,
          16,
          17,
          18,
          19,
          20
         ],
         "xaxis": "x",
         "y": [
          null,
          8.565043813091666,
          9.668933313439396,
          9.798014217052518,
          9.850865099446205,
          9.859061957546787,
          9.881649039803216,
          9.89978266327813,
          9.912922219809905,
          9.92999589179406,
          9.943783596856044,
          9.936878667457163,
          9.9200461110227,
          9.921192666323249,
          9.932895347421631,
          9.936005476017742,
          9.924412811154433,
          9.928386334642774,
          9.918201270401944,
          9.918222229071448
         ],
         "yaxis": "y"
        },
        {
         "hovertemplate": "variable=upper_ci<br>replications=%{x}<br>value=%{y}<extra></extra>",
         "legendgroup": "upper_ci",
         "line": {
          "color": "#00cc96",
          "dash": "solid"
         },
         "marker": {
          "symbol": "circle"
         },
         "mode": "lines",
         "name": "upper_ci",
         "orientation": "v",
         "showlegend": true,
         "type": "scatter",
         "x": [
          1,
          2,
          3,
          4,
          5,
          6,
          7,
          8,
          9,
          10,
          11,
          12,
          13,
          14,
          15,
          16,
          17,
          18,
          19,
          20
         ],
         "xaxis": "x",
         "y": [
          null,
          11.337704986982079,
          10.21624889977397,
          10.084401020054656,
          10.0614287494282,
          10.02951489746898,
          10.034788165851653,
          10.048844673685794,
          10.08636213046407,
          10.087880479255183,
          10.0876592159935,
          10.074166250611745,
          10.061057669327013,
          10.051815124538875,
          10.064269735773156,
          10.058284449028973,
          10.04783711443283,
          10.044200217841013,
          10.034794675664976,
          10.029062983511766
         ],
         "yaxis": "y"
        }
       ],
       "layout": {
        "legend": {
         "title": {
          "text": "variable"
         },
         "tracegroupgap": 0
        },
        "margin": {
         "t": 60
        },
        "shapes": [
         {
          "line": {
           "color": "red",
           "dash": "dash"
          },
          "type": "line",
          "x0": 3,
          "x1": 3,
          "xref": "x",
          "y0": 0,
          "y1": 1,
          "yref": "y domain"
         }
        ],
        "template": {
         "data": {
          "bar": [
           {
            "error_x": {
             "color": "#2a3f5f"
            },
            "error_y": {
             "color": "#2a3f5f"
            },
            "marker": {
             "line": {
              "color": "#E5ECF6",
              "width": 0.5
             },
             "pattern": {
              "fillmode": "overlay",
              "size": 10,
              "solidity": 0.2
             }
            },
            "type": "bar"
           }
          ],
          "barpolar": [
           {
            "marker": {
             "line": {
              "color": "#E5ECF6",
              "width": 0.5
             },
             "pattern": {
              "fillmode": "overlay",
              "size": 10,
              "solidity": 0.2
             }
            },
            "type": "barpolar"
           }
          ],
          "carpet": [
           {
            "aaxis": {
             "endlinecolor": "#2a3f5f",
             "gridcolor": "white",
             "linecolor": "white",
             "minorgridcolor": "white",
             "startlinecolor": "#2a3f5f"
            },
            "baxis": {
             "endlinecolor": "#2a3f5f",
             "gridcolor": "white",
             "linecolor": "white",
             "minorgridcolor": "white",
             "startlinecolor": "#2a3f5f"
            },
            "type": "carpet"
           }
          ],
          "choropleth": [
           {
            "colorbar": {
             "outlinewidth": 0,
             "ticks": ""
            },
            "type": "choropleth"
           }
          ],
          "contour": [
           {
            "colorbar": {
             "outlinewidth": 0,
             "ticks": ""
            },
            "colorscale": [
             [
              0,
              "#0d0887"
             ],
             [
              0.1111111111111111,
              "#46039f"
             ],
             [
              0.2222222222222222,
              "#7201a8"
             ],
             [
              0.3333333333333333,
              "#9c179e"
             ],
             [
              0.4444444444444444,
              "#bd3786"
             ],
             [
              0.5555555555555556,
              "#d8576b"
             ],
             [
              0.6666666666666666,
              "#ed7953"
             ],
             [
              0.7777777777777778,
              "#fb9f3a"
             ],
             [
              0.8888888888888888,
              "#fdca26"
             ],
             [
              1,
              "#f0f921"
             ]
            ],
            "type": "contour"
           }
          ],
          "contourcarpet": [
           {
            "colorbar": {
             "outlinewidth": 0,
             "ticks": ""
            },
            "type": "contourcarpet"
           }
          ],
          "heatmap": [
           {
            "colorbar": {
             "outlinewidth": 0,
             "ticks": ""
            },
            "colorscale": [
             [
              0,
              "#0d0887"
             ],
             [
              0.1111111111111111,
              "#46039f"
             ],
             [
              0.2222222222222222,
              "#7201a8"
             ],
             [
              0.3333333333333333,
              "#9c179e"
             ],
             [
              0.4444444444444444,
              "#bd3786"
             ],
             [
              0.5555555555555556,
              "#d8576b"
             ],
             [
              0.6666666666666666,
              "#ed7953"
             ],
             [
              0.7777777777777778,
              "#fb9f3a"
             ],
             [
              0.8888888888888888,
              "#fdca26"
             ],
             [
              1,
              "#f0f921"
             ]
            ],
            "type": "heatmap"
           }
          ],
          "heatmapgl": [
           {
            "colorbar": {
             "outlinewidth": 0,
             "ticks": ""
            },
            "colorscale": [
             [
              0,
              "#0d0887"
             ],
             [
              0.1111111111111111,
              "#46039f"
             ],
             [
              0.2222222222222222,
              "#7201a8"
             ],
             [
              0.3333333333333333,
              "#9c179e"
             ],
             [
              0.4444444444444444,
              "#bd3786"
             ],
             [
              0.5555555555555556,
              "#d8576b"
             ],
             [
              0.6666666666666666,
              "#ed7953"
             ],
             [
              0.7777777777777778,
              "#fb9f3a"
             ],
             [
              0.8888888888888888,
              "#fdca26"
             ],
             [
              1,
              "#f0f921"
             ]
            ],
            "type": "heatmapgl"
           }
          ],
          "histogram": [
           {
            "marker": {
             "pattern": {
              "fillmode": "overlay",
              "size": 10,
              "solidity": 0.2
             }
            },
            "type": "histogram"
           }
          ],
          "histogram2d": [
           {
            "colorbar": {
             "outlinewidth": 0,
             "ticks": ""
            },
            "colorscale": [
             [
              0,
              "#0d0887"
             ],
             [
              0.1111111111111111,
              "#46039f"
             ],
             [
              0.2222222222222222,
              "#7201a8"
             ],
             [
              0.3333333333333333,
              "#9c179e"
             ],
             [
              0.4444444444444444,
              "#bd3786"
             ],
             [
              0.5555555555555556,
              "#d8576b"
             ],
             [
              0.6666666666666666,
              "#ed7953"
             ],
             [
              0.7777777777777778,
              "#fb9f3a"
             ],
             [
              0.8888888888888888,
              "#fdca26"
             ],
             [
              1,
              "#f0f921"
             ]
            ],
            "type": "histogram2d"
           }
          ],
          "histogram2dcontour": [
           {
            "colorbar": {
             "outlinewidth": 0,
             "ticks": ""
            },
            "colorscale": [
             [
              0,
              "#0d0887"
             ],
             [
              0.1111111111111111,
              "#46039f"
             ],
             [
              0.2222222222222222,
              "#7201a8"
             ],
             [
              0.3333333333333333,
              "#9c179e"
             ],
             [
              0.4444444444444444,
              "#bd3786"
             ],
             [
              0.5555555555555556,
              "#d8576b"
             ],
             [
              0.6666666666666666,
              "#ed7953"
             ],
             [
              0.7777777777777778,
              "#fb9f3a"
             ],
             [
              0.8888888888888888,
              "#fdca26"
             ],
             [
              1,
              "#f0f921"
             ]
            ],
            "type": "histogram2dcontour"
           }
          ],
          "mesh3d": [
           {
            "colorbar": {
             "outlinewidth": 0,
             "ticks": ""
            },
            "type": "mesh3d"
           }
          ],
          "parcoords": [
           {
            "line": {
             "colorbar": {
              "outlinewidth": 0,
              "ticks": ""
             }
            },
            "type": "parcoords"
           }
          ],
          "pie": [
           {
            "automargin": true,
            "type": "pie"
           }
          ],
          "scatter": [
           {
            "fillpattern": {
             "fillmode": "overlay",
             "size": 10,
             "solidity": 0.2
            },
            "type": "scatter"
           }
          ],
          "scatter3d": [
           {
            "line": {
             "colorbar": {
              "outlinewidth": 0,
              "ticks": ""
             }
            },
            "marker": {
             "colorbar": {
              "outlinewidth": 0,
              "ticks": ""
             }
            },
            "type": "scatter3d"
           }
          ],
          "scattercarpet": [
           {
            "marker": {
             "colorbar": {
              "outlinewidth": 0,
              "ticks": ""
             }
            },
            "type": "scattercarpet"
           }
          ],
          "scattergeo": [
           {
            "marker": {
             "colorbar": {
              "outlinewidth": 0,
              "ticks": ""
             }
            },
            "type": "scattergeo"
           }
          ],
          "scattergl": [
           {
            "marker": {
             "colorbar": {
              "outlinewidth": 0,
              "ticks": ""
             }
            },
            "type": "scattergl"
           }
          ],
          "scattermapbox": [
           {
            "marker": {
             "colorbar": {
              "outlinewidth": 0,
              "ticks": ""
             }
            },
            "type": "scattermapbox"
           }
          ],
          "scatterpolar": [
           {
            "marker": {
             "colorbar": {
              "outlinewidth": 0,
              "ticks": ""
             }
            },
            "type": "scatterpolar"
           }
          ],
          "scatterpolargl": [
           {
            "marker": {
             "colorbar": {
              "outlinewidth": 0,
              "ticks": ""
             }
            },
            "type": "scatterpolargl"
           }
          ],
          "scatterternary": [
           {
            "marker": {
             "colorbar": {
              "outlinewidth": 0,
              "ticks": ""
             }
            },
            "type": "scatterternary"
           }
          ],
          "surface": [
           {
            "colorbar": {
             "outlinewidth": 0,
             "ticks": ""
            },
            "colorscale": [
             [
              0,
              "#0d0887"
             ],
             [
              0.1111111111111111,
              "#46039f"
             ],
             [
              0.2222222222222222,
              "#7201a8"
             ],
             [
              0.3333333333333333,
              "#9c179e"
             ],
             [
              0.4444444444444444,
              "#bd3786"
             ],
             [
              0.5555555555555556,
              "#d8576b"
             ],
             [
              0.6666666666666666,
              "#ed7953"
             ],
             [
              0.7777777777777778,
              "#fb9f3a"
             ],
             [
              0.8888888888888888,
              "#fdca26"
             ],
             [
              1,
              "#f0f921"
             ]
            ],
            "type": "surface"
           }
          ],
          "table": [
           {
            "cells": {
             "fill": {
              "color": "#EBF0F8"
             },
             "line": {
              "color": "white"
             }
            },
            "header": {
             "fill": {
              "color": "#C8D4E3"
             },
             "line": {
              "color": "white"
             }
            },
            "type": "table"
           }
          ]
         },
         "layout": {
          "annotationdefaults": {
           "arrowcolor": "#2a3f5f",
           "arrowhead": 0,
           "arrowwidth": 1
          },
          "autotypenumbers": "strict",
          "coloraxis": {
           "colorbar": {
            "outlinewidth": 0,
            "ticks": ""
           }
          },
          "colorscale": {
           "diverging": [
            [
             0,
             "#8e0152"
            ],
            [
             0.1,
             "#c51b7d"
            ],
            [
             0.2,
             "#de77ae"
            ],
            [
             0.3,
             "#f1b6da"
            ],
            [
             0.4,
             "#fde0ef"
            ],
            [
             0.5,
             "#f7f7f7"
            ],
            [
             0.6,
             "#e6f5d0"
            ],
            [
             0.7,
             "#b8e186"
            ],
            [
             0.8,
             "#7fbc41"
            ],
            [
             0.9,
             "#4d9221"
            ],
            [
             1,
             "#276419"
            ]
           ],
           "sequential": [
            [
             0,
             "#0d0887"
            ],
            [
             0.1111111111111111,
             "#46039f"
            ],
            [
             0.2222222222222222,
             "#7201a8"
            ],
            [
             0.3333333333333333,
             "#9c179e"
            ],
            [
             0.4444444444444444,
             "#bd3786"
            ],
            [
             0.5555555555555556,
             "#d8576b"
            ],
            [
             0.6666666666666666,
             "#ed7953"
            ],
            [
             0.7777777777777778,
             "#fb9f3a"
            ],
            [
             0.8888888888888888,
             "#fdca26"
            ],
            [
             1,
             "#f0f921"
            ]
           ],
           "sequentialminus": [
            [
             0,
             "#0d0887"
            ],
            [
             0.1111111111111111,
             "#46039f"
            ],
            [
             0.2222222222222222,
             "#7201a8"
            ],
            [
             0.3333333333333333,
             "#9c179e"
            ],
            [
             0.4444444444444444,
             "#bd3786"
            ],
            [
             0.5555555555555556,
             "#d8576b"
            ],
            [
             0.6666666666666666,
             "#ed7953"
            ],
            [
             0.7777777777777778,
             "#fb9f3a"
            ],
            [
             0.8888888888888888,
             "#fdca26"
            ],
            [
             1,
             "#f0f921"
            ]
           ]
          },
          "colorway": [
           "#636efa",
           "#EF553B",
           "#00cc96",
           "#ab63fa",
           "#FFA15A",
           "#19d3f3",
           "#FF6692",
           "#B6E880",
           "#FF97FF",
           "#FECB52"
          ],
          "font": {
           "color": "#2a3f5f"
          },
          "geo": {
           "bgcolor": "white",
           "lakecolor": "white",
           "landcolor": "#E5ECF6",
           "showlakes": true,
           "showland": true,
           "subunitcolor": "white"
          },
          "hoverlabel": {
           "align": "left"
          },
          "hovermode": "closest",
          "mapbox": {
           "style": "light"
          },
          "paper_bgcolor": "white",
          "plot_bgcolor": "#E5ECF6",
          "polar": {
           "angularaxis": {
            "gridcolor": "white",
            "linecolor": "white",
            "ticks": ""
           },
           "bgcolor": "#E5ECF6",
           "radialaxis": {
            "gridcolor": "white",
            "linecolor": "white",
            "ticks": ""
           }
          },
          "scene": {
           "xaxis": {
            "backgroundcolor": "#E5ECF6",
            "gridcolor": "white",
            "gridwidth": 2,
            "linecolor": "white",
            "showbackground": true,
            "ticks": "",
            "zerolinecolor": "white"
           },
           "yaxis": {
            "backgroundcolor": "#E5ECF6",
            "gridcolor": "white",
            "gridwidth": 2,
            "linecolor": "white",
            "showbackground": true,
            "ticks": "",
            "zerolinecolor": "white"
           },
           "zaxis": {
            "backgroundcolor": "#E5ECF6",
            "gridcolor": "white",
            "gridwidth": 2,
            "linecolor": "white",
            "showbackground": true,
            "ticks": "",
            "zerolinecolor": "white"
           }
          },
          "shapedefaults": {
           "line": {
            "color": "#2a3f5f"
           }
          },
          "ternary": {
           "aaxis": {
            "gridcolor": "white",
            "linecolor": "white",
            "ticks": ""
           },
           "baxis": {
            "gridcolor": "white",
            "linecolor": "white",
            "ticks": ""
           },
           "bgcolor": "#E5ECF6",
           "caxis": {
            "gridcolor": "white",
            "linecolor": "white",
            "ticks": ""
           }
          },
          "title": {
           "x": 0.05
          },
          "xaxis": {
           "automargin": true,
           "gridcolor": "white",
           "linecolor": "white",
           "ticks": "",
           "title": {
            "standoff": 15
           },
           "zerolinecolor": "white",
           "zerolinewidth": 2
          },
          "yaxis": {
           "automargin": true,
           "gridcolor": "white",
           "linecolor": "white",
           "ticks": "",
           "title": {
            "standoff": 15
           },
           "zerolinecolor": "white",
           "zerolinewidth": 2
          }
         }
        },
        "xaxis": {
         "anchor": "y",
         "domain": [
          0,
          1
         ],
         "title": {
          "text": "Number of replications"
         }
        },
        "yaxis": {
         "anchor": "x",
         "domain": [
          0,
          1
         ],
         "title": {
          "text": "mean_time_with_nurse"
         }
        }
       }
      }
     },
     "metadata": {},
     "output_type": "display_data"
    }
   ],
   "source": [
    "confidence_interval_method(\n",
    "    replications=20,\n",
    "    metric='mean_time_with_nurse',\n",
    "    desired_precision=0.05,\n",
    "    min_rep=3\n",
    ")"
   ]
  },
  {
   "cell_type": "markdown",
   "metadata": {},
   "source": [
    "It is important to check ahead 10-20 replications, to check that the 5% precision is maintained. For this example, 3 replications is < 5, but then it quickly goes back up, and is not stable until 31 replications."
   ]
  },
  {
   "cell_type": "code",
   "execution_count": 9,
   "metadata": {},
   "outputs": [
    {
     "data": {
      "text/html": [
       "<div>\n",
       "<style scoped>\n",
       "    .dataframe tbody tr th:only-of-type {\n",
       "        vertical-align: middle;\n",
       "    }\n",
       "\n",
       "    .dataframe tbody tr th {\n",
       "        vertical-align: top;\n",
       "    }\n",
       "\n",
       "    .dataframe thead th {\n",
       "        text-align: right;\n",
       "    }\n",
       "</style>\n",
       "<table border=\"1\" class=\"dataframe\">\n",
       "  <thead>\n",
       "    <tr style=\"text-align: right;\">\n",
       "      <th></th>\n",
       "      <th>replications</th>\n",
       "      <th>cumulative_mean</th>\n",
       "      <th>cumulative_std</th>\n",
       "      <th>lower_ci</th>\n",
       "      <th>upper_ci</th>\n",
       "      <th>perc_deviation</th>\n",
       "    </tr>\n",
       "  </thead>\n",
       "  <tbody>\n",
       "    <tr>\n",
       "      <th>0</th>\n",
       "      <td>1</td>\n",
       "      <td>50.454108</td>\n",
       "      <td>NaN</td>\n",
       "      <td>NaN</td>\n",
       "      <td>NaN</td>\n",
       "      <td>NaN</td>\n",
       "    </tr>\n",
       "    <tr>\n",
       "      <th>1</th>\n",
       "      <td>2</td>\n",
       "      <td>50.934587</td>\n",
       "      <td>0.679499</td>\n",
       "      <td>44.829530</td>\n",
       "      <td>57.039643</td>\n",
       "      <td>11.986073</td>\n",
       "    </tr>\n",
       "    <tr>\n",
       "      <th>2</th>\n",
       "      <td>3</td>\n",
       "      <td>51.397555</td>\n",
       "      <td>0.934815</td>\n",
       "      <td>49.075346</td>\n",
       "      <td>53.719764</td>\n",
       "      <td>4.518132</td>\n",
       "    </tr>\n",
       "    <tr>\n",
       "      <th>3</th>\n",
       "      <td>4</td>\n",
       "      <td>50.526888</td>\n",
       "      <td>1.901271</td>\n",
       "      <td>47.501541</td>\n",
       "      <td>53.552234</td>\n",
       "      <td>5.987597</td>\n",
       "    </tr>\n",
       "    <tr>\n",
       "      <th>4</th>\n",
       "      <td>5</td>\n",
       "      <td>49.650659</td>\n",
       "      <td>2.559298</td>\n",
       "      <td>46.472872</td>\n",
       "      <td>52.828447</td>\n",
       "      <td>6.400293</td>\n",
       "    </tr>\n",
       "    <tr>\n",
       "      <th>5</th>\n",
       "      <td>6</td>\n",
       "      <td>47.846628</td>\n",
       "      <td>4.976664</td>\n",
       "      <td>42.623939</td>\n",
       "      <td>53.069317</td>\n",
       "      <td>10.915480</td>\n",
       "    </tr>\n",
       "    <tr>\n",
       "      <th>6</th>\n",
       "      <td>7</td>\n",
       "      <td>47.681940</td>\n",
       "      <td>4.563900</td>\n",
       "      <td>43.461036</td>\n",
       "      <td>51.902843</td>\n",
       "      <td>8.852205</td>\n",
       "    </tr>\n",
       "    <tr>\n",
       "      <th>7</th>\n",
       "      <td>8</td>\n",
       "      <td>49.545302</td>\n",
       "      <td>6.755037</td>\n",
       "      <td>43.897949</td>\n",
       "      <td>55.192654</td>\n",
       "      <td>11.398361</td>\n",
       "    </tr>\n",
       "    <tr>\n",
       "      <th>8</th>\n",
       "      <td>9</td>\n",
       "      <td>49.245792</td>\n",
       "      <td>6.382325</td>\n",
       "      <td>44.339903</td>\n",
       "      <td>54.151681</td>\n",
       "      <td>9.962047</td>\n",
       "    </tr>\n",
       "    <tr>\n",
       "      <th>9</th>\n",
       "      <td>10</td>\n",
       "      <td>49.955562</td>\n",
       "      <td>6.422290</td>\n",
       "      <td>45.361333</td>\n",
       "      <td>54.549792</td>\n",
       "      <td>9.196632</td>\n",
       "    </tr>\n",
       "    <tr>\n",
       "      <th>10</th>\n",
       "      <td>11</td>\n",
       "      <td>50.528566</td>\n",
       "      <td>6.382232</td>\n",
       "      <td>46.240924</td>\n",
       "      <td>54.816207</td>\n",
       "      <td>8.485580</td>\n",
       "    </tr>\n",
       "    <tr>\n",
       "      <th>11</th>\n",
       "      <td>12</td>\n",
       "      <td>49.632950</td>\n",
       "      <td>6.830477</td>\n",
       "      <td>45.293072</td>\n",
       "      <td>53.972828</td>\n",
       "      <td>8.743945</td>\n",
       "    </tr>\n",
       "    <tr>\n",
       "      <th>12</th>\n",
       "      <td>13</td>\n",
       "      <td>49.240444</td>\n",
       "      <td>6.691058</td>\n",
       "      <td>45.197078</td>\n",
       "      <td>53.283810</td>\n",
       "      <td>8.211474</td>\n",
       "    </tr>\n",
       "    <tr>\n",
       "      <th>13</th>\n",
       "      <td>14</td>\n",
       "      <td>48.864416</td>\n",
       "      <td>6.580726</td>\n",
       "      <td>45.064818</td>\n",
       "      <td>52.664014</td>\n",
       "      <td>7.775797</td>\n",
       "    </tr>\n",
       "    <tr>\n",
       "      <th>14</th>\n",
       "      <td>15</td>\n",
       "      <td>49.678670</td>\n",
       "      <td>7.082218</td>\n",
       "      <td>45.756668</td>\n",
       "      <td>53.600672</td>\n",
       "      <td>7.894740</td>\n",
       "    </tr>\n",
       "    <tr>\n",
       "      <th>15</th>\n",
       "      <td>16</td>\n",
       "      <td>49.553191</td>\n",
       "      <td>6.860458</td>\n",
       "      <td>45.897511</td>\n",
       "      <td>53.208871</td>\n",
       "      <td>7.377285</td>\n",
       "    </tr>\n",
       "    <tr>\n",
       "      <th>16</th>\n",
       "      <td>17</td>\n",
       "      <td>49.157922</td>\n",
       "      <td>6.839612</td>\n",
       "      <td>45.641318</td>\n",
       "      <td>52.674526</td>\n",
       "      <td>7.153688</td>\n",
       "    </tr>\n",
       "    <tr>\n",
       "      <th>17</th>\n",
       "      <td>18</td>\n",
       "      <td>49.235673</td>\n",
       "      <td>6.643593</td>\n",
       "      <td>45.931892</td>\n",
       "      <td>52.539455</td>\n",
       "      <td>6.710137</td>\n",
       "    </tr>\n",
       "    <tr>\n",
       "      <th>18</th>\n",
       "      <td>19</td>\n",
       "      <td>48.547386</td>\n",
       "      <td>7.119432</td>\n",
       "      <td>45.115930</td>\n",
       "      <td>51.978842</td>\n",
       "      <td>7.068262</td>\n",
       "    </tr>\n",
       "    <tr>\n",
       "      <th>19</th>\n",
       "      <td>20</td>\n",
       "      <td>48.215812</td>\n",
       "      <td>7.086427</td>\n",
       "      <td>44.899262</td>\n",
       "      <td>51.532361</td>\n",
       "      <td>6.878552</td>\n",
       "    </tr>\n",
       "    <tr>\n",
       "      <th>20</th>\n",
       "      <td>21</td>\n",
       "      <td>48.834174</td>\n",
       "      <td>7.465680</td>\n",
       "      <td>45.435837</td>\n",
       "      <td>52.232511</td>\n",
       "      <td>6.958932</td>\n",
       "    </tr>\n",
       "    <tr>\n",
       "      <th>21</th>\n",
       "      <td>22</td>\n",
       "      <td>48.965899</td>\n",
       "      <td>7.311908</td>\n",
       "      <td>45.723980</td>\n",
       "      <td>52.207817</td>\n",
       "      <td>6.620768</td>\n",
       "    </tr>\n",
       "    <tr>\n",
       "      <th>22</th>\n",
       "      <td>23</td>\n",
       "      <td>49.148498</td>\n",
       "      <td>7.197270</td>\n",
       "      <td>46.036165</td>\n",
       "      <td>52.260830</td>\n",
       "      <td>6.332509</td>\n",
       "    </tr>\n",
       "    <tr>\n",
       "      <th>23</th>\n",
       "      <td>24</td>\n",
       "      <td>49.296704</td>\n",
       "      <td>7.076415</td>\n",
       "      <td>46.308596</td>\n",
       "      <td>52.284812</td>\n",
       "      <td>6.061476</td>\n",
       "    </tr>\n",
       "    <tr>\n",
       "      <th>24</th>\n",
       "      <td>25</td>\n",
       "      <td>49.336715</td>\n",
       "      <td>6.930310</td>\n",
       "      <td>46.476024</td>\n",
       "      <td>52.197406</td>\n",
       "      <td>5.798301</td>\n",
       "    </tr>\n",
       "    <tr>\n",
       "      <th>25</th>\n",
       "      <td>26</td>\n",
       "      <td>49.850937</td>\n",
       "      <td>7.278945</td>\n",
       "      <td>46.910907</td>\n",
       "      <td>52.790966</td>\n",
       "      <td>5.897641</td>\n",
       "    </tr>\n",
       "    <tr>\n",
       "      <th>26</th>\n",
       "      <td>27</td>\n",
       "      <td>49.879344</td>\n",
       "      <td>7.139119</td>\n",
       "      <td>47.055203</td>\n",
       "      <td>52.703485</td>\n",
       "      <td>5.661945</td>\n",
       "    </tr>\n",
       "    <tr>\n",
       "      <th>27</th>\n",
       "      <td>28</td>\n",
       "      <td>49.857060</td>\n",
       "      <td>7.006658</td>\n",
       "      <td>47.140161</td>\n",
       "      <td>52.573958</td>\n",
       "      <td>5.449375</td>\n",
       "    </tr>\n",
       "    <tr>\n",
       "      <th>28</th>\n",
       "      <td>29</td>\n",
       "      <td>49.716192</td>\n",
       "      <td>6.922094</td>\n",
       "      <td>47.083168</td>\n",
       "      <td>52.349216</td>\n",
       "      <td>5.296109</td>\n",
       "    </tr>\n",
       "    <tr>\n",
       "      <th>29</th>\n",
       "      <td>30</td>\n",
       "      <td>49.866454</td>\n",
       "      <td>6.851314</td>\n",
       "      <td>47.308131</td>\n",
       "      <td>52.424776</td>\n",
       "      <td>5.130348</td>\n",
       "    </tr>\n",
       "    <tr>\n",
       "      <th>30</th>\n",
       "      <td>31</td>\n",
       "      <td>49.903691</td>\n",
       "      <td>6.739347</td>\n",
       "      <td>47.431678</td>\n",
       "      <td>52.375703</td>\n",
       "      <td>4.953566</td>\n",
       "    </tr>\n",
       "    <tr>\n",
       "      <th>31</th>\n",
       "      <td>32</td>\n",
       "      <td>49.850411</td>\n",
       "      <td>6.636604</td>\n",
       "      <td>47.457660</td>\n",
       "      <td>52.243162</td>\n",
       "      <td>4.799862</td>\n",
       "    </tr>\n",
       "    <tr>\n",
       "      <th>32</th>\n",
       "      <td>33</td>\n",
       "      <td>49.955695</td>\n",
       "      <td>6.560024</td>\n",
       "      <td>47.629612</td>\n",
       "      <td>52.281778</td>\n",
       "      <td>4.656293</td>\n",
       "    </tr>\n",
       "    <tr>\n",
       "      <th>33</th>\n",
       "      <td>34</td>\n",
       "      <td>50.078240</td>\n",
       "      <td>6.499265</td>\n",
       "      <td>47.810540</td>\n",
       "      <td>52.345941</td>\n",
       "      <td>4.528316</td>\n",
       "    </tr>\n",
       "    <tr>\n",
       "      <th>34</th>\n",
       "      <td>35</td>\n",
       "      <td>50.002865</td>\n",
       "      <td>6.418484</td>\n",
       "      <td>47.798038</td>\n",
       "      <td>52.207691</td>\n",
       "      <td>4.409400</td>\n",
       "    </tr>\n",
       "    <tr>\n",
       "      <th>35</th>\n",
       "      <td>36</td>\n",
       "      <td>49.888926</td>\n",
       "      <td>6.362958</td>\n",
       "      <td>47.736010</td>\n",
       "      <td>52.041841</td>\n",
       "      <td>4.315417</td>\n",
       "    </tr>\n",
       "    <tr>\n",
       "      <th>36</th>\n",
       "      <td>37</td>\n",
       "      <td>50.308907</td>\n",
       "      <td>6.774128</td>\n",
       "      <td>48.050300</td>\n",
       "      <td>52.567514</td>\n",
       "      <td>4.489477</td>\n",
       "    </tr>\n",
       "    <tr>\n",
       "      <th>37</th>\n",
       "      <td>38</td>\n",
       "      <td>50.617933</td>\n",
       "      <td>6.948198</td>\n",
       "      <td>48.334117</td>\n",
       "      <td>52.901749</td>\n",
       "      <td>4.511871</td>\n",
       "    </tr>\n",
       "    <tr>\n",
       "      <th>38</th>\n",
       "      <td>39</td>\n",
       "      <td>50.726526</td>\n",
       "      <td>6.889623</td>\n",
       "      <td>48.493168</td>\n",
       "      <td>52.959883</td>\n",
       "      <td>4.402741</td>\n",
       "    </tr>\n",
       "    <tr>\n",
       "      <th>39</th>\n",
       "      <td>40</td>\n",
       "      <td>51.107307</td>\n",
       "      <td>7.214539</td>\n",
       "      <td>48.799985</td>\n",
       "      <td>53.414629</td>\n",
       "      <td>4.514661</td>\n",
       "    </tr>\n",
       "    <tr>\n",
       "      <th>40</th>\n",
       "      <td>41</td>\n",
       "      <td>51.253305</td>\n",
       "      <td>7.184864</td>\n",
       "      <td>48.985482</td>\n",
       "      <td>53.521127</td>\n",
       "      <td>4.424735</td>\n",
       "    </tr>\n",
       "    <tr>\n",
       "      <th>41</th>\n",
       "      <td>42</td>\n",
       "      <td>51.158101</td>\n",
       "      <td>7.123473</td>\n",
       "      <td>48.938271</td>\n",
       "      <td>53.377932</td>\n",
       "      <td>4.339157</td>\n",
       "    </tr>\n",
       "    <tr>\n",
       "      <th>42</th>\n",
       "      <td>43</td>\n",
       "      <td>51.309010</td>\n",
       "      <td>7.107386</td>\n",
       "      <td>49.121680</td>\n",
       "      <td>53.496341</td>\n",
       "      <td>4.263054</td>\n",
       "    </tr>\n",
       "    <tr>\n",
       "      <th>43</th>\n",
       "      <td>44</td>\n",
       "      <td>51.432981</td>\n",
       "      <td>7.072227</td>\n",
       "      <td>49.282828</td>\n",
       "      <td>53.583135</td>\n",
       "      <td>4.180496</td>\n",
       "    </tr>\n",
       "    <tr>\n",
       "      <th>44</th>\n",
       "      <td>45</td>\n",
       "      <td>51.762158</td>\n",
       "      <td>7.331830</td>\n",
       "      <td>49.559432</td>\n",
       "      <td>53.964883</td>\n",
       "      <td>4.255475</td>\n",
       "    </tr>\n",
       "    <tr>\n",
       "      <th>45</th>\n",
       "      <td>46</td>\n",
       "      <td>52.120721</td>\n",
       "      <td>7.646912</td>\n",
       "      <td>49.849868</td>\n",
       "      <td>54.391573</td>\n",
       "      <td>4.356909</td>\n",
       "    </tr>\n",
       "    <tr>\n",
       "      <th>46</th>\n",
       "      <td>47</td>\n",
       "      <td>51.999456</td>\n",
       "      <td>7.608890</td>\n",
       "      <td>49.765402</td>\n",
       "      <td>54.233510</td>\n",
       "      <td>4.296302</td>\n",
       "    </tr>\n",
       "    <tr>\n",
       "      <th>47</th>\n",
       "      <td>48</td>\n",
       "      <td>52.091068</td>\n",
       "      <td>7.554220</td>\n",
       "      <td>49.897551</td>\n",
       "      <td>54.284585</td>\n",
       "      <td>4.210927</td>\n",
       "    </tr>\n",
       "    <tr>\n",
       "      <th>48</th>\n",
       "      <td>49</td>\n",
       "      <td>52.011852</td>\n",
       "      <td>7.495655</td>\n",
       "      <td>49.858849</td>\n",
       "      <td>54.164856</td>\n",
       "      <td>4.139448</td>\n",
       "    </tr>\n",
       "    <tr>\n",
       "      <th>49</th>\n",
       "      <td>50</td>\n",
       "      <td>51.955719</td>\n",
       "      <td>7.429385</td>\n",
       "      <td>49.844311</td>\n",
       "      <td>54.067127</td>\n",
       "      <td>4.063860</td>\n",
       "    </tr>\n",
       "  </tbody>\n",
       "</table>\n",
       "</div>"
      ],
      "text/plain": [
       "    replications  cumulative_mean  cumulative_std   lower_ci   upper_ci  \\\n",
       "0              1        50.454108             NaN        NaN        NaN   \n",
       "1              2        50.934587        0.679499  44.829530  57.039643   \n",
       "2              3        51.397555        0.934815  49.075346  53.719764   \n",
       "3              4        50.526888        1.901271  47.501541  53.552234   \n",
       "4              5        49.650659        2.559298  46.472872  52.828447   \n",
       "5              6        47.846628        4.976664  42.623939  53.069317   \n",
       "6              7        47.681940        4.563900  43.461036  51.902843   \n",
       "7              8        49.545302        6.755037  43.897949  55.192654   \n",
       "8              9        49.245792        6.382325  44.339903  54.151681   \n",
       "9             10        49.955562        6.422290  45.361333  54.549792   \n",
       "10            11        50.528566        6.382232  46.240924  54.816207   \n",
       "11            12        49.632950        6.830477  45.293072  53.972828   \n",
       "12            13        49.240444        6.691058  45.197078  53.283810   \n",
       "13            14        48.864416        6.580726  45.064818  52.664014   \n",
       "14            15        49.678670        7.082218  45.756668  53.600672   \n",
       "15            16        49.553191        6.860458  45.897511  53.208871   \n",
       "16            17        49.157922        6.839612  45.641318  52.674526   \n",
       "17            18        49.235673        6.643593  45.931892  52.539455   \n",
       "18            19        48.547386        7.119432  45.115930  51.978842   \n",
       "19            20        48.215812        7.086427  44.899262  51.532361   \n",
       "20            21        48.834174        7.465680  45.435837  52.232511   \n",
       "21            22        48.965899        7.311908  45.723980  52.207817   \n",
       "22            23        49.148498        7.197270  46.036165  52.260830   \n",
       "23            24        49.296704        7.076415  46.308596  52.284812   \n",
       "24            25        49.336715        6.930310  46.476024  52.197406   \n",
       "25            26        49.850937        7.278945  46.910907  52.790966   \n",
       "26            27        49.879344        7.139119  47.055203  52.703485   \n",
       "27            28        49.857060        7.006658  47.140161  52.573958   \n",
       "28            29        49.716192        6.922094  47.083168  52.349216   \n",
       "29            30        49.866454        6.851314  47.308131  52.424776   \n",
       "30            31        49.903691        6.739347  47.431678  52.375703   \n",
       "31            32        49.850411        6.636604  47.457660  52.243162   \n",
       "32            33        49.955695        6.560024  47.629612  52.281778   \n",
       "33            34        50.078240        6.499265  47.810540  52.345941   \n",
       "34            35        50.002865        6.418484  47.798038  52.207691   \n",
       "35            36        49.888926        6.362958  47.736010  52.041841   \n",
       "36            37        50.308907        6.774128  48.050300  52.567514   \n",
       "37            38        50.617933        6.948198  48.334117  52.901749   \n",
       "38            39        50.726526        6.889623  48.493168  52.959883   \n",
       "39            40        51.107307        7.214539  48.799985  53.414629   \n",
       "40            41        51.253305        7.184864  48.985482  53.521127   \n",
       "41            42        51.158101        7.123473  48.938271  53.377932   \n",
       "42            43        51.309010        7.107386  49.121680  53.496341   \n",
       "43            44        51.432981        7.072227  49.282828  53.583135   \n",
       "44            45        51.762158        7.331830  49.559432  53.964883   \n",
       "45            46        52.120721        7.646912  49.849868  54.391573   \n",
       "46            47        51.999456        7.608890  49.765402  54.233510   \n",
       "47            48        52.091068        7.554220  49.897551  54.284585   \n",
       "48            49        52.011852        7.495655  49.858849  54.164856   \n",
       "49            50        51.955719        7.429385  49.844311  54.067127   \n",
       "\n",
       "    perc_deviation  \n",
       "0              NaN  \n",
       "1        11.986073  \n",
       "2         4.518132  \n",
       "3         5.987597  \n",
       "4         6.400293  \n",
       "5        10.915480  \n",
       "6         8.852205  \n",
       "7        11.398361  \n",
       "8         9.962047  \n",
       "9         9.196632  \n",
       "10        8.485580  \n",
       "11        8.743945  \n",
       "12        8.211474  \n",
       "13        7.775797  \n",
       "14        7.894740  \n",
       "15        7.377285  \n",
       "16        7.153688  \n",
       "17        6.710137  \n",
       "18        7.068262  \n",
       "19        6.878552  \n",
       "20        6.958932  \n",
       "21        6.620768  \n",
       "22        6.332509  \n",
       "23        6.061476  \n",
       "24        5.798301  \n",
       "25        5.897641  \n",
       "26        5.661945  \n",
       "27        5.449375  \n",
       "28        5.296109  \n",
       "29        5.130348  \n",
       "30        4.953566  \n",
       "31        4.799862  \n",
       "32        4.656293  \n",
       "33        4.528316  \n",
       "34        4.409400  \n",
       "35        4.315417  \n",
       "36        4.489477  \n",
       "37        4.511871  \n",
       "38        4.402741  \n",
       "39        4.514661  \n",
       "40        4.424735  \n",
       "41        4.339157  \n",
       "42        4.263054  \n",
       "43        4.180496  \n",
       "44        4.255475  \n",
       "45        4.356909  \n",
       "46        4.296302  \n",
       "47        4.210927  \n",
       "48        4.139448  \n",
       "49        4.063860  "
      ]
     },
     "metadata": {},
     "output_type": "display_data"
    },
    {
     "name": "stdout",
     "output_type": "stream",
     "text": [
      "Reached desired precision (0.05) in 3 replications.\n"
     ]
    },
    {
     "data": {
      "application/vnd.plotly.v1+json": {
       "config": {
        "plotlyServerURL": "https://plot.ly"
       },
       "data": [
        {
         "hovertemplate": "variable=cumulative_mean<br>replications=%{x}<br>value=%{y}<extra></extra>",
         "legendgroup": "cumulative_mean",
         "line": {
          "color": "#636efa",
          "dash": "solid"
         },
         "marker": {
          "symbol": "circle"
         },
         "mode": "lines",
         "name": "cumulative_mean",
         "orientation": "v",
         "showlegend": true,
         "type": "scatter",
         "x": [
          1,
          2,
          3,
          4,
          5,
          6,
          7,
          8,
          9,
          10,
          11,
          12,
          13,
          14,
          15,
          16,
          17,
          18,
          19,
          20,
          21,
          22,
          23,
          24,
          25,
          26,
          27,
          28,
          29,
          30,
          31,
          32,
          33,
          34,
          35,
          36,
          37,
          38,
          39,
          40,
          41,
          42,
          43,
          44,
          45,
          46,
          47,
          48,
          49,
          50
         ],
         "xaxis": "x",
         "y": [
          50.454108133861496,
          50.9345865171004,
          51.397555098122986,
          50.52688790311877,
          49.65065946781098,
          47.84662767005613,
          47.68193954814792,
          49.54530161589753,
          49.24579179901227,
          49.955562481112146,
          50.52856561182975,
          49.63295034445772,
          49.240443624489245,
          48.86441604370572,
          49.67867015521599,
          49.55319066503698,
          49.157921979277404,
          49.23567345862779,
          48.547385951850934,
          48.21581151445441,
          48.8341738271005,
          48.96589894643734,
          49.14849751376411,
          49.29670436638265,
          49.33671521294648,
          49.85093651270256,
          49.87934414589377,
          49.857059600665806,
          49.71619175807141,
          49.86645394562918,
          49.90369055664021,
          49.85041110323886,
          49.95569502030414,
          50.078240420652314,
          50.00286466905623,
          49.88892567847176,
          50.30890719744652,
          50.61793289147639,
          50.726525556136416,
          51.107306876901966,
          51.25330458745603,
          51.158101300394435,
          51.309010293312035,
          51.43298146439347,
          51.76215758519753,
          52.120720871328885,
          51.99945607918535,
          52.09106794087152,
          52.01185242028414,
          51.95571927478935
         ],
         "yaxis": "y"
        },
        {
         "hovertemplate": "variable=lower_ci<br>replications=%{x}<br>value=%{y}<extra></extra>",
         "legendgroup": "lower_ci",
         "line": {
          "color": "#EF553B",
          "dash": "solid"
         },
         "marker": {
          "symbol": "circle"
         },
         "mode": "lines",
         "name": "lower_ci",
         "orientation": "v",
         "showlegend": true,
         "type": "scatter",
         "x": [
          1,
          2,
          3,
          4,
          5,
          6,
          7,
          8,
          9,
          10,
          11,
          12,
          13,
          14,
          15,
          16,
          17,
          18,
          19,
          20,
          21,
          22,
          23,
          24,
          25,
          26,
          27,
          28,
          29,
          30,
          31,
          32,
          33,
          34,
          35,
          36,
          37,
          38,
          39,
          40,
          41,
          42,
          43,
          44,
          45,
          46,
          47,
          48,
          49,
          50
         ],
         "xaxis": "x",
         "y": [
          null,
          44.82952980823701,
          49.075345752234426,
          47.50154139555324,
          46.47287157316492,
          42.6239386966234,
          43.461036473080895,
          43.8979491956498,
          44.33990286035744,
          45.36133327371767,
          46.24092400613056,
          45.29307245587066,
          45.197077539910225,
          45.06481819033541,
          45.75666846800609,
          45.8975107448092,
          45.64131775138991,
          45.93189225382797,
          45.11592958132439,
          44.89926173551309,
          45.43583690969251,
          45.72398046297012,
          46.03616470234551,
          46.30859624123202,
          46.47602404720858,
          46.9109071628804,
          47.05520288898672,
          47.14016138031387,
          47.08316788336251,
          47.30813142746699,
          47.43167813515013,
          47.45766018510719,
          47.6296115834672,
          47.8105395336712,
          47.798038280084505,
          47.73601037495089,
          48.05030030909724,
          48.33411693347069,
          48.49316819482629,
          48.799985228531995,
          48.98548173310083,
          48.938270953705825,
          49.121679713233895,
          49.28282780899037,
          49.55943211647076,
          49.849868285567496,
          49.765402314539806,
          49.89755103181367,
          49.85884893297667,
          49.84431143912996
         ],
         "yaxis": "y"
        },
        {
         "hovertemplate": "variable=upper_ci<br>replications=%{x}<br>value=%{y}<extra></extra>",
         "legendgroup": "upper_ci",
         "line": {
          "color": "#00cc96",
          "dash": "solid"
         },
         "marker": {
          "symbol": "circle"
         },
         "mode": "lines",
         "name": "upper_ci",
         "orientation": "v",
         "showlegend": true,
         "type": "scatter",
         "x": [
          1,
          2,
          3,
          4,
          5,
          6,
          7,
          8,
          9,
          10,
          11,
          12,
          13,
          14,
          15,
          16,
          17,
          18,
          19,
          20,
          21,
          22,
          23,
          24,
          25,
          26,
          27,
          28,
          29,
          30,
          31,
          32,
          33,
          34,
          35,
          36,
          37,
          38,
          39,
          40,
          41,
          42,
          43,
          44,
          45,
          46,
          47,
          48,
          49,
          50
         ],
         "xaxis": "x",
         "y": [
          null,
          57.039643225963786,
          53.719764444011545,
          53.5522344106843,
          52.82844736245704,
          53.06931664348886,
          51.90284262321495,
          55.19265403614526,
          54.15168073766709,
          54.54979168850662,
          54.816207217528934,
          53.97282823304478,
          53.283809709068265,
          52.664013897076025,
          53.60067184242589,
          53.208870585264755,
          52.674526207164895,
          52.539454663427605,
          51.97884232237748,
          51.532361293395724,
          52.23251074450849,
          52.207817429904566,
          52.26083032518272,
          52.28481249153328,
          52.19740637868438,
          52.79096586252472,
          52.703485402800816,
          52.57395782101774,
          52.34921563278031,
          52.424776463791375,
          52.375702978130285,
          52.24316202137054,
          52.28177845714108,
          52.34594130763343,
          52.207691058027955,
          52.04184098199263,
          52.56751408579581,
          52.9017488494821,
          52.95988291744654,
          53.41462852527194,
          53.521127441811224,
          53.377931647083045,
          53.496340873390174,
          53.58313511979657,
          53.9648830539243,
          54.391573457090274,
          54.233509843830895,
          54.28458484992937,
          54.164855907591615,
          54.067127110448745
         ],
         "yaxis": "y"
        }
       ],
       "layout": {
        "legend": {
         "title": {
          "text": "variable"
         },
         "tracegroupgap": 0
        },
        "margin": {
         "t": 60
        },
        "shapes": [
         {
          "line": {
           "color": "red",
           "dash": "dash"
          },
          "type": "line",
          "x0": 31,
          "x1": 31,
          "xref": "x",
          "y0": 0,
          "y1": 1,
          "yref": "y domain"
         }
        ],
        "template": {
         "data": {
          "bar": [
           {
            "error_x": {
             "color": "#2a3f5f"
            },
            "error_y": {
             "color": "#2a3f5f"
            },
            "marker": {
             "line": {
              "color": "#E5ECF6",
              "width": 0.5
             },
             "pattern": {
              "fillmode": "overlay",
              "size": 10,
              "solidity": 0.2
             }
            },
            "type": "bar"
           }
          ],
          "barpolar": [
           {
            "marker": {
             "line": {
              "color": "#E5ECF6",
              "width": 0.5
             },
             "pattern": {
              "fillmode": "overlay",
              "size": 10,
              "solidity": 0.2
             }
            },
            "type": "barpolar"
           }
          ],
          "carpet": [
           {
            "aaxis": {
             "endlinecolor": "#2a3f5f",
             "gridcolor": "white",
             "linecolor": "white",
             "minorgridcolor": "white",
             "startlinecolor": "#2a3f5f"
            },
            "baxis": {
             "endlinecolor": "#2a3f5f",
             "gridcolor": "white",
             "linecolor": "white",
             "minorgridcolor": "white",
             "startlinecolor": "#2a3f5f"
            },
            "type": "carpet"
           }
          ],
          "choropleth": [
           {
            "colorbar": {
             "outlinewidth": 0,
             "ticks": ""
            },
            "type": "choropleth"
           }
          ],
          "contour": [
           {
            "colorbar": {
             "outlinewidth": 0,
             "ticks": ""
            },
            "colorscale": [
             [
              0,
              "#0d0887"
             ],
             [
              0.1111111111111111,
              "#46039f"
             ],
             [
              0.2222222222222222,
              "#7201a8"
             ],
             [
              0.3333333333333333,
              "#9c179e"
             ],
             [
              0.4444444444444444,
              "#bd3786"
             ],
             [
              0.5555555555555556,
              "#d8576b"
             ],
             [
              0.6666666666666666,
              "#ed7953"
             ],
             [
              0.7777777777777778,
              "#fb9f3a"
             ],
             [
              0.8888888888888888,
              "#fdca26"
             ],
             [
              1,
              "#f0f921"
             ]
            ],
            "type": "contour"
           }
          ],
          "contourcarpet": [
           {
            "colorbar": {
             "outlinewidth": 0,
             "ticks": ""
            },
            "type": "contourcarpet"
           }
          ],
          "heatmap": [
           {
            "colorbar": {
             "outlinewidth": 0,
             "ticks": ""
            },
            "colorscale": [
             [
              0,
              "#0d0887"
             ],
             [
              0.1111111111111111,
              "#46039f"
             ],
             [
              0.2222222222222222,
              "#7201a8"
             ],
             [
              0.3333333333333333,
              "#9c179e"
             ],
             [
              0.4444444444444444,
              "#bd3786"
             ],
             [
              0.5555555555555556,
              "#d8576b"
             ],
             [
              0.6666666666666666,
              "#ed7953"
             ],
             [
              0.7777777777777778,
              "#fb9f3a"
             ],
             [
              0.8888888888888888,
              "#fdca26"
             ],
             [
              1,
              "#f0f921"
             ]
            ],
            "type": "heatmap"
           }
          ],
          "heatmapgl": [
           {
            "colorbar": {
             "outlinewidth": 0,
             "ticks": ""
            },
            "colorscale": [
             [
              0,
              "#0d0887"
             ],
             [
              0.1111111111111111,
              "#46039f"
             ],
             [
              0.2222222222222222,
              "#7201a8"
             ],
             [
              0.3333333333333333,
              "#9c179e"
             ],
             [
              0.4444444444444444,
              "#bd3786"
             ],
             [
              0.5555555555555556,
              "#d8576b"
             ],
             [
              0.6666666666666666,
              "#ed7953"
             ],
             [
              0.7777777777777778,
              "#fb9f3a"
             ],
             [
              0.8888888888888888,
              "#fdca26"
             ],
             [
              1,
              "#f0f921"
             ]
            ],
            "type": "heatmapgl"
           }
          ],
          "histogram": [
           {
            "marker": {
             "pattern": {
              "fillmode": "overlay",
              "size": 10,
              "solidity": 0.2
             }
            },
            "type": "histogram"
           }
          ],
          "histogram2d": [
           {
            "colorbar": {
             "outlinewidth": 0,
             "ticks": ""
            },
            "colorscale": [
             [
              0,
              "#0d0887"
             ],
             [
              0.1111111111111111,
              "#46039f"
             ],
             [
              0.2222222222222222,
              "#7201a8"
             ],
             [
              0.3333333333333333,
              "#9c179e"
             ],
             [
              0.4444444444444444,
              "#bd3786"
             ],
             [
              0.5555555555555556,
              "#d8576b"
             ],
             [
              0.6666666666666666,
              "#ed7953"
             ],
             [
              0.7777777777777778,
              "#fb9f3a"
             ],
             [
              0.8888888888888888,
              "#fdca26"
             ],
             [
              1,
              "#f0f921"
             ]
            ],
            "type": "histogram2d"
           }
          ],
          "histogram2dcontour": [
           {
            "colorbar": {
             "outlinewidth": 0,
             "ticks": ""
            },
            "colorscale": [
             [
              0,
              "#0d0887"
             ],
             [
              0.1111111111111111,
              "#46039f"
             ],
             [
              0.2222222222222222,
              "#7201a8"
             ],
             [
              0.3333333333333333,
              "#9c179e"
             ],
             [
              0.4444444444444444,
              "#bd3786"
             ],
             [
              0.5555555555555556,
              "#d8576b"
             ],
             [
              0.6666666666666666,
              "#ed7953"
             ],
             [
              0.7777777777777778,
              "#fb9f3a"
             ],
             [
              0.8888888888888888,
              "#fdca26"
             ],
             [
              1,
              "#f0f921"
             ]
            ],
            "type": "histogram2dcontour"
           }
          ],
          "mesh3d": [
           {
            "colorbar": {
             "outlinewidth": 0,
             "ticks": ""
            },
            "type": "mesh3d"
           }
          ],
          "parcoords": [
           {
            "line": {
             "colorbar": {
              "outlinewidth": 0,
              "ticks": ""
             }
            },
            "type": "parcoords"
           }
          ],
          "pie": [
           {
            "automargin": true,
            "type": "pie"
           }
          ],
          "scatter": [
           {
            "fillpattern": {
             "fillmode": "overlay",
             "size": 10,
             "solidity": 0.2
            },
            "type": "scatter"
           }
          ],
          "scatter3d": [
           {
            "line": {
             "colorbar": {
              "outlinewidth": 0,
              "ticks": ""
             }
            },
            "marker": {
             "colorbar": {
              "outlinewidth": 0,
              "ticks": ""
             }
            },
            "type": "scatter3d"
           }
          ],
          "scattercarpet": [
           {
            "marker": {
             "colorbar": {
              "outlinewidth": 0,
              "ticks": ""
             }
            },
            "type": "scattercarpet"
           }
          ],
          "scattergeo": [
           {
            "marker": {
             "colorbar": {
              "outlinewidth": 0,
              "ticks": ""
             }
            },
            "type": "scattergeo"
           }
          ],
          "scattergl": [
           {
            "marker": {
             "colorbar": {
              "outlinewidth": 0,
              "ticks": ""
             }
            },
            "type": "scattergl"
           }
          ],
          "scattermapbox": [
           {
            "marker": {
             "colorbar": {
              "outlinewidth": 0,
              "ticks": ""
             }
            },
            "type": "scattermapbox"
           }
          ],
          "scatterpolar": [
           {
            "marker": {
             "colorbar": {
              "outlinewidth": 0,
              "ticks": ""
             }
            },
            "type": "scatterpolar"
           }
          ],
          "scatterpolargl": [
           {
            "marker": {
             "colorbar": {
              "outlinewidth": 0,
              "ticks": ""
             }
            },
            "type": "scatterpolargl"
           }
          ],
          "scatterternary": [
           {
            "marker": {
             "colorbar": {
              "outlinewidth": 0,
              "ticks": ""
             }
            },
            "type": "scatterternary"
           }
          ],
          "surface": [
           {
            "colorbar": {
             "outlinewidth": 0,
             "ticks": ""
            },
            "colorscale": [
             [
              0,
              "#0d0887"
             ],
             [
              0.1111111111111111,
              "#46039f"
             ],
             [
              0.2222222222222222,
              "#7201a8"
             ],
             [
              0.3333333333333333,
              "#9c179e"
             ],
             [
              0.4444444444444444,
              "#bd3786"
             ],
             [
              0.5555555555555556,
              "#d8576b"
             ],
             [
              0.6666666666666666,
              "#ed7953"
             ],
             [
              0.7777777777777778,
              "#fb9f3a"
             ],
             [
              0.8888888888888888,
              "#fdca26"
             ],
             [
              1,
              "#f0f921"
             ]
            ],
            "type": "surface"
           }
          ],
          "table": [
           {
            "cells": {
             "fill": {
              "color": "#EBF0F8"
             },
             "line": {
              "color": "white"
             }
            },
            "header": {
             "fill": {
              "color": "#C8D4E3"
             },
             "line": {
              "color": "white"
             }
            },
            "type": "table"
           }
          ]
         },
         "layout": {
          "annotationdefaults": {
           "arrowcolor": "#2a3f5f",
           "arrowhead": 0,
           "arrowwidth": 1
          },
          "autotypenumbers": "strict",
          "coloraxis": {
           "colorbar": {
            "outlinewidth": 0,
            "ticks": ""
           }
          },
          "colorscale": {
           "diverging": [
            [
             0,
             "#8e0152"
            ],
            [
             0.1,
             "#c51b7d"
            ],
            [
             0.2,
             "#de77ae"
            ],
            [
             0.3,
             "#f1b6da"
            ],
            [
             0.4,
             "#fde0ef"
            ],
            [
             0.5,
             "#f7f7f7"
            ],
            [
             0.6,
             "#e6f5d0"
            ],
            [
             0.7,
             "#b8e186"
            ],
            [
             0.8,
             "#7fbc41"
            ],
            [
             0.9,
             "#4d9221"
            ],
            [
             1,
             "#276419"
            ]
           ],
           "sequential": [
            [
             0,
             "#0d0887"
            ],
            [
             0.1111111111111111,
             "#46039f"
            ],
            [
             0.2222222222222222,
             "#7201a8"
            ],
            [
             0.3333333333333333,
             "#9c179e"
            ],
            [
             0.4444444444444444,
             "#bd3786"
            ],
            [
             0.5555555555555556,
             "#d8576b"
            ],
            [
             0.6666666666666666,
             "#ed7953"
            ],
            [
             0.7777777777777778,
             "#fb9f3a"
            ],
            [
             0.8888888888888888,
             "#fdca26"
            ],
            [
             1,
             "#f0f921"
            ]
           ],
           "sequentialminus": [
            [
             0,
             "#0d0887"
            ],
            [
             0.1111111111111111,
             "#46039f"
            ],
            [
             0.2222222222222222,
             "#7201a8"
            ],
            [
             0.3333333333333333,
             "#9c179e"
            ],
            [
             0.4444444444444444,
             "#bd3786"
            ],
            [
             0.5555555555555556,
             "#d8576b"
            ],
            [
             0.6666666666666666,
             "#ed7953"
            ],
            [
             0.7777777777777778,
             "#fb9f3a"
            ],
            [
             0.8888888888888888,
             "#fdca26"
            ],
            [
             1,
             "#f0f921"
            ]
           ]
          },
          "colorway": [
           "#636efa",
           "#EF553B",
           "#00cc96",
           "#ab63fa",
           "#FFA15A",
           "#19d3f3",
           "#FF6692",
           "#B6E880",
           "#FF97FF",
           "#FECB52"
          ],
          "font": {
           "color": "#2a3f5f"
          },
          "geo": {
           "bgcolor": "white",
           "lakecolor": "white",
           "landcolor": "#E5ECF6",
           "showlakes": true,
           "showland": true,
           "subunitcolor": "white"
          },
          "hoverlabel": {
           "align": "left"
          },
          "hovermode": "closest",
          "mapbox": {
           "style": "light"
          },
          "paper_bgcolor": "white",
          "plot_bgcolor": "#E5ECF6",
          "polar": {
           "angularaxis": {
            "gridcolor": "white",
            "linecolor": "white",
            "ticks": ""
           },
           "bgcolor": "#E5ECF6",
           "radialaxis": {
            "gridcolor": "white",
            "linecolor": "white",
            "ticks": ""
           }
          },
          "scene": {
           "xaxis": {
            "backgroundcolor": "#E5ECF6",
            "gridcolor": "white",
            "gridwidth": 2,
            "linecolor": "white",
            "showbackground": true,
            "ticks": "",
            "zerolinecolor": "white"
           },
           "yaxis": {
            "backgroundcolor": "#E5ECF6",
            "gridcolor": "white",
            "gridwidth": 2,
            "linecolor": "white",
            "showbackground": true,
            "ticks": "",
            "zerolinecolor": "white"
           },
           "zaxis": {
            "backgroundcolor": "#E5ECF6",
            "gridcolor": "white",
            "gridwidth": 2,
            "linecolor": "white",
            "showbackground": true,
            "ticks": "",
            "zerolinecolor": "white"
           }
          },
          "shapedefaults": {
           "line": {
            "color": "#2a3f5f"
           }
          },
          "ternary": {
           "aaxis": {
            "gridcolor": "white",
            "linecolor": "white",
            "ticks": ""
           },
           "baxis": {
            "gridcolor": "white",
            "linecolor": "white",
            "ticks": ""
           },
           "bgcolor": "#E5ECF6",
           "caxis": {
            "gridcolor": "white",
            "linecolor": "white",
            "ticks": ""
           }
          },
          "title": {
           "x": 0.05
          },
          "xaxis": {
           "automargin": true,
           "gridcolor": "white",
           "linecolor": "white",
           "ticks": "",
           "title": {
            "standoff": 15
           },
           "zerolinecolor": "white",
           "zerolinewidth": 2
          },
          "yaxis": {
           "automargin": true,
           "gridcolor": "white",
           "linecolor": "white",
           "ticks": "",
           "title": {
            "standoff": 15
           },
           "zerolinecolor": "white",
           "zerolinewidth": 2
          }
         }
        },
        "xaxis": {
         "anchor": "y",
         "domain": [
          0,
          1
         ],
         "title": {
          "text": "Number of replications"
         }
        },
        "yaxis": {
         "anchor": "x",
         "domain": [
          0,
          1
         ],
         "title": {
          "text": "adj_mean_q_time_nurse"
         }
        }
       }
      }
     },
     "metadata": {},
     "output_type": "display_data"
    }
   ],
   "source": [
    "confidence_interval_method(\n",
    "    replications=50,\n",
    "    metric='mean_q_time_nurse',\n",
    "    desired_precision=0.05,\n",
    "    min_rep=31\n",
    ")"
   ]
  },
  {
   "cell_type": "code",
   "execution_count": 10,
   "metadata": {},
   "outputs": [
    {
     "data": {
      "text/html": [
       "<div>\n",
       "<style scoped>\n",
       "    .dataframe tbody tr th:only-of-type {\n",
       "        vertical-align: middle;\n",
       "    }\n",
       "\n",
       "    .dataframe tbody tr th {\n",
       "        vertical-align: top;\n",
       "    }\n",
       "\n",
       "    .dataframe thead th {\n",
       "        text-align: right;\n",
       "    }\n",
       "</style>\n",
       "<table border=\"1\" class=\"dataframe\">\n",
       "  <thead>\n",
       "    <tr style=\"text-align: right;\">\n",
       "      <th></th>\n",
       "      <th>replications</th>\n",
       "      <th>cumulative_mean</th>\n",
       "      <th>cumulative_std</th>\n",
       "      <th>lower_ci</th>\n",
       "      <th>upper_ci</th>\n",
       "      <th>perc_deviation</th>\n",
       "    </tr>\n",
       "  </thead>\n",
       "  <tbody>\n",
       "    <tr>\n",
       "      <th>0</th>\n",
       "      <td>1</td>\n",
       "      <td>49.963865</td>\n",
       "      <td>NaN</td>\n",
       "      <td>NaN</td>\n",
       "      <td>NaN</td>\n",
       "      <td>NaN</td>\n",
       "    </tr>\n",
       "    <tr>\n",
       "      <th>1</th>\n",
       "      <td>2</td>\n",
       "      <td>50.081459</td>\n",
       "      <td>0.166304</td>\n",
       "      <td>48.587275</td>\n",
       "      <td>51.575644</td>\n",
       "      <td>2.983507</td>\n",
       "    </tr>\n",
       "    <tr>\n",
       "      <th>2</th>\n",
       "      <td>3</td>\n",
       "      <td>49.991963</td>\n",
       "      <td>0.194570</td>\n",
       "      <td>49.508625</td>\n",
       "      <td>50.475301</td>\n",
       "      <td>0.966831</td>\n",
       "    </tr>\n",
       "    <tr>\n",
       "      <th>3</th>\n",
       "      <td>4</td>\n",
       "      <td>49.949485</td>\n",
       "      <td>0.180155</td>\n",
       "      <td>49.662817</td>\n",
       "      <td>50.236152</td>\n",
       "      <td>0.573914</td>\n",
       "    </tr>\n",
       "    <tr>\n",
       "      <th>4</th>\n",
       "      <td>5</td>\n",
       "      <td>49.896994</td>\n",
       "      <td>0.195238</td>\n",
       "      <td>49.654574</td>\n",
       "      <td>50.139415</td>\n",
       "      <td>0.485842</td>\n",
       "    </tr>\n",
       "    <tr>\n",
       "      <th>5</th>\n",
       "      <td>6</td>\n",
       "      <td>49.795899</td>\n",
       "      <td>0.303011</td>\n",
       "      <td>49.477908</td>\n",
       "      <td>50.113890</td>\n",
       "      <td>0.638588</td>\n",
       "    </tr>\n",
       "    <tr>\n",
       "      <th>6</th>\n",
       "      <td>7</td>\n",
       "      <td>49.873003</td>\n",
       "      <td>0.343698</td>\n",
       "      <td>49.555136</td>\n",
       "      <td>50.190870</td>\n",
       "      <td>0.637353</td>\n",
       "    </tr>\n",
       "    <tr>\n",
       "      <th>7</th>\n",
       "      <td>8</td>\n",
       "      <td>49.931989</td>\n",
       "      <td>0.359288</td>\n",
       "      <td>49.631617</td>\n",
       "      <td>50.232361</td>\n",
       "      <td>0.601563</td>\n",
       "    </tr>\n",
       "    <tr>\n",
       "      <th>8</th>\n",
       "      <td>9</td>\n",
       "      <td>50.037224</td>\n",
       "      <td>0.461108</td>\n",
       "      <td>49.682785</td>\n",
       "      <td>50.391663</td>\n",
       "      <td>0.708350</td>\n",
       "    </tr>\n",
       "    <tr>\n",
       "      <th>9</th>\n",
       "      <td>10</td>\n",
       "      <td>50.033219</td>\n",
       "      <td>0.434921</td>\n",
       "      <td>49.722095</td>\n",
       "      <td>50.344343</td>\n",
       "      <td>0.621834</td>\n",
       "    </tr>\n",
       "    <tr>\n",
       "      <th>10</th>\n",
       "      <td>11</td>\n",
       "      <td>50.119630</td>\n",
       "      <td>0.502370</td>\n",
       "      <td>49.782133</td>\n",
       "      <td>50.457127</td>\n",
       "      <td>0.673383</td>\n",
       "    </tr>\n",
       "    <tr>\n",
       "      <th>11</th>\n",
       "      <td>12</td>\n",
       "      <td>50.022356</td>\n",
       "      <td>0.585646</td>\n",
       "      <td>49.650254</td>\n",
       "      <td>50.394457</td>\n",
       "      <td>0.743870</td>\n",
       "    </tr>\n",
       "    <tr>\n",
       "      <th>12</th>\n",
       "      <td>13</td>\n",
       "      <td>50.047003</td>\n",
       "      <td>0.567711</td>\n",
       "      <td>49.703938</td>\n",
       "      <td>50.390067</td>\n",
       "      <td>0.685485</td>\n",
       "    </tr>\n",
       "    <tr>\n",
       "      <th>13</th>\n",
       "      <td>14</td>\n",
       "      <td>49.966892</td>\n",
       "      <td>0.622376</td>\n",
       "      <td>49.607543</td>\n",
       "      <td>50.326242</td>\n",
       "      <td>0.719174</td>\n",
       "    </tr>\n",
       "    <tr>\n",
       "      <th>14</th>\n",
       "      <td>15</td>\n",
       "      <td>50.056635</td>\n",
       "      <td>0.693174</td>\n",
       "      <td>49.672768</td>\n",
       "      <td>50.440503</td>\n",
       "      <td>0.766866</td>\n",
       "    </tr>\n",
       "    <tr>\n",
       "      <th>15</th>\n",
       "      <td>16</td>\n",
       "      <td>50.059114</td>\n",
       "      <td>0.669744</td>\n",
       "      <td>49.702233</td>\n",
       "      <td>50.415996</td>\n",
       "      <td>0.712919</td>\n",
       "    </tr>\n",
       "    <tr>\n",
       "      <th>16</th>\n",
       "      <td>17</td>\n",
       "      <td>49.977371</td>\n",
       "      <td>0.730832</td>\n",
       "      <td>49.601612</td>\n",
       "      <td>50.353130</td>\n",
       "      <td>0.751859</td>\n",
       "    </tr>\n",
       "    <tr>\n",
       "      <th>17</th>\n",
       "      <td>18</td>\n",
       "      <td>49.953121</td>\n",
       "      <td>0.716437</td>\n",
       "      <td>49.596845</td>\n",
       "      <td>50.309397</td>\n",
       "      <td>0.713220</td>\n",
       "    </tr>\n",
       "    <tr>\n",
       "      <th>18</th>\n",
       "      <td>19</td>\n",
       "      <td>49.847018</td>\n",
       "      <td>0.835863</td>\n",
       "      <td>49.444144</td>\n",
       "      <td>50.249891</td>\n",
       "      <td>0.808219</td>\n",
       "    </tr>\n",
       "    <tr>\n",
       "      <th>19</th>\n",
       "      <td>20</td>\n",
       "      <td>49.812312</td>\n",
       "      <td>0.828241</td>\n",
       "      <td>49.424684</td>\n",
       "      <td>50.199941</td>\n",
       "      <td>0.778179</td>\n",
       "    </tr>\n",
       "  </tbody>\n",
       "</table>\n",
       "</div>"
      ],
      "text/plain": [
       "    replications  cumulative_mean  cumulative_std   lower_ci   upper_ci  \\\n",
       "0              1        49.963865             NaN        NaN        NaN   \n",
       "1              2        50.081459        0.166304  48.587275  51.575644   \n",
       "2              3        49.991963        0.194570  49.508625  50.475301   \n",
       "3              4        49.949485        0.180155  49.662817  50.236152   \n",
       "4              5        49.896994        0.195238  49.654574  50.139415   \n",
       "5              6        49.795899        0.303011  49.477908  50.113890   \n",
       "6              7        49.873003        0.343698  49.555136  50.190870   \n",
       "7              8        49.931989        0.359288  49.631617  50.232361   \n",
       "8              9        50.037224        0.461108  49.682785  50.391663   \n",
       "9             10        50.033219        0.434921  49.722095  50.344343   \n",
       "10            11        50.119630        0.502370  49.782133  50.457127   \n",
       "11            12        50.022356        0.585646  49.650254  50.394457   \n",
       "12            13        50.047003        0.567711  49.703938  50.390067   \n",
       "13            14        49.966892        0.622376  49.607543  50.326242   \n",
       "14            15        50.056635        0.693174  49.672768  50.440503   \n",
       "15            16        50.059114        0.669744  49.702233  50.415996   \n",
       "16            17        49.977371        0.730832  49.601612  50.353130   \n",
       "17            18        49.953121        0.716437  49.596845  50.309397   \n",
       "18            19        49.847018        0.835863  49.444144  50.249891   \n",
       "19            20        49.812312        0.828241  49.424684  50.199941   \n",
       "\n",
       "    perc_deviation  \n",
       "0              NaN  \n",
       "1         2.983507  \n",
       "2         0.966831  \n",
       "3         0.573914  \n",
       "4         0.485842  \n",
       "5         0.638588  \n",
       "6         0.637353  \n",
       "7         0.601563  \n",
       "8         0.708350  \n",
       "9         0.621834  \n",
       "10        0.673383  \n",
       "11        0.743870  \n",
       "12        0.685485  \n",
       "13        0.719174  \n",
       "14        0.766866  \n",
       "15        0.712919  \n",
       "16        0.751859  \n",
       "17        0.713220  \n",
       "18        0.808219  \n",
       "19        0.778179  "
      ]
     },
     "metadata": {},
     "output_type": "display_data"
    },
    {
     "name": "stdout",
     "output_type": "stream",
     "text": [
      "Reached desired precision (0.05) in 2 replications.\n"
     ]
    },
    {
     "data": {
      "application/vnd.plotly.v1+json": {
       "config": {
        "plotlyServerURL": "https://plot.ly"
       },
       "data": [
        {
         "hovertemplate": "variable=cumulative_mean<br>replications=%{x}<br>value=%{y}<extra></extra>",
         "legendgroup": "cumulative_mean",
         "line": {
          "color": "#636efa",
          "dash": "solid"
         },
         "marker": {
          "symbol": "circle"
         },
         "mode": "lines",
         "name": "cumulative_mean",
         "orientation": "v",
         "showlegend": true,
         "type": "scatter",
         "x": [
          1,
          2,
          3,
          4,
          5,
          6,
          7,
          8,
          9,
          10,
          11,
          12,
          13,
          14,
          15,
          16,
          17,
          18,
          19,
          20
         ],
         "xaxis": "x",
         "y": [
          49.96386466177992,
          50.08145949752793,
          49.99196310572998,
          49.94948466237189,
          49.89699447400792,
          49.79589927930783,
          49.87300297633526,
          49.931989330602605,
          50.037223792844244,
          50.03321924615158,
          50.119630129686705,
          50.02235556480079,
          50.04700281148129,
          49.96689243523709,
          50.056635426565414,
          50.05911439346754,
          49.97737082046852,
          49.95312089199468,
          49.84701756881236,
          49.81231247446213
         ],
         "yaxis": "y"
        },
        {
         "hovertemplate": "variable=lower_ci<br>replications=%{x}<br>value=%{y}<extra></extra>",
         "legendgroup": "lower_ci",
         "line": {
          "color": "#EF553B",
          "dash": "solid"
         },
         "marker": {
          "symbol": "circle"
         },
         "mode": "lines",
         "name": "lower_ci",
         "orientation": "v",
         "showlegend": true,
         "type": "scatter",
         "x": [
          1,
          2,
          3,
          4,
          5,
          6,
          7,
          8,
          9,
          10,
          11,
          12,
          13,
          14,
          15,
          16,
          17,
          18,
          19,
          20
         ],
         "xaxis": "x",
         "y": [
          null,
          48.587275438566635,
          49.50862524233853,
          49.662817470526655,
          49.654573981970024,
          49.477908406885305,
          49.555135666249576,
          49.63161717576598,
          49.682784952539144,
          49.72209549587158,
          49.78213317706881,
          49.65025412140204,
          49.703938191996585,
          49.60754330690671,
          49.67276821439324,
          49.70223325079497,
          49.6016115296511,
          49.5968450336042,
          49.44414447850286,
          49.424683530191686
         ],
         "yaxis": "y"
        },
        {
         "hovertemplate": "variable=upper_ci<br>replications=%{x}<br>value=%{y}<extra></extra>",
         "legendgroup": "upper_ci",
         "line": {
          "color": "#00cc96",
          "dash": "solid"
         },
         "marker": {
          "symbol": "circle"
         },
         "mode": "lines",
         "name": "upper_ci",
         "orientation": "v",
         "showlegend": true,
         "type": "scatter",
         "x": [
          1,
          2,
          3,
          4,
          5,
          6,
          7,
          8,
          9,
          10,
          11,
          12,
          13,
          14,
          15,
          16,
          17,
          18,
          19,
          20
         ],
         "xaxis": "x",
         "y": [
          null,
          51.575643556489226,
          50.47530096912143,
          50.23615185421712,
          50.13941496604581,
          50.11389015173036,
          50.19087028642094,
          50.23236148543923,
          50.391662633149345,
          50.344342996431585,
          50.4571270823046,
          50.39445700819954,
          50.390067430966,
          50.32624156356747,
          50.44050263873759,
          50.41599553614011,
          50.35313011128594,
          50.30939675038516,
          50.24989065912187,
          50.19994141873258
         ],
         "yaxis": "y"
        }
       ],
       "layout": {
        "legend": {
         "title": {
          "text": "variable"
         },
         "tracegroupgap": 0
        },
        "margin": {
         "t": 60
        },
        "shapes": [
         {
          "line": {
           "color": "red",
           "dash": "dash"
          },
          "type": "line",
          "x0": 3,
          "x1": 3,
          "xref": "x",
          "y0": 0,
          "y1": 1,
          "yref": "y domain"
         }
        ],
        "template": {
         "data": {
          "bar": [
           {
            "error_x": {
             "color": "#2a3f5f"
            },
            "error_y": {
             "color": "#2a3f5f"
            },
            "marker": {
             "line": {
              "color": "#E5ECF6",
              "width": 0.5
             },
             "pattern": {
              "fillmode": "overlay",
              "size": 10,
              "solidity": 0.2
             }
            },
            "type": "bar"
           }
          ],
          "barpolar": [
           {
            "marker": {
             "line": {
              "color": "#E5ECF6",
              "width": 0.5
             },
             "pattern": {
              "fillmode": "overlay",
              "size": 10,
              "solidity": 0.2
             }
            },
            "type": "barpolar"
           }
          ],
          "carpet": [
           {
            "aaxis": {
             "endlinecolor": "#2a3f5f",
             "gridcolor": "white",
             "linecolor": "white",
             "minorgridcolor": "white",
             "startlinecolor": "#2a3f5f"
            },
            "baxis": {
             "endlinecolor": "#2a3f5f",
             "gridcolor": "white",
             "linecolor": "white",
             "minorgridcolor": "white",
             "startlinecolor": "#2a3f5f"
            },
            "type": "carpet"
           }
          ],
          "choropleth": [
           {
            "colorbar": {
             "outlinewidth": 0,
             "ticks": ""
            },
            "type": "choropleth"
           }
          ],
          "contour": [
           {
            "colorbar": {
             "outlinewidth": 0,
             "ticks": ""
            },
            "colorscale": [
             [
              0,
              "#0d0887"
             ],
             [
              0.1111111111111111,
              "#46039f"
             ],
             [
              0.2222222222222222,
              "#7201a8"
             ],
             [
              0.3333333333333333,
              "#9c179e"
             ],
             [
              0.4444444444444444,
              "#bd3786"
             ],
             [
              0.5555555555555556,
              "#d8576b"
             ],
             [
              0.6666666666666666,
              "#ed7953"
             ],
             [
              0.7777777777777778,
              "#fb9f3a"
             ],
             [
              0.8888888888888888,
              "#fdca26"
             ],
             [
              1,
              "#f0f921"
             ]
            ],
            "type": "contour"
           }
          ],
          "contourcarpet": [
           {
            "colorbar": {
             "outlinewidth": 0,
             "ticks": ""
            },
            "type": "contourcarpet"
           }
          ],
          "heatmap": [
           {
            "colorbar": {
             "outlinewidth": 0,
             "ticks": ""
            },
            "colorscale": [
             [
              0,
              "#0d0887"
             ],
             [
              0.1111111111111111,
              "#46039f"
             ],
             [
              0.2222222222222222,
              "#7201a8"
             ],
             [
              0.3333333333333333,
              "#9c179e"
             ],
             [
              0.4444444444444444,
              "#bd3786"
             ],
             [
              0.5555555555555556,
              "#d8576b"
             ],
             [
              0.6666666666666666,
              "#ed7953"
             ],
             [
              0.7777777777777778,
              "#fb9f3a"
             ],
             [
              0.8888888888888888,
              "#fdca26"
             ],
             [
              1,
              "#f0f921"
             ]
            ],
            "type": "heatmap"
           }
          ],
          "heatmapgl": [
           {
            "colorbar": {
             "outlinewidth": 0,
             "ticks": ""
            },
            "colorscale": [
             [
              0,
              "#0d0887"
             ],
             [
              0.1111111111111111,
              "#46039f"
             ],
             [
              0.2222222222222222,
              "#7201a8"
             ],
             [
              0.3333333333333333,
              "#9c179e"
             ],
             [
              0.4444444444444444,
              "#bd3786"
             ],
             [
              0.5555555555555556,
              "#d8576b"
             ],
             [
              0.6666666666666666,
              "#ed7953"
             ],
             [
              0.7777777777777778,
              "#fb9f3a"
             ],
             [
              0.8888888888888888,
              "#fdca26"
             ],
             [
              1,
              "#f0f921"
             ]
            ],
            "type": "heatmapgl"
           }
          ],
          "histogram": [
           {
            "marker": {
             "pattern": {
              "fillmode": "overlay",
              "size": 10,
              "solidity": 0.2
             }
            },
            "type": "histogram"
           }
          ],
          "histogram2d": [
           {
            "colorbar": {
             "outlinewidth": 0,
             "ticks": ""
            },
            "colorscale": [
             [
              0,
              "#0d0887"
             ],
             [
              0.1111111111111111,
              "#46039f"
             ],
             [
              0.2222222222222222,
              "#7201a8"
             ],
             [
              0.3333333333333333,
              "#9c179e"
             ],
             [
              0.4444444444444444,
              "#bd3786"
             ],
             [
              0.5555555555555556,
              "#d8576b"
             ],
             [
              0.6666666666666666,
              "#ed7953"
             ],
             [
              0.7777777777777778,
              "#fb9f3a"
             ],
             [
              0.8888888888888888,
              "#fdca26"
             ],
             [
              1,
              "#f0f921"
             ]
            ],
            "type": "histogram2d"
           }
          ],
          "histogram2dcontour": [
           {
            "colorbar": {
             "outlinewidth": 0,
             "ticks": ""
            },
            "colorscale": [
             [
              0,
              "#0d0887"
             ],
             [
              0.1111111111111111,
              "#46039f"
             ],
             [
              0.2222222222222222,
              "#7201a8"
             ],
             [
              0.3333333333333333,
              "#9c179e"
             ],
             [
              0.4444444444444444,
              "#bd3786"
             ],
             [
              0.5555555555555556,
              "#d8576b"
             ],
             [
              0.6666666666666666,
              "#ed7953"
             ],
             [
              0.7777777777777778,
              "#fb9f3a"
             ],
             [
              0.8888888888888888,
              "#fdca26"
             ],
             [
              1,
              "#f0f921"
             ]
            ],
            "type": "histogram2dcontour"
           }
          ],
          "mesh3d": [
           {
            "colorbar": {
             "outlinewidth": 0,
             "ticks": ""
            },
            "type": "mesh3d"
           }
          ],
          "parcoords": [
           {
            "line": {
             "colorbar": {
              "outlinewidth": 0,
              "ticks": ""
             }
            },
            "type": "parcoords"
           }
          ],
          "pie": [
           {
            "automargin": true,
            "type": "pie"
           }
          ],
          "scatter": [
           {
            "fillpattern": {
             "fillmode": "overlay",
             "size": 10,
             "solidity": 0.2
            },
            "type": "scatter"
           }
          ],
          "scatter3d": [
           {
            "line": {
             "colorbar": {
              "outlinewidth": 0,
              "ticks": ""
             }
            },
            "marker": {
             "colorbar": {
              "outlinewidth": 0,
              "ticks": ""
             }
            },
            "type": "scatter3d"
           }
          ],
          "scattercarpet": [
           {
            "marker": {
             "colorbar": {
              "outlinewidth": 0,
              "ticks": ""
             }
            },
            "type": "scattercarpet"
           }
          ],
          "scattergeo": [
           {
            "marker": {
             "colorbar": {
              "outlinewidth": 0,
              "ticks": ""
             }
            },
            "type": "scattergeo"
           }
          ],
          "scattergl": [
           {
            "marker": {
             "colorbar": {
              "outlinewidth": 0,
              "ticks": ""
             }
            },
            "type": "scattergl"
           }
          ],
          "scattermapbox": [
           {
            "marker": {
             "colorbar": {
              "outlinewidth": 0,
              "ticks": ""
             }
            },
            "type": "scattermapbox"
           }
          ],
          "scatterpolar": [
           {
            "marker": {
             "colorbar": {
              "outlinewidth": 0,
              "ticks": ""
             }
            },
            "type": "scatterpolar"
           }
          ],
          "scatterpolargl": [
           {
            "marker": {
             "colorbar": {
              "outlinewidth": 0,
              "ticks": ""
             }
            },
            "type": "scatterpolargl"
           }
          ],
          "scatterternary": [
           {
            "marker": {
             "colorbar": {
              "outlinewidth": 0,
              "ticks": ""
             }
            },
            "type": "scatterternary"
           }
          ],
          "surface": [
           {
            "colorbar": {
             "outlinewidth": 0,
             "ticks": ""
            },
            "colorscale": [
             [
              0,
              "#0d0887"
             ],
             [
              0.1111111111111111,
              "#46039f"
             ],
             [
              0.2222222222222222,
              "#7201a8"
             ],
             [
              0.3333333333333333,
              "#9c179e"
             ],
             [
              0.4444444444444444,
              "#bd3786"
             ],
             [
              0.5555555555555556,
              "#d8576b"
             ],
             [
              0.6666666666666666,
              "#ed7953"
             ],
             [
              0.7777777777777778,
              "#fb9f3a"
             ],
             [
              0.8888888888888888,
              "#fdca26"
             ],
             [
              1,
              "#f0f921"
             ]
            ],
            "type": "surface"
           }
          ],
          "table": [
           {
            "cells": {
             "fill": {
              "color": "#EBF0F8"
             },
             "line": {
              "color": "white"
             }
            },
            "header": {
             "fill": {
              "color": "#C8D4E3"
             },
             "line": {
              "color": "white"
             }
            },
            "type": "table"
           }
          ]
         },
         "layout": {
          "annotationdefaults": {
           "arrowcolor": "#2a3f5f",
           "arrowhead": 0,
           "arrowwidth": 1
          },
          "autotypenumbers": "strict",
          "coloraxis": {
           "colorbar": {
            "outlinewidth": 0,
            "ticks": ""
           }
          },
          "colorscale": {
           "diverging": [
            [
             0,
             "#8e0152"
            ],
            [
             0.1,
             "#c51b7d"
            ],
            [
             0.2,
             "#de77ae"
            ],
            [
             0.3,
             "#f1b6da"
            ],
            [
             0.4,
             "#fde0ef"
            ],
            [
             0.5,
             "#f7f7f7"
            ],
            [
             0.6,
             "#e6f5d0"
            ],
            [
             0.7,
             "#b8e186"
            ],
            [
             0.8,
             "#7fbc41"
            ],
            [
             0.9,
             "#4d9221"
            ],
            [
             1,
             "#276419"
            ]
           ],
           "sequential": [
            [
             0,
             "#0d0887"
            ],
            [
             0.1111111111111111,
             "#46039f"
            ],
            [
             0.2222222222222222,
             "#7201a8"
            ],
            [
             0.3333333333333333,
             "#9c179e"
            ],
            [
             0.4444444444444444,
             "#bd3786"
            ],
            [
             0.5555555555555556,
             "#d8576b"
            ],
            [
             0.6666666666666666,
             "#ed7953"
            ],
            [
             0.7777777777777778,
             "#fb9f3a"
            ],
            [
             0.8888888888888888,
             "#fdca26"
            ],
            [
             1,
             "#f0f921"
            ]
           ],
           "sequentialminus": [
            [
             0,
             "#0d0887"
            ],
            [
             0.1111111111111111,
             "#46039f"
            ],
            [
             0.2222222222222222,
             "#7201a8"
            ],
            [
             0.3333333333333333,
             "#9c179e"
            ],
            [
             0.4444444444444444,
             "#bd3786"
            ],
            [
             0.5555555555555556,
             "#d8576b"
            ],
            [
             0.6666666666666666,
             "#ed7953"
            ],
            [
             0.7777777777777778,
             "#fb9f3a"
            ],
            [
             0.8888888888888888,
             "#fdca26"
            ],
            [
             1,
             "#f0f921"
            ]
           ]
          },
          "colorway": [
           "#636efa",
           "#EF553B",
           "#00cc96",
           "#ab63fa",
           "#FFA15A",
           "#19d3f3",
           "#FF6692",
           "#B6E880",
           "#FF97FF",
           "#FECB52"
          ],
          "font": {
           "color": "#2a3f5f"
          },
          "geo": {
           "bgcolor": "white",
           "lakecolor": "white",
           "landcolor": "#E5ECF6",
           "showlakes": true,
           "showland": true,
           "subunitcolor": "white"
          },
          "hoverlabel": {
           "align": "left"
          },
          "hovermode": "closest",
          "mapbox": {
           "style": "light"
          },
          "paper_bgcolor": "white",
          "plot_bgcolor": "#E5ECF6",
          "polar": {
           "angularaxis": {
            "gridcolor": "white",
            "linecolor": "white",
            "ticks": ""
           },
           "bgcolor": "#E5ECF6",
           "radialaxis": {
            "gridcolor": "white",
            "linecolor": "white",
            "ticks": ""
           }
          },
          "scene": {
           "xaxis": {
            "backgroundcolor": "#E5ECF6",
            "gridcolor": "white",
            "gridwidth": 2,
            "linecolor": "white",
            "showbackground": true,
            "ticks": "",
            "zerolinecolor": "white"
           },
           "yaxis": {
            "backgroundcolor": "#E5ECF6",
            "gridcolor": "white",
            "gridwidth": 2,
            "linecolor": "white",
            "showbackground": true,
            "ticks": "",
            "zerolinecolor": "white"
           },
           "zaxis": {
            "backgroundcolor": "#E5ECF6",
            "gridcolor": "white",
            "gridwidth": 2,
            "linecolor": "white",
            "showbackground": true,
            "ticks": "",
            "zerolinecolor": "white"
           }
          },
          "shapedefaults": {
           "line": {
            "color": "#2a3f5f"
           }
          },
          "ternary": {
           "aaxis": {
            "gridcolor": "white",
            "linecolor": "white",
            "ticks": ""
           },
           "baxis": {
            "gridcolor": "white",
            "linecolor": "white",
            "ticks": ""
           },
           "bgcolor": "#E5ECF6",
           "caxis": {
            "gridcolor": "white",
            "linecolor": "white",
            "ticks": ""
           }
          },
          "title": {
           "x": 0.05
          },
          "xaxis": {
           "automargin": true,
           "gridcolor": "white",
           "linecolor": "white",
           "ticks": "",
           "title": {
            "standoff": 15
           },
           "zerolinecolor": "white",
           "zerolinewidth": 2
          },
          "yaxis": {
           "automargin": true,
           "gridcolor": "white",
           "linecolor": "white",
           "ticks": "",
           "title": {
            "standoff": 15
           },
           "zerolinecolor": "white",
           "zerolinewidth": 2
          }
         }
        },
        "xaxis": {
         "anchor": "y",
         "domain": [
          0,
          1
         ],
         "title": {
          "text": "Number of replications"
         }
        },
        "yaxis": {
         "anchor": "x",
         "domain": [
          0,
          1
         ],
         "title": {
          "text": "adj_mean_nurse_utilisation"
         }
        }
       }
      }
     },
     "metadata": {},
     "output_type": "display_data"
    }
   ],
   "source": [
    "confidence_interval_method(\n",
    "    replications=20,\n",
    "    metric='mean_nurse_utilisation',\n",
    "    desired_precision=0.05,\n",
    "    min_rep=3\n",
    ")"
   ]
  },
  {
   "cell_type": "markdown",
   "metadata": {},
   "source": [
    "## Run time with varying number of CPU cores"
   ]
  },
  {
   "cell_type": "code",
   "execution_count": 11,
   "metadata": {},
   "outputs": [
    {
     "name": "stdout",
     "output_type": "stream",
     "text": [
      "   cores  run_time\n",
      "0      1     4.340\n",
      "1      2     3.241\n",
      "2      3     2.260\n",
      "3      4     1.918\n",
      "4      5     1.726\n",
      "5      6     1.709\n",
      "6      7     1.704\n",
      "7      8     0.993\n"
     ]
    },
    {
     "data": {
      "application/vnd.plotly.v1+json": {
       "config": {
        "plotlyServerURL": "https://plot.ly"
       },
       "data": [
        {
         "hovertemplate": "cores=%{x}<br>run_time=%{y}<extra></extra>",
         "legendgroup": "",
         "line": {
          "color": "#636efa",
          "dash": "solid"
         },
         "marker": {
          "symbol": "circle"
         },
         "mode": "lines",
         "name": "",
         "orientation": "v",
         "showlegend": false,
         "type": "scatter",
         "x": [
          1,
          2,
          3,
          4,
          5,
          6,
          7,
          8
         ],
         "xaxis": "x",
         "y": [
          4.34,
          3.241,
          2.26,
          1.918,
          1.726,
          1.709,
          1.704,
          0.993
         ],
         "yaxis": "y"
        }
       ],
       "layout": {
        "legend": {
         "tracegroupgap": 0
        },
        "margin": {
         "t": 60
        },
        "template": {
         "data": {
          "bar": [
           {
            "error_x": {
             "color": "#2a3f5f"
            },
            "error_y": {
             "color": "#2a3f5f"
            },
            "marker": {
             "line": {
              "color": "#E5ECF6",
              "width": 0.5
             },
             "pattern": {
              "fillmode": "overlay",
              "size": 10,
              "solidity": 0.2
             }
            },
            "type": "bar"
           }
          ],
          "barpolar": [
           {
            "marker": {
             "line": {
              "color": "#E5ECF6",
              "width": 0.5
             },
             "pattern": {
              "fillmode": "overlay",
              "size": 10,
              "solidity": 0.2
             }
            },
            "type": "barpolar"
           }
          ],
          "carpet": [
           {
            "aaxis": {
             "endlinecolor": "#2a3f5f",
             "gridcolor": "white",
             "linecolor": "white",
             "minorgridcolor": "white",
             "startlinecolor": "#2a3f5f"
            },
            "baxis": {
             "endlinecolor": "#2a3f5f",
             "gridcolor": "white",
             "linecolor": "white",
             "minorgridcolor": "white",
             "startlinecolor": "#2a3f5f"
            },
            "type": "carpet"
           }
          ],
          "choropleth": [
           {
            "colorbar": {
             "outlinewidth": 0,
             "ticks": ""
            },
            "type": "choropleth"
           }
          ],
          "contour": [
           {
            "colorbar": {
             "outlinewidth": 0,
             "ticks": ""
            },
            "colorscale": [
             [
              0,
              "#0d0887"
             ],
             [
              0.1111111111111111,
              "#46039f"
             ],
             [
              0.2222222222222222,
              "#7201a8"
             ],
             [
              0.3333333333333333,
              "#9c179e"
             ],
             [
              0.4444444444444444,
              "#bd3786"
             ],
             [
              0.5555555555555556,
              "#d8576b"
             ],
             [
              0.6666666666666666,
              "#ed7953"
             ],
             [
              0.7777777777777778,
              "#fb9f3a"
             ],
             [
              0.8888888888888888,
              "#fdca26"
             ],
             [
              1,
              "#f0f921"
             ]
            ],
            "type": "contour"
           }
          ],
          "contourcarpet": [
           {
            "colorbar": {
             "outlinewidth": 0,
             "ticks": ""
            },
            "type": "contourcarpet"
           }
          ],
          "heatmap": [
           {
            "colorbar": {
             "outlinewidth": 0,
             "ticks": ""
            },
            "colorscale": [
             [
              0,
              "#0d0887"
             ],
             [
              0.1111111111111111,
              "#46039f"
             ],
             [
              0.2222222222222222,
              "#7201a8"
             ],
             [
              0.3333333333333333,
              "#9c179e"
             ],
             [
              0.4444444444444444,
              "#bd3786"
             ],
             [
              0.5555555555555556,
              "#d8576b"
             ],
             [
              0.6666666666666666,
              "#ed7953"
             ],
             [
              0.7777777777777778,
              "#fb9f3a"
             ],
             [
              0.8888888888888888,
              "#fdca26"
             ],
             [
              1,
              "#f0f921"
             ]
            ],
            "type": "heatmap"
           }
          ],
          "heatmapgl": [
           {
            "colorbar": {
             "outlinewidth": 0,
             "ticks": ""
            },
            "colorscale": [
             [
              0,
              "#0d0887"
             ],
             [
              0.1111111111111111,
              "#46039f"
             ],
             [
              0.2222222222222222,
              "#7201a8"
             ],
             [
              0.3333333333333333,
              "#9c179e"
             ],
             [
              0.4444444444444444,
              "#bd3786"
             ],
             [
              0.5555555555555556,
              "#d8576b"
             ],
             [
              0.6666666666666666,
              "#ed7953"
             ],
             [
              0.7777777777777778,
              "#fb9f3a"
             ],
             [
              0.8888888888888888,
              "#fdca26"
             ],
             [
              1,
              "#f0f921"
             ]
            ],
            "type": "heatmapgl"
           }
          ],
          "histogram": [
           {
            "marker": {
             "pattern": {
              "fillmode": "overlay",
              "size": 10,
              "solidity": 0.2
             }
            },
            "type": "histogram"
           }
          ],
          "histogram2d": [
           {
            "colorbar": {
             "outlinewidth": 0,
             "ticks": ""
            },
            "colorscale": [
             [
              0,
              "#0d0887"
             ],
             [
              0.1111111111111111,
              "#46039f"
             ],
             [
              0.2222222222222222,
              "#7201a8"
             ],
             [
              0.3333333333333333,
              "#9c179e"
             ],
             [
              0.4444444444444444,
              "#bd3786"
             ],
             [
              0.5555555555555556,
              "#d8576b"
             ],
             [
              0.6666666666666666,
              "#ed7953"
             ],
             [
              0.7777777777777778,
              "#fb9f3a"
             ],
             [
              0.8888888888888888,
              "#fdca26"
             ],
             [
              1,
              "#f0f921"
             ]
            ],
            "type": "histogram2d"
           }
          ],
          "histogram2dcontour": [
           {
            "colorbar": {
             "outlinewidth": 0,
             "ticks": ""
            },
            "colorscale": [
             [
              0,
              "#0d0887"
             ],
             [
              0.1111111111111111,
              "#46039f"
             ],
             [
              0.2222222222222222,
              "#7201a8"
             ],
             [
              0.3333333333333333,
              "#9c179e"
             ],
             [
              0.4444444444444444,
              "#bd3786"
             ],
             [
              0.5555555555555556,
              "#d8576b"
             ],
             [
              0.6666666666666666,
              "#ed7953"
             ],
             [
              0.7777777777777778,
              "#fb9f3a"
             ],
             [
              0.8888888888888888,
              "#fdca26"
             ],
             [
              1,
              "#f0f921"
             ]
            ],
            "type": "histogram2dcontour"
           }
          ],
          "mesh3d": [
           {
            "colorbar": {
             "outlinewidth": 0,
             "ticks": ""
            },
            "type": "mesh3d"
           }
          ],
          "parcoords": [
           {
            "line": {
             "colorbar": {
              "outlinewidth": 0,
              "ticks": ""
             }
            },
            "type": "parcoords"
           }
          ],
          "pie": [
           {
            "automargin": true,
            "type": "pie"
           }
          ],
          "scatter": [
           {
            "fillpattern": {
             "fillmode": "overlay",
             "size": 10,
             "solidity": 0.2
            },
            "type": "scatter"
           }
          ],
          "scatter3d": [
           {
            "line": {
             "colorbar": {
              "outlinewidth": 0,
              "ticks": ""
             }
            },
            "marker": {
             "colorbar": {
              "outlinewidth": 0,
              "ticks": ""
             }
            },
            "type": "scatter3d"
           }
          ],
          "scattercarpet": [
           {
            "marker": {
             "colorbar": {
              "outlinewidth": 0,
              "ticks": ""
             }
            },
            "type": "scattercarpet"
           }
          ],
          "scattergeo": [
           {
            "marker": {
             "colorbar": {
              "outlinewidth": 0,
              "ticks": ""
             }
            },
            "type": "scattergeo"
           }
          ],
          "scattergl": [
           {
            "marker": {
             "colorbar": {
              "outlinewidth": 0,
              "ticks": ""
             }
            },
            "type": "scattergl"
           }
          ],
          "scattermapbox": [
           {
            "marker": {
             "colorbar": {
              "outlinewidth": 0,
              "ticks": ""
             }
            },
            "type": "scattermapbox"
           }
          ],
          "scatterpolar": [
           {
            "marker": {
             "colorbar": {
              "outlinewidth": 0,
              "ticks": ""
             }
            },
            "type": "scatterpolar"
           }
          ],
          "scatterpolargl": [
           {
            "marker": {
             "colorbar": {
              "outlinewidth": 0,
              "ticks": ""
             }
            },
            "type": "scatterpolargl"
           }
          ],
          "scatterternary": [
           {
            "marker": {
             "colorbar": {
              "outlinewidth": 0,
              "ticks": ""
             }
            },
            "type": "scatterternary"
           }
          ],
          "surface": [
           {
            "colorbar": {
             "outlinewidth": 0,
             "ticks": ""
            },
            "colorscale": [
             [
              0,
              "#0d0887"
             ],
             [
              0.1111111111111111,
              "#46039f"
             ],
             [
              0.2222222222222222,
              "#7201a8"
             ],
             [
              0.3333333333333333,
              "#9c179e"
             ],
             [
              0.4444444444444444,
              "#bd3786"
             ],
             [
              0.5555555555555556,
              "#d8576b"
             ],
             [
              0.6666666666666666,
              "#ed7953"
             ],
             [
              0.7777777777777778,
              "#fb9f3a"
             ],
             [
              0.8888888888888888,
              "#fdca26"
             ],
             [
              1,
              "#f0f921"
             ]
            ],
            "type": "surface"
           }
          ],
          "table": [
           {
            "cells": {
             "fill": {
              "color": "#EBF0F8"
             },
             "line": {
              "color": "white"
             }
            },
            "header": {
             "fill": {
              "color": "#C8D4E3"
             },
             "line": {
              "color": "white"
             }
            },
            "type": "table"
           }
          ]
         },
         "layout": {
          "annotationdefaults": {
           "arrowcolor": "#2a3f5f",
           "arrowhead": 0,
           "arrowwidth": 1
          },
          "autotypenumbers": "strict",
          "coloraxis": {
           "colorbar": {
            "outlinewidth": 0,
            "ticks": ""
           }
          },
          "colorscale": {
           "diverging": [
            [
             0,
             "#8e0152"
            ],
            [
             0.1,
             "#c51b7d"
            ],
            [
             0.2,
             "#de77ae"
            ],
            [
             0.3,
             "#f1b6da"
            ],
            [
             0.4,
             "#fde0ef"
            ],
            [
             0.5,
             "#f7f7f7"
            ],
            [
             0.6,
             "#e6f5d0"
            ],
            [
             0.7,
             "#b8e186"
            ],
            [
             0.8,
             "#7fbc41"
            ],
            [
             0.9,
             "#4d9221"
            ],
            [
             1,
             "#276419"
            ]
           ],
           "sequential": [
            [
             0,
             "#0d0887"
            ],
            [
             0.1111111111111111,
             "#46039f"
            ],
            [
             0.2222222222222222,
             "#7201a8"
            ],
            [
             0.3333333333333333,
             "#9c179e"
            ],
            [
             0.4444444444444444,
             "#bd3786"
            ],
            [
             0.5555555555555556,
             "#d8576b"
            ],
            [
             0.6666666666666666,
             "#ed7953"
            ],
            [
             0.7777777777777778,
             "#fb9f3a"
            ],
            [
             0.8888888888888888,
             "#fdca26"
            ],
            [
             1,
             "#f0f921"
            ]
           ],
           "sequentialminus": [
            [
             0,
             "#0d0887"
            ],
            [
             0.1111111111111111,
             "#46039f"
            ],
            [
             0.2222222222222222,
             "#7201a8"
            ],
            [
             0.3333333333333333,
             "#9c179e"
            ],
            [
             0.4444444444444444,
             "#bd3786"
            ],
            [
             0.5555555555555556,
             "#d8576b"
            ],
            [
             0.6666666666666666,
             "#ed7953"
            ],
            [
             0.7777777777777778,
             "#fb9f3a"
            ],
            [
             0.8888888888888888,
             "#fdca26"
            ],
            [
             1,
             "#f0f921"
            ]
           ]
          },
          "colorway": [
           "#636efa",
           "#EF553B",
           "#00cc96",
           "#ab63fa",
           "#FFA15A",
           "#19d3f3",
           "#FF6692",
           "#B6E880",
           "#FF97FF",
           "#FECB52"
          ],
          "font": {
           "color": "#2a3f5f"
          },
          "geo": {
           "bgcolor": "white",
           "lakecolor": "white",
           "landcolor": "#E5ECF6",
           "showlakes": true,
           "showland": true,
           "subunitcolor": "white"
          },
          "hoverlabel": {
           "align": "left"
          },
          "hovermode": "closest",
          "mapbox": {
           "style": "light"
          },
          "paper_bgcolor": "white",
          "plot_bgcolor": "#E5ECF6",
          "polar": {
           "angularaxis": {
            "gridcolor": "white",
            "linecolor": "white",
            "ticks": ""
           },
           "bgcolor": "#E5ECF6",
           "radialaxis": {
            "gridcolor": "white",
            "linecolor": "white",
            "ticks": ""
           }
          },
          "scene": {
           "xaxis": {
            "backgroundcolor": "#E5ECF6",
            "gridcolor": "white",
            "gridwidth": 2,
            "linecolor": "white",
            "showbackground": true,
            "ticks": "",
            "zerolinecolor": "white"
           },
           "yaxis": {
            "backgroundcolor": "#E5ECF6",
            "gridcolor": "white",
            "gridwidth": 2,
            "linecolor": "white",
            "showbackground": true,
            "ticks": "",
            "zerolinecolor": "white"
           },
           "zaxis": {
            "backgroundcolor": "#E5ECF6",
            "gridcolor": "white",
            "gridwidth": 2,
            "linecolor": "white",
            "showbackground": true,
            "ticks": "",
            "zerolinecolor": "white"
           }
          },
          "shapedefaults": {
           "line": {
            "color": "#2a3f5f"
           }
          },
          "ternary": {
           "aaxis": {
            "gridcolor": "white",
            "linecolor": "white",
            "ticks": ""
           },
           "baxis": {
            "gridcolor": "white",
            "linecolor": "white",
            "ticks": ""
           },
           "bgcolor": "#E5ECF6",
           "caxis": {
            "gridcolor": "white",
            "linecolor": "white",
            "ticks": ""
           }
          },
          "title": {
           "x": 0.05
          },
          "xaxis": {
           "automargin": true,
           "gridcolor": "white",
           "linecolor": "white",
           "ticks": "",
           "title": {
            "standoff": 15
           },
           "zerolinecolor": "white",
           "zerolinewidth": 2
          },
          "yaxis": {
           "automargin": true,
           "gridcolor": "white",
           "linecolor": "white",
           "ticks": "",
           "title": {
            "standoff": 15
           },
           "zerolinecolor": "white",
           "zerolinewidth": 2
          }
         }
        },
        "xaxis": {
         "anchor": "y",
         "domain": [
          0,
          1
         ],
         "title": {
          "text": "Number of cores"
         }
        },
        "yaxis": {
         "anchor": "x",
         "domain": [
          0,
          1
         ],
         "title": {
          "text": "Run time (seconds)"
         }
        }
       }
      }
     },
     "metadata": {},
     "output_type": "display_data"
    }
   ],
   "source": [
    "# Run with 1 to 8 cores\n",
    "speed = []\n",
    "for i in range(1, 9):\n",
    "    start_time = time.time()\n",
    "\n",
    "    param = Defaults()\n",
    "    param.cores = i\n",
    "    my_trial = Trial(param)\n",
    "    my_trial.run_trial()\n",
    "\n",
    "    run_time = round((time.time() - start_time), 3)\n",
    "    speed.append({'cores': i, 'run_time': run_time})\n",
    "\n",
    "# Display and plot time by number of cores\n",
    "timing_results = pd.DataFrame(speed)\n",
    "print(timing_results)\n",
    "fig = px.line(timing_results, x='cores', y='run_time')\n",
    "fig.update_layout(\n",
    "    xaxis_title='Number of cores',\n",
    "    yaxis_title='Run time (seconds)'\n",
    ")\n",
    "fig.show()"
   ]
  }
 ],
 "metadata": {
  "kernelspec": {
   "display_name": "template-des",
   "language": "python",
   "name": "python3"
  },
  "language_info": {
   "codemirror_mode": {
    "name": "ipython",
    "version": 3
   },
   "file_extension": ".py",
   "mimetype": "text/x-python",
   "name": "python",
   "nbconvert_exporter": "python",
   "pygments_lexer": "ipython3",
   "version": "3.13.0"
  }
 },
 "nbformat": 4,
 "nbformat_minor": 2
}
